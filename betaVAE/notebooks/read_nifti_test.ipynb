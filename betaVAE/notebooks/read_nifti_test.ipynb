{
 "cells": [
  {
   "cell_type": "code",
   "execution_count": 47,
   "metadata": {},
   "outputs": [],
   "source": [
    "import numpy as np\n",
    "from soma import aims"
   ]
  },
  {
   "cell_type": "code",
   "execution_count": 48,
   "metadata": {},
   "outputs": [],
   "source": [
    "vol1 = aims.read('/neurospin/dico/data/deep_folding/current/40wks_baby/mask/2mm/R/S.T.s._preterm_right.nii.gz')\n",
    "vol2 = aims.read('/neurospin/dico/data/deep_folding/current/40wks_baby/mask/2mm/R/S.T.s._fullterm_right.nii.gz')\n",
    "vol3 = aims.read('/neurospin/dico/data/deep_folding/current/40wks_baby/mask/2mm/R/S.T.s._right.nii.gz')"
   ]
  },
  {
   "cell_type": "code",
   "execution_count": 49,
   "metadata": {},
   "outputs": [],
   "source": [
    "vol4 = aims.read('/neurospin/dico/data/deep_folding/current/40wks_baby/mask/2mm/L/S.T.s._fullterm_left.nii.gz')\n",
    "vol5 = aims.read('/neurospin/dico/data/deep_folding/current/40wks_baby/mask/2mm/L/S.T.s._preterm_left.nii.gz')"
   ]
  },
  {
   "cell_type": "code",
   "execution_count": 50,
   "metadata": {},
   "outputs": [],
   "source": [
    "vol1 = vol1.np\n",
    "vol2 = vol2.np\n",
    "vol3 = vol3.np\n",
    "vol4 = vol4.np\n",
    "vol5 = vol5.np"
   ]
  },
  {
   "cell_type": "code",
   "execution_count": 51,
   "metadata": {},
   "outputs": [],
   "source": [
    "threshold=0"
   ]
  },
  {
   "cell_type": "code",
   "execution_count": 52,
   "metadata": {},
   "outputs": [
    {
     "data": {
      "text/plain": [
       "8113"
      ]
     },
     "execution_count": 52,
     "metadata": {},
     "output_type": "execute_result"
    }
   ],
   "source": [
    "vol = np.logical_or(vol1 > threshold,vol2 > threshold)\n",
    "np.sum(vol)"
   ]
  },
  {
   "cell_type": "code",
   "execution_count": 53,
   "metadata": {},
   "outputs": [
    {
     "data": {
      "text/plain": [
       "8911"
      ]
     },
     "execution_count": 53,
     "metadata": {},
     "output_type": "execute_result"
    }
   ],
   "source": [
    "np.sum(vol3>0)"
   ]
  },
  {
   "cell_type": "code",
   "execution_count": 54,
   "metadata": {},
   "outputs": [
    {
     "data": {
      "text/plain": [
       "0"
      ]
     },
     "execution_count": 54,
     "metadata": {},
     "output_type": "execute_result"
    }
   ],
   "source": [
    "np.sum(np.logical_or(vol4>0, vol5>0))"
   ]
  }
 ],
 "metadata": {
  "kernelspec": {
   "display_name": "Python 3",
   "language": "python",
   "name": "python3"
  },
  "language_info": {
   "codemirror_mode": {
    "name": "ipython",
    "version": 3
   },
   "file_extension": ".py",
   "mimetype": "text/x-python",
   "name": "python",
   "nbconvert_exporter": "python",
   "pygments_lexer": "ipython3",
   "version": "3.10.6"
  }
 },
 "nbformat": 4,
 "nbformat_minor": 2
}
