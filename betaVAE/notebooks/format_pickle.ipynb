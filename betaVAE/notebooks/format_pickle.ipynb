{
 "cells": [
  {
   "cell_type": "markdown",
   "metadata": {},
   "source": [
    "This notebook aims at formatting Rskeleton.pkl to the right format for training"
   ]
  },
  {
   "cell_type": "code",
   "execution_count": 8,
   "metadata": {},
   "outputs": [],
   "source": [
    "import pickle\n",
    "import pandas as pd"
   ]
  },
  {
   "cell_type": "code",
   "execution_count": 9,
   "metadata": {},
   "outputs": [],
   "source": [
    "#pkl_dir  = '/neurospin/dico/data/deep_folding/current/datasets/UkBioBank/crops/2mm/S.T.s.baby/mask/'\n",
    "pkl_dir  = '/neurospin/dico/data/deep_folding/current/datasets/UkBioBank/crops/2mm/CINGULATE.baby/mask/'\n"
   ]
  },
  {
   "cell_type": "code",
   "execution_count": 10,
   "metadata": {},
   "outputs": [],
   "source": [
    "with open(pkl_dir+'Rskeleton.pkl', 'rb') as f:\n",
    "    a = pickle.load(f)"
   ]
  },
  {
   "cell_type": "code",
   "execution_count": 6,
   "metadata": {},
   "outputs": [
    {
     "data": {
      "text/html": [
       "<div>\n",
       "<style scoped>\n",
       "    .dataframe tbody tr th:only-of-type {\n",
       "        vertical-align: middle;\n",
       "    }\n",
       "\n",
       "    .dataframe tbody tr th {\n",
       "        vertical-align: top;\n",
       "    }\n",
       "\n",
       "    .dataframe thead th {\n",
       "        text-align: right;\n",
       "    }\n",
       "</style>\n",
       "<table border=\"1\" class=\"dataframe\">\n",
       "  <thead>\n",
       "    <tr style=\"text-align: right;\">\n",
       "      <th></th>\n",
       "      <th>sub-1000021</th>\n",
       "      <th>sub-1000458</th>\n",
       "      <th>sub-1000575</th>\n",
       "      <th>sub-1000606</th>\n",
       "      <th>sub-1000963</th>\n",
       "      <th>sub-1001428</th>\n",
       "      <th>sub-1001444</th>\n",
       "      <th>sub-1002188</th>\n",
       "      <th>sub-1002584</th>\n",
       "      <th>sub-1002622</th>\n",
       "      <th>...</th>\n",
       "      <th>sub-6021771</th>\n",
       "      <th>sub-6021833</th>\n",
       "      <th>sub-6021898</th>\n",
       "      <th>sub-6022058</th>\n",
       "      <th>sub-6022449</th>\n",
       "      <th>sub-6023469</th>\n",
       "      <th>sub-6023808</th>\n",
       "      <th>sub-6023847</th>\n",
       "      <th>sub-6024038</th>\n",
       "      <th>sub-6024754</th>\n",
       "    </tr>\n",
       "  </thead>\n",
       "  <tbody>\n",
       "    <tr>\n",
       "      <th>0</th>\n",
       "      <td>[[[[0], [0], [0], [0], [0], [0], [0], [0], [0]...</td>\n",
       "      <td>[[[[0], [0], [0], [0], [0], [0], [0], [0], [0]...</td>\n",
       "      <td>[[[[0], [0], [0], [0], [0], [0], [0], [0], [0]...</td>\n",
       "      <td>[[[[0], [0], [0], [0], [0], [0], [0], [0], [0]...</td>\n",
       "      <td>[[[[0], [0], [0], [0], [0], [0], [0], [0], [0]...</td>\n",
       "      <td>[[[[0], [0], [0], [0], [0], [0], [0], [0], [0]...</td>\n",
       "      <td>[[[[0], [0], [0], [0], [0], [0], [0], [0], [0]...</td>\n",
       "      <td>[[[[0], [0], [0], [0], [0], [0], [0], [0], [0]...</td>\n",
       "      <td>[[[[0], [0], [0], [0], [0], [0], [0], [0], [0]...</td>\n",
       "      <td>[[[[0], [0], [0], [0], [0], [0], [0], [0], [0]...</td>\n",
       "      <td>...</td>\n",
       "      <td>[[[[0], [0], [0], [0], [0], [0], [0], [0], [0]...</td>\n",
       "      <td>[[[[0], [0], [0], [0], [0], [0], [0], [0], [0]...</td>\n",
       "      <td>[[[[0], [0], [0], [0], [0], [0], [0], [0], [0]...</td>\n",
       "      <td>[[[[0], [0], [0], [0], [0], [0], [0], [0], [0]...</td>\n",
       "      <td>[[[[0], [0], [0], [0], [0], [0], [0], [0], [0]...</td>\n",
       "      <td>[[[[0], [0], [0], [0], [0], [0], [0], [0], [0]...</td>\n",
       "      <td>[[[[0], [0], [0], [0], [0], [0], [0], [0], [0]...</td>\n",
       "      <td>[[[[0], [0], [0], [0], [0], [0], [0], [0], [0]...</td>\n",
       "      <td>[[[[0], [0], [0], [0], [0], [0], [0], [0], [0]...</td>\n",
       "      <td>[[[[0], [0], [0], [0], [0], [0], [0], [0], [0]...</td>\n",
       "    </tr>\n",
       "  </tbody>\n",
       "</table>\n",
       "<p>1 rows × 21052 columns</p>\n",
       "</div>"
      ],
      "text/plain": [
       "                                         sub-1000021  \\\n",
       "0  [[[[0], [0], [0], [0], [0], [0], [0], [0], [0]...   \n",
       "\n",
       "                                         sub-1000458  \\\n",
       "0  [[[[0], [0], [0], [0], [0], [0], [0], [0], [0]...   \n",
       "\n",
       "                                         sub-1000575  \\\n",
       "0  [[[[0], [0], [0], [0], [0], [0], [0], [0], [0]...   \n",
       "\n",
       "                                         sub-1000606  \\\n",
       "0  [[[[0], [0], [0], [0], [0], [0], [0], [0], [0]...   \n",
       "\n",
       "                                         sub-1000963  \\\n",
       "0  [[[[0], [0], [0], [0], [0], [0], [0], [0], [0]...   \n",
       "\n",
       "                                         sub-1001428  \\\n",
       "0  [[[[0], [0], [0], [0], [0], [0], [0], [0], [0]...   \n",
       "\n",
       "                                         sub-1001444  \\\n",
       "0  [[[[0], [0], [0], [0], [0], [0], [0], [0], [0]...   \n",
       "\n",
       "                                         sub-1002188  \\\n",
       "0  [[[[0], [0], [0], [0], [0], [0], [0], [0], [0]...   \n",
       "\n",
       "                                         sub-1002584  \\\n",
       "0  [[[[0], [0], [0], [0], [0], [0], [0], [0], [0]...   \n",
       "\n",
       "                                         sub-1002622  ...  \\\n",
       "0  [[[[0], [0], [0], [0], [0], [0], [0], [0], [0]...  ...   \n",
       "\n",
       "                                         sub-6021771  \\\n",
       "0  [[[[0], [0], [0], [0], [0], [0], [0], [0], [0]...   \n",
       "\n",
       "                                         sub-6021833  \\\n",
       "0  [[[[0], [0], [0], [0], [0], [0], [0], [0], [0]...   \n",
       "\n",
       "                                         sub-6021898  \\\n",
       "0  [[[[0], [0], [0], [0], [0], [0], [0], [0], [0]...   \n",
       "\n",
       "                                         sub-6022058  \\\n",
       "0  [[[[0], [0], [0], [0], [0], [0], [0], [0], [0]...   \n",
       "\n",
       "                                         sub-6022449  \\\n",
       "0  [[[[0], [0], [0], [0], [0], [0], [0], [0], [0]...   \n",
       "\n",
       "                                         sub-6023469  \\\n",
       "0  [[[[0], [0], [0], [0], [0], [0], [0], [0], [0]...   \n",
       "\n",
       "                                         sub-6023808  \\\n",
       "0  [[[[0], [0], [0], [0], [0], [0], [0], [0], [0]...   \n",
       "\n",
       "                                         sub-6023847  \\\n",
       "0  [[[[0], [0], [0], [0], [0], [0], [0], [0], [0]...   \n",
       "\n",
       "                                         sub-6024038  \\\n",
       "0  [[[[0], [0], [0], [0], [0], [0], [0], [0], [0]...   \n",
       "\n",
       "                                         sub-6024754  \n",
       "0  [[[[0], [0], [0], [0], [0], [0], [0], [0], [0]...  \n",
       "\n",
       "[1 rows x 21052 columns]"
      ]
     },
     "execution_count": 6,
     "metadata": {},
     "output_type": "execute_result"
    }
   ],
   "source": [
    "a"
   ]
  },
  {
   "cell_type": "code",
   "execution_count": 11,
   "metadata": {},
   "outputs": [],
   "source": [
    "# load skeletons\n",
    "with open(pkl_dir+'Rskeleton.pkl', 'rb') as f:\n",
    "    c = pickle.load(f)"
   ]
  },
  {
   "cell_type": "code",
   "execution_count": 12,
   "metadata": {},
   "outputs": [],
   "source": [
    "# reformat skeletons\n",
    "subjects = c.columns.tolist()\n",
    "subjects = [subject[4:] for subject in subjects]\n",
    "c.columns = subjects\n",
    "d = c.T"
   ]
  },
  {
   "cell_type": "code",
   "execution_count": 13,
   "metadata": {},
   "outputs": [],
   "source": [
    "# save\n",
    "d.to_pickle(pkl_dir+'Rskeleton_str.pkl')"
   ]
  },
  {
   "cell_type": "code",
   "execution_count": 25,
   "metadata": {},
   "outputs": [],
   "source": [
    "# check the format\n",
    "with open(pkl_dir+'Lskeleton_str.pkl', 'rb') as f:\n",
    "    a = pickle.load(f)"
   ]
  },
  {
   "cell_type": "markdown",
   "metadata": {},
   "source": [
    "format Rskeleton subjects"
   ]
  },
  {
   "cell_type": "code",
   "execution_count": 17,
   "metadata": {},
   "outputs": [],
   "source": [
    "subs = pd.read_csv(pkl_dir+'Lskeleton_subject.csv')"
   ]
  },
  {
   "cell_type": "code",
   "execution_count": 21,
   "metadata": {},
   "outputs": [],
   "source": [
    "list_subs = subs['Subject'].tolist()\n",
    "list_subs = [int(elem[4:]) for elem in list_subs]"
   ]
  },
  {
   "cell_type": "markdown",
   "metadata": {},
   "source": [
    "format dHCP"
   ]
  },
  {
   "cell_type": "code",
   "execution_count": 1,
   "metadata": {},
   "outputs": [],
   "source": [
    "pkl_dir  = '/neurospin/dico/data/deep_folding/current/datasets/dHCP_374_subjects/crops/2mm/S.T.s.baby/mask/'"
   ]
  },
  {
   "cell_type": "code",
   "execution_count": 4,
   "metadata": {},
   "outputs": [],
   "source": [
    "with open(pkl_dir+'Lskeleton.pkl', 'rb') as f:\n",
    "    a = pickle.load(f)"
   ]
  },
  {
   "cell_type": "code",
   "execution_count": 6,
   "metadata": {},
   "outputs": [],
   "source": [
    "subjects = a.columns.tolist()\n",
    "subjects = [subject[4:] for subject in subjects]\n",
    "a.columns = subjects\n",
    "b = a.T"
   ]
  },
  {
   "cell_type": "code",
   "execution_count": 7,
   "metadata": {},
   "outputs": [],
   "source": [
    "b.to_pickle(pkl_dir+'Lskeleton_no_sub.pkl')"
   ]
  },
  {
   "cell_type": "code",
   "execution_count": null,
   "metadata": {},
   "outputs": [],
   "source": []
  }
 ],
 "metadata": {
  "kernelspec": {
   "display_name": "Python 3",
   "language": "python",
   "name": "python3"
  },
  "language_info": {
   "codemirror_mode": {
    "name": "ipython",
    "version": 3
   },
   "file_extension": ".py",
   "mimetype": "text/x-python",
   "name": "python",
   "nbconvert_exporter": "python",
   "pygments_lexer": "ipython3",
   "version": "3.10.6"
  }
 },
 "nbformat": 4,
 "nbformat_minor": 2
}
