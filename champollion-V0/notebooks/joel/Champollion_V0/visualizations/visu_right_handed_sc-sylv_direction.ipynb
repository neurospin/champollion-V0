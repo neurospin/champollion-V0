{
 "cells": [
  {
   "cell_type": "code",
   "execution_count": 1,
   "metadata": {},
   "outputs": [
    {
     "name": "stderr",
     "output_type": "stream",
     "text": [
      "/usr/lib/python3/dist-packages/scipy/__init__.py:146: UserWarning: A NumPy version >=1.17.3 and <1.25.0 is required for this version of SciPy (detected version 1.26.4\n",
      "  warnings.warn(f\"A NumPy version >={np_minversion} and <{np_maxversion}\"\n"
     ]
    }
   ],
   "source": [
    "import anatomist.api as ana\n",
    "from soma.qt_gui.qtThread import QtThreadCall\n",
    "from soma.qt_gui.qt_backend import Qt\n",
    "\n",
    "from soma import aims\n",
    "import numpy as np\n",
    "import pandas as pd\n",
    "import os"
   ]
  },
  {
   "cell_type": "code",
   "execution_count": 2,
   "metadata": {},
   "outputs": [
    {
     "name": "stdout",
     "output_type": "stream",
     "text": [
      "create qapp\n",
      "done\n",
      "Starting Anatomist.....\n",
      "config file : /casa/home/.anatomist/config/settings.cfg\n",
      "PyAnatomist Module present\n",
      "PythonLauncher::runModules()\n",
      "global modules: /casa/host/build/share/anatomist-5.2/python_plugins\n",
      "home   modules: /casa/home/.anatomist/python_plugins\n",
      "loading module meshsplit\n",
      "loading module palettecontrols\n",
      "loading module volumepalettes\n"
     ]
    },
    {
     "name": "stderr",
     "output_type": "stream",
     "text": [
      "existing QApplication: 0\n",
      "QStandardPaths: XDG_RUNTIME_DIR not set, defaulting to '/tmp/runtime-jc225751'\n"
     ]
    },
    {
     "name": "stdout",
     "output_type": "stream",
     "text": [
      "loading module save_resampled\n",
      "loading module profilewindow\n",
      "loading module statsplotwindow\n",
      "loading module anacontrolmenu\n",
      "loading module infowindow\n",
      "loading module foldsplit\n",
      "loading module simple_controls\n",
      "loading module histogram\n",
      "loading module valuesplotwindow\n",
      "loading module ana_image_math\n",
      "loading module modelGraphs\n",
      "loading module paletteViewer\n",
      "loading module bsa_proba\n",
      "loading module gradientpalette\n",
      "loading module selection\n",
      "loading module gltf_io\n",
      "all python modules loaded\n",
      "Anatomist started.\n"
     ]
    }
   ],
   "source": [
    "a = ana.Anatomist()"
   ]
  },
  {
   "cell_type": "markdown",
   "metadata": {},
   "source": [
    "### Variable definitions"
   ]
  },
  {
   "cell_type": "code",
   "execution_count": 3,
   "metadata": {},
   "outputs": [],
   "source": [
    "path_to_csv = \"/neurospin/dico/data/deep_folding/current/models/Champollion_V0/SC-sylv_right/13-19-08_28/hcp_custom_embeddings/isRightHanded/test_predicted_probas.csv\""
   ]
  },
  {
   "cell_type": "code",
   "execution_count": 4,
   "metadata": {},
   "outputs": [],
   "source": [
    "df = pd.read_csv(path_to_csv, index_col=0)\n",
    "df.index = df.index.astype(str)\n",
    "df[\"p\"] = df[\"average_model\"]\n",
    "df = df[[\"label\", \"p\"]]"
   ]
  },
  {
   "cell_type": "code",
   "execution_count": 5,
   "metadata": {},
   "outputs": [],
   "source": [
    "side = \"R\" # \"R\" or \"L\"\n",
    "region = \"S.C.-sylv.\" # \"ORBITAL\", \"CINGULATE\", \"SC-sylv\", \"F.I.P.\"\n",
    "database='hcp'"
   ]
  },
  {
   "cell_type": "code",
   "execution_count": 6,
   "metadata": {},
   "outputs": [],
   "source": [
    "# %matplotlib inline\n",
    "# df[[\"p\"]].plot.hist()\n",
    "# plt.show()"
   ]
  },
  {
   "cell_type": "markdown",
   "metadata": {},
   "source": [
    "### Function definitions"
   ]
  },
  {
   "cell_type": "code",
   "execution_count": 7,
   "metadata": {},
   "outputs": [],
   "source": [
    "def to_bucket(obj):\n",
    "    if obj.type() == obj.BUCKET:\n",
    "        return obj\n",
    "    avol = a.toAimsObject(obj)\n",
    "    c = aims.Converter(intype=avol, outtype=aims.BucketMap_VOID)\n",
    "    abck = c(avol)\n",
    "    bck = a.toAObject(abck)\n",
    "    bck.releaseAppRef()\n",
    "    return bck\n",
    "\n",
    "def build_gradient(pal):\n",
    "    gw = ana.cpp.GradientWidget(None, 'gradientwidget', pal.header()['palette_gradients'])\n",
    "    gw.setHasAlpha(True)\n",
    "    nc = pal.shape[0]\n",
    "    rgbp = gw.fillGradient(nc, True)\n",
    "    rgb = rgbp.data()\n",
    "    npal = pal.np['v']\n",
    "    pb = np.frombuffer(rgb, dtype=np.uint8).reshape((nc, 4))\n",
    "    npal[:, 0, 0, 0, :] = pb\n",
    "    npal[:, 0, 0, 0, :3] = npal[:, 0, 0, 0, :3][:, ::-1]  # BGRA -> RGBA\n",
    "    pal.update()\n",
    "\n",
    "def buckets_average(subject_id_list, dataset_name_list):\n",
    "    dic_vol = {}\n",
    "    dim = 0\n",
    "    rep = 0\n",
    "    if len(subject_id_list) == 0:\n",
    "        return False\n",
    "    while dim == 0 and rep < len(subject_id_list):\n",
    "        if dataset_name_list[rep].lower() in ['ukb', 'ukbiobank', 'projected_ukb']:\n",
    "            dataset = 'UkBioBank'\n",
    "        elif dataset_name_list[rep].lower() in ['hcp']:\n",
    "            dataset = 'hcp'\n",
    "        mm_skeleton_path = f\"/neurospin/dico/data/deep_folding/current/datasets/{dataset}/crops/2mm/{region}/mask/{side}crops\"\n",
    "        if os.path.isfile(f'{mm_skeleton_path}/{subject_id_list[rep]}_cropped_skeleton.nii.gz'):\n",
    "            sum_vol = aims.read(f'{mm_skeleton_path}/{subject_id_list[rep]}_cropped_skeleton.nii.gz').astype(float)\n",
    "            dim = sum_vol.shape\n",
    "            sum_vol.fill(0)\n",
    "        else: \n",
    "            print(f'FileNotFound {mm_skeleton_path}/{subject_id_list[rep]}_cropped_skeleton.nii.gz')\n",
    "            #raise FileNotFoundError(f'{mm_skeleton_path}/{subject_id_list[0]}_cropped_skeleton.nii.gz')\n",
    "        rep += 1\n",
    "\n",
    "    for subject_id, dataset in zip(subject_id_list,dataset_name_list):\n",
    "        if dataset.lower() in ['ukb', 'ukbiobank',  'projected_ukb']:\n",
    "            dataset = 'UkBioBank'\n",
    "        elif dataset.lower() == 'hcp':\n",
    "            dataset = 'hcp'\n",
    "            \n",
    "        mm_skeleton_path = f\"/neurospin/dico/data/deep_folding/current/datasets/{dataset}/crops/2mm/{region}/mask/{side}crops\"\n",
    "\n",
    "        if os.path. isfile(f'{mm_skeleton_path}/{subject_id}_cropped_skeleton.nii.gz'):\n",
    "            vol = aims.read(f'{mm_skeleton_path}/{subject_id}_cropped_skeleton.nii.gz')\n",
    "            # compare the dim with the first file dim\n",
    "\n",
    "            if vol.np.shape != dim:\n",
    "                raise ValueError(f\"{subject_id_list[0]} and {subject_id} must have the same dim\")\n",
    "\n",
    "                \n",
    "            # to have a binary 3D structure\n",
    "            dic_vol[subject_id] = (vol.np > 0).astype(int)\n",
    "            sum_vol.np[:] += (vol.np > 0).astype(int) \n",
    "        else: \n",
    "            print(f'FileNotFound {mm_skeleton_path}/{subject_id}_cropped_skeleton.nii.gz')\n",
    "            #raise FileNotFoundError(f'{mm_skeleton_path}/{subject_id}_cropped_skeleton.nii.gz')\n",
    "\n",
    "    sum_vol = sum_vol / len(subject_id_list)\n",
    "    print(sum_vol, sum_vol.shape)\n",
    "    return sum_vol"
   ]
  },
  {
   "cell_type": "code",
   "execution_count": 8,
   "metadata": {},
   "outputs": [],
   "source": [
    "def visualize_averages_along_parameter(df, column_name, database, nb_subjects_per_average=20, nb_columns=10, nb_lines=3):\n",
    "    # anatomist objects\n",
    "    global _block\n",
    "    global _average_dic\n",
    "    nb_windows = nb_columns * nb_lines\n",
    "    _average_dic = {}\n",
    "    step = nb_subjects_per_average # number of subjects on which average is done\n",
    "    # Creates the block if it has not been created\n",
    "    try:\n",
    "        _block\n",
    "    except NameError:\n",
    "        _block = a.createWindowsBlock(nb_columns)\n",
    "\n",
    "    # Order according to column_name\n",
    "    df = df.sort_values(column_name)\n",
    "    predict_proba = df[[column_name]]\n",
    "\n",
    "    # Creates dictionary of subjects to average\n",
    "    dic_packages = {}\n",
    "    for i in range(0,len(predict_proba),step):\n",
    "        list_idx = (predict_proba.index[i:i+step].to_numpy())\n",
    "        dic_packages[i//step] = list_idx\n",
    "    list_database = [database for i in range(step)]\n",
    "    n_pack = len(dic_packages)\n",
    "\n",
    "    # Loop of display averages\n",
    "    list_pack = [int(np.ceil(i*n_pack/float(nb_windows))) for i in range(0,nb_windows)]\n",
    "    for i in list_pack:\n",
    "        sum_vol = buckets_average(dic_packages[i], list_database)\n",
    "        _average_dic[f'a_sum_vol{i}'] = a.toAObject(sum_vol)\n",
    "        _average_dic[f'a_sum_vol{i}'].setPalette(minVal=0, absoluteMode=True)\n",
    "        #wsum = a.createWindow('Sagittal', block=block)\n",
    "        #wsum.addObjects(a_sum_vol)\n",
    "        _average_dic[f'rvol{i}'] = a.fusionObjects(\n",
    "            objects=[_average_dic[f'a_sum_vol{i}']],\n",
    "            method='VolumeRenderingFusionMethod')\n",
    "        _average_dic[f'rvol{i}'].releaseAppRef()\n",
    "        # custom palette\n",
    "        n = len(dic_packages[i])\n",
    "        pal = a.createPalette('VR-palette')\n",
    "        pal.header()['palette_gradients'] = '0;0.459574;0.497872;0.910638;1;1#0;0;0.52766;0.417021;1;1#0;0.7;1;0#0;0;0.0297872;0.00851064;0.72766;0.178723;0.957447;0.808511;1;1'\n",
    "        #f'0;0.244444;0.5;1;1;1#0;0;0.535897;0.222222;1;1#0;0.7;1;0#0;0;{0.5/n};0;1;1'\n",
    "        build_gradient(pal)\n",
    "        _average_dic[f'rvol{i}'].setPalette('VR-palette', minVal=0.05, absoluteMode=True)\n",
    "        pal2 = a.createPalette('slice-palette')\n",
    "        pal2.header()['palette_gradients'] = '0;0.459574;0.497872;0.910638;1;1#0;0;0.52766;0.417021;1;1#0;0.7;1;0#0;0;0.0297872;0.00851064;0.72766;0.178723;0.957447;0.808511;1;1'\n",
    "        #f'0;0.244444;0.5;1;1;1#0;0;0.535897;0.222222;1;1#0;0.7;1;0#0;0;{0.3/n};0;{0.7/n};1;1;1'\n",
    "        build_gradient(pal2)\n",
    "        _average_dic[f'a_sum_vol{i}'].setPalette('slice-palette')\n",
    "        # rvol.palette().fill()\n",
    "        _average_dic[f'wvr{i}'] = a.createWindow('3D', block=_block)\n",
    "        _average_dic[f'wvr{i}'].addObjects(_average_dic[f'rvol{i}'])"
   ]
  },
  {
   "cell_type": "markdown",
   "metadata": {},
   "source": [
    "### Visualization"
   ]
  },
  {
   "cell_type": "code",
   "execution_count": 9,
   "metadata": {},
   "outputs": [
    {
     "name": "stdout",
     "output_type": "stream",
     "text": [
      "<soma.aims.Volume_DOUBLE object at 0x7c8d644c4310> (42, 34, 49, 1)\n",
      "Multitexturing present\n",
      "function glActiveTexture found.\n",
      "function glClientActiveTexture found.\n",
      "function glBlendEquation found.\n",
      "function glTexImage3D found.\n",
      "function glMultiTexCoord3f found.\n",
      "function glBindFramebuffer found.\n",
      "function glBindRenderbuffer found.\n",
      "function glFramebufferTexture2D found.\n",
      "function glGenFramebuffers found.\n",
      "function glGenRenderbuffers found.\n",
      "function glFramebufferRenderbuffer found.\n",
      "function glRenderbufferStorage found.\n",
      "function glCheckFramebufferStatus found.\n",
      "function glDeleteRenderbuffers found.\n",
      "function glDeleteFramebuffers found.\n",
      "Number of texture units: 4\n",
      "function glUniform1f found.\n",
      "function glUniform1i found.\n",
      "function glUniform4fv found.\n",
      "function glGetUniformLocation found.\n",
      "function glMultTransposeMatrixf found.\n",
      "function glAttachShader found.\n",
      "function glDetachShader found.\n",
      "function glCompileShader found.\n",
      "function glCreateProgram found.\n",
      "function glCreateShader found.\n",
      "function glDeleteProgram found.\n",
      "function glDeleteShader found.\n",
      "function glGetProgramiv found.\n",
      "function glGetShaderiv found.\n",
      "function glLinkProgram found.\n",
      "function glShaderSource found.\n",
      "function glUseProgram found.\n",
      "GL_ARB_shadow present\n",
      "GL_SGIX_shadow present\n",
      "GL_SGIX_depth_texture extension present\n",
      "GL_ARB_depth_texture extension present\n",
      "GL_ARB_texture_cube_map extension present\n",
      "GL_EXT_texture_cube_map extension present\n",
      "Number of texture units: 4\n",
      "<soma.aims.Volume_DOUBLE object at 0x7c8c90392dd0> (42, 34, 49, 1)\n",
      "<soma.aims.Volume_DOUBLE object at 0x7c8c903f1630> (42, 34, 49, 1)\n",
      "<soma.aims.Volume_DOUBLE object at 0x7c8c903f9480> (42, 34, 49, 1)\n",
      "<soma.aims.Volume_DOUBLE object at 0x7c8c903f27a0> (42, 34, 49, 1)\n",
      "<soma.aims.Volume_DOUBLE object at 0x7c8c904060e0> (42, 34, 49, 1)\n",
      "<soma.aims.Volume_DOUBLE object at 0x7c8c9040df30> (42, 34, 49, 1)\n",
      "<soma.aims.Volume_DOUBLE object at 0x7c8c9040f6d0> (42, 34, 49, 1)\n",
      "<soma.aims.Volume_DOUBLE object at 0x7c8c9041b5b0> (42, 34, 49, 1)\n",
      "<soma.aims.Volume_DOUBLE object at 0x7c8c90418430> (42, 34, 49, 1)\n",
      "<soma.aims.Volume_DOUBLE object at 0x7c8c90428c10> (42, 34, 49, 1)\n",
      "<soma.aims.Volume_DOUBLE object at 0x7c8c90428ee0> (42, 34, 49, 1)\n",
      "<soma.aims.Volume_DOUBLE object at 0x7c8c904184c0> (42, 34, 49, 1)\n",
      "<soma.aims.Volume_DOUBLE object at 0x7c8c9043d870> (42, 34, 49, 1)\n",
      "<soma.aims.Volume_DOUBLE object at 0x7c8c9043db40> (42, 34, 49, 1)\n",
      "<soma.aims.Volume_DOUBLE object at 0x7c8c90447010> (42, 34, 49, 1)\n",
      "<soma.aims.Volume_DOUBLE object at 0x7c8c9044eef0> (42, 34, 49, 1)\n",
      "<soma.aims.Volume_DOUBLE object at 0x7c8c9044c310> (42, 34, 49, 1)\n",
      "<soma.aims.Volume_DOUBLE object at 0x7c8c904603a0> (42, 34, 49, 1)\n",
      "<soma.aims.Volume_DOUBLE object at 0x7c8c904681f0> (42, 34, 49, 1)\n",
      "<soma.aims.Volume_DOUBLE object at 0x7c8c90447910> (42, 34, 49, 1)\n",
      "<soma.aims.Volume_DOUBLE object at 0x7c8c9046d000> (42, 34, 49, 1)\n",
      "<soma.aims.Volume_DOUBLE object at 0x7c8c90474e50> (42, 34, 49, 1)\n",
      "<soma.aims.Volume_DOUBLE object at 0x7c8c904767a0> (42, 34, 49, 1)\n",
      "<soma.aims.Volume_DOUBLE object at 0x7c8c83e82680> (42, 34, 49, 1)\n",
      "<soma.aims.Volume_DOUBLE object at 0x7c8c83e827a0> (42, 34, 49, 1)\n",
      "<soma.aims.Volume_DOUBLE object at 0x7c8c83e8fac0> (42, 34, 49, 1)\n",
      "<soma.aims.Volume_DOUBLE object at 0x7c8c83e9b910> (42, 34, 49, 1)\n",
      "<soma.aims.Volume_DOUBLE object at 0x7c8c90477910> (42, 34, 49, 1)\n",
      "<soma.aims.Volume_DOUBLE object at 0x7c8c83ea49d0> (42, 34, 49, 1)\n"
     ]
    }
   ],
   "source": [
    "# block = a.createWindowsBlock(10)\n",
    "visualize_averages_along_parameter(df, \"p\", database)"
   ]
  },
  {
   "cell_type": "code",
   "execution_count": 10,
   "metadata": {},
   "outputs": [
    {
     "data": {
      "text/plain": [
       "anatomist.direct.api.Anatomist.AWindowsBlock"
      ]
     },
     "execution_count": 10,
     "metadata": {},
     "output_type": "execute_result"
    }
   ],
   "source": [
    "type(_block)"
   ]
  },
  {
   "cell_type": "code",
   "execution_count": 12,
   "metadata": {},
   "outputs": [
    {
     "data": {
      "text/plain": [
       "{'a_sum_vol0': <anatomist.cpp.anatomist.SliceableObject object at 0x7c8c90e189d0>,\n",
       " 'rvol0': <anatomist.cpp.anatomist.MObject object at 0x7c8c906f1900>,\n",
       " 'wvr0': <anatomist.cpp.weak_shared_ptr_AWindow object at 0x7c8c903cdd80>,\n",
       " 'a_sum_vol2': <anatomist.cpp.anatomist.SliceableObject object at 0x7c8d644c4310>,\n",
       " 'rvol2': <anatomist.cpp.anatomist.MObject object at 0x7c8c90392d40>,\n",
       " 'wvr2': <anatomist.cpp.weak_shared_ptr_AWindow object at 0x7c8c90392f80>,\n",
       " 'a_sum_vol4': <anatomist.cpp.anatomist.SliceableObject object at 0x7c8c90392dd0>,\n",
       " 'rvol4': <anatomist.cpp.anatomist.MObject object at 0x7c8c903f1870>,\n",
       " 'wvr4': <anatomist.cpp.weak_shared_ptr_AWindow object at 0x7c8c903f1900>,\n",
       " 'a_sum_vol6': <anatomist.cpp.anatomist.SliceableObject object at 0x7c8c903f1630>,\n",
       " 'rvol6': <anatomist.cpp.anatomist.MObject object at 0x7c8c903f96c0>,\n",
       " 'wvr6': <anatomist.cpp.weak_shared_ptr_AWindow object at 0x7c8c903f2440>,\n",
       " 'a_sum_vol8': <anatomist.cpp.anatomist.SliceableObject object at 0x7c8c903f9480>,\n",
       " 'rvol8': <anatomist.cpp.anatomist.MObject object at 0x7c8c903f24d0>,\n",
       " 'wvr8': <anatomist.cpp.weak_shared_ptr_AWindow object at 0x7c8c903f1e10>,\n",
       " 'a_sum_vol10': <anatomist.cpp.anatomist.SliceableObject object at 0x7c8c903f27a0>,\n",
       " 'rvol10': <anatomist.cpp.anatomist.MObject object at 0x7c8c90406320>,\n",
       " 'wvr10': <anatomist.cpp.weak_shared_ptr_AWindow object at 0x7c8c904063b0>,\n",
       " 'a_sum_vol12': <anatomist.cpp.anatomist.SliceableObject object at 0x7c8c904060e0>,\n",
       " 'rvol12': <anatomist.cpp.anatomist.MObject object at 0x7c8c9040e170>,\n",
       " 'wvr12': <anatomist.cpp.weak_shared_ptr_AWindow object at 0x7c8c9040f760>,\n",
       " 'a_sum_vol14': <anatomist.cpp.anatomist.SliceableObject object at 0x7c8c9040df30>,\n",
       " 'rvol14': <anatomist.cpp.anatomist.MObject object at 0x7c8c9040f9a0>,\n",
       " 'wvr14': <anatomist.cpp.weak_shared_ptr_AWindow object at 0x7c8c9040fa30>,\n",
       " 'a_sum_vol15': <anatomist.cpp.anatomist.SliceableObject object at 0x7c8c9040f6d0>,\n",
       " 'rvol15': <anatomist.cpp.anatomist.MObject object at 0x7c8c9041b7f0>,\n",
       " 'wvr15': <anatomist.cpp.weak_shared_ptr_AWindow object at 0x7c8c90418c10>,\n",
       " 'a_sum_vol17': <anatomist.cpp.anatomist.SliceableObject object at 0x7c8c9041b5b0>,\n",
       " 'rvol17': <anatomist.cpp.anatomist.MObject object at 0x7c8c90418790>,\n",
       " 'wvr17': <anatomist.cpp.weak_shared_ptr_AWindow object at 0x7c8c90418940>,\n",
       " 'a_sum_vol19': <anatomist.cpp.anatomist.SliceableObject object at 0x7c8c90418430>,\n",
       " 'rvol19': <anatomist.cpp.anatomist.MObject object at 0x7c8c90428e50>,\n",
       " 'wvr19': <anatomist.cpp.weak_shared_ptr_AWindow object at 0x7c8c904309d0>,\n",
       " 'a_sum_vol21': <anatomist.cpp.anatomist.SliceableObject object at 0x7c8c90428c10>,\n",
       " 'rvol21': <anatomist.cpp.anatomist.MObject object at 0x7c8c90430a60>,\n",
       " 'wvr21': <anatomist.cpp.weak_shared_ptr_AWindow object at 0x7c8c9040fe20>,\n",
       " 'a_sum_vol23': <anatomist.cpp.anatomist.SliceableObject object at 0x7c8c90428ee0>,\n",
       " 'rvol23': <anatomist.cpp.anatomist.MObject object at 0x7c8c9041bb50>,\n",
       " 'wvr23': <anatomist.cpp.weak_shared_ptr_AWindow object at 0x7c8c90418820>,\n",
       " 'a_sum_vol25': <anatomist.cpp.anatomist.SliceableObject object at 0x7c8c904184c0>,\n",
       " 'rvol25': <anatomist.cpp.anatomist.MObject object at 0x7c8c9043dab0>,\n",
       " 'wvr25': <anatomist.cpp.weak_shared_ptr_AWindow object at 0x7c8c90445630>,\n",
       " 'a_sum_vol27': <anatomist.cpp.anatomist.SliceableObject object at 0x7c8c9043d870>,\n",
       " 'rvol27': <anatomist.cpp.anatomist.MObject object at 0x7c8c904456c0>,\n",
       " 'wvr27': <anatomist.cpp.weak_shared_ptr_AWindow object at 0x7c8c904470a0>,\n",
       " 'a_sum_vol28': <anatomist.cpp.anatomist.SliceableObject object at 0x7c8c9043db40>,\n",
       " 'rvol28': <anatomist.cpp.anatomist.MObject object at 0x7c8c904472e0>,\n",
       " 'wvr28': <anatomist.cpp.weak_shared_ptr_AWindow object at 0x7c8c90447370>,\n",
       " 'a_sum_vol30': <anatomist.cpp.anatomist.SliceableObject object at 0x7c8c90447010>,\n",
       " 'rvol30': <anatomist.cpp.anatomist.MObject object at 0x7c8c9044f130>,\n",
       " 'wvr30': <anatomist.cpp.weak_shared_ptr_AWindow object at 0x7c8c9044f1c0>,\n",
       " 'a_sum_vol32': <anatomist.cpp.anatomist.SliceableObject object at 0x7c8c9044eef0>,\n",
       " 'rvol32': <anatomist.cpp.anatomist.MObject object at 0x7c8c9044f250>,\n",
       " 'wvr32': <anatomist.cpp.weak_shared_ptr_AWindow object at 0x7c8c9044c040>,\n",
       " 'a_sum_vol34': <anatomist.cpp.anatomist.SliceableObject object at 0x7c8c9044c310>,\n",
       " 'rvol34': <anatomist.cpp.anatomist.MObject object at 0x7c8c904605e0>,\n",
       " 'wvr34': <anatomist.cpp.weak_shared_ptr_AWindow object at 0x7c8c90460670>,\n",
       " 'a_sum_vol36': <anatomist.cpp.anatomist.SliceableObject object at 0x7c8c904603a0>,\n",
       " 'rvol36': <anatomist.cpp.anatomist.MObject object at 0x7c8c90468430>,\n",
       " 'wvr36': <anatomist.cpp.weak_shared_ptr_AWindow object at 0x7c8c90447a30>,\n",
       " 'a_sum_vol38': <anatomist.cpp.anatomist.SliceableObject object at 0x7c8c904479a0>,\n",
       " 'rvol38': <anatomist.cpp.anatomist.MObject object at 0x7c8c9044f0a0>,\n",
       " 'wvr38': <anatomist.cpp.weak_shared_ptr_AWindow object at 0x7c8c9044c0d0>,\n",
       " 'a_sum_vol40': <anatomist.cpp.anatomist.SliceableObject object at 0x7c8c90447910>,\n",
       " 'rvol40': <anatomist.cpp.anatomist.MObject object at 0x7c8c9046d240>,\n",
       " 'wvr40': <anatomist.cpp.weak_shared_ptr_AWindow object at 0x7c8c9046d2d0>,\n",
       " 'a_sum_vol42': <anatomist.cpp.anatomist.SliceableObject object at 0x7c8c9046d000>,\n",
       " 'rvol42': <anatomist.cpp.anatomist.MObject object at 0x7c8c90475090>,\n",
       " 'wvr42': <anatomist.cpp.weak_shared_ptr_AWindow object at 0x7c8c90476830>,\n",
       " 'a_sum_vol43': <anatomist.cpp.anatomist.SliceableObject object at 0x7c8c90474e50>,\n",
       " 'rvol43': <anatomist.cpp.anatomist.MObject object at 0x7c8c90476a70>,\n",
       " 'wvr43': <anatomist.cpp.weak_shared_ptr_AWindow object at 0x7c8c90476b00>,\n",
       " 'a_sum_vol45': <anatomist.cpp.anatomist.SliceableObject object at 0x7c8c904767a0>,\n",
       " 'rvol45': <anatomist.cpp.anatomist.MObject object at 0x7c8c83e828c0>,\n",
       " 'wvr45': <anatomist.cpp.weak_shared_ptr_AWindow object at 0x7c8c83e82950>,\n",
       " 'a_sum_vol47': <anatomist.cpp.anatomist.SliceableObject object at 0x7c8c83e82680>,\n",
       " 'rvol47': <anatomist.cpp.anatomist.MObject object at 0x7c8c90477010>,\n",
       " 'wvr47': <anatomist.cpp.weak_shared_ptr_AWindow object at 0x7c8c83e82cb0>,\n",
       " 'a_sum_vol49': <anatomist.cpp.anatomist.SliceableObject object at 0x7c8c83e827a0>,\n",
       " 'rvol49': <anatomist.cpp.anatomist.MObject object at 0x7c8c83e8fd00>,\n",
       " 'wvr49': <anatomist.cpp.weak_shared_ptr_AWindow object at 0x7c8c83e8fd90>,\n",
       " 'a_sum_vol51': <anatomist.cpp.anatomist.SliceableObject object at 0x7c8c83e8fac0>,\n",
       " 'rvol51': <anatomist.cpp.anatomist.MObject object at 0x7c8c83e9bb50>,\n",
       " 'wvr51': <anatomist.cpp.weak_shared_ptr_AWindow object at 0x7c8c83e9bbe0>,\n",
       " 'a_sum_vol53': <anatomist.cpp.anatomist.SliceableObject object at 0x7c8c83e9b910>,\n",
       " 'rvol53': <anatomist.cpp.anatomist.MObject object at 0x7c8c904776d0>,\n",
       " 'wvr53': <anatomist.cpp.weak_shared_ptr_AWindow object at 0x7c8c90477400>,\n",
       " 'a_sum_vol55': <anatomist.cpp.anatomist.SliceableObject object at 0x7c8c90477910>,\n",
       " 'rvol55': <anatomist.cpp.anatomist.MObject object at 0x7c8c83ea4820>,\n",
       " 'wvr55': <anatomist.cpp.weak_shared_ptr_AWindow object at 0x7c8c83ea4a60>}"
      ]
     },
     "execution_count": 12,
     "metadata": {},
     "output_type": "execute_result"
    }
   ],
   "source": [
    "_average_dic"
   ]
  },
  {
   "cell_type": "code",
   "execution_count": null,
   "metadata": {},
   "outputs": [],
   "source": []
  }
 ],
 "metadata": {
  "kernelspec": {
   "display_name": "venv",
   "language": "python",
   "name": "python3"
  },
  "language_info": {
   "codemirror_mode": {
    "name": "ipython",
    "version": 3
   },
   "file_extension": ".py",
   "mimetype": "text/x-python",
   "name": "python",
   "nbconvert_exporter": "python",
   "pygments_lexer": "ipython3",
   "version": "3.10.12"
  }
 },
 "nbformat": 4,
 "nbformat_minor": 2
}
