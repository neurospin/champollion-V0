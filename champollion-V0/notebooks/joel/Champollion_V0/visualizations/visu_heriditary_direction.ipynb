{
 "cells": [
  {
   "cell_type": "code",
   "execution_count": 1,
   "metadata": {},
   "outputs": [
    {
     "name": "stderr",
     "output_type": "stream",
     "text": [
      "/usr/lib/python3/dist-packages/scipy/__init__.py:146: UserWarning: A NumPy version >=1.17.3 and <1.25.0 is required for this version of SciPy (detected version 1.26.4\n",
      "  warnings.warn(f\"A NumPy version >={np_minversion} and <{np_maxversion}\"\n",
      "existing QApplication: 0\n",
      "QStandardPaths: XDG_RUNTIME_DIR not set, defaulting to '/tmp/runtime-ad279118'\n"
     ]
    },
    {
     "name": "stdout",
     "output_type": "stream",
     "text": [
      "create qapp\n",
      "global modules: /casa/host/build/share/anatomist-5.2/python_plugins\n",
      "home   modules: /casa/home/.anatomist/python_plugins\n",
      "done\n",
      "Starting Anatomist.....\n",
      "config file : /casa/home/.anatomist/config/settings.cfg\n",
      "PyAnatomist Module present\n",
      "PythonLauncher::runModules()\n",
      "loading module simple_controls\n",
      "loading module save_resampled\n",
      "loading module selection\n",
      "loading module bsa_proba\n",
      "loading module modelGraphs\n",
      "loading module profilewindow\n",
      "loading module ana_image_math\n",
      "loading module paletteViewer\n",
      "loading module foldsplit\n",
      "loading module anacontrolmenu\n",
      "loading module gradientpalette\n",
      "loading module palettecontrols\n",
      "loading module meshsplit\n",
      "loading module volumepalettes\n",
      "loading module gltf_io\n",
      "loading module infowindow\n",
      "loading module histogram\n",
      "loading module statsplotwindow\n",
      "loading module valuesplotwindow\n",
      "all python modules loaded\n",
      "Anatomist started.\n"
     ]
    }
   ],
   "source": [
    "import anatomist.api as ana\n",
    "from soma.qt_gui.qtThread import QtThreadCall\n",
    "from soma.qt_gui.qt_backend import Qt\n",
    "\n",
    "a = ana.Anatomist()"
   ]
  },
  {
   "cell_type": "code",
   "execution_count": 2,
   "metadata": {},
   "outputs": [],
   "source": [
    "from soma import aims\n",
    "import numpy as np\n",
    "import pandas as pd\n",
    "import plotly.express as px\n",
    "import plotly.graph_objects as go\n",
    "from sklearn.preprocessing import StandardScaler\n",
    "import umap\n",
    "import os"
   ]
  },
  {
   "cell_type": "markdown",
   "metadata": {},
   "source": [
    "### Region name"
   ]
  },
  {
   "cell_type": "code",
   "execution_count": 2,
   "metadata": {},
   "outputs": [
    {
     "ename": "NameError",
     "evalue": "name 'pd' is not defined",
     "output_type": "error",
     "traceback": [
      "\u001b[0;31m---------------------------------------------------------------------------\u001b[0m",
      "\u001b[0;31mNameError\u001b[0m                                 Traceback (most recent call last)",
      "\u001b[0;32m/tmp/ipykernel_3942289/1103765097.py\u001b[0m in \u001b[0;36m<module>\u001b[0;34m\u001b[0m\n\u001b[1;32m      5\u001b[0m \u001b[0;34m\u001b[0m\u001b[0m\n\u001b[1;32m      6\u001b[0m \u001b[0mpath_to_most_results\u001b[0m \u001b[0;34m=\u001b[0m \u001b[0;34m'/volatile/ad279118/Irene/MOSTEST/Results/'\u001b[0m\u001b[0;34m\u001b[0m\u001b[0;34m\u001b[0m\u001b[0m\n\u001b[0;32m----> 7\u001b[0;31m \u001b[0mpre_residualized_bdd\u001b[0m \u001b[0;34m=\u001b[0m \u001b[0mpd\u001b[0m\u001b[0;34m.\u001b[0m\u001b[0mread_csv\u001b[0m\u001b[0;34m(\u001b[0m\u001b[0;34mf'{path_to_most_results}/{region_name}_pheno_pre_residualized.txt'\u001b[0m\u001b[0;34m,\u001b[0m \u001b[0msep\u001b[0m\u001b[0;34m=\u001b[0m\u001b[0;34m'\\t'\u001b[0m\u001b[0;34m)\u001b[0m\u001b[0;34m\u001b[0m\u001b[0;34m\u001b[0m\u001b[0m\n\u001b[0m\u001b[1;32m      8\u001b[0m \u001b[0mz_score\u001b[0m \u001b[0;34m=\u001b[0m \u001b[0mpd\u001b[0m\u001b[0;34m.\u001b[0m\u001b[0mread_csv\u001b[0m\u001b[0;34m(\u001b[0m\u001b[0;34mf'{path_to_most_results}/{region_name}_mostest_all_chr.most_orig.zmat.csv'\u001b[0m\u001b[0;34m,\u001b[0m \u001b[0msep\u001b[0m\u001b[0;34m=\u001b[0m\u001b[0;34m'\\t'\u001b[0m\u001b[0;34m)\u001b[0m\u001b[0;34m\u001b[0m\u001b[0;34m\u001b[0m\u001b[0m\n\u001b[1;32m      9\u001b[0m \u001b[0;34m\u001b[0m\u001b[0m\n",
      "\u001b[0;31mNameError\u001b[0m: name 'pd' is not defined"
     ]
    }
   ],
   "source": [
    "side = \"R\" # \"R\" or \"L\"\n",
    "region = \"CINGULATE\" # \"ORBITAL\", \"CINGULATE\", \"SC-sylv\", \"F.I.P.\""
   ]
  },
  {
   "cell_type": "markdown",
   "metadata": {},
   "source": [
    "## Visualization"
   ]
  },
  {
   "cell_type": "code",
   "execution_count": 1,
   "metadata": {},
   "outputs": [],
   "source": [
    "def to_bucket(obj):\n",
    "    if obj.type() == obj.BUCKET:\n",
    "        return obj\n",
    "    avol = a.toAimsObject(obj)\n",
    "    c = aims.Converter(intype=avol, outtype=aims.BucketMap_VOID)\n",
    "    abck = c(avol)\n",
    "    bck = a.toAObject(abck)\n",
    "    bck.releaseAppRef()\n",
    "    return bck\n",
    "\n",
    "def build_gradient(pal):\n",
    "    gw = ana.cpp.GradientWidget(None, 'gradientwidget', pal.header()['palette_gradients'])\n",
    "    gw.setHasAlpha(True)\n",
    "    nc = pal.shape[0]\n",
    "    rgbp = gw.fillGradient(nc, True)\n",
    "    rgb = rgbp.data()\n",
    "    npal = pal.np['v']\n",
    "    pb = np.frombuffer(rgb, dtype=np.uint8).reshape((nc, 4))\n",
    "    npal[:, 0, 0, 0, :] = pb\n",
    "    npal[:, 0, 0, 0, :3] = npal[:, 0, 0, 0, :3][:, ::-1]  # BGRA -> RGBA\n",
    "    pal.update()\n",
    "\n",
    "def buckets_average(subject_id_list, dataset_name_list):\n",
    "    dic_vol = {}\n",
    "    dim = 0\n",
    "    rep = 0\n",
    "    if len(subject_id_list) == 0:\n",
    "        return False\n",
    "    while dim == 0 and rep < len(subject_id_list):\n",
    "        if dataset_name_list[rep].lower() in ['ukb', 'ukbiobank', 'projected_ukb']:\n",
    "            dataset = 'UkBioBank'\n",
    "        elif dataset_name_list[rep].lower() in ['hcp']:\n",
    "            dataset = 'hcp'\n",
    "        mm_skeleton_path = f\"/neurospin/dico/data/deep_folding/current/datasets/{dataset}/crops/2mm/{region}/mask/{side}crops\"\n",
    "        if os.path. isfile(f'{mm_skeleton_path}/{subject_id_list[rep]}_cropped_skeleton.nii.gz'):\n",
    "            sum_vol = aims.read(f'{mm_skeleton_path}/{subject_id_list[rep]}_cropped_skeleton.nii.gz').astype(float)\n",
    "            dim = sum_vol.shape\n",
    "            sum_vol.fill(0)\n",
    "        else: \n",
    "            print(f'FileNotFound {mm_skeleton_path}/{subject_id_list[rep]}_cropped_skeleton.nii.gz')\n",
    "            #raise FileNotFoundError(f'{mm_skeleton_path}/{subject_id_list[0]}_cropped_skeleton.nii.gz')\n",
    "        rep += 1\n",
    "\n",
    "    for subject_id, dataset in zip(subject_id_list,dataset_name_list):\n",
    "        if dataset.lower() in ['ukb', 'ukbiobank',  'projected_ukb']:\n",
    "            dataset = 'UkBioBank'\n",
    "        elif dataset.lower() == 'hcp':\n",
    "            dataset = 'hcp'\n",
    "            \n",
    "        mm_skeleton_path = f\"/neurospin/dico/data/deep_folding/current/datasets/{dataset}/crops/2mm/{region}/mask/{side}crops\"\n",
    "\n",
    "        if os.path. isfile(f'{mm_skeleton_path}/{subject_id}_cropped_skeleton.nii.gz'):\n",
    "            vol = aims.read(f'{mm_skeleton_path}/{subject_id}_cropped_skeleton.nii.gz')\n",
    "            # compare the dim with the first file dim\n",
    "\n",
    "            if vol.np.shape != dim:\n",
    "                raise ValueError(f\"{subject_id_list[0]} and {subject_id} must have the same dim\")\n",
    "\n",
    "                \n",
    "            # to have a binary 3D structure\n",
    "            dic_vol[subject_id] = (vol.np > 0).astype(int)\n",
    "            sum_vol.np[:] += (vol.np > 0).astype(int) \n",
    "        else: \n",
    "            print(f'FileNotFound {mm_skeleton_path}/{subject_id}_cropped_skeleton.nii.gz')\n",
    "            #raise FileNotFoundError(f'{mm_skeleton_path}/{subject_id}_cropped_skeleton.nii.gz')\n",
    "\n",
    "    sum_vol = sum_vol / len(subject_id_list)\n",
    "    print(sum_vol, sum_vol.shape)\n",
    "    return sum_vol"
   ]
  },
  {
   "cell_type": "code",
   "execution_count": 35,
   "metadata": {},
   "outputs": [],
   "source": [
    "average_dic = {}\n",
    "nb_columns = 10\n",
    "block = a.createWindowsBlock(nb_columns)"
   ]
  },
  {
   "cell_type": "code",
   "execution_count": null,
   "metadata": {},
   "outputs": [],
   "source": [
    "predict_proba = pd.DataFrame([0.05,0.06,0.02,0.01], index = ['sub-1521212','sub-1521211','sub-1421212','sub-1621212'])"
   ]
  },
  {
   "cell_type": "code",
   "execution_count": 36,
   "metadata": {},
   "outputs": [],
   "source": [
    "step = 200\n",
    "dic_packages = {}\n",
    "for i in range(0,len(predict_proba),step):\n",
    "    list_idx = (predict_proba.index[i:i+step].to_numpy())\n",
    "    dic_packages[i//step] = [f'{idx}' for idx in list_idx] \n",
    "list_database = ['hcp' for i in range(step)]\n",
    "n_pack = len(dic_packages)"
   ]
  },
  {
   "cell_type": "code",
   "execution_count": 37,
   "metadata": {},
   "outputs": [
    {
     "name": "stdout",
     "output_type": "stream",
     "text": [
      "<soma.aims.Volume_DOUBLE object at 0x763a52fe8af0> (16, 37, 37, 1)\n",
      "<soma.aims.Volume_DOUBLE object at 0x763a52febac0> (16, 37, 37, 1)\n",
      "<soma.aims.Volume_DOUBLE object at 0x763a5a80f2e0> (16, 37, 37, 1)\n",
      "<soma.aims.Volume_DOUBLE object at 0x763a5a80ecb0> (16, 37, 37, 1)\n",
      "<soma.aims.Volume_DOUBLE object at 0x763a5a7a5e10> (16, 37, 37, 1)\n",
      "<soma.aims.Volume_DOUBLE object at 0x763a5a7a5630> (16, 37, 37, 1)\n",
      "<soma.aims.Volume_DOUBLE object at 0x763a5a7f0790> (16, 37, 37, 1)\n",
      "<soma.aims.Volume_DOUBLE object at 0x763a5a7f1bd0> (16, 37, 37, 1)\n",
      "<soma.aims.Volume_DOUBLE object at 0x763a5a80eef0> (16, 37, 37, 1)\n",
      "<soma.aims.Volume_DOUBLE object at 0x763a5a800790> (16, 37, 37, 1)\n",
      "<soma.aims.Volume_DOUBLE object at 0x763a5a801240> (16, 37, 37, 1)\n",
      "<soma.aims.Volume_DOUBLE object at 0x763a5a784b80> (16, 37, 37, 1)\n",
      "<soma.aims.Volume_DOUBLE object at 0x763a5a791d80> (16, 37, 37, 1)\n",
      "<soma.aims.Volume_DOUBLE object at 0x763a5a791090> (16, 37, 37, 1)\n",
      "<soma.aims.Volume_DOUBLE object at 0x763a5a7ad000> (16, 37, 37, 1)\n",
      "<soma.aims.Volume_DOUBLE object at 0x763a52ff4e50> (16, 37, 37, 1)\n",
      "<soma.aims.Volume_DOUBLE object at 0x763a5ab1ff40> (16, 37, 37, 1)\n",
      "<soma.aims.Volume_DOUBLE object at 0x763a5a7c1bd0> (16, 37, 37, 1)\n",
      "<soma.aims.Volume_DOUBLE object at 0x763a5a7cd090> (16, 37, 37, 1)\n",
      "<soma.aims.Volume_DOUBLE object at 0x763a5a7d05e0> (16, 37, 37, 1)\n",
      "<soma.aims.Volume_DOUBLE object at 0x763a5a7d3880> (16, 37, 37, 1)\n",
      "<soma.aims.Volume_DOUBLE object at 0x763a5a7d35b0> (16, 37, 37, 1)\n",
      "<soma.aims.Volume_DOUBLE object at 0x763a5a7d9630> (16, 37, 37, 1)\n",
      "<soma.aims.Volume_DOUBLE object at 0x763a5a770280> (16, 37, 37, 1)\n",
      "<soma.aims.Volume_DOUBLE object at 0x763a5a778160> (16, 37, 37, 1)\n",
      "<soma.aims.Volume_DOUBLE object at 0x763a530dc1f0> (16, 37, 37, 1)\n",
      "<soma.aims.Volume_DOUBLE object at 0x763a530ddbd0> (16, 37, 37, 1)\n",
      "<soma.aims.Volume_DOUBLE object at 0x763a530d1a20> (16, 37, 37, 1)\n",
      "<soma.aims.Volume_DOUBLE object at 0x763a530d1e10> (16, 37, 37, 1)\n",
      "<soma.aims.Volume_DOUBLE object at 0x763a530d1cf0> (16, 37, 37, 1)\n",
      "<soma.aims.Volume_DOUBLE object at 0x763a530c2f80> (16, 37, 37, 1)\n"
     ]
    },
    {
     "name": "stdout",
     "output_type": "stream",
     "text": [
      "no position could be read at -1, 181\n",
      "no position could be read at 92, 17\n",
      "no position could be read at 72, 10\n",
      "no position could be read at 134, 138\n",
      "no position could be read at 116, 168\n",
      "no position could be read at 40, 203\n"
     ]
    },
    {
     "name": "stderr",
     "output_type": "stream",
     "text": [
      "SetObjectPaletteCommand : warning: palette \"CustomGradient\" not found\n"
     ]
    },
    {
     "name": "stdout",
     "output_type": "stream",
     "text": [
      "no position could be read at 142, 173\n",
      "no position could be read at 119, 206\n"
     ]
    }
   ],
   "source": [
    "#for i in ([k for k in range(10)]+[k for k in range(n_pack//2-5,n_pack//2+5)]+[k for k in range(n_pack-10,n_pack)]):\n",
    "for i in range(0,n_pack, n_pack//30):\n",
    "    sum_vol = buckets_average(dic_packages[i], list_database)\n",
    "    average_dic[f'a_sum_vol{i}'] = a.toAObject(sum_vol)\n",
    "    average_dic[f'a_sum_vol{i}'].setPalette(minVal=0, absoluteMode=True)\n",
    "    #wsum = a.createWindow('Sagittal', block=block)\n",
    "    #wsum.addObjects(a_sum_vol)\n",
    "    average_dic[f'rvol{i}'] = a.fusionObjects(objects=[average_dic[f'a_sum_vol{i}']], method='VolumeRenderingFusionMethod')\n",
    "    average_dic[f'rvol{i}'].releaseAppRef()\n",
    "    # custom palette\n",
    "    n = len(dic_packages[i])\n",
    "    pal = a.createPalette('VR-palette')\n",
    "    pal.header()['palette_gradients'] = '0;0.459574;0.497872;0.910638;1;1#0;0;0.52766;0.417021;1;1#0;0.7;1;0#0;0;0.0297872;0.00851064;0.72766;0.178723;0.957447;0.808511;1;1'\n",
    "    #f'0;0.244444;0.5;1;1;1#0;0;0.535897;0.222222;1;1#0;0.7;1;0#0;0;{0.5/n};0;1;1'\n",
    "    build_gradient(pal)\n",
    "    average_dic[f'rvol{i}'].setPalette('VR-palette', minVal=0.05, absoluteMode=True)\n",
    "    pal2 = a.createPalette('slice-palette')\n",
    "    pal2.header()['palette_gradients'] = '0;0.459574;0.497872;0.910638;1;1#0;0;0.52766;0.417021;1;1#0;0.7;1;0#0;0;0.0297872;0.00851064;0.72766;0.178723;0.957447;0.808511;1;1'\n",
    "    #f'0;0.244444;0.5;1;1;1#0;0;0.535897;0.222222;1;1#0;0.7;1;0#0;0;{0.3/n};0;{0.7/n};1;1;1'\n",
    "    build_gradient(pal2)\n",
    "    average_dic[f'a_sum_vol{i}'].setPalette('slice-palette')\n",
    "    # rvol.palette().fill()\n",
    "    average_dic[f'wvr{i}'] = a.createWindow('3D', block=block)\n",
    "    average_dic[f'wvr{i}'].addObjects(average_dic[f'rvol{i}'])"
   ]
  }
 ],
 "metadata": {
  "kernelspec": {
   "display_name": "venv",
   "language": "python",
   "name": "python3"
  },
  "language_info": {
   "codemirror_mode": {
    "name": "ipython",
    "version": 3
   },
   "file_extension": ".py",
   "mimetype": "text/x-python",
   "name": "python",
   "nbconvert_exporter": "python",
   "pygments_lexer": "ipython3",
   "version": "3.10.12"
  }
 },
 "nbformat": 4,
 "nbformat_minor": 2
}
