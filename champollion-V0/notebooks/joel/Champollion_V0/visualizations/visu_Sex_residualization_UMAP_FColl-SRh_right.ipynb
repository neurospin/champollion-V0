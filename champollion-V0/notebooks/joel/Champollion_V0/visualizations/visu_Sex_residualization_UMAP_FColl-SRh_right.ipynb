{
 "cells": [
  {
   "cell_type": "code",
   "execution_count": 1,
   "metadata": {},
   "outputs": [
    {
     "name": "stderr",
     "output_type": "stream",
     "text": [
      "/usr/lib/python3/dist-packages/scipy/__init__.py:146: UserWarning: A NumPy version >=1.17.3 and <1.25.0 is required for this version of SciPy (detected version 1.26.4\n",
      "  warnings.warn(f\"A NumPy version >={np_minversion} and <{np_maxversion}\"\n"
     ]
    }
   ],
   "source": [
    "import anatomist.api as ana\n",
    "from soma.qt_gui.qtThread import QtThreadCall\n",
    "from soma.qt_gui.qt_backend import Qt\n",
    "\n",
    "from umap import UMAP\n",
    "\n",
    "from soma import aims\n",
    "import numpy as np\n",
    "import pandas as pd\n",
    "import os\n",
    "\n",
    "from sklearn.preprocessing import StandardScaler\n",
    "import statsmodels.api as sm\n",
    "\n"
   ]
  },
  {
   "cell_type": "code",
   "execution_count": 2,
   "metadata": {},
   "outputs": [
    {
     "name": "stdout",
     "output_type": "stream",
     "text": [
      "create qapp\n",
      "done\n",
      "Starting Anatomist.....\n",
      "config file : /casa/home/.anatomist/config/settings.cfg\n",
      "PyAnatomist Module present\n",
      "PythonLauncher::runModules()\n",
      "global modules: /casa/host/build/share/anatomist-5.2/python_plugins\n",
      "home   modules: /casa/home/.anatomist/python_plugins\n",
      "loading module meshsplit\n",
      "loading module palettecontrols\n",
      "loading module volumepalettes\n"
     ]
    },
    {
     "name": "stderr",
     "output_type": "stream",
     "text": [
      "existing QApplication: 0\n",
      "QStandardPaths: XDG_RUNTIME_DIR not set, defaulting to '/tmp/runtime-jc225751'\n"
     ]
    },
    {
     "name": "stdout",
     "output_type": "stream",
     "text": [
      "loading module save_resampled\n",
      "loading module profilewindow\n",
      "loading module statsplotwindow\n",
      "loading module anacontrolmenu\n",
      "loading module infowindow\n",
      "loading module foldsplit\n",
      "loading module simple_controls\n",
      "loading module histogram\n",
      "loading module valuesplotwindow\n",
      "loading module ana_image_math\n",
      "loading module modelGraphs\n",
      "loading module paletteViewer\n",
      "loading module bsa_proba\n",
      "loading module gradientpalette\n",
      "loading module selection\n",
      "loading module gltf_io\n",
      "all python modules loaded\n",
      "Anatomist started.\n"
     ]
    }
   ],
   "source": [
    "a = ana.Anatomist()"
   ]
  },
  {
   "cell_type": "markdown",
   "metadata": {},
   "source": [
    "### Variable definitions"
   ]
  },
  {
   "cell_type": "code",
   "execution_count": 3,
   "metadata": {},
   "outputs": [],
   "source": [
    "embeddings_file = \"/neurospin/dico/data/deep_folding/current/models/Champollion_V0/FColl-SRh_right/09-45-57_1/ukb_random_embeddings/full_embeddings.csv\"\n",
    "participants_file = \"/neurospin/dico/data/deep_folding/current/datasets/UkBioBank/participants.csv\""
   ]
  },
  {
   "cell_type": "code",
   "execution_count": 4,
   "metadata": {},
   "outputs": [],
   "source": [
    "label = \"Sex\"\n",
    "covariates = [\"Age\", \"BrainVolumeFreeSurfer_mm3\"]"
   ]
  },
  {
   "cell_type": "code",
   "execution_count": 5,
   "metadata": {},
   "outputs": [],
   "source": [
    "side = \"R\" # \"R\" or \"L\"\n",
    "region = \"F.Coll.-S.Rh.\" # \"S.C.-sylv.\", \"ORBITAL\", \"CINGULATE\", \"SC-sylv\", \"F.I.P.\"\n",
    "database='ukb'"
   ]
  },
  {
   "cell_type": "markdown",
   "metadata": {},
   "source": [
    "# Building predictors"
   ]
  },
  {
   "cell_type": "code",
   "execution_count": 6,
   "metadata": {},
   "outputs": [
    {
     "data": {
      "text/html": [
       "<div>\n",
       "<style scoped>\n",
       "    .dataframe tbody tr th:only-of-type {\n",
       "        vertical-align: middle;\n",
       "    }\n",
       "\n",
       "    .dataframe tbody tr th {\n",
       "        vertical-align: top;\n",
       "    }\n",
       "\n",
       "    .dataframe thead th {\n",
       "        text-align: right;\n",
       "    }\n",
       "</style>\n",
       "<table border=\"1\" class=\"dataframe\">\n",
       "  <thead>\n",
       "    <tr style=\"text-align: right;\">\n",
       "      <th></th>\n",
       "      <th>Sex</th>\n",
       "      <th>Age</th>\n",
       "      <th>BrainVolumeFreeSurfer_mm3</th>\n",
       "    </tr>\n",
       "    <tr>\n",
       "      <th>participant_id</th>\n",
       "      <th></th>\n",
       "      <th></th>\n",
       "      <th></th>\n",
       "    </tr>\n",
       "  </thead>\n",
       "  <tbody>\n",
       "    <tr>\n",
       "      <th>sub-3411469</th>\n",
       "      <td>1</td>\n",
       "      <td>65.0</td>\n",
       "      <td>1136465.0</td>\n",
       "    </tr>\n",
       "    <tr>\n",
       "      <th>sub-2290292</th>\n",
       "      <td>0</td>\n",
       "      <td>69.0</td>\n",
       "      <td>1079118.0</td>\n",
       "    </tr>\n",
       "    <tr>\n",
       "      <th>sub-3842391</th>\n",
       "      <td>0</td>\n",
       "      <td>70.0</td>\n",
       "      <td>1124077.0</td>\n",
       "    </tr>\n",
       "    <tr>\n",
       "      <th>sub-2758537</th>\n",
       "      <td>1</td>\n",
       "      <td>49.0</td>\n",
       "      <td>1246758.0</td>\n",
       "    </tr>\n",
       "    <tr>\n",
       "      <th>sub-4334619</th>\n",
       "      <td>1</td>\n",
       "      <td>70.0</td>\n",
       "      <td>1410387.0</td>\n",
       "    </tr>\n",
       "    <tr>\n",
       "      <th>...</th>\n",
       "      <td>...</td>\n",
       "      <td>...</td>\n",
       "      <td>...</td>\n",
       "    </tr>\n",
       "    <tr>\n",
       "      <th>sub-2621329</th>\n",
       "      <td>1</td>\n",
       "      <td>56.0</td>\n",
       "      <td>1260788.0</td>\n",
       "    </tr>\n",
       "    <tr>\n",
       "      <th>sub-5057890</th>\n",
       "      <td>1</td>\n",
       "      <td>72.0</td>\n",
       "      <td>1328760.0</td>\n",
       "    </tr>\n",
       "    <tr>\n",
       "      <th>sub-2038574</th>\n",
       "      <td>1</td>\n",
       "      <td>70.0</td>\n",
       "      <td>1244624.0</td>\n",
       "    </tr>\n",
       "    <tr>\n",
       "      <th>sub-1415693</th>\n",
       "      <td>0</td>\n",
       "      <td>64.0</td>\n",
       "      <td>1044867.0</td>\n",
       "    </tr>\n",
       "    <tr>\n",
       "      <th>sub-1493505</th>\n",
       "      <td>0</td>\n",
       "      <td>65.0</td>\n",
       "      <td>1069118.0</td>\n",
       "    </tr>\n",
       "  </tbody>\n",
       "</table>\n",
       "<p>38019 rows × 3 columns</p>\n",
       "</div>"
      ],
      "text/plain": [
       "                Sex   Age  BrainVolumeFreeSurfer_mm3\n",
       "participant_id                                      \n",
       "sub-3411469       1  65.0                  1136465.0\n",
       "sub-2290292       0  69.0                  1079118.0\n",
       "sub-3842391       0  70.0                  1124077.0\n",
       "sub-2758537       1  49.0                  1246758.0\n",
       "sub-4334619       1  70.0                  1410387.0\n",
       "...             ...   ...                        ...\n",
       "sub-2621329       1  56.0                  1260788.0\n",
       "sub-5057890       1  72.0                  1328760.0\n",
       "sub-2038574       1  70.0                  1244624.0\n",
       "sub-1415693       0  64.0                  1044867.0\n",
       "sub-1493505       0  65.0                  1069118.0\n",
       "\n",
       "[38019 rows x 3 columns]"
      ]
     },
     "execution_count": 6,
     "metadata": {},
     "output_type": "execute_result"
    }
   ],
   "source": [
    "participants = pd.read_csv(participants_file, index_col=0)\n",
    "participants = participants[[label] + covariates].dropna()\n",
    "participants"
   ]
  },
  {
   "cell_type": "code",
   "execution_count": 7,
   "metadata": {},
   "outputs": [],
   "source": [
    "embeddings = pd.read_csv(f\"{embeddings_file}\", index_col=0)\n",
    "\n",
    "# Residualizes\n",
    "phenotypes_cols = embeddings.columns\n",
    "merged = participants[covariates].merge(embeddings, left_index=True, right_index=True)\n",
    "resid_df = merged[covariates].copy()\n",
    "resid_df.loc[:, phenotypes_cols] = 0.0\n",
    "for dim_i in phenotypes_cols:\n",
    "    X = merged[covariates]\n",
    "    X = sm.add_constant(X)\n",
    "    y = merged[dim_i]\n",
    "    model = sm.OLS(y, X).fit()\n",
    "    residuals = model.resid\n",
    "    resid_df.loc[:, dim_i] = residuals"
   ]
  },
  {
   "cell_type": "code",
   "execution_count": 8,
   "metadata": {},
   "outputs": [
    {
     "data": {
      "text/plain": [
       "(38019, 2)"
      ]
     },
     "execution_count": 8,
     "metadata": {},
     "output_type": "execute_result"
    }
   ],
   "source": [
    "participants[covariates].shape"
   ]
  },
  {
   "cell_type": "code",
   "execution_count": 9,
   "metadata": {},
   "outputs": [
    {
     "data": {
      "text/plain": [
       "12.600221074850879"
      ]
     },
     "execution_count": 9,
     "metadata": {},
     "output_type": "execute_result"
    }
   ],
   "source": [
    "merged = participants[[label]].merge(resid_df[phenotypes_cols], left_index=True, right_index=True)\n",
    "\n",
    "# Classifies\n",
    "X = merged.drop([label], axis=1)\n",
    "Y = merged[[label]].astype(float)\n",
    "\n",
    "# Standard scaler\n",
    "scaler = StandardScaler()\n",
    "X[X.columns] = scaler.fit_transform(X)\n",
    "df2 = X.copy()\n",
    "\n",
    "# Makes OLS\n",
    "df2 = sm.add_constant(df2)\n",
    "model = sm.OLS(Y[label], df2)\n",
    "results = model.fit()\n",
    "\n",
    "p = results.params\n",
    "\n",
    "# Gets predictor\n",
    "# df = Y.copy()\n",
    "# df[\"predicted\"] = df2.dot(p)\n",
    "\n",
    "results.fvalue"
   ]
  },
  {
   "cell_type": "code",
   "execution_count": 10,
   "metadata": {},
   "outputs": [],
   "source": [
    "def compute_umap(df, n_neighbors=15, n_components=2):\n",
    "    # apply umap\n",
    "    reducer = UMAP(n_neighbors=n_neighbors, n_components=n_components)\n",
    "    visual_embs = reducer.fit_transform(df)\n",
    "    return visual_embs, reducer"
   ]
  },
  {
   "cell_type": "code",
   "execution_count": 11,
   "metadata": {},
   "outputs": [
    {
     "name": "stderr",
     "output_type": "stream",
     "text": [
      "/casa/home/.local/lib/python3.10/site-packages/numba/np/ufunc/parallel.py:371: NumbaWarning: \u001b[1mThe TBB threading layer requires TBB version 2021 update 6 or later i.e., TBB_INTERFACE_VERSION >= 12060. Found TBB_INTERFACE_VERSION = 12050. The TBB threading layer is disabled.\u001b[0m\n",
      "  warnings.warn(problem)\n"
     ]
    }
   ],
   "source": [
    "visual, _ = compute_umap(merged.iloc[:,2:])"
   ]
  },
  {
   "cell_type": "code",
   "execution_count": 12,
   "metadata": {},
   "outputs": [],
   "source": [
    "# Gets predictor\n",
    "df = Y.copy()\n",
    "df[\"predicted\"] = visual[:,0]"
   ]
  },
  {
   "cell_type": "markdown",
   "metadata": {},
   "source": [
    "### Function definitions"
   ]
  },
  {
   "cell_type": "code",
   "execution_count": 13,
   "metadata": {},
   "outputs": [],
   "source": [
    "def to_bucket(obj):\n",
    "    if obj.type() == obj.BUCKET:\n",
    "        return obj\n",
    "    avol = a.toAimsObject(obj)\n",
    "    c = aims.Converter(intype=avol, outtype=aims.BucketMap_VOID)\n",
    "    abck = c(avol)\n",
    "    bck = a.toAObject(abck)\n",
    "    bck.releaseAppRef()\n",
    "    return bck\n",
    "\n",
    "def build_gradient(pal):\n",
    "    gw = ana.cpp.GradientWidget(None, 'gradientwidget', pal.header()['palette_gradients'])\n",
    "    gw.setHasAlpha(True)\n",
    "    nc = pal.shape[0]\n",
    "    rgbp = gw.fillGradient(nc, True)\n",
    "    rgb = rgbp.data()\n",
    "    npal = pal.np['v']\n",
    "    pb = np.frombuffer(rgb, dtype=np.uint8).reshape((nc, 4))\n",
    "    npal[:, 0, 0, 0, :] = pb\n",
    "    npal[:, 0, 0, 0, :3] = npal[:, 0, 0, 0, :3][:, ::-1]  # BGRA -> RGBA\n",
    "    pal.update()\n",
    "\n",
    "def buckets_average(subject_id_list, dataset_name_list):\n",
    "    dic_vol = {}\n",
    "    dim = 0\n",
    "    rep = 0\n",
    "    if len(subject_id_list) == 0:\n",
    "        return False\n",
    "    while dim == 0 and rep < len(subject_id_list):\n",
    "        if dataset_name_list[rep].lower() in ['ukb', 'ukbiobank', 'projected_ukb']:\n",
    "            dataset = 'UkBioBank'\n",
    "        elif dataset_name_list[rep].lower() in ['hcp']:\n",
    "            dataset = 'hcp'\n",
    "        mm_skeleton_path = f\"/neurospin/dico/data/deep_folding/current/datasets/{dataset}/crops/2mm/{region}/mask/{side}crops\"\n",
    "        if os.path.isfile(f'{mm_skeleton_path}/{subject_id_list[rep]}_cropped_skeleton.nii.gz'):\n",
    "            sum_vol = aims.read(f'{mm_skeleton_path}/{subject_id_list[rep]}_cropped_skeleton.nii.gz').astype(float)\n",
    "            dim = sum_vol.shape\n",
    "            sum_vol.fill(0)\n",
    "        else: \n",
    "            print(f'FileNotFound {mm_skeleton_path}/{subject_id_list[rep]}_cropped_skeleton.nii.gz')\n",
    "            #raise FileNotFoundError(f'{mm_skeleton_path}/{subject_id_list[0]}_cropped_skeleton.nii.gz')\n",
    "        rep += 1\n",
    "\n",
    "    for subject_id, dataset in zip(subject_id_list,dataset_name_list):\n",
    "        if dataset.lower() in ['ukb', 'ukbiobank',  'projected_ukb']:\n",
    "            dataset = 'UkBioBank'\n",
    "        elif dataset.lower() == 'hcp':\n",
    "            dataset = 'hcp'\n",
    "            \n",
    "        mm_skeleton_path = f\"/neurospin/dico/data/deep_folding/current/datasets/{dataset}/crops/2mm/{region}/mask/{side}crops\"\n",
    "\n",
    "        if os.path.isfile(f'{mm_skeleton_path}/{subject_id}_cropped_skeleton.nii.gz'):\n",
    "            vol = aims.read(f'{mm_skeleton_path}/{subject_id}_cropped_skeleton.nii.gz')\n",
    "            # compare the dim with the first file dim\n",
    "\n",
    "            if vol.np.shape != dim:\n",
    "                raise ValueError(f\"{subject_id_list[0]} and {subject_id} must have the same dim\")\n",
    "\n",
    "                \n",
    "            # to have a binary 3D structure\n",
    "            dic_vol[subject_id] = (vol.np > 0).astype(int)\n",
    "            sum_vol.np[:] += (vol.np > 0).astype(int) \n",
    "        else: \n",
    "            print(f'FileNotFound {mm_skeleton_path}/{subject_id}_cropped_skeleton.nii.gz')\n",
    "            #raise FileNotFoundError(f'{mm_skeleton_path}/{subject_id}_cropped_skeleton.nii.gz')\n",
    "\n",
    "    sum_vol = sum_vol / len(subject_id_list)\n",
    "    print(sum_vol, sum_vol.shape)\n",
    "    return sum_vol"
   ]
  },
  {
   "cell_type": "code",
   "execution_count": 14,
   "metadata": {},
   "outputs": [],
   "source": [
    "def visualize_averages_along_parameter(df, column_name, database, nb_subjects_per_average=200, nb_columns=5, nb_lines=3):\n",
    "    # anatomist objects\n",
    "    global _block\n",
    "    global _average_dic\n",
    "    global dic_packages\n",
    "    nb_windows = nb_columns * nb_lines\n",
    "    _average_dic = {}\n",
    "    step = nb_subjects_per_average # number of subjects on which average is done\n",
    "    # Creates the block if it has not been created\n",
    "    # try:\n",
    "    #     _block\n",
    "    # except NameError:\n",
    "    _block = a.createWindowsBlock(nb_columns)\n",
    "\n",
    "    # Order according to column_name\n",
    "    df = df.sort_values(column_name)\n",
    "    predict_proba = df[[column_name]]\n",
    "\n",
    "    # Creates dictionary of subjects to average\n",
    "    dic_packages = {}\n",
    "    for i in range(0,len(predict_proba),step):\n",
    "        list_idx = (predict_proba.index[i:i+step].to_numpy())\n",
    "        dic_packages[i//step] = list_idx\n",
    "    \n",
    "    # Ensures that last list contains the last step subjects\n",
    "    list_idx = (predict_proba.index[-step:].to_numpy())\n",
    "    dic_packages[i//step] = list_idx\n",
    "    \n",
    "    list_database = [database for i in range(step)]\n",
    "    n_pack = len(dic_packages)\n",
    "\n",
    "    # Loop of display averages\n",
    "    list_pack = [int(np.ceil(i*n_pack/float(nb_windows))) for i in range(0,nb_windows)]\n",
    "    for i in list_pack:\n",
    "        sum_vol = buckets_average(dic_packages[i], list_database)\n",
    "        _average_dic[f'a_sum_vol{i}'] = a.toAObject(sum_vol)\n",
    "        _average_dic[f'a_sum_vol{i}'].setPalette(minVal=0, absoluteMode=True)\n",
    "        #wsum = a.createWindow('Sagittal', block=block)\n",
    "        #wsum.addObjects(a_sum_vol)\n",
    "        _average_dic[f'rvol{i}'] = a.fusionObjects(\n",
    "            objects=[_average_dic[f'a_sum_vol{i}']],\n",
    "            method='VolumeRenderingFusionMethod')\n",
    "        _average_dic[f'rvol{i}'].releaseAppRef()\n",
    "        # custom palette\n",
    "        n = len(dic_packages[i])\n",
    "        pal = a.createPalette('VR-palette')\n",
    "        pal.header()['palette_gradients'] = '0;0.459574;0.497872;0.910638;1;1#0;0;0.52766;0.417021;1;1#0;0.7;1;0#0;0;0.0297872;0.00851064;0.72766;0.178723;0.957447;0.808511;1;1'\n",
    "        #f'0;0.244444;0.5;1;1;1#0;0;0.535897;0.222222;1;1#0;0.7;1;0#0;0;{0.5/n};0;1;1'\n",
    "        build_gradient(pal)\n",
    "        _average_dic[f'rvol{i}'].setPalette('VR-palette', minVal=0.05, absoluteMode=True)\n",
    "        pal2 = a.createPalette('slice-palette')\n",
    "        pal2.header()['palette_gradients'] = '0;0.459574;0.497872;0.910638;1;1#0;0;0.52766;0.417021;1;1#0;0.7;1;0#0;0;0.0297872;0.00851064;0.72766;0.178723;0.957447;0.808511;1;1'\n",
    "        #f'0;0.244444;0.5;1;1;1#0;0;0.535897;0.222222;1;1#0;0.7;1;0#0;0;{0.3/n};0;{0.7/n};1;1;1'\n",
    "        build_gradient(pal2)\n",
    "        _average_dic[f'a_sum_vol{i}'].setPalette('slice-palette')\n",
    "        # rvol.palette().fill()\n",
    "        _average_dic[f'wvr{i}'] = a.createWindow('3D', block=_block)\n",
    "        _average_dic[f'wvr{i}'].addObjects(_average_dic[f'rvol{i}'])"
   ]
  },
  {
   "cell_type": "markdown",
   "metadata": {},
   "source": [
    "### Visualization"
   ]
  },
  {
   "cell_type": "code",
   "execution_count": 23,
   "metadata": {},
   "outputs": [
    {
     "name": "stdout",
     "output_type": "stream",
     "text": [
      "<soma.aims.Volume_DOUBLE object at 0x770c52e4ac20> (34, 62, 41, 1)\n",
      "<soma.aims.Volume_DOUBLE object at 0x770c52e403a0> (34, 62, 41, 1)\n",
      "<soma.aims.Volume_DOUBLE object at 0x770c52e3e680> (34, 62, 41, 1)\n",
      "<soma.aims.Volume_DOUBLE object at 0x770c52e41870> (34, 62, 41, 1)\n",
      "<soma.aims.Volume_DOUBLE object at 0x770c52e35bd0> (34, 62, 41, 1)\n",
      "<soma.aims.Volume_DOUBLE object at 0x770c52e33130> (34, 62, 41, 1)\n",
      "<soma.aims.Volume_DOUBLE object at 0x770c52e2e7a0> (34, 62, 41, 1)\n",
      "<soma.aims.Volume_DOUBLE object at 0x770c52e28940> (34, 62, 41, 1)\n",
      "<soma.aims.Volume_DOUBLE object at 0x770c52e29000> (34, 62, 41, 1)\n",
      "<soma.aims.Volume_DOUBLE object at 0x770c52e540d0> (34, 62, 41, 1)\n",
      "<soma.aims.Volume_DOUBLE object at 0x770c52e51000> (34, 62, 41, 1)\n",
      "<soma.aims.Volume_DOUBLE object at 0x770c52e2e680> (34, 62, 41, 1)\n",
      "<soma.aims.Volume_DOUBLE object at 0x770c52e445e0> (34, 62, 41, 1)\n",
      "<soma.aims.Volume_DOUBLE object at 0x770c46d6cdc0> (34, 62, 41, 1)\n",
      "<soma.aims.Volume_DOUBLE object at 0x770c46d6ce50> (34, 62, 41, 1)\n"
     ]
    }
   ],
   "source": [
    "# block = a.createWindowsBlock(10)\n",
    "visualize_averages_along_parameter(df, \"predicted\", database, nb_subjects_per_average=200)"
   ]
  },
  {
   "cell_type": "code",
   "execution_count": 16,
   "metadata": {},
   "outputs": [
    {
     "data": {
      "text/plain": [
       "anatomist.direct.api.Anatomist.AWindowsBlock"
      ]
     },
     "execution_count": 16,
     "metadata": {},
     "output_type": "execute_result"
    }
   ],
   "source": [
    "type(_block)"
   ]
  },
  {
   "cell_type": "code",
   "execution_count": 17,
   "metadata": {},
   "outputs": [
    {
     "data": {
      "text/html": [
       "<div>\n",
       "<style scoped>\n",
       "    .dataframe tbody tr th:only-of-type {\n",
       "        vertical-align: middle;\n",
       "    }\n",
       "\n",
       "    .dataframe tbody tr th {\n",
       "        vertical-align: top;\n",
       "    }\n",
       "\n",
       "    .dataframe thead th {\n",
       "        text-align: right;\n",
       "    }\n",
       "</style>\n",
       "<table border=\"1\" class=\"dataframe\">\n",
       "  <thead>\n",
       "    <tr style=\"text-align: right;\">\n",
       "      <th></th>\n",
       "      <th>Sex</th>\n",
       "      <th>predicted</th>\n",
       "    </tr>\n",
       "  </thead>\n",
       "  <tbody>\n",
       "    <tr>\n",
       "      <th>sub-2224939</th>\n",
       "      <td>0.0</td>\n",
       "      <td>-0.458989</td>\n",
       "    </tr>\n",
       "    <tr>\n",
       "      <th>sub-3392485</th>\n",
       "      <td>0.0</td>\n",
       "      <td>-0.458235</td>\n",
       "    </tr>\n",
       "    <tr>\n",
       "      <th>sub-3497339</th>\n",
       "      <td>0.0</td>\n",
       "      <td>-0.450645</td>\n",
       "    </tr>\n",
       "    <tr>\n",
       "      <th>sub-5858550</th>\n",
       "      <td>1.0</td>\n",
       "      <td>-0.443236</td>\n",
       "    </tr>\n",
       "    <tr>\n",
       "      <th>sub-1280328</th>\n",
       "      <td>0.0</td>\n",
       "      <td>-0.442280</td>\n",
       "    </tr>\n",
       "    <tr>\n",
       "      <th>...</th>\n",
       "      <td>...</td>\n",
       "      <td>...</td>\n",
       "    </tr>\n",
       "    <tr>\n",
       "      <th>sub-2140312</th>\n",
       "      <td>1.0</td>\n",
       "      <td>9.351196</td>\n",
       "    </tr>\n",
       "    <tr>\n",
       "      <th>sub-4260451</th>\n",
       "      <td>0.0</td>\n",
       "      <td>9.352534</td>\n",
       "    </tr>\n",
       "    <tr>\n",
       "      <th>sub-5862929</th>\n",
       "      <td>1.0</td>\n",
       "      <td>9.358170</td>\n",
       "    </tr>\n",
       "    <tr>\n",
       "      <th>sub-1731824</th>\n",
       "      <td>1.0</td>\n",
       "      <td>9.380847</td>\n",
       "    </tr>\n",
       "    <tr>\n",
       "      <th>sub-4116126</th>\n",
       "      <td>1.0</td>\n",
       "      <td>9.411384</td>\n",
       "    </tr>\n",
       "  </tbody>\n",
       "</table>\n",
       "<p>19605 rows × 2 columns</p>\n",
       "</div>"
      ],
      "text/plain": [
       "             Sex  predicted\n",
       "sub-2224939  0.0  -0.458989\n",
       "sub-3392485  0.0  -0.458235\n",
       "sub-3497339  0.0  -0.450645\n",
       "sub-5858550  1.0  -0.443236\n",
       "sub-1280328  0.0  -0.442280\n",
       "...          ...        ...\n",
       "sub-2140312  1.0   9.351196\n",
       "sub-4260451  0.0   9.352534\n",
       "sub-5862929  1.0   9.358170\n",
       "sub-1731824  1.0   9.380847\n",
       "sub-4116126  1.0   9.411384\n",
       "\n",
       "[19605 rows x 2 columns]"
      ]
     },
     "execution_count": 17,
     "metadata": {},
     "output_type": "execute_result"
    }
   ],
   "source": [
    "df.sort_values(\"predicted\")"
   ]
  },
  {
   "cell_type": "markdown",
   "metadata": {},
   "source": [
    "# Displaying subjects"
   ]
  },
  {
   "cell_type": "code",
   "execution_count": 18,
   "metadata": {},
   "outputs": [],
   "source": [
    "# list_subjects = list_smallest\n",
    "# block = a.createWindowsBlock(5) # 5 columns\n",
    "# dic_windows = {}\n",
    "# for subject in list_subjects:\n",
    "#     path_to_t1mri = f'/neurospin/dico/data/bv_databases/human/not_labeled/hcp/hcp/{subject}/t1mri/BL'\n",
    "#     dic_windows[f'w{subject}'] = a.createWindow(\"3D\", block=block)\n",
    "#     dic_windows[f'white_{subject}'] = a.loadObject(f'{path_to_t1mri}/default_analysis/segmentation/mesh/{subject}_{side}white.gii')\n",
    "#     dic_windows[f'white_{subject}'].loadReferentialFromHeader()\n",
    "#     dic_windows[f'sulci_{subject}'] = a.loadObject(f'{path_to_t1mri}/default_analysis/folds/3.1/{side}{subject}.arg')\n",
    "#     dic_windows[f'sulci_{subject}'].loadReferentialFromHeader()\n",
    "#     dic_windows[f'w{subject}'].addObjects([dic_windows[f'white_{subject}'], dic_windows[f'sulci_{subject}']])"
   ]
  },
  {
   "cell_type": "code",
   "execution_count": 19,
   "metadata": {},
   "outputs": [],
   "source": [
    "# df.sort_values(\"predicted\")[::10]"
   ]
  },
  {
   "cell_type": "code",
   "execution_count": 20,
   "metadata": {},
   "outputs": [],
   "source": [
    "# df_concat = pd.concat([df.sort_values(\"predicted\")[::10][:5], df.sort_values(\"predicted\")[::10][-5:]])"
   ]
  },
  {
   "cell_type": "code",
   "execution_count": 21,
   "metadata": {},
   "outputs": [],
   "source": [
    "# df_concat"
   ]
  },
  {
   "cell_type": "code",
   "execution_count": 22,
   "metadata": {},
   "outputs": [
    {
     "name": "stderr",
     "output_type": "stream",
     "text": [
      "QLayout: Attempting to add QLayout \"\" to QWidget \"\", which already has a layout\n"
     ]
    },
    {
     "name": "stdout",
     "output_type": "stream",
     "text": [
      "no position could be read at 535, 364\n"
     ]
    }
   ],
   "source": [
    "# visualize_averages_along_parameter(df_concat, \"predicted\", database, nb_subjects_per_average=1, nb_columns=5, nb_lines=2)"
   ]
  },
  {
   "cell_type": "code",
   "execution_count": null,
   "metadata": {},
   "outputs": [],
   "source": []
  }
 ],
 "metadata": {
  "kernelspec": {
   "display_name": "venv",
   "language": "python",
   "name": "python3"
  },
  "language_info": {
   "codemirror_mode": {
    "name": "ipython",
    "version": 3
   },
   "file_extension": ".py",
   "mimetype": "text/x-python",
   "name": "python",
   "nbconvert_exporter": "python",
   "pygments_lexer": "ipython3",
   "version": "3.10.12"
  }
 },
 "nbformat": 4,
 "nbformat_minor": 2
}
