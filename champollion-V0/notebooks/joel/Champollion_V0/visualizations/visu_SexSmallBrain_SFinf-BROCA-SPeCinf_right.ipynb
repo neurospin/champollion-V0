{
 "cells": [
  {
   "cell_type": "code",
   "execution_count": 1,
   "metadata": {},
   "outputs": [
    {
     "name": "stderr",
     "output_type": "stream",
     "text": [
      "/usr/lib/python3/dist-packages/scipy/__init__.py:146: UserWarning: A NumPy version >=1.17.3 and <1.25.0 is required for this version of SciPy (detected version 1.26.4\n",
      "  warnings.warn(f\"A NumPy version >={np_minversion} and <{np_maxversion}\"\n"
     ]
    }
   ],
   "source": [
    "import anatomist.api as ana\n",
    "from soma.qt_gui.qtThread import QtThreadCall\n",
    "from soma.qt_gui.qt_backend import Qt\n",
    "\n",
    "from soma import aims\n",
    "import numpy as np\n",
    "import pandas as pd\n",
    "import os\n",
    "\n",
    "from sklearn.preprocessing import StandardScaler\n",
    "import statsmodels.api as sm\n",
    "\n"
   ]
  },
  {
   "cell_type": "code",
   "execution_count": 2,
   "metadata": {},
   "outputs": [
    {
     "name": "stdout",
     "output_type": "stream",
     "text": [
      "create qapp\n",
      "global modules: /casa/host/build/share/anatomist-5.2/python_plugins\n",
      "home   modules: /casa/home/.anatomist/python_plugins\n",
      "done\n",
      "Starting Anatomist.....\n",
      "config file : /casa/home/.anatomist/config/settings.cfg\n",
      "PyAnatomist Module present\n",
      "PythonLauncher::runModules()\n",
      "loading module meshsplit\n",
      "loading module palettecontrols\n",
      "loading module volumepalettes\n"
     ]
    },
    {
     "name": "stderr",
     "output_type": "stream",
     "text": [
      "existing QApplication: 0\n",
      "QStandardPaths: XDG_RUNTIME_DIR not set, defaulting to '/tmp/runtime-jc225751'\n"
     ]
    },
    {
     "name": "stdout",
     "output_type": "stream",
     "text": [
      "loading module save_resampled\n",
      "loading module profilewindow\n",
      "loading module statsplotwindow\n",
      "loading module anacontrolmenu\n",
      "loading module infowindow\n",
      "loading module foldsplit\n",
      "loading module simple_controls\n",
      "loading module histogram\n",
      "loading module valuesplotwindow\n",
      "loading module ana_image_math\n",
      "loading module modelGraphs\n",
      "loading module paletteViewer\n",
      "loading module bsa_proba\n",
      "loading module gradientpalette\n",
      "loading module selection\n",
      "loading module gltf_io\n",
      "all python modules loaded\n",
      "Anatomist started.\n"
     ]
    }
   ],
   "source": [
    "a = ana.Anatomist()"
   ]
  },
  {
   "cell_type": "markdown",
   "metadata": {},
   "source": [
    "### Variable definitions"
   ]
  },
  {
   "cell_type": "code",
   "execution_count": 3,
   "metadata": {},
   "outputs": [],
   "source": [
    "embeddings_file = \"/neurospin/dico/data/deep_folding/current/models/Champollion_V0/SFinf-BROCA-SPeCinf_right/12-25-50_1/ukb_random_embeddings/full_embeddings.csv\"\n",
    "participants_file = \"/neurospin/dico/data/deep_folding/current/datasets/UkBioBank/participants.csv\""
   ]
  },
  {
   "cell_type": "code",
   "execution_count": 4,
   "metadata": {},
   "outputs": [],
   "source": [
    "label_before = \"BrainVolumeFreeSurfer_mm3\"\n",
    "label = \"Sex\""
   ]
  },
  {
   "cell_type": "code",
   "execution_count": 15,
   "metadata": {},
   "outputs": [],
   "source": [
    "side = \"R\" # \"R\" or \"L\"\n",
    "region = \"S.F.inf.-BROCA-S.Pe.C.inf.\" # \"S.C.-sylv.\", \"ORBITAL\", \"CINGULATE\", \"SC-sylv\", \"F.I.P.\"\n",
    "database='ukb'"
   ]
  },
  {
   "cell_type": "markdown",
   "metadata": {},
   "source": [
    "# Building predictors"
   ]
  },
  {
   "cell_type": "code",
   "execution_count": 16,
   "metadata": {},
   "outputs": [],
   "source": [
    "participants = pd.read_csv(participants_file, index_col=0)\n",
    "participants = participants[participants.isBigBrain==0]\n",
    "participants = participants[[\"Sex\", \"BrainVolumeFreeSurfer_mm3\"]]"
   ]
  },
  {
   "cell_type": "code",
   "execution_count": 17,
   "metadata": {},
   "outputs": [],
   "source": [
    "def closest_point(point, points):\n",
    "    \"\"\" Find closest point from a list of points. \"\"\"\n",
    "    return np.argsort((points-point)**2)[:10]"
   ]
  },
  {
   "cell_type": "code",
   "execution_count": 18,
   "metadata": {},
   "outputs": [],
   "source": [
    "females = participants[participants.Sex==0].copy()\n",
    "males = participants[participants.Sex==1].copy()\n",
    "\n",
    "females[\"chosen\"] = 0\n",
    "for one_male in males.iloc[:,1]:\n",
    "    chosen_rows = closest_point(one_male, females.iloc[:,1])\n",
    "    for chosen_row in chosen_rows:\n",
    "        if females.iloc[chosen_row, 2] == 0:\n",
    "            females.iloc[chosen_row, 2] = 1\n",
    "            break\n",
    "\n",
    "participants = pd.concat([males, females[females.chosen==1][[\"Sex\", \"BrainVolumeFreeSurfer_mm3\"]]])"
   ]
  },
  {
   "cell_type": "code",
   "execution_count": 19,
   "metadata": {},
   "outputs": [],
   "source": [
    "embeddings = pd.read_csv(embeddings_file, index_col=0)"
   ]
  },
  {
   "cell_type": "code",
   "execution_count": 20,
   "metadata": {},
   "outputs": [
    {
     "data": {
      "text/plain": [
       "2.0967100658746842"
      ]
     },
     "execution_count": 20,
     "metadata": {},
     "output_type": "execute_result"
    }
   ],
   "source": [
    "merged = participants[[label]].merge(embeddings, left_index=True, right_index=True)\n",
    "\n",
    "# Classifies\n",
    "X = merged.drop([label], axis=1)\n",
    "Y = merged[[label]].astype(float)\n",
    "\n",
    "# Standard scaler\n",
    "scaler = StandardScaler()\n",
    "X[X.columns] = scaler.fit_transform(X)\n",
    "df2 = X.copy()\n",
    "\n",
    "# Makes OLS\n",
    "df2 = sm.add_constant(df2)\n",
    "model = sm.OLS(Y[label], df2)\n",
    "results = model.fit()\n",
    "\n",
    "p = results.params\n",
    "\n",
    "# Gets predictor\n",
    "df = Y.copy()\n",
    "df[\"predicted\"] = df2.dot(p)\n",
    "\n",
    "results.fvalue"
   ]
  },
  {
   "cell_type": "code",
   "execution_count": 21,
   "metadata": {},
   "outputs": [
    {
     "data": {
      "text/html": [
       "<div>\n",
       "<style scoped>\n",
       "    .dataframe tbody tr th:only-of-type {\n",
       "        vertical-align: middle;\n",
       "    }\n",
       "\n",
       "    .dataframe tbody tr th {\n",
       "        vertical-align: top;\n",
       "    }\n",
       "\n",
       "    .dataframe thead th {\n",
       "        text-align: right;\n",
       "    }\n",
       "</style>\n",
       "<table border=\"1\" class=\"dataframe\">\n",
       "  <thead>\n",
       "    <tr style=\"text-align: right;\">\n",
       "      <th></th>\n",
       "      <th>Sex</th>\n",
       "      <th>predicted</th>\n",
       "    </tr>\n",
       "  </thead>\n",
       "  <tbody>\n",
       "    <tr>\n",
       "      <th>sub-2214448</th>\n",
       "      <td>1.0</td>\n",
       "      <td>1.386592</td>\n",
       "    </tr>\n",
       "    <tr>\n",
       "      <th>sub-1045691</th>\n",
       "      <td>1.0</td>\n",
       "      <td>0.822528</td>\n",
       "    </tr>\n",
       "    <tr>\n",
       "      <th>sub-5365179</th>\n",
       "      <td>1.0</td>\n",
       "      <td>0.789071</td>\n",
       "    </tr>\n",
       "    <tr>\n",
       "      <th>sub-4539455</th>\n",
       "      <td>1.0</td>\n",
       "      <td>0.843035</td>\n",
       "    </tr>\n",
       "    <tr>\n",
       "      <th>sub-2641978</th>\n",
       "      <td>1.0</td>\n",
       "      <td>0.767846</td>\n",
       "    </tr>\n",
       "    <tr>\n",
       "      <th>...</th>\n",
       "      <td>...</td>\n",
       "      <td>...</td>\n",
       "    </tr>\n",
       "    <tr>\n",
       "      <th>sub-3529016</th>\n",
       "      <td>0.0</td>\n",
       "      <td>0.293817</td>\n",
       "    </tr>\n",
       "    <tr>\n",
       "      <th>sub-2666797</th>\n",
       "      <td>0.0</td>\n",
       "      <td>0.496594</td>\n",
       "    </tr>\n",
       "    <tr>\n",
       "      <th>sub-5177527</th>\n",
       "      <td>0.0</td>\n",
       "      <td>0.079638</td>\n",
       "    </tr>\n",
       "    <tr>\n",
       "      <th>sub-5729360</th>\n",
       "      <td>0.0</td>\n",
       "      <td>0.221361</td>\n",
       "    </tr>\n",
       "    <tr>\n",
       "      <th>sub-5224110</th>\n",
       "      <td>0.0</td>\n",
       "      <td>0.265987</td>\n",
       "    </tr>\n",
       "  </tbody>\n",
       "</table>\n",
       "<p>440 rows × 2 columns</p>\n",
       "</div>"
      ],
      "text/plain": [
       "             Sex  predicted\n",
       "sub-2214448  1.0   1.386592\n",
       "sub-1045691  1.0   0.822528\n",
       "sub-5365179  1.0   0.789071\n",
       "sub-4539455  1.0   0.843035\n",
       "sub-2641978  1.0   0.767846\n",
       "...          ...        ...\n",
       "sub-3529016  0.0   0.293817\n",
       "sub-2666797  0.0   0.496594\n",
       "sub-5177527  0.0   0.079638\n",
       "sub-5729360  0.0   0.221361\n",
       "sub-5224110  0.0   0.265987\n",
       "\n",
       "[440 rows x 2 columns]"
      ]
     },
     "execution_count": 21,
     "metadata": {},
     "output_type": "execute_result"
    }
   ],
   "source": [
    "df"
   ]
  },
  {
   "cell_type": "markdown",
   "metadata": {},
   "source": [
    "### Function definitions"
   ]
  },
  {
   "cell_type": "code",
   "execution_count": 22,
   "metadata": {},
   "outputs": [],
   "source": [
    "def to_bucket(obj):\n",
    "    if obj.type() == obj.BUCKET:\n",
    "        return obj\n",
    "    avol = a.toAimsObject(obj)\n",
    "    c = aims.Converter(intype=avol, outtype=aims.BucketMap_VOID)\n",
    "    abck = c(avol)\n",
    "    bck = a.toAObject(abck)\n",
    "    bck.releaseAppRef()\n",
    "    return bck\n",
    "\n",
    "def build_gradient(pal):\n",
    "    gw = ana.cpp.GradientWidget(None, 'gradientwidget', pal.header()['palette_gradients'])\n",
    "    gw.setHasAlpha(True)\n",
    "    nc = pal.shape[0]\n",
    "    rgbp = gw.fillGradient(nc, True)\n",
    "    rgb = rgbp.data()\n",
    "    npal = pal.np['v']\n",
    "    pb = np.frombuffer(rgb, dtype=np.uint8).reshape((nc, 4))\n",
    "    npal[:, 0, 0, 0, :] = pb\n",
    "    npal[:, 0, 0, 0, :3] = npal[:, 0, 0, 0, :3][:, ::-1]  # BGRA -> RGBA\n",
    "    pal.update()\n",
    "\n",
    "def buckets_average(subject_id_list, dataset_name_list):\n",
    "    dic_vol = {}\n",
    "    dim = 0\n",
    "    rep = 0\n",
    "    if len(subject_id_list) == 0:\n",
    "        return False\n",
    "    while dim == 0 and rep < len(subject_id_list):\n",
    "        if dataset_name_list[rep].lower() in ['ukb', 'ukbiobank', 'projected_ukb']:\n",
    "            dataset = 'UkBioBank'\n",
    "        elif dataset_name_list[rep].lower() in ['hcp']:\n",
    "            dataset = 'hcp'\n",
    "        mm_skeleton_path = f\"/neurospin/dico/data/deep_folding/current/datasets/{dataset}/crops/2mm/{region}/mask/{side}crops\"\n",
    "        if os.path.isfile(f'{mm_skeleton_path}/{subject_id_list[rep]}_cropped_skeleton.nii.gz'):\n",
    "            sum_vol = aims.read(f'{mm_skeleton_path}/{subject_id_list[rep]}_cropped_skeleton.nii.gz').astype(float)\n",
    "            dim = sum_vol.shape\n",
    "            sum_vol.fill(0)\n",
    "        else: \n",
    "            print(f'FileNotFound {mm_skeleton_path}/{subject_id_list[rep]}_cropped_skeleton.nii.gz')\n",
    "            #raise FileNotFoundError(f'{mm_skeleton_path}/{subject_id_list[0]}_cropped_skeleton.nii.gz')\n",
    "        rep += 1\n",
    "\n",
    "    for subject_id, dataset in zip(subject_id_list,dataset_name_list):\n",
    "        if dataset.lower() in ['ukb', 'ukbiobank',  'projected_ukb']:\n",
    "            dataset = 'UkBioBank'\n",
    "        elif dataset.lower() == 'hcp':\n",
    "            dataset = 'hcp'\n",
    "            \n",
    "        mm_skeleton_path = f\"/neurospin/dico/data/deep_folding/current/datasets/{dataset}/crops/2mm/{region}/mask/{side}crops\"\n",
    "\n",
    "        if os.path. isfile(f'{mm_skeleton_path}/{subject_id}_cropped_skeleton.nii.gz'):\n",
    "            vol = aims.read(f'{mm_skeleton_path}/{subject_id}_cropped_skeleton.nii.gz')\n",
    "            # compare the dim with the first file dim\n",
    "\n",
    "            if vol.np.shape != dim:\n",
    "                raise ValueError(f\"{subject_id_list[0]} and {subject_id} must have the same dim\")\n",
    "\n",
    "                \n",
    "            # to have a binary 3D structure\n",
    "            dic_vol[subject_id] = (vol.np > 0).astype(int)\n",
    "            sum_vol.np[:] += (vol.np > 0).astype(int) \n",
    "        else: \n",
    "            print(f'FileNotFound {mm_skeleton_path}/{subject_id}_cropped_skeleton.nii.gz')\n",
    "            #raise FileNotFoundError(f'{mm_skeleton_path}/{subject_id}_cropped_skeleton.nii.gz')\n",
    "\n",
    "    sum_vol = sum_vol / len(subject_id_list)\n",
    "    print(sum_vol, sum_vol.shape)\n",
    "    return sum_vol"
   ]
  },
  {
   "cell_type": "code",
   "execution_count": 23,
   "metadata": {},
   "outputs": [],
   "source": [
    "def visualize_averages_along_parameter(df, column_name, database, nb_subjects_per_average=100, nb_columns=3, nb_lines=1):\n",
    "    # anatomist objects\n",
    "    global _block\n",
    "    global _average_dic\n",
    "    global dic_packages\n",
    "    nb_windows = nb_columns * nb_lines\n",
    "    _average_dic = {}\n",
    "    step = nb_subjects_per_average # number of subjects on which average is done\n",
    "    # Creates the block if it has not been created\n",
    "    try:\n",
    "        _block\n",
    "    except NameError:\n",
    "        _block = a.createWindowsBlock(nb_columns)\n",
    "\n",
    "    # Order according to column_name\n",
    "    df = df.sort_values(column_name)\n",
    "    predict_proba = df[[column_name]]\n",
    "\n",
    "    # Creates dictionary of subjects to average\n",
    "    dic_packages = {}\n",
    "    for i in range(0,len(predict_proba),step):\n",
    "        list_idx = (predict_proba.index[i:i+step].to_numpy())\n",
    "        dic_packages[i//step] = list_idx\n",
    "        \n",
    "    # Ensures that last list contains the last step subjects\n",
    "    list_idx = (predict_proba.index[-step:].to_numpy())\n",
    "    dic_packages[i//step] = list_idx\n",
    "    \n",
    "    list_database = [database for i in range(step)]\n",
    "    n_pack = len(dic_packages)\n",
    "\n",
    "    # Loop of display averages\n",
    "    list_pack = [int(np.ceil(i*n_pack/float(nb_windows))) for i in range(0,nb_windows)]\n",
    "    for i in list_pack:\n",
    "        sum_vol = buckets_average(dic_packages[i], list_database)\n",
    "        _average_dic[f'a_sum_vol{i}'] = a.toAObject(sum_vol)\n",
    "        _average_dic[f'a_sum_vol{i}'].setPalette(minVal=0, absoluteMode=True)\n",
    "        #wsum = a.createWindow('Sagittal', block=block)\n",
    "        #wsum.addObjects(a_sum_vol)\n",
    "        _average_dic[f'rvol{i}'] = a.fusionObjects(\n",
    "            objects=[_average_dic[f'a_sum_vol{i}']],\n",
    "            method='VolumeRenderingFusionMethod')\n",
    "        _average_dic[f'rvol{i}'].releaseAppRef()\n",
    "        # custom palette\n",
    "        n = len(dic_packages[i])\n",
    "        pal = a.createPalette('VR-palette')\n",
    "        pal.header()['palette_gradients'] = '0;0.459574;0.497872;0.910638;1;1#0;0;0.52766;0.417021;1;1#0;0.7;1;0#0;0;0.0297872;0.00851064;0.72766;0.178723;0.957447;0.808511;1;1'\n",
    "        #f'0;0.244444;0.5;1;1;1#0;0;0.535897;0.222222;1;1#0;0.7;1;0#0;0;{0.5/n};0;1;1'\n",
    "        build_gradient(pal)\n",
    "        _average_dic[f'rvol{i}'].setPalette('VR-palette', minVal=0.05, absoluteMode=True)\n",
    "        pal2 = a.createPalette('slice-palette')\n",
    "        pal2.header()['palette_gradients'] = '0;0.459574;0.497872;0.910638;1;1#0;0;0.52766;0.417021;1;1#0;0.7;1;0#0;0;0.0297872;0.00851064;0.72766;0.178723;0.957447;0.808511;1;1'\n",
    "        #f'0;0.244444;0.5;1;1;1#0;0;0.535897;0.222222;1;1#0;0.7;1;0#0;0;{0.3/n};0;{0.7/n};1;1;1'\n",
    "        build_gradient(pal2)\n",
    "        _average_dic[f'a_sum_vol{i}'].setPalette('slice-palette')\n",
    "        # rvol.palette().fill()\n",
    "        _average_dic[f'wvr{i}'] = a.createWindow('3D', block=_block)\n",
    "        _average_dic[f'wvr{i}'].addObjects(_average_dic[f'rvol{i}'])"
   ]
  },
  {
   "cell_type": "markdown",
   "metadata": {},
   "source": [
    "### Visualization"
   ]
  },
  {
   "cell_type": "code",
   "execution_count": 24,
   "metadata": {},
   "outputs": [
    {
     "name": "stdout",
     "output_type": "stream",
     "text": [
      "<soma.aims.Volume_DOUBLE object at 0x7ca95e9a4430> (26, 40, 43, 1)\n",
      "Multitexturing present\n",
      "function glActiveTexture found.\n",
      "function glClientActiveTexture found.\n",
      "function glBlendEquation found.\n",
      "function glTexImage3D found.\n",
      "function glMultiTexCoord3f found.\n",
      "function glBindFramebuffer found.\n",
      "function glBindRenderbuffer found.\n",
      "function glFramebufferTexture2D found.\n",
      "function glGenFramebuffers found.\n",
      "function glGenRenderbuffers found.\n",
      "function glFramebufferRenderbuffer found.\n",
      "function glRenderbufferStorage found.\n",
      "function glCheckFramebufferStatus found.\n",
      "function glDeleteRenderbuffers found.\n",
      "function glDeleteFramebuffers found.\n",
      "Number of texture units: 4\n",
      "function glUniform1f found.\n",
      "function glUniform1i found.\n",
      "function glUniform4fv found.\n",
      "function glGetUniformLocation found.\n",
      "function glMultTransposeMatrixf found.\n",
      "function glAttachShader found.\n",
      "function glDetachShader found.\n",
      "function glCompileShader found.\n",
      "function glCreateProgram found.\n",
      "function glCreateShader found.\n",
      "function glDeleteProgram found.\n",
      "function glDeleteShader found.\n",
      "function glGetProgramiv found.\n",
      "function glGetShaderiv found.\n",
      "function glLinkProgram found.\n",
      "function glShaderSource found.\n",
      "function glUseProgram found.\n",
      "GL_ARB_shadow present\n",
      "GL_SGIX_shadow present\n",
      "GL_SGIX_depth_texture extension present\n",
      "GL_ARB_depth_texture extension present\n",
      "GL_ARB_texture_cube_map extension present\n",
      "GL_EXT_texture_cube_map extension present\n",
      "Number of texture units: 4\n",
      "<soma.aims.Volume_DOUBLE object at 0x7ca93c16bb50> (26, 40, 43, 1)\n",
      "<soma.aims.Volume_DOUBLE object at 0x7ca93c16b910> (26, 40, 43, 1)\n"
     ]
    },
    {
     "name": "stderr",
     "output_type": "stream",
     "text": [
      "QLayout: Attempting to add QLayout \"\" to QWidget \"\", which already has a layout\n"
     ]
    },
    {
     "name": "stdout",
     "output_type": "stream",
     "text": [
      "Exiting QApplication\n"
     ]
    },
    {
     "ename": "",
     "evalue": "",
     "output_type": "error",
     "traceback": [
      "\u001b[1;31mThe Kernel crashed while executing code in the current cell or a previous cell. \n",
      "\u001b[1;31mPlease review the code in the cell(s) to identify a possible cause of the failure. \n",
      "\u001b[1;31mClick <a href='https://aka.ms/vscodeJupyterKernelCrash'>here</a> for more info. \n",
      "\u001b[1;31mView Jupyter <a href='command:jupyter.viewOutput'>log</a> for further details."
     ]
    }
   ],
   "source": [
    "# block = a.createWindowsBlock(10)\n",
    "visualize_averages_along_parameter(df, \"predicted\", database)"
   ]
  },
  {
   "cell_type": "code",
   "execution_count": null,
   "metadata": {},
   "outputs": [
    {
     "data": {
      "text/plain": [
       "anatomist.direct.api.Anatomist.AWindowsBlock"
      ]
     },
     "execution_count": 12,
     "metadata": {},
     "output_type": "execute_result"
    }
   ],
   "source": [
    "type(_block)"
   ]
  },
  {
   "cell_type": "code",
   "execution_count": null,
   "metadata": {},
   "outputs": [
    {
     "data": {
      "text/plain": [
       "{'a_sum_vol0': <anatomist.cpp.anatomist.SliceableObject object at 0x797cf1fd8430>,\n",
       " 'rvol0': <anatomist.cpp.anatomist.MObject object at 0x797ac0588160>,\n",
       " 'wvr0': <anatomist.cpp.weak_shared_ptr_AWindow object at 0x797ac05888b0>,\n",
       " 'a_sum_vol2': <anatomist.cpp.anatomist.SliceableObject object at 0x797cf29b8700>,\n",
       " 'rvol2': <anatomist.cpp.anatomist.MObject object at 0x797aaf135750>,\n",
       " 'wvr2': <anatomist.cpp.weak_shared_ptr_AWindow object at 0x797aaf1356c0>,\n",
       " 'a_sum_vol3': <anatomist.cpp.anatomist.SliceableObject object at 0x797ac0588820>,\n",
       " 'rvol3': <anatomist.cpp.anatomist.MObject object at 0x797aaf1841f0>,\n",
       " 'wvr3': <anatomist.cpp.weak_shared_ptr_AWindow object at 0x797aaf167e20>,\n",
       " 'a_sum_vol4': <anatomist.cpp.anatomist.SliceableObject object at 0x797aaf167f40>,\n",
       " 'rvol4': <anatomist.cpp.anatomist.MObject object at 0x797aaf164550>,\n",
       " 'wvr4': <anatomist.cpp.weak_shared_ptr_AWindow object at 0x797aaf164d30>,\n",
       " 'a_sum_vol5': <anatomist.cpp.anatomist.SliceableObject object at 0x797aaf165120>,\n",
       " 'rvol5': <anatomist.cpp.anatomist.MObject object at 0x797aaf181fc0>,\n",
       " 'wvr5': <anatomist.cpp.weak_shared_ptr_AWindow object at 0x797aaf181cf0>,\n",
       " 'a_sum_vol6': <anatomist.cpp.anatomist.SliceableObject object at 0x797aaf181c60>,\n",
       " 'rvol6': <anatomist.cpp.anatomist.MObject object at 0x797aaf191e10>,\n",
       " 'wvr6': <anatomist.cpp.weak_shared_ptr_AWindow object at 0x797aaf182b00>,\n",
       " 'a_sum_vol8': <anatomist.cpp.anatomist.SliceableObject object at 0x797aaf191ab0>,\n",
       " 'rvol8': <anatomist.cpp.anatomist.MObject object at 0x797aaf182830>,\n",
       " 'wvr8': <anatomist.cpp.weak_shared_ptr_AWindow object at 0x797aaf1824d0>,\n",
       " 'a_sum_vol9': <anatomist.cpp.anatomist.SliceableObject object at 0x797aaf182b90>,\n",
       " 'rvol9': <anatomist.cpp.anatomist.MObject object at 0x797aaf19ac20>,\n",
       " 'wvr9': <anatomist.cpp.weak_shared_ptr_AWindow object at 0x797aaf19a950>,\n",
       " 'a_sum_vol10': <anatomist.cpp.anatomist.SliceableObject object at 0x797aaf19a8c0>,\n",
       " 'rvol10': <anatomist.cpp.anatomist.MObject object at 0x797aaf196a70>,\n",
       " 'wvr10': <anatomist.cpp.weak_shared_ptr_AWindow object at 0x797aaf197f40>,\n",
       " 'a_sum_vol11': <anatomist.cpp.anatomist.SliceableObject object at 0x797aaf196710>,\n",
       " 'rvol11': <anatomist.cpp.anatomist.MObject object at 0x797aaf1a0310>,\n",
       " 'wvr11': <anatomist.cpp.weak_shared_ptr_AWindow object at 0x797aaf1a3e20>,\n",
       " 'a_sum_vol12': <anatomist.cpp.anatomist.SliceableObject object at 0x797aaf1967a0>,\n",
       " 'rvol12': <anatomist.cpp.anatomist.MObject object at 0x797aaf1a4160>,\n",
       " 'wvr12': <anatomist.cpp.weak_shared_ptr_AWindow object at 0x797aaf1a1090>,\n",
       " 'a_sum_vol14': <anatomist.cpp.anatomist.SliceableObject object at 0x797aaf1a3eb0>,\n",
       " 'rvol14': <anatomist.cpp.anatomist.MObject object at 0x797aaf1a0d30>,\n",
       " 'wvr14': <anatomist.cpp.weak_shared_ptr_AWindow object at 0x797aaf1a0280>,\n",
       " 'a_sum_vol15': <anatomist.cpp.anatomist.SliceableObject object at 0x797aaf1a0ee0>,\n",
       " 'rvol15': <anatomist.cpp.anatomist.MObject object at 0x797aaf1ad750>,\n",
       " 'wvr15': <anatomist.cpp.weak_shared_ptr_AWindow object at 0x797aaf1ad480>,\n",
       " 'a_sum_vol16': <anatomist.cpp.anatomist.SliceableObject object at 0x797aaf1ad3f0>,\n",
       " 'rvol16': <anatomist.cpp.anatomist.MObject object at 0x797aaf1b15a0>,\n",
       " 'wvr16': <anatomist.cpp.weak_shared_ptr_AWindow object at 0x797aaf19b640>,\n",
       " 'a_sum_vol17': <anatomist.cpp.anatomist.SliceableObject object at 0x797aaf19b0a0>,\n",
       " 'rvol17': <anatomist.cpp.anatomist.MObject object at 0x797aaf1a0430>,\n",
       " 'wvr17': <anatomist.cpp.weak_shared_ptr_AWindow object at 0x797aaf19aef0>}"
      ]
     },
     "execution_count": 13,
     "metadata": {},
     "output_type": "execute_result"
    },
    {
     "name": "stdout",
     "output_type": "stream",
     "text": [
      "no position could be read at 496, 354\n"
     ]
    },
    {
     "name": "stderr",
     "output_type": "stream",
     "text": [
      "QLayout: Attempting to add QLayout \"\" to QWidget \"\", which already has a layout\n"
     ]
    }
   ],
   "source": [
    "_average_dic"
   ]
  },
  {
   "cell_type": "code",
   "execution_count": null,
   "metadata": {},
   "outputs": [],
   "source": []
  }
 ],
 "metadata": {
  "kernelspec": {
   "display_name": "venv",
   "language": "python",
   "name": "python3"
  },
  "language_info": {
   "codemirror_mode": {
    "name": "ipython",
    "version": 3
   },
   "file_extension": ".py",
   "mimetype": "text/x-python",
   "name": "python",
   "nbconvert_exporter": "python",
   "pygments_lexer": "ipython3",
   "version": "3.10.12"
  }
 },
 "nbformat": 4,
 "nbformat_minor": 2
}
