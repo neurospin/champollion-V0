{
 "cells": [
  {
   "cell_type": "code",
   "execution_count": 11,
   "metadata": {},
   "outputs": [],
   "source": [
    "import anatomist.api as ana\n",
    "from soma.qt_gui.qtThread import QtThreadCall\n",
    "from soma.qt_gui.qt_backend import Qt\n",
    "\n",
    "from soma import aims\n",
    "import numpy as np\n",
    "import pandas as pd\n",
    "import os\n",
    "\n",
    "from sklearn.preprocessing import StandardScaler\n",
    "import statsmodels.api as sm\n",
    "\n"
   ]
  },
  {
   "cell_type": "code",
   "execution_count": 12,
   "metadata": {},
   "outputs": [],
   "source": [
    "a = ana.Anatomist()"
   ]
  },
  {
   "cell_type": "markdown",
   "metadata": {},
   "source": [
    "### Variable definitions"
   ]
  },
  {
   "cell_type": "code",
   "execution_count": 13,
   "metadata": {},
   "outputs": [],
   "source": [
    "embeddings_file = \"/neurospin/dico/data/deep_folding/current/models/Champollion_V0/UKB-RAP/right-handed-ukb40/FColl-SRh_left_predicted.csv\"\n",
    "qc_file = \"/neurospin/dico/data/deep_folding/current/datasets/UkBioBank40/qc.tsv\""
   ]
  },
  {
   "cell_type": "code",
   "execution_count": 14,
   "metadata": {},
   "outputs": [],
   "source": [
    "label = \"qc\""
   ]
  },
  {
   "cell_type": "code",
   "execution_count": 15,
   "metadata": {},
   "outputs": [],
   "source": [
    "side = \"L\" # \"R\" or \"L\"\n",
    "region = \"F.Coll.-S.Rh.\"# \"S.C.-sylv.\", \"ORBITAL\", \"CINGULATE\", \"SC-sylv\", \"F.I.P.\"\n",
    "database='UkBioBank'"
   ]
  },
  {
   "cell_type": "markdown",
   "metadata": {},
   "source": [
    "# Building predictors"
   ]
  },
  {
   "cell_type": "code",
   "execution_count": 16,
   "metadata": {},
   "outputs": [
    {
     "data": {
      "text/html": [
       "<div>\n",
       "<style scoped>\n",
       "    .dataframe tbody tr th:only-of-type {\n",
       "        vertical-align: middle;\n",
       "    }\n",
       "\n",
       "    .dataframe tbody tr th {\n",
       "        vertical-align: top;\n",
       "    }\n",
       "\n",
       "    .dataframe thead th {\n",
       "        text-align: right;\n",
       "    }\n",
       "</style>\n",
       "<table border=\"1\" class=\"dataframe\">\n",
       "  <thead>\n",
       "    <tr style=\"text-align: right;\">\n",
       "      <th></th>\n",
       "      <th>qc</th>\n",
       "    </tr>\n",
       "    <tr>\n",
       "      <th>participant_id</th>\n",
       "      <th></th>\n",
       "    </tr>\n",
       "  </thead>\n",
       "  <tbody>\n",
       "    <tr>\n",
       "      <th>sub-1000021</th>\n",
       "      <td>1</td>\n",
       "    </tr>\n",
       "    <tr>\n",
       "      <th>sub-1000325</th>\n",
       "      <td>1</td>\n",
       "    </tr>\n",
       "    <tr>\n",
       "      <th>sub-1000458</th>\n",
       "      <td>1</td>\n",
       "    </tr>\n",
       "    <tr>\n",
       "      <th>sub-1000575</th>\n",
       "      <td>1</td>\n",
       "    </tr>\n",
       "    <tr>\n",
       "      <th>sub-1000606</th>\n",
       "      <td>1</td>\n",
       "    </tr>\n",
       "  </tbody>\n",
       "</table>\n",
       "</div>"
      ],
      "text/plain": [
       "                qc\n",
       "participant_id    \n",
       "sub-1000021      1\n",
       "sub-1000325      1\n",
       "sub-1000458      1\n",
       "sub-1000575      1\n",
       "sub-1000606      1"
      ]
     },
     "execution_count": 16,
     "metadata": {},
     "output_type": "execute_result"
    }
   ],
   "source": [
    "participants = pd.read_csv(qc_file, dtype={'participant_id':object}, sep='\\t')\n",
    "participants = participants.set_index(\"participant_id\")\n",
    "participants = participants[participants.qc==1][[\"qc\"]]\n",
    "participants.head()"
   ]
  },
  {
   "cell_type": "code",
   "execution_count": 17,
   "metadata": {},
   "outputs": [
    {
     "data": {
      "text/html": [
       "<div>\n",
       "<style scoped>\n",
       "    .dataframe tbody tr th:only-of-type {\n",
       "        vertical-align: middle;\n",
       "    }\n",
       "\n",
       "    .dataframe tbody tr th {\n",
       "        vertical-align: top;\n",
       "    }\n",
       "\n",
       "    .dataframe thead th {\n",
       "        text-align: right;\n",
       "    }\n",
       "</style>\n",
       "<table border=\"1\" class=\"dataframe\">\n",
       "  <thead>\n",
       "    <tr style=\"text-align: right;\">\n",
       "      <th></th>\n",
       "      <th>qc</th>\n",
       "    </tr>\n",
       "    <tr>\n",
       "      <th>participant_id</th>\n",
       "      <th></th>\n",
       "    </tr>\n",
       "  </thead>\n",
       "  <tbody>\n",
       "    <tr>\n",
       "      <th>sub-1000021</th>\n",
       "      <td>1</td>\n",
       "    </tr>\n",
       "    <tr>\n",
       "      <th>sub-1000325</th>\n",
       "      <td>1</td>\n",
       "    </tr>\n",
       "    <tr>\n",
       "      <th>sub-1000458</th>\n",
       "      <td>1</td>\n",
       "    </tr>\n",
       "    <tr>\n",
       "      <th>sub-1000575</th>\n",
       "      <td>1</td>\n",
       "    </tr>\n",
       "    <tr>\n",
       "      <th>sub-1000606</th>\n",
       "      <td>1</td>\n",
       "    </tr>\n",
       "  </tbody>\n",
       "</table>\n",
       "</div>"
      ],
      "text/plain": [
       "                qc\n",
       "participant_id    \n",
       "sub-1000021      1\n",
       "sub-1000325      1\n",
       "sub-1000458      1\n",
       "sub-1000575      1\n",
       "sub-1000606      1"
      ]
     },
     "execution_count": 17,
     "metadata": {},
     "output_type": "execute_result"
    }
   ],
   "source": [
    "participants.head()"
   ]
  },
  {
   "cell_type": "code",
   "execution_count": 18,
   "metadata": {},
   "outputs": [
    {
     "data": {
      "text/plain": [
       "array([1])"
      ]
     },
     "execution_count": 18,
     "metadata": {},
     "output_type": "execute_result"
    }
   ],
   "source": [
    "# participants = participants[[label]].dropna()\n",
    "# participants = participants.replace({\"N\": 0, \"?\": 1, \"Y\": 2})\n",
    "participants[\"qc\"].unique()"
   ]
  },
  {
   "cell_type": "code",
   "execution_count": 19,
   "metadata": {},
   "outputs": [
    {
     "data": {
      "text/plain": [
       "42433"
      ]
     },
     "execution_count": 19,
     "metadata": {},
     "output_type": "execute_result"
    }
   ],
   "source": [
    "len(participants)"
   ]
  },
  {
   "cell_type": "code",
   "execution_count": null,
   "metadata": {},
   "outputs": [],
   "source": []
  },
  {
   "cell_type": "code",
   "execution_count": 20,
   "metadata": {},
   "outputs": [
    {
     "data": {
      "text/html": [
       "<div>\n",
       "<style scoped>\n",
       "    .dataframe tbody tr th:only-of-type {\n",
       "        vertical-align: middle;\n",
       "    }\n",
       "\n",
       "    .dataframe tbody tr th {\n",
       "        vertical-align: top;\n",
       "    }\n",
       "\n",
       "    .dataframe thead th {\n",
       "        text-align: right;\n",
       "    }\n",
       "</style>\n",
       "<table border=\"1\" class=\"dataframe\">\n",
       "  <thead>\n",
       "    <tr style=\"text-align: right;\">\n",
       "      <th></th>\n",
       "      <th>predicted</th>\n",
       "    </tr>\n",
       "    <tr>\n",
       "      <th>ID</th>\n",
       "      <th></th>\n",
       "    </tr>\n",
       "  </thead>\n",
       "  <tbody>\n",
       "    <tr>\n",
       "      <th>sub-1000606</th>\n",
       "      <td>0.937184</td>\n",
       "    </tr>\n",
       "    <tr>\n",
       "      <th>sub-1000715</th>\n",
       "      <td>0.960726</td>\n",
       "    </tr>\n",
       "    <tr>\n",
       "      <th>sub-1000963</th>\n",
       "      <td>0.878651</td>\n",
       "    </tr>\n",
       "    <tr>\n",
       "      <th>sub-1001107</th>\n",
       "      <td>0.930627</td>\n",
       "    </tr>\n",
       "    <tr>\n",
       "      <th>sub-1002539</th>\n",
       "      <td>0.864880</td>\n",
       "    </tr>\n",
       "  </tbody>\n",
       "</table>\n",
       "</div>"
      ],
      "text/plain": [
       "             predicted\n",
       "ID                    \n",
       "sub-1000606   0.937184\n",
       "sub-1000715   0.960726\n",
       "sub-1000963   0.878651\n",
       "sub-1001107   0.930627\n",
       "sub-1002539   0.864880"
      ]
     },
     "execution_count": 20,
     "metadata": {},
     "output_type": "execute_result"
    }
   ],
   "source": [
    "embeddings = pd.read_csv(embeddings_file, dtype={'ID':object})\n",
    "embeddings = embeddings.set_index(\"ID\")\n",
    "embeddings.head()"
   ]
  },
  {
   "cell_type": "code",
   "execution_count": 21,
   "metadata": {},
   "outputs": [
    {
     "data": {
      "text/html": [
       "<div>\n",
       "<style scoped>\n",
       "    .dataframe tbody tr th:only-of-type {\n",
       "        vertical-align: middle;\n",
       "    }\n",
       "\n",
       "    .dataframe tbody tr th {\n",
       "        vertical-align: top;\n",
       "    }\n",
       "\n",
       "    .dataframe thead th {\n",
       "        text-align: right;\n",
       "    }\n",
       "</style>\n",
       "<table border=\"1\" class=\"dataframe\">\n",
       "  <thead>\n",
       "    <tr style=\"text-align: right;\">\n",
       "      <th></th>\n",
       "      <th>predicted</th>\n",
       "    </tr>\n",
       "    <tr>\n",
       "      <th>ID</th>\n",
       "      <th></th>\n",
       "    </tr>\n",
       "  </thead>\n",
       "  <tbody>\n",
       "    <tr>\n",
       "      <th>sub-1000606</th>\n",
       "      <td>0.937184</td>\n",
       "    </tr>\n",
       "    <tr>\n",
       "      <th>sub-1000715</th>\n",
       "      <td>0.960726</td>\n",
       "    </tr>\n",
       "    <tr>\n",
       "      <th>sub-1000963</th>\n",
       "      <td>0.878651</td>\n",
       "    </tr>\n",
       "    <tr>\n",
       "      <th>sub-1001107</th>\n",
       "      <td>0.930627</td>\n",
       "    </tr>\n",
       "    <tr>\n",
       "      <th>sub-1002539</th>\n",
       "      <td>0.864880</td>\n",
       "    </tr>\n",
       "    <tr>\n",
       "      <th>...</th>\n",
       "      <td>...</td>\n",
       "    </tr>\n",
       "    <tr>\n",
       "      <th>sub-6021833</th>\n",
       "      <td>0.868651</td>\n",
       "    </tr>\n",
       "    <tr>\n",
       "      <th>sub-6021898</th>\n",
       "      <td>0.957414</td>\n",
       "    </tr>\n",
       "    <tr>\n",
       "      <th>sub-6022626</th>\n",
       "      <td>0.954435</td>\n",
       "    </tr>\n",
       "    <tr>\n",
       "      <th>sub-6023376</th>\n",
       "      <td>0.955937</td>\n",
       "    </tr>\n",
       "    <tr>\n",
       "      <th>sub-6024379</th>\n",
       "      <td>0.910978</td>\n",
       "    </tr>\n",
       "  </tbody>\n",
       "</table>\n",
       "<p>41710 rows × 1 columns</p>\n",
       "</div>"
      ],
      "text/plain": [
       "             predicted\n",
       "ID                    \n",
       "sub-1000606   0.937184\n",
       "sub-1000715   0.960726\n",
       "sub-1000963   0.878651\n",
       "sub-1001107   0.930627\n",
       "sub-1002539   0.864880\n",
       "...                ...\n",
       "sub-6021833   0.868651\n",
       "sub-6021898   0.957414\n",
       "sub-6022626   0.954435\n",
       "sub-6023376   0.955937\n",
       "sub-6024379   0.910978\n",
       "\n",
       "[41710 rows x 1 columns]"
      ]
     },
     "execution_count": 21,
     "metadata": {},
     "output_type": "execute_result"
    }
   ],
   "source": [
    "embeddings"
   ]
  },
  {
   "cell_type": "code",
   "execution_count": 22,
   "metadata": {},
   "outputs": [],
   "source": [
    "merged = participants[[label]].merge(embeddings, left_index=True, right_index=True)\n",
    "\n",
    "df = merged.copy()"
   ]
  },
  {
   "cell_type": "code",
   "execution_count": 23,
   "metadata": {},
   "outputs": [
    {
     "data": {
      "text/plain": [
       "qc           1.000000\n",
       "predicted    0.905322\n",
       "dtype: float64"
      ]
     },
     "execution_count": 23,
     "metadata": {},
     "output_type": "execute_result"
    }
   ],
   "source": [
    "df.mean()"
   ]
  },
  {
   "cell_type": "code",
   "execution_count": 24,
   "metadata": {},
   "outputs": [
    {
     "data": {
      "text/html": [
       "<div>\n",
       "<style scoped>\n",
       "    .dataframe tbody tr th:only-of-type {\n",
       "        vertical-align: middle;\n",
       "    }\n",
       "\n",
       "    .dataframe tbody tr th {\n",
       "        vertical-align: top;\n",
       "    }\n",
       "\n",
       "    .dataframe thead th {\n",
       "        text-align: right;\n",
       "    }\n",
       "</style>\n",
       "<table border=\"1\" class=\"dataframe\">\n",
       "  <thead>\n",
       "    <tr style=\"text-align: right;\">\n",
       "      <th></th>\n",
       "      <th>qc</th>\n",
       "      <th>predicted</th>\n",
       "    </tr>\n",
       "  </thead>\n",
       "  <tbody>\n",
       "    <tr>\n",
       "      <th>sub-1000021</th>\n",
       "      <td>1</td>\n",
       "      <td>0.877947</td>\n",
       "    </tr>\n",
       "    <tr>\n",
       "      <th>sub-1000325</th>\n",
       "      <td>1</td>\n",
       "      <td>0.845724</td>\n",
       "    </tr>\n",
       "    <tr>\n",
       "      <th>sub-1000458</th>\n",
       "      <td>1</td>\n",
       "      <td>0.918335</td>\n",
       "    </tr>\n",
       "    <tr>\n",
       "      <th>sub-1000575</th>\n",
       "      <td>1</td>\n",
       "      <td>0.894281</td>\n",
       "    </tr>\n",
       "    <tr>\n",
       "      <th>sub-1000606</th>\n",
       "      <td>1</td>\n",
       "      <td>0.937184</td>\n",
       "    </tr>\n",
       "  </tbody>\n",
       "</table>\n",
       "</div>"
      ],
      "text/plain": [
       "             qc  predicted\n",
       "sub-1000021   1   0.877947\n",
       "sub-1000325   1   0.845724\n",
       "sub-1000458   1   0.918335\n",
       "sub-1000575   1   0.894281\n",
       "sub-1000606   1   0.937184"
      ]
     },
     "execution_count": 24,
     "metadata": {},
     "output_type": "execute_result"
    }
   ],
   "source": [
    "df.head()"
   ]
  },
  {
   "cell_type": "markdown",
   "metadata": {},
   "source": [
    "### Function definitions"
   ]
  },
  {
   "cell_type": "code",
   "execution_count": 25,
   "metadata": {},
   "outputs": [],
   "source": [
    "def to_bucket(obj):\n",
    "    if obj.type() == obj.BUCKET:\n",
    "        return obj\n",
    "    avol = a.toAimsObject(obj)\n",
    "    c = aims.Converter(intype=avol, outtype=aims.BucketMap_VOID)\n",
    "    abck = c(avol)\n",
    "    bck = a.toAObject(abck)\n",
    "    bck.releaseAppRef()\n",
    "    return bck\n",
    "\n",
    "def build_gradient(pal):\n",
    "    gw = ana.cpp.GradientWidget(None, 'gradientwidget', pal.header()['palette_gradients'])\n",
    "    gw.setHasAlpha(True)\n",
    "    nc = pal.shape[0]\n",
    "    rgbp = gw.fillGradient(nc, True)\n",
    "    rgb = rgbp.data()\n",
    "    npal = pal.np['v']\n",
    "    pb = np.frombuffer(rgb, dtype=np.uint8).reshape((nc, 4))\n",
    "    npal[:, 0, 0, 0, :] = pb\n",
    "    npal[:, 0, 0, 0, :3] = npal[:, 0, 0, 0, :3][:, ::-1]  # BGRA -> RGBA\n",
    "    pal.update()\n",
    "\n",
    "def buckets_average(subject_id_list, dataset_name_list):\n",
    "    dic_vol = {}\n",
    "    dim = 0\n",
    "    rep = 0\n",
    "    if len(subject_id_list) == 0:\n",
    "        return False\n",
    "    while dim == 0 and rep < len(subject_id_list):\n",
    "        if dataset_name_list[rep].lower() in ['ukb', 'ukbiobank', 'projected_ukb']:\n",
    "            dataset = 'UkBioBank40'\n",
    "        elif dataset_name_list[rep].lower() in ['hcp']:\n",
    "            dataset = 'hcp'\n",
    "        elif dataset_name_list[rep].lower() in ['imagen']:\n",
    "            dataset = 'imagen'\n",
    "        mm_skeleton_path = f\"/neurospin/dico/data/deep_folding/current/datasets/{dataset}/crops/2mm/{region}/mask/{side}crops\"\n",
    "        if os.path.isfile(f'{mm_skeleton_path}/{subject_id_list[rep]}_cropped_skeleton.nii.gz'):\n",
    "            sum_vol = aims.read(f'{mm_skeleton_path}/{subject_id_list[rep]}_cropped_skeleton.nii.gz').astype(float)\n",
    "            dim = sum_vol.shape\n",
    "            sum_vol.fill(0)\n",
    "        else: \n",
    "            print(f'FileNotFound {mm_skeleton_path}/{subject_id_list[rep]}_cropped_skeleton.nii.gz')\n",
    "            #raise FileNotFoundError(f'{mm_skeleton_path}/{subject_id_list[0]}_cropped_skeleton.nii.gz')\n",
    "        rep += 1\n",
    "\n",
    "    for subject_id, dataset in zip(subject_id_list,dataset_name_list):\n",
    "        if dataset.lower() in ['ukb', 'ukbiobank',  'projected_ukb']:\n",
    "            dataset = 'UkBioBank40'\n",
    "        elif dataset.lower() == 'hcp':\n",
    "            dataset = 'hcp'\n",
    "            \n",
    "        mm_skeleton_path = f\"/neurospin/dico/data/deep_folding/current/datasets/{dataset}/crops/2mm/{region}/mask/{side}crops\"\n",
    "\n",
    "        if os.path. isfile(f'{mm_skeleton_path}/{subject_id}_cropped_skeleton.nii.gz'):\n",
    "            vol = aims.read(f'{mm_skeleton_path}/{subject_id}_cropped_skeleton.nii.gz')\n",
    "            # compare the dim with the first file dim\n",
    "\n",
    "            if vol.np.shape != dim:\n",
    "                raise ValueError(f\"{subject_id_list[0]} and {subject_id} must have the same dim\")\n",
    "\n",
    "                \n",
    "            # to have a binary 3D structure\n",
    "            dic_vol[subject_id] = (vol.np > 0).astype(int)\n",
    "            sum_vol.np[:] += (vol.np > 0).astype(int) \n",
    "        else: \n",
    "            print(f'FileNotFound {mm_skeleton_path}/{subject_id}_cropped_skeleton.nii.gz')\n",
    "            #raise FileNotFoundError(f'{mm_skeleton_path}/{subject_id}_cropped_skeleton.nii.gz')\n",
    "\n",
    "    sum_vol = sum_vol / len(subject_id_list)\n",
    "    print(sum_vol, sum_vol.shape)\n",
    "    return sum_vol"
   ]
  },
  {
   "cell_type": "code",
   "execution_count": 26,
   "metadata": {},
   "outputs": [],
   "source": [
    "def visualize_averages_along_parameter(df, column_name, database, nb_subjects_per_average=800, nb_columns=3, nb_lines=1):\n",
    "    # anatomist objects\n",
    "    global _block\n",
    "    global _average_dic\n",
    "    global dic_packages\n",
    "    nb_windows = nb_columns * nb_lines\n",
    "    _average_dic = {}\n",
    "    step = nb_subjects_per_average # number of subjects on which average is done\n",
    "    # Creates the block if it has not been created\n",
    "    try:\n",
    "        _block\n",
    "    except NameError:\n",
    "        _block = a.createWindowsBlock(nb_columns)\n",
    "\n",
    "    # Order according to column_name\n",
    "    df = df.sort_values(column_name)\n",
    "    predict_proba = df[[column_name]]\n",
    "\n",
    "    # Creates dictionary of subjects to average\n",
    "    dic_packages = {}\n",
    "    for i in range(0,len(predict_proba),step):\n",
    "        list_idx = (predict_proba.index[i:i+step].to_numpy())\n",
    "        dic_packages[i//step] = list_idx\n",
    "        \n",
    "    # Ensures that last list contains the last step subjects\n",
    "    list_idx = (predict_proba.index[-step:].to_numpy())\n",
    "    dic_packages[i//step] = list_idx\n",
    "        \n",
    "    list_database = [database for i in range(step)]\n",
    "    n_pack = len(dic_packages)\n",
    "\n",
    "    # Loop of display averages\n",
    "    list_pack = [int(np.ceil(i*n_pack/float(nb_windows))) for i in range(0,nb_windows)]\n",
    "    list_pack[-1] = n_pack-1\n",
    "    for i in list_pack:\n",
    "        sum_vol = buckets_average(dic_packages[i], list_database)\n",
    "        _average_dic[f'a_sum_vol{i}'] = a.toAObject(sum_vol)\n",
    "        _average_dic[f'a_sum_vol{i}'].setPalette(minVal=0, absoluteMode=True)\n",
    "        #wsum = a.createWindow('Sagittal', block=block)\n",
    "        #wsum.addObjects(a_sum_vol)\n",
    "        _average_dic[f'rvol{i}'] = a.fusionObjects(\n",
    "            objects=[_average_dic[f'a_sum_vol{i}']],\n",
    "            method='VolumeRenderingFusionMethod')\n",
    "        _average_dic[f'rvol{i}'].releaseAppRef()\n",
    "        # custom palette\n",
    "        n = len(dic_packages[i])\n",
    "        pal = a.createPalette('VR-palette')\n",
    "        pal.header()['palette_gradients'] = '0;0.459574;0.497872;0.910638;1;1#0;0;0.52766;0.417021;1;1#0;0.7;1;0#0;0;0.0297872;0.00851064;0.72766;0.178723;0.957447;0.808511;1;1'\n",
    "        #f'0;0.244444;0.5;1;1;1#0;0;0.535897;0.222222;1;1#0;0.7;1;0#0;0;{0.5/n};0;1;1'\n",
    "        build_gradient(pal)\n",
    "        _average_dic[f'rvol{i}'].setPalette('VR-palette', minVal=0.05, absoluteMode=True)\n",
    "        # _average_dic[f'rvol{i}'].setPalette('VR-palette', minVal=0.05, maxVal=0.35, absoluteMode=True)\n",
    "        pal2 = a.createPalette('slice-palette')\n",
    "        pal2.header()['palette_gradients'] = '0;0.459574;0.497872;0.910638;1;1#0;0;0.52766;0.417021;1;1#0;0.7;1;0#0;0;0.0297872;0.00851064;0.72766;0.178723;0.957447;0.808511;1;1'\n",
    "        #f'0;0.244444;0.5;1;1;1#0;0;0.535897;0.222222;1;1#0;0.7;1;0#0;0;{0.3/n};0;{0.7/n};1;1;1'\n",
    "        build_gradient(pal2)\n",
    "        _average_dic[f'a_sum_vol{i}'].setPalette('slice-palette')\n",
    "        # rvol.palette().fill()\n",
    "        _average_dic[f'wvr{i}'] = a.createWindow('3D', block=_block)\n",
    "        _average_dic[f'wvr{i}'].addObjects(_average_dic[f'rvol{i}'])"
   ]
  },
  {
   "cell_type": "markdown",
   "metadata": {},
   "source": [
    "### Visualization"
   ]
  },
  {
   "cell_type": "code",
   "execution_count": 27,
   "metadata": {},
   "outputs": [
    {
     "name": "stdout",
     "output_type": "stream",
     "text": [
      "<soma.aims.Volume_DOUBLE object at 0x7d0aac351fc0> (29, 62, 36, 1)\n",
      "Multitexturing present\n",
      "function glActiveTexture found.\n",
      "function glClientActiveTexture found.\n",
      "function glBlendEquation found.\n",
      "function glTexImage3D found.\n",
      "function glMultiTexCoord3f found.\n",
      "function glBindFramebuffer found.\n",
      "function glBindRenderbuffer found.\n",
      "function glFramebufferTexture2D found.\n",
      "function glGenFramebuffers found.\n",
      "function glGenRenderbuffers found.\n",
      "function glFramebufferRenderbuffer found.\n",
      "function glRenderbufferStorage found.\n",
      "function glCheckFramebufferStatus found.\n",
      "function glDeleteRenderbuffers found.\n",
      "function glDeleteFramebuffers found.\n",
      "Number of texture units: 4\n",
      "function glUniform1f found.\n",
      "function glUniform1i found.\n",
      "function glUniform4fv found.\n",
      "function glGetUniformLocation found.\n",
      "function glMultTransposeMatrixf found.\n",
      "function glAttachShader found.\n",
      "function glDetachShader found.\n",
      "function glCompileShader found.\n",
      "function glCreateProgram found.\n",
      "function glCreateShader found.\n",
      "function glDeleteProgram found.\n",
      "function glDeleteShader found.\n",
      "function glGetProgramiv found.\n",
      "function glGetShaderiv found.\n",
      "function glLinkProgram found.\n",
      "function glShaderSource found.\n",
      "function glUseProgram found.\n",
      "GL_ARB_shadow present\n",
      "GL_SGIX_shadow present\n",
      "GL_SGIX_depth_texture extension present\n",
      "GL_ARB_depth_texture extension present\n",
      "GL_ARB_texture_cube_map extension present\n",
      "GL_EXT_texture_cube_map extension present\n",
      "Number of texture units: 4\n",
      "<soma.aims.Volume_DOUBLE object at 0x7d0a673c6c20> (29, 62, 36, 1)\n",
      "<soma.aims.Volume_DOUBLE object at 0x7d0a32dfc1f0> (29, 62, 36, 1)\n"
     ]
    },
    {
     "ename": "",
     "evalue": "",
     "output_type": "error",
     "traceback": [
      "\u001b[1;31mThe Kernel crashed while executing code in the current cell or a previous cell. \n",
      "\u001b[1;31mPlease review the code in the cell(s) to identify a possible cause of the failure. \n",
      "\u001b[1;31mClick <a href='https://aka.ms/vscodeJupyterKernelCrash'>here</a> for more info. \n",
      "\u001b[1;31mView Jupyter <a href='command:jupyter.viewOutput'>log</a> for further details."
     ]
    }
   ],
   "source": [
    "# block = a.createWindowsBlock(10)\n",
    "visualize_averages_along_parameter(df, \"predicted\", database)"
   ]
  },
  {
   "cell_type": "code",
   "execution_count": null,
   "metadata": {},
   "outputs": [],
   "source": []
  },
  {
   "cell_type": "code",
   "execution_count": null,
   "metadata": {},
   "outputs": [],
   "source": []
  }
 ],
 "metadata": {
  "kernelspec": {
   "display_name": "venv",
   "language": "python",
   "name": "python3"
  },
  "language_info": {
   "codemirror_mode": {
    "name": "ipython",
    "version": 3
   },
   "file_extension": ".py",
   "mimetype": "text/x-python",
   "name": "python",
   "nbconvert_exporter": "python",
   "pygments_lexer": "ipython3",
   "version": "3.10.12"
  }
 },
 "nbformat": 4,
 "nbformat_minor": 2
}
