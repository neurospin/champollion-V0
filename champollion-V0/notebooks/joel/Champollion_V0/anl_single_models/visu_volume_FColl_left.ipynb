{
 "cells": [
  {
   "cell_type": "code",
   "execution_count": 1,
   "metadata": {},
   "outputs": [
    {
     "name": "stderr",
     "output_type": "stream",
     "text": [
      "/usr/lib/python3/dist-packages/scipy/__init__.py:146: UserWarning: A NumPy version >=1.17.3 and <1.25.0 is required for this version of SciPy (detected version 1.26.4\n",
      "  warnings.warn(f\"A NumPy version >={np_minversion} and <{np_maxversion}\"\n"
     ]
    }
   ],
   "source": [
    "import anatomist.api as ana\n",
    "from soma.qt_gui.qtThread import QtThreadCall\n",
    "from soma.qt_gui.qt_backend import Qt\n",
    "\n",
    "from soma import aims\n",
    "import numpy as np\n",
    "import pandas as pd\n",
    "import os\n",
    "import glob\n",
    "\n",
    "from sklearn.preprocessing import StandardScaler\n",
    "import statsmodels.api as sm\n",
    "\n",
    "from sklearn.neighbors import NearestNeighbors\n",
    "\n",
    "import matplotlib.pyplot as plt\n",
    "\n"
   ]
  },
  {
   "cell_type": "code",
   "execution_count": 2,
   "metadata": {},
   "outputs": [
    {
     "name": "stdout",
     "output_type": "stream",
     "text": [
      "create qapp\n",
      "global modules: /casa/host/build/share/anatomist-5.2/python_plugins\n",
      "home   modules: /casa/home/.anatomist/python_plugins\n",
      "loading module meshsplit\n",
      "done\n",
      "Starting Anatomist.....\n",
      "config file : /casa/home/.anatomist/config/settings.cfg\n",
      "PyAnatomist Module present\n",
      "PythonLauncher::runModules()\n",
      "loading module palettecontrols\n"
     ]
    },
    {
     "name": "stderr",
     "output_type": "stream",
     "text": [
      "existing QApplication: 0\n",
      "QStandardPaths: XDG_RUNTIME_DIR not set, defaulting to '/tmp/runtime-jc225751'\n"
     ]
    },
    {
     "name": "stdout",
     "output_type": "stream",
     "text": [
      "loading module volumepalettes\n",
      "loading module save_resampled\n",
      "loading module profilewindow\n",
      "loading module statsplotwindow\n",
      "loading module anacontrolmenu\n",
      "loading module infowindow\n",
      "loading module foldsplit\n",
      "loading module simple_controls\n",
      "loading module histogram\n",
      "loading module valuesplotwindow\n",
      "loading module ana_image_math\n",
      "loading module modelGraphs\n",
      "loading module paletteViewer\n",
      "loading module bsa_proba\n",
      "loading module gradientpalette\n",
      "loading module selection\n",
      "loading module gltf_io\n",
      "all python modules loaded\n",
      "Anatomist started.\n"
     ]
    }
   ],
   "source": [
    "a = ana.Anatomist()"
   ]
  },
  {
   "cell_type": "markdown",
   "metadata": {},
   "source": [
    "### Variable definitions"
   ]
  },
  {
   "cell_type": "code",
   "execution_count": 3,
   "metadata": {},
   "outputs": [],
   "source": [
    "path = \"/neurospin/dico/data/deep_folding/current/models/Champollion_V0_trained_on_UKB40/FColl-SRh_left\"\n",
    "participants_file = \"/neurospin/dico/data/deep_folding/current/datasets/UkBioBank/participants.csv\"\n",
    "lab = \"BrainVolumeFreeSurfer_mm3\"\n",
    "model_path = glob.glob(f\"{path}/*\")[0]\n",
    "embeddings_file = f\"{model_path}/ukb40_random_epoch80_embeddings/full_embeddings.csv\"\n",
    "participants_file = \"/neurospin/dico/data/deep_folding/current/datasets/UkBioBank/participants.csv\""
   ]
  },
  {
   "cell_type": "code",
   "execution_count": 4,
   "metadata": {},
   "outputs": [],
   "source": [
    "side = \"L\" # \"R\" or \"L\"\n",
    "region = \"F.Coll.-S.Rh.\" # \"S.C.-sylv.\", \"ORBITAL\", \"CINGULATE\", \"SC-sylv\", \"F.I.P.\"\n",
    "database='ukb'"
   ]
  },
  {
   "cell_type": "markdown",
   "metadata": {},
   "source": [
    "# Building predictors"
   ]
  },
  {
   "cell_type": "code",
   "execution_count": 5,
   "metadata": {},
   "outputs": [
    {
     "data": {
      "text/html": [
       "<div>\n",
       "<style scoped>\n",
       "    .dataframe tbody tr th:only-of-type {\n",
       "        vertical-align: middle;\n",
       "    }\n",
       "\n",
       "    .dataframe tbody tr th {\n",
       "        vertical-align: top;\n",
       "    }\n",
       "\n",
       "    .dataframe thead th {\n",
       "        text-align: right;\n",
       "    }\n",
       "</style>\n",
       "<table border=\"1\" class=\"dataframe\">\n",
       "  <thead>\n",
       "    <tr style=\"text-align: right;\">\n",
       "      <th></th>\n",
       "      <th>BrainVolumeFreeSurfer_mm3</th>\n",
       "    </tr>\n",
       "    <tr>\n",
       "      <th>participant_id</th>\n",
       "      <th></th>\n",
       "    </tr>\n",
       "  </thead>\n",
       "  <tbody>\n",
       "    <tr>\n",
       "      <th>sub-3411469</th>\n",
       "      <td>1136465.0</td>\n",
       "    </tr>\n",
       "    <tr>\n",
       "      <th>sub-2290292</th>\n",
       "      <td>1079118.0</td>\n",
       "    </tr>\n",
       "    <tr>\n",
       "      <th>sub-3842391</th>\n",
       "      <td>1124077.0</td>\n",
       "    </tr>\n",
       "    <tr>\n",
       "      <th>sub-2758537</th>\n",
       "      <td>1246758.0</td>\n",
       "    </tr>\n",
       "    <tr>\n",
       "      <th>sub-4334619</th>\n",
       "      <td>1410387.0</td>\n",
       "    </tr>\n",
       "    <tr>\n",
       "      <th>...</th>\n",
       "      <td>...</td>\n",
       "    </tr>\n",
       "    <tr>\n",
       "      <th>sub-2621329</th>\n",
       "      <td>1260788.0</td>\n",
       "    </tr>\n",
       "    <tr>\n",
       "      <th>sub-5057890</th>\n",
       "      <td>1328760.0</td>\n",
       "    </tr>\n",
       "    <tr>\n",
       "      <th>sub-2038574</th>\n",
       "      <td>1244624.0</td>\n",
       "    </tr>\n",
       "    <tr>\n",
       "      <th>sub-1415693</th>\n",
       "      <td>1044867.0</td>\n",
       "    </tr>\n",
       "    <tr>\n",
       "      <th>sub-1493505</th>\n",
       "      <td>1069118.0</td>\n",
       "    </tr>\n",
       "  </tbody>\n",
       "</table>\n",
       "<p>38019 rows × 1 columns</p>\n",
       "</div>"
      ],
      "text/plain": [
       "                BrainVolumeFreeSurfer_mm3\n",
       "participant_id                           \n",
       "sub-3411469                     1136465.0\n",
       "sub-2290292                     1079118.0\n",
       "sub-3842391                     1124077.0\n",
       "sub-2758537                     1246758.0\n",
       "sub-4334619                     1410387.0\n",
       "...                                   ...\n",
       "sub-2621329                     1260788.0\n",
       "sub-5057890                     1328760.0\n",
       "sub-2038574                     1244624.0\n",
       "sub-1415693                     1044867.0\n",
       "sub-1493505                     1069118.0\n",
       "\n",
       "[38019 rows x 1 columns]"
      ]
     },
     "execution_count": 5,
     "metadata": {},
     "output_type": "execute_result"
    }
   ],
   "source": [
    "participants = pd.read_csv(participants_file, index_col=0)\n",
    "participants = participants[[lab]].dropna()\n",
    "participants"
   ]
  },
  {
   "cell_type": "code",
   "execution_count": 6,
   "metadata": {},
   "outputs": [],
   "source": [
    "ukb_emb = pd.read_csv(f\"{embeddings_file}\", index_col=0)\n",
    "merged = participants[[lab]].merge(ukb_emb, left_index=True, right_index=True)\n"
   ]
  },
  {
   "cell_type": "code",
   "execution_count": 7,
   "metadata": {},
   "outputs": [
    {
     "name": "stdout",
     "output_type": "stream",
     "text": [
      "             BrainVolumeFreeSurfer_mm3\n",
      "sub-3411469                  1136465.0\n",
      "sub-2290292                  1079118.0\n",
      "sub-3842391                  1124077.0\n",
      "sub-2758537                  1246758.0\n",
      "sub-4334619                  1410387.0\n",
      "             BrainVolumeFreeSurfer_mm3\n",
      "sub-3411469                  1145550.0\n",
      "sub-2290292                  1101749.0\n",
      "sub-3842391                  1140343.0\n",
      "sub-2758537                  1203873.0\n",
      "sub-4334619                   984036.0\n"
     ]
    },
    {
     "data": {
      "text/plain": [
       "(37715, 2000)"
      ]
     },
     "execution_count": 7,
     "metadata": {},
     "output_type": "execute_result"
    }
   ],
   "source": [
    "embeddings = merged.iloc[:,1:]\n",
    "label = merged.iloc[:,0:1]\n",
    "label_random = label.copy()\n",
    "label_random[:] = label_random.sample(frac=1).values\n",
    "# print(embeddings.head())\n",
    "print(label.head())\n",
    "print(label_random.head())\n",
    "\n",
    "# Construct nearest_neighbor matrix\n",
    "nbrs = NearestNeighbors(n_neighbors=2000, algorithm='brute').fit(embeddings)\n",
    "distances, indices = nbrs.kneighbors(embeddings)\n",
    "indices.shape"
   ]
  },
  {
   "cell_type": "code",
   "execution_count": 8,
   "metadata": {},
   "outputs": [
    {
     "data": {
      "text/html": [
       "<div>\n",
       "<style scoped>\n",
       "    .dataframe tbody tr th:only-of-type {\n",
       "        vertical-align: middle;\n",
       "    }\n",
       "\n",
       "    .dataframe tbody tr th {\n",
       "        vertical-align: top;\n",
       "    }\n",
       "\n",
       "    .dataframe thead th {\n",
       "        text-align: right;\n",
       "    }\n",
       "</style>\n",
       "<table border=\"1\" class=\"dataframe\">\n",
       "  <thead>\n",
       "    <tr style=\"text-align: right;\">\n",
       "      <th></th>\n",
       "      <th>BrainVolumeFreeSurfer_mm3</th>\n",
       "    </tr>\n",
       "  </thead>\n",
       "  <tbody>\n",
       "    <tr>\n",
       "      <th>sub-3411469</th>\n",
       "      <td>1136465.0</td>\n",
       "    </tr>\n",
       "    <tr>\n",
       "      <th>sub-2290292</th>\n",
       "      <td>1079118.0</td>\n",
       "    </tr>\n",
       "    <tr>\n",
       "      <th>sub-3842391</th>\n",
       "      <td>1124077.0</td>\n",
       "    </tr>\n",
       "    <tr>\n",
       "      <th>sub-2758537</th>\n",
       "      <td>1246758.0</td>\n",
       "    </tr>\n",
       "    <tr>\n",
       "      <th>sub-4334619</th>\n",
       "      <td>1410387.0</td>\n",
       "    </tr>\n",
       "    <tr>\n",
       "      <th>...</th>\n",
       "      <td>...</td>\n",
       "    </tr>\n",
       "    <tr>\n",
       "      <th>sub-2621329</th>\n",
       "      <td>1260788.0</td>\n",
       "    </tr>\n",
       "    <tr>\n",
       "      <th>sub-5057890</th>\n",
       "      <td>1328760.0</td>\n",
       "    </tr>\n",
       "    <tr>\n",
       "      <th>sub-2038574</th>\n",
       "      <td>1244624.0</td>\n",
       "    </tr>\n",
       "    <tr>\n",
       "      <th>sub-1415693</th>\n",
       "      <td>1044867.0</td>\n",
       "    </tr>\n",
       "    <tr>\n",
       "      <th>sub-1493505</th>\n",
       "      <td>1069118.0</td>\n",
       "    </tr>\n",
       "  </tbody>\n",
       "</table>\n",
       "<p>37715 rows × 1 columns</p>\n",
       "</div>"
      ],
      "text/plain": [
       "             BrainVolumeFreeSurfer_mm3\n",
       "sub-3411469                  1136465.0\n",
       "sub-2290292                  1079118.0\n",
       "sub-3842391                  1124077.0\n",
       "sub-2758537                  1246758.0\n",
       "sub-4334619                  1410387.0\n",
       "...                                ...\n",
       "sub-2621329                  1260788.0\n",
       "sub-5057890                  1328760.0\n",
       "sub-2038574                  1244624.0\n",
       "sub-1415693                  1044867.0\n",
       "sub-1493505                  1069118.0\n",
       "\n",
       "[37715 rows x 1 columns]"
      ]
     },
     "execution_count": 8,
     "metadata": {},
     "output_type": "execute_result"
    }
   ],
   "source": [
    "label"
   ]
  },
  {
   "cell_type": "code",
   "execution_count": 9,
   "metadata": {},
   "outputs": [
    {
     "data": {
      "text/plain": [
       "array([[<AxesSubplot:title={'center':'BrainVolumeFreeSurfer_mm3'}>]],\n",
       "      dtype=object)"
      ]
     },
     "execution_count": 9,
     "metadata": {},
     "output_type": "execute_result"
    },
    {
     "data": {
      "image/png": "[encoded data removed]",
      "text/plain": [
       "<Figure size 432x288 with 1 Axes>"
      ]
     },
     "metadata": {
      "needs_background": "light"
     },
     "output_type": "display_data"
    }
   ],
   "source": [
    "%matplotlib inline\n",
    "label.hist()"
   ]
  },
  {
   "cell_type": "code",
   "execution_count": 10,
   "metadata": {},
   "outputs": [],
   "source": [
    "def construct_average_nearest_neighbors_continuous(label, indices=indices):\n",
    "    label_red = label.reset_index().iloc[:,[1]].values\n",
    "\n",
    "    # In the indices matrix, put value of label corresponding to index\n",
    "    neighbors = indices[:,1:]\n",
    "    labels1 = np.zeros(neighbors.shape)\n",
    "    for idx in range(len(neighbors)):\n",
    "        for j in range(neighbors.shape[1]):\n",
    "            labels1[idx, j] = label_red[neighbors[idx, j]]\n",
    "    \n",
    "    # Makes moving average along nearest neighbor\n",
    "    labels1_cum = np.cumsum(labels1, axis=1)\n",
    "    \n",
    "    means_npy = np.zeros(labels1_cum.shape)\n",
    "    for idx in range(len(labels1)):\n",
    "        means_npy[idx,:] = labels1_cum[idx,:]/(np.arange(1, labels1_cum.shape[1]+1, 1).reshape(1,-1))\n",
    "        \n",
    "    return labels1, means_npy"
   ]
  },
  {
   "cell_type": "code",
   "execution_count": 11,
   "metadata": {},
   "outputs": [
    {
     "name": "stderr",
     "output_type": "stream",
     "text": [
      "/tmp/ipykernel_117173/1831665505.py:9: DeprecationWarning: Conversion of an array with ndim > 0 to a scalar is deprecated, and will error in future. Ensure you extract a single element from your array before performing this operation. (Deprecated NumPy 1.25.)\n",
      "  labels1[idx, j] = label_red[neighbors[idx, j]]\n"
     ]
    }
   ],
   "source": [
    "values_npy, means_npy = construct_average_nearest_neighbors_continuous(label)"
   ]
  },
  {
   "cell_type": "code",
   "execution_count": 12,
   "metadata": {},
   "outputs": [
    {
     "data": {
      "text/html": [
       "<div>\n",
       "<style scoped>\n",
       "    .dataframe tbody tr th:only-of-type {\n",
       "        vertical-align: middle;\n",
       "    }\n",
       "\n",
       "    .dataframe tbody tr th {\n",
       "        vertical-align: top;\n",
       "    }\n",
       "\n",
       "    .dataframe thead th {\n",
       "        text-align: right;\n",
       "    }\n",
       "</style>\n",
       "<table border=\"1\" class=\"dataframe\">\n",
       "  <thead>\n",
       "    <tr style=\"text-align: right;\">\n",
       "      <th></th>\n",
       "      <th>BrainVolumeFreeSurfer_mm3</th>\n",
       "    </tr>\n",
       "  </thead>\n",
       "  <tbody>\n",
       "    <tr>\n",
       "      <th>sub-1623075</th>\n",
       "      <td>1113372.0</td>\n",
       "    </tr>\n",
       "    <tr>\n",
       "      <th>sub-4830572</th>\n",
       "      <td>1041715.0</td>\n",
       "    </tr>\n",
       "    <tr>\n",
       "      <th>sub-2860056</th>\n",
       "      <td>1074766.0</td>\n",
       "    </tr>\n",
       "    <tr>\n",
       "      <th>sub-1921263</th>\n",
       "      <td>1007023.0</td>\n",
       "    </tr>\n",
       "    <tr>\n",
       "      <th>sub-2470801</th>\n",
       "      <td>1136875.0</td>\n",
       "    </tr>\n",
       "    <tr>\n",
       "      <th>...</th>\n",
       "      <td>...</td>\n",
       "    </tr>\n",
       "    <tr>\n",
       "      <th>sub-3962687</th>\n",
       "      <td>1147460.0</td>\n",
       "    </tr>\n",
       "    <tr>\n",
       "      <th>sub-1147000</th>\n",
       "      <td>1143045.0</td>\n",
       "    </tr>\n",
       "    <tr>\n",
       "      <th>sub-1062462</th>\n",
       "      <td>1189705.0</td>\n",
       "    </tr>\n",
       "    <tr>\n",
       "      <th>sub-2821892</th>\n",
       "      <td>1048166.0</td>\n",
       "    </tr>\n",
       "    <tr>\n",
       "      <th>sub-4316156</th>\n",
       "      <td>951195.0</td>\n",
       "    </tr>\n",
       "  </tbody>\n",
       "</table>\n",
       "<p>1000 rows × 1 columns</p>\n",
       "</div>"
      ],
      "text/plain": [
       "             BrainVolumeFreeSurfer_mm3\n",
       "sub-1623075                  1113372.0\n",
       "sub-4830572                  1041715.0\n",
       "sub-2860056                  1074766.0\n",
       "sub-1921263                  1007023.0\n",
       "sub-2470801                  1136875.0\n",
       "...                                ...\n",
       "sub-3962687                  1147460.0\n",
       "sub-1147000                  1143045.0\n",
       "sub-1062462                  1189705.0\n",
       "sub-2821892                  1048166.0\n",
       "sub-4316156                   951195.0\n",
       "\n",
       "[1000 rows x 1 columns]"
      ]
     },
     "execution_count": 12,
     "metadata": {},
     "output_type": "execute_result"
    }
   ],
   "source": [
    "nb_neighbors=1000\n",
    "label.iloc[indices[np.argmin(means_npy[:, nb_neighbors]),:nb_neighbors],:]"
   ]
  },
  {
   "cell_type": "code",
   "execution_count": 13,
   "metadata": {},
   "outputs": [
    {
     "data": {
      "text/html": [
       "<div>\n",
       "<style scoped>\n",
       "    .dataframe tbody tr th:only-of-type {\n",
       "        vertical-align: middle;\n",
       "    }\n",
       "\n",
       "    .dataframe tbody tr th {\n",
       "        vertical-align: top;\n",
       "    }\n",
       "\n",
       "    .dataframe thead th {\n",
       "        text-align: right;\n",
       "    }\n",
       "</style>\n",
       "<table border=\"1\" class=\"dataframe\">\n",
       "  <thead>\n",
       "    <tr style=\"text-align: right;\">\n",
       "      <th></th>\n",
       "      <th>BrainVolumeFreeSurfer_mm3</th>\n",
       "    </tr>\n",
       "  </thead>\n",
       "  <tbody>\n",
       "    <tr>\n",
       "      <th>sub-3327587</th>\n",
       "      <td>1291197.0</td>\n",
       "    </tr>\n",
       "    <tr>\n",
       "      <th>sub-2565037</th>\n",
       "      <td>1369042.0</td>\n",
       "    </tr>\n",
       "    <tr>\n",
       "      <th>sub-4090427</th>\n",
       "      <td>1207453.0</td>\n",
       "    </tr>\n",
       "    <tr>\n",
       "      <th>sub-3789386</th>\n",
       "      <td>1428808.0</td>\n",
       "    </tr>\n",
       "    <tr>\n",
       "      <th>sub-4787289</th>\n",
       "      <td>1447525.0</td>\n",
       "    </tr>\n",
       "    <tr>\n",
       "      <th>...</th>\n",
       "      <td>...</td>\n",
       "    </tr>\n",
       "    <tr>\n",
       "      <th>sub-3737669</th>\n",
       "      <td>1020549.0</td>\n",
       "    </tr>\n",
       "    <tr>\n",
       "      <th>sub-1377679</th>\n",
       "      <td>1226802.0</td>\n",
       "    </tr>\n",
       "    <tr>\n",
       "      <th>sub-4106358</th>\n",
       "      <td>1082109.0</td>\n",
       "    </tr>\n",
       "    <tr>\n",
       "      <th>sub-4733683</th>\n",
       "      <td>1376324.0</td>\n",
       "    </tr>\n",
       "    <tr>\n",
       "      <th>sub-3165113</th>\n",
       "      <td>1115614.0</td>\n",
       "    </tr>\n",
       "  </tbody>\n",
       "</table>\n",
       "<p>1000 rows × 1 columns</p>\n",
       "</div>"
      ],
      "text/plain": [
       "             BrainVolumeFreeSurfer_mm3\n",
       "sub-3327587                  1291197.0\n",
       "sub-2565037                  1369042.0\n",
       "sub-4090427                  1207453.0\n",
       "sub-3789386                  1428808.0\n",
       "sub-4787289                  1447525.0\n",
       "...                                ...\n",
       "sub-3737669                  1020549.0\n",
       "sub-1377679                  1226802.0\n",
       "sub-4106358                  1082109.0\n",
       "sub-4733683                  1376324.0\n",
       "sub-3165113                  1115614.0\n",
       "\n",
       "[1000 rows x 1 columns]"
      ]
     },
     "execution_count": 13,
     "metadata": {},
     "output_type": "execute_result"
    }
   ],
   "source": [
    "nb_neighbors=1000\n",
    "label.iloc[indices[np.argmax(means_npy[:, nb_neighbors]),:nb_neighbors],:]"
   ]
  },
  {
   "cell_type": "code",
   "execution_count": null,
   "metadata": {},
   "outputs": [],
   "source": []
  },
  {
   "cell_type": "markdown",
   "metadata": {},
   "source": [
    "### Function definitions"
   ]
  },
  {
   "cell_type": "code",
   "execution_count": 14,
   "metadata": {},
   "outputs": [],
   "source": [
    "def to_bucket(obj):\n",
    "    if obj.type() == obj.BUCKET:\n",
    "        return obj\n",
    "    avol = a.toAimsObject(obj)\n",
    "    c = aims.Converter(intype=avol, outtype=aims.BucketMap_VOID)\n",
    "    abck = c(avol)\n",
    "    bck = a.toAObject(abck)\n",
    "    bck.releaseAppRef()\n",
    "    return bck\n",
    "\n",
    "def build_gradient(pal):\n",
    "    gw = ana.cpp.GradientWidget(None, 'gradientwidget', pal.header()['palette_gradients'])\n",
    "    gw.setHasAlpha(True)\n",
    "    nc = pal.shape[0]\n",
    "    rgbp = gw.fillGradient(nc, True)\n",
    "    rgb = rgbp.data()\n",
    "    npal = pal.np['v']\n",
    "    pb = np.frombuffer(rgb, dtype=np.uint8).reshape((nc, 4))\n",
    "    npal[:, 0, 0, 0, :] = pb\n",
    "    npal[:, 0, 0, 0, :3] = npal[:, 0, 0, 0, :3][:, ::-1]  # BGRA -> RGBA\n",
    "    pal.update()\n",
    "\n",
    "def buckets_average(subject_id_list, dataset_name_list):\n",
    "    dic_vol = {}\n",
    "    dim = 0\n",
    "    rep = 0\n",
    "    if len(subject_id_list) == 0:\n",
    "        return False\n",
    "    while dim == 0 and rep < len(subject_id_list):\n",
    "        if dataset_name_list[rep].lower() in ['ukb', 'ukbiobank', 'projected_ukb']:\n",
    "            dataset = 'UkBioBank40'\n",
    "        elif dataset_name_list[rep].lower() in ['hcp']:\n",
    "            dataset = 'hcp'\n",
    "        mm_skeleton_path = f\"/neurospin/dico/data/deep_folding/current/datasets/{dataset}/crops/2mm/{region}/mask/{side}crops\"\n",
    "        if os.path.isfile(f'{mm_skeleton_path}/{subject_id_list[rep]}_cropped_skeleton.nii.gz'):\n",
    "            sum_vol = aims.read(f'{mm_skeleton_path}/{subject_id_list[rep]}_cropped_skeleton.nii.gz').astype(float)\n",
    "            dim = sum_vol.shape\n",
    "            sum_vol.fill(0)\n",
    "        else: \n",
    "            print(f'FileNotFound {mm_skeleton_path}/{subject_id_list[rep]}_cropped_skeleton.nii.gz')\n",
    "            #raise FileNotFoundError(f'{mm_skeleton_path}/{subject_id_list[0]}_cropped_skeleton.nii.gz')\n",
    "        rep += 1\n",
    "\n",
    "    for subject_id, dataset in zip(subject_id_list,dataset_name_list):\n",
    "        if dataset.lower() in ['ukb', 'ukbiobank',  'projected_ukb']:\n",
    "            dataset = 'UkBioBank40'\n",
    "        elif dataset.lower() == 'hcp':\n",
    "            dataset = 'hcp'\n",
    "            \n",
    "        mm_skeleton_path = f\"/neurospin/dico/data/deep_folding/current/datasets/{dataset}/crops/2mm/{region}/mask/{side}crops\"\n",
    "\n",
    "        if os.path.isfile(f'{mm_skeleton_path}/{subject_id}_cropped_skeleton.nii.gz'):\n",
    "            vol = aims.read(f'{mm_skeleton_path}/{subject_id}_cropped_skeleton.nii.gz')\n",
    "            # compare the dim with the first file dim\n",
    "\n",
    "            if vol.np.shape != dim:\n",
    "                raise ValueError(f\"{subject_id_list[0]} and {subject_id} must have the same dim\")\n",
    "\n",
    "                \n",
    "            # to have a binary 3D structure\n",
    "            dic_vol[subject_id] = (vol.np > 0).astype(int)\n",
    "            sum_vol.np[:] += (vol.np > 0).astype(int) \n",
    "        else: \n",
    "            print(f'FileNotFound {mm_skeleton_path}/{subject_id}_cropped_skeleton.nii.gz')\n",
    "            #raise FileNotFoundError(f'{mm_skeleton_path}/{subject_id}_cropped_skeleton.nii.gz')\n",
    "\n",
    "    sum_vol = sum_vol / len(subject_id_list)\n",
    "    print(sum_vol, sum_vol.shape)\n",
    "    return sum_vol"
   ]
  },
  {
   "cell_type": "code",
   "execution_count": 15,
   "metadata": {},
   "outputs": [],
   "source": [
    "def visualize_averages_along_parameter(df, column_name, database, nb_subjects_per_average=200, nb_columns=5, nb_lines=3):\n",
    "    # anatomist objects\n",
    "    global _block\n",
    "    global _average_dic\n",
    "    global dic_packages\n",
    "    nb_windows = nb_columns * nb_lines\n",
    "    _average_dic = {}\n",
    "    step = nb_subjects_per_average # number of subjects on which average is done\n",
    "    # Creates the block if it has not been created\n",
    "    # try:\n",
    "    #     _block\n",
    "    # except NameError:\n",
    "    _block = a.createWindowsBlock(nb_columns)\n",
    "\n",
    "    # Order according to column_name\n",
    "    # df = df.sort_values(column_name)\n",
    "    # predict_proba = df[[column_name]]\n",
    "    predict_proba = df\n",
    "\n",
    "    # Creates dictionary of subjects to average\n",
    "    dic_packages = {}\n",
    "    for i in range(0,len(predict_proba),step):\n",
    "        list_idx = (predict_proba.index[i:i+step].to_numpy())\n",
    "        dic_packages[i//step] = list_idx\n",
    "    \n",
    "    # Ensures that last list contains the last step subjects\n",
    "    list_idx = (predict_proba.index[-step:].to_numpy())\n",
    "    dic_packages[i//step] = list_idx\n",
    "    \n",
    "    list_database = [database for i in range(step)]\n",
    "    n_pack = len(dic_packages)\n",
    "\n",
    "    # Loop of display averages\n",
    "    list_pack = [int(np.ceil(i*n_pack/float(nb_windows))) for i in range(0,nb_windows)]\n",
    "    for i in list_pack:\n",
    "        sum_vol = buckets_average(dic_packages[i], list_database)\n",
    "        _average_dic[f'a_sum_vol{i}'] = a.toAObject(sum_vol)\n",
    "        _average_dic[f'a_sum_vol{i}'].setPalette(minVal=0, absoluteMode=True)\n",
    "        #wsum = a.createWindow('Sagittal', block=block)\n",
    "        #wsum.addObjects(a_sum_vol)\n",
    "        _average_dic[f'rvol{i}'] = a.fusionObjects(\n",
    "            objects=[_average_dic[f'a_sum_vol{i}']],\n",
    "            method='VolumeRenderingFusionMethod')\n",
    "        _average_dic[f'rvol{i}'].releaseAppRef()\n",
    "        # custom palette\n",
    "        n = len(dic_packages[i])\n",
    "        pal = a.createPalette('VR-palette')\n",
    "        pal.header()['palette_gradients'] = '0;0.459574;0.497872;0.910638;1;1#0;0;0.52766;0.417021;1;1#0;0.7;1;0#0;0;0.0297872;0.00851064;0.72766;0.178723;0.957447;0.808511;1;1'\n",
    "        #f'0;0.244444;0.5;1;1;1#0;0;0.535897;0.222222;1;1#0;0.7;1;0#0;0;{0.5/n};0;1;1'\n",
    "        build_gradient(pal)\n",
    "        _average_dic[f'rvol{i}'].setPalette('VR-palette', minVal=0.05, absoluteMode=True)\n",
    "        pal2 = a.createPalette('slice-palette')\n",
    "        pal2.header()['palette_gradients'] = '0;0.459574;0.497872;0.910638;1;1#0;0;0.52766;0.417021;1;1#0;0.7;1;0#0;0;0.0297872;0.00851064;0.72766;0.178723;0.957447;0.808511;1;1'\n",
    "        #f'0;0.244444;0.5;1;1;1#0;0;0.535897;0.222222;1;1#0;0.7;1;0#0;0;{0.3/n};0;{0.7/n};1;1;1'\n",
    "        build_gradient(pal2)\n",
    "        _average_dic[f'a_sum_vol{i}'].setPalette('slice-palette')\n",
    "        # rvol.palette().fill()\n",
    "        _average_dic[f'wvr{i}'] = a.createWindow('3D', block=_block)\n",
    "        _average_dic[f'wvr{i}'].addObjects(_average_dic[f'rvol{i}'])"
   ]
  },
  {
   "cell_type": "markdown",
   "metadata": {},
   "source": [
    "### Visualization"
   ]
  },
  {
   "cell_type": "code",
   "execution_count": 22,
   "metadata": {},
   "outputs": [
    {
     "name": "stdout",
     "output_type": "stream",
     "text": [
      "<soma.aims.Volume_DOUBLE object at 0x75cab8bd83a0> (29, 62, 36, 1)\n",
      "<soma.aims.Volume_DOUBLE object at 0x75cac9faa950> (29, 62, 36, 1)\n",
      "<soma.aims.Volume_DOUBLE object at 0x75cab014a830> (29, 62, 36, 1)\n"
     ]
    },
    {
     "name": "stdout",
     "output_type": "stream",
     "text": [
      "no position could be read at 391, 587\n",
      "no position could be read at 185, 455\n"
     ]
    }
   ],
   "source": [
    "%matplotlib qt5\n",
    "# block = a.createWindowsBlock(10)\n",
    "# visualize_averages_along_parameter(df, \"predicted\", database, nb_subjects_per_average=1)\n",
    "nb_neighbors=1000\n",
    "df = label.iloc[indices[np.argmin(means_npy[:, nb_neighbors]),:nb_neighbors],:]\n",
    "visualize_averages_along_parameter(df, \"predicted\", database, nb_subjects_per_average=200, nb_columns=3, nb_lines=1)"
   ]
  },
  {
   "cell_type": "markdown",
   "metadata": {},
   "source": [
    "# Displaying subjects"
   ]
  },
  {
   "cell_type": "code",
   "execution_count": 17,
   "metadata": {},
   "outputs": [],
   "source": [
    "# list_subjects = list_smallest\n",
    "# block = a.createWindowsBlock(5) # 5 columns\n",
    "# dic_windows = {}\n",
    "# for subject in list_subjects:\n",
    "#     path_to_t1mri = f'/neurospin/dico/data/bv_databases/human/not_labeled/hcp/hcp/{subject}/t1mri/BL'\n",
    "#     dic_windows[f'w{subject}'] = a.createWindow(\"3D\", block=block)\n",
    "#     dic_windows[f'white_{subject}'] = a.loadObject(f'{path_to_t1mri}/default_analysis/segmentation/mesh/{subject}_{side}white.gii')\n",
    "#     dic_windows[f'white_{subject}'].loadReferentialFromHeader()\n",
    "#     dic_windows[f'sulci_{subject}'] = a.loadObject(f'{path_to_t1mri}/default_analysis/folds/3.1/{side}{subject}.arg')\n",
    "#     dic_windows[f'sulci_{subject}'].loadReferentialFromHeader()\n",
    "#     dic_windows[f'w{subject}'].addObjects([dic_windows[f'white_{subject}'], dic_windows[f'sulci_{subject}']])"
   ]
  },
  {
   "cell_type": "code",
   "execution_count": 18,
   "metadata": {},
   "outputs": [],
   "source": [
    "# df.sort_values(\"predicted\")[::10]"
   ]
  },
  {
   "cell_type": "code",
   "execution_count": 19,
   "metadata": {},
   "outputs": [],
   "source": [
    "# df_concat = pd.concat([df.sort_values(\"predicted\")[::10][:5], df.sort_values(\"predicted\")[::10][-5:]])"
   ]
  },
  {
   "cell_type": "code",
   "execution_count": 20,
   "metadata": {},
   "outputs": [],
   "source": [
    "# df_concat"
   ]
  },
  {
   "cell_type": "code",
   "execution_count": 21,
   "metadata": {},
   "outputs": [
    {
     "name": "stderr",
     "output_type": "stream",
     "text": [
      "QLayout: Attempting to add QLayout \"\" to QWidget \"\", which already has a layout\n"
     ]
    },
    {
     "name": "stdout",
     "output_type": "stream",
     "text": [
      "no position could be read at 318, 407\n",
      "no position could be read at 237, 592\n"
     ]
    }
   ],
   "source": [
    "# visualize_averages_along_parameter(df_concat, \"predicted\", database, nb_subjects_per_average=1, nb_columns=5, nb_lines=2)"
   ]
  },
  {
   "cell_type": "code",
   "execution_count": null,
   "metadata": {},
   "outputs": [],
   "source": []
  }
 ],
 "metadata": {
  "kernelspec": {
   "display_name": "venv",
   "language": "python",
   "name": "python3"
  },
  "language_info": {
   "codemirror_mode": {
    "name": "ipython",
    "version": 3
   },
   "file_extension": ".py",
   "mimetype": "text/x-python",
   "name": "python",
   "nbconvert_exporter": "python",
   "pygments_lexer": "ipython3",
   "version": "3.10.12"
  }
 },
 "nbformat": 4,
 "nbformat_minor": 2
}
