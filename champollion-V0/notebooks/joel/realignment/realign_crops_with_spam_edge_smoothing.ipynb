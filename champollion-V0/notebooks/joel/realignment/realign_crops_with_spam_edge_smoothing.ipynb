{
 "cells": [
  {
   "cell_type": "code",
   "execution_count": 506,
   "metadata": {},
   "outputs": [],
   "source": [
    "import json\n",
    "import numpy as np\n",
    "import os\n",
    "import subprocess\n",
    "import glob\n",
    "from soma import aims, aimsalgo\n",
    "import scipy\n",
    "from scipy import ndimage\n",
    "import seaborn as sns\n",
    "import pandas as pd\n",
    "\n",
    "from sulci.registration.spam import spam_register\n",
    "\n",
    "import anatomist.api as ana\n",
    "from soma.qt_gui.qtThread import QtThreadCall\n",
    "from soma.qt_gui.qt_backend import Qt\n",
    "\n",
    "from soma.aimsalgo import MorphoGreyLevel_S16\n",
    "\n",
    "# Global static variables\n",
    "_AIMS_BINARY_ONE = 32767\n",
    "_threshold_for_spam = 0\n",
    "_dilation = 5\n",
    "_threshold = 0\n",
    "_dilation_final = 5\n",
    "_threshold_final = 0\n",
    "_edge_smoothing = 10.\n",
    "_parallel = False\n",
    "\n",
    "import matplotlib\n",
    "from matplotlib import pyplot as plt\n",
    "\n",
    "from p_tqdm import p_map\n",
    "\n",
    "# launching anatomist\n",
    "%matplotlib qt5\n",
    "a = ana.Anatomist()\n",
    "\n",
    "\n"
   ]
  },
  {
   "cell_type": "markdown",
   "metadata": {},
   "source": []
  },
  {
   "cell_type": "code",
   "execution_count": 507,
   "metadata": {},
   "outputs": [],
   "source": [
    "%matplotlib qt5"
   ]
  },
  {
   "cell_type": "code",
   "execution_count": 508,
   "metadata": {},
   "outputs": [],
   "source": [
    "def dilate(mask, radius=_dilation):\n",
    "    \"\"\"Makes a dilation radius _dilation, in mm\n",
    "    \"\"\"\n",
    "    arr = mask.np\n",
    "    # Binarization of mask\n",
    "    arr[arr < 1] = 0\n",
    "    if radius > 0:\n",
    "        arr[arr >= 1] = _AIMS_BINARY_ONE\n",
    "        # Dilates initial volume of 10 mm\n",
    "        morpho = MorphoGreyLevel_S16()\n",
    "        dilate = morpho.doDilation(mask, radius)\n",
    "        arr_dilate = dilate.np\n",
    "        arr_dilate[arr_dilate >= 1] = 1\n",
    "        return dilate\n",
    "    else:\n",
    "        arr[arr >= 1] = 1\n",
    "        return mask"
   ]
  },
  {
   "cell_type": "code",
   "execution_count": 509,
   "metadata": {},
   "outputs": [
    {
     "data": {
      "text/plain": [
       "['/neurospin/dico/data/deep_folding/current/datasets/UkBioBank/skeletons/2mm/L/Lresampled_skeleton_sub-5809266.nii.gz',\n",
       " '/neurospin/dico/data/deep_folding/current/datasets/UkBioBank/skeletons/2mm/L/Lresampled_skeleton_sub-4192947.nii.gz',\n",
       " '/neurospin/dico/data/deep_folding/current/datasets/UkBioBank/skeletons/2mm/L/Lresampled_skeleton_sub-1851213.nii.gz',\n",
       " '/neurospin/dico/data/deep_folding/current/datasets/UkBioBank/skeletons/2mm/L/Lresampled_skeleton_sub-1755382.nii.gz',\n",
       " '/neurospin/dico/data/deep_folding/current/datasets/UkBioBank/skeletons/2mm/L/Lresampled_skeleton_sub-1743426.nii.gz']"
      ]
     },
     "execution_count": 509,
     "metadata": {},
     "output_type": "execute_result"
    }
   ],
   "source": [
    "spam_file = '/neurospin/dico/data/deep_folding/current/mask/2mm/regions/L/Sc.Cal.-S.Li._left.nii.gz'\n",
    "skel_path = '/neurospin/dico/data/deep_folding/current/datasets/UkBioBank/skeletons/2mm/L'\n",
    "skel_files = glob.glob(f'{skel_path}/*.nii.gz')\n",
    "skel_files[:5]"
   ]
  },
  {
   "cell_type": "code",
   "execution_count": 510,
   "metadata": {},
   "outputs": [],
   "source": [
    "# Reads initial spam volume\n",
    "spam_vol = aims.read(spam_file, dtype=\"Volume_FLOAT\")\n",
    "spam_vol.np[spam_vol.np < _threshold_for_spam] = 0\n",
    "\n",
    "# Reads initial spam volume\n",
    "spam_vol_untouched = aims.read(spam_file, dtype=\"Volume_FLOAT\")"
   ]
  },
  {
   "cell_type": "code",
   "execution_count": 511,
   "metadata": {},
   "outputs": [],
   "source": [
    "# Makes gaussian filter\n",
    "# spam_vol_for_gaussian = aims.read(spam_file, dtype=\"Volume_FLOAT\")\n",
    "# spam_vol_for_gaussian.np[spam_vol_for_gaussian.np < _threshold_for_spam] = 0.\n",
    "# spam_vol_for_gaussian.np[spam_vol_for_gaussian.np < _threshold_for_spam] = 1.\n",
    "# g = aimsalgo.Gaussian3DSmoothing_FLOAT(10., 10., 10.)\n",
    "# spam_vol_for_gaussian = g.doit(spam_vol_for_gaussian)\n",
    "# spam_vol_for_gaussian.np[:] = spam_vol_for_gaussian.np / spam_vol_for_gaussian.max()\n",
    "\n",
    "# # Applies filter to spam_vol\n",
    "# spam_vol.np[:] = spam_vol.np * spam_vol_for_gaussian.np"
   ]
  },
  {
   "cell_type": "code",
   "execution_count": 512,
   "metadata": {},
   "outputs": [
    {
     "name": "stdout",
     "output_type": "stream",
     "text": [
      "[ 0.  1.  2.  3.  4.  5.  6.  7.  8.  9. 10. 11. 12. 13. 14. 15. 16. 17.\n",
      " 18. 19. 20. 21. 22. 23. 24. 25. 26. 27. 28. 29. 30. 31. 32. 33. 34.]\n"
     ]
    }
   ],
   "source": [
    "print(np.unique(spam_vol.np))"
   ]
  },
  {
   "cell_type": "code",
   "execution_count": 513,
   "metadata": {},
   "outputs": [],
   "source": [
    "def compute_bbox_mask(arr):\n",
    "\n",
    "    # Gets location of bounding box as slices\n",
    "    objects_in_image = ndimage.find_objects(arr)\n",
    "    print(f\"ndimage.find_objects(arr) = {objects_in_image}\")\n",
    "    if not objects_in_image:\n",
    "        raise ValueError(\"There are only 0s in array!!!\")\n",
    "\n",
    "    loc = objects_in_image[0]\n",
    "    bbmin = []\n",
    "    bbmax = []\n",
    "\n",
    "    for slicing in loc:\n",
    "        bbmin.append(slicing.start)\n",
    "        bbmax.append(slicing.stop)\n",
    "\n",
    "    return np.array(bbmin), np.array(bbmax)"
   ]
  },
  {
   "cell_type": "code",
   "execution_count": 514,
   "metadata": {},
   "outputs": [],
   "source": [
    "def copy_volume_info(vol, dtype='S16'):\n",
    "    vol_copy = aims.Volume(vol.getSize(), dtype)\n",
    "    vol_copy.copyHeaderFrom(vol.header())\n",
    "    vol_copy.np[:] = 0 \n",
    "    return vol_copy "
   ]
  },
  {
   "cell_type": "code",
   "execution_count": 515,
   "metadata": {},
   "outputs": [],
   "source": [
    "def do_masking_dilation(spam_vol, skel_vol, dilation, threshold, do_binarization):\n",
    "   \n",
    "    spam_vol = aims.Volume_FLOAT(spam_vol)\n",
    "    skel_vol = aims.Volume_S16(skel_vol)\n",
    "    \n",
    "    # Do binarization for registration\n",
    "    if do_binarization:\n",
    "        skel_vol.np[:] = (skel_vol.np > 0).astype(np.int16)\n",
    "\n",
    "    # Makes binarization and dilation on spam\n",
    "    mask_result = copy_volume_info(spam_vol, 'S16')\n",
    "    mask_result.np[:] = spam_vol.np\n",
    "    \n",
    "    # # Filter mask with Gaussian filter\n",
    "    # arr_filter = scipy.ndimage.gaussian_filter(\n",
    "    #     mask_result.np.astype(float),\n",
    "    #     sigma=0.5,\n",
    "    #     order=0,\n",
    "    #     output=None,\n",
    "    #     mode='reflect',\n",
    "    #     truncate=4.0)\n",
    "    # mask_result.np[:] = (arr_filter > 0.001).astype(int)\n",
    "    \n",
    "    # Threshold mask\n",
    "    print(\"before threshold\", np.unique(mask_result.np, return_counts=True)) \n",
    "    mask_result.np[mask_result.np <= threshold] = 0\n",
    "    mask_result.np[mask_result.np > threshold] = 1\n",
    "    \n",
    "    # Dilates mask\n",
    "    mask_result.np[:] = dilate(mask_result, dilation).np\n",
    "    print(\"after threshold and dilation\", np.unique(mask_result.np, return_counts=True))\n",
    "    \n",
    "    # Do the actual masking\n",
    "    skel_vol.np[mask_result.np <= 0] = 0\n",
    "    \n",
    "    return skel_vol, mask_result"
   ]
  },
  {
   "cell_type": "code",
   "execution_count": 516,
   "metadata": {},
   "outputs": [],
   "source": [
    "def realign(spam_vol: aims.Volume_FLOAT, skel_vol: aims.Volume_S16,\n",
    "            do_edge_smoothing: bool,\n",
    "            sub_name: str):\n",
    "    \"\"\"Realigns skeleton mask to spam\n",
    "    \n",
    "    skel_f is a file name of skeleton file\"\"\"\n",
    "    \n",
    "    spam_vol = aims.Volume_FLOAT(spam_vol)\n",
    "    spam_vol_untouched = aims.Volume_FLOAT(spam_vol)\n",
    "    skel_vol = aims.Volume_S16(skel_vol)\n",
    "    \n",
    "    # Masks with first dilation and threshold\n",
    "    skel_vol_before, mask_dilated = do_masking_dilation(spam_vol, skel_vol, _dilation, _threshold, True)\n",
    "    aims.write(skel_vol_before, f\"/tmp/skel_before{sub_name}.nii.gz\")\n",
    "    print(np.unique(spam_vol.np))\n",
    "    mask_dilated.np[:] = (mask_dilated.np > 0).astype(np.int16)\n",
    "    \n",
    "    if do_edge_smoothing:\n",
    "        g = aimsalgo.Gaussian3DSmoothing_FLOAT(_edge_smoothing, _edge_smoothing, _edge_smoothing)\n",
    "        mask_vol = copy_volume_info(mask_dilated, 'FLOAT')\n",
    "        mask_vol.np[:] = mask_dilated.np\n",
    "        mask_vol = g.doit(mask_vol)\n",
    "        mask_vol.np[:] = mask_vol.np / mask_vol.max()\n",
    "        spam_vol.np[:] = spam_vol.np * spam_vol.np * mask_vol.np\n",
    "        \n",
    "    # Makes realignment\n",
    "    out_tr = spam_register(spam_vol,\n",
    "                        skel_vol_before,\n",
    "                        do_mask=False,\n",
    "                        R_angle_var=np.pi / 8,\n",
    "                        t_var=10.,\n",
    "                        verbose=False,\n",
    "                        in_log=False,\n",
    "                        calibrate_distrib=30)\n",
    "    aims.write(out_tr, f'/tmp/transform{sub_name}.trm')\n",
    "    print(out_tr.np)\n",
    "    \n",
    "    # Masks with final dilation and threshold\n",
    "    skel_vol, spam_vol = do_masking_dilation(spam_vol_untouched, skel_vol, _dilation_final, _threshold_final, True)\n",
    "    aims.write(skel_vol, f\"/tmp/skel_final_before{sub_name}.nii.gz\")\n",
    "    aims.write(spam_vol, f\"/tmp/spam_final_before{sub_name}.nii.gz\")\n",
    "    \n",
    "    # Applies the realignment\n",
    "    subprocess.check_call(f\"AimsApplyTransform -i /tmp/skel_final_before{sub_name}.nii.gz -o /tmp/skel_final_realigned{sub_name}.nii.gz -m /tmp/transform{sub_name}.trm -t 0\", shell=True)\n",
    "    subprocess.check_call(f\"AimsApplyTransform -i /tmp/spam_final_before{sub_name}.nii.gz -o /tmp/spam_final_realigned{sub_name}.nii.gz -m /tmp/transform{sub_name}.trm\", shell=True)\n",
    "    \n",
    "    # loads realigned file:\n",
    "    before = aims.read(f\"/tmp/skel_final_before{sub_name}.nii.gz\")\n",
    "    after = aims.read(f\"/tmp/skel_final_realigned{sub_name}.nii.gz\")\n",
    "    spam_after = aims.read(f\"/tmp/spam_final_realigned{sub_name}.nii.gz\")\n",
    "    \n",
    "    return before, after, spam_after, mask_dilated"
   ]
  },
  {
   "cell_type": "code",
   "execution_count": 517,
   "metadata": {},
   "outputs": [
    {
     "name": "stdout",
     "output_type": "stream",
     "text": [
      "/neurospin/dico/data/deep_folding/current/datasets/UkBioBank/skeletons/2mm/L/Lresampled_skeleton_sub-5809266.nii.gz\n",
      "before threshold (array([ 0,  1,  2,  3,  4,  5,  6,  7,  8,  9, 10, 11, 12, 13, 14, 15, 16,\n",
      "       17, 18, 19, 20, 21, 22, 23, 24, 25, 26, 27, 28, 29, 30, 31, 32, 33,\n",
      "       34], dtype=int16), array([1044188,    1621,     878,     566,     428,     366,     300,\n",
      "           287,     257,     218,     183,     201,     169,     156,\n",
      "           149,     123,      95,      91,      89,      52,      45,\n",
      "            30,      32,      15,      18,      14,      13,       9,\n",
      "             9,       6,       6,       4,       2,       2,       2]))\n",
      "DILATION\n",
      "after threshold and dilation (array([0, 1], dtype=int16), array([1036637,   13987]))\n",
      "[ 0.  1.  2.  3.  4.  5.  6.  7.  8.  9. 10. 11. 12. 13. 14. 15. 16. 17.\n",
      " 18. 19. 20. 21. 22. 23. 24. 25. 26. 27. 28. 29. 30. 31. 32. 33. 34.]\n",
      "[[ 1.0000000e+00 -1.3389277e-07  3.4161684e-07 -7.6293945e-06]\n",
      " [ 1.3389277e-07  1.0000000e+00 -8.2075688e-09 -1.5258789e-05]\n",
      " [-3.4161684e-07  8.2076141e-09  1.0000000e+00  3.8146973e-05]\n",
      " [ 0.0000000e+00  0.0000000e+00  0.0000000e+00  1.0000000e+00]]\n",
      "before threshold (array([ 0,  1,  2,  3,  4,  5,  6,  7,  8,  9, 10, 11, 12, 13, 14, 15, 16,\n",
      "       17, 18, 19, 20, 21, 22, 23, 24, 25, 26, 27, 28, 29, 30, 31, 32, 33,\n",
      "       34], dtype=int16), array([1044188,    1621,     878,     566,     428,     366,     300,\n",
      "           287,     257,     218,     183,     201,     169,     156,\n",
      "           149,     123,      95,      91,      89,      52,      45,\n",
      "            30,      32,      15,      18,      14,      13,       9,\n",
      "             9,       6,       6,       4,       2,       2,       2]))\n",
      "DILATION\n",
      "after threshold and dilation (array([0, 1], dtype=int16), array([1036637,   13987]))\n"
     ]
    },
    {
     "name": "stderr",
     "output_type": "stream",
     "text": [
      "/usr/lib/python3/dist-packages/scipy/__init__.py:146: UserWarning: A NumPy version >=1.17.3 and <1.25.0 is required for this version of SciPy (detected version 1.26.4\n",
      "  warnings.warn(f\"A NumPy version >={np_minversion} and <{np_maxversion}\"\n"
     ]
    },
    {
     "name": "stdout",
     "output_type": "stream",
     "text": [
      "loading direct transformations\n",
      "Output dimensions: 96, 114, 96\n",
      "Output voxel size: 2, 2, 2 mm\n",
      "Resampling carto_volume of S16...   0   1   2   3   4   5   6   7   8   9  10  11  12  13  14  15  16  17  18  19  20  21  22  23  24  25  26  27  28  29  30  31  32  33  34  35  36  37  38  39  40  41  42  43  44  45  46  47  48  49  50  51  52  53  54  55  56  57  58  59  60  61  62  63  64  65  66  67  68  69  70  71  72  73  74  75  76  77  78  79  80  81  82  83  84  85  86  87  88  89  90  91  92  93  94  95  96  97  98  99 100 %\n"
     ]
    },
    {
     "name": "stderr",
     "output_type": "stream",
     "text": [
      "/usr/lib/python3/dist-packages/scipy/__init__.py:146: UserWarning: A NumPy version >=1.17.3 and <1.25.0 is required for this version of SciPy (detected version 1.26.4\n",
      "  warnings.warn(f\"A NumPy version >={np_minversion} and <{np_maxversion}\"\n"
     ]
    },
    {
     "name": "stdout",
     "output_type": "stream",
     "text": [
      "loading direct transformations\n",
      "Output dimensions: 96, 114, 96\n",
      "Output voxel size: 2, 2, 2 mm\n",
      "Resampling carto_volume of S16...   0   1   2   3   4   5   6   7   8   9  10  11  12  13  14  15  16  17  18  19  20  21  22  23  24  25  26  27  28  29  30  31  32  33  34  35  36  37  38  39  40  41  42  43  44  45  46  47  48  49  50  51  52  53  54  55  56  57  58  59  60  61  62  63  64  65  66  67  68  69  70  71  72  73  74  75  76  77  78  79  80  81  82  83  84  85  86  87  88  89  90  91  92  93  94  95  96  97  98  99 100 %\n",
      "ndimage.find_objects(arr) = [(slice(43, 68, None), slice(63, 105, None), slice(40, 76, None), slice(0, 1, None))]\n",
      "/neurospin/dico/data/deep_folding/current/datasets/UkBioBank/skeletons/2mm/L/Lresampled_skeleton_sub-4192947.nii.gz\n",
      "before threshold (array([ 0,  1,  2,  3,  4,  5,  6,  7,  8,  9, 10, 11, 12, 13, 14, 15, 16,\n",
      "       17, 18, 19, 20, 21, 22, 23, 24, 25, 26, 27, 28, 29, 30, 31, 32, 33,\n",
      "       34], dtype=int16), array([1044188,    1621,     878,     566,     428,     366,     300,\n",
      "           287,     257,     218,     183,     201,     169,     156,\n",
      "           149,     123,      95,      91,      89,      52,      45,\n",
      "            30,      32,      15,      18,      14,      13,       9,\n",
      "             9,       6,       6,       4,       2,       2,       2]))\n",
      "DILATION\n",
      "after threshold and dilation (array([0, 1], dtype=int16), array([1036637,   13987]))\n",
      "[ 0.  1.  2.  3.  4.  5.  6.  7.  8.  9. 10. 11. 12. 13. 14. 15. 16. 17.\n",
      " 18. 19. 20. 21. 22. 23. 24. 25. 26. 27. 28. 29. 30. 31. 32. 33. 34.]\n",
      "[[ 1.00000000e+00  1.13815986e-07 -5.26364659e-07  4.57763672e-05]\n",
      " [-1.98045971e-08  9.84522462e-01  1.75258338e-01 -1.69770355e+01]\n",
      " [ 5.38165011e-07 -1.75258338e-01  9.84522462e-01  3.06369705e+01]\n",
      " [ 0.00000000e+00  0.00000000e+00  0.00000000e+00  1.00000000e+00]]\n",
      "before threshold (array([ 0,  1,  2,  3,  4,  5,  6,  7,  8,  9, 10, 11, 12, 13, 14, 15, 16,\n",
      "       17, 18, 19, 20, 21, 22, 23, 24, 25, 26, 27, 28, 29, 30, 31, 32, 33,\n",
      "       34], dtype=int16), array([1044188,    1621,     878,     566,     428,     366,     300,\n",
      "           287,     257,     218,     183,     201,     169,     156,\n",
      "           149,     123,      95,      91,      89,      52,      45,\n",
      "            30,      32,      15,      18,      14,      13,       9,\n",
      "             9,       6,       6,       4,       2,       2,       2]))\n",
      "DILATION\n",
      "after threshold and dilation (array([0, 1], dtype=int16), array([1036637,   13987]))\n"
     ]
    },
    {
     "name": "stderr",
     "output_type": "stream",
     "text": [
      "/usr/lib/python3/dist-packages/scipy/__init__.py:146: UserWarning: A NumPy version >=1.17.3 and <1.25.0 is required for this version of SciPy (detected version 1.26.4\n",
      "  warnings.warn(f\"A NumPy version >={np_minversion} and <{np_maxversion}\"\n"
     ]
    },
    {
     "name": "stdout",
     "output_type": "stream",
     "text": [
      "loading direct transformations\n",
      "Output dimensions: 96, 114, 96\n",
      "Output voxel size: 2, 2, 2 mm\n",
      "Resampling carto_volume of S16...   0   1   2   3   4   5   6   7   8   9  10  11  12  13  14  15  16  17  18  19  20  21  22  23  24  25  26  27  28  29  30  31  32  33  34  35  36  37  38  39  40  41  42  43  44  45  46  47  48  49  50  51  52  53  54  55  56  57  58  59  60  61  62  63  64  65  66  67  68  69  70  71  72  73  74  75  76  77  78  79  80  81  82  83  84  85  86  87  88  89  90  91  92  93  94  95  96  97  98  99 100 %\n"
     ]
    },
    {
     "name": "stderr",
     "output_type": "stream",
     "text": [
      "/usr/lib/python3/dist-packages/scipy/__init__.py:146: UserWarning: A NumPy version >=1.17.3 and <1.25.0 is required for this version of SciPy (detected version 1.26.4\n",
      "  warnings.warn(f\"A NumPy version >={np_minversion} and <{np_maxversion}\"\n"
     ]
    },
    {
     "name": "stdout",
     "output_type": "stream",
     "text": [
      "loading direct transformations\n",
      "Output dimensions: 96, 114, 96\n",
      "Output voxel size: 2, 2, 2 mm\n",
      "Resampling carto_volume of S16...   0   1   2   3   4   5   6   7   8   9  10  11  12  13  14  15  16  17  18  19  20  21  22  23  24  25  26  27  28  29  30  31  32  33  34  35  36  37  38  39  40  41  42  43  44  45  46  47  48  49  50  51  52  53  54  55  56  57  58  59  60  61  62  63  64  65  66  67  68  69  70  71  72  73  74  75  76  77  78  79  80  81  82  83  84  85  86  87  88  89  90  91  92  93  94  95  96  97  98  99 100 %\n",
      "ndimage.find_objects(arr) = [(slice(43, 68, None), slice(63, 105, None), slice(40, 76, None), slice(0, 1, None))]\n",
      "/neurospin/dico/data/deep_folding/current/datasets/UkBioBank/skeletons/2mm/L/Lresampled_skeleton_sub-1851213.nii.gz\n",
      "before threshold (array([ 0,  1,  2,  3,  4,  5,  6,  7,  8,  9, 10, 11, 12, 13, 14, 15, 16,\n",
      "       17, 18, 19, 20, 21, 22, 23, 24, 25, 26, 27, 28, 29, 30, 31, 32, 33,\n",
      "       34], dtype=int16), array([1044188,    1621,     878,     566,     428,     366,     300,\n",
      "           287,     257,     218,     183,     201,     169,     156,\n",
      "           149,     123,      95,      91,      89,      52,      45,\n",
      "            30,      32,      15,      18,      14,      13,       9,\n",
      "             9,       6,       6,       4,       2,       2,       2]))\n",
      "DILATION\n",
      "after threshold and dilation (array([0, 1], dtype=int16), array([1036637,   13987]))\n",
      "[ 0.  1.  2.  3.  4.  5.  6.  7.  8.  9. 10. 11. 12. 13. 14. 15. 16. 17.\n",
      " 18. 19. 20. 21. 22. 23. 24. 25. 26. 27. 28. 29. 30. 31. 32. 33. 34.]\n",
      "[[ 9.9999994e-01  3.4611576e-04  9.7547010e-05 -6.7703247e-02]\n",
      " [-3.4613462e-04  9.9999994e-01  1.9338356e-04  1.7257690e-02]\n",
      " [-9.7480071e-05 -1.9341731e-04  1.0000000e+00  2.0447617e+00]\n",
      " [ 0.0000000e+00  0.0000000e+00  0.0000000e+00  1.0000000e+00]]\n",
      "before threshold (array([ 0,  1,  2,  3,  4,  5,  6,  7,  8,  9, 10, 11, 12, 13, 14, 15, 16,\n",
      "       17, 18, 19, 20, 21, 22, 23, 24, 25, 26, 27, 28, 29, 30, 31, 32, 33,\n",
      "       34], dtype=int16), array([1044188,    1621,     878,     566,     428,     366,     300,\n",
      "           287,     257,     218,     183,     201,     169,     156,\n",
      "           149,     123,      95,      91,      89,      52,      45,\n",
      "            30,      32,      15,      18,      14,      13,       9,\n",
      "             9,       6,       6,       4,       2,       2,       2]))\n",
      "DILATION\n",
      "after threshold and dilation (array([0, 1], dtype=int16), array([1036637,   13987]))\n"
     ]
    },
    {
     "name": "stderr",
     "output_type": "stream",
     "text": [
      "/usr/lib/python3/dist-packages/scipy/__init__.py:146: UserWarning: A NumPy version >=1.17.3 and <1.25.0 is required for this version of SciPy (detected version 1.26.4\n",
      "  warnings.warn(f\"A NumPy version >={np_minversion} and <{np_maxversion}\"\n"
     ]
    },
    {
     "name": "stdout",
     "output_type": "stream",
     "text": [
      "loading direct transformations\n",
      "Output dimensions: 96, 114, 96\n",
      "Output voxel size: 2, 2, 2 mm\n",
      "Resampling carto_volume of S16...   0   1   2   3   4   5   6   7   8   9  10  11  12  13  14  15  16  17  18  19  20  21  22  23  24  25  26  27  28  29  30  31  32  33  34  35  36  37  38  39  40  41  42  43  44  45  46  47  48  49  50  51  52  53  54  55  56  57  58  59  60  61  62  63  64  65  66  67  68  69  70  71  72  73  74  75  76  77  78  79  80  81  82  83  84  85  86  87  88  89  90  91  92  93  94  95  96  97  98  99 100 %\n"
     ]
    },
    {
     "name": "stderr",
     "output_type": "stream",
     "text": [
      "/usr/lib/python3/dist-packages/scipy/__init__.py:146: UserWarning: A NumPy version >=1.17.3 and <1.25.0 is required for this version of SciPy (detected version 1.26.4\n",
      "  warnings.warn(f\"A NumPy version >={np_minversion} and <{np_maxversion}\"\n"
     ]
    },
    {
     "name": "stdout",
     "output_type": "stream",
     "text": [
      "loading direct transformations\n",
      "Output dimensions: 96, 114, 96\n",
      "Output voxel size: 2, 2, 2 mm\n",
      "Resampling carto_volume of S16...   0   1   2   3   4   5   6   7   8   9  10  11  12  13  14  15  16  17  18  19  20  21  22  23  24  25  26  27  28  29  30  31  32  33  34  35  36  37  38  39  40  41  42  43  44  45  46  47  48  49  50  51  52  53  54  55  56  57  58  59  60  61  62  63  64  65  66  67  68  69  70  71  72  73  74  75  76  77  78  79  80  81  82  83  84  85  86  87  88  89  90  91  92  93  94  95  96  97  98  99 100 %\n",
      "ndimage.find_objects(arr) = [(slice(43, 68, None), slice(63, 105, None), slice(40, 76, None), slice(0, 1, None))]\n",
      "/neurospin/dico/data/deep_folding/current/datasets/UkBioBank/skeletons/2mm/L/Lresampled_skeleton_sub-1755382.nii.gz\n",
      "before threshold (array([ 0,  1,  2,  3,  4,  5,  6,  7,  8,  9, 10, 11, 12, 13, 14, 15, 16,\n",
      "       17, 18, 19, 20, 21, 22, 23, 24, 25, 26, 27, 28, 29, 30, 31, 32, 33,\n",
      "       34], dtype=int16), array([1044188,    1621,     878,     566,     428,     366,     300,\n",
      "           287,     257,     218,     183,     201,     169,     156,\n",
      "           149,     123,      95,      91,      89,      52,      45,\n",
      "            30,      32,      15,      18,      14,      13,       9,\n",
      "             9,       6,       6,       4,       2,       2,       2]))\n",
      "DILATION\n",
      "after threshold and dilation (array([0, 1], dtype=int16), array([1036637,   13987]))\n",
      "[ 0.  1.  2.  3.  4.  5.  6.  7.  8.  9. 10. 11. 12. 13. 14. 15. 16. 17.\n",
      " 18. 19. 20. 21. 22. 23. 24. 25. 26. 27. 28. 29. 30. 31. 32. 33. 34.]\n",
      "[[ 9.9646282e-01 -8.4034808e-02 -1.3831019e-04  1.3687767e+01]\n",
      " [ 8.4034808e-02  9.9645740e-01  3.2858050e-03 -8.9058228e+00]\n",
      " [-1.3830177e-04 -3.2858052e-03  9.9999458e-01  5.6832886e-01]\n",
      " [ 0.0000000e+00  0.0000000e+00  0.0000000e+00  1.0000000e+00]]\n",
      "before threshold (array([ 0,  1,  2,  3,  4,  5,  6,  7,  8,  9, 10, 11, 12, 13, 14, 15, 16,\n",
      "       17, 18, 19, 20, 21, 22, 23, 24, 25, 26, 27, 28, 29, 30, 31, 32, 33,\n",
      "       34], dtype=int16), array([1044188,    1621,     878,     566,     428,     366,     300,\n",
      "           287,     257,     218,     183,     201,     169,     156,\n",
      "           149,     123,      95,      91,      89,      52,      45,\n",
      "            30,      32,      15,      18,      14,      13,       9,\n",
      "             9,       6,       6,       4,       2,       2,       2]))\n",
      "DILATION\n",
      "after threshold and dilation (array([0, 1], dtype=int16), array([1036637,   13987]))\n"
     ]
    },
    {
     "name": "stderr",
     "output_type": "stream",
     "text": [
      "/usr/lib/python3/dist-packages/scipy/__init__.py:146: UserWarning: A NumPy version >=1.17.3 and <1.25.0 is required for this version of SciPy (detected version 1.26.4\n",
      "  warnings.warn(f\"A NumPy version >={np_minversion} and <{np_maxversion}\"\n"
     ]
    },
    {
     "name": "stdout",
     "output_type": "stream",
     "text": [
      "loading direct transformations\n",
      "Output dimensions: 96, 114, 96\n",
      "Output voxel size: 2, 2, 2 mm\n",
      "Resampling carto_volume of S16...   0   1   2   3   4   5   6   7   8   9  10  11  12  13  14  15  16  17  18  19  20  21  22  23  24  25  26  27  28  29  30  31  32  33  34  35  36  37  38  39  40  41  42  43  44  45  46  47  48  49  50  51  52  53  54  55  56  57  58  59  60  61  62  63  64  65  66  67  68  69  70  71  72  73  74  75  76  77  78  79  80  81  82  83  84  85  86  87  88  89  90  91  92  93  94  95  96  97  98  99 100 %\n"
     ]
    },
    {
     "name": "stderr",
     "output_type": "stream",
     "text": [
      "/usr/lib/python3/dist-packages/scipy/__init__.py:146: UserWarning: A NumPy version >=1.17.3 and <1.25.0 is required for this version of SciPy (detected version 1.26.4\n",
      "  warnings.warn(f\"A NumPy version >={np_minversion} and <{np_maxversion}\"\n"
     ]
    },
    {
     "name": "stdout",
     "output_type": "stream",
     "text": [
      "loading direct transformations\n",
      "Output dimensions: 96, 114, 96\n",
      "Output voxel size: 2, 2, 2 mm\n",
      "Resampling carto_volume of S16...   0   1   2   3   4   5   6   7   8   9  10  11  12  13  14  15  16  17  18  19  20  21  22  23  24  25  26  27  28  29  30  31  32  33  34  35  36  37  38  39  40  41  42  43  44  45  46  47  48  49  50  51  52  53  54  55  56  57  58  59  60  61  62  63  64  65  66  67  68  69  70  71  72  73  74  75  76  77  78  79  80  81  82  83  84  85  86  87  88  89  90  91  92  93  94  95  96  97  98  99 100 %\n",
      "ndimage.find_objects(arr) = [(slice(43, 68, None), slice(63, 105, None), slice(40, 76, None), slice(0, 1, None))]\n",
      "/neurospin/dico/data/deep_folding/current/datasets/UkBioBank/skeletons/2mm/L/Lresampled_skeleton_sub-1743426.nii.gz\n",
      "before threshold (array([ 0,  1,  2,  3,  4,  5,  6,  7,  8,  9, 10, 11, 12, 13, 14, 15, 16,\n",
      "       17, 18, 19, 20, 21, 22, 23, 24, 25, 26, 27, 28, 29, 30, 31, 32, 33,\n",
      "       34], dtype=int16), array([1044188,    1621,     878,     566,     428,     366,     300,\n",
      "           287,     257,     218,     183,     201,     169,     156,\n",
      "           149,     123,      95,      91,      89,      52,      45,\n",
      "            30,      32,      15,      18,      14,      13,       9,\n",
      "             9,       6,       6,       4,       2,       2,       2]))\n",
      "DILATION\n",
      "after threshold and dilation (array([0, 1], dtype=int16), array([1036637,   13987]))\n",
      "[ 0.  1.  2.  3.  4.  5.  6.  7.  8.  9. 10. 11. 12. 13. 14. 15. 16. 17.\n",
      " 18. 19. 20. 21. 22. 23. 24. 25. 26. 27. 28. 29. 30. 31. 32. 33. 34.]\n",
      "[[ 9.9892712e-01 -1.5560695e-06  4.6310350e-02 -5.6156769e+00]\n",
      " [ 3.6728470e-05  9.9999970e-01 -7.5864239e-04  2.0842438e+00]\n",
      " [-4.6310335e-02  7.5952936e-04  9.9892682e-01  4.9857864e+00]\n",
      " [ 0.0000000e+00  0.0000000e+00  0.0000000e+00  1.0000000e+00]]\n",
      "before threshold (array([ 0,  1,  2,  3,  4,  5,  6,  7,  8,  9, 10, 11, 12, 13, 14, 15, 16,\n",
      "       17, 18, 19, 20, 21, 22, 23, 24, 25, 26, 27, 28, 29, 30, 31, 32, 33,\n",
      "       34], dtype=int16), array([1044188,    1621,     878,     566,     428,     366,     300,\n",
      "           287,     257,     218,     183,     201,     169,     156,\n",
      "           149,     123,      95,      91,      89,      52,      45,\n",
      "            30,      32,      15,      18,      14,      13,       9,\n",
      "             9,       6,       6,       4,       2,       2,       2]))\n",
      "DILATION\n",
      "after threshold and dilation (array([0, 1], dtype=int16), array([1036637,   13987]))\n"
     ]
    },
    {
     "name": "stderr",
     "output_type": "stream",
     "text": [
      "/usr/lib/python3/dist-packages/scipy/__init__.py:146: UserWarning: A NumPy version >=1.17.3 and <1.25.0 is required for this version of SciPy (detected version 1.26.4\n",
      "  warnings.warn(f\"A NumPy version >={np_minversion} and <{np_maxversion}\"\n"
     ]
    },
    {
     "name": "stdout",
     "output_type": "stream",
     "text": [
      "loading direct transformations\n",
      "Output dimensions: 96, 114, 96\n",
      "Output voxel size: 2, 2, 2 mm\n",
      "Resampling carto_volume of S16...   0   1   2   3   4   5   6   7   8   9  10  11  12  13  14  15  16  17  18  19  20  21  22  23  24  25  26  27  28  29  30  31  32  33  34  35  36  37  38  39  40  41  42  43  44  45  46  47  48  49  50  51  52  53  54  55  56  57  58  59  60  61  62  63  64  65  66  67  68  69  70  71  72  73  74  75  76  77  78  79  80  81  82  83  84  85  86  87  88  89  90  91  92  93  94  95  96  97  98  99 100 %\n"
     ]
    },
    {
     "name": "stderr",
     "output_type": "stream",
     "text": [
      "/usr/lib/python3/dist-packages/scipy/__init__.py:146: UserWarning: A NumPy version >=1.17.3 and <1.25.0 is required for this version of SciPy (detected version 1.26.4\n",
      "  warnings.warn(f\"A NumPy version >={np_minversion} and <{np_maxversion}\"\n"
     ]
    },
    {
     "name": "stdout",
     "output_type": "stream",
     "text": [
      "loading direct transformations\n",
      "Output dimensions: 96, 114, 96\n",
      "Output voxel size: 2, 2, 2 mm\n",
      "Resampling carto_volume of S16...   0   1   2   3   4   5   6   7   8   9  10  11  12  13  14  15  16  17  18  19  20  21  22  23  24  25  26  27  28  29  30  31  32  33  34  35  36  37  38  39  40  41  42  43  44  45  46  47  48  49  50  51  52  53  54  55  56  57  58  59  60  61  62  63  64  65  66  67  68  69  70  71  72  73  74  75  76  77  78  79  80  81  82  83  84  85  86  87  88  89  90  91  92  93  94  95  96  97  98  99 100 %\n",
      "ndimage.find_objects(arr) = [(slice(43, 68, None), slice(63, 105, None), slice(40, 76, None), slice(0, 1, None))]\n",
      "/neurospin/dico/data/deep_folding/current/datasets/UkBioBank/skeletons/2mm/L/Lresampled_skeleton_sub-1702628.nii.gz\n",
      "before threshold (array([ 0,  1,  2,  3,  4,  5,  6,  7,  8,  9, 10, 11, 12, 13, 14, 15, 16,\n",
      "       17, 18, 19, 20, 21, 22, 23, 24, 25, 26, 27, 28, 29, 30, 31, 32, 33,\n",
      "       34], dtype=int16), array([1044188,    1621,     878,     566,     428,     366,     300,\n",
      "           287,     257,     218,     183,     201,     169,     156,\n",
      "           149,     123,      95,      91,      89,      52,      45,\n",
      "            30,      32,      15,      18,      14,      13,       9,\n",
      "             9,       6,       6,       4,       2,       2,       2]))\n",
      "DILATION\n",
      "after threshold and dilation (array([0, 1], dtype=int16), array([1036637,   13987]))\n",
      "[ 0.  1.  2.  3.  4.  5.  6.  7.  8.  9. 10. 11. 12. 13. 14. 15. 16. 17.\n",
      " 18. 19. 20. 21. 22. 23. 24. 25. 26. 27. 28. 29. 30. 31. 32. 33. 34.]\n",
      "[[ 1.0000000e+00 -3.6126887e-06  1.8964397e-07  5.1879883e-04]\n",
      " [ 3.6126887e-06  1.0000000e+00  2.5835331e-07  1.9996033e+00]\n",
      " [-1.8964491e-07 -2.5835260e-07  1.0000000e+00  6.1035156e-05]\n",
      " [ 0.0000000e+00  0.0000000e+00  0.0000000e+00  1.0000000e+00]]\n",
      "before threshold (array([ 0,  1,  2,  3,  4,  5,  6,  7,  8,  9, 10, 11, 12, 13, 14, 15, 16,\n",
      "       17, 18, 19, 20, 21, 22, 23, 24, 25, 26, 27, 28, 29, 30, 31, 32, 33,\n",
      "       34], dtype=int16), array([1044188,    1621,     878,     566,     428,     366,     300,\n",
      "           287,     257,     218,     183,     201,     169,     156,\n",
      "           149,     123,      95,      91,      89,      52,      45,\n",
      "            30,      32,      15,      18,      14,      13,       9,\n",
      "             9,       6,       6,       4,       2,       2,       2]))\n",
      "DILATION\n",
      "after threshold and dilation (array([0, 1], dtype=int16), array([1036637,   13987]))\n"
     ]
    },
    {
     "name": "stderr",
     "output_type": "stream",
     "text": [
      "/usr/lib/python3/dist-packages/scipy/__init__.py:146: UserWarning: A NumPy version >=1.17.3 and <1.25.0 is required for this version of SciPy (detected version 1.26.4\n",
      "  warnings.warn(f\"A NumPy version >={np_minversion} and <{np_maxversion}\"\n"
     ]
    },
    {
     "name": "stdout",
     "output_type": "stream",
     "text": [
      "loading direct transformations\n",
      "Output dimensions: 96, 114, 96\n",
      "Output voxel size: 2, 2, 2 mm\n",
      "Resampling carto_volume of S16...   0   1   2   3   4   5   6   7   8   9  10  11  12  13  14  15  16  17  18  19  20  21  22  23  24  25  26  27  28  29  30  31  32  33  34  35  36  37  38  39  40  41  42  43  44  45  46  47  48  49  50  51  52  53  54  55  56  57  58  59  60  61  62  63  64  65  66  67  68  69  70  71  72  73  74  75  76  77  78  79  80  81  82  83  84  85  86  87  88  89  90  91  92  93  94  95  96  97  98  99 100 %\n"
     ]
    },
    {
     "name": "stderr",
     "output_type": "stream",
     "text": [
      "/usr/lib/python3/dist-packages/scipy/__init__.py:146: UserWarning: A NumPy version >=1.17.3 and <1.25.0 is required for this version of SciPy (detected version 1.26.4\n",
      "  warnings.warn(f\"A NumPy version >={np_minversion} and <{np_maxversion}\"\n"
     ]
    },
    {
     "name": "stdout",
     "output_type": "stream",
     "text": [
      "loading direct transformations\n",
      "Output dimensions: 96, 114, 96\n",
      "Output voxel size: 2, 2, 2 mm\n",
      "Resampling carto_volume of S16...   0   1   2   3   4   5   6   7   8   9  10  11  12  13  14  15  16  17  18  19  20  21  22  23  24  25  26  27  28  29  30  31  32  33  34  35  36  37  38  39  40  41  42  43  44  45  46  47  48  49  50  51  52  53  54  55  56  57  58  59  60  61  62  63  64  65  66  67  68  69  70  71  72  73  74  75  76  77  78  79  80  81  82  83  84  85  86  87  88  89  90  91  92  93  94  95  96  97  98  99 100 %\n",
      "ndimage.find_objects(arr) = [(slice(43, 68, None), slice(63, 105, None), slice(40, 76, None), slice(0, 1, None))]\n",
      "/neurospin/dico/data/deep_folding/current/datasets/UkBioBank/skeletons/2mm/L/Lresampled_skeleton_sub-4497009.nii.gz\n",
      "before threshold (array([ 0,  1,  2,  3,  4,  5,  6,  7,  8,  9, 10, 11, 12, 13, 14, 15, 16,\n",
      "       17, 18, 19, 20, 21, 22, 23, 24, 25, 26, 27, 28, 29, 30, 31, 32, 33,\n",
      "       34], dtype=int16), array([1044188,    1621,     878,     566,     428,     366,     300,\n",
      "           287,     257,     218,     183,     201,     169,     156,\n",
      "           149,     123,      95,      91,      89,      52,      45,\n",
      "            30,      32,      15,      18,      14,      13,       9,\n",
      "             9,       6,       6,       4,       2,       2,       2]))\n",
      "DILATION\n",
      "after threshold and dilation (array([0, 1], dtype=int16), array([1036637,   13987]))\n",
      "[ 0.  1.  2.  3.  4.  5.  6.  7.  8.  9. 10. 11. 12. 13. 14. 15. 16. 17.\n",
      " 18. 19. 20. 21. 22. 23. 24. 25. 26. 27. 28. 29. 30. 31. 32. 33. 34.]\n",
      "[[ 9.8597962e-01 -1.6278560e-01 -3.6674514e-02  3.2916512e+01]\n",
      " [ 1.6559118e-01  9.2741102e-01  3.3539289e-01 -4.3129150e+01]\n",
      " [-2.0584790e-02 -3.3676353e-01  9.4136423e-01  6.5027290e+01]\n",
      " [ 0.0000000e+00  0.0000000e+00  0.0000000e+00  1.0000000e+00]]\n",
      "before threshold (array([ 0,  1,  2,  3,  4,  5,  6,  7,  8,  9, 10, 11, 12, 13, 14, 15, 16,\n",
      "       17, 18, 19, 20, 21, 22, 23, 24, 25, 26, 27, 28, 29, 30, 31, 32, 33,\n",
      "       34], dtype=int16), array([1044188,    1621,     878,     566,     428,     366,     300,\n",
      "           287,     257,     218,     183,     201,     169,     156,\n",
      "           149,     123,      95,      91,      89,      52,      45,\n",
      "            30,      32,      15,      18,      14,      13,       9,\n",
      "             9,       6,       6,       4,       2,       2,       2]))\n",
      "DILATION\n",
      "after threshold and dilation (array([0, 1], dtype=int16), array([1036637,   13987]))\n"
     ]
    },
    {
     "name": "stderr",
     "output_type": "stream",
     "text": [
      "/usr/lib/python3/dist-packages/scipy/__init__.py:146: UserWarning: A NumPy version >=1.17.3 and <1.25.0 is required for this version of SciPy (detected version 1.26.4\n",
      "  warnings.warn(f\"A NumPy version >={np_minversion} and <{np_maxversion}\"\n"
     ]
    },
    {
     "name": "stdout",
     "output_type": "stream",
     "text": [
      "loading direct transformations\n",
      "Output dimensions: 96, 114, 96\n",
      "Output voxel size: 2, 2, 2 mm\n",
      "Resampling carto_volume of S16...   0   1   2   3   4   5   6   7   8   9  10  11  12  13  14  15  16  17  18  19  20  21  22  23  24  25  26  27  28  29  30  31  32  33  34  35  36  37  38  39  40  41  42  43  44  45  46  47  48  49  50  51  52  53  54  55  56  57  58  59  60  61  62  63  64  65  66  67  68  69  70  71  72  73  74  75  76  77  78  79  80  81  82  83  84  85  86  87  88  89  90  91  92  93  94  95  96  97  98  99 100 %\n"
     ]
    },
    {
     "name": "stderr",
     "output_type": "stream",
     "text": [
      "/usr/lib/python3/dist-packages/scipy/__init__.py:146: UserWarning: A NumPy version >=1.17.3 and <1.25.0 is required for this version of SciPy (detected version 1.26.4\n",
      "  warnings.warn(f\"A NumPy version >={np_minversion} and <{np_maxversion}\"\n"
     ]
    },
    {
     "name": "stdout",
     "output_type": "stream",
     "text": [
      "loading direct transformations\n",
      "Output dimensions: 96, 114, 96\n",
      "Output voxel size: 2, 2, 2 mm\n",
      "Resampling carto_volume of S16...   0   1   2   3   4   5   6   7   8   9  10  11  12  13  14  15  16  17  18  19  20  21  22  23  24  25  26  27  28  29  30  31  32  33  34  35  36  37  38  39  40  41  42  43  44  45  46  47  48  49  50  51  52  53  54  55  56  57  58  59  60  61  62  63  64  65  66  67  68  69  70  71  72  73  74  75  76  77  78  79  80  81  82  83  84  85  86  87  88  89  90  91  92  93  94  95  96  97  98  99 100 %\n",
      "ndimage.find_objects(arr) = [(slice(43, 68, None), slice(63, 105, None), slice(40, 76, None), slice(0, 1, None))]\n",
      "/neurospin/dico/data/deep_folding/current/datasets/UkBioBank/skeletons/2mm/L/Lresampled_skeleton_sub-3089656.nii.gz\n",
      "before threshold (array([ 0,  1,  2,  3,  4,  5,  6,  7,  8,  9, 10, 11, 12, 13, 14, 15, 16,\n",
      "       17, 18, 19, 20, 21, 22, 23, 24, 25, 26, 27, 28, 29, 30, 31, 32, 33,\n",
      "       34], dtype=int16), array([1044188,    1621,     878,     566,     428,     366,     300,\n",
      "           287,     257,     218,     183,     201,     169,     156,\n",
      "           149,     123,      95,      91,      89,      52,      45,\n",
      "            30,      32,      15,      18,      14,      13,       9,\n",
      "             9,       6,       6,       4,       2,       2,       2]))\n",
      "DILATION\n",
      "after threshold and dilation (array([0, 1], dtype=int16), array([1036637,   13987]))\n",
      "[ 0.  1.  2.  3.  4.  5.  6.  7.  8.  9. 10. 11. 12. 13. 14. 15. 16. 17.\n",
      " 18. 19. 20. 21. 22. 23. 24. 25. 26. 27. 28. 29. 30. 31. 32. 33. 34.]\n",
      "[[ 9.9986577e-01 -9.6280317e-05 -1.6382905e-02  1.9295044e+00]\n",
      " [ 1.3997663e-03  9.9682820e-01  7.9570964e-02 -1.1237183e+01]\n",
      " [ 1.6323281e-02 -7.9583213e-02  9.9669456e-01  1.0797409e+01]\n",
      " [ 0.0000000e+00  0.0000000e+00  0.0000000e+00  1.0000000e+00]]\n",
      "before threshold (array([ 0,  1,  2,  3,  4,  5,  6,  7,  8,  9, 10, 11, 12, 13, 14, 15, 16,\n",
      "       17, 18, 19, 20, 21, 22, 23, 24, 25, 26, 27, 28, 29, 30, 31, 32, 33,\n",
      "       34], dtype=int16), array([1044188,    1621,     878,     566,     428,     366,     300,\n",
      "           287,     257,     218,     183,     201,     169,     156,\n",
      "           149,     123,      95,      91,      89,      52,      45,\n",
      "            30,      32,      15,      18,      14,      13,       9,\n",
      "             9,       6,       6,       4,       2,       2,       2]))\n",
      "DILATION\n",
      "after threshold and dilation (array([0, 1], dtype=int16), array([1036637,   13987]))\n"
     ]
    },
    {
     "name": "stderr",
     "output_type": "stream",
     "text": [
      "/usr/lib/python3/dist-packages/scipy/__init__.py:146: UserWarning: A NumPy version >=1.17.3 and <1.25.0 is required for this version of SciPy (detected version 1.26.4\n",
      "  warnings.warn(f\"A NumPy version >={np_minversion} and <{np_maxversion}\"\n"
     ]
    },
    {
     "name": "stdout",
     "output_type": "stream",
     "text": [
      "loading direct transformations\n",
      "Output dimensions: 96, 114, 96\n",
      "Output voxel size: 2, 2, 2 mm\n",
      "Resampling carto_volume of S16...   0   1   2   3   4   5   6   7   8   9  10  11  12  13  14  15  16  17  18  19  20  21  22  23  24  25  26  27  28  29  30  31  32  33  34  35  36  37  38  39  40  41  42  43  44  45  46  47  48  49  50  51  52  53  54  55  56  57  58  59  60  61  62  63  64  65  66  67  68  69  70  71  72  73  74  75  76  77  78  79  80  81  82  83  84  85  86  87  88  89  90  91  92  93  94  95  96  97  98  99 100 %\n"
     ]
    },
    {
     "name": "stderr",
     "output_type": "stream",
     "text": [
      "/usr/lib/python3/dist-packages/scipy/__init__.py:146: UserWarning: A NumPy version >=1.17.3 and <1.25.0 is required for this version of SciPy (detected version 1.26.4\n",
      "  warnings.warn(f\"A NumPy version >={np_minversion} and <{np_maxversion}\"\n"
     ]
    },
    {
     "name": "stdout",
     "output_type": "stream",
     "text": [
      "loading direct transformations\n",
      "Output dimensions: 96, 114, 96\n",
      "Output voxel size: 2, 2, 2 mm\n",
      "Resampling carto_volume of S16...   0   1   2   3   4   5   6   7   8   9  10  11  12  13  14  15  16  17  18  19  20  21  22  23  24  25  26  27  28  29  30  31  32  33  34  35  36  37  38  39  40  41  42  43  44  45  46  47  48  49  50  51  52  53  54  55  56  57  58  59  60  61  62  63  64  65  66  67  68  69  70  71  72  73  74  75  76  77  78  79  80  81  82  83  84  85  86  87  88  89  90  91  92  93  94  95  96  97  98  99 100 %\n",
      "ndimage.find_objects(arr) = [(slice(43, 68, None), slice(63, 105, None), slice(40, 76, None), slice(0, 1, None))]\n",
      "/neurospin/dico/data/deep_folding/current/datasets/UkBioBank/skeletons/2mm/L/Lresampled_skeleton_sub-4784773.nii.gz\n",
      "before threshold (array([ 0,  1,  2,  3,  4,  5,  6,  7,  8,  9, 10, 11, 12, 13, 14, 15, 16,\n",
      "       17, 18, 19, 20, 21, 22, 23, 24, 25, 26, 27, 28, 29, 30, 31, 32, 33,\n",
      "       34], dtype=int16), array([1044188,    1621,     878,     566,     428,     366,     300,\n",
      "           287,     257,     218,     183,     201,     169,     156,\n",
      "           149,     123,      95,      91,      89,      52,      45,\n",
      "            30,      32,      15,      18,      14,      13,       9,\n",
      "             9,       6,       6,       4,       2,       2,       2]))\n",
      "DILATION\n",
      "after threshold and dilation (array([0, 1], dtype=int16), array([1036637,   13987]))\n",
      "[ 0.  1.  2.  3.  4.  5.  6.  7.  8.  9. 10. 11. 12. 13. 14. 15. 16. 17.\n",
      " 18. 19. 20. 21. 22. 23. 24. 25. 26. 27. 28. 29. 30. 31. 32. 33. 34.]\n",
      "[[ 9.9141657e-01 -1.3064978e-01  4.8848479e-03  2.3193466e+01]\n",
      " [ 1.3065359e-01  9.9142796e-01 -4.6887039e-04 -1.1778870e+01]\n",
      " [-4.7817170e-03  1.1030687e-03  9.9998796e-01  2.3691101e+00]\n",
      " [ 0.0000000e+00  0.0000000e+00  0.0000000e+00  1.0000000e+00]]\n",
      "before threshold (array([ 0,  1,  2,  3,  4,  5,  6,  7,  8,  9, 10, 11, 12, 13, 14, 15, 16,\n",
      "       17, 18, 19, 20, 21, 22, 23, 24, 25, 26, 27, 28, 29, 30, 31, 32, 33,\n",
      "       34], dtype=int16), array([1044188,    1621,     878,     566,     428,     366,     300,\n",
      "           287,     257,     218,     183,     201,     169,     156,\n",
      "           149,     123,      95,      91,      89,      52,      45,\n",
      "            30,      32,      15,      18,      14,      13,       9,\n",
      "             9,       6,       6,       4,       2,       2,       2]))\n",
      "DILATION\n",
      "after threshold and dilation (array([0, 1], dtype=int16), array([1036637,   13987]))\n"
     ]
    },
    {
     "name": "stderr",
     "output_type": "stream",
     "text": [
      "/usr/lib/python3/dist-packages/scipy/__init__.py:146: UserWarning: A NumPy version >=1.17.3 and <1.25.0 is required for this version of SciPy (detected version 1.26.4\n",
      "  warnings.warn(f\"A NumPy version >={np_minversion} and <{np_maxversion}\"\n"
     ]
    },
    {
     "name": "stdout",
     "output_type": "stream",
     "text": [
      "loading direct transformations\n",
      "Output dimensions: 96, 114, 96\n",
      "Output voxel size: 2, 2, 2 mm\n",
      "Resampling carto_volume of S16...   0   1   2   3   4   5   6   7   8   9  10  11  12  13  14  15  16  17  18  19  20  21  22  23  24  25  26  27  28  29  30  31  32  33  34  35  36  37  38  39  40  41  42  43  44  45  46  47  48  49  50  51  52  53  54  55  56  57  58  59  60  61  62  63  64  65  66  67  68  69  70  71  72  73  74  75  76  77  78  79  80  81  82  83  84  85  86  87  88  89  90  91  92  93  94  95  96  97  98  99 100 %\n"
     ]
    },
    {
     "name": "stderr",
     "output_type": "stream",
     "text": [
      "/usr/lib/python3/dist-packages/scipy/__init__.py:146: UserWarning: A NumPy version >=1.17.3 and <1.25.0 is required for this version of SciPy (detected version 1.26.4\n",
      "  warnings.warn(f\"A NumPy version >={np_minversion} and <{np_maxversion}\"\n"
     ]
    },
    {
     "name": "stdout",
     "output_type": "stream",
     "text": [
      "loading direct transformations\n",
      "Output dimensions: 96, 114, 96\n",
      "Output voxel size: 2, 2, 2 mm\n",
      "Resampling carto_volume of S16...   0   1   2   3   4   5   6   7   8   9  10  11  12  13  14  15  16  17  18  19  20  21  22  23  24  25  26  27  28  29  30  31  32  33  34  35  36  37  38  39  40  41  42  43  44  45  46  47  48  49  50  51  52  53  54  55  56  57  58  59  60  61  62  63  64  65  66  67  68  69  70  71  72  73  74  75  76  77  78  79  80  81  82  83  84  85  86  87  88  89  90  91  92  93  94  95  96  97  98  99 100 %\n",
      "ndimage.find_objects(arr) = [(slice(43, 68, None), slice(63, 105, None), slice(40, 76, None), slice(0, 1, None))]\n",
      "/neurospin/dico/data/deep_folding/current/datasets/UkBioBank/skeletons/2mm/L/Lresampled_skeleton_sub-1768672.nii.gz\n",
      "before threshold (array([ 0,  1,  2,  3,  4,  5,  6,  7,  8,  9, 10, 11, 12, 13, 14, 15, 16,\n",
      "       17, 18, 19, 20, 21, 22, 23, 24, 25, 26, 27, 28, 29, 30, 31, 32, 33,\n",
      "       34], dtype=int16), array([1044188,    1621,     878,     566,     428,     366,     300,\n",
      "           287,     257,     218,     183,     201,     169,     156,\n",
      "           149,     123,      95,      91,      89,      52,      45,\n",
      "            30,      32,      15,      18,      14,      13,       9,\n",
      "             9,       6,       6,       4,       2,       2,       2]))\n",
      "DILATION\n",
      "after threshold and dilation (array([0, 1], dtype=int16), array([1036637,   13987]))\n",
      "[ 0.  1.  2.  3.  4.  5.  6.  7.  8.  9. 10. 11. 12. 13. 14. 15. 16. 17.\n",
      " 18. 19. 20. 21. 22. 23. 24. 25. 26. 27. 28. 29. 30. 31. 32. 33. 34.]\n",
      "[[ 1.0000000e+00 -2.9434224e-07 -1.2713343e-06  2.0599365e-04]\n",
      " [ 2.9434375e-07  1.0000000e+00  1.1884584e-06 -1.6784668e-04]\n",
      " [ 1.2713340e-06 -1.1884588e-06  1.0000000e+00  5.3405762e-05]\n",
      " [ 0.0000000e+00  0.0000000e+00  0.0000000e+00  1.0000000e+00]]\n",
      "before threshold (array([ 0,  1,  2,  3,  4,  5,  6,  7,  8,  9, 10, 11, 12, 13, 14, 15, 16,\n",
      "       17, 18, 19, 20, 21, 22, 23, 24, 25, 26, 27, 28, 29, 30, 31, 32, 33,\n",
      "       34], dtype=int16), array([1044188,    1621,     878,     566,     428,     366,     300,\n",
      "           287,     257,     218,     183,     201,     169,     156,\n",
      "           149,     123,      95,      91,      89,      52,      45,\n",
      "            30,      32,      15,      18,      14,      13,       9,\n",
      "             9,       6,       6,       4,       2,       2,       2]))\n",
      "DILATION\n",
      "after threshold and dilation (array([0, 1], dtype=int16), array([1036637,   13987]))\n"
     ]
    },
    {
     "name": "stderr",
     "output_type": "stream",
     "text": [
      "/usr/lib/python3/dist-packages/scipy/__init__.py:146: UserWarning: A NumPy version >=1.17.3 and <1.25.0 is required for this version of SciPy (detected version 1.26.4\n",
      "  warnings.warn(f\"A NumPy version >={np_minversion} and <{np_maxversion}\"\n"
     ]
    },
    {
     "name": "stdout",
     "output_type": "stream",
     "text": [
      "loading direct transformations\n",
      "Output dimensions: 96, 114, 96\n",
      "Output voxel size: 2, 2, 2 mm\n",
      "Resampling carto_volume of S16...   0   1   2   3   4   5   6   7   8   9  10  11  12  13  14  15  16  17  18  19  20  21  22  23  24  25  26  27  28  29  30  31  32  33  34  35  36  37  38  39  40  41  42  43  44  45  46  47  48  49  50  51  52  53  54  55  56  57  58  59  60  61  62  63  64  65  66  67  68  69  70  71  72  73  74  75  76  77  78  79  80  81  82  83  84  85  86  87  88  89  90  91  92  93  94  95  96  97  98  99 100 %\n"
     ]
    },
    {
     "name": "stderr",
     "output_type": "stream",
     "text": [
      "/usr/lib/python3/dist-packages/scipy/__init__.py:146: UserWarning: A NumPy version >=1.17.3 and <1.25.0 is required for this version of SciPy (detected version 1.26.4\n",
      "  warnings.warn(f\"A NumPy version >={np_minversion} and <{np_maxversion}\"\n"
     ]
    },
    {
     "name": "stdout",
     "output_type": "stream",
     "text": [
      "loading direct transformations\n",
      "Output dimensions: 96, 114, 96\n",
      "Output voxel size: 2, 2, 2 mm\n",
      "Resampling carto_volume of S16...   0   1   2   3   4   5   6   7   8   9  10  11  12  13  14  15  16  17  18  19  20  21  22  23  24  25  26  27  28  29  30  31  32  33  34  35  36  37  38  39  40  41  42  43  44  45  46  47  48  49  50  51  52  53  54  55  56  57  58  59  60  61  62  63  64  65  66  67  68  69  70  71  72  73  74  75  76  77  78  79  80  81  82  83  84  85  86  87  88  89  90  91  92  93  94  95  96  97  98  99 100 %\n",
      "ndimage.find_objects(arr) = [(slice(43, 68, None), slice(63, 105, None), slice(40, 76, None), slice(0, 1, None))]\n",
      "/neurospin/dico/data/deep_folding/current/datasets/UkBioBank/skeletons/2mm/L/Lresampled_skeleton_sub-4429017.nii.gz\n",
      "before threshold (array([ 0,  1,  2,  3,  4,  5,  6,  7,  8,  9, 10, 11, 12, 13, 14, 15, 16,\n",
      "       17, 18, 19, 20, 21, 22, 23, 24, 25, 26, 27, 28, 29, 30, 31, 32, 33,\n",
      "       34], dtype=int16), array([1044188,    1621,     878,     566,     428,     366,     300,\n",
      "           287,     257,     218,     183,     201,     169,     156,\n",
      "           149,     123,      95,      91,      89,      52,      45,\n",
      "            30,      32,      15,      18,      14,      13,       9,\n",
      "             9,       6,       6,       4,       2,       2,       2]))\n",
      "DILATION\n",
      "after threshold and dilation (array([0, 1], dtype=int16), array([1036637,   13987]))\n",
      "[ 0.  1.  2.  3.  4.  5.  6.  7.  8.  9. 10. 11. 12. 13. 14. 15. 16. 17.\n",
      " 18. 19. 20. 21. 22. 23. 24. 25. 26. 27. 28. 29. 30. 31. 32. 33. 34.]\n",
      "[[ 9.9997091e-01 -5.8870343e-03  4.8547932e-03  2.4487991e+00]\n",
      " [ 6.1886185e-03  9.9788922e-01 -6.4643346e-02  4.7964172e+00]\n",
      " [-4.4639884e-03  6.4671502e-02  9.9789661e-01 -9.9099884e+00]\n",
      " [ 0.0000000e+00  0.0000000e+00  0.0000000e+00  1.0000000e+00]]\n",
      "before threshold (array([ 0,  1,  2,  3,  4,  5,  6,  7,  8,  9, 10, 11, 12, 13, 14, 15, 16,\n",
      "       17, 18, 19, 20, 21, 22, 23, 24, 25, 26, 27, 28, 29, 30, 31, 32, 33,\n",
      "       34], dtype=int16), array([1044188,    1621,     878,     566,     428,     366,     300,\n",
      "           287,     257,     218,     183,     201,     169,     156,\n",
      "           149,     123,      95,      91,      89,      52,      45,\n",
      "            30,      32,      15,      18,      14,      13,       9,\n",
      "             9,       6,       6,       4,       2,       2,       2]))\n",
      "DILATION\n",
      "after threshold and dilation (array([0, 1], dtype=int16), array([1036637,   13987]))\n"
     ]
    },
    {
     "name": "stderr",
     "output_type": "stream",
     "text": [
      "/usr/lib/python3/dist-packages/scipy/__init__.py:146: UserWarning: A NumPy version >=1.17.3 and <1.25.0 is required for this version of SciPy (detected version 1.26.4\n",
      "  warnings.warn(f\"A NumPy version >={np_minversion} and <{np_maxversion}\"\n"
     ]
    },
    {
     "name": "stdout",
     "output_type": "stream",
     "text": [
      "loading direct transformations\n",
      "Output dimensions: 96, 114, 96\n",
      "Output voxel size: 2, 2, 2 mm\n",
      "Resampling carto_volume of S16...   0   1   2   3   4   5   6   7   8   9  10  11  12  13  14  15  16  17  18  19  20  21  22  23  24  25  26  27  28  29  30  31  32  33  34  35  36  37  38  39  40  41  42  43  44  45  46  47  48  49  50  51  52  53  54  55  56  57  58  59  60  61  62  63  64  65  66  67  68  69  70  71  72  73  74  75  76  77  78  79  80  81  82  83  84  85  86  87  88  89  90  91  92  93  94  95  96  97  98  99 100 %\n"
     ]
    },
    {
     "name": "stderr",
     "output_type": "stream",
     "text": [
      "/usr/lib/python3/dist-packages/scipy/__init__.py:146: UserWarning: A NumPy version >=1.17.3 and <1.25.0 is required for this version of SciPy (detected version 1.26.4\n",
      "  warnings.warn(f\"A NumPy version >={np_minversion} and <{np_maxversion}\"\n"
     ]
    },
    {
     "name": "stdout",
     "output_type": "stream",
     "text": [
      "loading direct transformations\n",
      "Output dimensions: 96, 114, 96\n",
      "Output voxel size: 2, 2, 2 mm\n",
      "Resampling carto_volume of S16...   0   1   2   3   4   5   6   7   8   9  10  11  12  13  14  15  16  17  18  19  20  21  22  23  24  25  26  27  28  29  30  31  32  33  34  35  36  37  38  39  40  41  42  43  44  45  46  47  48  49  50  51  52  53  54  55  56  57  58  59  60  61  62  63  64  65  66  67  68  69  70  71  72  73  74  75  76  77  78  79  80  81  82  83  84  85  86  87  88  89  90  91  92  93  94  95  96  97  98  99 100 %\n",
      "ndimage.find_objects(arr) = [(slice(43, 68, None), slice(63, 105, None), slice(40, 76, None), slice(0, 1, None))]\n",
      "/neurospin/dico/data/deep_folding/current/datasets/UkBioBank/skeletons/2mm/L/Lresampled_skeleton_sub-2313010.nii.gz\n",
      "before threshold (array([ 0,  1,  2,  3,  4,  5,  6,  7,  8,  9, 10, 11, 12, 13, 14, 15, 16,\n",
      "       17, 18, 19, 20, 21, 22, 23, 24, 25, 26, 27, 28, 29, 30, 31, 32, 33,\n",
      "       34], dtype=int16), array([1044188,    1621,     878,     566,     428,     366,     300,\n",
      "           287,     257,     218,     183,     201,     169,     156,\n",
      "           149,     123,      95,      91,      89,      52,      45,\n",
      "            30,      32,      15,      18,      14,      13,       9,\n",
      "             9,       6,       6,       4,       2,       2,       2]))\n",
      "DILATION\n",
      "after threshold and dilation (array([0, 1], dtype=int16), array([1036637,   13987]))\n",
      "[ 0.  1.  2.  3.  4.  5.  6.  7.  8.  9. 10. 11. 12. 13. 14. 15. 16. 17.\n",
      " 18. 19. 20. 21. 22. 23. 24. 25. 26. 27. 28. 29. 30. 31. 32. 33. 34.]\n",
      "[[ 1.0000000e+00  7.4865562e-07 -6.3084650e-07 -6.1035156e-05]\n",
      " [-7.4865557e-07  1.0000000e+00  1.7610075e-08  7.6293945e-05]\n",
      " [ 6.3084650e-07 -1.7609603e-08  1.0000000e+00 -6.1035156e-05]\n",
      " [ 0.0000000e+00  0.0000000e+00  0.0000000e+00  1.0000000e+00]]\n",
      "before threshold (array([ 0,  1,  2,  3,  4,  5,  6,  7,  8,  9, 10, 11, 12, 13, 14, 15, 16,\n",
      "       17, 18, 19, 20, 21, 22, 23, 24, 25, 26, 27, 28, 29, 30, 31, 32, 33,\n",
      "       34], dtype=int16), array([1044188,    1621,     878,     566,     428,     366,     300,\n",
      "           287,     257,     218,     183,     201,     169,     156,\n",
      "           149,     123,      95,      91,      89,      52,      45,\n",
      "            30,      32,      15,      18,      14,      13,       9,\n",
      "             9,       6,       6,       4,       2,       2,       2]))\n",
      "DILATION\n",
      "after threshold and dilation (array([0, 1], dtype=int16), array([1036637,   13987]))\n"
     ]
    },
    {
     "name": "stderr",
     "output_type": "stream",
     "text": [
      "/usr/lib/python3/dist-packages/scipy/__init__.py:146: UserWarning: A NumPy version >=1.17.3 and <1.25.0 is required for this version of SciPy (detected version 1.26.4\n",
      "  warnings.warn(f\"A NumPy version >={np_minversion} and <{np_maxversion}\"\n"
     ]
    },
    {
     "name": "stdout",
     "output_type": "stream",
     "text": [
      "loading direct transformations\n",
      "Output dimensions: 96, 114, 96\n",
      "Output voxel size: 2, 2, 2 mm\n",
      "Resampling carto_volume of S16...   0   1   2   3   4   5   6   7   8   9  10  11  12  13  14  15  16  17  18  19  20  21  22  23  24  25  26  27  28  29  30  31  32  33  34  35  36  37  38  39  40  41  42  43  44  45  46  47  48  49  50  51  52  53  54  55  56  57  58  59  60  61  62  63  64  65  66  67  68  69  70  71  72  73  74  75  76  77  78  79  80  81  82  83  84  85  86  87  88  89  90  91  92  93  94  95  96  97  98  99 100 %\n"
     ]
    },
    {
     "name": "stderr",
     "output_type": "stream",
     "text": [
      "/usr/lib/python3/dist-packages/scipy/__init__.py:146: UserWarning: A NumPy version >=1.17.3 and <1.25.0 is required for this version of SciPy (detected version 1.26.4\n",
      "  warnings.warn(f\"A NumPy version >={np_minversion} and <{np_maxversion}\"\n"
     ]
    },
    {
     "name": "stdout",
     "output_type": "stream",
     "text": [
      "loading direct transformations\n",
      "Output dimensions: 96, 114, 96\n",
      "Output voxel size: 2, 2, 2 mm\n",
      "Resampling carto_volume of S16...   0   1   2   3   4   5   6   7   8   9  10  11  12  13  14  15  16  17  18  19  20  21  22  23  24  25  26  27  28  29  30  31  32  33  34  35  36  37  38  39  40  41  42  43  44  45  46  47  48  49  50  51  52  53  54  55  56  57  58  59  60  61  62  63  64  65  66  67  68  69  70  71  72  73  74  75  76  77  78  79  80  81  82  83  84  85  86  87  88  89  90  91  92  93  94  95  96  97  98  99 100 %\n",
      "ndimage.find_objects(arr) = [(slice(43, 68, None), slice(63, 105, None), slice(40, 76, None), slice(0, 1, None))]\n",
      "/neurospin/dico/data/deep_folding/current/datasets/UkBioBank/skeletons/2mm/L/Lresampled_skeleton_sub-5906677.nii.gz\n",
      "before threshold (array([ 0,  1,  2,  3,  4,  5,  6,  7,  8,  9, 10, 11, 12, 13, 14, 15, 16,\n",
      "       17, 18, 19, 20, 21, 22, 23, 24, 25, 26, 27, 28, 29, 30, 31, 32, 33,\n",
      "       34], dtype=int16), array([1044188,    1621,     878,     566,     428,     366,     300,\n",
      "           287,     257,     218,     183,     201,     169,     156,\n",
      "           149,     123,      95,      91,      89,      52,      45,\n",
      "            30,      32,      15,      18,      14,      13,       9,\n",
      "             9,       6,       6,       4,       2,       2,       2]))\n",
      "DILATION\n",
      "after threshold and dilation (array([0, 1], dtype=int16), array([1036637,   13987]))\n",
      "[ 0.  1.  2.  3.  4.  5.  6.  7.  8.  9. 10. 11. 12. 13. 14. 15. 16. 17.\n",
      " 18. 19. 20. 21. 22. 23. 24. 25. 26. 27. 28. 29. 30. 31. 32. 33. 34.]\n",
      "[[ 8.31691623e-01 -1.19541824e-01  5.42216539e-01 -2.32780228e+01]\n",
      " [ 1.49630681e-01 -8.92164052e-01 -4.26208884e-01  3.44187378e+02]\n",
      " [ 5.34695864e-01  4.35606599e-01 -7.24118233e-01  6.30245132e+01]\n",
      " [ 0.00000000e+00  0.00000000e+00  0.00000000e+00  1.00000000e+00]]\n",
      "before threshold (array([ 0,  1,  2,  3,  4,  5,  6,  7,  8,  9, 10, 11, 12, 13, 14, 15, 16,\n",
      "       17, 18, 19, 20, 21, 22, 23, 24, 25, 26, 27, 28, 29, 30, 31, 32, 33,\n",
      "       34], dtype=int16), array([1044188,    1621,     878,     566,     428,     366,     300,\n",
      "           287,     257,     218,     183,     201,     169,     156,\n",
      "           149,     123,      95,      91,      89,      52,      45,\n",
      "            30,      32,      15,      18,      14,      13,       9,\n",
      "             9,       6,       6,       4,       2,       2,       2]))\n",
      "DILATION\n",
      "after threshold and dilation (array([0, 1], dtype=int16), array([1036637,   13987]))\n"
     ]
    },
    {
     "name": "stderr",
     "output_type": "stream",
     "text": [
      "/usr/lib/python3/dist-packages/scipy/__init__.py:146: UserWarning: A NumPy version >=1.17.3 and <1.25.0 is required for this version of SciPy (detected version 1.26.4\n",
      "  warnings.warn(f\"A NumPy version >={np_minversion} and <{np_maxversion}\"\n"
     ]
    },
    {
     "name": "stdout",
     "output_type": "stream",
     "text": [
      "loading direct transformations\n",
      "Output dimensions: 96, 114, 96\n",
      "Output voxel size: 2, 2, 2 mm\n",
      "Resampling carto_volume of S16...   0   1   2   3   4   5   6   7   8   9  10  11  12  13  14  15  16  17  18  19  20  21  22  23  24  25  26  27  28  29  30  31  32  33  34  35  36  37  38  39  40  41  42  43  44  45  46  47  48  49  50  51  52  53  54  55  56  57  58  59  60  61  62  63  64  65  66  67  68  69  70  71  72  73  74  75  76  77  78  79  80  81  82  83  84  85  86  87  88  89  90  91  92  93  94  95  96  97  98  99 100 %\n"
     ]
    },
    {
     "name": "stderr",
     "output_type": "stream",
     "text": [
      "somanifti warning: the data of the saved Nifti file will be loaded in a different in-memory order when opened by somanifti.\n",
      "/usr/lib/python3/dist-packages/scipy/__init__.py:146: UserWarning: A NumPy version >=1.17.3 and <1.25.0 is required for this version of SciPy (detected version 1.26.4\n",
      "  warnings.warn(f\"A NumPy version >={np_minversion} and <{np_maxversion}\"\n"
     ]
    },
    {
     "name": "stdout",
     "output_type": "stream",
     "text": [
      "loading direct transformations\n",
      "Output dimensions: 96, 114, 96\n",
      "Output voxel size: 2, 2, 2 mm\n",
      "Resampling carto_volume of S16...   0   1   2   3   4   5   6   7   8   9  10  11  12  13  14  15  16  17  18  19  20  21  22  23  24  25  26  27  28  29  30  31  32  33  34  35  36  37  38  39  40  41  42  43  44  45  46  47  48  49  50  51  52  53  54  55  56  57  58  59  60  61  62  63  64  65  66  67  68  69  70  71  72  73  74  75  76  77  78  79  80  81  82  83  84  85  86  87  88  89  90  91  92  93  94  95  96  97  98  99 100 %\n"
     ]
    },
    {
     "name": "stderr",
     "output_type": "stream",
     "text": [
      "somanifti warning: the data of the saved Nifti file will be loaded in a different in-memory order when opened by somanifti.\n"
     ]
    },
    {
     "name": "stdout",
     "output_type": "stream",
     "text": [
      "ndimage.find_objects(arr) = [(slice(43, 68, None), slice(63, 105, None), slice(40, 76, None), slice(0, 1, None))]\n",
      "/neurospin/dico/data/deep_folding/current/datasets/UkBioBank/skeletons/2mm/L/Lresampled_skeleton_sub-2323853.nii.gz\n",
      "before threshold (array([ 0,  1,  2,  3,  4,  5,  6,  7,  8,  9, 10, 11, 12, 13, 14, 15, 16,\n",
      "       17, 18, 19, 20, 21, 22, 23, 24, 25, 26, 27, 28, 29, 30, 31, 32, 33,\n",
      "       34], dtype=int16), array([1044188,    1621,     878,     566,     428,     366,     300,\n",
      "           287,     257,     218,     183,     201,     169,     156,\n",
      "           149,     123,      95,      91,      89,      52,      45,\n",
      "            30,      32,      15,      18,      14,      13,       9,\n",
      "             9,       6,       6,       4,       2,       2,       2]))\n",
      "DILATION\n",
      "after threshold and dilation (array([0, 1], dtype=int16), array([1036637,   13987]))\n",
      "[ 0.  1.  2.  3.  4.  5.  6.  7.  8.  9. 10. 11. 12. 13. 14. 15. 16. 17.\n",
      " 18. 19. 20. 21. 22. 23. 24. 25. 26. 27. 28. 29. 30. 31. 32. 33. 34.]\n",
      "[[  0.9843223   -0.16024758  -0.0736903   36.519318  ]\n",
      " [  0.16345285   0.9857518    0.03970592 -19.877167  ]\n",
      " [  0.06627756  -0.05112832   0.9964904    2.1915588 ]\n",
      " [  0.           0.           0.           1.        ]]\n",
      "before threshold (array([ 0,  1,  2,  3,  4,  5,  6,  7,  8,  9, 10, 11, 12, 13, 14, 15, 16,\n",
      "       17, 18, 19, 20, 21, 22, 23, 24, 25, 26, 27, 28, 29, 30, 31, 32, 33,\n",
      "       34], dtype=int16), array([1044188,    1621,     878,     566,     428,     366,     300,\n",
      "           287,     257,     218,     183,     201,     169,     156,\n",
      "           149,     123,      95,      91,      89,      52,      45,\n",
      "            30,      32,      15,      18,      14,      13,       9,\n",
      "             9,       6,       6,       4,       2,       2,       2]))\n",
      "DILATION\n",
      "after threshold and dilation (array([0, 1], dtype=int16), array([1036637,   13987]))\n"
     ]
    },
    {
     "name": "stderr",
     "output_type": "stream",
     "text": [
      "/usr/lib/python3/dist-packages/scipy/__init__.py:146: UserWarning: A NumPy version >=1.17.3 and <1.25.0 is required for this version of SciPy (detected version 1.26.4\n",
      "  warnings.warn(f\"A NumPy version >={np_minversion} and <{np_maxversion}\"\n"
     ]
    },
    {
     "name": "stdout",
     "output_type": "stream",
     "text": [
      "loading direct transformations\n",
      "Output dimensions: 96, 114, 96\n",
      "Output voxel size: 2, 2, 2 mm\n",
      "Resampling carto_volume of S16...   0   1   2   3   4   5   6   7   8   9  10  11  12  13  14  15  16  17  18  19  20  21  22  23  24  25  26  27  28  29  30  31  32  33  34  35  36  37  38  39  40  41  42  43  44  45  46  47  48  49  50  51  52  53  54  55  56  57  58  59  60  61  62  63  64  65  66  67  68  69  70  71  72  73  74  75  76  77  78  79  80  81  82  83  84  85  86  87  88  89  90  91  92  93  94  95  96  97  98  99 100 %\n"
     ]
    },
    {
     "name": "stderr",
     "output_type": "stream",
     "text": [
      "/usr/lib/python3/dist-packages/scipy/__init__.py:146: UserWarning: A NumPy version >=1.17.3 and <1.25.0 is required for this version of SciPy (detected version 1.26.4\n",
      "  warnings.warn(f\"A NumPy version >={np_minversion} and <{np_maxversion}\"\n"
     ]
    },
    {
     "name": "stdout",
     "output_type": "stream",
     "text": [
      "loading direct transformations\n",
      "Output dimensions: 96, 114, 96\n",
      "Output voxel size: 2, 2, 2 mm\n",
      "Resampling carto_volume of S16...   0   1   2   3   4   5   6   7   8   9  10  11  12  13  14  15  16  17  18  19  20  21  22  23  24  25  26  27  28  29  30  31  32  33  34  35  36  37  38  39  40  41  42  43  44  45  46  47  48  49  50  51  52  53  54  55  56  57  58  59  60  61  62  63  64  65  66  67  68  69  70  71  72  73  74  75  76  77  78  79  80  81  82  83  84  85  86  87  88  89  90  91  92  93  94  95  96  97  98  99 100 %\n",
      "ndimage.find_objects(arr) = [(slice(43, 68, None), slice(63, 105, None), slice(40, 76, None), slice(0, 1, None))]\n",
      "/neurospin/dico/data/deep_folding/current/datasets/UkBioBank/skeletons/2mm/L/Lresampled_skeleton_sub-2429755.nii.gz\n",
      "before threshold (array([ 0,  1,  2,  3,  4,  5,  6,  7,  8,  9, 10, 11, 12, 13, 14, 15, 16,\n",
      "       17, 18, 19, 20, 21, 22, 23, 24, 25, 26, 27, 28, 29, 30, 31, 32, 33,\n",
      "       34], dtype=int16), array([1044188,    1621,     878,     566,     428,     366,     300,\n",
      "           287,     257,     218,     183,     201,     169,     156,\n",
      "           149,     123,      95,      91,      89,      52,      45,\n",
      "            30,      32,      15,      18,      14,      13,       9,\n",
      "             9,       6,       6,       4,       2,       2,       2]))\n",
      "DILATION\n",
      "after threshold and dilation (array([0, 1], dtype=int16), array([1036637,   13987]))\n",
      "[ 0.  1.  2.  3.  4.  5.  6.  7.  8.  9. 10. 11. 12. 13. 14. 15. 16. 17.\n",
      " 18. 19. 20. 21. 22. 23. 24. 25. 26. 27. 28. 29. 30. 31. 32. 33. 34.]\n",
      "[[ 9.9932986e-01  3.6602896e-02 -6.1785045e-07 -5.9344406e+00]\n",
      " [-3.6602896e-02  9.9932986e-01  4.2114976e-08  3.9898071e+00]\n",
      " [ 6.1897799e-07 -1.9471639e-08  1.0000000e+00 -6.1035156e-05]\n",
      " [ 0.0000000e+00  0.0000000e+00  0.0000000e+00  1.0000000e+00]]\n",
      "before threshold (array([ 0,  1,  2,  3,  4,  5,  6,  7,  8,  9, 10, 11, 12, 13, 14, 15, 16,\n",
      "       17, 18, 19, 20, 21, 22, 23, 24, 25, 26, 27, 28, 29, 30, 31, 32, 33,\n",
      "       34], dtype=int16), array([1044188,    1621,     878,     566,     428,     366,     300,\n",
      "           287,     257,     218,     183,     201,     169,     156,\n",
      "           149,     123,      95,      91,      89,      52,      45,\n",
      "            30,      32,      15,      18,      14,      13,       9,\n",
      "             9,       6,       6,       4,       2,       2,       2]))\n",
      "DILATION\n",
      "after threshold and dilation (array([0, 1], dtype=int16), array([1036637,   13987]))\n"
     ]
    },
    {
     "name": "stderr",
     "output_type": "stream",
     "text": [
      "/usr/lib/python3/dist-packages/scipy/__init__.py:146: UserWarning: A NumPy version >=1.17.3 and <1.25.0 is required for this version of SciPy (detected version 1.26.4\n",
      "  warnings.warn(f\"A NumPy version >={np_minversion} and <{np_maxversion}\"\n"
     ]
    },
    {
     "name": "stdout",
     "output_type": "stream",
     "text": [
      "loading direct transformations\n",
      "Output dimensions: 96, 114, 96\n",
      "Output voxel size: 2, 2, 2 mm\n",
      "Resampling carto_volume of S16...   0   1   2   3   4   5   6   7   8   9  10  11  12  13  14  15  16  17  18  19  20  21  22  23  24  25  26  27  28  29  30  31  32  33  34  35  36  37  38  39  40  41  42  43  44  45  46  47  48  49  50  51  52  53  54  55  56  57  58  59  60  61  62  63  64  65  66  67  68  69  70  71  72  73  74  75  76  77  78  79  80  81  82  83  84  85  86  87  88  89  90  91  92  93  94  95  96  97  98  99 100 %\n"
     ]
    },
    {
     "name": "stderr",
     "output_type": "stream",
     "text": [
      "/usr/lib/python3/dist-packages/scipy/__init__.py:146: UserWarning: A NumPy version >=1.17.3 and <1.25.0 is required for this version of SciPy (detected version 1.26.4\n",
      "  warnings.warn(f\"A NumPy version >={np_minversion} and <{np_maxversion}\"\n"
     ]
    },
    {
     "name": "stdout",
     "output_type": "stream",
     "text": [
      "loading direct transformations\n",
      "Output dimensions: 96, 114, 96\n",
      "Output voxel size: 2, 2, 2 mm\n",
      "Resampling carto_volume of S16...   0   1   2   3   4   5   6   7   8   9  10  11  12  13  14  15  16  17  18  19  20  21  22  23  24  25  26  27  28  29  30  31  32  33  34  35  36  37  38  39  40  41  42  43  44  45  46  47  48  49  50  51  52  53  54  55  56  57  58  59  60  61  62  63  64  65  66  67  68  69  70  71  72  73  74  75  76  77  78  79  80  81  82  83  84  85  86  87  88  89  90  91  92  93  94  95  96  97  98  99 100 %\n",
      "ndimage.find_objects(arr) = [(slice(43, 68, None), slice(63, 105, None), slice(40, 76, None), slice(0, 1, None))]\n",
      "/neurospin/dico/data/deep_folding/current/datasets/UkBioBank/skeletons/2mm/L/Lresampled_skeleton_sub-2242301.nii.gz\n",
      "before threshold (array([ 0,  1,  2,  3,  4,  5,  6,  7,  8,  9, 10, 11, 12, 13, 14, 15, 16,\n",
      "       17, 18, 19, 20, 21, 22, 23, 24, 25, 26, 27, 28, 29, 30, 31, 32, 33,\n",
      "       34], dtype=int16), array([1044188,    1621,     878,     566,     428,     366,     300,\n",
      "           287,     257,     218,     183,     201,     169,     156,\n",
      "           149,     123,      95,      91,      89,      52,      45,\n",
      "            30,      32,      15,      18,      14,      13,       9,\n",
      "             9,       6,       6,       4,       2,       2,       2]))\n",
      "DILATION\n",
      "after threshold and dilation (array([0, 1], dtype=int16), array([1036637,   13987]))\n",
      "[ 0.  1.  2.  3.  4.  5.  6.  7.  8.  9. 10. 11. 12. 13. 14. 15. 16. 17.\n",
      " 18. 19. 20. 21. 22. 23. 24. 25. 26. 27. 28. 29. 30. 31. 32. 33. 34.]\n",
      "[[  0.9941262    0.06471864   0.08674459 -18.132996  ]\n",
      " [ -0.06738299   0.9973301    0.02814411   4.281189  ]\n",
      " [ -0.08469155  -0.0338239    0.995833    14.735168  ]\n",
      " [  0.           0.           0.           1.        ]]\n",
      "before threshold (array([ 0,  1,  2,  3,  4,  5,  6,  7,  8,  9, 10, 11, 12, 13, 14, 15, 16,\n",
      "       17, 18, 19, 20, 21, 22, 23, 24, 25, 26, 27, 28, 29, 30, 31, 32, 33,\n",
      "       34], dtype=int16), array([1044188,    1621,     878,     566,     428,     366,     300,\n",
      "           287,     257,     218,     183,     201,     169,     156,\n",
      "           149,     123,      95,      91,      89,      52,      45,\n",
      "            30,      32,      15,      18,      14,      13,       9,\n",
      "             9,       6,       6,       4,       2,       2,       2]))\n",
      "DILATION\n",
      "after threshold and dilation (array([0, 1], dtype=int16), array([1036637,   13987]))\n"
     ]
    },
    {
     "name": "stderr",
     "output_type": "stream",
     "text": [
      "/usr/lib/python3/dist-packages/scipy/__init__.py:146: UserWarning: A NumPy version >=1.17.3 and <1.25.0 is required for this version of SciPy (detected version 1.26.4\n",
      "  warnings.warn(f\"A NumPy version >={np_minversion} and <{np_maxversion}\"\n"
     ]
    },
    {
     "name": "stdout",
     "output_type": "stream",
     "text": [
      "loading direct transformations\n",
      "Output dimensions: 96, 114, 96\n",
      "Output voxel size: 2, 2, 2 mm\n",
      "Resampling carto_volume of S16...   0   1   2   3   4   5   6   7   8   9  10  11  12  13  14  15  16  17  18  19  20  21  22  23  24  25  26  27  28  29  30  31  32  33  34  35  36  37  38  39  40  41  42  43  44  45  46  47  48  49  50  51  52  53  54  55  56  57  58  59  60  61  62  63  64  65  66  67  68  69  70  71  72  73  74  75  76  77  78  79  80  81  82  83  84  85  86  87  88  89  90  91  92  93  94  95  96  97  98  99 100 %\n"
     ]
    },
    {
     "name": "stderr",
     "output_type": "stream",
     "text": [
      "/usr/lib/python3/dist-packages/scipy/__init__.py:146: UserWarning: A NumPy version >=1.17.3 and <1.25.0 is required for this version of SciPy (detected version 1.26.4\n",
      "  warnings.warn(f\"A NumPy version >={np_minversion} and <{np_maxversion}\"\n"
     ]
    },
    {
     "name": "stdout",
     "output_type": "stream",
     "text": [
      "loading direct transformations\n",
      "Output dimensions: 96, 114, 96\n",
      "Output voxel size: 2, 2, 2 mm\n",
      "Resampling carto_volume of S16...   0   1   2   3   4   5   6   7   8   9  10  11  12  13  14  15  16  17  18  19  20  21  22  23  24  25  26  27  28  29  30  31  32  33  34  35  36  37  38  39  40  41  42  43  44  45  46  47  48  49  50  51  52  53  54  55  56  57  58  59  60  61  62  63  64  65  66  67  68  69  70  71  72  73  74  75  76  77  78  79  80  81  82  83  84  85  86  87  88  89  90  91  92  93  94  95  96  97  98  99 100 %\n",
      "ndimage.find_objects(arr) = [(slice(43, 68, None), slice(63, 105, None), slice(40, 76, None), slice(0, 1, None))]\n",
      "/neurospin/dico/data/deep_folding/current/datasets/UkBioBank/skeletons/2mm/L/Lresampled_skeleton_sub-1037052.nii.gz\n",
      "before threshold (array([ 0,  1,  2,  3,  4,  5,  6,  7,  8,  9, 10, 11, 12, 13, 14, 15, 16,\n",
      "       17, 18, 19, 20, 21, 22, 23, 24, 25, 26, 27, 28, 29, 30, 31, 32, 33,\n",
      "       34], dtype=int16), array([1044188,    1621,     878,     566,     428,     366,     300,\n",
      "           287,     257,     218,     183,     201,     169,     156,\n",
      "           149,     123,      95,      91,      89,      52,      45,\n",
      "            30,      32,      15,      18,      14,      13,       9,\n",
      "             9,       6,       6,       4,       2,       2,       2]))\n",
      "DILATION\n",
      "after threshold and dilation (array([0, 1], dtype=int16), array([1036637,   13987]))\n",
      "[ 0.  1.  2.  3.  4.  5.  6.  7.  8.  9. 10. 11. 12. 13. 14. 15. 16. 17.\n",
      " 18. 19. 20. 21. 22. 23. 24. 25. 26. 27. 28. 29. 30. 31. 32. 33. 34.]\n",
      "[[  0.99717075   0.07418875  -0.01210348 -10.891258  ]\n",
      " [ -0.07300207   0.9941688    0.07936635  -1.3163452 ]\n",
      " [  0.01792099  -0.07825822   0.99677205  11.355957  ]\n",
      " [  0.           0.           0.           1.        ]]\n",
      "before threshold (array([ 0,  1,  2,  3,  4,  5,  6,  7,  8,  9, 10, 11, 12, 13, 14, 15, 16,\n",
      "       17, 18, 19, 20, 21, 22, 23, 24, 25, 26, 27, 28, 29, 30, 31, 32, 33,\n",
      "       34], dtype=int16), array([1044188,    1621,     878,     566,     428,     366,     300,\n",
      "           287,     257,     218,     183,     201,     169,     156,\n",
      "           149,     123,      95,      91,      89,      52,      45,\n",
      "            30,      32,      15,      18,      14,      13,       9,\n",
      "             9,       6,       6,       4,       2,       2,       2]))\n",
      "DILATION\n",
      "after threshold and dilation (array([0, 1], dtype=int16), array([1036637,   13987]))\n"
     ]
    },
    {
     "name": "stderr",
     "output_type": "stream",
     "text": [
      "/usr/lib/python3/dist-packages/scipy/__init__.py:146: UserWarning: A NumPy version >=1.17.3 and <1.25.0 is required for this version of SciPy (detected version 1.26.4\n",
      "  warnings.warn(f\"A NumPy version >={np_minversion} and <{np_maxversion}\"\n"
     ]
    },
    {
     "name": "stdout",
     "output_type": "stream",
     "text": [
      "loading direct transformations\n",
      "Output dimensions: 96, 114, 96\n",
      "Output voxel size: 2, 2, 2 mm\n",
      "Resampling carto_volume of S16...   0   1   2   3   4   5   6   7   8   9  10  11  12  13  14  15  16  17  18  19  20  21  22  23  24  25  26  27  28  29  30  31  32  33  34  35  36  37  38  39  40  41  42  43  44  45  46  47  48  49  50  51  52  53  54  55  56  57  58  59  60  61  62  63  64  65  66  67  68  69  70  71  72  73  74  75  76  77  78  79  80  81  82  83  84  85  86  87  88  89  90  91  92  93  94  95  96  97  98  99 100 %\n"
     ]
    },
    {
     "name": "stderr",
     "output_type": "stream",
     "text": [
      "/usr/lib/python3/dist-packages/scipy/__init__.py:146: UserWarning: A NumPy version >=1.17.3 and <1.25.0 is required for this version of SciPy (detected version 1.26.4\n",
      "  warnings.warn(f\"A NumPy version >={np_minversion} and <{np_maxversion}\"\n"
     ]
    },
    {
     "name": "stdout",
     "output_type": "stream",
     "text": [
      "loading direct transformations\n",
      "Output dimensions: 96, 114, 96\n",
      "Output voxel size: 2, 2, 2 mm\n",
      "Resampling carto_volume of S16...   0   1   2   3   4   5   6   7   8   9  10  11  12  13  14  15  16  17  18  19  20  21  22  23  24  25  26  27  28  29  30  31  32  33  34  35  36  37  38  39  40  41  42  43  44  45  46  47  48  49  50  51  52  53  54  55  56  57  58  59  60  61  62  63  64  65  66  67  68  69  70  71  72  73  74  75  76  77  78  79  80  81  82  83  84  85  86  87  88  89  90  91  92  93  94  95  96  97  98  99 100 %\n",
      "ndimage.find_objects(arr) = [(slice(43, 68, None), slice(63, 105, None), slice(40, 76, None), slice(0, 1, None))]\n",
      "/neurospin/dico/data/deep_folding/current/datasets/UkBioBank/skeletons/2mm/L/Lresampled_skeleton_sub-5603035.nii.gz\n",
      "before threshold (array([ 0,  1,  2,  3,  4,  5,  6,  7,  8,  9, 10, 11, 12, 13, 14, 15, 16,\n",
      "       17, 18, 19, 20, 21, 22, 23, 24, 25, 26, 27, 28, 29, 30, 31, 32, 33,\n",
      "       34], dtype=int16), array([1044188,    1621,     878,     566,     428,     366,     300,\n",
      "           287,     257,     218,     183,     201,     169,     156,\n",
      "           149,     123,      95,      91,      89,      52,      45,\n",
      "            30,      32,      15,      18,      14,      13,       9,\n",
      "             9,       6,       6,       4,       2,       2,       2]))\n",
      "DILATION\n",
      "after threshold and dilation (array([0, 1], dtype=int16), array([1036637,   13987]))\n",
      "[ 0.  1.  2.  3.  4.  5.  6.  7.  8.  9. 10. 11. 12. 13. 14. 15. 16. 17.\n",
      " 18. 19. 20. 21. 22. 23. 24. 25. 26. 27. 28. 29. 30. 31. 32. 33. 34.]\n",
      "[[ 1.0000000e+00  9.7448920e-09  3.4173219e-08  0.0000000e+00]\n",
      " [-9.7448973e-09  1.0000000e+00  1.6114470e-07 -1.5258789e-05]\n",
      " [-3.4173219e-08 -1.6114470e-07  1.0000000e+00  3.0517578e-05]\n",
      " [ 0.0000000e+00  0.0000000e+00  0.0000000e+00  1.0000000e+00]]\n",
      "before threshold (array([ 0,  1,  2,  3,  4,  5,  6,  7,  8,  9, 10, 11, 12, 13, 14, 15, 16,\n",
      "       17, 18, 19, 20, 21, 22, 23, 24, 25, 26, 27, 28, 29, 30, 31, 32, 33,\n",
      "       34], dtype=int16), array([1044188,    1621,     878,     566,     428,     366,     300,\n",
      "           287,     257,     218,     183,     201,     169,     156,\n",
      "           149,     123,      95,      91,      89,      52,      45,\n",
      "            30,      32,      15,      18,      14,      13,       9,\n",
      "             9,       6,       6,       4,       2,       2,       2]))\n",
      "DILATION\n",
      "after threshold and dilation (array([0, 1], dtype=int16), array([1036637,   13987]))\n"
     ]
    },
    {
     "name": "stderr",
     "output_type": "stream",
     "text": [
      "/usr/lib/python3/dist-packages/scipy/__init__.py:146: UserWarning: A NumPy version >=1.17.3 and <1.25.0 is required for this version of SciPy (detected version 1.26.4\n",
      "  warnings.warn(f\"A NumPy version >={np_minversion} and <{np_maxversion}\"\n"
     ]
    },
    {
     "name": "stdout",
     "output_type": "stream",
     "text": [
      "loading direct transformations\n",
      "Output dimensions: 96, 114, 96\n",
      "Output voxel size: 2, 2, 2 mm\n",
      "Resampling carto_volume of S16...   0   1   2   3   4   5   6   7   8   9  10  11  12  13  14  15  16  17  18  19  20  21  22  23  24  25  26  27  28  29  30  31  32  33  34  35  36  37  38  39  40  41  42  43  44  45  46  47  48  49  50  51  52  53  54  55  56  57  58  59  60  61  62  63  64  65  66  67  68  69  70  71  72  73  74  75  76  77  78  79  80  81  82  83  84  85  86  87  88  89  90  91  92  93  94  95  96  97  98  99 100 %\n"
     ]
    },
    {
     "name": "stderr",
     "output_type": "stream",
     "text": [
      "/usr/lib/python3/dist-packages/scipy/__init__.py:146: UserWarning: A NumPy version >=1.17.3 and <1.25.0 is required for this version of SciPy (detected version 1.26.4\n",
      "  warnings.warn(f\"A NumPy version >={np_minversion} and <{np_maxversion}\"\n"
     ]
    },
    {
     "name": "stdout",
     "output_type": "stream",
     "text": [
      "loading direct transformations\n",
      "Output dimensions: 96, 114, 96\n",
      "Output voxel size: 2, 2, 2 mm\n",
      "Resampling carto_volume of S16...   0   1   2   3   4   5   6   7   8   9  10  11  12  13  14  15  16  17  18  19  20  21  22  23  24  25  26  27  28  29  30  31  32  33  34  35  36  37  38  39  40  41  42  43  44  45  46  47  48  49  50  51  52  53  54  55  56  57  58  59  60  61  62  63  64  65  66  67  68  69  70  71  72  73  74  75  76  77  78  79  80  81  82  83  84  85  86  87  88  89  90  91  92  93  94  95  96  97  98  99 100 %\n",
      "ndimage.find_objects(arr) = [(slice(43, 68, None), slice(63, 105, None), slice(40, 76, None), slice(0, 1, None))]\n",
      "/neurospin/dico/data/deep_folding/current/datasets/UkBioBank/skeletons/2mm/L/Lresampled_skeleton_sub-4707694.nii.gz\n",
      "before threshold (array([ 0,  1,  2,  3,  4,  5,  6,  7,  8,  9, 10, 11, 12, 13, 14, 15, 16,\n",
      "       17, 18, 19, 20, 21, 22, 23, 24, 25, 26, 27, 28, 29, 30, 31, 32, 33,\n",
      "       34], dtype=int16), array([1044188,    1621,     878,     566,     428,     366,     300,\n",
      "           287,     257,     218,     183,     201,     169,     156,\n",
      "           149,     123,      95,      91,      89,      52,      45,\n",
      "            30,      32,      15,      18,      14,      13,       9,\n",
      "             9,       6,       6,       4,       2,       2,       2]))\n",
      "DILATION\n",
      "after threshold and dilation (array([0, 1], dtype=int16), array([1036637,   13987]))\n",
      "[ 0.  1.  2.  3.  4.  5.  6.  7.  8.  9. 10. 11. 12. 13. 14. 15. 16. 17.\n",
      " 18. 19. 20. 21. 22. 23. 24. 25. 26. 27. 28. 29. 30. 31. 32. 33. 34.]\n",
      "[[ 1.00000000e+00 -2.98612434e-07  1.03154427e-07  2.00002289e+00]\n",
      " [ 2.98612463e-07  1.00000000e+00 -3.05426425e-07  0.00000000e+00]\n",
      " [-1.03154335e-07  3.05426454e-07  1.00000000e+00 -3.81469727e-05]\n",
      " [ 0.00000000e+00  0.00000000e+00  0.00000000e+00  1.00000000e+00]]\n",
      "before threshold (array([ 0,  1,  2,  3,  4,  5,  6,  7,  8,  9, 10, 11, 12, 13, 14, 15, 16,\n",
      "       17, 18, 19, 20, 21, 22, 23, 24, 25, 26, 27, 28, 29, 30, 31, 32, 33,\n",
      "       34], dtype=int16), array([1044188,    1621,     878,     566,     428,     366,     300,\n",
      "           287,     257,     218,     183,     201,     169,     156,\n",
      "           149,     123,      95,      91,      89,      52,      45,\n",
      "            30,      32,      15,      18,      14,      13,       9,\n",
      "             9,       6,       6,       4,       2,       2,       2]))\n",
      "DILATION\n",
      "after threshold and dilation (array([0, 1], dtype=int16), array([1036637,   13987]))\n"
     ]
    },
    {
     "name": "stderr",
     "output_type": "stream",
     "text": [
      "/usr/lib/python3/dist-packages/scipy/__init__.py:146: UserWarning: A NumPy version >=1.17.3 and <1.25.0 is required for this version of SciPy (detected version 1.26.4\n",
      "  warnings.warn(f\"A NumPy version >={np_minversion} and <{np_maxversion}\"\n"
     ]
    },
    {
     "name": "stdout",
     "output_type": "stream",
     "text": [
      "loading direct transformations\n",
      "Output dimensions: 96, 114, 96\n",
      "Output voxel size: 2, 2, 2 mm\n",
      "Resampling carto_volume of S16...   0   1   2   3   4   5   6   7   8   9  10  11  12  13  14  15  16  17  18  19  20  21  22  23  24  25  26  27  28  29  30  31  32  33  34  35  36  37  38  39  40  41  42  43  44  45  46  47  48  49  50  51  52  53  54  55  56  57  58  59  60  61  62  63  64  65  66  67  68  69  70  71  72  73  74  75  76  77  78  79  80  81  82  83  84  85  86  87  88  89  90  91  92  93  94  95  96  97  98  99 100 %\n"
     ]
    },
    {
     "name": "stderr",
     "output_type": "stream",
     "text": [
      "/usr/lib/python3/dist-packages/scipy/__init__.py:146: UserWarning: A NumPy version >=1.17.3 and <1.25.0 is required for this version of SciPy (detected version 1.26.4\n",
      "  warnings.warn(f\"A NumPy version >={np_minversion} and <{np_maxversion}\"\n"
     ]
    },
    {
     "name": "stdout",
     "output_type": "stream",
     "text": [
      "loading direct transformations\n",
      "Output dimensions: 96, 114, 96\n",
      "Output voxel size: 2, 2, 2 mm\n",
      "Resampling carto_volume of S16...   0   1   2   3   4   5   6   7   8   9  10  11  12  13  14  15  16  17  18  19  20  21  22  23  24  25  26  27  28  29  30  31  32  33  34  35  36  37  38  39  40  41  42  43  44  45  46  47  48  49  50  51  52  53  54  55  56  57  58  59  60  61  62  63  64  65  66  67  68  69  70  71  72  73  74  75  76  77  78  79  80  81  82  83  84  85  86  87  88  89  90  91  92  93  94  95  96  97  98  99 100 %\n",
      "ndimage.find_objects(arr) = [(slice(43, 68, None), slice(63, 105, None), slice(40, 76, None), slice(0, 1, None))]\n",
      "/neurospin/dico/data/deep_folding/current/datasets/UkBioBank/skeletons/2mm/L/Lresampled_skeleton_sub-5023079.nii.gz\n",
      "before threshold (array([ 0,  1,  2,  3,  4,  5,  6,  7,  8,  9, 10, 11, 12, 13, 14, 15, 16,\n",
      "       17, 18, 19, 20, 21, 22, 23, 24, 25, 26, 27, 28, 29, 30, 31, 32, 33,\n",
      "       34], dtype=int16), array([1044188,    1621,     878,     566,     428,     366,     300,\n",
      "           287,     257,     218,     183,     201,     169,     156,\n",
      "           149,     123,      95,      91,      89,      52,      45,\n",
      "            30,      32,      15,      18,      14,      13,       9,\n",
      "             9,       6,       6,       4,       2,       2,       2]))\n",
      "DILATION\n",
      "after threshold and dilation (array([0, 1], dtype=int16), array([1036637,   13987]))\n",
      "[ 0.  1.  2.  3.  4.  5.  6.  7.  8.  9. 10. 11. 12. 13. 14. 15. 16. 17.\n",
      " 18. 19. 20. 21. 22. 23. 24. 25. 26. 27. 28. 29. 30. 31. 32. 33. 34.]\n",
      "[[ 1.0000000e+00  2.7982243e-05 -5.2089463e-06  1.9968796e+00]\n",
      " [-2.7974107e-05  9.9999881e-01  1.5554456e-03 -1.6174316e-01]\n",
      " [ 5.2524647e-06 -1.5554454e-03  9.9999881e-01  2.2702408e+00]\n",
      " [ 0.0000000e+00  0.0000000e+00  0.0000000e+00  1.0000000e+00]]\n",
      "before threshold (array([ 0,  1,  2,  3,  4,  5,  6,  7,  8,  9, 10, 11, 12, 13, 14, 15, 16,\n",
      "       17, 18, 19, 20, 21, 22, 23, 24, 25, 26, 27, 28, 29, 30, 31, 32, 33,\n",
      "       34], dtype=int16), array([1044188,    1621,     878,     566,     428,     366,     300,\n",
      "           287,     257,     218,     183,     201,     169,     156,\n",
      "           149,     123,      95,      91,      89,      52,      45,\n",
      "            30,      32,      15,      18,      14,      13,       9,\n",
      "             9,       6,       6,       4,       2,       2,       2]))\n",
      "DILATION\n",
      "after threshold and dilation (array([0, 1], dtype=int16), array([1036637,   13987]))\n"
     ]
    },
    {
     "name": "stderr",
     "output_type": "stream",
     "text": [
      "/usr/lib/python3/dist-packages/scipy/__init__.py:146: UserWarning: A NumPy version >=1.17.3 and <1.25.0 is required for this version of SciPy (detected version 1.26.4\n",
      "  warnings.warn(f\"A NumPy version >={np_minversion} and <{np_maxversion}\"\n"
     ]
    },
    {
     "name": "stdout",
     "output_type": "stream",
     "text": [
      "loading direct transformations\n",
      "Output dimensions: 96, 114, 96\n",
      "Output voxel size: 2, 2, 2 mm\n",
      "Resampling carto_volume of S16...   0   1   2   3   4   5   6   7   8   9  10  11  12  13  14  15  16  17  18  19  20  21  22  23  24  25  26  27  28  29  30  31  32  33  34  35  36  37  38  39  40  41  42  43  44  45  46  47  48  49  50  51  52  53  54  55  56  57  58  59  60  61  62  63  64  65  66  67  68  69  70  71  72  73  74  75  76  77  78  79  80  81  82  83  84  85  86  87  88  89  90  91  92  93  94  95  96  97  98  99 100 %\n"
     ]
    },
    {
     "name": "stderr",
     "output_type": "stream",
     "text": [
      "/usr/lib/python3/dist-packages/scipy/__init__.py:146: UserWarning: A NumPy version >=1.17.3 and <1.25.0 is required for this version of SciPy (detected version 1.26.4\n",
      "  warnings.warn(f\"A NumPy version >={np_minversion} and <{np_maxversion}\"\n"
     ]
    },
    {
     "name": "stdout",
     "output_type": "stream",
     "text": [
      "loading direct transformations\n",
      "Output dimensions: 96, 114, 96\n",
      "Output voxel size: 2, 2, 2 mm\n",
      "Resampling carto_volume of S16...   0   1   2   3   4   5   6   7   8   9  10  11  12  13  14  15  16  17  18  19  20  21  22  23  24  25  26  27  28  29  30  31  32  33  34  35  36  37  38  39  40  41  42  43  44  45  46  47  48  49  50  51  52  53  54  55  56  57  58  59  60  61  62  63  64  65  66  67  68  69  70  71  72  73  74  75  76  77  78  79  80  81  82  83  84  85  86  87  88  89  90  91  92  93  94  95  96  97  98  99 100 %\n",
      "ndimage.find_objects(arr) = [(slice(43, 68, None), slice(63, 105, None), slice(40, 76, None), slice(0, 1, None))]\n",
      "/neurospin/dico/data/deep_folding/current/datasets/UkBioBank/skeletons/2mm/L/Lresampled_skeleton_sub-3427351.nii.gz\n",
      "before threshold (array([ 0,  1,  2,  3,  4,  5,  6,  7,  8,  9, 10, 11, 12, 13, 14, 15, 16,\n",
      "       17, 18, 19, 20, 21, 22, 23, 24, 25, 26, 27, 28, 29, 30, 31, 32, 33,\n",
      "       34], dtype=int16), array([1044188,    1621,     878,     566,     428,     366,     300,\n",
      "           287,     257,     218,     183,     201,     169,     156,\n",
      "           149,     123,      95,      91,      89,      52,      45,\n",
      "            30,      32,      15,      18,      14,      13,       9,\n",
      "             9,       6,       6,       4,       2,       2,       2]))\n",
      "DILATION\n",
      "after threshold and dilation (array([0, 1], dtype=int16), array([1036637,   13987]))\n",
      "[ 0.  1.  2.  3.  4.  5.  6.  7.  8.  9. 10. 11. 12. 13. 14. 15. 16. 17.\n",
      " 18. 19. 20. 21. 22. 23. 24. 25. 26. 27. 28. 29. 30. 31. 32. 33. 34.]\n",
      "[[  0.9837537   -0.16950251  -0.05914016  35.527763  ]\n",
      " [  0.16446565   0.9829998   -0.08162366  -5.8721466 ]\n",
      " [  0.07197018   0.07057105   0.994907   -18.664429  ]\n",
      " [  0.           0.           0.           1.        ]]\n",
      "before threshold (array([ 0,  1,  2,  3,  4,  5,  6,  7,  8,  9, 10, 11, 12, 13, 14, 15, 16,\n",
      "       17, 18, 19, 20, 21, 22, 23, 24, 25, 26, 27, 28, 29, 30, 31, 32, 33,\n",
      "       34], dtype=int16), array([1044188,    1621,     878,     566,     428,     366,     300,\n",
      "           287,     257,     218,     183,     201,     169,     156,\n",
      "           149,     123,      95,      91,      89,      52,      45,\n",
      "            30,      32,      15,      18,      14,      13,       9,\n",
      "             9,       6,       6,       4,       2,       2,       2]))\n",
      "DILATION\n",
      "after threshold and dilation (array([0, 1], dtype=int16), array([1036637,   13987]))\n"
     ]
    },
    {
     "name": "stderr",
     "output_type": "stream",
     "text": [
      "/usr/lib/python3/dist-packages/scipy/__init__.py:146: UserWarning: A NumPy version >=1.17.3 and <1.25.0 is required for this version of SciPy (detected version 1.26.4\n",
      "  warnings.warn(f\"A NumPy version >={np_minversion} and <{np_maxversion}\"\n"
     ]
    },
    {
     "name": "stdout",
     "output_type": "stream",
     "text": [
      "loading direct transformations\n",
      "Output dimensions: 96, 114, 96\n",
      "Output voxel size: 2, 2, 2 mm\n",
      "Resampling carto_volume of S16...   0   1   2   3   4   5   6   7   8   9  10  11  12  13  14  15  16  17  18  19  20  21  22  23  24  25  26  27  28  29  30  31  32  33  34  35  36  37  38  39  40  41  42  43  44  45  46  47  48  49  50  51  52  53  54  55  56  57  58  59  60  61  62  63  64  65  66  67  68  69  70  71  72  73  74  75  76  77  78  79  80  81  82  83  84  85  86  87  88  89  90  91  92  93  94  95  96  97  98  99 100 %\n"
     ]
    },
    {
     "name": "stderr",
     "output_type": "stream",
     "text": [
      "/usr/lib/python3/dist-packages/scipy/__init__.py:146: UserWarning: A NumPy version >=1.17.3 and <1.25.0 is required for this version of SciPy (detected version 1.26.4\n",
      "  warnings.warn(f\"A NumPy version >={np_minversion} and <{np_maxversion}\"\n"
     ]
    },
    {
     "name": "stdout",
     "output_type": "stream",
     "text": [
      "loading direct transformations\n",
      "Output dimensions: 96, 114, 96\n",
      "Output voxel size: 2, 2, 2 mm\n",
      "Resampling carto_volume of S16...   0   1   2   3   4   5   6   7   8   9  10  11  12  13  14  15  16  17  18  19  20  21  22  23  24  25  26  27  28  29  30  31  32  33  34  35  36  37  38  39  40  41  42  43  44  45  46  47  48  49  50  51  52  53  54  55  56  57  58  59  60  61  62  63  64  65  66  67  68  69  70  71  72  73  74  75  76  77  78  79  80  81  82  83  84  85  86  87  88  89  90  91  92  93  94  95  96  97  98  99 100 %\n",
      "ndimage.find_objects(arr) = [(slice(43, 68, None), slice(63, 105, None), slice(40, 76, None), slice(0, 1, None))]\n",
      "/neurospin/dico/data/deep_folding/current/datasets/UkBioBank/skeletons/2mm/L/Lresampled_skeleton_sub-4730906.nii.gz\n",
      "before threshold (array([ 0,  1,  2,  3,  4,  5,  6,  7,  8,  9, 10, 11, 12, 13, 14, 15, 16,\n",
      "       17, 18, 19, 20, 21, 22, 23, 24, 25, 26, 27, 28, 29, 30, 31, 32, 33,\n",
      "       34], dtype=int16), array([1044188,    1621,     878,     566,     428,     366,     300,\n",
      "           287,     257,     218,     183,     201,     169,     156,\n",
      "           149,     123,      95,      91,      89,      52,      45,\n",
      "            30,      32,      15,      18,      14,      13,       9,\n",
      "             9,       6,       6,       4,       2,       2,       2]))\n",
      "DILATION\n",
      "after threshold and dilation (array([0, 1], dtype=int16), array([1036637,   13987]))\n",
      "[ 0.  1.  2.  3.  4.  5.  6.  7.  8.  9. 10. 11. 12. 13. 14. 15. 16. 17.\n",
      " 18. 19. 20. 21. 22. 23. 24. 25. 26. 27. 28. 29. 30. 31. 32. 33. 34.]\n",
      "[[ 9.9928230e-01 -3.6258020e-03  3.7706181e-02 -4.1340027e+00]\n",
      " [-3.6258004e-03  9.8168278e-01  1.9048828e-01 -1.7821579e+01]\n",
      " [-3.7706181e-02 -1.9048828e-01  9.8096508e-01  3.7561646e+01]\n",
      " [ 0.0000000e+00  0.0000000e+00  0.0000000e+00  1.0000000e+00]]\n",
      "before threshold (array([ 0,  1,  2,  3,  4,  5,  6,  7,  8,  9, 10, 11, 12, 13, 14, 15, 16,\n",
      "       17, 18, 19, 20, 21, 22, 23, 24, 25, 26, 27, 28, 29, 30, 31, 32, 33,\n",
      "       34], dtype=int16), array([1044188,    1621,     878,     566,     428,     366,     300,\n",
      "           287,     257,     218,     183,     201,     169,     156,\n",
      "           149,     123,      95,      91,      89,      52,      45,\n",
      "            30,      32,      15,      18,      14,      13,       9,\n",
      "             9,       6,       6,       4,       2,       2,       2]))\n",
      "DILATION\n",
      "after threshold and dilation (array([0, 1], dtype=int16), array([1036637,   13987]))\n"
     ]
    },
    {
     "name": "stderr",
     "output_type": "stream",
     "text": [
      "/usr/lib/python3/dist-packages/scipy/__init__.py:146: UserWarning: A NumPy version >=1.17.3 and <1.25.0 is required for this version of SciPy (detected version 1.26.4\n",
      "  warnings.warn(f\"A NumPy version >={np_minversion} and <{np_maxversion}\"\n"
     ]
    },
    {
     "name": "stdout",
     "output_type": "stream",
     "text": [
      "loading direct transformations\n",
      "Output dimensions: 96, 114, 96\n",
      "Output voxel size: 2, 2, 2 mm\n",
      "Resampling carto_volume of S16...   0   1   2   3   4   5   6   7   8   9  10  11  12  13  14  15  16  17  18  19  20  21  22  23  24  25  26  27  28  29  30  31  32  33  34  35  36  37  38  39  40  41  42  43  44  45  46  47  48  49  50  51  52  53  54  55  56  57  58  59  60  61  62  63  64  65  66  67  68  69  70  71  72  73  74  75  76  77  78  79  80  81  82  83  84  85  86  87  88  89  90  91  92  93  94  95  96  97  98  99 100 %\n"
     ]
    },
    {
     "name": "stderr",
     "output_type": "stream",
     "text": [
      "/usr/lib/python3/dist-packages/scipy/__init__.py:146: UserWarning: A NumPy version >=1.17.3 and <1.25.0 is required for this version of SciPy (detected version 1.26.4\n",
      "  warnings.warn(f\"A NumPy version >={np_minversion} and <{np_maxversion}\"\n"
     ]
    },
    {
     "name": "stdout",
     "output_type": "stream",
     "text": [
      "loading direct transformations\n",
      "Output dimensions: 96, 114, 96\n",
      "Output voxel size: 2, 2, 2 mm\n",
      "Resampling carto_volume of S16...   0   1   2   3   4   5   6   7   8   9  10  11  12  13  14  15  16  17  18  19  20  21  22  23  24  25  26  27  28  29  30  31  32  33  34  35  36  37  38  39  40  41  42  43  44  45  46  47  48  49  50  51  52  53  54  55  56  57  58  59  60  61  62  63  64  65  66  67  68  69  70  71  72  73  74  75  76  77  78  79  80  81  82  83  84  85  86  87  88  89  90  91  92  93  94  95  96  97  98  99 100 %\n",
      "ndimage.find_objects(arr) = [(slice(43, 68, None), slice(63, 105, None), slice(40, 76, None), slice(0, 1, None))]\n",
      "/neurospin/dico/data/deep_folding/current/datasets/UkBioBank/skeletons/2mm/L/Lresampled_skeleton_sub-5665066.nii.gz\n",
      "before threshold (array([ 0,  1,  2,  3,  4,  5,  6,  7,  8,  9, 10, 11, 12, 13, 14, 15, 16,\n",
      "       17, 18, 19, 20, 21, 22, 23, 24, 25, 26, 27, 28, 29, 30, 31, 32, 33,\n",
      "       34], dtype=int16), array([1044188,    1621,     878,     566,     428,     366,     300,\n",
      "           287,     257,     218,     183,     201,     169,     156,\n",
      "           149,     123,      95,      91,      89,      52,      45,\n",
      "            30,      32,      15,      18,      14,      13,       9,\n",
      "             9,       6,       6,       4,       2,       2,       2]))\n",
      "DILATION\n",
      "after threshold and dilation (array([0, 1], dtype=int16), array([1036637,   13987]))\n",
      "[ 0.  1.  2.  3.  4.  5.  6.  7.  8.  9. 10. 11. 12. 13. 14. 15. 16. 17.\n",
      " 18. 19. 20. 21. 22. 23. 24. 25. 26. 27. 28. 29. 30. 31. 32. 33. 34.]\n",
      "[[ 9.9721825e-01  1.7229738e-03 -7.4516721e-02  8.5058746e+00]\n",
      " [ 3.0092336e-03  9.9798703e-01  6.3346431e-02 -9.1238708e+00]\n",
      " [ 7.4475870e-02 -6.3394457e-02  9.9520576e-01  3.5301743e+00]\n",
      " [ 0.0000000e+00  0.0000000e+00  0.0000000e+00  1.0000000e+00]]\n",
      "before threshold (array([ 0,  1,  2,  3,  4,  5,  6,  7,  8,  9, 10, 11, 12, 13, 14, 15, 16,\n",
      "       17, 18, 19, 20, 21, 22, 23, 24, 25, 26, 27, 28, 29, 30, 31, 32, 33,\n",
      "       34], dtype=int16), array([1044188,    1621,     878,     566,     428,     366,     300,\n",
      "           287,     257,     218,     183,     201,     169,     156,\n",
      "           149,     123,      95,      91,      89,      52,      45,\n",
      "            30,      32,      15,      18,      14,      13,       9,\n",
      "             9,       6,       6,       4,       2,       2,       2]))\n",
      "DILATION\n",
      "after threshold and dilation (array([0, 1], dtype=int16), array([1036637,   13987]))\n"
     ]
    },
    {
     "name": "stderr",
     "output_type": "stream",
     "text": [
      "/usr/lib/python3/dist-packages/scipy/__init__.py:146: UserWarning: A NumPy version >=1.17.3 and <1.25.0 is required for this version of SciPy (detected version 1.26.4\n",
      "  warnings.warn(f\"A NumPy version >={np_minversion} and <{np_maxversion}\"\n"
     ]
    },
    {
     "name": "stdout",
     "output_type": "stream",
     "text": [
      "loading direct transformations\n",
      "Output dimensions: 96, 114, 96\n",
      "Output voxel size: 2, 2, 2 mm\n",
      "Resampling carto_volume of S16...   0   1   2   3   4   5   6   7   8   9  10  11  12  13  14  15  16  17  18  19  20  21  22  23  24  25  26  27  28  29  30  31  32  33  34  35  36  37  38  39  40  41  42  43  44  45  46  47  48  49  50  51  52  53  54  55  56  57  58  59  60  61  62  63  64  65  66  67  68  69  70  71  72  73  74  75  76  77  78  79  80  81  82  83  84  85  86  87  88  89  90  91  92  93  94  95  96  97  98  99 100 %\n"
     ]
    },
    {
     "name": "stderr",
     "output_type": "stream",
     "text": [
      "/usr/lib/python3/dist-packages/scipy/__init__.py:146: UserWarning: A NumPy version >=1.17.3 and <1.25.0 is required for this version of SciPy (detected version 1.26.4\n",
      "  warnings.warn(f\"A NumPy version >={np_minversion} and <{np_maxversion}\"\n"
     ]
    },
    {
     "name": "stdout",
     "output_type": "stream",
     "text": [
      "loading direct transformations\n",
      "Output dimensions: 96, 114, 96\n",
      "Output voxel size: 2, 2, 2 mm\n",
      "Resampling carto_volume of S16...   0   1   2   3   4   5   6   7   8   9  10  11  12  13  14  15  16  17  18  19  20  21  22  23  24  25  26  27  28  29  30  31  32  33  34  35  36  37  38  39  40  41  42  43  44  45  46  47  48  49  50  51  52  53  54  55  56  57  58  59  60  61  62  63  64  65  66  67  68  69  70  71  72  73  74  75  76  77  78  79  80  81  82  83  84  85  86  87  88  89  90  91  92  93  94  95  96  97  98  99 100 %\n",
      "ndimage.find_objects(arr) = [(slice(43, 68, None), slice(63, 105, None), slice(40, 76, None), slice(0, 1, None))]\n",
      "/neurospin/dico/data/deep_folding/current/datasets/UkBioBank/skeletons/2mm/L/Lresampled_skeleton_sub-3415482.nii.gz\n",
      "before threshold (array([ 0,  1,  2,  3,  4,  5,  6,  7,  8,  9, 10, 11, 12, 13, 14, 15, 16,\n",
      "       17, 18, 19, 20, 21, 22, 23, 24, 25, 26, 27, 28, 29, 30, 31, 32, 33,\n",
      "       34], dtype=int16), array([1044188,    1621,     878,     566,     428,     366,     300,\n",
      "           287,     257,     218,     183,     201,     169,     156,\n",
      "           149,     123,      95,      91,      89,      52,      45,\n",
      "            30,      32,      15,      18,      14,      13,       9,\n",
      "             9,       6,       6,       4,       2,       2,       2]))\n",
      "DILATION\n",
      "after threshold and dilation (array([0, 1], dtype=int16), array([1036637,   13987]))\n",
      "[ 0.  1.  2.  3.  4.  5.  6.  7.  8.  9. 10. 11. 12. 13. 14. 15. 16. 17.\n",
      " 18. 19. 20. 21. 22. 23. 24. 25. 26. 27. 28. 29. 30. 31. 32. 33. 34.]\n",
      "[[ 9.9999785e-01 -2.0665403e-03 -1.9394043e-04  3.3919525e-01]\n",
      " [ 2.0667815e-03  9.8276895e-01  1.8482657e-01 -1.8011063e+01]\n",
      " [-1.9135293e-04 -1.8482657e-01  9.8277116e-01  3.1975403e+01]\n",
      " [ 0.0000000e+00  0.0000000e+00  0.0000000e+00  1.0000000e+00]]\n",
      "before threshold (array([ 0,  1,  2,  3,  4,  5,  6,  7,  8,  9, 10, 11, 12, 13, 14, 15, 16,\n",
      "       17, 18, 19, 20, 21, 22, 23, 24, 25, 26, 27, 28, 29, 30, 31, 32, 33,\n",
      "       34], dtype=int16), array([1044188,    1621,     878,     566,     428,     366,     300,\n",
      "           287,     257,     218,     183,     201,     169,     156,\n",
      "           149,     123,      95,      91,      89,      52,      45,\n",
      "            30,      32,      15,      18,      14,      13,       9,\n",
      "             9,       6,       6,       4,       2,       2,       2]))\n",
      "DILATION\n",
      "after threshold and dilation (array([0, 1], dtype=int16), array([1036637,   13987]))\n"
     ]
    },
    {
     "name": "stderr",
     "output_type": "stream",
     "text": [
      "/usr/lib/python3/dist-packages/scipy/__init__.py:146: UserWarning: A NumPy version >=1.17.3 and <1.25.0 is required for this version of SciPy (detected version 1.26.4\n",
      "  warnings.warn(f\"A NumPy version >={np_minversion} and <{np_maxversion}\"\n"
     ]
    },
    {
     "name": "stdout",
     "output_type": "stream",
     "text": [
      "loading direct transformations\n",
      "Output dimensions: 96, 114, 96\n",
      "Output voxel size: 2, 2, 2 mm\n",
      "Resampling carto_volume of S16...   0   1   2   3   4   5   6   7   8   9  10  11  12  13  14  15  16  17  18  19  20  21  22  23  24  25  26  27  28  29  30  31  32  33  34  35  36  37  38  39  40  41  42  43  44  45  46  47  48  49  50  51  52  53  54  55  56  57  58  59  60  61  62  63  64  65  66  67  68  69  70  71  72  73  74  75  76  77  78  79  80  81  82  83  84  85  86  87  88  89  90  91  92  93  94  95  96  97  98  99 100 %\n"
     ]
    },
    {
     "name": "stderr",
     "output_type": "stream",
     "text": [
      "/usr/lib/python3/dist-packages/scipy/__init__.py:146: UserWarning: A NumPy version >=1.17.3 and <1.25.0 is required for this version of SciPy (detected version 1.26.4\n",
      "  warnings.warn(f\"A NumPy version >={np_minversion} and <{np_maxversion}\"\n"
     ]
    },
    {
     "name": "stdout",
     "output_type": "stream",
     "text": [
      "loading direct transformations\n",
      "Output dimensions: 96, 114, 96\n",
      "Output voxel size: 2, 2, 2 mm\n",
      "Resampling carto_volume of S16...   0   1   2   3   4   5   6   7   8   9  10  11  12  13  14  15  16  17  18  19  20  21  22  23  24  25  26  27  28  29  30  31  32  33  34  35  36  37  38  39  40  41  42  43  44  45  46  47  48  49  50  51  52  53  54  55  56  57  58  59  60  61  62  63  64  65  66  67  68  69  70  71  72  73  74  75  76  77  78  79  80  81  82  83  84  85  86  87  88  89  90  91  92  93  94  95  96  97  98  99 100 %\n",
      "ndimage.find_objects(arr) = [(slice(43, 68, None), slice(63, 105, None), slice(40, 76, None), slice(0, 1, None))]\n",
      "/neurospin/dico/data/deep_folding/current/datasets/UkBioBank/skeletons/2mm/L/Lresampled_skeleton_sub-5645677.nii.gz\n",
      "before threshold (array([ 0,  1,  2,  3,  4,  5,  6,  7,  8,  9, 10, 11, 12, 13, 14, 15, 16,\n",
      "       17, 18, 19, 20, 21, 22, 23, 24, 25, 26, 27, 28, 29, 30, 31, 32, 33,\n",
      "       34], dtype=int16), array([1044188,    1621,     878,     566,     428,     366,     300,\n",
      "           287,     257,     218,     183,     201,     169,     156,\n",
      "           149,     123,      95,      91,      89,      52,      45,\n",
      "            30,      32,      15,      18,      14,      13,       9,\n",
      "             9,       6,       6,       4,       2,       2,       2]))\n",
      "DILATION\n",
      "after threshold and dilation (array([0, 1], dtype=int16), array([1036637,   13987]))\n",
      "[ 0.  1.  2.  3.  4.  5.  6.  7.  8.  9. 10. 11. 12. 13. 14. 15. 16. 17.\n",
      " 18. 19. 20. 21. 22. 23. 24. 25. 26. 27. 28. 29. 30. 31. 32. 33. 34.]\n",
      "[[ 1.0000000e+00 -1.6718884e-07 -3.0133100e-07  6.1035156e-05]\n",
      " [ 1.8494272e-07  9.9820346e-01  5.9914954e-02 -6.4302368e+00]\n",
      " [ 2.9077256e-07 -5.9914954e-02  9.9820346e-01  1.0397507e+01]\n",
      " [ 0.0000000e+00  0.0000000e+00  0.0000000e+00  1.0000000e+00]]\n",
      "before threshold (array([ 0,  1,  2,  3,  4,  5,  6,  7,  8,  9, 10, 11, 12, 13, 14, 15, 16,\n",
      "       17, 18, 19, 20, 21, 22, 23, 24, 25, 26, 27, 28, 29, 30, 31, 32, 33,\n",
      "       34], dtype=int16), array([1044188,    1621,     878,     566,     428,     366,     300,\n",
      "           287,     257,     218,     183,     201,     169,     156,\n",
      "           149,     123,      95,      91,      89,      52,      45,\n",
      "            30,      32,      15,      18,      14,      13,       9,\n",
      "             9,       6,       6,       4,       2,       2,       2]))\n",
      "DILATION\n",
      "after threshold and dilation (array([0, 1], dtype=int16), array([1036637,   13987]))\n"
     ]
    },
    {
     "name": "stderr",
     "output_type": "stream",
     "text": [
      "/usr/lib/python3/dist-packages/scipy/__init__.py:146: UserWarning: A NumPy version >=1.17.3 and <1.25.0 is required for this version of SciPy (detected version 1.26.4\n",
      "  warnings.warn(f\"A NumPy version >={np_minversion} and <{np_maxversion}\"\n"
     ]
    },
    {
     "name": "stdout",
     "output_type": "stream",
     "text": [
      "loading direct transformations\n",
      "Output dimensions: 96, 114, 96\n",
      "Output voxel size: 2, 2, 2 mm\n",
      "Resampling carto_volume of S16...   0   1   2   3   4   5   6   7   8   9  10  11  12  13  14  15  16  17  18  19  20  21  22  23  24  25  26  27  28  29  30  31  32  33  34  35  36  37  38  39  40  41  42  43  44  45  46  47  48  49  50  51  52  53  54  55  56  57  58  59  60  61  62  63  64  65  66  67  68  69  70  71  72  73  74  75  76  77  78  79  80  81  82  83  84  85  86  87  88  89  90  91  92  93  94  95  96  97  98  99 100 %\n"
     ]
    },
    {
     "name": "stderr",
     "output_type": "stream",
     "text": [
      "/usr/lib/python3/dist-packages/scipy/__init__.py:146: UserWarning: A NumPy version >=1.17.3 and <1.25.0 is required for this version of SciPy (detected version 1.26.4\n",
      "  warnings.warn(f\"A NumPy version >={np_minversion} and <{np_maxversion}\"\n"
     ]
    },
    {
     "name": "stdout",
     "output_type": "stream",
     "text": [
      "loading direct transformations\n",
      "Output dimensions: 96, 114, 96\n",
      "Output voxel size: 2, 2, 2 mm\n",
      "Resampling carto_volume of S16...   0   1   2   3   4   5   6   7   8   9  10  11  12  13  14  15  16  17  18  19  20  21  22  23  24  25  26  27  28  29  30  31  32  33  34  35  36  37  38  39  40  41  42  43  44  45  46  47  48  49  50  51  52  53  54  55  56  57  58  59  60  61  62  63  64  65  66  67  68  69  70  71  72  73  74  75  76  77  78  79  80  81  82  83  84  85  86  87  88  89  90  91  92  93  94  95  96  97  98  99 100 %\n",
      "ndimage.find_objects(arr) = [(slice(43, 68, None), slice(63, 105, None), slice(40, 76, None), slice(0, 1, None))]\n",
      "/neurospin/dico/data/deep_folding/current/datasets/UkBioBank/skeletons/2mm/L/Lresampled_skeleton_sub-3505608.nii.gz\n",
      "before threshold (array([ 0,  1,  2,  3,  4,  5,  6,  7,  8,  9, 10, 11, 12, 13, 14, 15, 16,\n",
      "       17, 18, 19, 20, 21, 22, 23, 24, 25, 26, 27, 28, 29, 30, 31, 32, 33,\n",
      "       34], dtype=int16), array([1044188,    1621,     878,     566,     428,     366,     300,\n",
      "           287,     257,     218,     183,     201,     169,     156,\n",
      "           149,     123,      95,      91,      89,      52,      45,\n",
      "            30,      32,      15,      18,      14,      13,       9,\n",
      "             9,       6,       6,       4,       2,       2,       2]))\n",
      "DILATION\n",
      "after threshold and dilation (array([0, 1], dtype=int16), array([1036637,   13987]))\n",
      "[ 0.  1.  2.  3.  4.  5.  6.  7.  8.  9. 10. 11. 12. 13. 14. 15. 16. 17.\n",
      " 18. 19. 20. 21. 22. 23. 24. 25. 26. 27. 28. 29. 30. 31. 32. 33. 34.]\n",
      "[[ 8.0780578e-01 -5.6742828e-02 -5.8671123e-01  9.3699600e+01]\n",
      " [ 5.6032751e-02  9.9824053e-01 -1.9395249e-02 -3.5076752e+00]\n",
      " [ 5.8677942e-01 -1.7207447e-02  8.0956393e-01 -3.6397034e+01]\n",
      " [ 0.0000000e+00  0.0000000e+00  0.0000000e+00  1.0000000e+00]]\n",
      "before threshold (array([ 0,  1,  2,  3,  4,  5,  6,  7,  8,  9, 10, 11, 12, 13, 14, 15, 16,\n",
      "       17, 18, 19, 20, 21, 22, 23, 24, 25, 26, 27, 28, 29, 30, 31, 32, 33,\n",
      "       34], dtype=int16), array([1044188,    1621,     878,     566,     428,     366,     300,\n",
      "           287,     257,     218,     183,     201,     169,     156,\n",
      "           149,     123,      95,      91,      89,      52,      45,\n",
      "            30,      32,      15,      18,      14,      13,       9,\n",
      "             9,       6,       6,       4,       2,       2,       2]))\n",
      "DILATION\n",
      "after threshold and dilation (array([0, 1], dtype=int16), array([1036637,   13987]))\n"
     ]
    },
    {
     "name": "stderr",
     "output_type": "stream",
     "text": [
      "/usr/lib/python3/dist-packages/scipy/__init__.py:146: UserWarning: A NumPy version >=1.17.3 and <1.25.0 is required for this version of SciPy (detected version 1.26.4\n",
      "  warnings.warn(f\"A NumPy version >={np_minversion} and <{np_maxversion}\"\n"
     ]
    },
    {
     "name": "stdout",
     "output_type": "stream",
     "text": [
      "loading direct transformations\n",
      "Output dimensions: 96, 114, 96\n",
      "Output voxel size: 2, 2, 2 mm\n",
      "Resampling carto_volume of S16...   0   1   2   3   4   5   6   7   8   9  10  11  12  13  14  15  16  17  18  19  20  21  22  23  24  25  26  27  28  29  30  31  32  33  34  35  36  37  38  39  40  41  42  43  44  45  46  47  48  49  50  51  52  53  54  55  56  57  58  59  60  61  62  63  64  65  66  67  68  69  70  71  72  73  74  75  76  77  78  79  80  81  82  83  84  85  86  87  88  89  90  91  92  93  94  95  96  97  98  99 100 %\n"
     ]
    },
    {
     "name": "stderr",
     "output_type": "stream",
     "text": [
      "/usr/lib/python3/dist-packages/scipy/__init__.py:146: UserWarning: A NumPy version >=1.17.3 and <1.25.0 is required for this version of SciPy (detected version 1.26.4\n",
      "  warnings.warn(f\"A NumPy version >={np_minversion} and <{np_maxversion}\"\n"
     ]
    },
    {
     "name": "stdout",
     "output_type": "stream",
     "text": [
      "loading direct transformations\n",
      "Output dimensions: 96, 114, 96\n",
      "Output voxel size: 2, 2, 2 mm\n",
      "Resampling carto_volume of S16...   0   1   2   3   4   5   6   7   8   9  10  11  12  13  14  15  16  17  18  19  20  21  22  23  24  25  26  27  28  29  30  31  32  33  34  35  36  37  38  39  40  41  42  43  44  45  46  47  48  49  50  51  52  53  54  55  56  57  58  59  60  61  62  63  64  65  66  67  68  69  70  71  72  73  74  75  76  77  78  79  80  81  82  83  84  85  86  87  88  89  90  91  92  93  94  95  96  97  98  99 100 %\n",
      "ndimage.find_objects(arr) = [(slice(43, 68, None), slice(63, 105, None), slice(40, 76, None), slice(0, 1, None))]\n",
      "/neurospin/dico/data/deep_folding/current/datasets/UkBioBank/skeletons/2mm/L/Lresampled_skeleton_sub-2863115.nii.gz\n",
      "before threshold (array([ 0,  1,  2,  3,  4,  5,  6,  7,  8,  9, 10, 11, 12, 13, 14, 15, 16,\n",
      "       17, 18, 19, 20, 21, 22, 23, 24, 25, 26, 27, 28, 29, 30, 31, 32, 33,\n",
      "       34], dtype=int16), array([1044188,    1621,     878,     566,     428,     366,     300,\n",
      "           287,     257,     218,     183,     201,     169,     156,\n",
      "           149,     123,      95,      91,      89,      52,      45,\n",
      "            30,      32,      15,      18,      14,      13,       9,\n",
      "             9,       6,       6,       4,       2,       2,       2]))\n",
      "DILATION\n",
      "after threshold and dilation (array([0, 1], dtype=int16), array([1036637,   13987]))\n",
      "[ 0.  1.  2.  3.  4.  5.  6.  7.  8.  9. 10. 11. 12. 13. 14. 15. 16. 17.\n",
      " 18. 19. 20. 21. 22. 23. 24. 25. 26. 27. 28. 29. 30. 31. 32. 33. 34.]\n",
      "[[ 9.99899864e-01  7.06885243e-03 -1.22606605e-02  2.29580688e+00]\n",
      " [-6.16300339e-03  9.97355998e-01  7.24085420e-02 -9.02995300e+00]\n",
      " [ 1.27400886e-02 -7.23257288e-02  9.97299671e-01  1.09674377e+01]\n",
      " [ 0.00000000e+00  0.00000000e+00  0.00000000e+00  1.00000000e+00]]\n",
      "before threshold (array([ 0,  1,  2,  3,  4,  5,  6,  7,  8,  9, 10, 11, 12, 13, 14, 15, 16,\n",
      "       17, 18, 19, 20, 21, 22, 23, 24, 25, 26, 27, 28, 29, 30, 31, 32, 33,\n",
      "       34], dtype=int16), array([1044188,    1621,     878,     566,     428,     366,     300,\n",
      "           287,     257,     218,     183,     201,     169,     156,\n",
      "           149,     123,      95,      91,      89,      52,      45,\n",
      "            30,      32,      15,      18,      14,      13,       9,\n",
      "             9,       6,       6,       4,       2,       2,       2]))\n",
      "DILATION\n",
      "after threshold and dilation (array([0, 1], dtype=int16), array([1036637,   13987]))\n"
     ]
    },
    {
     "name": "stderr",
     "output_type": "stream",
     "text": [
      "/usr/lib/python3/dist-packages/scipy/__init__.py:146: UserWarning: A NumPy version >=1.17.3 and <1.25.0 is required for this version of SciPy (detected version 1.26.4\n",
      "  warnings.warn(f\"A NumPy version >={np_minversion} and <{np_maxversion}\"\n"
     ]
    },
    {
     "name": "stdout",
     "output_type": "stream",
     "text": [
      "loading direct transformations\n",
      "Output dimensions: 96, 114, 96\n",
      "Output voxel size: 2, 2, 2 mm\n",
      "Resampling carto_volume of S16...   0   1   2   3   4   5   6   7   8   9  10  11  12  13  14  15  16  17  18  19  20  21  22  23  24  25  26  27  28  29  30  31  32  33  34  35  36  37  38  39  40  41  42  43  44  45  46  47  48  49  50  51  52  53  54  55  56  57  58  59  60  61  62  63  64  65  66  67  68  69  70  71  72  73  74  75  76  77  78  79  80  81  82  83  84  85  86  87  88  89  90  91  92  93  94  95  96  97  98  99 100 %\n"
     ]
    },
    {
     "name": "stderr",
     "output_type": "stream",
     "text": [
      "/usr/lib/python3/dist-packages/scipy/__init__.py:146: UserWarning: A NumPy version >=1.17.3 and <1.25.0 is required for this version of SciPy (detected version 1.26.4\n",
      "  warnings.warn(f\"A NumPy version >={np_minversion} and <{np_maxversion}\"\n"
     ]
    },
    {
     "name": "stdout",
     "output_type": "stream",
     "text": [
      "loading direct transformations\n",
      "Output dimensions: 96, 114, 96\n",
      "Output voxel size: 2, 2, 2 mm\n",
      "Resampling carto_volume of S16...   0   1   2   3   4   5   6   7   8   9  10  11  12  13  14  15  16  17  18  19  20  21  22  23  24  25  26  27  28  29  30  31  32  33  34  35  36  37  38  39  40  41  42  43  44  45  46  47  48  49  50  51  52  53  54  55  56  57  58  59  60  61  62  63  64  65  66  67  68  69  70  71  72  73  74  75  76  77  78  79  80  81  82  83  84  85  86  87  88  89  90  91  92  93  94  95  96  97  98  99 100 %\n",
      "ndimage.find_objects(arr) = [(slice(43, 68, None), slice(63, 105, None), slice(40, 76, None), slice(0, 1, None))]\n",
      "/neurospin/dico/data/deep_folding/current/datasets/UkBioBank/skeletons/2mm/L/Lresampled_skeleton_sub-4323239.nii.gz\n",
      "before threshold (array([ 0,  1,  2,  3,  4,  5,  6,  7,  8,  9, 10, 11, 12, 13, 14, 15, 16,\n",
      "       17, 18, 19, 20, 21, 22, 23, 24, 25, 26, 27, 28, 29, 30, 31, 32, 33,\n",
      "       34], dtype=int16), array([1044188,    1621,     878,     566,     428,     366,     300,\n",
      "           287,     257,     218,     183,     201,     169,     156,\n",
      "           149,     123,      95,      91,      89,      52,      45,\n",
      "            30,      32,      15,      18,      14,      13,       9,\n",
      "             9,       6,       6,       4,       2,       2,       2]))\n",
      "DILATION\n",
      "after threshold and dilation (array([0, 1], dtype=int16), array([1036637,   13987]))\n",
      "[ 0.  1.  2.  3.  4.  5.  6.  7.  8.  9. 10. 11. 12. 13. 14. 15. 16. 17.\n",
      " 18. 19. 20. 21. 22. 23. 24. 25. 26. 27. 28. 29. 30. 31. 32. 33. 34.]\n",
      "[[ 9.9996352e-01 -1.0617515e-03 -8.4775500e-03  1.1635056e+00]\n",
      " [ 2.5614055e-03  9.8386264e-01  1.7890717e-01 -1.8005417e+01]\n",
      " [ 8.1507899e-03 -1.7892236e-01  9.8382944e-01  3.1072418e+01]\n",
      " [ 0.0000000e+00  0.0000000e+00  0.0000000e+00  1.0000000e+00]]\n",
      "before threshold (array([ 0,  1,  2,  3,  4,  5,  6,  7,  8,  9, 10, 11, 12, 13, 14, 15, 16,\n",
      "       17, 18, 19, 20, 21, 22, 23, 24, 25, 26, 27, 28, 29, 30, 31, 32, 33,\n",
      "       34], dtype=int16), array([1044188,    1621,     878,     566,     428,     366,     300,\n",
      "           287,     257,     218,     183,     201,     169,     156,\n",
      "           149,     123,      95,      91,      89,      52,      45,\n",
      "            30,      32,      15,      18,      14,      13,       9,\n",
      "             9,       6,       6,       4,       2,       2,       2]))\n",
      "DILATION\n",
      "after threshold and dilation (array([0, 1], dtype=int16), array([1036637,   13987]))\n"
     ]
    },
    {
     "name": "stderr",
     "output_type": "stream",
     "text": [
      "/usr/lib/python3/dist-packages/scipy/__init__.py:146: UserWarning: A NumPy version >=1.17.3 and <1.25.0 is required for this version of SciPy (detected version 1.26.4\n",
      "  warnings.warn(f\"A NumPy version >={np_minversion} and <{np_maxversion}\"\n"
     ]
    },
    {
     "name": "stdout",
     "output_type": "stream",
     "text": [
      "loading direct transformations\n",
      "Output dimensions: 96, 114, 96\n",
      "Output voxel size: 2, 2, 2 mm\n",
      "Resampling carto_volume of S16...   0   1   2   3   4   5   6   7   8   9  10  11  12  13  14  15  16  17  18  19  20  21  22  23  24  25  26  27  28  29  30  31  32  33  34  35  36  37  38  39  40  41  42  43  44  45  46  47  48  49  50  51  52  53  54  55  56  57  58  59  60  61  62  63  64  65  66  67  68  69  70  71  72  73  74  75  76  77  78  79  80  81  82  83  84  85  86  87  88  89  90  91  92  93  94  95  96  97  98  99 100 %\n"
     ]
    },
    {
     "name": "stderr",
     "output_type": "stream",
     "text": [
      "/usr/lib/python3/dist-packages/scipy/__init__.py:146: UserWarning: A NumPy version >=1.17.3 and <1.25.0 is required for this version of SciPy (detected version 1.26.4\n",
      "  warnings.warn(f\"A NumPy version >={np_minversion} and <{np_maxversion}\"\n"
     ]
    },
    {
     "name": "stdout",
     "output_type": "stream",
     "text": [
      "loading direct transformations\n",
      "Output dimensions: 96, 114, 96\n",
      "Output voxel size: 2, 2, 2 mm\n",
      "Resampling carto_volume of S16...   0   1   2   3   4   5   6   7   8   9  10  11  12  13  14  15  16  17  18  19  20  21  22  23  24  25  26  27  28  29  30  31  32  33  34  35  36  37  38  39  40  41  42  43  44  45  46  47  48  49  50  51  52  53  54  55  56  57  58  59  60  61  62  63  64  65  66  67  68  69  70  71  72  73  74  75  76  77  78  79  80  81  82  83  84  85  86  87  88  89  90  91  92  93  94  95  96  97  98  99 100 %\n",
      "ndimage.find_objects(arr) = [(slice(43, 68, None), slice(63, 105, None), slice(40, 76, None), slice(0, 1, None))]\n",
      "/neurospin/dico/data/deep_folding/current/datasets/UkBioBank/skeletons/2mm/L/Lresampled_skeleton_sub-3220768.nii.gz\n",
      "before threshold (array([ 0,  1,  2,  3,  4,  5,  6,  7,  8,  9, 10, 11, 12, 13, 14, 15, 16,\n",
      "       17, 18, 19, 20, 21, 22, 23, 24, 25, 26, 27, 28, 29, 30, 31, 32, 33,\n",
      "       34], dtype=int16), array([1044188,    1621,     878,     566,     428,     366,     300,\n",
      "           287,     257,     218,     183,     201,     169,     156,\n",
      "           149,     123,      95,      91,      89,      52,      45,\n",
      "            30,      32,      15,      18,      14,      13,       9,\n",
      "             9,       6,       6,       4,       2,       2,       2]))\n",
      "DILATION\n",
      "after threshold and dilation (array([0, 1], dtype=int16), array([1036637,   13987]))\n",
      "[ 0.  1.  2.  3.  4.  5.  6.  7.  8.  9. 10. 11. 12. 13. 14. 15. 16. 17.\n",
      " 18. 19. 20. 21. 22. 23. 24. 25. 26. 27. 28. 29. 30. 31. 32. 33. 34.]\n",
      "[[ 9.4155431e-01 -6.4993836e-02 -3.3053175e-01  5.3958805e+01]\n",
      " [-6.3938498e-02  9.2889285e-01 -3.6478758e-01  5.7856453e+01]\n",
      " [ 3.3073753e-01  3.6460102e-01  8.7044746e-01 -8.1613930e+01]\n",
      " [ 0.0000000e+00  0.0000000e+00  0.0000000e+00  1.0000000e+00]]\n",
      "before threshold (array([ 0,  1,  2,  3,  4,  5,  6,  7,  8,  9, 10, 11, 12, 13, 14, 15, 16,\n",
      "       17, 18, 19, 20, 21, 22, 23, 24, 25, 26, 27, 28, 29, 30, 31, 32, 33,\n",
      "       34], dtype=int16), array([1044188,    1621,     878,     566,     428,     366,     300,\n",
      "           287,     257,     218,     183,     201,     169,     156,\n",
      "           149,     123,      95,      91,      89,      52,      45,\n",
      "            30,      32,      15,      18,      14,      13,       9,\n",
      "             9,       6,       6,       4,       2,       2,       2]))\n",
      "DILATION\n",
      "after threshold and dilation (array([0, 1], dtype=int16), array([1036637,   13987]))\n"
     ]
    },
    {
     "name": "stderr",
     "output_type": "stream",
     "text": [
      "/usr/lib/python3/dist-packages/scipy/__init__.py:146: UserWarning: A NumPy version >=1.17.3 and <1.25.0 is required for this version of SciPy (detected version 1.26.4\n",
      "  warnings.warn(f\"A NumPy version >={np_minversion} and <{np_maxversion}\"\n"
     ]
    },
    {
     "name": "stdout",
     "output_type": "stream",
     "text": [
      "loading direct transformations\n",
      "Output dimensions: 96, 114, 96\n",
      "Output voxel size: 2, 2, 2 mm\n",
      "Resampling carto_volume of S16...   0   1   2   3   4   5   6   7   8   9  10  11  12  13  14  15  16  17  18  19  20  21  22  23  24  25  26  27  28  29  30  31  32  33  34  35  36  37  38  39  40  41  42  43  44  45  46  47  48  49  50  51  52  53  54  55  56  57  58  59  60  61  62  63  64  65  66  67  68  69  70  71  72  73  74  75  76  77  78  79  80  81  82  83  84  85  86  87  88  89  90  91  92  93  94  95  96  97  98  99 100 %\n"
     ]
    },
    {
     "name": "stderr",
     "output_type": "stream",
     "text": [
      "/usr/lib/python3/dist-packages/scipy/__init__.py:146: UserWarning: A NumPy version >=1.17.3 and <1.25.0 is required for this version of SciPy (detected version 1.26.4\n",
      "  warnings.warn(f\"A NumPy version >={np_minversion} and <{np_maxversion}\"\n"
     ]
    },
    {
     "name": "stdout",
     "output_type": "stream",
     "text": [
      "loading direct transformations\n",
      "Output dimensions: 96, 114, 96\n",
      "Output voxel size: 2, 2, 2 mm\n",
      "Resampling carto_volume of S16...   0   1   2   3   4   5   6   7   8   9  10  11  12  13  14  15  16  17  18  19  20  21  22  23  24  25  26  27  28  29  30  31  32  33  34  35  36  37  38  39  40  41  42  43  44  45  46  47  48  49  50  51  52  53  54  55  56  57  58  59  60  61  62  63  64  65  66  67  68  69  70  71  72  73  74  75  76  77  78  79  80  81  82  83  84  85  86  87  88  89  90  91  92  93  94  95  96  97  98  99 100 %\n",
      "ndimage.find_objects(arr) = [(slice(43, 68, None), slice(63, 105, None), slice(40, 76, None), slice(0, 1, None))]\n",
      "/neurospin/dico/data/deep_folding/current/datasets/UkBioBank/skeletons/2mm/L/Lresampled_skeleton_sub-4372801.nii.gz\n",
      "before threshold (array([ 0,  1,  2,  3,  4,  5,  6,  7,  8,  9, 10, 11, 12, 13, 14, 15, 16,\n",
      "       17, 18, 19, 20, 21, 22, 23, 24, 25, 26, 27, 28, 29, 30, 31, 32, 33,\n",
      "       34], dtype=int16), array([1044188,    1621,     878,     566,     428,     366,     300,\n",
      "           287,     257,     218,     183,     201,     169,     156,\n",
      "           149,     123,      95,      91,      89,      52,      45,\n",
      "            30,      32,      15,      18,      14,      13,       9,\n",
      "             9,       6,       6,       4,       2,       2,       2]))\n",
      "DILATION\n",
      "after threshold and dilation (array([0, 1], dtype=int16), array([1036637,   13987]))\n",
      "[ 0.  1.  2.  3.  4.  5.  6.  7.  8.  9. 10. 11. 12. 13. 14. 15. 16. 17.\n",
      " 18. 19. 20. 21. 22. 23. 24. 25. 26. 27. 28. 29. 30. 31. 32. 33. 34.]\n",
      "[[ 9.7844666e-01 -3.0623136e-02  2.0421641e-01 -1.5152290e+01]\n",
      " [-6.5540578e-03  9.8383945e-01  1.7893296e-01 -1.6698181e+01]\n",
      " [-2.0639564e-01 -1.7641480e-01  9.6243370e-01  5.9411339e+01]\n",
      " [ 0.0000000e+00  0.0000000e+00  0.0000000e+00  1.0000000e+00]]\n",
      "before threshold (array([ 0,  1,  2,  3,  4,  5,  6,  7,  8,  9, 10, 11, 12, 13, 14, 15, 16,\n",
      "       17, 18, 19, 20, 21, 22, 23, 24, 25, 26, 27, 28, 29, 30, 31, 32, 33,\n",
      "       34], dtype=int16), array([1044188,    1621,     878,     566,     428,     366,     300,\n",
      "           287,     257,     218,     183,     201,     169,     156,\n",
      "           149,     123,      95,      91,      89,      52,      45,\n",
      "            30,      32,      15,      18,      14,      13,       9,\n",
      "             9,       6,       6,       4,       2,       2,       2]))\n",
      "DILATION\n",
      "after threshold and dilation (array([0, 1], dtype=int16), array([1036637,   13987]))\n"
     ]
    },
    {
     "name": "stderr",
     "output_type": "stream",
     "text": [
      "/usr/lib/python3/dist-packages/scipy/__init__.py:146: UserWarning: A NumPy version >=1.17.3 and <1.25.0 is required for this version of SciPy (detected version 1.26.4\n",
      "  warnings.warn(f\"A NumPy version >={np_minversion} and <{np_maxversion}\"\n"
     ]
    },
    {
     "name": "stdout",
     "output_type": "stream",
     "text": [
      "loading direct transformations\n",
      "Output dimensions: 96, 114, 96\n",
      "Output voxel size: 2, 2, 2 mm\n",
      "Resampling carto_volume of S16...   0   1   2   3   4   5   6   7   8   9  10  11  12  13  14  15  16  17  18  19  20  21  22  23  24  25  26  27  28  29  30  31  32  33  34  35  36  37  38  39  40  41  42  43  44  45  46  47  48  49  50  51  52  53  54  55  56  57  58  59  60  61  62  63  64  65  66  67  68  69  70  71  72  73  74  75  76  77  78  79  80  81  82  83  84  85  86  87  88  89  90  91  92  93  94  95  96  97  98  99 100 %\n"
     ]
    },
    {
     "name": "stderr",
     "output_type": "stream",
     "text": [
      "/usr/lib/python3/dist-packages/scipy/__init__.py:146: UserWarning: A NumPy version >=1.17.3 and <1.25.0 is required for this version of SciPy (detected version 1.26.4\n",
      "  warnings.warn(f\"A NumPy version >={np_minversion} and <{np_maxversion}\"\n"
     ]
    },
    {
     "name": "stdout",
     "output_type": "stream",
     "text": [
      "loading direct transformations\n",
      "Output dimensions: 96, 114, 96\n",
      "Output voxel size: 2, 2, 2 mm\n",
      "Resampling carto_volume of S16...   0   1   2   3   4   5   6   7   8   9  10  11  12  13  14  15  16  17  18  19  20  21  22  23  24  25  26  27  28  29  30  31  32  33  34  35  36  37  38  39  40  41  42  43  44  45  46  47  48  49  50  51  52  53  54  55  56  57  58  59  60  61  62  63  64  65  66  67  68  69  70  71  72  73  74  75  76  77  78  79  80  81  82  83  84  85  86  87  88  89  90  91  92  93  94  95  96  97  98  99 100 %\n",
      "ndimage.find_objects(arr) = [(slice(43, 68, None), slice(63, 105, None), slice(40, 76, None), slice(0, 1, None))]\n",
      "/neurospin/dico/data/deep_folding/current/datasets/UkBioBank/skeletons/2mm/L/Lresampled_skeleton_sub-1482435.nii.gz\n",
      "before threshold (array([ 0,  1,  2,  3,  4,  5,  6,  7,  8,  9, 10, 11, 12, 13, 14, 15, 16,\n",
      "       17, 18, 19, 20, 21, 22, 23, 24, 25, 26, 27, 28, 29, 30, 31, 32, 33,\n",
      "       34], dtype=int16), array([1044188,    1621,     878,     566,     428,     366,     300,\n",
      "           287,     257,     218,     183,     201,     169,     156,\n",
      "           149,     123,      95,      91,      89,      52,      45,\n",
      "            30,      32,      15,      18,      14,      13,       9,\n",
      "             9,       6,       6,       4,       2,       2,       2]))\n",
      "DILATION\n",
      "after threshold and dilation (array([0, 1], dtype=int16), array([1036637,   13987]))\n",
      "[ 0.  1.  2.  3.  4.  5.  6.  7.  8.  9. 10. 11. 12. 13. 14. 15. 16. 17.\n",
      " 18. 19. 20. 21. 22. 23. 24. 25. 26. 27. 28. 29. 30. 31. 32. 33. 34.]\n",
      "[[ 9.9815434e-01 -2.1479247e-02 -5.6802765e-02  7.4488602e+00]\n",
      " [ 2.1335341e-02  9.9976742e-01 -3.1387371e-03 -1.9242096e+00]\n",
      " [ 5.6856971e-02  1.9210378e-03  9.9838048e-01 -3.7271194e+00]\n",
      " [ 0.0000000e+00  0.0000000e+00  0.0000000e+00  1.0000000e+00]]\n",
      "before threshold (array([ 0,  1,  2,  3,  4,  5,  6,  7,  8,  9, 10, 11, 12, 13, 14, 15, 16,\n",
      "       17, 18, 19, 20, 21, 22, 23, 24, 25, 26, 27, 28, 29, 30, 31, 32, 33,\n",
      "       34], dtype=int16), array([1044188,    1621,     878,     566,     428,     366,     300,\n",
      "           287,     257,     218,     183,     201,     169,     156,\n",
      "           149,     123,      95,      91,      89,      52,      45,\n",
      "            30,      32,      15,      18,      14,      13,       9,\n",
      "             9,       6,       6,       4,       2,       2,       2]))\n",
      "DILATION\n",
      "after threshold and dilation (array([0, 1], dtype=int16), array([1036637,   13987]))\n"
     ]
    },
    {
     "name": "stderr",
     "output_type": "stream",
     "text": [
      "/usr/lib/python3/dist-packages/scipy/__init__.py:146: UserWarning: A NumPy version >=1.17.3 and <1.25.0 is required for this version of SciPy (detected version 1.26.4\n",
      "  warnings.warn(f\"A NumPy version >={np_minversion} and <{np_maxversion}\"\n"
     ]
    },
    {
     "name": "stdout",
     "output_type": "stream",
     "text": [
      "loading direct transformations\n",
      "Output dimensions: 96, 114, 96\n",
      "Output voxel size: 2, 2, 2 mm\n",
      "Resampling carto_volume of S16...   0   1   2   3   4   5   6   7   8   9  10  11  12  13  14  15  16  17  18  19  20  21  22  23  24  25  26  27  28  29  30  31  32  33  34  35  36  37  38  39  40  41  42  43  44  45  46  47  48  49  50  51  52  53  54  55  56  57  58  59  60  61  62  63  64  65  66  67  68  69  70  71  72  73  74  75  76  77  78  79  80  81  82  83  84  85  86  87  88  89  90  91  92  93  94  95  96  97  98  99 100 %\n"
     ]
    },
    {
     "name": "stderr",
     "output_type": "stream",
     "text": [
      "/usr/lib/python3/dist-packages/scipy/__init__.py:146: UserWarning: A NumPy version >=1.17.3 and <1.25.0 is required for this version of SciPy (detected version 1.26.4\n",
      "  warnings.warn(f\"A NumPy version >={np_minversion} and <{np_maxversion}\"\n"
     ]
    },
    {
     "name": "stdout",
     "output_type": "stream",
     "text": [
      "loading direct transformations\n",
      "Output dimensions: 96, 114, 96\n",
      "Output voxel size: 2, 2, 2 mm\n",
      "Resampling carto_volume of S16...   0   1   2   3   4   5   6   7   8   9  10  11  12  13  14  15  16  17  18  19  20  21  22  23  24  25  26  27  28  29  30  31  32  33  34  35  36  37  38  39  40  41  42  43  44  45  46  47  48  49  50  51  52  53  54  55  56  57  58  59  60  61  62  63  64  65  66  67  68  69  70  71  72  73  74  75  76  77  78  79  80  81  82  83  84  85  86  87  88  89  90  91  92  93  94  95  96  97  98  99 100 %\n",
      "ndimage.find_objects(arr) = [(slice(43, 68, None), slice(63, 105, None), slice(40, 76, None), slice(0, 1, None))]\n",
      "/neurospin/dico/data/deep_folding/current/datasets/UkBioBank/skeletons/2mm/L/Lresampled_skeleton_sub-3314499.nii.gz\n",
      "before threshold (array([ 0,  1,  2,  3,  4,  5,  6,  7,  8,  9, 10, 11, 12, 13, 14, 15, 16,\n",
      "       17, 18, 19, 20, 21, 22, 23, 24, 25, 26, 27, 28, 29, 30, 31, 32, 33,\n",
      "       34], dtype=int16), array([1044188,    1621,     878,     566,     428,     366,     300,\n",
      "           287,     257,     218,     183,     201,     169,     156,\n",
      "           149,     123,      95,      91,      89,      52,      45,\n",
      "            30,      32,      15,      18,      14,      13,       9,\n",
      "             9,       6,       6,       4,       2,       2,       2]))\n",
      "DILATION\n",
      "after threshold and dilation (array([0, 1], dtype=int16), array([1036637,   13987]))\n",
      "[ 0.  1.  2.  3.  4.  5.  6.  7.  8.  9. 10. 11. 12. 13. 14. 15. 16. 17.\n",
      " 18. 19. 20. 21. 22. 23. 24. 25. 26. 27. 28. 29. 30. 31. 32. 33. 34.]\n",
      "[[ 9.5863849e-01 -6.1997402e-02 -2.7779225e-01  4.5607918e+01]\n",
      " [-6.9975734e-02  8.9469707e-01 -4.4115818e-01  7.4043144e+01]\n",
      " [ 2.7589059e-01  4.4234994e-01  8.5335273e-01 -8.5815895e+01]\n",
      " [ 0.0000000e+00  0.0000000e+00  0.0000000e+00  1.0000000e+00]]\n",
      "before threshold (array([ 0,  1,  2,  3,  4,  5,  6,  7,  8,  9, 10, 11, 12, 13, 14, 15, 16,\n",
      "       17, 18, 19, 20, 21, 22, 23, 24, 25, 26, 27, 28, 29, 30, 31, 32, 33,\n",
      "       34], dtype=int16), array([1044188,    1621,     878,     566,     428,     366,     300,\n",
      "           287,     257,     218,     183,     201,     169,     156,\n",
      "           149,     123,      95,      91,      89,      52,      45,\n",
      "            30,      32,      15,      18,      14,      13,       9,\n",
      "             9,       6,       6,       4,       2,       2,       2]))\n",
      "DILATION\n",
      "after threshold and dilation (array([0, 1], dtype=int16), array([1036637,   13987]))\n"
     ]
    },
    {
     "name": "stderr",
     "output_type": "stream",
     "text": [
      "/usr/lib/python3/dist-packages/scipy/__init__.py:146: UserWarning: A NumPy version >=1.17.3 and <1.25.0 is required for this version of SciPy (detected version 1.26.4\n",
      "  warnings.warn(f\"A NumPy version >={np_minversion} and <{np_maxversion}\"\n"
     ]
    },
    {
     "name": "stdout",
     "output_type": "stream",
     "text": [
      "loading direct transformations\n",
      "Output dimensions: 96, 114, 96\n",
      "Output voxel size: 2, 2, 2 mm\n",
      "Resampling carto_volume of S16...   0   1   2   3   4   5   6   7   8   9  10  11  12  13  14  15  16  17  18  19  20  21  22  23  24  25  26  27  28  29  30  31  32  33  34  35  36  37  38  39  40  41  42  43  44  45  46  47  48  49  50  51  52  53  54  55  56  57  58  59  60  61  62  63  64  65  66  67  68  69  70  71  72  73  74  75  76  77  78  79  80  81  82  83  84  85  86  87  88  89  90  91  92  93  94  95  96  97  98  99 100 %\n"
     ]
    },
    {
     "name": "stderr",
     "output_type": "stream",
     "text": [
      "/usr/lib/python3/dist-packages/scipy/__init__.py:146: UserWarning: A NumPy version >=1.17.3 and <1.25.0 is required for this version of SciPy (detected version 1.26.4\n",
      "  warnings.warn(f\"A NumPy version >={np_minversion} and <{np_maxversion}\"\n"
     ]
    },
    {
     "name": "stdout",
     "output_type": "stream",
     "text": [
      "loading direct transformations\n",
      "Output dimensions: 96, 114, 96\n",
      "Output voxel size: 2, 2, 2 mm\n",
      "Resampling carto_volume of S16...   0   1   2   3   4   5   6   7   8   9  10  11  12  13  14  15  16  17  18  19  20  21  22  23  24  25  26  27  28  29  30  31  32  33  34  35  36  37  38  39  40  41  42  43  44  45  46  47  48  49  50  51  52  53  54  55  56  57  58  59  60  61  62  63  64  65  66  67  68  69  70  71  72  73  74  75  76  77  78  79  80  81  82  83  84  85  86  87  88  89  90  91  92  93  94  95  96  97  98  99 100 %\n",
      "ndimage.find_objects(arr) = [(slice(43, 68, None), slice(63, 105, None), slice(40, 76, None), slice(0, 1, None))]\n",
      "/neurospin/dico/data/deep_folding/current/datasets/UkBioBank/skeletons/2mm/L/Lresampled_skeleton_sub-3947659.nii.gz\n",
      "before threshold (array([ 0,  1,  2,  3,  4,  5,  6,  7,  8,  9, 10, 11, 12, 13, 14, 15, 16,\n",
      "       17, 18, 19, 20, 21, 22, 23, 24, 25, 26, 27, 28, 29, 30, 31, 32, 33,\n",
      "       34], dtype=int16), array([1044188,    1621,     878,     566,     428,     366,     300,\n",
      "           287,     257,     218,     183,     201,     169,     156,\n",
      "           149,     123,      95,      91,      89,      52,      45,\n",
      "            30,      32,      15,      18,      14,      13,       9,\n",
      "             9,       6,       6,       4,       2,       2,       2]))\n",
      "DILATION\n",
      "after threshold and dilation (array([0, 1], dtype=int16), array([1036637,   13987]))\n",
      "[ 0.  1.  2.  3.  4.  5.  6.  7.  8.  9. 10. 11. 12. 13. 14. 15. 16. 17.\n",
      " 18. 19. 20. 21. 22. 23. 24. 25. 26. 27. 28. 29. 30. 31. 32. 33. 34.]\n",
      "[[ 1.0000000e+00 -6.6437189e-09 -2.6389255e-11  0.0000000e+00]\n",
      " [ 6.6437185e-09  1.0000000e+00 -1.1422829e-05  1.1901855e-03]\n",
      " [ 2.6465146e-11  1.1422829e-05  1.0000000e+00 -2.0599365e-03]\n",
      " [ 0.0000000e+00  0.0000000e+00  0.0000000e+00  1.0000000e+00]]\n",
      "before threshold (array([ 0,  1,  2,  3,  4,  5,  6,  7,  8,  9, 10, 11, 12, 13, 14, 15, 16,\n",
      "       17, 18, 19, 20, 21, 22, 23, 24, 25, 26, 27, 28, 29, 30, 31, 32, 33,\n",
      "       34], dtype=int16), array([1044188,    1621,     878,     566,     428,     366,     300,\n",
      "           287,     257,     218,     183,     201,     169,     156,\n",
      "           149,     123,      95,      91,      89,      52,      45,\n",
      "            30,      32,      15,      18,      14,      13,       9,\n",
      "             9,       6,       6,       4,       2,       2,       2]))\n",
      "DILATION\n",
      "after threshold and dilation (array([0, 1], dtype=int16), array([1036637,   13987]))\n"
     ]
    },
    {
     "name": "stderr",
     "output_type": "stream",
     "text": [
      "/usr/lib/python3/dist-packages/scipy/__init__.py:146: UserWarning: A NumPy version >=1.17.3 and <1.25.0 is required for this version of SciPy (detected version 1.26.4\n",
      "  warnings.warn(f\"A NumPy version >={np_minversion} and <{np_maxversion}\"\n"
     ]
    },
    {
     "name": "stdout",
     "output_type": "stream",
     "text": [
      "loading direct transformations\n",
      "Output dimensions: 96, 114, 96\n",
      "Output voxel size: 2, 2, 2 mm\n",
      "Resampling carto_volume of S16...   0   1   2   3   4   5   6   7   8   9  10  11  12  13  14  15  16  17  18  19  20  21  22  23  24  25  26  27  28  29  30  31  32  33  34  35  36  37  38  39  40  41  42  43  44  45  46  47  48  49  50  51  52  53  54  55  56  57  58  59  60  61  62  63  64  65  66  67  68  69  70  71  72  73  74  75  76  77  78  79  80  81  82  83  84  85  86  87  88  89  90  91  92  93  94  95  96  97  98  99 100 %\n"
     ]
    },
    {
     "name": "stderr",
     "output_type": "stream",
     "text": [
      "/usr/lib/python3/dist-packages/scipy/__init__.py:146: UserWarning: A NumPy version >=1.17.3 and <1.25.0 is required for this version of SciPy (detected version 1.26.4\n",
      "  warnings.warn(f\"A NumPy version >={np_minversion} and <{np_maxversion}\"\n"
     ]
    },
    {
     "name": "stdout",
     "output_type": "stream",
     "text": [
      "loading direct transformations\n",
      "Output dimensions: 96, 114, 96\n",
      "Output voxel size: 2, 2, 2 mm\n",
      "Resampling carto_volume of S16...   0   1   2   3   4   5   6   7   8   9  10  11  12  13  14  15  16  17  18  19  20  21  22  23  24  25  26  27  28  29  30  31  32  33  34  35  36  37  38  39  40  41  42  43  44  45  46  47  48  49  50  51  52  53  54  55  56  57  58  59  60  61  62  63  64  65  66  67  68  69  70  71  72  73  74  75  76  77  78  79  80  81  82  83  84  85  86  87  88  89  90  91  92  93  94  95  96  97  98  99 100 %\n",
      "ndimage.find_objects(arr) = [(slice(43, 68, None), slice(63, 105, None), slice(40, 76, None), slice(0, 1, None))]\n",
      "/neurospin/dico/data/deep_folding/current/datasets/UkBioBank/skeletons/2mm/L/Lresampled_skeleton_sub-5769817.nii.gz\n",
      "before threshold (array([ 0,  1,  2,  3,  4,  5,  6,  7,  8,  9, 10, 11, 12, 13, 14, 15, 16,\n",
      "       17, 18, 19, 20, 21, 22, 23, 24, 25, 26, 27, 28, 29, 30, 31, 32, 33,\n",
      "       34], dtype=int16), array([1044188,    1621,     878,     566,     428,     366,     300,\n",
      "           287,     257,     218,     183,     201,     169,     156,\n",
      "           149,     123,      95,      91,      89,      52,      45,\n",
      "            30,      32,      15,      18,      14,      13,       9,\n",
      "             9,       6,       6,       4,       2,       2,       2]))\n",
      "DILATION\n",
      "after threshold and dilation (array([0, 1], dtype=int16), array([1036637,   13987]))\n",
      "[ 0.  1.  2.  3.  4.  5.  6.  7.  8.  9. 10. 11. 12. 13. 14. 15. 16. 17.\n",
      " 18. 19. 20. 21. 22. 23. 24. 25. 26. 27. 28. 29. 30. 31. 32. 33. 34.]\n",
      "[[ 1.0000000e+00 -3.1297742e-07  3.7293626e-07  1.5258789e-05]\n",
      " [ 3.2688541e-07  9.9928170e-01 -3.7896018e-02  5.2159576e+00]\n",
      " [-3.6080777e-07  3.7896018e-02  9.9928170e-01 -6.2874756e+00]\n",
      " [ 0.0000000e+00  0.0000000e+00  0.0000000e+00  1.0000000e+00]]\n",
      "before threshold (array([ 0,  1,  2,  3,  4,  5,  6,  7,  8,  9, 10, 11, 12, 13, 14, 15, 16,\n",
      "       17, 18, 19, 20, 21, 22, 23, 24, 25, 26, 27, 28, 29, 30, 31, 32, 33,\n",
      "       34], dtype=int16), array([1044188,    1621,     878,     566,     428,     366,     300,\n",
      "           287,     257,     218,     183,     201,     169,     156,\n",
      "           149,     123,      95,      91,      89,      52,      45,\n",
      "            30,      32,      15,      18,      14,      13,       9,\n",
      "             9,       6,       6,       4,       2,       2,       2]))\n",
      "DILATION\n",
      "after threshold and dilation (array([0, 1], dtype=int16), array([1036637,   13987]))\n"
     ]
    },
    {
     "name": "stderr",
     "output_type": "stream",
     "text": [
      "/usr/lib/python3/dist-packages/scipy/__init__.py:146: UserWarning: A NumPy version >=1.17.3 and <1.25.0 is required for this version of SciPy (detected version 1.26.4\n",
      "  warnings.warn(f\"A NumPy version >={np_minversion} and <{np_maxversion}\"\n"
     ]
    },
    {
     "name": "stdout",
     "output_type": "stream",
     "text": [
      "loading direct transformations\n",
      "Output dimensions: 96, 114, 96\n",
      "Output voxel size: 2, 2, 2 mm\n",
      "Resampling carto_volume of S16...   0   1   2   3   4   5   6   7   8   9  10  11  12  13  14  15  16  17  18  19  20  21  22  23  24  25  26  27  28  29  30  31  32  33  34  35  36  37  38  39  40  41  42  43  44  45  46  47  48  49  50  51  52  53  54  55  56  57  58  59  60  61  62  63  64  65  66  67  68  69  70  71  72  73  74  75  76  77  78  79  80  81  82  83  84  85  86  87  88  89  90  91  92  93  94  95  96  97  98  99 100 %\n"
     ]
    },
    {
     "name": "stderr",
     "output_type": "stream",
     "text": [
      "/usr/lib/python3/dist-packages/scipy/__init__.py:146: UserWarning: A NumPy version >=1.17.3 and <1.25.0 is required for this version of SciPy (detected version 1.26.4\n",
      "  warnings.warn(f\"A NumPy version >={np_minversion} and <{np_maxversion}\"\n"
     ]
    },
    {
     "name": "stdout",
     "output_type": "stream",
     "text": [
      "loading direct transformations\n",
      "Output dimensions: 96, 114, 96\n",
      "Output voxel size: 2, 2, 2 mm\n",
      "Resampling carto_volume of S16...   0   1   2   3   4   5   6   7   8   9  10  11  12  13  14  15  16  17  18  19  20  21  22  23  24  25  26  27  28  29  30  31  32  33  34  35  36  37  38  39  40  41  42  43  44  45  46  47  48  49  50  51  52  53  54  55  56  57  58  59  60  61  62  63  64  65  66  67  68  69  70  71  72  73  74  75  76  77  78  79  80  81  82  83  84  85  86  87  88  89  90  91  92  93  94  95  96  97  98  99 100 %\n",
      "ndimage.find_objects(arr) = [(slice(43, 68, None), slice(63, 105, None), slice(40, 76, None), slice(0, 1, None))]\n",
      "/neurospin/dico/data/deep_folding/current/datasets/UkBioBank/skeletons/2mm/L/Lresampled_skeleton_sub-2271266.nii.gz\n",
      "before threshold (array([ 0,  1,  2,  3,  4,  5,  6,  7,  8,  9, 10, 11, 12, 13, 14, 15, 16,\n",
      "       17, 18, 19, 20, 21, 22, 23, 24, 25, 26, 27, 28, 29, 30, 31, 32, 33,\n",
      "       34], dtype=int16), array([1044188,    1621,     878,     566,     428,     366,     300,\n",
      "           287,     257,     218,     183,     201,     169,     156,\n",
      "           149,     123,      95,      91,      89,      52,      45,\n",
      "            30,      32,      15,      18,      14,      13,       9,\n",
      "             9,       6,       6,       4,       2,       2,       2]))\n",
      "DILATION\n",
      "after threshold and dilation (array([0, 1], dtype=int16), array([1036637,   13987]))\n",
      "[ 0.  1.  2.  3.  4.  5.  6.  7.  8.  9. 10. 11. 12. 13. 14. 15. 16. 17.\n",
      " 18. 19. 20. 21. 22. 23. 24. 25. 26. 27. 28. 29. 30. 31. 32. 33. 34.]\n",
      "[[ 9.9658054e-01  1.3970145e-02 -8.1437729e-02  7.1391754e+00]\n",
      " [ 1.3970221e-02  9.4292527e-01  3.3271131e-01 -2.9384094e+01]\n",
      " [ 8.1437714e-02 -3.3271131e-01  9.3950576e-01  5.2512184e+01]\n",
      " [ 0.0000000e+00  0.0000000e+00  0.0000000e+00  1.0000000e+00]]\n",
      "before threshold (array([ 0,  1,  2,  3,  4,  5,  6,  7,  8,  9, 10, 11, 12, 13, 14, 15, 16,\n",
      "       17, 18, 19, 20, 21, 22, 23, 24, 25, 26, 27, 28, 29, 30, 31, 32, 33,\n",
      "       34], dtype=int16), array([1044188,    1621,     878,     566,     428,     366,     300,\n",
      "           287,     257,     218,     183,     201,     169,     156,\n",
      "           149,     123,      95,      91,      89,      52,      45,\n",
      "            30,      32,      15,      18,      14,      13,       9,\n",
      "             9,       6,       6,       4,       2,       2,       2]))\n",
      "DILATION\n",
      "after threshold and dilation (array([0, 1], dtype=int16), array([1036637,   13987]))\n"
     ]
    },
    {
     "name": "stderr",
     "output_type": "stream",
     "text": [
      "/usr/lib/python3/dist-packages/scipy/__init__.py:146: UserWarning: A NumPy version >=1.17.3 and <1.25.0 is required for this version of SciPy (detected version 1.26.4\n",
      "  warnings.warn(f\"A NumPy version >={np_minversion} and <{np_maxversion}\"\n"
     ]
    },
    {
     "name": "stdout",
     "output_type": "stream",
     "text": [
      "loading direct transformations\n",
      "Output dimensions: 96, 114, 96\n",
      "Output voxel size: 2, 2, 2 mm\n",
      "Resampling carto_volume of S16...   0   1   2   3   4   5   6   7   8   9  10  11  12  13  14  15  16  17  18  19  20  21  22  23  24  25  26  27  28  29  30  31  32  33  34  35  36  37  38  39  40  41  42  43  44  45  46  47  48  49  50  51  52  53  54  55  56  57  58  59  60  61  62  63  64  65  66  67  68  69  70  71  72  73  74  75  76  77  78  79  80  81  82  83  84  85  86  87  88  89  90  91  92  93  94  95  96  97  98  99 100 %\n"
     ]
    },
    {
     "name": "stderr",
     "output_type": "stream",
     "text": [
      "/usr/lib/python3/dist-packages/scipy/__init__.py:146: UserWarning: A NumPy version >=1.17.3 and <1.25.0 is required for this version of SciPy (detected version 1.26.4\n",
      "  warnings.warn(f\"A NumPy version >={np_minversion} and <{np_maxversion}\"\n"
     ]
    },
    {
     "name": "stdout",
     "output_type": "stream",
     "text": [
      "loading direct transformations\n",
      "Output dimensions: 96, 114, 96\n",
      "Output voxel size: 2, 2, 2 mm\n",
      "Resampling carto_volume of S16...   0   1   2   3   4   5   6   7   8   9  10  11  12  13  14  15  16  17  18  19  20  21  22  23  24  25  26  27  28  29  30  31  32  33  34  35  36  37  38  39  40  41  42  43  44  45  46  47  48  49  50  51  52  53  54  55  56  57  58  59  60  61  62  63  64  65  66  67  68  69  70  71  72  73  74  75  76  77  78  79  80  81  82  83  84  85  86  87  88  89  90  91  92  93  94  95  96  97  98  99 100 %\n",
      "ndimage.find_objects(arr) = [(slice(43, 68, None), slice(63, 105, None), slice(40, 76, None), slice(0, 1, None))]\n",
      "/neurospin/dico/data/deep_folding/current/datasets/UkBioBank/skeletons/2mm/L/Lresampled_skeleton_sub-3542303.nii.gz\n",
      "before threshold (array([ 0,  1,  2,  3,  4,  5,  6,  7,  8,  9, 10, 11, 12, 13, 14, 15, 16,\n",
      "       17, 18, 19, 20, 21, 22, 23, 24, 25, 26, 27, 28, 29, 30, 31, 32, 33,\n",
      "       34], dtype=int16), array([1044188,    1621,     878,     566,     428,     366,     300,\n",
      "           287,     257,     218,     183,     201,     169,     156,\n",
      "           149,     123,      95,      91,      89,      52,      45,\n",
      "            30,      32,      15,      18,      14,      13,       9,\n",
      "             9,       6,       6,       4,       2,       2,       2]))\n",
      "DILATION\n",
      "after threshold and dilation (array([0, 1], dtype=int16), array([1036637,   13987]))\n",
      "[ 0.  1.  2.  3.  4.  5.  6.  7.  8.  9. 10. 11. 12. 13. 14. 15. 16. 17.\n",
      " 18. 19. 20. 21. 22. 23. 24. 25. 26. 27. 28. 29. 30. 31. 32. 33. 34.]\n",
      "[[ 8.2763767e-01 -1.1632366e-01 -5.4907620e-01  9.9498016e+01]\n",
      " [-9.5187627e-02  9.3502474e-01 -3.4156710e-01  5.8962952e+01]\n",
      " [ 5.5313218e-01  3.3495906e-01  7.6278913e-01 -8.7892487e+01]\n",
      " [ 0.0000000e+00  0.0000000e+00  0.0000000e+00  1.0000000e+00]]\n",
      "before threshold (array([ 0,  1,  2,  3,  4,  5,  6,  7,  8,  9, 10, 11, 12, 13, 14, 15, 16,\n",
      "       17, 18, 19, 20, 21, 22, 23, 24, 25, 26, 27, 28, 29, 30, 31, 32, 33,\n",
      "       34], dtype=int16), array([1044188,    1621,     878,     566,     428,     366,     300,\n",
      "           287,     257,     218,     183,     201,     169,     156,\n",
      "           149,     123,      95,      91,      89,      52,      45,\n",
      "            30,      32,      15,      18,      14,      13,       9,\n",
      "             9,       6,       6,       4,       2,       2,       2]))\n",
      "DILATION\n",
      "after threshold and dilation (array([0, 1], dtype=int16), array([1036637,   13987]))\n"
     ]
    },
    {
     "name": "stderr",
     "output_type": "stream",
     "text": [
      "/usr/lib/python3/dist-packages/scipy/__init__.py:146: UserWarning: A NumPy version >=1.17.3 and <1.25.0 is required for this version of SciPy (detected version 1.26.4\n",
      "  warnings.warn(f\"A NumPy version >={np_minversion} and <{np_maxversion}\"\n"
     ]
    },
    {
     "name": "stdout",
     "output_type": "stream",
     "text": [
      "loading direct transformations\n",
      "Output dimensions: 96, 114, 96\n",
      "Output voxel size: 2, 2, 2 mm\n",
      "Resampling carto_volume of S16...   0   1   2   3   4   5   6   7   8   9  10  11  12  13  14  15  16  17  18  19  20  21  22  23  24  25  26  27  28  29  30  31  32  33  34  35  36  37  38  39  40  41  42  43  44  45  46  47  48  49  50  51  52  53  54  55  56  57  58  59  60  61  62  63  64  65  66  67  68  69  70  71  72  73  74  75  76  77  78  79  80  81  82  83  84  85  86  87  88  89  90  91  92  93  94  95  96  97  98  99 100 %\n"
     ]
    },
    {
     "name": "stderr",
     "output_type": "stream",
     "text": [
      "/usr/lib/python3/dist-packages/scipy/__init__.py:146: UserWarning: A NumPy version >=1.17.3 and <1.25.0 is required for this version of SciPy (detected version 1.26.4\n",
      "  warnings.warn(f\"A NumPy version >={np_minversion} and <{np_maxversion}\"\n"
     ]
    },
    {
     "name": "stdout",
     "output_type": "stream",
     "text": [
      "loading direct transformations\n",
      "Output dimensions: 96, 114, 96\n",
      "Output voxel size: 2, 2, 2 mm\n",
      "Resampling carto_volume of S16...   0   1   2   3   4   5   6   7   8   9  10  11  12  13  14  15  16  17  18  19  20  21  22  23  24  25  26  27  28  29  30  31  32  33  34  35  36  37  38  39  40  41  42  43  44  45  46  47  48  49  50  51  52  53  54  55  56  57  58  59  60  61  62  63  64  65  66  67  68  69  70  71  72  73  74  75  76  77  78  79  80  81  82  83  84  85  86  87  88  89  90  91  92  93  94  95  96  97  98  99 100 %\n",
      "ndimage.find_objects(arr) = [(slice(43, 68, None), slice(63, 105, None), slice(40, 76, None), slice(0, 1, None))]\n",
      "/neurospin/dico/data/deep_folding/current/datasets/UkBioBank/skeletons/2mm/L/Lresampled_skeleton_sub-1876468.nii.gz\n",
      "before threshold (array([ 0,  1,  2,  3,  4,  5,  6,  7,  8,  9, 10, 11, 12, 13, 14, 15, 16,\n",
      "       17, 18, 19, 20, 21, 22, 23, 24, 25, 26, 27, 28, 29, 30, 31, 32, 33,\n",
      "       34], dtype=int16), array([1044188,    1621,     878,     566,     428,     366,     300,\n",
      "           287,     257,     218,     183,     201,     169,     156,\n",
      "           149,     123,      95,      91,      89,      52,      45,\n",
      "            30,      32,      15,      18,      14,      13,       9,\n",
      "             9,       6,       6,       4,       2,       2,       2]))\n",
      "DILATION\n",
      "after threshold and dilation (array([0, 1], dtype=int16), array([1036637,   13987]))\n",
      "[ 0.  1.  2.  3.  4.  5.  6.  7.  8.  9. 10. 11. 12. 13. 14. 15. 16. 17.\n",
      " 18. 19. 20. 21. 22. 23. 24. 25. 26. 27. 28. 29. 30. 31. 32. 33. 34.]\n",
      "[[ 1.0000000e+00 -4.9513449e-08 -5.1525717e-07  6.8664551e-05]\n",
      " [-6.9315945e-08  9.7364038e-01 -2.2808851e-01  2.9133133e+01]\n",
      " [ 5.1296865e-07  2.2808851e-01  9.7364038e-01 -3.4261871e+01]\n",
      " [ 0.0000000e+00  0.0000000e+00  0.0000000e+00  1.0000000e+00]]\n",
      "before threshold (array([ 0,  1,  2,  3,  4,  5,  6,  7,  8,  9, 10, 11, 12, 13, 14, 15, 16,\n",
      "       17, 18, 19, 20, 21, 22, 23, 24, 25, 26, 27, 28, 29, 30, 31, 32, 33,\n",
      "       34], dtype=int16), array([1044188,    1621,     878,     566,     428,     366,     300,\n",
      "           287,     257,     218,     183,     201,     169,     156,\n",
      "           149,     123,      95,      91,      89,      52,      45,\n",
      "            30,      32,      15,      18,      14,      13,       9,\n",
      "             9,       6,       6,       4,       2,       2,       2]))\n",
      "DILATION\n",
      "after threshold and dilation (array([0, 1], dtype=int16), array([1036637,   13987]))\n"
     ]
    },
    {
     "name": "stderr",
     "output_type": "stream",
     "text": [
      "/usr/lib/python3/dist-packages/scipy/__init__.py:146: UserWarning: A NumPy version >=1.17.3 and <1.25.0 is required for this version of SciPy (detected version 1.26.4\n",
      "  warnings.warn(f\"A NumPy version >={np_minversion} and <{np_maxversion}\"\n"
     ]
    },
    {
     "name": "stdout",
     "output_type": "stream",
     "text": [
      "loading direct transformations\n",
      "Output dimensions: 96, 114, 96\n",
      "Output voxel size: 2, 2, 2 mm\n",
      "Resampling carto_volume of S16...   0   1   2   3   4   5   6   7   8   9  10  11  12  13  14  15  16  17  18  19  20  21  22  23  24  25  26  27  28  29  30  31  32  33  34  35  36  37  38  39  40  41  42  43  44  45  46  47  48  49  50  51  52  53  54  55  56  57  58  59  60  61  62  63  64  65  66  67  68  69  70  71  72  73  74  75  76  77  78  79  80  81  82  83  84  85  86  87  88  89  90  91  92  93  94  95  96  97  98  99 100 %\n"
     ]
    },
    {
     "name": "stderr",
     "output_type": "stream",
     "text": [
      "/usr/lib/python3/dist-packages/scipy/__init__.py:146: UserWarning: A NumPy version >=1.17.3 and <1.25.0 is required for this version of SciPy (detected version 1.26.4\n",
      "  warnings.warn(f\"A NumPy version >={np_minversion} and <{np_maxversion}\"\n"
     ]
    },
    {
     "name": "stdout",
     "output_type": "stream",
     "text": [
      "loading direct transformations\n",
      "Output dimensions: 96, 114, 96\n",
      "Output voxel size: 2, 2, 2 mm\n",
      "Resampling carto_volume of S16...   0   1   2   3   4   5   6   7   8   9  10  11  12  13  14  15  16  17  18  19  20  21  22  23  24  25  26  27  28  29  30  31  32  33  34  35  36  37  38  39  40  41  42  43  44  45  46  47  48  49  50  51  52  53  54  55  56  57  58  59  60  61  62  63  64  65  66  67  68  69  70  71  72  73  74  75  76  77  78  79  80  81  82  83  84  85  86  87  88  89  90  91  92  93  94  95  96  97  98  99 100 %\n",
      "ndimage.find_objects(arr) = [(slice(43, 68, None), slice(63, 105, None), slice(40, 76, None), slice(0, 1, None))]\n",
      "/neurospin/dico/data/deep_folding/current/datasets/UkBioBank/skeletons/2mm/L/Lresampled_skeleton_sub-1508718.nii.gz\n",
      "before threshold (array([ 0,  1,  2,  3,  4,  5,  6,  7,  8,  9, 10, 11, 12, 13, 14, 15, 16,\n",
      "       17, 18, 19, 20, 21, 22, 23, 24, 25, 26, 27, 28, 29, 30, 31, 32, 33,\n",
      "       34], dtype=int16), array([1044188,    1621,     878,     566,     428,     366,     300,\n",
      "           287,     257,     218,     183,     201,     169,     156,\n",
      "           149,     123,      95,      91,      89,      52,      45,\n",
      "            30,      32,      15,      18,      14,      13,       9,\n",
      "             9,       6,       6,       4,       2,       2,       2]))\n",
      "DILATION\n",
      "after threshold and dilation (array([0, 1], dtype=int16), array([1036637,   13987]))\n",
      "[ 0.  1.  2.  3.  4.  5.  6.  7.  8.  9. 10. 11. 12. 13. 14. 15. 16. 17.\n",
      " 18. 19. 20. 21. 22. 23. 24. 25. 26. 27. 28. 29. 30. 31. 32. 33. 34.]\n",
      "[[ 9.9504191e-01 -9.8580830e-02 -1.3170538e-02  1.8260262e+01]\n",
      " [ 9.9316098e-02  9.7784406e-01  1.8427506e-01 -2.7505966e+01]\n",
      " [-5.2872570e-03 -1.8466945e-01  9.8278648e-01  3.2872025e+01]\n",
      " [ 0.0000000e+00  0.0000000e+00  0.0000000e+00  1.0000000e+00]]\n",
      "before threshold (array([ 0,  1,  2,  3,  4,  5,  6,  7,  8,  9, 10, 11, 12, 13, 14, 15, 16,\n",
      "       17, 18, 19, 20, 21, 22, 23, 24, 25, 26, 27, 28, 29, 30, 31, 32, 33,\n",
      "       34], dtype=int16), array([1044188,    1621,     878,     566,     428,     366,     300,\n",
      "           287,     257,     218,     183,     201,     169,     156,\n",
      "           149,     123,      95,      91,      89,      52,      45,\n",
      "            30,      32,      15,      18,      14,      13,       9,\n",
      "             9,       6,       6,       4,       2,       2,       2]))\n",
      "DILATION\n",
      "after threshold and dilation (array([0, 1], dtype=int16), array([1036637,   13987]))\n"
     ]
    },
    {
     "name": "stderr",
     "output_type": "stream",
     "text": [
      "/usr/lib/python3/dist-packages/scipy/__init__.py:146: UserWarning: A NumPy version >=1.17.3 and <1.25.0 is required for this version of SciPy (detected version 1.26.4\n",
      "  warnings.warn(f\"A NumPy version >={np_minversion} and <{np_maxversion}\"\n"
     ]
    },
    {
     "name": "stdout",
     "output_type": "stream",
     "text": [
      "loading direct transformations\n",
      "Output dimensions: 96, 114, 96\n",
      "Output voxel size: 2, 2, 2 mm\n",
      "Resampling carto_volume of S16...   0   1   2   3   4   5   6   7   8   9  10  11  12  13  14  15  16  17  18  19  20  21  22  23  24  25  26  27  28  29  30  31  32  33  34  35  36  37  38  39  40  41  42  43  44  45  46  47  48  49  50  51  52  53  54  55  56  57  58  59  60  61  62  63  64  65  66  67  68  69  70  71  72  73  74  75  76  77  78  79  80  81  82  83  84  85  86  87  88  89  90  91  92  93  94  95  96  97  98  99 100 %\n"
     ]
    },
    {
     "name": "stderr",
     "output_type": "stream",
     "text": [
      "/usr/lib/python3/dist-packages/scipy/__init__.py:146: UserWarning: A NumPy version >=1.17.3 and <1.25.0 is required for this version of SciPy (detected version 1.26.4\n",
      "  warnings.warn(f\"A NumPy version >={np_minversion} and <{np_maxversion}\"\n"
     ]
    },
    {
     "name": "stdout",
     "output_type": "stream",
     "text": [
      "loading direct transformations\n",
      "Output dimensions: 96, 114, 96\n",
      "Output voxel size: 2, 2, 2 mm\n",
      "Resampling carto_volume of S16...   0   1   2   3   4   5   6   7   8   9  10  11  12  13  14  15  16  17  18  19  20  21  22  23  24  25  26  27  28  29  30  31  32  33  34  35  36  37  38  39  40  41  42  43  44  45  46  47  48  49  50  51  52  53  54  55  56  57  58  59  60  61  62  63  64  65  66  67  68  69  70  71  72  73  74  75  76  77  78  79  80  81  82  83  84  85  86  87  88  89  90  91  92  93  94  95  96  97  98  99 100 %\n",
      "ndimage.find_objects(arr) = [(slice(43, 68, None), slice(63, 105, None), slice(40, 76, None), slice(0, 1, None))]\n",
      "/neurospin/dico/data/deep_folding/current/datasets/UkBioBank/skeletons/2mm/L/Lresampled_skeleton_sub-3001704.nii.gz\n",
      "before threshold (array([ 0,  1,  2,  3,  4,  5,  6,  7,  8,  9, 10, 11, 12, 13, 14, 15, 16,\n",
      "       17, 18, 19, 20, 21, 22, 23, 24, 25, 26, 27, 28, 29, 30, 31, 32, 33,\n",
      "       34], dtype=int16), array([1044188,    1621,     878,     566,     428,     366,     300,\n",
      "           287,     257,     218,     183,     201,     169,     156,\n",
      "           149,     123,      95,      91,      89,      52,      45,\n",
      "            30,      32,      15,      18,      14,      13,       9,\n",
      "             9,       6,       6,       4,       2,       2,       2]))\n",
      "DILATION\n",
      "after threshold and dilation (array([0, 1], dtype=int16), array([1036637,   13987]))\n",
      "[ 0.  1.  2.  3.  4.  5.  6.  7.  8.  9. 10. 11. 12. 13. 14. 15. 16. 17.\n",
      " 18. 19. 20. 21. 22. 23. 24. 25. 26. 27. 28. 29. 30. 31. 32. 33. 34.]\n",
      "[[ 9.9929255e-01 -1.0517982e-03 -3.7593231e-02  4.4419327e+00]\n",
      " [ 6.5819151e-03  9.8907202e-01  1.4728595e-01 -1.6376740e+01]\n",
      " [ 3.7027497e-02 -1.4742920e-01  9.8837930e-01  2.4207169e+01]\n",
      " [ 0.0000000e+00  0.0000000e+00  0.0000000e+00  1.0000000e+00]]\n",
      "before threshold (array([ 0,  1,  2,  3,  4,  5,  6,  7,  8,  9, 10, 11, 12, 13, 14, 15, 16,\n",
      "       17, 18, 19, 20, 21, 22, 23, 24, 25, 26, 27, 28, 29, 30, 31, 32, 33,\n",
      "       34], dtype=int16), array([1044188,    1621,     878,     566,     428,     366,     300,\n",
      "           287,     257,     218,     183,     201,     169,     156,\n",
      "           149,     123,      95,      91,      89,      52,      45,\n",
      "            30,      32,      15,      18,      14,      13,       9,\n",
      "             9,       6,       6,       4,       2,       2,       2]))\n",
      "DILATION\n",
      "after threshold and dilation (array([0, 1], dtype=int16), array([1036637,   13987]))\n"
     ]
    },
    {
     "name": "stderr",
     "output_type": "stream",
     "text": [
      "/usr/lib/python3/dist-packages/scipy/__init__.py:146: UserWarning: A NumPy version >=1.17.3 and <1.25.0 is required for this version of SciPy (detected version 1.26.4\n",
      "  warnings.warn(f\"A NumPy version >={np_minversion} and <{np_maxversion}\"\n"
     ]
    },
    {
     "name": "stdout",
     "output_type": "stream",
     "text": [
      "loading direct transformations\n",
      "Output dimensions: 96, 114, 96\n",
      "Output voxel size: 2, 2, 2 mm\n",
      "Resampling carto_volume of S16...   0   1   2   3   4   5   6   7   8   9  10  11  12  13  14  15  16  17  18  19  20  21  22  23  24  25  26  27  28  29  30  31  32  33  34  35  36  37  38  39  40  41  42  43  44  45  46  47  48  49  50  51  52  53  54  55  56  57  58  59  60  61  62  63  64  65  66  67  68  69  70  71  72  73  74  75  76  77  78  79  80  81  82  83  84  85  86  87  88  89  90  91  92  93  94  95  96  97  98  99 100 %\n"
     ]
    },
    {
     "name": "stderr",
     "output_type": "stream",
     "text": [
      "/usr/lib/python3/dist-packages/scipy/__init__.py:146: UserWarning: A NumPy version >=1.17.3 and <1.25.0 is required for this version of SciPy (detected version 1.26.4\n",
      "  warnings.warn(f\"A NumPy version >={np_minversion} and <{np_maxversion}\"\n"
     ]
    },
    {
     "name": "stdout",
     "output_type": "stream",
     "text": [
      "loading direct transformations\n",
      "Output dimensions: 96, 114, 96\n",
      "Output voxel size: 2, 2, 2 mm\n",
      "Resampling carto_volume of S16...   0   1   2   3   4   5   6   7   8   9  10  11  12  13  14  15  16  17  18  19  20  21  22  23  24  25  26  27  28  29  30  31  32  33  34  35  36  37  38  39  40  41  42  43  44  45  46  47  48  49  50  51  52  53  54  55  56  57  58  59  60  61  62  63  64  65  66  67  68  69  70  71  72  73  74  75  76  77  78  79  80  81  82  83  84  85  86  87  88  89  90  91  92  93  94  95  96  97  98  99 100 %\n",
      "ndimage.find_objects(arr) = [(slice(43, 68, None), slice(63, 105, None), slice(40, 76, None), slice(0, 1, None))]\n",
      "/neurospin/dico/data/deep_folding/current/datasets/UkBioBank/skeletons/2mm/L/Lresampled_skeleton_sub-1817988.nii.gz\n",
      "before threshold (array([ 0,  1,  2,  3,  4,  5,  6,  7,  8,  9, 10, 11, 12, 13, 14, 15, 16,\n",
      "       17, 18, 19, 20, 21, 22, 23, 24, 25, 26, 27, 28, 29, 30, 31, 32, 33,\n",
      "       34], dtype=int16), array([1044188,    1621,     878,     566,     428,     366,     300,\n",
      "           287,     257,     218,     183,     201,     169,     156,\n",
      "           149,     123,      95,      91,      89,      52,      45,\n",
      "            30,      32,      15,      18,      14,      13,       9,\n",
      "             9,       6,       6,       4,       2,       2,       2]))\n",
      "DILATION\n",
      "after threshold and dilation (array([0, 1], dtype=int16), array([1036637,   13987]))\n",
      "[ 0.  1.  2.  3.  4.  5.  6.  7.  8.  9. 10. 11. 12. 13. 14. 15. 16. 17.\n",
      " 18. 19. 20. 21. 22. 23. 24. 25. 26. 27. 28. 29. 30. 31. 32. 33. 34.]\n",
      "[[ 1.0000000e+00  1.3334355e-06 -2.6320376e-05  2.9296875e-03]\n",
      " [-1.1287249e-06  9.9996978e-01  7.7761160e-03 -8.8188171e-01]\n",
      " [ 2.6329950e-05 -7.7761156e-03  9.9996978e-01  1.1356735e+00]\n",
      " [ 0.0000000e+00  0.0000000e+00  0.0000000e+00  1.0000000e+00]]\n",
      "before threshold (array([ 0,  1,  2,  3,  4,  5,  6,  7,  8,  9, 10, 11, 12, 13, 14, 15, 16,\n",
      "       17, 18, 19, 20, 21, 22, 23, 24, 25, 26, 27, 28, 29, 30, 31, 32, 33,\n",
      "       34], dtype=int16), array([1044188,    1621,     878,     566,     428,     366,     300,\n",
      "           287,     257,     218,     183,     201,     169,     156,\n",
      "           149,     123,      95,      91,      89,      52,      45,\n",
      "            30,      32,      15,      18,      14,      13,       9,\n",
      "             9,       6,       6,       4,       2,       2,       2]))\n",
      "DILATION\n",
      "after threshold and dilation (array([0, 1], dtype=int16), array([1036637,   13987]))\n"
     ]
    },
    {
     "name": "stderr",
     "output_type": "stream",
     "text": [
      "/usr/lib/python3/dist-packages/scipy/__init__.py:146: UserWarning: A NumPy version >=1.17.3 and <1.25.0 is required for this version of SciPy (detected version 1.26.4\n",
      "  warnings.warn(f\"A NumPy version >={np_minversion} and <{np_maxversion}\"\n"
     ]
    },
    {
     "name": "stdout",
     "output_type": "stream",
     "text": [
      "loading direct transformations\n",
      "Output dimensions: 96, 114, 96\n",
      "Output voxel size: 2, 2, 2 mm\n",
      "Resampling carto_volume of S16...   0   1   2   3   4   5   6   7   8   9  10  11  12  13  14  15  16  17  18  19  20  21  22  23  24  25  26  27  28  29  30  31  32  33  34  35  36  37  38  39  40  41  42  43  44  45  46  47  48  49  50  51  52  53  54  55  56  57  58  59  60  61  62  63  64  65  66  67  68  69  70  71  72  73  74  75  76  77  78  79  80  81  82  83  84  85  86  87  88  89  90  91  92  93  94  95  96  97  98  99 100 %\n"
     ]
    },
    {
     "name": "stderr",
     "output_type": "stream",
     "text": [
      "/usr/lib/python3/dist-packages/scipy/__init__.py:146: UserWarning: A NumPy version >=1.17.3 and <1.25.0 is required for this version of SciPy (detected version 1.26.4\n",
      "  warnings.warn(f\"A NumPy version >={np_minversion} and <{np_maxversion}\"\n"
     ]
    },
    {
     "name": "stdout",
     "output_type": "stream",
     "text": [
      "loading direct transformations\n",
      "Output dimensions: 96, 114, 96\n",
      "Output voxel size: 2, 2, 2 mm\n",
      "Resampling carto_volume of S16...   0   1   2   3   4   5   6   7   8   9  10  11  12  13  14  15  16  17  18  19  20  21  22  23  24  25  26  27  28  29  30  31  32  33  34  35  36  37  38  39  40  41  42  43  44  45  46  47  48  49  50  51  52  53  54  55  56  57  58  59  60  61  62  63  64  65  66  67  68  69  70  71  72  73  74  75  76  77  78  79  80  81  82  83  84  85  86  87  88  89  90  91  92  93  94  95  96  97  98  99 100 %\n",
      "ndimage.find_objects(arr) = [(slice(43, 68, None), slice(63, 105, None), slice(40, 76, None), slice(0, 1, None))]\n",
      "/neurospin/dico/data/deep_folding/current/datasets/UkBioBank/skeletons/2mm/L/Lresampled_skeleton_sub-4818279.nii.gz\n",
      "before threshold (array([ 0,  1,  2,  3,  4,  5,  6,  7,  8,  9, 10, 11, 12, 13, 14, 15, 16,\n",
      "       17, 18, 19, 20, 21, 22, 23, 24, 25, 26, 27, 28, 29, 30, 31, 32, 33,\n",
      "       34], dtype=int16), array([1044188,    1621,     878,     566,     428,     366,     300,\n",
      "           287,     257,     218,     183,     201,     169,     156,\n",
      "           149,     123,      95,      91,      89,      52,      45,\n",
      "            30,      32,      15,      18,      14,      13,       9,\n",
      "             9,       6,       6,       4,       2,       2,       2]))\n",
      "DILATION\n",
      "after threshold and dilation (array([0, 1], dtype=int16), array([1036637,   13987]))\n",
      "[ 0.  1.  2.  3.  4.  5.  6.  7.  8.  9. 10. 11. 12. 13. 14. 15. 16. 17.\n",
      " 18. 19. 20. 21. 22. 23. 24. 25. 26. 27. 28. 29. 30. 31. 32. 33. 34.]\n",
      "[[ 1.0000000e+00  8.4279719e-08 -6.3311882e-07  5.3405762e-05]\n",
      " [-5.2470970e-08  9.9874550e-01  5.0074361e-02 -4.1962585e+00]\n",
      " [ 6.3654477e-07 -5.0074361e-02  9.9874550e-01  8.4003296e+00]\n",
      " [ 0.0000000e+00  0.0000000e+00  0.0000000e+00  1.0000000e+00]]\n",
      "before threshold (array([ 0,  1,  2,  3,  4,  5,  6,  7,  8,  9, 10, 11, 12, 13, 14, 15, 16,\n",
      "       17, 18, 19, 20, 21, 22, 23, 24, 25, 26, 27, 28, 29, 30, 31, 32, 33,\n",
      "       34], dtype=int16), array([1044188,    1621,     878,     566,     428,     366,     300,\n",
      "           287,     257,     218,     183,     201,     169,     156,\n",
      "           149,     123,      95,      91,      89,      52,      45,\n",
      "            30,      32,      15,      18,      14,      13,       9,\n",
      "             9,       6,       6,       4,       2,       2,       2]))\n",
      "DILATION\n",
      "after threshold and dilation (array([0, 1], dtype=int16), array([1036637,   13987]))\n"
     ]
    },
    {
     "name": "stderr",
     "output_type": "stream",
     "text": [
      "/usr/lib/python3/dist-packages/scipy/__init__.py:146: UserWarning: A NumPy version >=1.17.3 and <1.25.0 is required for this version of SciPy (detected version 1.26.4\n",
      "  warnings.warn(f\"A NumPy version >={np_minversion} and <{np_maxversion}\"\n"
     ]
    },
    {
     "name": "stdout",
     "output_type": "stream",
     "text": [
      "loading direct transformations\n",
      "Output dimensions: 96, 114, 96\n",
      "Output voxel size: 2, 2, 2 mm\n",
      "Resampling carto_volume of S16...   0   1   2   3   4   5   6   7   8   9  10  11  12  13  14  15  16  17  18  19  20  21  22  23  24  25  26  27  28  29  30  31  32  33  34  35  36  37  38  39  40  41  42  43  44  45  46  47  48  49  50  51  52  53  54  55  56  57  58  59  60  61  62  63  64  65  66  67  68  69  70  71  72  73  74  75  76  77  78  79  80  81  82  83  84  85  86  87  88  89  90  91  92  93  94  95  96  97  98  99 100 %\n"
     ]
    },
    {
     "name": "stderr",
     "output_type": "stream",
     "text": [
      "/usr/lib/python3/dist-packages/scipy/__init__.py:146: UserWarning: A NumPy version >=1.17.3 and <1.25.0 is required for this version of SciPy (detected version 1.26.4\n",
      "  warnings.warn(f\"A NumPy version >={np_minversion} and <{np_maxversion}\"\n"
     ]
    },
    {
     "name": "stdout",
     "output_type": "stream",
     "text": [
      "loading direct transformations\n",
      "Output dimensions: 96, 114, 96\n",
      "Output voxel size: 2, 2, 2 mm\n",
      "Resampling carto_volume of S16...   0   1   2   3   4   5   6   7   8   9  10  11  12  13  14  15  16  17  18  19  20  21  22  23  24  25  26  27  28  29  30  31  32  33  34  35  36  37  38  39  40  41  42  43  44  45  46  47  48  49  50  51  52  53  54  55  56  57  58  59  60  61  62  63  64  65  66  67  68  69  70  71  72  73  74  75  76  77  78  79  80  81  82  83  84  85  86  87  88  89  90  91  92  93  94  95  96  97  98  99 100 %\n",
      "ndimage.find_objects(arr) = [(slice(43, 68, None), slice(63, 105, None), slice(40, 76, None), slice(0, 1, None))]\n",
      "/neurospin/dico/data/deep_folding/current/datasets/UkBioBank/skeletons/2mm/L/Lresampled_skeleton_sub-3956683.nii.gz\n",
      "before threshold (array([ 0,  1,  2,  3,  4,  5,  6,  7,  8,  9, 10, 11, 12, 13, 14, 15, 16,\n",
      "       17, 18, 19, 20, 21, 22, 23, 24, 25, 26, 27, 28, 29, 30, 31, 32, 33,\n",
      "       34], dtype=int16), array([1044188,    1621,     878,     566,     428,     366,     300,\n",
      "           287,     257,     218,     183,     201,     169,     156,\n",
      "           149,     123,      95,      91,      89,      52,      45,\n",
      "            30,      32,      15,      18,      14,      13,       9,\n",
      "             9,       6,       6,       4,       2,       2,       2]))\n",
      "DILATION\n",
      "after threshold and dilation (array([0, 1], dtype=int16), array([1036637,   13987]))\n",
      "[ 0.  1.  2.  3.  4.  5.  6.  7.  8.  9. 10. 11. 12. 13. 14. 15. 16. 17.\n",
      " 18. 19. 20. 21. 22. 23. 24. 25. 26. 27. 28. 29. 30. 31. 32. 33. 34.]\n",
      "[[ 0.9977748   0.05533088 -0.03720131 -4.9947815 ]\n",
      " [-0.05313545  0.9969237   0.0576178  -0.2609558 ]\n",
      " [ 0.04027491 -0.05551288  0.9976454   5.247116  ]\n",
      " [ 0.          0.          0.          1.        ]]\n",
      "before threshold (array([ 0,  1,  2,  3,  4,  5,  6,  7,  8,  9, 10, 11, 12, 13, 14, 15, 16,\n",
      "       17, 18, 19, 20, 21, 22, 23, 24, 25, 26, 27, 28, 29, 30, 31, 32, 33,\n",
      "       34], dtype=int16), array([1044188,    1621,     878,     566,     428,     366,     300,\n",
      "           287,     257,     218,     183,     201,     169,     156,\n",
      "           149,     123,      95,      91,      89,      52,      45,\n",
      "            30,      32,      15,      18,      14,      13,       9,\n",
      "             9,       6,       6,       4,       2,       2,       2]))\n",
      "DILATION\n",
      "after threshold and dilation (array([0, 1], dtype=int16), array([1036637,   13987]))\n"
     ]
    },
    {
     "name": "stderr",
     "output_type": "stream",
     "text": [
      "/usr/lib/python3/dist-packages/scipy/__init__.py:146: UserWarning: A NumPy version >=1.17.3 and <1.25.0 is required for this version of SciPy (detected version 1.26.4\n",
      "  warnings.warn(f\"A NumPy version >={np_minversion} and <{np_maxversion}\"\n"
     ]
    },
    {
     "name": "stdout",
     "output_type": "stream",
     "text": [
      "loading direct transformations\n",
      "Output dimensions: 96, 114, 96\n",
      "Output voxel size: 2, 2, 2 mm\n",
      "Resampling carto_volume of S16...   0   1   2   3   4   5   6   7   8   9  10  11  12  13  14  15  16  17  18  19  20  21  22  23  24  25  26  27  28  29  30  31  32  33  34  35  36  37  38  39  40  41  42  43  44  45  46  47  48  49  50  51  52  53  54  55  56  57  58  59  60  61  62  63  64  65  66  67  68  69  70  71  72  73  74  75  76  77  78  79  80  81  82  83  84  85  86  87  88  89  90  91  92  93  94  95  96  97  98  99 100 %\n"
     ]
    },
    {
     "name": "stderr",
     "output_type": "stream",
     "text": [
      "/usr/lib/python3/dist-packages/scipy/__init__.py:146: UserWarning: A NumPy version >=1.17.3 and <1.25.0 is required for this version of SciPy (detected version 1.26.4\n",
      "  warnings.warn(f\"A NumPy version >={np_minversion} and <{np_maxversion}\"\n"
     ]
    },
    {
     "name": "stdout",
     "output_type": "stream",
     "text": [
      "loading direct transformations\n",
      "Output dimensions: 96, 114, 96\n",
      "Output voxel size: 2, 2, 2 mm\n",
      "Resampling carto_volume of S16...   0   1   2   3   4   5   6   7   8   9  10  11  12  13  14  15  16  17  18  19  20  21  22  23  24  25  26  27  28  29  30  31  32  33  34  35  36  37  38  39  40  41  42  43  44  45  46  47  48  49  50  51  52  53  54  55  56  57  58  59  60  61  62  63  64  65  66  67  68  69  70  71  72  73  74  75  76  77  78  79  80  81  82  83  84  85  86  87  88  89  90  91  92  93  94  95  96  97  98  99 100 %\n",
      "ndimage.find_objects(arr) = [(slice(43, 68, None), slice(63, 105, None), slice(40, 76, None), slice(0, 1, None))]\n",
      "/neurospin/dico/data/deep_folding/current/datasets/UkBioBank/skeletons/2mm/L/Lresampled_skeleton_sub-3151402.nii.gz\n",
      "before threshold (array([ 0,  1,  2,  3,  4,  5,  6,  7,  8,  9, 10, 11, 12, 13, 14, 15, 16,\n",
      "       17, 18, 19, 20, 21, 22, 23, 24, 25, 26, 27, 28, 29, 30, 31, 32, 33,\n",
      "       34], dtype=int16), array([1044188,    1621,     878,     566,     428,     366,     300,\n",
      "           287,     257,     218,     183,     201,     169,     156,\n",
      "           149,     123,      95,      91,      89,      52,      45,\n",
      "            30,      32,      15,      18,      14,      13,       9,\n",
      "             9,       6,       6,       4,       2,       2,       2]))\n",
      "DILATION\n",
      "after threshold and dilation (array([0, 1], dtype=int16), array([1036637,   13987]))\n",
      "[ 0.  1.  2.  3.  4.  5.  6.  7.  8.  9. 10. 11. 12. 13. 14. 15. 16. 17.\n",
      " 18. 19. 20. 21. 22. 23. 24. 25. 26. 27. 28. 29. 30. 31. 32. 33. 34.]\n",
      "[[  0.8384573   -0.47343978  -0.2698965  126.03146   ]\n",
      " [  0.47534364   0.39313424   0.78707933 -36.978348  ]\n",
      " [ -0.2665291   -0.788226     0.55467284 208.1424    ]\n",
      " [  0.           0.           0.           1.        ]]\n",
      "before threshold (array([ 0,  1,  2,  3,  4,  5,  6,  7,  8,  9, 10, 11, 12, 13, 14, 15, 16,\n",
      "       17, 18, 19, 20, 21, 22, 23, 24, 25, 26, 27, 28, 29, 30, 31, 32, 33,\n",
      "       34], dtype=int16), array([1044188,    1621,     878,     566,     428,     366,     300,\n",
      "           287,     257,     218,     183,     201,     169,     156,\n",
      "           149,     123,      95,      91,      89,      52,      45,\n",
      "            30,      32,      15,      18,      14,      13,       9,\n",
      "             9,       6,       6,       4,       2,       2,       2]))\n",
      "DILATION\n",
      "after threshold and dilation (array([0, 1], dtype=int16), array([1036637,   13987]))\n"
     ]
    },
    {
     "name": "stderr",
     "output_type": "stream",
     "text": [
      "/usr/lib/python3/dist-packages/scipy/__init__.py:146: UserWarning: A NumPy version >=1.17.3 and <1.25.0 is required for this version of SciPy (detected version 1.26.4\n",
      "  warnings.warn(f\"A NumPy version >={np_minversion} and <{np_maxversion}\"\n"
     ]
    },
    {
     "name": "stdout",
     "output_type": "stream",
     "text": [
      "loading direct transformations\n",
      "Output dimensions: 96, 114, 96\n",
      "Output voxel size: 2, 2, 2 mm\n",
      "Resampling carto_volume of S16...   0   1   2   3   4   5   6   7   8   9  10  11  12  13  14  15  16  17  18  19  20  21  22  23  24  25  26  27  28  29  30  31  32  33  34  35  36  37  38  39  40  41  42  43  44  45  46  47  48  49  50  51  52  53  54  55  56  57  58  59  60  61  62  63  64  65  66  67  68  69  70  71  72  73  74  75  76  77  78  79  80  81  82  83  84  85  86  87  88  89  90  91  92  93  94  95  96  97  98  99 100 %\n"
     ]
    },
    {
     "name": "stderr",
     "output_type": "stream",
     "text": [
      "somanifti warning: the data of the saved Nifti file will be loaded in a different in-memory order when opened by somanifti.\n",
      "/usr/lib/python3/dist-packages/scipy/__init__.py:146: UserWarning: A NumPy version >=1.17.3 and <1.25.0 is required for this version of SciPy (detected version 1.26.4\n",
      "  warnings.warn(f\"A NumPy version >={np_minversion} and <{np_maxversion}\"\n"
     ]
    },
    {
     "name": "stdout",
     "output_type": "stream",
     "text": [
      "loading direct transformations\n",
      "Output dimensions: 96, 114, 96\n",
      "Output voxel size: 2, 2, 2 mm\n",
      "Resampling carto_volume of S16...   0   1   2   3   4   5   6   7   8   9  10  11  12  13  14  15  16  17  18  19  20  21  22  23  24  25  26  27  28  29  30  31  32  33  34  35  36  37  38  39  40  41  42  43  44  45  46  47  48  49  50  51  52  53  54  55  56  57  58  59  60  61  62  63  64  65  66  67  68  69  70  71  72  73  74  75  76  77  78  79  80  81  82  83  84  85  86  87  88  89  90  91  92  93  94  95  96  97  98  99 100 %\n"
     ]
    },
    {
     "name": "stderr",
     "output_type": "stream",
     "text": [
      "somanifti warning: the data of the saved Nifti file will be loaded in a different in-memory order when opened by somanifti.\n"
     ]
    },
    {
     "name": "stdout",
     "output_type": "stream",
     "text": [
      "ndimage.find_objects(arr) = [(slice(43, 68, None), slice(63, 105, None), slice(40, 76, None), slice(0, 1, None))]\n",
      "/neurospin/dico/data/deep_folding/current/datasets/UkBioBank/skeletons/2mm/L/Lresampled_skeleton_sub-3384046.nii.gz\n",
      "before threshold (array([ 0,  1,  2,  3,  4,  5,  6,  7,  8,  9, 10, 11, 12, 13, 14, 15, 16,\n",
      "       17, 18, 19, 20, 21, 22, 23, 24, 25, 26, 27, 28, 29, 30, 31, 32, 33,\n",
      "       34], dtype=int16), array([1044188,    1621,     878,     566,     428,     366,     300,\n",
      "           287,     257,     218,     183,     201,     169,     156,\n",
      "           149,     123,      95,      91,      89,      52,      45,\n",
      "            30,      32,      15,      18,      14,      13,       9,\n",
      "             9,       6,       6,       4,       2,       2,       2]))\n",
      "DILATION\n",
      "after threshold and dilation (array([0, 1], dtype=int16), array([1036637,   13987]))\n",
      "[ 0.  1.  2.  3.  4.  5.  6.  7.  8.  9. 10. 11. 12. 13. 14. 15. 16. 17.\n",
      " 18. 19. 20. 21. 22. 23. 24. 25. 26. 27. 28. 29. 30. 31. 32. 33. 34.]\n",
      "[[ 9.9670142e-01  8.0285847e-02 -1.1854178e-02 -1.1868645e+01]\n",
      " [-7.9316258e-02  9.9458337e-01  6.7178108e-02  2.7246094e-01]\n",
      " [ 1.7183419e-02 -6.6016287e-02  9.9767059e-01  9.4497070e+00]\n",
      " [ 0.0000000e+00  0.0000000e+00  0.0000000e+00  1.0000000e+00]]\n",
      "before threshold (array([ 0,  1,  2,  3,  4,  5,  6,  7,  8,  9, 10, 11, 12, 13, 14, 15, 16,\n",
      "       17, 18, 19, 20, 21, 22, 23, 24, 25, 26, 27, 28, 29, 30, 31, 32, 33,\n",
      "       34], dtype=int16), array([1044188,    1621,     878,     566,     428,     366,     300,\n",
      "           287,     257,     218,     183,     201,     169,     156,\n",
      "           149,     123,      95,      91,      89,      52,      45,\n",
      "            30,      32,      15,      18,      14,      13,       9,\n",
      "             9,       6,       6,       4,       2,       2,       2]))\n",
      "DILATION\n",
      "after threshold and dilation (array([0, 1], dtype=int16), array([1036637,   13987]))\n"
     ]
    },
    {
     "name": "stderr",
     "output_type": "stream",
     "text": [
      "/usr/lib/python3/dist-packages/scipy/__init__.py:146: UserWarning: A NumPy version >=1.17.3 and <1.25.0 is required for this version of SciPy (detected version 1.26.4\n",
      "  warnings.warn(f\"A NumPy version >={np_minversion} and <{np_maxversion}\"\n"
     ]
    },
    {
     "name": "stdout",
     "output_type": "stream",
     "text": [
      "loading direct transformations\n",
      "Output dimensions: 96, 114, 96\n",
      "Output voxel size: 2, 2, 2 mm\n",
      "Resampling carto_volume of S16...   0   1   2   3   4   5   6   7   8   9  10  11  12  13  14  15  16  17  18  19  20  21  22  23  24  25  26  27  28  29  30  31  32  33  34  35  36  37  38  39  40  41  42  43  44  45  46  47  48  49  50  51  52  53  54  55  56  57  58  59  60  61  62  63  64  65  66  67  68  69  70  71  72  73  74  75  76  77  78  79  80  81  82  83  84  85  86  87  88  89  90  91  92  93  94  95  96  97  98  99 100 %\n"
     ]
    },
    {
     "name": "stderr",
     "output_type": "stream",
     "text": [
      "/usr/lib/python3/dist-packages/scipy/__init__.py:146: UserWarning: A NumPy version >=1.17.3 and <1.25.0 is required for this version of SciPy (detected version 1.26.4\n",
      "  warnings.warn(f\"A NumPy version >={np_minversion} and <{np_maxversion}\"\n"
     ]
    },
    {
     "name": "stdout",
     "output_type": "stream",
     "text": [
      "loading direct transformations\n",
      "Output dimensions: 96, 114, 96\n",
      "Output voxel size: 2, 2, 2 mm\n",
      "Resampling carto_volume of S16...   0   1   2   3   4   5   6   7   8   9  10  11  12  13  14  15  16  17  18  19  20  21  22  23  24  25  26  27  28  29  30  31  32  33  34  35  36  37  38  39  40  41  42  43  44  45  46  47  48  49  50  51  52  53  54  55  56  57  58  59  60  61  62  63  64  65  66  67  68  69  70  71  72  73  74  75  76  77  78  79  80  81  82  83  84  85  86  87  88  89  90  91  92  93  94  95  96  97  98  99 100 %\n",
      "ndimage.find_objects(arr) = [(slice(43, 68, None), slice(63, 105, None), slice(40, 76, None), slice(0, 1, None))]\n",
      "/neurospin/dico/data/deep_folding/current/datasets/UkBioBank/skeletons/2mm/L/Lresampled_skeleton_sub-1743604.nii.gz\n",
      "before threshold (array([ 0,  1,  2,  3,  4,  5,  6,  7,  8,  9, 10, 11, 12, 13, 14, 15, 16,\n",
      "       17, 18, 19, 20, 21, 22, 23, 24, 25, 26, 27, 28, 29, 30, 31, 32, 33,\n",
      "       34], dtype=int16), array([1044188,    1621,     878,     566,     428,     366,     300,\n",
      "           287,     257,     218,     183,     201,     169,     156,\n",
      "           149,     123,      95,      91,      89,      52,      45,\n",
      "            30,      32,      15,      18,      14,      13,       9,\n",
      "             9,       6,       6,       4,       2,       2,       2]))\n",
      "DILATION\n",
      "after threshold and dilation (array([0, 1], dtype=int16), array([1036637,   13987]))\n",
      "[ 0.  1.  2.  3.  4.  5.  6.  7.  8.  9. 10. 11. 12. 13. 14. 15. 16. 17.\n",
      " 18. 19. 20. 21. 22. 23. 24. 25. 26. 27. 28. 29. 30. 31. 32. 33. 34.]\n",
      "[[ 9.9886912e-01  1.0824512e-02 -4.6295770e-02  3.8351212e+00]\n",
      " [ 1.0902121e-02  8.9564550e-01  4.4463494e-01 -3.3522995e+01]\n",
      " [ 4.6277557e-02 -4.4463685e-01  8.9451462e-01  8.0283363e+01]\n",
      " [ 0.0000000e+00  0.0000000e+00  0.0000000e+00  1.0000000e+00]]\n",
      "before threshold (array([ 0,  1,  2,  3,  4,  5,  6,  7,  8,  9, 10, 11, 12, 13, 14, 15, 16,\n",
      "       17, 18, 19, 20, 21, 22, 23, 24, 25, 26, 27, 28, 29, 30, 31, 32, 33,\n",
      "       34], dtype=int16), array([1044188,    1621,     878,     566,     428,     366,     300,\n",
      "           287,     257,     218,     183,     201,     169,     156,\n",
      "           149,     123,      95,      91,      89,      52,      45,\n",
      "            30,      32,      15,      18,      14,      13,       9,\n",
      "             9,       6,       6,       4,       2,       2,       2]))\n",
      "DILATION\n",
      "after threshold and dilation (array([0, 1], dtype=int16), array([1036637,   13987]))\n"
     ]
    },
    {
     "name": "stderr",
     "output_type": "stream",
     "text": [
      "/usr/lib/python3/dist-packages/scipy/__init__.py:146: UserWarning: A NumPy version >=1.17.3 and <1.25.0 is required for this version of SciPy (detected version 1.26.4\n",
      "  warnings.warn(f\"A NumPy version >={np_minversion} and <{np_maxversion}\"\n"
     ]
    },
    {
     "name": "stdout",
     "output_type": "stream",
     "text": [
      "loading direct transformations\n",
      "Output dimensions: 96, 114, 96\n",
      "Output voxel size: 2, 2, 2 mm\n",
      "Resampling carto_volume of S16...   0   1   2   3   4   5   6   7   8   9  10  11  12  13  14  15  16  17  18  19  20  21  22  23  24  25  26  27  28  29  30  31  32  33  34  35  36  37  38  39  40  41  42  43  44  45  46  47  48  49  50  51  52  53  54  55  56  57  58  59  60  61  62  63  64  65  66  67  68  69  70  71  72  73  74  75  76  77  78  79  80  81  82  83  84  85  86  87  88  89  90  91  92  93  94  95  96  97  98  99 100 %\n"
     ]
    },
    {
     "name": "stderr",
     "output_type": "stream",
     "text": [
      "/usr/lib/python3/dist-packages/scipy/__init__.py:146: UserWarning: A NumPy version >=1.17.3 and <1.25.0 is required for this version of SciPy (detected version 1.26.4\n",
      "  warnings.warn(f\"A NumPy version >={np_minversion} and <{np_maxversion}\"\n"
     ]
    },
    {
     "name": "stdout",
     "output_type": "stream",
     "text": [
      "loading direct transformations\n",
      "Output dimensions: 96, 114, 96\n",
      "Output voxel size: 2, 2, 2 mm\n",
      "Resampling carto_volume of S16...   0   1   2   3   4   5   6   7   8   9  10  11  12  13  14  15  16  17  18  19  20  21  22  23  24  25  26  27  28  29  30  31  32  33  34  35  36  37  38  39  40  41  42  43  44  45  46  47  48  49  50  51  52  53  54  55  56  57  58  59  60  61  62  63  64  65  66  67  68  69  70  71  72  73  74  75  76  77  78  79  80  81  82  83  84  85  86  87  88  89  90  91  92  93  94  95  96  97  98  99 100 %\n",
      "ndimage.find_objects(arr) = [(slice(43, 68, None), slice(63, 105, None), slice(40, 76, None), slice(0, 1, None))]\n",
      "/neurospin/dico/data/deep_folding/current/datasets/UkBioBank/skeletons/2mm/L/Lresampled_skeleton_sub-2552580.nii.gz\n",
      "before threshold (array([ 0,  1,  2,  3,  4,  5,  6,  7,  8,  9, 10, 11, 12, 13, 14, 15, 16,\n",
      "       17, 18, 19, 20, 21, 22, 23, 24, 25, 26, 27, 28, 29, 30, 31, 32, 33,\n",
      "       34], dtype=int16), array([1044188,    1621,     878,     566,     428,     366,     300,\n",
      "           287,     257,     218,     183,     201,     169,     156,\n",
      "           149,     123,      95,      91,      89,      52,      45,\n",
      "            30,      32,      15,      18,      14,      13,       9,\n",
      "             9,       6,       6,       4,       2,       2,       2]))\n",
      "DILATION\n",
      "after threshold and dilation (array([0, 1], dtype=int16), array([1036637,   13987]))\n",
      "[ 0.  1.  2.  3.  4.  5.  6.  7.  8.  9. 10. 11. 12. 13. 14. 15. 16. 17.\n",
      " 18. 19. 20. 21. 22. 23. 24. 25. 26. 27. 28. 29. 30. 31. 32. 33. 34.]\n",
      "[[ 9.9949133e-01  2.9072724e-02 -1.3108668e-02 -4.0965042e+00]\n",
      " [-2.1871887e-02  9.2403311e-01  3.8168627e-01 -2.7764114e+01]\n",
      " [ 2.3209503e-02 -3.8120541e-01  9.2419899e-01  7.0893402e+01]\n",
      " [ 0.0000000e+00  0.0000000e+00  0.0000000e+00  1.0000000e+00]]\n",
      "before threshold (array([ 0,  1,  2,  3,  4,  5,  6,  7,  8,  9, 10, 11, 12, 13, 14, 15, 16,\n",
      "       17, 18, 19, 20, 21, 22, 23, 24, 25, 26, 27, 28, 29, 30, 31, 32, 33,\n",
      "       34], dtype=int16), array([1044188,    1621,     878,     566,     428,     366,     300,\n",
      "           287,     257,     218,     183,     201,     169,     156,\n",
      "           149,     123,      95,      91,      89,      52,      45,\n",
      "            30,      32,      15,      18,      14,      13,       9,\n",
      "             9,       6,       6,       4,       2,       2,       2]))\n",
      "DILATION\n",
      "after threshold and dilation (array([0, 1], dtype=int16), array([1036637,   13987]))\n"
     ]
    },
    {
     "name": "stderr",
     "output_type": "stream",
     "text": [
      "/usr/lib/python3/dist-packages/scipy/__init__.py:146: UserWarning: A NumPy version >=1.17.3 and <1.25.0 is required for this version of SciPy (detected version 1.26.4\n",
      "  warnings.warn(f\"A NumPy version >={np_minversion} and <{np_maxversion}\"\n"
     ]
    },
    {
     "name": "stdout",
     "output_type": "stream",
     "text": [
      "loading direct transformations\n",
      "Output dimensions: 96, 114, 96\n",
      "Output voxel size: 2, 2, 2 mm\n",
      "Resampling carto_volume of S16...   0   1   2   3   4   5   6   7   8   9  10  11  12  13  14  15  16  17  18  19  20  21  22  23  24  25  26  27  28  29  30  31  32  33  34  35  36  37  38  39  40  41  42  43  44  45  46  47  48  49  50  51  52  53  54  55  56  57  58  59  60  61  62  63  64  65  66  67  68  69  70  71  72  73  74  75  76  77  78  79  80  81  82  83  84  85  86  87  88  89  90  91  92  93  94  95  96  97  98  99 100 %\n"
     ]
    },
    {
     "name": "stderr",
     "output_type": "stream",
     "text": [
      "/usr/lib/python3/dist-packages/scipy/__init__.py:146: UserWarning: A NumPy version >=1.17.3 and <1.25.0 is required for this version of SciPy (detected version 1.26.4\n",
      "  warnings.warn(f\"A NumPy version >={np_minversion} and <{np_maxversion}\"\n"
     ]
    },
    {
     "name": "stdout",
     "output_type": "stream",
     "text": [
      "loading direct transformations\n",
      "Output dimensions: 96, 114, 96\n",
      "Output voxel size: 2, 2, 2 mm\n",
      "Resampling carto_volume of S16...   0   1   2   3   4   5   6   7   8   9  10  11  12  13  14  15  16  17  18  19  20  21  22  23  24  25  26  27  28  29  30  31  32  33  34  35  36  37  38  39  40  41  42  43  44  45  46  47  48  49  50  51  52  53  54  55  56  57  58  59  60  61  62  63  64  65  66  67  68  69  70  71  72  73  74  75  76  77  78  79  80  81  82  83  84  85  86  87  88  89  90  91  92  93  94  95  96  97  98  99 100 %\n",
      "ndimage.find_objects(arr) = [(slice(43, 68, None), slice(63, 105, None), slice(40, 76, None), slice(0, 1, None))]\n",
      "/neurospin/dico/data/deep_folding/current/datasets/UkBioBank/skeletons/2mm/L/Lresampled_skeleton_sub-2239593.nii.gz\n",
      "before threshold (array([ 0,  1,  2,  3,  4,  5,  6,  7,  8,  9, 10, 11, 12, 13, 14, 15, 16,\n",
      "       17, 18, 19, 20, 21, 22, 23, 24, 25, 26, 27, 28, 29, 30, 31, 32, 33,\n",
      "       34], dtype=int16), array([1044188,    1621,     878,     566,     428,     366,     300,\n",
      "           287,     257,     218,     183,     201,     169,     156,\n",
      "           149,     123,      95,      91,      89,      52,      45,\n",
      "            30,      32,      15,      18,      14,      13,       9,\n",
      "             9,       6,       6,       4,       2,       2,       2]))\n",
      "DILATION\n",
      "after threshold and dilation (array([0, 1], dtype=int16), array([1036637,   13987]))\n",
      "[ 0.  1.  2.  3.  4.  5.  6.  7.  8.  9. 10. 11. 12. 13. 14. 15. 16. 17.\n",
      " 18. 19. 20. 21. 22. 23. 24. 25. 26. 27. 28. 29. 30. 31. 32. 33. 34.]\n",
      "[[ 9.4731784e-01 -4.7892209e-02 -3.1669423e-01  4.8414627e+01]\n",
      " [ 5.1683363e-02  9.9865711e-01  3.5765681e-03 -5.7639771e+00]\n",
      " [ 3.1609768e-01 -1.9755971e-02  9.4852096e-01 -2.4764297e+01]\n",
      " [ 0.0000000e+00  0.0000000e+00  0.0000000e+00  1.0000000e+00]]\n",
      "before threshold (array([ 0,  1,  2,  3,  4,  5,  6,  7,  8,  9, 10, 11, 12, 13, 14, 15, 16,\n",
      "       17, 18, 19, 20, 21, 22, 23, 24, 25, 26, 27, 28, 29, 30, 31, 32, 33,\n",
      "       34], dtype=int16), array([1044188,    1621,     878,     566,     428,     366,     300,\n",
      "           287,     257,     218,     183,     201,     169,     156,\n",
      "           149,     123,      95,      91,      89,      52,      45,\n",
      "            30,      32,      15,      18,      14,      13,       9,\n",
      "             9,       6,       6,       4,       2,       2,       2]))\n",
      "DILATION\n",
      "after threshold and dilation (array([0, 1], dtype=int16), array([1036637,   13987]))\n"
     ]
    },
    {
     "name": "stderr",
     "output_type": "stream",
     "text": [
      "/usr/lib/python3/dist-packages/scipy/__init__.py:146: UserWarning: A NumPy version >=1.17.3 and <1.25.0 is required for this version of SciPy (detected version 1.26.4\n",
      "  warnings.warn(f\"A NumPy version >={np_minversion} and <{np_maxversion}\"\n"
     ]
    },
    {
     "name": "stdout",
     "output_type": "stream",
     "text": [
      "loading direct transformations\n",
      "Output dimensions: 96, 114, 96\n",
      "Output voxel size: 2, 2, 2 mm\n",
      "Resampling carto_volume of S16...   0   1   2   3   4   5   6   7   8   9  10  11  12  13  14  15  16  17  18  19  20  21  22  23  24  25  26  27  28  29  30  31  32  33  34  35  36  37  38  39  40  41  42  43  44  45  46  47  48  49  50  51  52  53  54  55  56  57  58  59  60  61  62  63  64  65  66  67  68  69  70  71  72  73  74  75  76  77  78  79  80  81  82  83  84  85  86  87  88  89  90  91  92  93  94  95  96  97  98  99 100 %\n"
     ]
    },
    {
     "name": "stderr",
     "output_type": "stream",
     "text": [
      "/usr/lib/python3/dist-packages/scipy/__init__.py:146: UserWarning: A NumPy version >=1.17.3 and <1.25.0 is required for this version of SciPy (detected version 1.26.4\n",
      "  warnings.warn(f\"A NumPy version >={np_minversion} and <{np_maxversion}\"\n"
     ]
    },
    {
     "name": "stdout",
     "output_type": "stream",
     "text": [
      "loading direct transformations\n",
      "Output dimensions: 96, 114, 96\n",
      "Output voxel size: 2, 2, 2 mm\n",
      "Resampling carto_volume of S16...   0   1   2   3   4   5   6   7   8   9  10  11  12  13  14  15  16  17  18  19  20  21  22  23  24  25  26  27  28  29  30  31  32  33  34  35  36  37  38  39  40  41  42  43  44  45  46  47  48  49  50  51  52  53  54  55  56  57  58  59  60  61  62  63  64  65  66  67  68  69  70  71  72  73  74  75  76  77  78  79  80  81  82  83  84  85  86  87  88  89  90  91  92  93  94  95  96  97  98  99 100 %\n",
      "ndimage.find_objects(arr) = [(slice(43, 68, None), slice(63, 105, None), slice(40, 76, None), slice(0, 1, None))]\n",
      "/neurospin/dico/data/deep_folding/current/datasets/UkBioBank/skeletons/2mm/L/Lresampled_skeleton_sub-4612520.nii.gz\n",
      "before threshold (array([ 0,  1,  2,  3,  4,  5,  6,  7,  8,  9, 10, 11, 12, 13, 14, 15, 16,\n",
      "       17, 18, 19, 20, 21, 22, 23, 24, 25, 26, 27, 28, 29, 30, 31, 32, 33,\n",
      "       34], dtype=int16), array([1044188,    1621,     878,     566,     428,     366,     300,\n",
      "           287,     257,     218,     183,     201,     169,     156,\n",
      "           149,     123,      95,      91,      89,      52,      45,\n",
      "            30,      32,      15,      18,      14,      13,       9,\n",
      "             9,       6,       6,       4,       2,       2,       2]))\n",
      "DILATION\n",
      "after threshold and dilation (array([0, 1], dtype=int16), array([1036637,   13987]))\n",
      "[ 0.  1.  2.  3.  4.  5.  6.  7.  8.  9. 10. 11. 12. 13. 14. 15. 16. 17.\n",
      " 18. 19. 20. 21. 22. 23. 24. 25. 26. 27. 28. 29. 30. 31. 32. 33. 34.]\n",
      "[[ 9.9944139e-01  3.0129718e-02 -1.4462501e-02 -3.4650879e+00]\n",
      " [-2.4400348e-02  9.5353442e-01  3.0029431e-01 -2.3310318e+01]\n",
      " [ 2.2838276e-02 -2.9977366e-01  9.5373696e-01  5.2199768e+01]\n",
      " [ 0.0000000e+00  0.0000000e+00  0.0000000e+00  1.0000000e+00]]\n",
      "before threshold (array([ 0,  1,  2,  3,  4,  5,  6,  7,  8,  9, 10, 11, 12, 13, 14, 15, 16,\n",
      "       17, 18, 19, 20, 21, 22, 23, 24, 25, 26, 27, 28, 29, 30, 31, 32, 33,\n",
      "       34], dtype=int16), array([1044188,    1621,     878,     566,     428,     366,     300,\n",
      "           287,     257,     218,     183,     201,     169,     156,\n",
      "           149,     123,      95,      91,      89,      52,      45,\n",
      "            30,      32,      15,      18,      14,      13,       9,\n",
      "             9,       6,       6,       4,       2,       2,       2]))\n",
      "DILATION\n",
      "after threshold and dilation (array([0, 1], dtype=int16), array([1036637,   13987]))\n"
     ]
    },
    {
     "name": "stderr",
     "output_type": "stream",
     "text": [
      "/usr/lib/python3/dist-packages/scipy/__init__.py:146: UserWarning: A NumPy version >=1.17.3 and <1.25.0 is required for this version of SciPy (detected version 1.26.4\n",
      "  warnings.warn(f\"A NumPy version >={np_minversion} and <{np_maxversion}\"\n"
     ]
    },
    {
     "name": "stdout",
     "output_type": "stream",
     "text": [
      "loading direct transformations\n",
      "Output dimensions: 96, 114, 96\n",
      "Output voxel size: 2, 2, 2 mm\n",
      "Resampling carto_volume of S16...   0   1   2   3   4   5   6   7   8   9  10  11  12  13  14  15  16  17  18  19  20  21  22  23  24  25  26  27  28  29  30  31  32  33  34  35  36  37  38  39  40  41  42  43  44  45  46  47  48  49  50  51  52  53  54  55  56  57  58  59  60  61  62  63  64  65  66  67  68  69  70  71  72  73  74  75  76  77  78  79  80  81  82  83  84  85  86  87  88  89  90  91  92  93  94  95  96  97  98  99 100 %\n"
     ]
    },
    {
     "name": "stderr",
     "output_type": "stream",
     "text": [
      "/usr/lib/python3/dist-packages/scipy/__init__.py:146: UserWarning: A NumPy version >=1.17.3 and <1.25.0 is required for this version of SciPy (detected version 1.26.4\n",
      "  warnings.warn(f\"A NumPy version >={np_minversion} and <{np_maxversion}\"\n"
     ]
    },
    {
     "name": "stdout",
     "output_type": "stream",
     "text": [
      "loading direct transformations\n",
      "Output dimensions: 96, 114, 96\n",
      "Output voxel size: 2, 2, 2 mm\n",
      "Resampling carto_volume of S16...   0   1   2   3   4   5   6   7   8   9  10  11  12  13  14  15  16  17  18  19  20  21  22  23  24  25  26  27  28  29  30  31  32  33  34  35  36  37  38  39  40  41  42  43  44  45  46  47  48  49  50  51  52  53  54  55  56  57  58  59  60  61  62  63  64  65  66  67  68  69  70  71  72  73  74  75  76  77  78  79  80  81  82  83  84  85  86  87  88  89  90  91  92  93  94  95  96  97  98  99 100 %\n",
      "ndimage.find_objects(arr) = [(slice(43, 68, None), slice(63, 105, None), slice(40, 76, None), slice(0, 1, None))]\n",
      "/neurospin/dico/data/deep_folding/current/datasets/UkBioBank/skeletons/2mm/L/Lresampled_skeleton_sub-2790182.nii.gz\n",
      "before threshold (array([ 0,  1,  2,  3,  4,  5,  6,  7,  8,  9, 10, 11, 12, 13, 14, 15, 16,\n",
      "       17, 18, 19, 20, 21, 22, 23, 24, 25, 26, 27, 28, 29, 30, 31, 32, 33,\n",
      "       34], dtype=int16), array([1044188,    1621,     878,     566,     428,     366,     300,\n",
      "           287,     257,     218,     183,     201,     169,     156,\n",
      "           149,     123,      95,      91,      89,      52,      45,\n",
      "            30,      32,      15,      18,      14,      13,       9,\n",
      "             9,       6,       6,       4,       2,       2,       2]))\n",
      "DILATION\n",
      "after threshold and dilation (array([0, 1], dtype=int16), array([1036637,   13987]))\n",
      "[ 0.  1.  2.  3.  4.  5.  6.  7.  8.  9. 10. 11. 12. 13. 14. 15. 16. 17.\n",
      " 18. 19. 20. 21. 22. 23. 24. 25. 26. 27. 28. 29. 30. 31. 32. 33. 34.]\n",
      "[[ 8.9271909e-01 -3.5356476e-03 -4.5059967e-01  6.0418781e+01]\n",
      " [-3.5356539e-03  9.9988347e-01 -1.4850391e-02  2.0505219e+00]\n",
      " [ 4.5059967e-01  1.4850393e-02  8.9260262e-01 -3.6466614e+01]\n",
      " [ 0.0000000e+00  0.0000000e+00  0.0000000e+00  1.0000000e+00]]\n",
      "before threshold (array([ 0,  1,  2,  3,  4,  5,  6,  7,  8,  9, 10, 11, 12, 13, 14, 15, 16,\n",
      "       17, 18, 19, 20, 21, 22, 23, 24, 25, 26, 27, 28, 29, 30, 31, 32, 33,\n",
      "       34], dtype=int16), array([1044188,    1621,     878,     566,     428,     366,     300,\n",
      "           287,     257,     218,     183,     201,     169,     156,\n",
      "           149,     123,      95,      91,      89,      52,      45,\n",
      "            30,      32,      15,      18,      14,      13,       9,\n",
      "             9,       6,       6,       4,       2,       2,       2]))\n",
      "DILATION\n",
      "after threshold and dilation (array([0, 1], dtype=int16), array([1036637,   13987]))\n"
     ]
    },
    {
     "name": "stderr",
     "output_type": "stream",
     "text": [
      "/usr/lib/python3/dist-packages/scipy/__init__.py:146: UserWarning: A NumPy version >=1.17.3 and <1.25.0 is required for this version of SciPy (detected version 1.26.4\n",
      "  warnings.warn(f\"A NumPy version >={np_minversion} and <{np_maxversion}\"\n"
     ]
    },
    {
     "name": "stdout",
     "output_type": "stream",
     "text": [
      "loading direct transformations\n",
      "Output dimensions: 96, 114, 96\n",
      "Output voxel size: 2, 2, 2 mm\n",
      "Resampling carto_volume of S16...   0   1   2   3   4   5   6   7   8   9  10  11  12  13  14  15  16  17  18  19  20  21  22  23  24  25  26  27  28  29  30  31  32  33  34  35  36  37  38  39  40  41  42  43  44  45  46  47  48  49  50  51  52  53  54  55  56  57  58  59  60  61  62  63  64  65  66  67  68  69  70  71  72  73  74  75  76  77  78  79  80  81  82  83  84  85  86  87  88  89  90  91  92  93  94  95  96  97  98  99 100 %\n"
     ]
    },
    {
     "name": "stderr",
     "output_type": "stream",
     "text": [
      "/usr/lib/python3/dist-packages/scipy/__init__.py:146: UserWarning: A NumPy version >=1.17.3 and <1.25.0 is required for this version of SciPy (detected version 1.26.4\n",
      "  warnings.warn(f\"A NumPy version >={np_minversion} and <{np_maxversion}\"\n"
     ]
    },
    {
     "name": "stdout",
     "output_type": "stream",
     "text": [
      "loading direct transformations\n",
      "Output dimensions: 96, 114, 96\n",
      "Output voxel size: 2, 2, 2 mm\n",
      "Resampling carto_volume of S16...   0   1   2   3   4   5   6   7   8   9  10  11  12  13  14  15  16  17  18  19  20  21  22  23  24  25  26  27  28  29  30  31  32  33  34  35  36  37  38  39  40  41  42  43  44  45  46  47  48  49  50  51  52  53  54  55  56  57  58  59  60  61  62  63  64  65  66  67  68  69  70  71  72  73  74  75  76  77  78  79  80  81  82  83  84  85  86  87  88  89  90  91  92  93  94  95  96  97  98  99 100 %\n",
      "ndimage.find_objects(arr) = [(slice(43, 68, None), slice(63, 105, None), slice(40, 76, None), slice(0, 1, None))]\n",
      "/neurospin/dico/data/deep_folding/current/datasets/UkBioBank/skeletons/2mm/L/Lresampled_skeleton_sub-3988338.nii.gz\n",
      "before threshold (array([ 0,  1,  2,  3,  4,  5,  6,  7,  8,  9, 10, 11, 12, 13, 14, 15, 16,\n",
      "       17, 18, 19, 20, 21, 22, 23, 24, 25, 26, 27, 28, 29, 30, 31, 32, 33,\n",
      "       34], dtype=int16), array([1044188,    1621,     878,     566,     428,     366,     300,\n",
      "           287,     257,     218,     183,     201,     169,     156,\n",
      "           149,     123,      95,      91,      89,      52,      45,\n",
      "            30,      32,      15,      18,      14,      13,       9,\n",
      "             9,       6,       6,       4,       2,       2,       2]))\n",
      "DILATION\n",
      "after threshold and dilation (array([0, 1], dtype=int16), array([1036637,   13987]))\n",
      "[ 0.  1.  2.  3.  4.  5.  6.  7.  8.  9. 10. 11. 12. 13. 14. 15. 16. 17.\n",
      " 18. 19. 20. 21. 22. 23. 24. 25. 26. 27. 28. 29. 30. 31. 32. 33. 34.]\n",
      "[[ 1.0000000e+00  3.1451680e-07 -3.2249460e-08 -5.3405762e-05]\n",
      " [-3.1451680e-07  1.0000000e+00  3.5929378e-07 -1.5258789e-05]\n",
      " [ 3.2249574e-08 -3.5929378e-07  1.0000000e+00  5.3405762e-05]\n",
      " [ 0.0000000e+00  0.0000000e+00  0.0000000e+00  1.0000000e+00]]\n",
      "before threshold (array([ 0,  1,  2,  3,  4,  5,  6,  7,  8,  9, 10, 11, 12, 13, 14, 15, 16,\n",
      "       17, 18, 19, 20, 21, 22, 23, 24, 25, 26, 27, 28, 29, 30, 31, 32, 33,\n",
      "       34], dtype=int16), array([1044188,    1621,     878,     566,     428,     366,     300,\n",
      "           287,     257,     218,     183,     201,     169,     156,\n",
      "           149,     123,      95,      91,      89,      52,      45,\n",
      "            30,      32,      15,      18,      14,      13,       9,\n",
      "             9,       6,       6,       4,       2,       2,       2]))\n",
      "DILATION\n",
      "after threshold and dilation (array([0, 1], dtype=int16), array([1036637,   13987]))\n"
     ]
    },
    {
     "name": "stderr",
     "output_type": "stream",
     "text": [
      "/usr/lib/python3/dist-packages/scipy/__init__.py:146: UserWarning: A NumPy version >=1.17.3 and <1.25.0 is required for this version of SciPy (detected version 1.26.4\n",
      "  warnings.warn(f\"A NumPy version >={np_minversion} and <{np_maxversion}\"\n"
     ]
    },
    {
     "name": "stdout",
     "output_type": "stream",
     "text": [
      "loading direct transformations\n",
      "Output dimensions: 96, 114, 96\n",
      "Output voxel size: 2, 2, 2 mm\n",
      "Resampling carto_volume of S16...   0   1   2   3   4   5   6   7   8   9  10  11  12  13  14  15  16  17  18  19  20  21  22  23  24  25  26  27  28  29  30  31  32  33  34  35  36  37  38  39  40  41  42  43  44  45  46  47  48  49  50  51  52  53  54  55  56  57  58  59  60  61  62  63  64  65  66  67  68  69  70  71  72  73  74  75  76  77  78  79  80  81  82  83  84  85  86  87  88  89  90  91  92  93  94  95  96  97  98  99 100 %\n"
     ]
    },
    {
     "name": "stderr",
     "output_type": "stream",
     "text": [
      "/usr/lib/python3/dist-packages/scipy/__init__.py:146: UserWarning: A NumPy version >=1.17.3 and <1.25.0 is required for this version of SciPy (detected version 1.26.4\n",
      "  warnings.warn(f\"A NumPy version >={np_minversion} and <{np_maxversion}\"\n"
     ]
    },
    {
     "name": "stdout",
     "output_type": "stream",
     "text": [
      "loading direct transformations\n",
      "Output dimensions: 96, 114, 96\n",
      "Output voxel size: 2, 2, 2 mm\n",
      "Resampling carto_volume of S16...   0   1   2   3   4   5   6   7   8   9  10  11  12  13  14  15  16  17  18  19  20  21  22  23  24  25  26  27  28  29  30  31  32  33  34  35  36  37  38  39  40  41  42  43  44  45  46  47  48  49  50  51  52  53  54  55  56  57  58  59  60  61  62  63  64  65  66  67  68  69  70  71  72  73  74  75  76  77  78  79  80  81  82  83  84  85  86  87  88  89  90  91  92  93  94  95  96  97  98  99 100 %\n",
      "ndimage.find_objects(arr) = [(slice(43, 68, None), slice(63, 105, None), slice(40, 76, None), slice(0, 1, None))]\n",
      "/neurospin/dico/data/deep_folding/current/datasets/UkBioBank/skeletons/2mm/L/Lresampled_skeleton_sub-2909445.nii.gz\n",
      "before threshold (array([ 0,  1,  2,  3,  4,  5,  6,  7,  8,  9, 10, 11, 12, 13, 14, 15, 16,\n",
      "       17, 18, 19, 20, 21, 22, 23, 24, 25, 26, 27, 28, 29, 30, 31, 32, 33,\n",
      "       34], dtype=int16), array([1044188,    1621,     878,     566,     428,     366,     300,\n",
      "           287,     257,     218,     183,     201,     169,     156,\n",
      "           149,     123,      95,      91,      89,      52,      45,\n",
      "            30,      32,      15,      18,      14,      13,       9,\n",
      "             9,       6,       6,       4,       2,       2,       2]))\n",
      "DILATION\n",
      "after threshold and dilation (array([0, 1], dtype=int16), array([1036637,   13987]))\n",
      "[ 0.  1.  2.  3.  4.  5.  6.  7.  8.  9. 10. 11. 12. 13. 14. 15. 16. 17.\n",
      " 18. 19. 20. 21. 22. 23. 24. 25. 26. 27. 28. 29. 30. 31. 32. 33. 34.]\n",
      "[[ 8.5271609e-01 -2.3467219e-01 -4.6669501e-01  1.0640526e+02]\n",
      " [-8.5704841e-02  8.1845373e-01 -5.6814450e-01  9.7653503e+01]\n",
      " [ 5.1529598e-01  5.2446401e-01  6.7779613e-01 -1.0562498e+02]\n",
      " [ 0.0000000e+00  0.0000000e+00  0.0000000e+00  1.0000000e+00]]\n",
      "before threshold (array([ 0,  1,  2,  3,  4,  5,  6,  7,  8,  9, 10, 11, 12, 13, 14, 15, 16,\n",
      "       17, 18, 19, 20, 21, 22, 23, 24, 25, 26, 27, 28, 29, 30, 31, 32, 33,\n",
      "       34], dtype=int16), array([1044188,    1621,     878,     566,     428,     366,     300,\n",
      "           287,     257,     218,     183,     201,     169,     156,\n",
      "           149,     123,      95,      91,      89,      52,      45,\n",
      "            30,      32,      15,      18,      14,      13,       9,\n",
      "             9,       6,       6,       4,       2,       2,       2]))\n",
      "DILATION\n",
      "after threshold and dilation (array([0, 1], dtype=int16), array([1036637,   13987]))\n"
     ]
    },
    {
     "name": "stderr",
     "output_type": "stream",
     "text": [
      "/usr/lib/python3/dist-packages/scipy/__init__.py:146: UserWarning: A NumPy version >=1.17.3 and <1.25.0 is required for this version of SciPy (detected version 1.26.4\n",
      "  warnings.warn(f\"A NumPy version >={np_minversion} and <{np_maxversion}\"\n"
     ]
    },
    {
     "name": "stdout",
     "output_type": "stream",
     "text": [
      "loading direct transformations\n",
      "Output dimensions: 96, 114, 96\n",
      "Output voxel size: 2, 2, 2 mm\n",
      "Resampling carto_volume of S16...   0   1   2   3   4   5   6   7   8   9  10  11  12  13  14  15  16  17  18  19  20  21  22  23  24  25  26  27  28  29  30  31  32  33  34  35  36  37  38  39  40  41  42  43  44  45  46  47  48  49  50  51  52  53  54  55  56  57  58  59  60  61  62  63  64  65  66  67  68  69  70  71  72  73  74  75  76  77  78  79  80  81  82  83  84  85  86  87  88  89  90  91  92  93  94  95  96  97  98  99 100 %\n"
     ]
    },
    {
     "name": "stderr",
     "output_type": "stream",
     "text": [
      "/usr/lib/python3/dist-packages/scipy/__init__.py:146: UserWarning: A NumPy version >=1.17.3 and <1.25.0 is required for this version of SciPy (detected version 1.26.4\n",
      "  warnings.warn(f\"A NumPy version >={np_minversion} and <{np_maxversion}\"\n"
     ]
    },
    {
     "name": "stdout",
     "output_type": "stream",
     "text": [
      "loading direct transformations\n",
      "Output dimensions: 96, 114, 96\n",
      "Output voxel size: 2, 2, 2 mm\n",
      "Resampling carto_volume of S16...   0   1   2   3   4   5   6   7   8   9  10  11  12  13  14  15  16  17  18  19  20  21  22  23  24  25  26  27  28  29  30  31  32  33  34  35  36  37  38  39  40  41  42  43  44  45  46  47  48  49  50  51  52  53  54  55  56  57  58  59  60  61  62  63  64  65  66  67  68  69  70  71  72  73  74  75  76  77  78  79  80  81  82  83  84  85  86  87  88  89  90  91  92  93  94  95  96  97  98  99 100 %\n",
      "ndimage.find_objects(arr) = [(slice(43, 68, None), slice(63, 105, None), slice(40, 76, None), slice(0, 1, None))]\n",
      "/neurospin/dico/data/deep_folding/current/datasets/UkBioBank/skeletons/2mm/L/Lresampled_skeleton_sub-2700332.nii.gz\n",
      "before threshold (array([ 0,  1,  2,  3,  4,  5,  6,  7,  8,  9, 10, 11, 12, 13, 14, 15, 16,\n",
      "       17, 18, 19, 20, 21, 22, 23, 24, 25, 26, 27, 28, 29, 30, 31, 32, 33,\n",
      "       34], dtype=int16), array([1044188,    1621,     878,     566,     428,     366,     300,\n",
      "           287,     257,     218,     183,     201,     169,     156,\n",
      "           149,     123,      95,      91,      89,      52,      45,\n",
      "            30,      32,      15,      18,      14,      13,       9,\n",
      "             9,       6,       6,       4,       2,       2,       2]))\n",
      "DILATION\n",
      "after threshold and dilation (array([0, 1], dtype=int16), array([1036637,   13987]))\n",
      "[ 0.  1.  2.  3.  4.  5.  6.  7.  8.  9. 10. 11. 12. 13. 14. 15. 16. 17.\n",
      " 18. 19. 20. 21. 22. 23. 24. 25. 26. 27. 28. 29. 30. 31. 32. 33. 34.]\n",
      "[[ 9.9991578e-01  1.2976807e-02  3.8012976e-07 -2.1715622e+00]\n",
      " [-1.2976807e-02  9.9991578e-01  1.0122813e-07  3.4173126e+00]\n",
      " [-3.7878414e-07 -1.0615248e-07  1.0000000e+00  6.1035156e-05]\n",
      " [ 0.0000000e+00  0.0000000e+00  0.0000000e+00  1.0000000e+00]]\n",
      "before threshold (array([ 0,  1,  2,  3,  4,  5,  6,  7,  8,  9, 10, 11, 12, 13, 14, 15, 16,\n",
      "       17, 18, 19, 20, 21, 22, 23, 24, 25, 26, 27, 28, 29, 30, 31, 32, 33,\n",
      "       34], dtype=int16), array([1044188,    1621,     878,     566,     428,     366,     300,\n",
      "           287,     257,     218,     183,     201,     169,     156,\n",
      "           149,     123,      95,      91,      89,      52,      45,\n",
      "            30,      32,      15,      18,      14,      13,       9,\n",
      "             9,       6,       6,       4,       2,       2,       2]))\n",
      "DILATION\n",
      "after threshold and dilation (array([0, 1], dtype=int16), array([1036637,   13987]))\n"
     ]
    },
    {
     "name": "stderr",
     "output_type": "stream",
     "text": [
      "/usr/lib/python3/dist-packages/scipy/__init__.py:146: UserWarning: A NumPy version >=1.17.3 and <1.25.0 is required for this version of SciPy (detected version 1.26.4\n",
      "  warnings.warn(f\"A NumPy version >={np_minversion} and <{np_maxversion}\"\n"
     ]
    },
    {
     "name": "stdout",
     "output_type": "stream",
     "text": [
      "loading direct transformations\n",
      "Output dimensions: 96, 114, 96\n",
      "Output voxel size: 2, 2, 2 mm\n",
      "Resampling carto_volume of S16...   0   1   2   3   4   5   6   7   8   9  10  11  12  13  14  15  16  17  18  19  20  21  22  23  24  25  26  27  28  29  30  31  32  33  34  35  36  37  38  39  40  41  42  43  44  45  46  47  48  49  50  51  52  53  54  55  56  57  58  59  60  61  62  63  64  65  66  67  68  69  70  71  72  73  74  75  76  77  78  79  80  81  82  83  84  85  86  87  88  89  90  91  92  93  94  95  96  97  98  99 100 %\n"
     ]
    },
    {
     "name": "stderr",
     "output_type": "stream",
     "text": [
      "/usr/lib/python3/dist-packages/scipy/__init__.py:146: UserWarning: A NumPy version >=1.17.3 and <1.25.0 is required for this version of SciPy (detected version 1.26.4\n",
      "  warnings.warn(f\"A NumPy version >={np_minversion} and <{np_maxversion}\"\n"
     ]
    },
    {
     "name": "stdout",
     "output_type": "stream",
     "text": [
      "loading direct transformations\n",
      "Output dimensions: 96, 114, 96\n",
      "Output voxel size: 2, 2, 2 mm\n",
      "Resampling carto_volume of S16...   0   1   2   3   4   5   6   7   8   9  10  11  12  13  14  15  16  17  18  19  20  21  22  23  24  25  26  27  28  29  30  31  32  33  34  35  36  37  38  39  40  41  42  43  44  45  46  47  48  49  50  51  52  53  54  55  56  57  58  59  60  61  62  63  64  65  66  67  68  69  70  71  72  73  74  75  76  77  78  79  80  81  82  83  84  85  86  87  88  89  90  91  92  93  94  95  96  97  98  99 100 %\n",
      "ndimage.find_objects(arr) = [(slice(43, 68, None), slice(63, 105, None), slice(40, 76, None), slice(0, 1, None))]\n",
      "/neurospin/dico/data/deep_folding/current/datasets/UkBioBank/skeletons/2mm/L/Lresampled_skeleton_sub-3490710.nii.gz\n",
      "before threshold (array([ 0,  1,  2,  3,  4,  5,  6,  7,  8,  9, 10, 11, 12, 13, 14, 15, 16,\n",
      "       17, 18, 19, 20, 21, 22, 23, 24, 25, 26, 27, 28, 29, 30, 31, 32, 33,\n",
      "       34], dtype=int16), array([1044188,    1621,     878,     566,     428,     366,     300,\n",
      "           287,     257,     218,     183,     201,     169,     156,\n",
      "           149,     123,      95,      91,      89,      52,      45,\n",
      "            30,      32,      15,      18,      14,      13,       9,\n",
      "             9,       6,       6,       4,       2,       2,       2]))\n",
      "DILATION\n",
      "after threshold and dilation (array([0, 1], dtype=int16), array([1036637,   13987]))\n",
      "[ 0.  1.  2.  3.  4.  5.  6.  7.  8.  9. 10. 11. 12. 13. 14. 15. 16. 17.\n",
      " 18. 19. 20. 21. 22. 23. 24. 25. 26. 27. 28. 29. 30. 31. 32. 33. 34.]\n",
      "[[ 1.0000000e+00  6.4439543e-09 -3.7387113e-07  3.8146973e-05]\n",
      " [ 8.7094216e-09  9.9917883e-01  4.0516861e-02 -5.1210327e+00]\n",
      " [ 3.7382523e-07 -4.0516861e-02  9.9917883e-01  9.1358566e+00]\n",
      " [ 0.0000000e+00  0.0000000e+00  0.0000000e+00  1.0000000e+00]]\n",
      "before threshold (array([ 0,  1,  2,  3,  4,  5,  6,  7,  8,  9, 10, 11, 12, 13, 14, 15, 16,\n",
      "       17, 18, 19, 20, 21, 22, 23, 24, 25, 26, 27, 28, 29, 30, 31, 32, 33,\n",
      "       34], dtype=int16), array([1044188,    1621,     878,     566,     428,     366,     300,\n",
      "           287,     257,     218,     183,     201,     169,     156,\n",
      "           149,     123,      95,      91,      89,      52,      45,\n",
      "            30,      32,      15,      18,      14,      13,       9,\n",
      "             9,       6,       6,       4,       2,       2,       2]))\n",
      "DILATION\n",
      "after threshold and dilation (array([0, 1], dtype=int16), array([1036637,   13987]))\n"
     ]
    },
    {
     "name": "stderr",
     "output_type": "stream",
     "text": [
      "/usr/lib/python3/dist-packages/scipy/__init__.py:146: UserWarning: A NumPy version >=1.17.3 and <1.25.0 is required for this version of SciPy (detected version 1.26.4\n",
      "  warnings.warn(f\"A NumPy version >={np_minversion} and <{np_maxversion}\"\n"
     ]
    },
    {
     "name": "stdout",
     "output_type": "stream",
     "text": [
      "loading direct transformations\n",
      "Output dimensions: 96, 114, 96\n",
      "Output voxel size: 2, 2, 2 mm\n",
      "Resampling carto_volume of S16...   0   1   2   3   4   5   6   7   8   9  10  11  12  13  14  15  16  17  18  19  20  21  22  23  24  25  26  27  28  29  30  31  32  33  34  35  36  37  38  39  40  41  42  43  44  45  46  47  48  49  50  51  52  53  54  55  56  57  58  59  60  61  62  63  64  65  66  67  68  69  70  71  72  73  74  75  76  77  78  79  80  81  82  83  84  85  86  87  88  89  90  91  92  93  94  95  96  97  98  99 100 %\n"
     ]
    },
    {
     "name": "stderr",
     "output_type": "stream",
     "text": [
      "/usr/lib/python3/dist-packages/scipy/__init__.py:146: UserWarning: A NumPy version >=1.17.3 and <1.25.0 is required for this version of SciPy (detected version 1.26.4\n",
      "  warnings.warn(f\"A NumPy version >={np_minversion} and <{np_maxversion}\"\n"
     ]
    },
    {
     "name": "stdout",
     "output_type": "stream",
     "text": [
      "loading direct transformations\n",
      "Output dimensions: 96, 114, 96\n",
      "Output voxel size: 2, 2, 2 mm\n",
      "Resampling carto_volume of S16...   0   1   2   3   4   5   6   7   8   9  10  11  12  13  14  15  16  17  18  19  20  21  22  23  24  25  26  27  28  29  30  31  32  33  34  35  36  37  38  39  40  41  42  43  44  45  46  47  48  49  50  51  52  53  54  55  56  57  58  59  60  61  62  63  64  65  66  67  68  69  70  71  72  73  74  75  76  77  78  79  80  81  82  83  84  85  86  87  88  89  90  91  92  93  94  95  96  97  98  99 100 %\n",
      "ndimage.find_objects(arr) = [(slice(43, 68, None), slice(63, 105, None), slice(40, 76, None), slice(0, 1, None))]\n",
      "/neurospin/dico/data/deep_folding/current/datasets/UkBioBank/skeletons/2mm/L/Lresampled_skeleton_sub-5259223.nii.gz\n",
      "before threshold (array([ 0,  1,  2,  3,  4,  5,  6,  7,  8,  9, 10, 11, 12, 13, 14, 15, 16,\n",
      "       17, 18, 19, 20, 21, 22, 23, 24, 25, 26, 27, 28, 29, 30, 31, 32, 33,\n",
      "       34], dtype=int16), array([1044188,    1621,     878,     566,     428,     366,     300,\n",
      "           287,     257,     218,     183,     201,     169,     156,\n",
      "           149,     123,      95,      91,      89,      52,      45,\n",
      "            30,      32,      15,      18,      14,      13,       9,\n",
      "             9,       6,       6,       4,       2,       2,       2]))\n",
      "DILATION\n",
      "after threshold and dilation (array([0, 1], dtype=int16), array([1036637,   13987]))\n",
      "[ 0.  1.  2.  3.  4.  5.  6.  7.  8.  9. 10. 11. 12. 13. 14. 15. 16. 17.\n",
      " 18. 19. 20. 21. 22. 23. 24. 25. 26. 27. 28. 29. 30. 31. 32. 33. 34.]\n",
      "[[ 1.0000000e+00 -1.8459471e-06  8.7229557e-07  2.0001831e+00]\n",
      " [ 1.8459461e-06  1.0000000e+00  9.5344689e-07 -3.2043457e-04]\n",
      " [-8.7229733e-07 -9.5344529e-07  1.0000000e+00  2.0002670e+00]\n",
      " [ 0.0000000e+00  0.0000000e+00  0.0000000e+00  1.0000000e+00]]\n",
      "before threshold (array([ 0,  1,  2,  3,  4,  5,  6,  7,  8,  9, 10, 11, 12, 13, 14, 15, 16,\n",
      "       17, 18, 19, 20, 21, 22, 23, 24, 25, 26, 27, 28, 29, 30, 31, 32, 33,\n",
      "       34], dtype=int16), array([1044188,    1621,     878,     566,     428,     366,     300,\n",
      "           287,     257,     218,     183,     201,     169,     156,\n",
      "           149,     123,      95,      91,      89,      52,      45,\n",
      "            30,      32,      15,      18,      14,      13,       9,\n",
      "             9,       6,       6,       4,       2,       2,       2]))\n",
      "DILATION\n",
      "after threshold and dilation (array([0, 1], dtype=int16), array([1036637,   13987]))\n"
     ]
    },
    {
     "name": "stderr",
     "output_type": "stream",
     "text": [
      "/usr/lib/python3/dist-packages/scipy/__init__.py:146: UserWarning: A NumPy version >=1.17.3 and <1.25.0 is required for this version of SciPy (detected version 1.26.4\n",
      "  warnings.warn(f\"A NumPy version >={np_minversion} and <{np_maxversion}\"\n"
     ]
    },
    {
     "name": "stdout",
     "output_type": "stream",
     "text": [
      "loading direct transformations\n",
      "Output dimensions: 96, 114, 96\n",
      "Output voxel size: 2, 2, 2 mm\n",
      "Resampling carto_volume of S16...   0   1   2   3   4   5   6   7   8   9  10  11  12  13  14  15  16  17  18  19  20  21  22  23  24  25  26  27  28  29  30  31  32  33  34  35  36  37  38  39  40  41  42  43  44  45  46  47  48  49  50  51  52  53  54  55  56  57  58  59  60  61  62  63  64  65  66  67  68  69  70  71  72  73  74  75  76  77  78  79  80  81  82  83  84  85  86  87  88  89  90  91  92  93  94  95  96  97  98  99 100 %\n"
     ]
    },
    {
     "name": "stderr",
     "output_type": "stream",
     "text": [
      "/usr/lib/python3/dist-packages/scipy/__init__.py:146: UserWarning: A NumPy version >=1.17.3 and <1.25.0 is required for this version of SciPy (detected version 1.26.4\n",
      "  warnings.warn(f\"A NumPy version >={np_minversion} and <{np_maxversion}\"\n"
     ]
    },
    {
     "name": "stdout",
     "output_type": "stream",
     "text": [
      "loading direct transformations\n",
      "Output dimensions: 96, 114, 96\n",
      "Output voxel size: 2, 2, 2 mm\n",
      "Resampling carto_volume of S16...   0   1   2   3   4   5   6   7   8   9  10  11  12  13  14  15  16  17  18  19  20  21  22  23  24  25  26  27  28  29  30  31  32  33  34  35  36  37  38  39  40  41  42  43  44  45  46  47  48  49  50  51  52  53  54  55  56  57  58  59  60  61  62  63  64  65  66  67  68  69  70  71  72  73  74  75  76  77  78  79  80  81  82  83  84  85  86  87  88  89  90  91  92  93  94  95  96  97  98  99 100 %\n",
      "ndimage.find_objects(arr) = [(slice(43, 68, None), slice(63, 105, None), slice(40, 76, None), slice(0, 1, None))]\n",
      "/neurospin/dico/data/deep_folding/current/datasets/UkBioBank/skeletons/2mm/L/Lresampled_skeleton_sub-1201951.nii.gz\n",
      "before threshold (array([ 0,  1,  2,  3,  4,  5,  6,  7,  8,  9, 10, 11, 12, 13, 14, 15, 16,\n",
      "       17, 18, 19, 20, 21, 22, 23, 24, 25, 26, 27, 28, 29, 30, 31, 32, 33,\n",
      "       34], dtype=int16), array([1044188,    1621,     878,     566,     428,     366,     300,\n",
      "           287,     257,     218,     183,     201,     169,     156,\n",
      "           149,     123,      95,      91,      89,      52,      45,\n",
      "            30,      32,      15,      18,      14,      13,       9,\n",
      "             9,       6,       6,       4,       2,       2,       2]))\n",
      "DILATION\n",
      "after threshold and dilation (array([0, 1], dtype=int16), array([1036637,   13987]))\n",
      "[ 0.  1.  2.  3.  4.  5.  6.  7.  8.  9. 10. 11. 12. 13. 14. 15. 16. 17.\n",
      " 18. 19. 20. 21. 22. 23. 24. 25. 26. 27. 28. 29. 30. 31. 32. 33. 34.]\n",
      "[[ 9.9672675e-01 -7.7249661e-02  2.3837356e-02  1.0326248e+01]\n",
      " [ 7.2567441e-02  9.8487133e-01  1.5736087e-01 -2.2717651e+01]\n",
      " [-3.5632800e-02 -1.5511598e-01  9.8725343e-01  3.0920929e+01]\n",
      " [ 0.0000000e+00  0.0000000e+00  0.0000000e+00  1.0000000e+00]]\n",
      "before threshold (array([ 0,  1,  2,  3,  4,  5,  6,  7,  8,  9, 10, 11, 12, 13, 14, 15, 16,\n",
      "       17, 18, 19, 20, 21, 22, 23, 24, 25, 26, 27, 28, 29, 30, 31, 32, 33,\n",
      "       34], dtype=int16), array([1044188,    1621,     878,     566,     428,     366,     300,\n",
      "           287,     257,     218,     183,     201,     169,     156,\n",
      "           149,     123,      95,      91,      89,      52,      45,\n",
      "            30,      32,      15,      18,      14,      13,       9,\n",
      "             9,       6,       6,       4,       2,       2,       2]))\n",
      "DILATION\n",
      "after threshold and dilation (array([0, 1], dtype=int16), array([1036637,   13987]))\n"
     ]
    },
    {
     "name": "stderr",
     "output_type": "stream",
     "text": [
      "/usr/lib/python3/dist-packages/scipy/__init__.py:146: UserWarning: A NumPy version >=1.17.3 and <1.25.0 is required for this version of SciPy (detected version 1.26.4\n",
      "  warnings.warn(f\"A NumPy version >={np_minversion} and <{np_maxversion}\"\n"
     ]
    },
    {
     "name": "stdout",
     "output_type": "stream",
     "text": [
      "loading direct transformations\n",
      "Output dimensions: 96, 114, 96\n",
      "Output voxel size: 2, 2, 2 mm\n",
      "Resampling carto_volume of S16...   0   1   2   3   4   5   6   7   8   9  10  11  12  13  14  15  16  17  18  19  20  21  22  23  24  25  26  27  28  29  30  31  32  33  34  35  36  37  38  39  40  41  42  43  44  45  46  47  48  49  50  51  52  53  54  55  56  57  58  59  60  61  62  63  64  65  66  67  68  69  70  71  72  73  74  75  76  77  78  79  80  81  82  83  84  85  86  87  88  89  90  91  92  93  94  95  96  97  98  99 100 %\n"
     ]
    },
    {
     "name": "stderr",
     "output_type": "stream",
     "text": [
      "/usr/lib/python3/dist-packages/scipy/__init__.py:146: UserWarning: A NumPy version >=1.17.3 and <1.25.0 is required for this version of SciPy (detected version 1.26.4\n",
      "  warnings.warn(f\"A NumPy version >={np_minversion} and <{np_maxversion}\"\n"
     ]
    },
    {
     "name": "stdout",
     "output_type": "stream",
     "text": [
      "loading direct transformations\n",
      "Output dimensions: 96, 114, 96\n",
      "Output voxel size: 2, 2, 2 mm\n",
      "Resampling carto_volume of S16...   0   1   2   3   4   5   6   7   8   9  10  11  12  13  14  15  16  17  18  19  20  21  22  23  24  25  26  27  28  29  30  31  32  33  34  35  36  37  38  39  40  41  42  43  44  45  46  47  48  49  50  51  52  53  54  55  56  57  58  59  60  61  62  63  64  65  66  67  68  69  70  71  72  73  74  75  76  77  78  79  80  81  82  83  84  85  86  87  88  89  90  91  92  93  94  95  96  97  98  99 100 %\n",
      "ndimage.find_objects(arr) = [(slice(43, 68, None), slice(63, 105, None), slice(40, 76, None), slice(0, 1, None))]\n",
      "/neurospin/dico/data/deep_folding/current/datasets/UkBioBank/skeletons/2mm/L/Lresampled_skeleton_sub-1465471.nii.gz\n",
      "before threshold (array([ 0,  1,  2,  3,  4,  5,  6,  7,  8,  9, 10, 11, 12, 13, 14, 15, 16,\n",
      "       17, 18, 19, 20, 21, 22, 23, 24, 25, 26, 27, 28, 29, 30, 31, 32, 33,\n",
      "       34], dtype=int16), array([1044188,    1621,     878,     566,     428,     366,     300,\n",
      "           287,     257,     218,     183,     201,     169,     156,\n",
      "           149,     123,      95,      91,      89,      52,      45,\n",
      "            30,      32,      15,      18,      14,      13,       9,\n",
      "             9,       6,       6,       4,       2,       2,       2]))\n",
      "DILATION\n",
      "after threshold and dilation (array([0, 1], dtype=int16), array([1036637,   13987]))\n",
      "[ 0.  1.  2.  3.  4.  5.  6.  7.  8.  9. 10. 11. 12. 13. 14. 15. 16. 17.\n",
      " 18. 19. 20. 21. 22. 23. 24. 25. 26. 27. 28. 29. 30. 31. 32. 33. 34.]\n",
      "[[ 9.8264903e-01 -5.6019314e-03  1.8539001e-01 -1.6500877e+01]\n",
      " [-5.6020217e-03  9.9819136e-01  5.9855547e-02 -5.7927551e+00]\n",
      " [-1.8539001e-01 -5.9855554e-02  9.8084038e-01  3.1977409e+01]\n",
      " [ 0.0000000e+00  0.0000000e+00  0.0000000e+00  1.0000000e+00]]\n",
      "before threshold (array([ 0,  1,  2,  3,  4,  5,  6,  7,  8,  9, 10, 11, 12, 13, 14, 15, 16,\n",
      "       17, 18, 19, 20, 21, 22, 23, 24, 25, 26, 27, 28, 29, 30, 31, 32, 33,\n",
      "       34], dtype=int16), array([1044188,    1621,     878,     566,     428,     366,     300,\n",
      "           287,     257,     218,     183,     201,     169,     156,\n",
      "           149,     123,      95,      91,      89,      52,      45,\n",
      "            30,      32,      15,      18,      14,      13,       9,\n",
      "             9,       6,       6,       4,       2,       2,       2]))\n",
      "DILATION\n",
      "after threshold and dilation (array([0, 1], dtype=int16), array([1036637,   13987]))\n"
     ]
    },
    {
     "name": "stderr",
     "output_type": "stream",
     "text": [
      "/usr/lib/python3/dist-packages/scipy/__init__.py:146: UserWarning: A NumPy version >=1.17.3 and <1.25.0 is required for this version of SciPy (detected version 1.26.4\n",
      "  warnings.warn(f\"A NumPy version >={np_minversion} and <{np_maxversion}\"\n"
     ]
    },
    {
     "name": "stdout",
     "output_type": "stream",
     "text": [
      "loading direct transformations\n",
      "Output dimensions: 96, 114, 96\n",
      "Output voxel size: 2, 2, 2 mm\n",
      "Resampling carto_volume of S16...   0   1   2   3   4   5   6   7   8   9  10  11  12  13  14  15  16  17  18  19  20  21  22  23  24  25  26  27  28  29  30  31  32  33  34  35  36  37  38  39  40  41  42  43  44  45  46  47  48  49  50  51  52  53  54  55  56  57  58  59  60  61  62  63  64  65  66  67  68  69  70  71  72  73  74  75  76  77  78  79  80  81  82  83  84  85  86  87  88  89  90  91  92  93  94  95  96  97  98  99 100 %\n"
     ]
    },
    {
     "name": "stderr",
     "output_type": "stream",
     "text": [
      "/usr/lib/python3/dist-packages/scipy/__init__.py:146: UserWarning: A NumPy version >=1.17.3 and <1.25.0 is required for this version of SciPy (detected version 1.26.4\n",
      "  warnings.warn(f\"A NumPy version >={np_minversion} and <{np_maxversion}\"\n"
     ]
    },
    {
     "name": "stdout",
     "output_type": "stream",
     "text": [
      "loading direct transformations\n",
      "Output dimensions: 96, 114, 96\n",
      "Output voxel size: 2, 2, 2 mm\n",
      "Resampling carto_volume of S16...   0   1   2   3   4   5   6   7   8   9  10  11  12  13  14  15  16  17  18  19  20  21  22  23  24  25  26  27  28  29  30  31  32  33  34  35  36  37  38  39  40  41  42  43  44  45  46  47  48  49  50  51  52  53  54  55  56  57  58  59  60  61  62  63  64  65  66  67  68  69  70  71  72  73  74  75  76  77  78  79  80  81  82  83  84  85  86  87  88  89  90  91  92  93  94  95  96  97  98  99 100 %\n",
      "ndimage.find_objects(arr) = [(slice(43, 68, None), slice(63, 105, None), slice(40, 76, None), slice(0, 1, None))]\n",
      "/neurospin/dico/data/deep_folding/current/datasets/UkBioBank/skeletons/2mm/L/Lresampled_skeleton_sub-4322807.nii.gz\n",
      "before threshold (array([ 0,  1,  2,  3,  4,  5,  6,  7,  8,  9, 10, 11, 12, 13, 14, 15, 16,\n",
      "       17, 18, 19, 20, 21, 22, 23, 24, 25, 26, 27, 28, 29, 30, 31, 32, 33,\n",
      "       34], dtype=int16), array([1044188,    1621,     878,     566,     428,     366,     300,\n",
      "           287,     257,     218,     183,     201,     169,     156,\n",
      "           149,     123,      95,      91,      89,      52,      45,\n",
      "            30,      32,      15,      18,      14,      13,       9,\n",
      "             9,       6,       6,       4,       2,       2,       2]))\n",
      "DILATION\n",
      "after threshold and dilation (array([0, 1], dtype=int16), array([1036637,   13987]))\n",
      "[ 0.  1.  2.  3.  4.  5.  6.  7.  8.  9. 10. 11. 12. 13. 14. 15. 16. 17.\n",
      " 18. 19. 20. 21. 22. 23. 24. 25. 26. 27. 28. 29. 30. 31. 32. 33. 34.]\n",
      "[[ 9.9984372e-01  6.5071083e-04  1.7665226e-02 -2.0521774e+00]\n",
      " [ 6.8159238e-04  9.9716002e-01 -7.5308897e-02  1.0249939e+01]\n",
      " [-1.7664062e-02  7.5309172e-02  9.9700379e-01 -1.0226013e+01]\n",
      " [ 0.0000000e+00  0.0000000e+00  0.0000000e+00  1.0000000e+00]]\n",
      "before threshold (array([ 0,  1,  2,  3,  4,  5,  6,  7,  8,  9, 10, 11, 12, 13, 14, 15, 16,\n",
      "       17, 18, 19, 20, 21, 22, 23, 24, 25, 26, 27, 28, 29, 30, 31, 32, 33,\n",
      "       34], dtype=int16), array([1044188,    1621,     878,     566,     428,     366,     300,\n",
      "           287,     257,     218,     183,     201,     169,     156,\n",
      "           149,     123,      95,      91,      89,      52,      45,\n",
      "            30,      32,      15,      18,      14,      13,       9,\n",
      "             9,       6,       6,       4,       2,       2,       2]))\n",
      "DILATION\n",
      "after threshold and dilation (array([0, 1], dtype=int16), array([1036637,   13987]))\n"
     ]
    },
    {
     "name": "stderr",
     "output_type": "stream",
     "text": [
      "/usr/lib/python3/dist-packages/scipy/__init__.py:146: UserWarning: A NumPy version >=1.17.3 and <1.25.0 is required for this version of SciPy (detected version 1.26.4\n",
      "  warnings.warn(f\"A NumPy version >={np_minversion} and <{np_maxversion}\"\n"
     ]
    },
    {
     "name": "stdout",
     "output_type": "stream",
     "text": [
      "loading direct transformations\n",
      "Output dimensions: 96, 114, 96\n",
      "Output voxel size: 2, 2, 2 mm\n",
      "Resampling carto_volume of S16...   0   1   2   3   4   5   6   7   8   9  10  11  12  13  14  15  16  17  18  19  20  21  22  23  24  25  26  27  28  29  30  31  32  33  34  35  36  37  38  39  40  41  42  43  44  45  46  47  48  49  50  51  52  53  54  55  56  57  58  59  60  61  62  63  64  65  66  67  68  69  70  71  72  73  74  75  76  77  78  79  80  81  82  83  84  85  86  87  88  89  90  91  92  93  94  95  96  97  98  99 100 %\n"
     ]
    },
    {
     "name": "stderr",
     "output_type": "stream",
     "text": [
      "/usr/lib/python3/dist-packages/scipy/__init__.py:146: UserWarning: A NumPy version >=1.17.3 and <1.25.0 is required for this version of SciPy (detected version 1.26.4\n",
      "  warnings.warn(f\"A NumPy version >={np_minversion} and <{np_maxversion}\"\n"
     ]
    },
    {
     "name": "stdout",
     "output_type": "stream",
     "text": [
      "loading direct transformations\n",
      "Output dimensions: 96, 114, 96\n",
      "Output voxel size: 2, 2, 2 mm\n",
      "Resampling carto_volume of S16...   0   1   2   3   4   5   6   7   8   9  10  11  12  13  14  15  16  17  18  19  20  21  22  23  24  25  26  27  28  29  30  31  32  33  34  35  36  37  38  39  40  41  42  43  44  45  46  47  48  49  50  51  52  53  54  55  56  57  58  59  60  61  62  63  64  65  66  67  68  69  70  71  72  73  74  75  76  77  78  79  80  81  82  83  84  85  86  87  88  89  90  91  92  93  94  95  96  97  98  99 100 %\n",
      "ndimage.find_objects(arr) = [(slice(43, 68, None), slice(63, 105, None), slice(40, 76, None), slice(0, 1, None))]\n",
      "/neurospin/dico/data/deep_folding/current/datasets/UkBioBank/skeletons/2mm/L/Lresampled_skeleton_sub-3043018.nii.gz\n",
      "before threshold (array([ 0,  1,  2,  3,  4,  5,  6,  7,  8,  9, 10, 11, 12, 13, 14, 15, 16,\n",
      "       17, 18, 19, 20, 21, 22, 23, 24, 25, 26, 27, 28, 29, 30, 31, 32, 33,\n",
      "       34], dtype=int16), array([1044188,    1621,     878,     566,     428,     366,     300,\n",
      "           287,     257,     218,     183,     201,     169,     156,\n",
      "           149,     123,      95,      91,      89,      52,      45,\n",
      "            30,      32,      15,      18,      14,      13,       9,\n",
      "             9,       6,       6,       4,       2,       2,       2]))\n",
      "DILATION\n",
      "after threshold and dilation (array([0, 1], dtype=int16), array([1036637,   13987]))\n",
      "[ 0.  1.  2.  3.  4.  5.  6.  7.  8.  9. 10. 11. 12. 13. 14. 15. 16. 17.\n",
      " 18. 19. 20. 21. 22. 23. 24. 25. 26. 27. 28. 29. 30. 31. 32. 33. 34.]\n",
      "[[ 9.8145342e-01 -3.8585197e-03  1.9166192e-01 -1.8748695e+01]\n",
      " [-5.7382230e-03  9.9875808e-01  4.9490929e-02 -4.7679596e+00]\n",
      " [-1.9161485e-01 -4.9672838e-02  9.8021239e-01  3.0853043e+01]\n",
      " [ 0.0000000e+00  0.0000000e+00  0.0000000e+00  1.0000000e+00]]\n",
      "before threshold (array([ 0,  1,  2,  3,  4,  5,  6,  7,  8,  9, 10, 11, 12, 13, 14, 15, 16,\n",
      "       17, 18, 19, 20, 21, 22, 23, 24, 25, 26, 27, 28, 29, 30, 31, 32, 33,\n",
      "       34], dtype=int16), array([1044188,    1621,     878,     566,     428,     366,     300,\n",
      "           287,     257,     218,     183,     201,     169,     156,\n",
      "           149,     123,      95,      91,      89,      52,      45,\n",
      "            30,      32,      15,      18,      14,      13,       9,\n",
      "             9,       6,       6,       4,       2,       2,       2]))\n",
      "DILATION\n",
      "after threshold and dilation (array([0, 1], dtype=int16), array([1036637,   13987]))\n"
     ]
    },
    {
     "name": "stderr",
     "output_type": "stream",
     "text": [
      "/usr/lib/python3/dist-packages/scipy/__init__.py:146: UserWarning: A NumPy version >=1.17.3 and <1.25.0 is required for this version of SciPy (detected version 1.26.4\n",
      "  warnings.warn(f\"A NumPy version >={np_minversion} and <{np_maxversion}\"\n"
     ]
    },
    {
     "name": "stdout",
     "output_type": "stream",
     "text": [
      "loading direct transformations\n",
      "Output dimensions: 96, 114, 96\n",
      "Output voxel size: 2, 2, 2 mm\n",
      "Resampling carto_volume of S16...   0   1   2   3   4   5   6   7   8   9  10  11  12  13  14  15  16  17  18  19  20  21  22  23  24  25  26  27  28  29  30  31  32  33  34  35  36  37  38  39  40  41  42  43  44  45  46  47  48  49  50  51  52  53  54  55  56  57  58  59  60  61  62  63  64  65  66  67  68  69  70  71  72  73  74  75  76  77  78  79  80  81  82  83  84  85  86  87  88  89  90  91  92  93  94  95  96  97  98  99 100 %\n"
     ]
    },
    {
     "name": "stderr",
     "output_type": "stream",
     "text": [
      "/usr/lib/python3/dist-packages/scipy/__init__.py:146: UserWarning: A NumPy version >=1.17.3 and <1.25.0 is required for this version of SciPy (detected version 1.26.4\n",
      "  warnings.warn(f\"A NumPy version >={np_minversion} and <{np_maxversion}\"\n"
     ]
    },
    {
     "name": "stdout",
     "output_type": "stream",
     "text": [
      "loading direct transformations\n",
      "Output dimensions: 96, 114, 96\n",
      "Output voxel size: 2, 2, 2 mm\n",
      "Resampling carto_volume of S16...   0   1   2   3   4   5   6   7   8   9  10  11  12  13  14  15  16  17  18  19  20  21  22  23  24  25  26  27  28  29  30  31  32  33  34  35  36  37  38  39  40  41  42  43  44  45  46  47  48  49  50  51  52  53  54  55  56  57  58  59  60  61  62  63  64  65  66  67  68  69  70  71  72  73  74  75  76  77  78  79  80  81  82  83  84  85  86  87  88  89  90  91  92  93  94  95  96  97  98  99 100 %\n",
      "ndimage.find_objects(arr) = [(slice(43, 68, None), slice(63, 105, None), slice(40, 76, None), slice(0, 1, None))]\n",
      "/neurospin/dico/data/deep_folding/current/datasets/UkBioBank/skeletons/2mm/L/Lresampled_skeleton_sub-2681846.nii.gz\n",
      "before threshold (array([ 0,  1,  2,  3,  4,  5,  6,  7,  8,  9, 10, 11, 12, 13, 14, 15, 16,\n",
      "       17, 18, 19, 20, 21, 22, 23, 24, 25, 26, 27, 28, 29, 30, 31, 32, 33,\n",
      "       34], dtype=int16), array([1044188,    1621,     878,     566,     428,     366,     300,\n",
      "           287,     257,     218,     183,     201,     169,     156,\n",
      "           149,     123,      95,      91,      89,      52,      45,\n",
      "            30,      32,      15,      18,      14,      13,       9,\n",
      "             9,       6,       6,       4,       2,       2,       2]))\n",
      "DILATION\n",
      "after threshold and dilation (array([0, 1], dtype=int16), array([1036637,   13987]))\n",
      "[ 0.  1.  2.  3.  4.  5.  6.  7.  8.  9. 10. 11. 12. 13. 14. 15. 16. 17.\n",
      " 18. 19. 20. 21. 22. 23. 24. 25. 26. 27. 28. 29. 30. 31. 32. 33. 34.]\n",
      "[[ 9.8256183e-01 -1.8061604e-01  4.4159658e-02  2.7590904e+01]\n",
      " [ 1.3987012e-01  8.7446570e-01  4.6448475e-01 -4.5127487e+01]\n",
      " [-1.2250950e-01 -4.5020837e-01  8.8447940e-01  1.0106145e+02]\n",
      " [ 0.0000000e+00  0.0000000e+00  0.0000000e+00  1.0000000e+00]]\n",
      "before threshold (array([ 0,  1,  2,  3,  4,  5,  6,  7,  8,  9, 10, 11, 12, 13, 14, 15, 16,\n",
      "       17, 18, 19, 20, 21, 22, 23, 24, 25, 26, 27, 28, 29, 30, 31, 32, 33,\n",
      "       34], dtype=int16), array([1044188,    1621,     878,     566,     428,     366,     300,\n",
      "           287,     257,     218,     183,     201,     169,     156,\n",
      "           149,     123,      95,      91,      89,      52,      45,\n",
      "            30,      32,      15,      18,      14,      13,       9,\n",
      "             9,       6,       6,       4,       2,       2,       2]))\n",
      "DILATION\n",
      "after threshold and dilation (array([0, 1], dtype=int16), array([1036637,   13987]))\n"
     ]
    },
    {
     "name": "stderr",
     "output_type": "stream",
     "text": [
      "/usr/lib/python3/dist-packages/scipy/__init__.py:146: UserWarning: A NumPy version >=1.17.3 and <1.25.0 is required for this version of SciPy (detected version 1.26.4\n",
      "  warnings.warn(f\"A NumPy version >={np_minversion} and <{np_maxversion}\"\n"
     ]
    },
    {
     "name": "stdout",
     "output_type": "stream",
     "text": [
      "loading direct transformations\n",
      "Output dimensions: 96, 114, 96\n",
      "Output voxel size: 2, 2, 2 mm\n",
      "Resampling carto_volume of S16...   0   1   2   3   4   5   6   7   8   9  10  11  12  13  14  15  16  17  18  19  20  21  22  23  24  25  26  27  28  29  30  31  32  33  34  35  36  37  38  39  40  41  42  43  44  45  46  47  48  49  50  51  52  53  54  55  56  57  58  59  60  61  62  63  64  65  66  67  68  69  70  71  72  73  74  75  76  77  78  79  80  81  82  83  84  85  86  87  88  89  90  91  92  93  94  95  96  97  98  99 100 %\n"
     ]
    },
    {
     "name": "stderr",
     "output_type": "stream",
     "text": [
      "/usr/lib/python3/dist-packages/scipy/__init__.py:146: UserWarning: A NumPy version >=1.17.3 and <1.25.0 is required for this version of SciPy (detected version 1.26.4\n",
      "  warnings.warn(f\"A NumPy version >={np_minversion} and <{np_maxversion}\"\n"
     ]
    },
    {
     "name": "stdout",
     "output_type": "stream",
     "text": [
      "loading direct transformations\n",
      "Output dimensions: 96, 114, 96\n",
      "Output voxel size: 2, 2, 2 mm\n",
      "Resampling carto_volume of S16...   0   1   2   3   4   5   6   7   8   9  10  11  12  13  14  15  16  17  18  19  20  21  22  23  24  25  26  27  28  29  30  31  32  33  34  35  36  37  38  39  40  41  42  43  44  45  46  47  48  49  50  51  52  53  54  55  56  57  58  59  60  61  62  63  64  65  66  67  68  69  70  71  72  73  74  75  76  77  78  79  80  81  82  83  84  85  86  87  88  89  90  91  92  93  94  95  96  97  98  99 100 %\n",
      "ndimage.find_objects(arr) = [(slice(43, 68, None), slice(63, 105, None), slice(40, 76, None), slice(0, 1, None))]\n",
      "/neurospin/dico/data/deep_folding/current/datasets/UkBioBank/skeletons/2mm/L/Lresampled_skeleton_sub-1357127.nii.gz\n",
      "before threshold (array([ 0,  1,  2,  3,  4,  5,  6,  7,  8,  9, 10, 11, 12, 13, 14, 15, 16,\n",
      "       17, 18, 19, 20, 21, 22, 23, 24, 25, 26, 27, 28, 29, 30, 31, 32, 33,\n",
      "       34], dtype=int16), array([1044188,    1621,     878,     566,     428,     366,     300,\n",
      "           287,     257,     218,     183,     201,     169,     156,\n",
      "           149,     123,      95,      91,      89,      52,      45,\n",
      "            30,      32,      15,      18,      14,      13,       9,\n",
      "             9,       6,       6,       4,       2,       2,       2]))\n",
      "DILATION\n",
      "after threshold and dilation (array([0, 1], dtype=int16), array([1036637,   13987]))\n",
      "[ 0.  1.  2.  3.  4.  5.  6.  7.  8.  9. 10. 11. 12. 13. 14. 15. 16. 17.\n",
      " 18. 19. 20. 21. 22. 23. 24. 25. 26. 27. 28. 29. 30. 31. 32. 33. 34.]\n",
      "[[ 9.9972218e-01 -6.1033067e-04 -2.3563607e-02  2.7571869e+00]\n",
      " [ 6.8629128e-03  9.6389246e-01  2.6620343e-01 -2.4837784e+01]\n",
      " [ 2.2550311e-02 -2.6629117e-01  9.6362883e-01  4.5536980e+01]\n",
      " [ 0.0000000e+00  0.0000000e+00  0.0000000e+00  1.0000000e+00]]\n",
      "before threshold (array([ 0,  1,  2,  3,  4,  5,  6,  7,  8,  9, 10, 11, 12, 13, 14, 15, 16,\n",
      "       17, 18, 19, 20, 21, 22, 23, 24, 25, 26, 27, 28, 29, 30, 31, 32, 33,\n",
      "       34], dtype=int16), array([1044188,    1621,     878,     566,     428,     366,     300,\n",
      "           287,     257,     218,     183,     201,     169,     156,\n",
      "           149,     123,      95,      91,      89,      52,      45,\n",
      "            30,      32,      15,      18,      14,      13,       9,\n",
      "             9,       6,       6,       4,       2,       2,       2]))\n",
      "DILATION\n",
      "after threshold and dilation (array([0, 1], dtype=int16), array([1036637,   13987]))\n"
     ]
    },
    {
     "name": "stderr",
     "output_type": "stream",
     "text": [
      "/usr/lib/python3/dist-packages/scipy/__init__.py:146: UserWarning: A NumPy version >=1.17.3 and <1.25.0 is required for this version of SciPy (detected version 1.26.4\n",
      "  warnings.warn(f\"A NumPy version >={np_minversion} and <{np_maxversion}\"\n"
     ]
    },
    {
     "name": "stdout",
     "output_type": "stream",
     "text": [
      "loading direct transformations\n",
      "Output dimensions: 96, 114, 96\n",
      "Output voxel size: 2, 2, 2 mm\n",
      "Resampling carto_volume of S16...   0   1   2   3   4   5   6   7   8   9  10  11  12  13  14  15  16  17  18  19  20  21  22  23  24  25  26  27  28  29  30  31  32  33  34  35  36  37  38  39  40  41  42  43  44  45  46  47  48  49  50  51  52  53  54  55  56  57  58  59  60  61  62  63  64  65  66  67  68  69  70  71  72  73  74  75  76  77  78  79  80  81  82  83  84  85  86  87  88  89  90  91  92  93  94  95  96  97  98  99 100 %\n"
     ]
    },
    {
     "name": "stderr",
     "output_type": "stream",
     "text": [
      "/usr/lib/python3/dist-packages/scipy/__init__.py:146: UserWarning: A NumPy version >=1.17.3 and <1.25.0 is required for this version of SciPy (detected version 1.26.4\n",
      "  warnings.warn(f\"A NumPy version >={np_minversion} and <{np_maxversion}\"\n"
     ]
    },
    {
     "name": "stdout",
     "output_type": "stream",
     "text": [
      "loading direct transformations\n",
      "Output dimensions: 96, 114, 96\n",
      "Output voxel size: 2, 2, 2 mm\n",
      "Resampling carto_volume of S16...   0   1   2   3   4   5   6   7   8   9  10  11  12  13  14  15  16  17  18  19  20  21  22  23  24  25  26  27  28  29  30  31  32  33  34  35  36  37  38  39  40  41  42  43  44  45  46  47  48  49  50  51  52  53  54  55  56  57  58  59  60  61  62  63  64  65  66  67  68  69  70  71  72  73  74  75  76  77  78  79  80  81  82  83  84  85  86  87  88  89  90  91  92  93  94  95  96  97  98  99 100 %\n",
      "ndimage.find_objects(arr) = [(slice(43, 68, None), slice(63, 105, None), slice(40, 76, None), slice(0, 1, None))]\n"
     ]
    }
   ],
   "source": [
    "before_all = copy_volume_info(spam_vol, 'S16')\n",
    "after_all = copy_volume_info(spam_vol, 'S16')\n",
    "spam_vol = aims.read(spam_file, dtype=\"Volume_FLOAT\")\n",
    "list_after_cropped = []\n",
    "subject_l = []\n",
    "all_l = []\n",
    "\n",
    "def realign_one_subject(skel_f):\n",
    "    global before_all, after_all, spam_vol\n",
    "    # Gets skeleton and subject name\n",
    "    print(skel_f)\n",
    "    sub_name = skel_f.split('_')[-1].split('.')[0]\n",
    "    skel_vol = aims.read(skel_f)\n",
    "    \n",
    "    # Realign\n",
    "    b, r, s, mask_dilated = realign(spam_vol, skel_vol, True, sub_name)\n",
    "    \n",
    "    # Gets volume before and after\n",
    "    before = copy_volume_info(spam_vol, 'S16')\n",
    "    before += b\n",
    "    after = copy_volume_info(spam_vol, 'S16')\n",
    "    after += r\n",
    "    spam_after = copy_volume_info(spam_vol, 'S16')\n",
    "    spam_after += s  \n",
    "    \n",
    "    # Crop volume to mask_dilated size\n",
    "    bbmin, bbmax = compute_bbox_mask(mask_dilated)\n",
    "    after_cropped = aims.VolumeView(after, bbmin, bbmax - bbmin)\n",
    "    \n",
    "    return (sub_name, after_cropped, before, after)\n",
    "\n",
    "chosen_skel_files = skel_files[:60]\n",
    "\n",
    "if _parallel:\n",
    "    all_l = p_map(realign_one_subject, chosen_skel_files, num_cpus=46)\n",
    "else:\n",
    "    for skel_f in chosen_skel_files:\n",
    "        all_l.append(realign_one_subject(skel_f))\n",
    "    \n",
    "for sub_name, after_cropped, before, after in all_l:\n",
    "    subject_l.append(sub_name)\n",
    "    list_after_cropped.append(after_cropped)\n",
    "    # Adds volume to concatenate volume\n",
    "    before_all += before\n",
    "    after_all += after\n",
    "    \n"
   ]
  },
  {
   "cell_type": "code",
   "execution_count": 518,
   "metadata": {},
   "outputs": [
    {
     "data": {
      "text/plain": [
       "['sub-5809266',\n",
       " 'sub-4192947',\n",
       " 'sub-1851213',\n",
       " 'sub-1755382',\n",
       " 'sub-1743426',\n",
       " 'sub-1702628',\n",
       " 'sub-4497009',\n",
       " 'sub-3089656',\n",
       " 'sub-4784773',\n",
       " 'sub-1768672',\n",
       " 'sub-4429017',\n",
       " 'sub-2313010',\n",
       " 'sub-5906677',\n",
       " 'sub-2323853',\n",
       " 'sub-2429755',\n",
       " 'sub-2242301',\n",
       " 'sub-1037052',\n",
       " 'sub-5603035',\n",
       " 'sub-4707694',\n",
       " 'sub-5023079',\n",
       " 'sub-3427351',\n",
       " 'sub-4730906',\n",
       " 'sub-5665066',\n",
       " 'sub-3415482',\n",
       " 'sub-5645677',\n",
       " 'sub-3505608',\n",
       " 'sub-2863115',\n",
       " 'sub-4323239',\n",
       " 'sub-3220768',\n",
       " 'sub-4372801',\n",
       " 'sub-1482435',\n",
       " 'sub-3314499',\n",
       " 'sub-3947659',\n",
       " 'sub-5769817',\n",
       " 'sub-2271266',\n",
       " 'sub-3542303',\n",
       " 'sub-1876468',\n",
       " 'sub-1508718',\n",
       " 'sub-3001704',\n",
       " 'sub-1817988',\n",
       " 'sub-4818279',\n",
       " 'sub-3956683',\n",
       " 'sub-3151402',\n",
       " 'sub-3384046',\n",
       " 'sub-1743604',\n",
       " 'sub-2552580',\n",
       " 'sub-2239593',\n",
       " 'sub-4612520',\n",
       " 'sub-2790182',\n",
       " 'sub-3988338',\n",
       " 'sub-2909445',\n",
       " 'sub-2700332',\n",
       " 'sub-3490710',\n",
       " 'sub-5259223',\n",
       " 'sub-1201951',\n",
       " 'sub-1465471',\n",
       " 'sub-4322807',\n",
       " 'sub-3043018',\n",
       " 'sub-2681846',\n",
       " 'sub-1357127']"
      ]
     },
     "execution_count": 518,
     "metadata": {},
     "output_type": "execute_result"
    }
   ],
   "source": [
    "subject_l"
   ]
  },
  {
   "cell_type": "code",
   "execution_count": 543,
   "metadata": {},
   "outputs": [
    {
     "data": {
      "text/plain": [
       "['/neurospin/dico/data/deep_folding/current/datasets/UkBioBank/skeletons/2mm/L/Lresampled_skeleton_sub-5809266.nii.gz',\n",
       " '/neurospin/dico/data/deep_folding/current/datasets/UkBioBank/skeletons/2mm/L/Lresampled_skeleton_sub-4192947.nii.gz',\n",
       " '/neurospin/dico/data/deep_folding/current/datasets/UkBioBank/skeletons/2mm/L/Lresampled_skeleton_sub-1851213.nii.gz',\n",
       " '/neurospin/dico/data/deep_folding/current/datasets/UkBioBank/skeletons/2mm/L/Lresampled_skeleton_sub-1755382.nii.gz',\n",
       " '/neurospin/dico/data/deep_folding/current/datasets/UkBioBank/skeletons/2mm/L/Lresampled_skeleton_sub-1743426.nii.gz',\n",
       " '/neurospin/dico/data/deep_folding/current/datasets/UkBioBank/skeletons/2mm/L/Lresampled_skeleton_sub-1702628.nii.gz',\n",
       " '/neurospin/dico/data/deep_folding/current/datasets/UkBioBank/skeletons/2mm/L/Lresampled_skeleton_sub-4497009.nii.gz',\n",
       " '/neurospin/dico/data/deep_folding/current/datasets/UkBioBank/skeletons/2mm/L/Lresampled_skeleton_sub-3089656.nii.gz',\n",
       " '/neurospin/dico/data/deep_folding/current/datasets/UkBioBank/skeletons/2mm/L/Lresampled_skeleton_sub-4784773.nii.gz',\n",
       " '/neurospin/dico/data/deep_folding/current/datasets/UkBioBank/skeletons/2mm/L/Lresampled_skeleton_sub-1768672.nii.gz',\n",
       " '/neurospin/dico/data/deep_folding/current/datasets/UkBioBank/skeletons/2mm/L/Lresampled_skeleton_sub-4429017.nii.gz',\n",
       " '/neurospin/dico/data/deep_folding/current/datasets/UkBioBank/skeletons/2mm/L/Lresampled_skeleton_sub-2313010.nii.gz',\n",
       " '/neurospin/dico/data/deep_folding/current/datasets/UkBioBank/skeletons/2mm/L/Lresampled_skeleton_sub-5906677.nii.gz',\n",
       " '/neurospin/dico/data/deep_folding/current/datasets/UkBioBank/skeletons/2mm/L/Lresampled_skeleton_sub-2323853.nii.gz',\n",
       " '/neurospin/dico/data/deep_folding/current/datasets/UkBioBank/skeletons/2mm/L/Lresampled_skeleton_sub-2429755.nii.gz',\n",
       " '/neurospin/dico/data/deep_folding/current/datasets/UkBioBank/skeletons/2mm/L/Lresampled_skeleton_sub-2242301.nii.gz',\n",
       " '/neurospin/dico/data/deep_folding/current/datasets/UkBioBank/skeletons/2mm/L/Lresampled_skeleton_sub-1037052.nii.gz',\n",
       " '/neurospin/dico/data/deep_folding/current/datasets/UkBioBank/skeletons/2mm/L/Lresampled_skeleton_sub-5603035.nii.gz',\n",
       " '/neurospin/dico/data/deep_folding/current/datasets/UkBioBank/skeletons/2mm/L/Lresampled_skeleton_sub-4707694.nii.gz',\n",
       " '/neurospin/dico/data/deep_folding/current/datasets/UkBioBank/skeletons/2mm/L/Lresampled_skeleton_sub-5023079.nii.gz',\n",
       " '/neurospin/dico/data/deep_folding/current/datasets/UkBioBank/skeletons/2mm/L/Lresampled_skeleton_sub-3427351.nii.gz',\n",
       " '/neurospin/dico/data/deep_folding/current/datasets/UkBioBank/skeletons/2mm/L/Lresampled_skeleton_sub-4730906.nii.gz',\n",
       " '/neurospin/dico/data/deep_folding/current/datasets/UkBioBank/skeletons/2mm/L/Lresampled_skeleton_sub-5665066.nii.gz',\n",
       " '/neurospin/dico/data/deep_folding/current/datasets/UkBioBank/skeletons/2mm/L/Lresampled_skeleton_sub-3415482.nii.gz',\n",
       " '/neurospin/dico/data/deep_folding/current/datasets/UkBioBank/skeletons/2mm/L/Lresampled_skeleton_sub-5645677.nii.gz',\n",
       " '/neurospin/dico/data/deep_folding/current/datasets/UkBioBank/skeletons/2mm/L/Lresampled_skeleton_sub-3505608.nii.gz',\n",
       " '/neurospin/dico/data/deep_folding/current/datasets/UkBioBank/skeletons/2mm/L/Lresampled_skeleton_sub-2863115.nii.gz',\n",
       " '/neurospin/dico/data/deep_folding/current/datasets/UkBioBank/skeletons/2mm/L/Lresampled_skeleton_sub-4323239.nii.gz',\n",
       " '/neurospin/dico/data/deep_folding/current/datasets/UkBioBank/skeletons/2mm/L/Lresampled_skeleton_sub-3220768.nii.gz',\n",
       " '/neurospin/dico/data/deep_folding/current/datasets/UkBioBank/skeletons/2mm/L/Lresampled_skeleton_sub-4372801.nii.gz',\n",
       " '/neurospin/dico/data/deep_folding/current/datasets/UkBioBank/skeletons/2mm/L/Lresampled_skeleton_sub-1482435.nii.gz',\n",
       " '/neurospin/dico/data/deep_folding/current/datasets/UkBioBank/skeletons/2mm/L/Lresampled_skeleton_sub-3314499.nii.gz',\n",
       " '/neurospin/dico/data/deep_folding/current/datasets/UkBioBank/skeletons/2mm/L/Lresampled_skeleton_sub-3947659.nii.gz',\n",
       " '/neurospin/dico/data/deep_folding/current/datasets/UkBioBank/skeletons/2mm/L/Lresampled_skeleton_sub-5769817.nii.gz',\n",
       " '/neurospin/dico/data/deep_folding/current/datasets/UkBioBank/skeletons/2mm/L/Lresampled_skeleton_sub-2271266.nii.gz',\n",
       " '/neurospin/dico/data/deep_folding/current/datasets/UkBioBank/skeletons/2mm/L/Lresampled_skeleton_sub-3542303.nii.gz',\n",
       " '/neurospin/dico/data/deep_folding/current/datasets/UkBioBank/skeletons/2mm/L/Lresampled_skeleton_sub-1876468.nii.gz',\n",
       " '/neurospin/dico/data/deep_folding/current/datasets/UkBioBank/skeletons/2mm/L/Lresampled_skeleton_sub-1508718.nii.gz',\n",
       " '/neurospin/dico/data/deep_folding/current/datasets/UkBioBank/skeletons/2mm/L/Lresampled_skeleton_sub-3001704.nii.gz',\n",
       " '/neurospin/dico/data/deep_folding/current/datasets/UkBioBank/skeletons/2mm/L/Lresampled_skeleton_sub-1817988.nii.gz',\n",
       " '/neurospin/dico/data/deep_folding/current/datasets/UkBioBank/skeletons/2mm/L/Lresampled_skeleton_sub-4818279.nii.gz',\n",
       " '/neurospin/dico/data/deep_folding/current/datasets/UkBioBank/skeletons/2mm/L/Lresampled_skeleton_sub-3956683.nii.gz',\n",
       " '/neurospin/dico/data/deep_folding/current/datasets/UkBioBank/skeletons/2mm/L/Lresampled_skeleton_sub-3151402.nii.gz',\n",
       " '/neurospin/dico/data/deep_folding/current/datasets/UkBioBank/skeletons/2mm/L/Lresampled_skeleton_sub-3384046.nii.gz',\n",
       " '/neurospin/dico/data/deep_folding/current/datasets/UkBioBank/skeletons/2mm/L/Lresampled_skeleton_sub-1743604.nii.gz',\n",
       " '/neurospin/dico/data/deep_folding/current/datasets/UkBioBank/skeletons/2mm/L/Lresampled_skeleton_sub-2552580.nii.gz',\n",
       " '/neurospin/dico/data/deep_folding/current/datasets/UkBioBank/skeletons/2mm/L/Lresampled_skeleton_sub-2239593.nii.gz',\n",
       " '/neurospin/dico/data/deep_folding/current/datasets/UkBioBank/skeletons/2mm/L/Lresampled_skeleton_sub-4612520.nii.gz',\n",
       " '/neurospin/dico/data/deep_folding/current/datasets/UkBioBank/skeletons/2mm/L/Lresampled_skeleton_sub-2790182.nii.gz',\n",
       " '/neurospin/dico/data/deep_folding/current/datasets/UkBioBank/skeletons/2mm/L/Lresampled_skeleton_sub-3988338.nii.gz',\n",
       " '/neurospin/dico/data/deep_folding/current/datasets/UkBioBank/skeletons/2mm/L/Lresampled_skeleton_sub-2909445.nii.gz',\n",
       " '/neurospin/dico/data/deep_folding/current/datasets/UkBioBank/skeletons/2mm/L/Lresampled_skeleton_sub-2700332.nii.gz',\n",
       " '/neurospin/dico/data/deep_folding/current/datasets/UkBioBank/skeletons/2mm/L/Lresampled_skeleton_sub-3490710.nii.gz',\n",
       " '/neurospin/dico/data/deep_folding/current/datasets/UkBioBank/skeletons/2mm/L/Lresampled_skeleton_sub-5259223.nii.gz',\n",
       " '/neurospin/dico/data/deep_folding/current/datasets/UkBioBank/skeletons/2mm/L/Lresampled_skeleton_sub-1201951.nii.gz',\n",
       " '/neurospin/dico/data/deep_folding/current/datasets/UkBioBank/skeletons/2mm/L/Lresampled_skeleton_sub-1465471.nii.gz',\n",
       " '/neurospin/dico/data/deep_folding/current/datasets/UkBioBank/skeletons/2mm/L/Lresampled_skeleton_sub-4322807.nii.gz',\n",
       " '/neurospin/dico/data/deep_folding/current/datasets/UkBioBank/skeletons/2mm/L/Lresampled_skeleton_sub-3043018.nii.gz',\n",
       " '/neurospin/dico/data/deep_folding/current/datasets/UkBioBank/skeletons/2mm/L/Lresampled_skeleton_sub-2681846.nii.gz',\n",
       " '/neurospin/dico/data/deep_folding/current/datasets/UkBioBank/skeletons/2mm/L/Lresampled_skeleton_sub-1357127.nii.gz']"
      ]
     },
     "execution_count": 543,
     "metadata": {},
     "output_type": "execute_result"
    },
    {
     "ename": "",
     "evalue": "",
     "output_type": "error",
     "traceback": [
      "\u001b[1;31mThe Kernel crashed while executing code in the current cell or a previous cell. \n",
      "\u001b[1;31mPlease review the code in the cell(s) to identify a possible cause of the failure. \n",
      "\u001b[1;31mClick <a href='https://aka.ms/vscodeJupyterKernelCrash'>here</a> for more info. \n",
      "\u001b[1;31mView Jupyter <a href='command:jupyter.viewOutput'>log</a> for further details."
     ]
    }
   ],
   "source": [
    "chosen_skel_files"
   ]
  },
  {
   "cell_type": "code",
   "execution_count": 519,
   "metadata": {},
   "outputs": [
    {
     "data": {
      "text/plain": [
       "60"
      ]
     },
     "execution_count": 519,
     "metadata": {},
     "output_type": "execute_result"
    }
   ],
   "source": [
    "len(list_after_cropped)"
   ]
  },
  {
   "cell_type": "code",
   "execution_count": 520,
   "metadata": {},
   "outputs": [
    {
     "data": {
      "text/plain": [
       "21051"
      ]
     },
     "execution_count": 520,
     "metadata": {},
     "output_type": "execute_result"
    }
   ],
   "source": [
    "len(skel_files)"
   ]
  },
  {
   "cell_type": "code",
   "execution_count": 521,
   "metadata": {},
   "outputs": [],
   "source": [
    "# spam_before = aims.read(\"/tmp/spam_final_before.nii.gz\")\n",
    "# bbmin, bbmax = compute_bbox_mask(spam_before.np)\n",
    "# before_cropped = aims.VolumeView(spam_before, bbmin, bbmax - bbmin)\n",
    "# before_cropped.shape"
   ]
  },
  {
   "cell_type": "code",
   "execution_count": 522,
   "metadata": {},
   "outputs": [
    {
     "data": {
      "text/plain": [
       "array([ 0,  1,  2,  3,  4,  5,  6,  7,  8,  9, 10, 11, 12, 13, 14, 15, 16,\n",
       "       17, 18, 19, 20, 21, 22, 23, 24, 25, 26, 27, 28, 29, 30, 31, 32, 33,\n",
       "       34, 35], dtype=int16)"
      ]
     },
     "execution_count": 522,
     "metadata": {},
     "output_type": "execute_result"
    }
   ],
   "source": [
    "np.unique(before_all.np)"
   ]
  },
  {
   "cell_type": "code",
   "execution_count": 523,
   "metadata": {},
   "outputs": [
    {
     "data": {
      "text/plain": [
       "array([ 0,  1,  2,  3,  4,  5,  6,  7,  8,  9, 10, 11, 12, 13, 14, 15, 16,\n",
       "       17, 18, 19, 20, 21, 22, 23, 24, 25, 26, 27, 28, 29, 31, 32],\n",
       "      dtype=int16)"
      ]
     },
     "execution_count": 523,
     "metadata": {},
     "output_type": "execute_result"
    }
   ],
   "source": [
    "np.unique(after_all.np)"
   ]
  },
  {
   "cell_type": "code",
   "execution_count": 524,
   "metadata": {},
   "outputs": [],
   "source": [
    "diff_all = after_all - before_all"
   ]
  },
  {
   "cell_type": "code",
   "execution_count": 525,
   "metadata": {},
   "outputs": [
    {
     "data": {
      "text/plain": [
       "array([-27, -23, -22, -21, -20, -19, -18, -17, -16, -15, -14, -13, -12,\n",
       "       -11, -10,  -9,  -8,  -7,  -6,  -5,  -4,  -3,  -2,  -1,   0,   1,\n",
       "         2,   3,   4,   5,   6,   7,   8,   9,  10,  11,  12,  13,  14,\n",
       "        15,  16,  18,  20,  22,  24], dtype=int16)"
      ]
     },
     "execution_count": 525,
     "metadata": {},
     "output_type": "execute_result"
    }
   ],
   "source": [
    "np.unique(diff_all.np)"
   ]
  },
  {
   "cell_type": "code",
   "execution_count": 526,
   "metadata": {},
   "outputs": [],
   "source": [
    "# Reads initial spam volume\n",
    "spam_vol = aims.read(spam_file, dtype=\"Volume_FLOAT\")\n",
    "# spam_vol.np[spam_vol.np < _threshold_for_spam] = 0\n"
   ]
  },
  {
   "cell_type": "code",
   "execution_count": 527,
   "metadata": {},
   "outputs": [
    {
     "name": "stderr",
     "output_type": "stream",
     "text": [
      "observable 0x5cb3bc6c6f70(N9anatomist7AVolumeIsEE) could not be removed from observer 0x5cb3ba9d83a8 (N9anatomist8Fusion2DE)\n"
     ]
    }
   ],
   "source": [
    "# Visualization\n",
    "spam = a.toAObject(spam_vol)\n",
    "before_a = a.toAObject(before_all)\n",
    "diff_a = a.toAObject(diff_all)\n",
    "before_a.setPalette(\"Blues\")\n",
    "diff_a.setPalette(\"bwr\")\n",
    "# spam_before = a.toAObject(before_all)\n",
    "# spam_before.setPalette(\"Blues\")\n",
    "# spam_after = a.toAObject(after_all)Utilities to generate foldlabels from graph\n",
    "# spam_after.setPalette(\"Reds\")\n",
    "w = a.createWindow('Sagittal')\n",
    "w.addObjects(spam)\n",
    "# w.addObjects(before_a)\n",
    "w.addObjects(diff_a)\n",
    "# w.addObjects(spam_before)\n",
    "# w.addObjects(spam_after)\n",
    "\n",
    "crop_a = a.toAObject(after_cropped)\n",
    "w_crop = a.createWindow('Sagittal')\n",
    "w_crop.addObjects(crop_a)\n"
   ]
  },
  {
   "cell_type": "code",
   "execution_count": 528,
   "metadata": {},
   "outputs": [],
   "source": [
    "# spam = a.loadObject(spam_file)\n",
    "# spam.setPalette(\"Blues\")\n",
    "# list_after_a = [a.toAObject(after) for after in list_after]\n",
    "# for after in list_after_a:\n",
    "#     after.setPalette(\"RED-lfusion\")\n",
    "# w = a.createWindow('Sagittal')\n",
    "# w.addObjects(list_after_a)\n",
    "# w.addObjects(spam)"
   ]
  },
  {
   "cell_type": "code",
   "execution_count": 529,
   "metadata": {},
   "outputs": [
    {
     "name": "stdout",
     "output_type": "stream",
     "text": [
      "(25, 42, 36, 1)\n",
      "(25, 42, 36, 1)\n",
      "(25, 42, 36, 1)\n",
      "(25, 42, 36, 1)\n",
      "(25, 42, 36, 1)\n",
      "(25, 42, 36, 1)\n",
      "(25, 42, 36, 1)\n",
      "(25, 42, 36, 1)\n",
      "(25, 42, 36, 1)\n",
      "(25, 42, 36, 1)\n",
      "(25, 42, 36, 1)\n",
      "(25, 42, 36, 1)\n",
      "(25, 42, 36, 1)\n",
      "(25, 42, 36, 1)\n",
      "(25, 42, 36, 1)\n",
      "(25, 42, 36, 1)\n",
      "(25, 42, 36, 1)\n",
      "(25, 42, 36, 1)\n",
      "(25, 42, 36, 1)\n",
      "(25, 42, 36, 1)\n",
      "(25, 42, 36, 1)\n",
      "(25, 42, 36, 1)\n",
      "(25, 42, 36, 1)\n",
      "(25, 42, 36, 1)\n",
      "(25, 42, 36, 1)\n",
      "(25, 42, 36, 1)\n",
      "(25, 42, 36, 1)\n",
      "(25, 42, 36, 1)\n",
      "(25, 42, 36, 1)\n",
      "(25, 42, 36, 1)\n",
      "(25, 42, 36, 1)\n",
      "(25, 42, 36, 1)\n",
      "(25, 42, 36, 1)\n",
      "(25, 42, 36, 1)\n",
      "(25, 42, 36, 1)\n",
      "(25, 42, 36, 1)\n",
      "(25, 42, 36, 1)\n",
      "(25, 42, 36, 1)\n",
      "(25, 42, 36, 1)\n",
      "(25, 42, 36, 1)\n",
      "(25, 42, 36, 1)\n",
      "(25, 42, 36, 1)\n",
      "(25, 42, 36, 1)\n",
      "(25, 42, 36, 1)\n",
      "(25, 42, 36, 1)\n",
      "(25, 42, 36, 1)\n",
      "(25, 42, 36, 1)\n",
      "(25, 42, 36, 1)\n",
      "(25, 42, 36, 1)\n",
      "(25, 42, 36, 1)\n",
      "(25, 42, 36, 1)\n",
      "(25, 42, 36, 1)\n",
      "(25, 42, 36, 1)\n",
      "(25, 42, 36, 1)\n",
      "(25, 42, 36, 1)\n",
      "(25, 42, 36, 1)\n",
      "(25, 42, 36, 1)\n",
      "(25, 42, 36, 1)\n",
      "(25, 42, 36, 1)\n",
      "(25, 42, 36, 1)\n"
     ]
    }
   ],
   "source": [
    "for l in list_after_cropped:\n",
    "    print(l.shape)"
   ]
  },
  {
   "cell_type": "code",
   "execution_count": 530,
   "metadata": {},
   "outputs": [
    {
     "data": {
      "text/plain": [
       "<seaborn.axisgrid.FacetGrid at 0x7256efd2bf70>"
      ]
     },
     "execution_count": 530,
     "metadata": {},
     "output_type": "execute_result"
    },
    {
     "data": {
      "image/png": "[encoded data removed]",
      "text/plain": [
       "<Figure size 360x360 with 1 Axes>"
      ]
     },
     "metadata": {
      "needs_background": "light"
     },
     "output_type": "display_data"
    }
   ],
   "source": [
    "%matplotlib inline\n",
    "# Reads initial spam volume\n",
    "spam_vol = aims.read(spam_file, dtype=\"Volume_FLOAT\")\n",
    "\n",
    "df_dict = {\"spam\": spam_vol.np[spam_vol.np>0].flatten(),\n",
    "           \"diff\": diff_all.np[spam_vol.np>0].flatten()}\n",
    "df = pd.DataFrame(df_dict)\n",
    "g = sns.lmplot(data=df, x=\"spam\", y=\"diff\")\n",
    "\n",
    "def annotate(data, **kws):\n",
    "    r, p = scipy.stats.pearsonr(data['spam'], data['diff'])\n",
    "    ax = plt.gca()\n",
    "    ax.text(.05, .9, 'r={:.2f}, p={:.2g}'.format(r, p),\n",
    "            transform=ax.transAxes)\n",
    "    \n",
    "g.map_dataframe(annotate)"
   ]
  },
  {
   "cell_type": "code",
   "execution_count": 531,
   "metadata": {},
   "outputs": [
    {
     "data": {
      "text/plain": [
       "<seaborn.axisgrid.FacetGrid at 0x7256ef71bf70>"
      ]
     },
     "execution_count": 531,
     "metadata": {},
     "output_type": "execute_result"
    },
    {
     "data": {
      "image/png": "[encoded data removed]",
      "text/plain": [
       "<Figure size 360x360 with 1 Axes>"
      ]
     },
     "metadata": {
      "needs_background": "light"
     },
     "output_type": "display_data"
    }
   ],
   "source": [
    "%matplotlib inline\n",
    "# Reads initial spam volume\n",
    "spam_vol = aims.read(spam_file, dtype=\"Volume_FLOAT\")\n",
    "\n",
    "df_dict = {\"spam\": spam_vol.np[diff_all.np!=0].flatten(),\n",
    "           \"diff\": diff_all.np[diff_all.np!=0].flatten()}\n",
    "df = pd.DataFrame(df_dict)\n",
    "g = sns.lmplot(data=df, x=\"spam\", y=\"diff\")\n",
    "\n",
    "def annotate(data, **kws):\n",
    "    r, p = scipy.stats.pearsonr(data['spam'], data['diff'])\n",
    "    ax = plt.gca()\n",
    "    ax.text(.05, .9, 'r={:.2f}, p={:.2g}'.format(r, p),\n",
    "            transform=ax.transAxes)\n",
    "    \n",
    "g.map_dataframe(annotate)"
   ]
  },
  {
   "cell_type": "code",
   "execution_count": 532,
   "metadata": {},
   "outputs": [
    {
     "data": {
      "text/plain": [
       "<seaborn.axisgrid.FacetGrid at 0x7256ef707a90>"
      ]
     },
     "execution_count": 532,
     "metadata": {},
     "output_type": "execute_result"
    },
    {
     "data": {
      "image/png": "[encoded data removed]",
      "text/plain": [
       "<Figure size 360x360 with 1 Axes>"
      ]
     },
     "metadata": {
      "needs_background": "light"
     },
     "output_type": "display_data"
    }
   ],
   "source": [
    "%matplotlib inline\n",
    "# Reads initial spam volume\n",
    "spam_vol = aims.read(spam_file, dtype=\"Volume_FLOAT\")\n",
    "\n",
    "df_dict = {\"spam\": spam_vol.np[spam_vol.np>_threshold_for_spam].flatten(),\n",
    "           \"diff\": diff_all.np[spam_vol.np>_threshold_for_spam].flatten()}\n",
    "df = pd.DataFrame(df_dict)\n",
    "g = sns.lmplot(data=df, x=\"spam\", y=\"diff\")\n",
    "\n",
    "def annotate(data, **kws):\n",
    "    r, p = scipy.stats.pearsonr(data['spam'], data['diff'])\n",
    "    ax = plt.gca()\n",
    "    ax.text(.05, .9, 'r={:.2f}, p={:.2g}'.format(r, p),\n",
    "            transform=ax.transAxes)\n",
    "    \n",
    "g.map_dataframe(annotate)"
   ]
  },
  {
   "cell_type": "code",
   "execution_count": 533,
   "metadata": {},
   "outputs": [
    {
     "data": {
      "text/plain": [
       "(array([1.000e+00, 0.000e+00, 0.000e+00, 3.000e+00, 2.000e+00, 3.000e+00,\n",
       "        6.000e+00, 5.000e+00, 1.100e+01, 1.000e+01, 1.800e+01, 2.000e+01,\n",
       "        1.700e+01, 7.600e+01, 5.400e+01, 8.900e+01, 2.730e+02, 2.210e+02,\n",
       "        3.170e+02, 4.830e+02, 8.410e+02, 3.228e+03, 1.011e+03, 7.050e+02,\n",
       "        1.340e+02, 7.800e+01, 6.200e+01, 9.000e+00, 2.000e+00, 1.000e+00]),\n",
       " array([-27. , -25.7, -24.4, -23.1, -21.8, -20.5, -19.2, -17.9, -16.6,\n",
       "        -15.3, -14. , -12.7, -11.4, -10.1,  -8.8,  -7.5,  -6.2,  -4.9,\n",
       "         -3.6,  -2.3,  -1. ,   0.3,   1.6,   2.9,   4.2,   5.5,   6.8,\n",
       "          8.1,   9.4,  10.7,  12. ]),\n",
       " <BarContainer object of 30 artists>)"
      ]
     },
     "execution_count": 533,
     "metadata": {},
     "output_type": "execute_result"
    },
    {
     "data": {
      "image/png": "[encoded data removed]",
      "text/plain": [
       "<Figure size 432x288 with 1 Axes>"
      ]
     },
     "metadata": {
      "needs_background": "light"
     },
     "output_type": "display_data"
    }
   ],
   "source": [
    "%matplotlib inline\n",
    "plt.hist(diff_all.np[(spam_vol.np==0) & (diff_all.np != 0)].flatten(), bins=30)"
   ]
  },
  {
   "cell_type": "code",
   "execution_count": 534,
   "metadata": {},
   "outputs": [
    {
     "name": "stdout",
     "output_type": "stream",
     "text": [
      "0.13854166666666667\n",
      "3.2018994945600476\n"
     ]
    }
   ],
   "source": [
    "print(diff_all.np[(spam_vol.np==0) & (diff_all.np != 0)].flatten().mean())\n",
    "print(diff_all.np[(spam_vol.np==0) & (diff_all.np != 0)].flatten().std())"
   ]
  },
  {
   "cell_type": "code",
   "execution_count": 535,
   "metadata": {},
   "outputs": [],
   "source": [
    "%matplotlib qt5\n"
   ]
  },
  {
   "cell_type": "code",
   "execution_count": 536,
   "metadata": {},
   "outputs": [
    {
     "data": {
      "text/plain": [
       "(25, 42, 36, 1)"
      ]
     },
     "execution_count": 536,
     "metadata": {},
     "output_type": "execute_result"
    }
   ],
   "source": [
    "list_after_cropped[0].shape"
   ]
  },
  {
   "cell_type": "code",
   "execution_count": 537,
   "metadata": {},
   "outputs": [
    {
     "data": {
      "text/html": [
       "<div>\n",
       "<style scoped>\n",
       "    .dataframe tbody tr th:only-of-type {\n",
       "        vertical-align: middle;\n",
       "    }\n",
       "\n",
       "    .dataframe tbody tr th {\n",
       "        vertical-align: top;\n",
       "    }\n",
       "\n",
       "    .dataframe thead th {\n",
       "        text-align: right;\n",
       "    }\n",
       "</style>\n",
       "<table border=\"1\" class=\"dataframe\">\n",
       "  <thead>\n",
       "    <tr style=\"text-align: right;\">\n",
       "      <th></th>\n",
       "      <th>Subject</th>\n",
       "    </tr>\n",
       "  </thead>\n",
       "  <tbody>\n",
       "    <tr>\n",
       "      <th>0</th>\n",
       "      <td>sub-5809266</td>\n",
       "    </tr>\n",
       "    <tr>\n",
       "      <th>1</th>\n",
       "      <td>sub-4192947</td>\n",
       "    </tr>\n",
       "    <tr>\n",
       "      <th>2</th>\n",
       "      <td>sub-1851213</td>\n",
       "    </tr>\n",
       "    <tr>\n",
       "      <th>3</th>\n",
       "      <td>sub-1755382</td>\n",
       "    </tr>\n",
       "    <tr>\n",
       "      <th>4</th>\n",
       "      <td>sub-1743426</td>\n",
       "    </tr>\n",
       "  </tbody>\n",
       "</table>\n",
       "</div>"
      ],
      "text/plain": [
       "       Subject\n",
       "0  sub-5809266\n",
       "1  sub-4192947\n",
       "2  sub-1851213\n",
       "3  sub-1755382\n",
       "4  sub-1743426"
      ]
     },
     "execution_count": 537,
     "metadata": {},
     "output_type": "execute_result"
    }
   ],
   "source": [
    "subject_df = pd.DataFrame({\"Subject\":subject_l})\n",
    "subject_df.to_csv(\"/tmp/Rskeleton_subject.csv\", index=False)\n",
    "subject_df.head()"
   ]
  },
  {
   "cell_type": "code",
   "execution_count": 538,
   "metadata": {},
   "outputs": [
    {
     "data": {
      "text/plain": [
       "(25, 42, 36, 1)"
      ]
     },
     "execution_count": 538,
     "metadata": {},
     "output_type": "execute_result"
    }
   ],
   "source": [
    "list_after_cropped[0].shape"
   ]
  },
  {
   "cell_type": "code",
   "execution_count": 539,
   "metadata": {},
   "outputs": [
    {
     "data": {
      "text/plain": [
       "60"
      ]
     },
     "execution_count": 539,
     "metadata": {},
     "output_type": "execute_result"
    }
   ],
   "source": [
    "len(list_after_cropped)"
   ]
  },
  {
   "cell_type": "code",
   "execution_count": 540,
   "metadata": {},
   "outputs": [],
   "source": [
    "after_cropped_npy = np.stack(list_after_cropped, axis=0)\n",
    "np.save(\"/tmp/rskeleton.npy\", after_cropped_npy)"
   ]
  },
  {
   "cell_type": "code",
   "execution_count": 541,
   "metadata": {},
   "outputs": [
    {
     "data": {
      "text/plain": [
       "(60, 25, 42, 36, 1)"
      ]
     },
     "execution_count": 541,
     "metadata": {},
     "output_type": "execute_result"
    }
   ],
   "source": [
    "after_cropped_npy.shape"
   ]
  },
  {
   "cell_type": "code",
   "execution_count": 542,
   "metadata": {},
   "outputs": [
    {
     "data": {
      "text/plain": [
       "60"
      ]
     },
     "execution_count": 542,
     "metadata": {},
     "output_type": "execute_result"
    }
   ],
   "source": [
    "len(subject_df)"
   ]
  },
  {
   "cell_type": "code",
   "execution_count": null,
   "metadata": {},
   "outputs": [],
   "source": []
  },
  {
   "cell_type": "code",
   "execution_count": null,
   "metadata": {},
   "outputs": [],
   "source": []
  }
 ],
 "metadata": {
  "kernelspec": {
   "display_name": "Python 3 (ipykernel)",
   "language": "python",
   "name": "python3"
  },
  "language_info": {
   "codemirror_mode": {
    "name": "ipython",
    "version": 3
   },
   "file_extension": ".py",
   "mimetype": "text/x-python",
   "name": "python",
   "nbconvert_exporter": "python",
   "pygments_lexer": "ipython3",
   "version": "3.10.12"
  }
 },
 "nbformat": 4,
 "nbformat_minor": 2
}
