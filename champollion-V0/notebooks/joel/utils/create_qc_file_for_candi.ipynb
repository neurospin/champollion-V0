{
 "cells": [
  {
   "cell_type": "code",
   "execution_count": 1,
   "metadata": {},
   "outputs": [],
   "source": [
    "import glob\n",
    "import os\n",
    "import pandas as pd"
   ]
  },
  {
   "cell_type": "code",
   "execution_count": 2,
   "metadata": {},
   "outputs": [],
   "source": [
    "path = \"/neurospin/psy_sbox/candi/derivatives/morphologist-2021/subjects\"\n",
    "subpath = \"t1mri/ses-1/default_analysis/folds/3.1\"\n",
    "qc_file = \"/neurospin/dico/data/deep_folding/current/datasets/candi/qc.tsv\""
   ]
  },
  {
   "cell_type": "code",
   "execution_count": 3,
   "metadata": {},
   "outputs": [],
   "source": [
    "list_folders = glob.glob(f\"{path}/*/\")\n",
    "list_folders = [x[:-1] for x in list_folders]\n",
    "list_subjects = [os.path.basename(f) for f in list_folders]"
   ]
  },
  {
   "cell_type": "code",
   "execution_count": 4,
   "metadata": {},
   "outputs": [
    {
     "data": {
      "text/plain": [
       "['sub-BPDwPsy067',\n",
       " 'sub-HC018',\n",
       " 'sub-BPDwPsy065',\n",
       " 'sub-SS103',\n",
       " 'sub-SS085',\n",
       " 'sub-HC027',\n",
       " 'sub-BPDwoPsy056',\n",
       " 'sub-SS093',\n",
       " 'sub-BPDwoPsy063',\n",
       " 'sub-BPDwoPsy053',\n",
       " 'sub-BPDwPsy066',\n",
       " 'sub-HC013',\n",
       " 'sub-BPDwoPsy047',\n",
       " 'sub-BPDwPsy069',\n",
       " 'sub-BPDwoPsy064',\n",
       " 'sub-BPDwoPsy057',\n",
       " 'sub-BPDwoPsy046',\n",
       " 'sub-HC026',\n",
       " 'sub-BPDwoPsy051',\n",
       " 'sub-HC009',\n",
       " 'sub-HC019',\n",
       " 'sub-HC008',\n",
       " 'sub-SS091',\n",
       " 'sub-BPDwoPsy062',\n",
       " 'sub-SS084',\n",
       " 'sub-BPDwPsy071',\n",
       " 'sub-BPDwPsy078',\n",
       " 'sub-BPDwoPsy052',\n",
       " 'sub-HC029',\n",
       " 'sub-BPDwPsy073',\n",
       " 'sub-BPDwoPsy038',\n",
       " 'sub-HC012',\n",
       " 'sub-HC011',\n",
       " 'sub-HC010',\n",
       " 'sub-BPDwoPsy040',\n",
       " 'sub-SS102',\n",
       " 'sub-HC017',\n",
       " 'sub-BPDwoPsy034',\n",
       " 'sub-HC006',\n",
       " 'sub-BPDwPsy075',\n",
       " 'sub-HC007',\n",
       " 'sub-SS086',\n",
       " 'sub-SS098',\n",
       " 'sub-BPDwoPsy060',\n",
       " 'sub-SS101',\n",
       " 'sub-SS096',\n",
       " 'sub-HC022',\n",
       " 'sub-BPDwPsy076',\n",
       " 'sub-BPDwPsy080',\n",
       " 'sub-BPDwoPsy049',\n",
       " 'sub-BPDwoPsy054',\n",
       " 'sub-SS088',\n",
       " 'sub-SS100',\n",
       " 'sub-SS087',\n",
       " 'sub-SS092',\n",
       " 'sub-BPDwoPsy033',\n",
       " 'sub-BPDwoPsy061',\n",
       " 'sub-HC005',\n",
       " 'sub-BPDwoPsy039',\n",
       " 'sub-BPDwoPsy055',\n",
       " 'sub-BPDwPsy068',\n",
       " 'sub-HC021',\n",
       " 'sub-BPDwoPsy041',\n",
       " 'sub-SS099',\n",
       " 'sub-SS089',\n",
       " 'sub-SS094',\n",
       " 'sub-BPDwoPsy031',\n",
       " 'sub-HC001',\n",
       " 'sub-BPDwoPsy044',\n",
       " 'sub-HC024',\n",
       " 'sub-HC003',\n",
       " 'sub-BPDwoPsy035',\n",
       " 'sub-BPDwoPsy058',\n",
       " 'sub-SS095',\n",
       " 'sub-BPDwPsy077',\n",
       " 'sub-BPDwoPsy030',\n",
       " 'sub-BPDwoPsy059',\n",
       " 'sub-BPDwPsy082',\n",
       " 'sub-BPDwoPsy043',\n",
       " 'sub-HC028',\n",
       " 'sub-BPDwPsy070',\n",
       " 'sub-HC002',\n",
       " 'sub-BPDwPsy083',\n",
       " 'sub-BPDwoPsy032',\n",
       " 'sub-HC016',\n",
       " 'sub-HC020',\n",
       " 'sub-BPDwoPsy037',\n",
       " 'sub-SS090',\n",
       " 'sub-BPDwoPsy036',\n",
       " 'sub-HC025',\n",
       " 'sub-BPDwoPsy045',\n",
       " 'sub-BPDwPsy081',\n",
       " 'sub-HC015',\n",
       " 'sub-BPDwPsy074',\n",
       " 'sub-BPDwPsy072',\n",
       " 'sub-SS097',\n",
       " 'sub-HC023',\n",
       " 'sub-HC004',\n",
       " 'sub-BPDwoPsy050',\n",
       " 'sub-HC014',\n",
       " 'sub-BPDwoPsy048',\n",
       " 'sub-BPDwPsy079',\n",
       " 'sub-BPDwoPsy042']"
      ]
     },
     "execution_count": 4,
     "metadata": {},
     "output_type": "execute_result"
    }
   ],
   "source": [
    "list_subjects"
   ]
  },
  {
   "cell_type": "code",
   "execution_count": 5,
   "metadata": {},
   "outputs": [],
   "source": [
    "qc = pd.DataFrame(list_subjects, columns=[\"participant_id\"]).set_index(\"participant_id\")"
   ]
  },
  {
   "cell_type": "code",
   "execution_count": 6,
   "metadata": {},
   "outputs": [],
   "source": [
    "qc[\"qc\"] = 1\n",
    "qc[\"comments\"] =  \"\""
   ]
  },
  {
   "cell_type": "code",
   "execution_count": 7,
   "metadata": {},
   "outputs": [
    {
     "data": {
      "text/html": [
       "<div>\n",
       "<style scoped>\n",
       "    .dataframe tbody tr th:only-of-type {\n",
       "        vertical-align: middle;\n",
       "    }\n",
       "\n",
       "    .dataframe tbody tr th {\n",
       "        vertical-align: top;\n",
       "    }\n",
       "\n",
       "    .dataframe thead th {\n",
       "        text-align: right;\n",
       "    }\n",
       "</style>\n",
       "<table border=\"1\" class=\"dataframe\">\n",
       "  <thead>\n",
       "    <tr style=\"text-align: right;\">\n",
       "      <th></th>\n",
       "      <th>qc</th>\n",
       "      <th>comments</th>\n",
       "    </tr>\n",
       "    <tr>\n",
       "      <th>participant_id</th>\n",
       "      <th></th>\n",
       "      <th></th>\n",
       "    </tr>\n",
       "  </thead>\n",
       "  <tbody>\n",
       "    <tr>\n",
       "      <th>sub-BPDwPsy067</th>\n",
       "      <td>1</td>\n",
       "      <td></td>\n",
       "    </tr>\n",
       "    <tr>\n",
       "      <th>sub-HC018</th>\n",
       "      <td>1</td>\n",
       "      <td></td>\n",
       "    </tr>\n",
       "    <tr>\n",
       "      <th>sub-BPDwPsy065</th>\n",
       "      <td>1</td>\n",
       "      <td></td>\n",
       "    </tr>\n",
       "    <tr>\n",
       "      <th>sub-SS103</th>\n",
       "      <td>1</td>\n",
       "      <td></td>\n",
       "    </tr>\n",
       "    <tr>\n",
       "      <th>sub-SS085</th>\n",
       "      <td>1</td>\n",
       "      <td></td>\n",
       "    </tr>\n",
       "  </tbody>\n",
       "</table>\n",
       "</div>"
      ],
      "text/plain": [
       "                qc comments\n",
       "participant_id             \n",
       "sub-BPDwPsy067   1         \n",
       "sub-HC018        1         \n",
       "sub-BPDwPsy065   1         \n",
       "sub-SS103        1         \n",
       "sub-SS085        1         "
      ]
     },
     "execution_count": 7,
     "metadata": {},
     "output_type": "execute_result"
    }
   ],
   "source": [
    "qc.head()"
   ]
  },
  {
   "cell_type": "code",
   "execution_count": 8,
   "metadata": {},
   "outputs": [],
   "source": [
    "for f, s in zip(list_folders, list_subjects):\n",
    "    path_to_graph = f\"{f}/{subpath}\"\n",
    "\n",
    "    # Checks of left graph exists\n",
    "    graph_file = f\"{path_to_graph}/L{s}.arg\"\n",
    "    if not os.path.isfile(graph_file):\n",
    "        print(f\"L{s}.arg does not exist\")\n",
    "        qc.loc[s, \"qc\"] = 0\n",
    "        qc.loc[s, \"comments\"] = \"Left graph does not exist\"\n",
    "\n",
    "    \n",
    "    graph_file = f\"{path_to_graph}/R{s}.arg\"\n",
    "    if not os.path.isfile(graph_file):\n",
    "        print(f\"R{s}.arg does not exist\")\n",
    "        qc.loc[s, \"qc\"] = 0\n",
    "        qc.loc[s, \"comments\"] = \"Right graph does not exist\"  \n"
   ]
  },
  {
   "cell_type": "code",
   "execution_count": 9,
   "metadata": {},
   "outputs": [
    {
     "data": {
      "text/plain": [
       "103"
      ]
     },
     "execution_count": 9,
     "metadata": {},
     "output_type": "execute_result"
    }
   ],
   "source": [
    "qc[\"qc\"].sum()"
   ]
  },
  {
   "cell_type": "code",
   "execution_count": 10,
   "metadata": {},
   "outputs": [],
   "source": [
    "qc.to_csv(qc_file, sep='\\t')"
   ]
  },
  {
   "cell_type": "code",
   "execution_count": null,
   "metadata": {},
   "outputs": [],
   "source": []
  }
 ],
 "metadata": {
  "kernelspec": {
   "display_name": "venv_natif",
   "language": "python",
   "name": "python3"
  },
  "language_info": {
   "codemirror_mode": {
    "name": "ipython",
    "version": 3
   },
   "file_extension": ".py",
   "mimetype": "text/x-python",
   "name": "python",
   "nbconvert_exporter": "python",
   "pygments_lexer": "ipython3",
   "version": "3.10.12"
  }
 },
 "nbformat": 4,
 "nbformat_minor": 2
}
