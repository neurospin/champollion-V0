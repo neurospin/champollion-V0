{
 "cells": [
  {
   "cell_type": "code",
   "execution_count": 230,
   "metadata": {},
   "outputs": [],
   "source": [
    "import numpy as np\n",
    "import os\n",
    "import pandas as pd\n",
    "from sklearn.decomposition import PCA\n",
    "from sklearn.svm import SVC\n",
    "from sklearn.metrics import roc_auc_score"
   ]
  },
  {
   "cell_type": "code",
   "execution_count": 231,
   "metadata": {},
   "outputs": [],
   "source": [
    "# PCS\n",
    "\n",
    "## args\n",
    "side='R'\n",
    "subject_column_name='long_name'\n",
    "label='Right_PCS'\n",
    "label_type='binary'\n",
    "labels = pd.read_csv('/neurospin/dico/data/deep_folding/current/datasets/ACCpatterns/subjects_labels.csv', usecols=[subject_column_name, label])\n",
    "train_subjects = pd.read_csv('/neurospin/dico/data/deep_folding/current/datasets/ACCpatterns/train_val_test/ACCpatterns_subjects_filtered_train.csv', header=None)\n",
    "val_subjects = pd.read_csv('/neurospin/dico/data/deep_folding/current/datasets/ACCpatterns/train_val_test/ACCpatterns_subjects_filtered_val.csv', header=None)\n",
    "test_subjects = pd.read_csv('/neurospin/dico/data/deep_folding/current/datasets/ACCpatterns/train_val_test/ACCpatterns_subjects_filtered_test.csv', header=None)\n",
    "crops_dir = '/neurospin/dico/data/deep_folding/current/datasets/ACCpatterns/crops/2mm/CINGULATE/mask/'"
   ]
  },
  {
   "cell_type": "code",
   "execution_count": 241,
   "metadata": {},
   "outputs": [],
   "source": [
    "# OFC\n",
    "side='L'\n",
    "subject_column_name='Subject'\n",
    "label='Left_OFC'\n",
    "label_type='multiclass'\n",
    "labels = pd.read_csv('/neurospin/dico/data/deep_folding/current/datasets/hcp/hcp_OFC_labels.csv', usecols=[subject_column_name, label])\n",
    "train_subjects = pd.read_csv('/neurospin/dico/data/deep_folding/current/datasets/orbital_patterns/Troiani/split_0-6.csv', header=None)\n",
    "val_subjects = pd.read_csv('/neurospin/dico/data/deep_folding/current/datasets/orbital_patterns/Troiani/split_7.csv', header=None)\n",
    "test_subjects = pd.read_csv('/neurospin/dico/data/deep_folding/current/datasets/orbital_patterns/Troiani/split_8-9.csv', header=None)\n",
    "crops_dir = '/neurospin/dico/data/deep_folding/current/datasets/hcp/crops/2mm/ORBITAL/mask/'"
   ]
  },
  {
   "cell_type": "code",
   "execution_count": 242,
   "metadata": {},
   "outputs": [],
   "source": [
    "skeletons = np.load(os.path.join(crops_dir, f'{side}skeleton.npy'))\n",
    "skeletons = skeletons != 0\n",
    "subjects = pd.read_csv(os.path.join(crops_dir, f'{side}skeleton_subject.csv'))"
   ]
  },
  {
   "cell_type": "code",
   "execution_count": 243,
   "metadata": {},
   "outputs": [],
   "source": [
    "train_val_idxs = subjects.loc[(subjects['Subject'].isin(train_subjects[0]))|(subjects['Subject'].isin(val_subjects[0]))].index.tolist()\n",
    "test_idxs = subjects.loc[subjects['Subject'].isin(test_subjects[0])].index.tolist()"
   ]
  },
  {
   "cell_type": "code",
   "execution_count": 244,
   "metadata": {},
   "outputs": [],
   "source": [
    "pca = PCA(n_components=256)"
   ]
  },
  {
   "cell_type": "code",
   "execution_count": 245,
   "metadata": {},
   "outputs": [],
   "source": [
    "X_train = skeletons[train_val_idxs]\n",
    "X_train = X_train.reshape(len(X_train), (np.prod(X_train.shape) // len(X_train)))"
   ]
  },
  {
   "cell_type": "code",
   "execution_count": 246,
   "metadata": {},
   "outputs": [
    {
     "data": {
      "text/plain": [
       "PCA(n_components=256)"
      ]
     },
     "execution_count": 246,
     "metadata": {},
     "output_type": "execute_result"
    }
   ],
   "source": [
    "pca.fit(X_train)"
   ]
  },
  {
   "cell_type": "code",
   "execution_count": 247,
   "metadata": {},
   "outputs": [],
   "source": [
    "X_test = skeletons[test_idxs]\n",
    "X_test = X_test.reshape(len(X_test), (np.prod(X_test.shape) // len(X_test)))"
   ]
  },
  {
   "cell_type": "code",
   "execution_count": 248,
   "metadata": {},
   "outputs": [],
   "source": [
    "embeddings_pca_test = pca.transform(X_test)\n",
    "embeddings_pca_train = pca.transform(X_train)"
   ]
  },
  {
   "cell_type": "code",
   "execution_count": 263,
   "metadata": {},
   "outputs": [],
   "source": [
    "test_subjects.columns=[subject_column_name]\n",
    "labels_test = labels.loc[labels[subject_column_name].isin(test_subjects[subject_column_name])]\n",
    "Y_true_test = test_subjects.merge(labels_test, on=subject_column_name)[label]\n",
    "if label=='Right_PCS':\n",
    "    Y_true_test = Y_true_test=='present'\n",
    "\n",
    "\n",
    "train_val_subjects = pd.concat((train_subjects, val_subjects))\n",
    "train_val_subjects.columns=[subject_column_name]\n",
    "labels_train_val = labels.loc[labels[subject_column_name].isin(train_val_subjects[subject_column_name])]\n",
    "Y_true_train_val = train_val_subjects.merge(labels_train_val, on=subject_column_name)[label]\n",
    "if label=='Right_PCS':\n",
    "    Y_true_train_val = Y_true_train_val=='present'\n",
    "Y_true_train_val = (Y_true_train_val-np.min(Y_true_train_val)).astype(int) # in case labels are 1,2,3,4 instead of 0,1,2,3"
   ]
  },
  {
   "cell_type": "code",
   "execution_count": 264,
   "metadata": {},
   "outputs": [
    {
     "name": "stdout",
     "output_type": "stream",
     "text": [
      "0.48512684026845554\n",
      "0.49202274803099283\n",
      "0.4925874689641204\n",
      "0.4932328834975642\n",
      "0.49202431526922574\n"
     ]
    }
   ],
   "source": [
    "for i in range(5):\n",
    "    model = SVC(kernel='linear', probability=True,\n",
    "                max_iter=-1, random_state=i,\n",
    "                C=0.01, class_weight='balanced')\n",
    "    model.fit(embeddings_pca_train, Y_true_train_val)\n",
    "    Y_pred_test = model.predict_proba(embeddings_pca_test)\n",
    "    if label_type=='binary':\n",
    "        Y_pred_test = Y_pred_test[:, 0]\n",
    "    Y_true_test = (Y_true_test-np.min(Y_true_test)).astype(int) # in case labels are 1,2,3,4 instead of 0,1,2,3\n",
    "    print(roc_auc_score(Y_true_test, Y_pred_test, multi_class='ovr', average='weighted'))"
   ]
  }
 ],
 "metadata": {
  "kernelspec": {
   "display_name": "Python 3",
   "language": "python",
   "name": "python3"
  },
  "language_info": {
   "codemirror_mode": {
    "name": "ipython",
    "version": 3
   },
   "file_extension": ".py",
   "mimetype": "text/x-python",
   "name": "python",
   "nbconvert_exporter": "python",
   "pygments_lexer": "ipython3",
   "version": "3.10.12"
  }
 },
 "nbformat": 4,
 "nbformat_minor": 2
}
