{
 "cells": [
  {
   "cell_type": "code",
   "execution_count": 1,
   "metadata": {},
   "outputs": [
    {
     "name": "stderr",
     "output_type": "stream",
     "text": [
      "/usr/lib/python3/dist-packages/scipy/__init__.py:146: UserWarning: A NumPy version >=1.17.3 and <1.25.0 is required for this version of SciPy (detected version 1.26.4\n",
      "  warnings.warn(f\"A NumPy version >={np_minversion} and <{np_maxversion}\"\n"
     ]
    }
   ],
   "source": [
    "import glob\n",
    "import os\n",
    "import omegaconf\n",
    "\n",
    "import pandas as pd\n",
    "import numpy as np\n",
    "import random\n",
    "\n",
    "import logging\n",
    "\n",
    "from sklearn.linear_model import LogisticRegression\n",
    "from sklearn.metrics import roc_auc_score\n",
    "from sklearn.model_selection import cross_val_predict, cross_val_score\n",
    "from sklearn.preprocessing import StandardScaler\n",
    "from sklearn.model_selection import LeaveOneGroupOut\n",
    "\n",
    "import statsmodels.api as sm\n",
    "\n",
    "import matplotlib.pyplot as plt\n",
    "import seaborn as sns\n",
    "\n",
    "\n",
    "logging.basicConfig()\n",
    "logging.getLogger().setLevel(logging.INFO)\n"
   ]
  },
  {
   "cell_type": "code",
   "execution_count": 2,
   "metadata": {},
   "outputs": [
    {
     "data": {
      "text/html": [
       "<div>\n",
       "<style scoped>\n",
       "    .dataframe tbody tr th:only-of-type {\n",
       "        vertical-align: middle;\n",
       "    }\n",
       "\n",
       "    .dataframe tbody tr th {\n",
       "        vertical-align: top;\n",
       "    }\n",
       "\n",
       "    .dataframe thead th {\n",
       "        text-align: right;\n",
       "    }\n",
       "</style>\n",
       "<table border=\"1\" class=\"dataframe\">\n",
       "  <thead>\n",
       "    <tr style=\"text-align: right;\">\n",
       "      <th></th>\n",
       "      <th>region</th>\n",
       "      <th>p</th>\n",
       "      <th>side</th>\n",
       "    </tr>\n",
       "  </thead>\n",
       "  <tbody>\n",
       "    <tr>\n",
       "      <th>0</th>\n",
       "      <td>SPoC_left</td>\n",
       "      <td>0.000511</td>\n",
       "      <td>left</td>\n",
       "    </tr>\n",
       "    <tr>\n",
       "      <th>1</th>\n",
       "      <td>STsbr_right</td>\n",
       "      <td>0.009886</td>\n",
       "      <td>right</td>\n",
       "    </tr>\n",
       "    <tr>\n",
       "      <th>2</th>\n",
       "      <td>SC-SPoC_left</td>\n",
       "      <td>0.000023</td>\n",
       "      <td>left</td>\n",
       "    </tr>\n",
       "    <tr>\n",
       "      <th>3</th>\n",
       "      <td>FCLp-SGSM_right</td>\n",
       "      <td>0.000178</td>\n",
       "      <td>right</td>\n",
       "    </tr>\n",
       "    <tr>\n",
       "      <th>4</th>\n",
       "      <td>STsbr_right</td>\n",
       "      <td>0.529594</td>\n",
       "      <td>right</td>\n",
       "    </tr>\n",
       "  </tbody>\n",
       "</table>\n",
       "</div>"
      ],
      "text/plain": [
       "            region         p   side\n",
       "0        SPoC_left  0.000511   left\n",
       "1      STsbr_right  0.009886  right\n",
       "2     SC-SPoC_left  0.000023   left\n",
       "3  FCLp-SGSM_right  0.000178  right\n",
       "4      STsbr_right  0.529594  right"
      ]
     },
     "execution_count": 2,
     "metadata": {},
     "output_type": "execute_result"
    }
   ],
   "source": [
    "df = pd.read_csv(\"/neurospin/dico/data/deep_folding/current/models/Champollion_V0/UKB-RAP/right-handed-ukb40/all_regions.csv\")\n",
    "df.head()"
   ]
  },
  {
   "cell_type": "code",
   "execution_count": 3,
   "metadata": {},
   "outputs": [
    {
     "data": {
      "text/html": [
       "<div>\n",
       "<style scoped>\n",
       "    .dataframe tbody tr th:only-of-type {\n",
       "        vertical-align: middle;\n",
       "    }\n",
       "\n",
       "    .dataframe tbody tr th {\n",
       "        vertical-align: top;\n",
       "    }\n",
       "\n",
       "    .dataframe thead th {\n",
       "        text-align: right;\n",
       "    }\n",
       "</style>\n",
       "<table border=\"1\" class=\"dataframe\">\n",
       "  <thead>\n",
       "    <tr style=\"text-align: right;\">\n",
       "      <th></th>\n",
       "      <th>region</th>\n",
       "      <th>p</th>\n",
       "      <th>side</th>\n",
       "    </tr>\n",
       "  </thead>\n",
       "  <tbody>\n",
       "    <tr>\n",
       "      <th>0</th>\n",
       "      <td>SPoC_left</td>\n",
       "      <td>0.000511</td>\n",
       "      <td>left</td>\n",
       "    </tr>\n",
       "    <tr>\n",
       "      <th>1</th>\n",
       "      <td>STsbr_right</td>\n",
       "      <td>0.009886</td>\n",
       "      <td>right</td>\n",
       "    </tr>\n",
       "    <tr>\n",
       "      <th>2</th>\n",
       "      <td>SC-SPoC_left</td>\n",
       "      <td>0.000023</td>\n",
       "      <td>left</td>\n",
       "    </tr>\n",
       "    <tr>\n",
       "      <th>3</th>\n",
       "      <td>FCLp-SGSM_right</td>\n",
       "      <td>0.000178</td>\n",
       "      <td>right</td>\n",
       "    </tr>\n",
       "    <tr>\n",
       "      <th>4</th>\n",
       "      <td>STsbr_right</td>\n",
       "      <td>0.529594</td>\n",
       "      <td>right</td>\n",
       "    </tr>\n",
       "    <tr>\n",
       "      <th>...</th>\n",
       "      <td>...</td>\n",
       "      <td>...</td>\n",
       "      <td>...</td>\n",
       "    </tr>\n",
       "    <tr>\n",
       "      <th>95</th>\n",
       "      <td>SFinf-BROCA-SPeCinf_left</td>\n",
       "      <td>0.153614</td>\n",
       "      <td>left</td>\n",
       "    </tr>\n",
       "    <tr>\n",
       "      <th>96</th>\n",
       "      <td>SsP-SPaint_left</td>\n",
       "      <td>0.000692</td>\n",
       "      <td>left</td>\n",
       "    </tr>\n",
       "    <tr>\n",
       "      <th>97</th>\n",
       "      <td>OCCIPITAL_right</td>\n",
       "      <td>0.005336</td>\n",
       "      <td>right</td>\n",
       "    </tr>\n",
       "    <tr>\n",
       "      <th>98</th>\n",
       "      <td>SPeC_right</td>\n",
       "      <td>0.053186</td>\n",
       "      <td>right</td>\n",
       "    </tr>\n",
       "    <tr>\n",
       "      <th>99</th>\n",
       "      <td>SC-sylv_left</td>\n",
       "      <td>0.031324</td>\n",
       "      <td>left</td>\n",
       "    </tr>\n",
       "  </tbody>\n",
       "</table>\n",
       "<p>100 rows × 3 columns</p>\n",
       "</div>"
      ],
      "text/plain": [
       "                      region         p   side\n",
       "0                  SPoC_left  0.000511   left\n",
       "1                STsbr_right  0.009886  right\n",
       "2               SC-SPoC_left  0.000023   left\n",
       "3            FCLp-SGSM_right  0.000178  right\n",
       "4                STsbr_right  0.529594  right\n",
       "..                       ...       ...    ...\n",
       "95  SFinf-BROCA-SPeCinf_left  0.153614   left\n",
       "96           SsP-SPaint_left  0.000692   left\n",
       "97           OCCIPITAL_right  0.005336  right\n",
       "98                SPeC_right  0.053186  right\n",
       "99              SC-sylv_left  0.031324   left\n",
       "\n",
       "[100 rows x 3 columns]"
      ]
     },
     "execution_count": 3,
     "metadata": {},
     "output_type": "execute_result"
    }
   ],
   "source": [
    "df"
   ]
  },
  {
   "cell_type": "code",
   "execution_count": 4,
   "metadata": {},
   "outputs": [],
   "source": [
    "df[\"p\"] = -np.log10(df[\"p\"])"
   ]
  },
  {
   "cell_type": "code",
   "execution_count": 5,
   "metadata": {},
   "outputs": [
    {
     "data": {
      "text/html": [
       "<div>\n",
       "<style scoped>\n",
       "    .dataframe tbody tr th:only-of-type {\n",
       "        vertical-align: middle;\n",
       "    }\n",
       "\n",
       "    .dataframe tbody tr th {\n",
       "        vertical-align: top;\n",
       "    }\n",
       "\n",
       "    .dataframe thead th {\n",
       "        text-align: right;\n",
       "    }\n",
       "</style>\n",
       "<table border=\"1\" class=\"dataframe\">\n",
       "  <thead>\n",
       "    <tr style=\"text-align: right;\">\n",
       "      <th></th>\n",
       "      <th>region</th>\n",
       "      <th>p</th>\n",
       "      <th>side</th>\n",
       "    </tr>\n",
       "  </thead>\n",
       "  <tbody>\n",
       "    <tr>\n",
       "      <th>0</th>\n",
       "      <td>SPoC_left</td>\n",
       "      <td>3.291979</td>\n",
       "      <td>left</td>\n",
       "    </tr>\n",
       "    <tr>\n",
       "      <th>1</th>\n",
       "      <td>STsbr_right</td>\n",
       "      <td>2.004995</td>\n",
       "      <td>right</td>\n",
       "    </tr>\n",
       "    <tr>\n",
       "      <th>2</th>\n",
       "      <td>SC-SPoC_left</td>\n",
       "      <td>4.641480</td>\n",
       "      <td>left</td>\n",
       "    </tr>\n",
       "    <tr>\n",
       "      <th>3</th>\n",
       "      <td>FCLp-SGSM_right</td>\n",
       "      <td>3.748429</td>\n",
       "      <td>right</td>\n",
       "    </tr>\n",
       "    <tr>\n",
       "      <th>4</th>\n",
       "      <td>STsbr_right</td>\n",
       "      <td>0.276057</td>\n",
       "      <td>right</td>\n",
       "    </tr>\n",
       "  </tbody>\n",
       "</table>\n",
       "</div>"
      ],
      "text/plain": [
       "            region         p   side\n",
       "0        SPoC_left  3.291979   left\n",
       "1      STsbr_right  2.004995  right\n",
       "2     SC-SPoC_left  4.641480   left\n",
       "3  FCLp-SGSM_right  3.748429  right\n",
       "4      STsbr_right  0.276057  right"
      ]
     },
     "execution_count": 5,
     "metadata": {},
     "output_type": "execute_result"
    }
   ],
   "source": [
    "df.head()"
   ]
  },
  {
   "cell_type": "code",
   "execution_count": 6,
   "metadata": {},
   "outputs": [],
   "source": [
    "df = df.groupby([\"region\", \"side\"]).mean()"
   ]
  },
  {
   "cell_type": "code",
   "execution_count": 7,
   "metadata": {},
   "outputs": [],
   "source": [
    "def plot_horizontal(res, region_name, ax, p_value, title):\n",
    "    labelsize=12\n",
    "    ax.xaxis.set_tick_params(labelsize = labelsize)\n",
    "    ax.yaxis.set_tick_params(labelsize = labelsize)\n",
    "    \n",
    "    res = res.sort_values(by=p_value, ascending=True)\n",
    "\n",
    "    # ax.errorbar(res[AUC_name], res[region_name], res[std_auc_name], fmt='s', color='black')\n",
    "    # ax.scatter(res[AUC_name], res[region_name], marker='s', color='black')\n",
    "    # ax.axvline(x=-np.log10(0.05), color='black', linestyle='-')\n",
    "    ax.axvline(x=-np.log10(0.05/56), color='red', linestyle='-')\n",
    "    # ax.barh(res[region_name], res[f2_value], fill=True, color='lightgray')\n",
    "    ax.errorbar(res[p_value], res[region_name], xerr=0, fmt='s', color='black')\n",
    "    # if visible:\n",
    "    #     ax.set_ylabel(\"AUC ensemble\")\n",
    "    # else:\n",
    "    #     ax.get_yaxis().set_ticks([])\n",
    "    ax.set_xlim((0, 9.0))\n",
    "    ax.set_xlabel(\"-log$_{10}$(p)\")\n",
    "    ax.set_title(title)\n"
   ]
  },
  {
   "cell_type": "code",
   "execution_count": 8,
   "metadata": {},
   "outputs": [
    {
     "data": {
      "text/html": [
       "<div>\n",
       "<style scoped>\n",
       "    .dataframe tbody tr th:only-of-type {\n",
       "        vertical-align: middle;\n",
       "    }\n",
       "\n",
       "    .dataframe tbody tr th {\n",
       "        vertical-align: top;\n",
       "    }\n",
       "\n",
       "    .dataframe thead th {\n",
       "        text-align: right;\n",
       "    }\n",
       "</style>\n",
       "<table border=\"1\" class=\"dataframe\">\n",
       "  <thead>\n",
       "    <tr style=\"text-align: right;\">\n",
       "      <th></th>\n",
       "      <th>region</th>\n",
       "      <th>side</th>\n",
       "      <th>p</th>\n",
       "    </tr>\n",
       "  </thead>\n",
       "  <tbody>\n",
       "    <tr>\n",
       "      <th>0</th>\n",
       "      <td>STs-SGSM_left</td>\n",
       "      <td>left</td>\n",
       "      <td>0.474858</td>\n",
       "    </tr>\n",
       "    <tr>\n",
       "      <th>1</th>\n",
       "      <td>SFmedian-SFpoltr-SFsup_right</td>\n",
       "      <td>right</td>\n",
       "      <td>0.631705</td>\n",
       "    </tr>\n",
       "    <tr>\n",
       "      <th>2</th>\n",
       "      <td>SFmarginal-SFinfant_left</td>\n",
       "      <td>left</td>\n",
       "      <td>0.696752</td>\n",
       "    </tr>\n",
       "    <tr>\n",
       "      <th>3</th>\n",
       "      <td>SFinter-SFsup_left</td>\n",
       "      <td>left</td>\n",
       "      <td>0.747669</td>\n",
       "    </tr>\n",
       "    <tr>\n",
       "      <th>4</th>\n",
       "      <td>SFinf-BROCA-SPeCinf_left</td>\n",
       "      <td>left</td>\n",
       "      <td>0.813570</td>\n",
       "    </tr>\n",
       "  </tbody>\n",
       "</table>\n",
       "</div>"
      ],
      "text/plain": [
       "                         region   side         p\n",
       "0                 STs-SGSM_left   left  0.474858\n",
       "1  SFmedian-SFpoltr-SFsup_right  right  0.631705\n",
       "2      SFmarginal-SFinfant_left   left  0.696752\n",
       "3            SFinter-SFsup_left   left  0.747669\n",
       "4      SFinf-BROCA-SPeCinf_left   left  0.813570"
      ]
     },
     "execution_count": 8,
     "metadata": {},
     "output_type": "execute_result"
    }
   ],
   "source": [
    "df = df.sort_values(by=\"p\", ascending=True).reset_index()\n",
    "df.head()"
   ]
  },
  {
   "cell_type": "code",
   "execution_count": 9,
   "metadata": {},
   "outputs": [
    {
     "data": {
      "text/html": [
       "<div>\n",
       "<style scoped>\n",
       "    .dataframe tbody tr th:only-of-type {\n",
       "        vertical-align: middle;\n",
       "    }\n",
       "\n",
       "    .dataframe tbody tr th {\n",
       "        vertical-align: top;\n",
       "    }\n",
       "\n",
       "    .dataframe thead th {\n",
       "        text-align: right;\n",
       "    }\n",
       "</style>\n",
       "<table border=\"1\" class=\"dataframe\">\n",
       "  <thead>\n",
       "    <tr style=\"text-align: right;\">\n",
       "      <th></th>\n",
       "      <th>region</th>\n",
       "      <th>side</th>\n",
       "      <th>p</th>\n",
       "    </tr>\n",
       "  </thead>\n",
       "  <tbody>\n",
       "    <tr>\n",
       "      <th>1</th>\n",
       "      <td>SFmedian-SFpoltr-SFsup_right</td>\n",
       "      <td>right</td>\n",
       "      <td>0.631705</td>\n",
       "    </tr>\n",
       "    <tr>\n",
       "      <th>2</th>\n",
       "      <td>SFmarginal-SFinfant_left</td>\n",
       "      <td>left</td>\n",
       "      <td>0.696752</td>\n",
       "    </tr>\n",
       "    <tr>\n",
       "      <th>3</th>\n",
       "      <td>SFinter-SFsup_left</td>\n",
       "      <td>left</td>\n",
       "      <td>0.747669</td>\n",
       "    </tr>\n",
       "    <tr>\n",
       "      <th>4</th>\n",
       "      <td>SFinf-BROCA-SPeCinf_left</td>\n",
       "      <td>left</td>\n",
       "      <td>0.813570</td>\n",
       "    </tr>\n",
       "    <tr>\n",
       "      <th>5</th>\n",
       "      <td>CINGULATE_left</td>\n",
       "      <td>left</td>\n",
       "      <td>0.956018</td>\n",
       "    </tr>\n",
       "  </tbody>\n",
       "</table>\n",
       "</div>"
      ],
      "text/plain": [
       "                         region   side         p\n",
       "1  SFmedian-SFpoltr-SFsup_right  right  0.631705\n",
       "2      SFmarginal-SFinfant_left   left  0.696752\n",
       "3            SFinter-SFsup_left   left  0.747669\n",
       "4      SFinf-BROCA-SPeCinf_left   left  0.813570\n",
       "5                CINGULATE_left   left  0.956018"
      ]
     },
     "execution_count": 9,
     "metadata": {},
     "output_type": "execute_result"
    }
   ],
   "source": [
    "exclude = [\"fronto-parietal_medial_face_left\", \"fronto-parietal_medial_face_right\",\n",
    "            \"FCLp-SGSM_left\", \"FCLp-SGSM_right\", \"STs-SGSM_left\", \"STs-SGSM_right\"]\n",
    "df = df[~df[\"region\"].isin(exclude)]\n",
    "df.head()"
   ]
  },
  {
   "cell_type": "code",
   "execution_count": 10,
   "metadata": {},
   "outputs": [],
   "source": [
    "dic = {\n",
    "    \"FCLp-subsc-FCLa-INSULA\": \"F.C.L.p.-subsc.-F.C.L.a.-INSULA.\",\n",
    "    \"FCMpost-SpC\": \"F.C.M.post.-S.p.C.\",\n",
    "    \"FColl-SRh\": \"F.Coll.-S.Rh.\",\n",
    "    \"FIP\": \"F.I.P.\",\n",
    "    \"FPO-SCu-ScCal\": \"F.P.O.-S.Cu.-Sc.Cal.\",\n",
    "    \"Lobule_parietal_sup\": \"Lobule_parietal_sup.\",\n",
    "    \"ORBITAL\": \"S.Or.\",\n",
    "    \"SC-SPeC\": \"S.C.-S.Pe.C.\",\n",
    "    \"SC-SPoC\": \"S.C.-S.Po.C.\",\n",
    "    \"SC-sylv\": \"S.C.-sylv.\",\n",
    "    \"SFinf-BROCA-SPeCinf\": \"S.F.inf.-BROCA-S.Pe.C.inf.\",\n",
    "    \"SFint-FCMant\": \"S.F.int.-F.C.M.ant.\",\n",
    "    \"SFint-SR\": \"S.F.int.-S.R.\",\n",
    "    \"SFinter-SFsup\": \"S.F.inter.-S.F.sup.\",\n",
    "    \"SFmarginal-SFinfant\":\"S.F.marginal-S.F.inf.ant.\",\n",
    "    \"SFmedian-SFpoltr-SFsup\": \"S.F.median-S.F.pol.tr.-S.F.sup.\",\n",
    "    \"SOr-SOlf\": \"S.Or.-S.Olf.\",\n",
    "    \"SPeC\": \"S.Pe.C.\",\n",
    "    \"SPoC\": \"S.Po.C.\",\n",
    "    \"STi-SOTlat\": \"S.T.i.-S.O.T.lat.\",\n",
    "    \"STi-STs-STpol\": \"S.T.i.-S.T.s.-S.T.pol.\",\n",
    "    \"STsbr\": \"S.T.s.br.\",\n",
    "    \"STs\": \"S.T.s.\",\n",
    "    \"ScCal-SLi\": \"Sc.Cal.-S.Li.\",\n",
    "    \"SsP-SPaint\": \"S.s.P.-S.Pa.int.\",\n",
    "}"
   ]
  },
  {
   "cell_type": "code",
   "execution_count": 11,
   "metadata": {},
   "outputs": [
    {
     "data": {
      "text/html": [
       "<div>\n",
       "<style scoped>\n",
       "    .dataframe tbody tr th:only-of-type {\n",
       "        vertical-align: middle;\n",
       "    }\n",
       "\n",
       "    .dataframe tbody tr th {\n",
       "        vertical-align: top;\n",
       "    }\n",
       "\n",
       "    .dataframe thead th {\n",
       "        text-align: right;\n",
       "    }\n",
       "</style>\n",
       "<table border=\"1\" class=\"dataframe\">\n",
       "  <thead>\n",
       "    <tr style=\"text-align: right;\">\n",
       "      <th></th>\n",
       "      <th>region</th>\n",
       "      <th>side</th>\n",
       "      <th>p</th>\n",
       "    </tr>\n",
       "  </thead>\n",
       "  <tbody>\n",
       "    <tr>\n",
       "      <th>1</th>\n",
       "      <td>S.F.median-S.F.pol.tr.-S.F.sup._right</td>\n",
       "      <td>right</td>\n",
       "      <td>0.631705</td>\n",
       "    </tr>\n",
       "    <tr>\n",
       "      <th>2</th>\n",
       "      <td>S.F.marginal-S.F.inf.ant._left</td>\n",
       "      <td>left</td>\n",
       "      <td>0.696752</td>\n",
       "    </tr>\n",
       "    <tr>\n",
       "      <th>3</th>\n",
       "      <td>S.F.inter.-S.F.sup._left</td>\n",
       "      <td>left</td>\n",
       "      <td>0.747669</td>\n",
       "    </tr>\n",
       "    <tr>\n",
       "      <th>4</th>\n",
       "      <td>S.F.inf.-BROCA-S.Pe.C.inf._left</td>\n",
       "      <td>left</td>\n",
       "      <td>0.813570</td>\n",
       "    </tr>\n",
       "    <tr>\n",
       "      <th>5</th>\n",
       "      <td>CINGULATE_left</td>\n",
       "      <td>left</td>\n",
       "      <td>0.956018</td>\n",
       "    </tr>\n",
       "  </tbody>\n",
       "</table>\n",
       "</div>"
      ],
      "text/plain": [
       "                                  region   side         p\n",
       "1  S.F.median-S.F.pol.tr.-S.F.sup._right  right  0.631705\n",
       "2         S.F.marginal-S.F.inf.ant._left   left  0.696752\n",
       "3               S.F.inter.-S.F.sup._left   left  0.747669\n",
       "4        S.F.inf.-BROCA-S.Pe.C.inf._left   left  0.813570\n",
       "5                         CINGULATE_left   left  0.956018"
      ]
     },
     "execution_count": 11,
     "metadata": {},
     "output_type": "execute_result"
    }
   ],
   "source": [
    "for key in dic.keys():\n",
    "    df[\"region\"] = df[\"region\"].str.replace(key, dic[key])\n",
    "df.head()"
   ]
  },
  {
   "cell_type": "markdown",
   "metadata": {},
   "source": []
  },
  {
   "cell_type": "code",
   "execution_count": 12,
   "metadata": {},
   "outputs": [
    {
     "data": {
      "image/png": "[encoded data removed]",
      "text/plain": [
       "<Figure size 720x576 with 1 Axes>"
      ]
     },
     "metadata": {
      "needs_background": "light"
     },
     "output_type": "display_data"
    }
   ],
   "source": [
    "plt.rc('axes', labelsize=12) \n",
    "f, ax = plt.subplots(1, 1, figsize=(10, 8))\n",
    "plot_horizontal(df[df.side=='left'], \"region\", ax, \"p\", \"\")\n",
    "plt.show()"
   ]
  },
  {
   "cell_type": "code",
   "execution_count": 13,
   "metadata": {},
   "outputs": [
    {
     "data": {
      "image/png": "[encoded data removed]",
      "text/plain": [
       "<Figure size 720x576 with 1 Axes>"
      ]
     },
     "metadata": {
      "needs_background": "light"
     },
     "output_type": "display_data"
    }
   ],
   "source": [
    "plt.rc('axes', labelsize=12) \n",
    "f, ax = plt.subplots(1, 1, figsize=(10, 8))\n",
    "plot_horizontal(df[df.side=='right'], \"region\", ax, \"p\", \"\")\n",
    "plt.show()"
   ]
  },
  {
   "cell_type": "code",
   "execution_count": 14,
   "metadata": {},
   "outputs": [],
   "source": [
    "# df.to_csv(output_filename)"
   ]
  },
  {
   "cell_type": "code",
   "execution_count": null,
   "metadata": {},
   "outputs": [],
   "source": []
  },
  {
   "cell_type": "code",
   "execution_count": null,
   "metadata": {},
   "outputs": [],
   "source": []
  }
 ],
 "metadata": {
  "kernelspec": {
   "display_name": "venv",
   "language": "python",
   "name": "python3"
  },
  "language_info": {
   "codemirror_mode": {
    "name": "ipython",
    "version": 3
   },
   "file_extension": ".py",
   "mimetype": "text/x-python",
   "name": "python",
   "nbconvert_exporter": "python",
   "pygments_lexer": "ipython3",
   "version": "3.10.12"
  }
 },
 "nbformat": 4,
 "nbformat_minor": 2
}
