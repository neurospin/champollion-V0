{
 "cells": [
  {
   "cell_type": "code",
   "execution_count": 1,
   "metadata": {},
   "outputs": [
    {
     "name": "stderr",
     "output_type": "stream",
     "text": [
      "/usr/lib/python3/dist-packages/scipy/__init__.py:146: UserWarning: A NumPy version >=1.17.3 and <1.25.0 is required for this version of SciPy (detected version 1.26.4\n",
      "  warnings.warn(f\"A NumPy version >={np_minversion} and <{np_maxversion}\"\n"
     ]
    }
   ],
   "source": [
    "import anatomist.api as ana\n",
    "from soma.qt_gui.qtThread import QtThreadCall\n",
    "from soma.qt_gui.qt_backend import Qt\n",
    "\n",
    "from soma import aims\n",
    "import numpy as np\n",
    "import pandas as pd\n",
    "import os\n",
    "\n",
    "from sklearn.preprocessing import StandardScaler\n",
    "import statsmodels.api as sm\n",
    "\n"
   ]
  },
  {
   "cell_type": "code",
   "execution_count": 2,
   "metadata": {},
   "outputs": [
    {
     "name": "stderr",
     "output_type": "stream",
     "text": [
      "existing QApplication: 0\n",
      "QStandardPaths: XDG_RUNTIME_DIR not set, defaulting to '/tmp/runtime-jc225751'\n"
     ]
    },
    {
     "name": "stdout",
     "output_type": "stream",
     "text": [
      "create qapp\n",
      "global modules: /casa/host/build/share/anatomist-5.2/python_plugins\n",
      "home   modules: /casa/home/.anatomist/python_plugins\n",
      "done\n",
      "Starting Anatomist.....\n",
      "config file : /casa/home/.anatomist/config/settings.cfg\n",
      "PyAnatomist Module present\n",
      "PythonLauncher::runModules()\n",
      "loading module meshsplit\n",
      "loading module palettecontrols\n",
      "loading module volumepalettes\n",
      "loading module save_resampled\n",
      "loading module profilewindow\n",
      "loading module statsplotwindow\n",
      "loading module anacontrolmenu\n",
      "loading module infowindow\n",
      "loading module foldsplit\n",
      "loading module simple_controls\n",
      "loading module histogram\n",
      "loading module valuesplotwindow\n",
      "loading module ana_image_math\n",
      "loading module modelGraphs\n",
      "loading module paletteViewer\n",
      "loading module bsa_proba\n",
      "loading module gradientpalette\n",
      "loading module selection\n",
      "loading module gltf_io\n",
      "all python modules loaded\n",
      "Anatomist started.\n"
     ]
    }
   ],
   "source": [
    "a = ana.Anatomist()"
   ]
  },
  {
   "cell_type": "markdown",
   "metadata": {},
   "source": [
    "### Variable definitions"
   ]
  },
  {
   "cell_type": "code",
   "execution_count": 3,
   "metadata": {},
   "outputs": [],
   "source": [
    "embeddings_file = \"/neurospin/dico/data/deep_folding/current/models/Champollion_V0/STi-SOTlat_left/09-36-46_0/imagen_random_embeddings/full_embeddings.csv\"\n",
    "participants_file = \"/neurospin/dico/data/deep_folding/current/datasets/imagen/participants.csv\""
   ]
  },
  {
   "cell_type": "code",
   "execution_count": 4,
   "metadata": {},
   "outputs": [],
   "source": [
    "label = \"C0_L\""
   ]
  },
  {
   "cell_type": "code",
   "execution_count": 5,
   "metadata": {},
   "outputs": [],
   "source": [
    "side = \"L\" # \"R\" or \"L\"\n",
    "region = \"S.T.i.-S.O.T.lat.\"# \"S.C.-sylv.\", \"ORBITAL\", \"CINGULATE\", \"SC-sylv\", \"F.I.P.\"\n",
    "database='imagen'"
   ]
  },
  {
   "cell_type": "markdown",
   "metadata": {},
   "source": [
    "# Building predictors"
   ]
  },
  {
   "cell_type": "code",
   "execution_count": 6,
   "metadata": {},
   "outputs": [],
   "source": [
    "participants = pd.read_csv(participants_file, dtype={'Subject':object})\n",
    "participants = participants.set_index(\"Subject\")\n",
    "participants = participants[[label]]"
   ]
  },
  {
   "cell_type": "code",
   "execution_count": 7,
   "metadata": {},
   "outputs": [
    {
     "data": {
      "text/html": [
       "<div>\n",
       "<style scoped>\n",
       "    .dataframe tbody tr th:only-of-type {\n",
       "        vertical-align: middle;\n",
       "    }\n",
       "\n",
       "    .dataframe tbody tr th {\n",
       "        vertical-align: top;\n",
       "    }\n",
       "\n",
       "    .dataframe thead th {\n",
       "        text-align: right;\n",
       "    }\n",
       "</style>\n",
       "<table border=\"1\" class=\"dataframe\">\n",
       "  <thead>\n",
       "    <tr style=\"text-align: right;\">\n",
       "      <th></th>\n",
       "      <th>C0_L</th>\n",
       "    </tr>\n",
       "    <tr>\n",
       "      <th>Subject</th>\n",
       "      <th></th>\n",
       "    </tr>\n",
       "  </thead>\n",
       "  <tbody>\n",
       "    <tr>\n",
       "      <th>000000001274</th>\n",
       "      <td>N</td>\n",
       "    </tr>\n",
       "    <tr>\n",
       "      <th>000000022453</th>\n",
       "      <td>N</td>\n",
       "    </tr>\n",
       "    <tr>\n",
       "      <th>000000075717</th>\n",
       "      <td>N</td>\n",
       "    </tr>\n",
       "    <tr>\n",
       "      <th>000000106601</th>\n",
       "      <td>N</td>\n",
       "    </tr>\n",
       "    <tr>\n",
       "      <th>000000106871</th>\n",
       "      <td>N</td>\n",
       "    </tr>\n",
       "  </tbody>\n",
       "</table>\n",
       "</div>"
      ],
      "text/plain": [
       "             C0_L\n",
       "Subject          \n",
       "000000001274    N\n",
       "000000022453    N\n",
       "000000075717    N\n",
       "000000106601    N\n",
       "000000106871    N"
      ]
     },
     "execution_count": 7,
     "metadata": {},
     "output_type": "execute_result"
    }
   ],
   "source": [
    "participants.head()"
   ]
  },
  {
   "cell_type": "code",
   "execution_count": 8,
   "metadata": {},
   "outputs": [
    {
     "data": {
      "text/plain": [
       "array([0, 2, 1])"
      ]
     },
     "execution_count": 8,
     "metadata": {},
     "output_type": "execute_result"
    }
   ],
   "source": [
    "participants = participants[[label]].dropna()\n",
    "participants = participants.replace({\"N\": 0, \"?\": 1, \"Y\": 2})\n",
    "participants[label].unique()"
   ]
  },
  {
   "cell_type": "code",
   "execution_count": 9,
   "metadata": {},
   "outputs": [
    {
     "data": {
      "text/plain": [
       "2008"
      ]
     },
     "execution_count": 9,
     "metadata": {},
     "output_type": "execute_result"
    }
   ],
   "source": [
    "len(participants)"
   ]
  },
  {
   "cell_type": "code",
   "execution_count": null,
   "metadata": {},
   "outputs": [],
   "source": []
  },
  {
   "cell_type": "code",
   "execution_count": 10,
   "metadata": {},
   "outputs": [],
   "source": [
    "embeddings = pd.read_csv(embeddings_file, dtype={'ID':object})\n",
    "embeddings = embeddings.set_index(\"ID\")"
   ]
  },
  {
   "cell_type": "code",
   "execution_count": 11,
   "metadata": {},
   "outputs": [
    {
     "data": {
      "text/html": [
       "<div>\n",
       "<style scoped>\n",
       "    .dataframe tbody tr th:only-of-type {\n",
       "        vertical-align: middle;\n",
       "    }\n",
       "\n",
       "    .dataframe tbody tr th {\n",
       "        vertical-align: top;\n",
       "    }\n",
       "\n",
       "    .dataframe thead th {\n",
       "        text-align: right;\n",
       "    }\n",
       "</style>\n",
       "<table border=\"1\" class=\"dataframe\">\n",
       "  <thead>\n",
       "    <tr style=\"text-align: right;\">\n",
       "      <th></th>\n",
       "      <th>dim1</th>\n",
       "      <th>dim2</th>\n",
       "      <th>dim3</th>\n",
       "      <th>dim4</th>\n",
       "      <th>dim5</th>\n",
       "      <th>dim6</th>\n",
       "      <th>dim7</th>\n",
       "      <th>dim8</th>\n",
       "      <th>dim9</th>\n",
       "      <th>dim10</th>\n",
       "      <th>...</th>\n",
       "      <th>dim247</th>\n",
       "      <th>dim248</th>\n",
       "      <th>dim249</th>\n",
       "      <th>dim250</th>\n",
       "      <th>dim251</th>\n",
       "      <th>dim252</th>\n",
       "      <th>dim253</th>\n",
       "      <th>dim254</th>\n",
       "      <th>dim255</th>\n",
       "      <th>dim256</th>\n",
       "    </tr>\n",
       "    <tr>\n",
       "      <th>ID</th>\n",
       "      <th></th>\n",
       "      <th></th>\n",
       "      <th></th>\n",
       "      <th></th>\n",
       "      <th></th>\n",
       "      <th></th>\n",
       "      <th></th>\n",
       "      <th></th>\n",
       "      <th></th>\n",
       "      <th></th>\n",
       "      <th></th>\n",
       "      <th></th>\n",
       "      <th></th>\n",
       "      <th></th>\n",
       "      <th></th>\n",
       "      <th></th>\n",
       "      <th></th>\n",
       "      <th></th>\n",
       "      <th></th>\n",
       "      <th></th>\n",
       "      <th></th>\n",
       "    </tr>\n",
       "  </thead>\n",
       "  <tbody>\n",
       "    <tr>\n",
       "      <th>000000001274</th>\n",
       "      <td>32.814080</td>\n",
       "      <td>-8.613309</td>\n",
       "      <td>-46.037660</td>\n",
       "      <td>-54.764030</td>\n",
       "      <td>-12.623614</td>\n",
       "      <td>-39.310204</td>\n",
       "      <td>-19.241960</td>\n",
       "      <td>-11.901056</td>\n",
       "      <td>-52.242410</td>\n",
       "      <td>7.166529</td>\n",
       "      <td>...</td>\n",
       "      <td>46.002290</td>\n",
       "      <td>11.250556</td>\n",
       "      <td>43.111053</td>\n",
       "      <td>-27.851050</td>\n",
       "      <td>-5.756081</td>\n",
       "      <td>5.886194</td>\n",
       "      <td>-26.687721</td>\n",
       "      <td>-121.747055</td>\n",
       "      <td>27.338032</td>\n",
       "      <td>36.071865</td>\n",
       "    </tr>\n",
       "    <tr>\n",
       "      <th>000000022453</th>\n",
       "      <td>-22.985617</td>\n",
       "      <td>-12.573702</td>\n",
       "      <td>0.744675</td>\n",
       "      <td>-21.185085</td>\n",
       "      <td>-30.209770</td>\n",
       "      <td>-35.906548</td>\n",
       "      <td>-14.720461</td>\n",
       "      <td>12.276617</td>\n",
       "      <td>1.381767</td>\n",
       "      <td>1.230028</td>\n",
       "      <td>...</td>\n",
       "      <td>58.593323</td>\n",
       "      <td>-37.611860</td>\n",
       "      <td>5.897692</td>\n",
       "      <td>12.611318</td>\n",
       "      <td>-43.951733</td>\n",
       "      <td>-14.701594</td>\n",
       "      <td>-3.297744</td>\n",
       "      <td>-138.445890</td>\n",
       "      <td>-10.847103</td>\n",
       "      <td>-2.106894</td>\n",
       "    </tr>\n",
       "    <tr>\n",
       "      <th>000000075717</th>\n",
       "      <td>2.078863</td>\n",
       "      <td>4.646556</td>\n",
       "      <td>5.836473</td>\n",
       "      <td>-11.299296</td>\n",
       "      <td>-39.963737</td>\n",
       "      <td>-4.980274</td>\n",
       "      <td>54.495243</td>\n",
       "      <td>-1.970448</td>\n",
       "      <td>27.065926</td>\n",
       "      <td>-16.413015</td>\n",
       "      <td>...</td>\n",
       "      <td>15.828075</td>\n",
       "      <td>-2.564424</td>\n",
       "      <td>-25.877087</td>\n",
       "      <td>-32.033500</td>\n",
       "      <td>14.325388</td>\n",
       "      <td>-0.629157</td>\n",
       "      <td>36.688460</td>\n",
       "      <td>-124.275690</td>\n",
       "      <td>-39.046670</td>\n",
       "      <td>-29.008825</td>\n",
       "    </tr>\n",
       "    <tr>\n",
       "      <th>000000106601</th>\n",
       "      <td>-21.841398</td>\n",
       "      <td>65.908510</td>\n",
       "      <td>6.599221</td>\n",
       "      <td>-21.912352</td>\n",
       "      <td>0.743593</td>\n",
       "      <td>-27.700872</td>\n",
       "      <td>69.110260</td>\n",
       "      <td>15.953175</td>\n",
       "      <td>58.702747</td>\n",
       "      <td>-79.338760</td>\n",
       "      <td>...</td>\n",
       "      <td>25.045347</td>\n",
       "      <td>13.002600</td>\n",
       "      <td>51.350224</td>\n",
       "      <td>-0.095268</td>\n",
       "      <td>4.922455</td>\n",
       "      <td>-31.662077</td>\n",
       "      <td>7.881615</td>\n",
       "      <td>-121.483536</td>\n",
       "      <td>-32.211327</td>\n",
       "      <td>-74.564514</td>\n",
       "    </tr>\n",
       "    <tr>\n",
       "      <th>000000106871</th>\n",
       "      <td>-34.187912</td>\n",
       "      <td>-59.125400</td>\n",
       "      <td>17.816664</td>\n",
       "      <td>38.747740</td>\n",
       "      <td>-74.134160</td>\n",
       "      <td>8.565156</td>\n",
       "      <td>-3.552338</td>\n",
       "      <td>-12.760387</td>\n",
       "      <td>-33.291115</td>\n",
       "      <td>58.531770</td>\n",
       "      <td>...</td>\n",
       "      <td>7.076326</td>\n",
       "      <td>-5.707691</td>\n",
       "      <td>6.937479</td>\n",
       "      <td>14.503365</td>\n",
       "      <td>-39.147120</td>\n",
       "      <td>51.710728</td>\n",
       "      <td>-58.656570</td>\n",
       "      <td>-81.669580</td>\n",
       "      <td>33.694480</td>\n",
       "      <td>-9.145324</td>\n",
       "    </tr>\n",
       "    <tr>\n",
       "      <th>...</th>\n",
       "      <td>...</td>\n",
       "      <td>...</td>\n",
       "      <td>...</td>\n",
       "      <td>...</td>\n",
       "      <td>...</td>\n",
       "      <td>...</td>\n",
       "      <td>...</td>\n",
       "      <td>...</td>\n",
       "      <td>...</td>\n",
       "      <td>...</td>\n",
       "      <td>...</td>\n",
       "      <td>...</td>\n",
       "      <td>...</td>\n",
       "      <td>...</td>\n",
       "      <td>...</td>\n",
       "      <td>...</td>\n",
       "      <td>...</td>\n",
       "      <td>...</td>\n",
       "      <td>...</td>\n",
       "      <td>...</td>\n",
       "      <td>...</td>\n",
       "    </tr>\n",
       "    <tr>\n",
       "      <th>000099873252</th>\n",
       "      <td>30.525534</td>\n",
       "      <td>33.303867</td>\n",
       "      <td>-24.128834</td>\n",
       "      <td>-42.666960</td>\n",
       "      <td>9.382317</td>\n",
       "      <td>-47.162570</td>\n",
       "      <td>-5.122789</td>\n",
       "      <td>-12.020514</td>\n",
       "      <td>23.690304</td>\n",
       "      <td>-25.119226</td>\n",
       "      <td>...</td>\n",
       "      <td>47.169937</td>\n",
       "      <td>21.662004</td>\n",
       "      <td>19.493210</td>\n",
       "      <td>-4.230321</td>\n",
       "      <td>3.311825</td>\n",
       "      <td>-12.226371</td>\n",
       "      <td>-22.159230</td>\n",
       "      <td>-124.129295</td>\n",
       "      <td>12.419815</td>\n",
       "      <td>-0.204808</td>\n",
       "    </tr>\n",
       "    <tr>\n",
       "      <th>000099875982</th>\n",
       "      <td>-49.917217</td>\n",
       "      <td>-64.678540</td>\n",
       "      <td>-19.946766</td>\n",
       "      <td>37.601370</td>\n",
       "      <td>-2.135396</td>\n",
       "      <td>-65.919395</td>\n",
       "      <td>-32.138000</td>\n",
       "      <td>-23.935478</td>\n",
       "      <td>8.652932</td>\n",
       "      <td>79.630640</td>\n",
       "      <td>...</td>\n",
       "      <td>72.671890</td>\n",
       "      <td>-7.638586</td>\n",
       "      <td>-23.179910</td>\n",
       "      <td>54.783833</td>\n",
       "      <td>-34.824650</td>\n",
       "      <td>-3.398768</td>\n",
       "      <td>-4.972400</td>\n",
       "      <td>-120.580826</td>\n",
       "      <td>-11.232622</td>\n",
       "      <td>-0.616629</td>\n",
       "    </tr>\n",
       "    <tr>\n",
       "      <th>000099888850</th>\n",
       "      <td>-29.246168</td>\n",
       "      <td>-6.334409</td>\n",
       "      <td>22.540016</td>\n",
       "      <td>-22.449327</td>\n",
       "      <td>46.244778</td>\n",
       "      <td>72.692680</td>\n",
       "      <td>-13.409789</td>\n",
       "      <td>0.510161</td>\n",
       "      <td>-19.412241</td>\n",
       "      <td>-41.384440</td>\n",
       "      <td>...</td>\n",
       "      <td>49.667120</td>\n",
       "      <td>15.729359</td>\n",
       "      <td>76.429790</td>\n",
       "      <td>41.631348</td>\n",
       "      <td>-50.940697</td>\n",
       "      <td>25.278057</td>\n",
       "      <td>4.453211</td>\n",
       "      <td>-144.127560</td>\n",
       "      <td>-27.107983</td>\n",
       "      <td>-9.371305</td>\n",
       "    </tr>\n",
       "    <tr>\n",
       "      <th>000099930021</th>\n",
       "      <td>-24.487915</td>\n",
       "      <td>-34.964190</td>\n",
       "      <td>35.984447</td>\n",
       "      <td>34.424458</td>\n",
       "      <td>-37.242233</td>\n",
       "      <td>-120.228424</td>\n",
       "      <td>-70.546910</td>\n",
       "      <td>-22.584400</td>\n",
       "      <td>10.493209</td>\n",
       "      <td>29.592426</td>\n",
       "      <td>...</td>\n",
       "      <td>43.936540</td>\n",
       "      <td>-14.136017</td>\n",
       "      <td>-52.336727</td>\n",
       "      <td>35.799390</td>\n",
       "      <td>-25.379060</td>\n",
       "      <td>17.649237</td>\n",
       "      <td>1.948479</td>\n",
       "      <td>-124.956345</td>\n",
       "      <td>-27.613232</td>\n",
       "      <td>16.508417</td>\n",
       "    </tr>\n",
       "    <tr>\n",
       "      <th>000099954902</th>\n",
       "      <td>-57.100815</td>\n",
       "      <td>-4.465304</td>\n",
       "      <td>-15.530732</td>\n",
       "      <td>-37.169537</td>\n",
       "      <td>58.829270</td>\n",
       "      <td>50.703056</td>\n",
       "      <td>20.092003</td>\n",
       "      <td>29.570610</td>\n",
       "      <td>-9.239738</td>\n",
       "      <td>20.584630</td>\n",
       "      <td>...</td>\n",
       "      <td>58.305923</td>\n",
       "      <td>41.890415</td>\n",
       "      <td>125.392500</td>\n",
       "      <td>68.863464</td>\n",
       "      <td>-34.718190</td>\n",
       "      <td>-25.834837</td>\n",
       "      <td>-13.972580</td>\n",
       "      <td>-117.363560</td>\n",
       "      <td>0.342824</td>\n",
       "      <td>-9.858756</td>\n",
       "    </tr>\n",
       "  </tbody>\n",
       "</table>\n",
       "<p>2080 rows × 256 columns</p>\n",
       "</div>"
      ],
      "text/plain": [
       "                   dim1       dim2       dim3       dim4       dim5  \\\n",
       "ID                                                                    \n",
       "000000001274  32.814080  -8.613309 -46.037660 -54.764030 -12.623614   \n",
       "000000022453 -22.985617 -12.573702   0.744675 -21.185085 -30.209770   \n",
       "000000075717   2.078863   4.646556   5.836473 -11.299296 -39.963737   \n",
       "000000106601 -21.841398  65.908510   6.599221 -21.912352   0.743593   \n",
       "000000106871 -34.187912 -59.125400  17.816664  38.747740 -74.134160   \n",
       "...                 ...        ...        ...        ...        ...   \n",
       "000099873252  30.525534  33.303867 -24.128834 -42.666960   9.382317   \n",
       "000099875982 -49.917217 -64.678540 -19.946766  37.601370  -2.135396   \n",
       "000099888850 -29.246168  -6.334409  22.540016 -22.449327  46.244778   \n",
       "000099930021 -24.487915 -34.964190  35.984447  34.424458 -37.242233   \n",
       "000099954902 -57.100815  -4.465304 -15.530732 -37.169537  58.829270   \n",
       "\n",
       "                    dim6       dim7       dim8       dim9      dim10  ...  \\\n",
       "ID                                                                    ...   \n",
       "000000001274  -39.310204 -19.241960 -11.901056 -52.242410   7.166529  ...   \n",
       "000000022453  -35.906548 -14.720461  12.276617   1.381767   1.230028  ...   \n",
       "000000075717   -4.980274  54.495243  -1.970448  27.065926 -16.413015  ...   \n",
       "000000106601  -27.700872  69.110260  15.953175  58.702747 -79.338760  ...   \n",
       "000000106871    8.565156  -3.552338 -12.760387 -33.291115  58.531770  ...   \n",
       "...                  ...        ...        ...        ...        ...  ...   \n",
       "000099873252  -47.162570  -5.122789 -12.020514  23.690304 -25.119226  ...   \n",
       "000099875982  -65.919395 -32.138000 -23.935478   8.652932  79.630640  ...   \n",
       "000099888850   72.692680 -13.409789   0.510161 -19.412241 -41.384440  ...   \n",
       "000099930021 -120.228424 -70.546910 -22.584400  10.493209  29.592426  ...   \n",
       "000099954902   50.703056  20.092003  29.570610  -9.239738  20.584630  ...   \n",
       "\n",
       "                 dim247     dim248      dim249     dim250     dim251  \\\n",
       "ID                                                                     \n",
       "000000001274  46.002290  11.250556   43.111053 -27.851050  -5.756081   \n",
       "000000022453  58.593323 -37.611860    5.897692  12.611318 -43.951733   \n",
       "000000075717  15.828075  -2.564424  -25.877087 -32.033500  14.325388   \n",
       "000000106601  25.045347  13.002600   51.350224  -0.095268   4.922455   \n",
       "000000106871   7.076326  -5.707691    6.937479  14.503365 -39.147120   \n",
       "...                 ...        ...         ...        ...        ...   \n",
       "000099873252  47.169937  21.662004   19.493210  -4.230321   3.311825   \n",
       "000099875982  72.671890  -7.638586  -23.179910  54.783833 -34.824650   \n",
       "000099888850  49.667120  15.729359   76.429790  41.631348 -50.940697   \n",
       "000099930021  43.936540 -14.136017  -52.336727  35.799390 -25.379060   \n",
       "000099954902  58.305923  41.890415  125.392500  68.863464 -34.718190   \n",
       "\n",
       "                 dim252     dim253      dim254     dim255     dim256  \n",
       "ID                                                                    \n",
       "000000001274   5.886194 -26.687721 -121.747055  27.338032  36.071865  \n",
       "000000022453 -14.701594  -3.297744 -138.445890 -10.847103  -2.106894  \n",
       "000000075717  -0.629157  36.688460 -124.275690 -39.046670 -29.008825  \n",
       "000000106601 -31.662077   7.881615 -121.483536 -32.211327 -74.564514  \n",
       "000000106871  51.710728 -58.656570  -81.669580  33.694480  -9.145324  \n",
       "...                 ...        ...         ...        ...        ...  \n",
       "000099873252 -12.226371 -22.159230 -124.129295  12.419815  -0.204808  \n",
       "000099875982  -3.398768  -4.972400 -120.580826 -11.232622  -0.616629  \n",
       "000099888850  25.278057   4.453211 -144.127560 -27.107983  -9.371305  \n",
       "000099930021  17.649237   1.948479 -124.956345 -27.613232  16.508417  \n",
       "000099954902 -25.834837 -13.972580 -117.363560   0.342824  -9.858756  \n",
       "\n",
       "[2080 rows x 256 columns]"
      ]
     },
     "execution_count": 11,
     "metadata": {},
     "output_type": "execute_result"
    }
   ],
   "source": [
    "embeddings"
   ]
  },
  {
   "cell_type": "code",
   "execution_count": 12,
   "metadata": {},
   "outputs": [
    {
     "data": {
      "text/plain": [
       "2.173648243704974"
      ]
     },
     "execution_count": 12,
     "metadata": {},
     "output_type": "execute_result"
    }
   ],
   "source": [
    "merged = participants[[label]].merge(embeddings, left_index=True, right_index=True)\n",
    "\n",
    "# Classifies\n",
    "X = merged.drop([label], axis=1)\n",
    "Y = merged[[label]].astype(float)\n",
    "\n",
    "# Standard scaler\n",
    "scaler = StandardScaler()\n",
    "X[X.columns] = scaler.fit_transform(X)\n",
    "df2 = X.copy()\n",
    "\n",
    "# Makes OLS\n",
    "df2 = sm.add_constant(df2)\n",
    "model = sm.OLS(Y[label], df2)\n",
    "results = model.fit()\n",
    "\n",
    "p = results.params\n",
    "\n",
    "# Gets predictor\n",
    "df = Y.copy()\n",
    "df[\"predicted\"] = df2.dot(p)\n",
    "\n",
    "results.fvalue"
   ]
  },
  {
   "cell_type": "code",
   "execution_count": 13,
   "metadata": {},
   "outputs": [
    {
     "data": {
      "text/plain": [
       "C0_L         0.47006\n",
       "predicted    0.47006\n",
       "dtype: float64"
      ]
     },
     "execution_count": 13,
     "metadata": {},
     "output_type": "execute_result"
    }
   ],
   "source": [
    "df.mean()"
   ]
  },
  {
   "cell_type": "code",
   "execution_count": 14,
   "metadata": {},
   "outputs": [
    {
     "data": {
      "text/html": [
       "<div>\n",
       "<style scoped>\n",
       "    .dataframe tbody tr th:only-of-type {\n",
       "        vertical-align: middle;\n",
       "    }\n",
       "\n",
       "    .dataframe tbody tr th {\n",
       "        vertical-align: top;\n",
       "    }\n",
       "\n",
       "    .dataframe thead th {\n",
       "        text-align: right;\n",
       "    }\n",
       "</style>\n",
       "<table border=\"1\" class=\"dataframe\">\n",
       "  <thead>\n",
       "    <tr style=\"text-align: right;\">\n",
       "      <th></th>\n",
       "      <th>C0_L</th>\n",
       "      <th>predicted</th>\n",
       "    </tr>\n",
       "  </thead>\n",
       "  <tbody>\n",
       "    <tr>\n",
       "      <th>000000001274</th>\n",
       "      <td>0.0</td>\n",
       "      <td>0.245073</td>\n",
       "    </tr>\n",
       "    <tr>\n",
       "      <th>000000022453</th>\n",
       "      <td>0.0</td>\n",
       "      <td>-0.015116</td>\n",
       "    </tr>\n",
       "    <tr>\n",
       "      <th>000000075717</th>\n",
       "      <td>0.0</td>\n",
       "      <td>0.340990</td>\n",
       "    </tr>\n",
       "    <tr>\n",
       "      <th>000000106601</th>\n",
       "      <td>0.0</td>\n",
       "      <td>0.107730</td>\n",
       "    </tr>\n",
       "    <tr>\n",
       "      <th>000000106871</th>\n",
       "      <td>0.0</td>\n",
       "      <td>0.983173</td>\n",
       "    </tr>\n",
       "  </tbody>\n",
       "</table>\n",
       "</div>"
      ],
      "text/plain": [
       "              C0_L  predicted\n",
       "000000001274   0.0   0.245073\n",
       "000000022453   0.0  -0.015116\n",
       "000000075717   0.0   0.340990\n",
       "000000106601   0.0   0.107730\n",
       "000000106871   0.0   0.983173"
      ]
     },
     "execution_count": 14,
     "metadata": {},
     "output_type": "execute_result"
    }
   ],
   "source": [
    "df.head()"
   ]
  },
  {
   "cell_type": "markdown",
   "metadata": {},
   "source": [
    "### Function definitions"
   ]
  },
  {
   "cell_type": "code",
   "execution_count": 15,
   "metadata": {},
   "outputs": [],
   "source": [
    "def to_bucket(obj):\n",
    "    if obj.type() == obj.BUCKET:\n",
    "        return obj\n",
    "    avol = a.toAimsObject(obj)\n",
    "    c = aims.Converter(intype=avol, outtype=aims.BucketMap_VOID)\n",
    "    abck = c(avol)\n",
    "    bck = a.toAObject(abck)\n",
    "    bck.releaseAppRef()\n",
    "    return bck\n",
    "\n",
    "def build_gradient(pal):\n",
    "    gw = ana.cpp.GradientWidget(None, 'gradientwidget', pal.header()['palette_gradients'])\n",
    "    gw.setHasAlpha(True)\n",
    "    nc = pal.shape[0]\n",
    "    rgbp = gw.fillGradient(nc, True)\n",
    "    rgb = rgbp.data()\n",
    "    npal = pal.np['v']\n",
    "    pb = np.frombuffer(rgb, dtype=np.uint8).reshape((nc, 4))\n",
    "    npal[:, 0, 0, 0, :] = pb\n",
    "    npal[:, 0, 0, 0, :3] = npal[:, 0, 0, 0, :3][:, ::-1]  # BGRA -> RGBA\n",
    "    pal.update()\n",
    "\n",
    "def buckets_average(subject_id_list, dataset_name_list):\n",
    "    dic_vol = {}\n",
    "    dim = 0\n",
    "    rep = 0\n",
    "    if len(subject_id_list) == 0:\n",
    "        return False\n",
    "    while dim == 0 and rep < len(subject_id_list):\n",
    "        if dataset_name_list[rep].lower() in ['ukb', 'ukbiobank', 'projected_ukb']:\n",
    "            dataset = 'UkBioBank'\n",
    "        elif dataset_name_list[rep].lower() in ['hcp']:\n",
    "            dataset = 'hcp'\n",
    "        elif dataset_name_list[rep].lower() in ['imagen']:\n",
    "            dataset = 'imagen'\n",
    "        mm_skeleton_path = f\"/neurospin/dico/data/deep_folding/current/datasets/{dataset}/crops/2mm/{region}/mask/{side}crops\"\n",
    "        if os.path.isfile(f'{mm_skeleton_path}/{subject_id_list[rep]}_cropped_skeleton.nii.gz'):\n",
    "            sum_vol = aims.read(f'{mm_skeleton_path}/{subject_id_list[rep]}_cropped_skeleton.nii.gz').astype(float)\n",
    "            dim = sum_vol.shape\n",
    "            sum_vol.fill(0)\n",
    "        else: \n",
    "            print(f'FileNotFound {mm_skeleton_path}/{subject_id_list[rep]}_cropped_skeleton.nii.gz')\n",
    "            #raise FileNotFoundError(f'{mm_skeleton_path}/{subject_id_list[0]}_cropped_skeleton.nii.gz')\n",
    "        rep += 1\n",
    "\n",
    "    for subject_id, dataset in zip(subject_id_list,dataset_name_list):\n",
    "        if dataset.lower() in ['ukb', 'ukbiobank',  'projected_ukb']:\n",
    "            dataset = 'UkBioBank'\n",
    "        elif dataset.lower() == 'hcp':\n",
    "            dataset = 'hcp'\n",
    "            \n",
    "        mm_skeleton_path = f\"/neurospin/dico/data/deep_folding/current/datasets/{dataset}/crops/2mm/{region}/mask/{side}crops\"\n",
    "\n",
    "        if os.path. isfile(f'{mm_skeleton_path}/{subject_id}_cropped_skeleton.nii.gz'):\n",
    "            vol = aims.read(f'{mm_skeleton_path}/{subject_id}_cropped_skeleton.nii.gz')\n",
    "            # compare the dim with the first file dim\n",
    "\n",
    "            if vol.np.shape != dim:\n",
    "                raise ValueError(f\"{subject_id_list[0]} and {subject_id} must have the same dim\")\n",
    "\n",
    "                \n",
    "            # to have a binary 3D structure\n",
    "            dic_vol[subject_id] = (vol.np > 0).astype(int)\n",
    "            sum_vol.np[:] += (vol.np > 0).astype(int) \n",
    "        else: \n",
    "            print(f'FileNotFound {mm_skeleton_path}/{subject_id}_cropped_skeleton.nii.gz')\n",
    "            #raise FileNotFoundError(f'{mm_skeleton_path}/{subject_id}_cropped_skeleton.nii.gz')\n",
    "\n",
    "    sum_vol = sum_vol / len(subject_id_list)\n",
    "    print(sum_vol, sum_vol.shape)\n",
    "    return sum_vol"
   ]
  },
  {
   "cell_type": "code",
   "execution_count": 33,
   "metadata": {},
   "outputs": [
    {
     "name": "stdout",
     "output_type": "stream",
     "text": [
      "no position could be read at 28, 82\n"
     ]
    }
   ],
   "source": [
    "def test_visualize_averages_along_parameter(df, column_name, database, nb_subjects_per_average=200, nb_columns=3, nb_lines=1):\n",
    "    # anatomist objects\n",
    "    global _block\n",
    "    global _average_dic\n",
    "    global dic_packages\n",
    "    nb_windows = nb_columns * nb_lines\n",
    "    _average_dic = {}\n",
    "    step = nb_subjects_per_average # number of subjects on which average is done\n",
    "    # Creates the block if it has not been created\n",
    "    try:\n",
    "        _block\n",
    "    except NameError:\n",
    "        _block = a.createWindowsBlock(nb_columns)\n",
    "\n",
    "    # Order according to column_name\n",
    "    df = df.sort_values(column_name)\n",
    "    predict_proba = df[[column_name]]\n",
    "\n",
    "    # Creates dictionary of subjects to average\n",
    "    dic_packages = {}\n",
    "    for i in range(0,len(predict_proba),step):\n",
    "        list_idx = (predict_proba.index[i:i+step].to_numpy())\n",
    "        dic_packages[i//step] = list_idx\n",
    "        \n",
    "    # Ensures that last list contains the last step subjects\n",
    "    list_idx = (predict_proba.index[-step:].to_numpy())\n",
    "    dic_packages[i//step] = list_idx\n",
    "        \n",
    "    list_database = [database for i in range(step)]\n",
    "    n_pack = len(dic_packages)\n",
    "\n",
    "    # Loop of display averages\n",
    "    list_pack = [int(np.ceil(i*n_pack/float(nb_windows))) for i in range(0,nb_windows)]\n",
    "    list_pack[-1] = n_pack-1\n",
    "    for i in list_pack:\n",
    "        print(i, n_pack)"
   ]
  },
  {
   "cell_type": "code",
   "execution_count": 34,
   "metadata": {},
   "outputs": [
    {
     "name": "stdout",
     "output_type": "stream",
     "text": [
      "0 11\n",
      "4 11\n",
      "10 11\n"
     ]
    },
    {
     "name": "stdout",
     "output_type": "stream",
     "text": [
      "no position could be read at 192, 186\n",
      "no position could be read at 445, 1047\n",
      "no position could be read at 872, 768\n",
      "no position could be read at 1041, 335\n",
      "no position could be read at 1093, 1150\n"
     ]
    }
   ],
   "source": [
    "test_visualize_averages_along_parameter(df, \"predicted\", database)"
   ]
  },
  {
   "cell_type": "code",
   "execution_count": 31,
   "metadata": {},
   "outputs": [],
   "source": [
    "def visualize_averages_along_parameter(df, column_name, database, nb_subjects_per_average=200, nb_columns=3, nb_lines=1):\n",
    "    # anatomist objects\n",
    "    global _block\n",
    "    global _average_dic\n",
    "    global dic_packages\n",
    "    nb_windows = nb_columns * nb_lines\n",
    "    _average_dic = {}\n",
    "    step = nb_subjects_per_average # number of subjects on which average is done\n",
    "    # Creates the block if it has not been created\n",
    "    try:\n",
    "        _block\n",
    "    except NameError:\n",
    "        _block = a.createWindowsBlock(nb_columns)\n",
    "\n",
    "    # Order according to column_name\n",
    "    df = df.sort_values(column_name)\n",
    "    predict_proba = df[[column_name]]\n",
    "\n",
    "    # Creates dictionary of subjects to average\n",
    "    dic_packages = {}\n",
    "    for i in range(0,len(predict_proba),step):\n",
    "        list_idx = (predict_proba.index[i:i+step].to_numpy())\n",
    "        dic_packages[i//step] = list_idx\n",
    "        \n",
    "    # Ensures that last list contains the last step subjects\n",
    "    list_idx = (predict_proba.index[-step:].to_numpy())\n",
    "    dic_packages[i//step] = list_idx\n",
    "        \n",
    "    list_database = [database for i in range(step)]\n",
    "    n_pack = len(dic_packages)\n",
    "\n",
    "    # Loop of display averages\n",
    "    list_pack = [int(np.ceil(i*n_pack/float(nb_windows))) for i in range(0,nb_windows)]\n",
    "    list_pack[-1] = n_pack-1\n",
    "    for i in list_pack:\n",
    "        sum_vol = buckets_average(dic_packages[i], list_database)\n",
    "        _average_dic[f'a_sum_vol{i}'] = a.toAObject(sum_vol)\n",
    "        _average_dic[f'a_sum_vol{i}'].setPalette(minVal=0, absoluteMode=True)\n",
    "        #wsum = a.createWindow('Sagittal', block=block)\n",
    "        #wsum.addObjects(a_sum_vol)\n",
    "        _average_dic[f'rvol{i}'] = a.fusionObjects(\n",
    "            objects=[_average_dic[f'a_sum_vol{i}']],\n",
    "            method='VolumeRenderingFusionMethod')\n",
    "        _average_dic[f'rvol{i}'].releaseAppRef()\n",
    "        # custom palette\n",
    "        n = len(dic_packages[i])\n",
    "        pal = a.createPalette('VR-palette')\n",
    "        pal.header()['palette_gradients'] = '0;0.459574;0.497872;0.910638;1;1#0;0;0.52766;0.417021;1;1#0;0.7;1;0#0;0;0.0297872;0.00851064;0.72766;0.178723;0.957447;0.808511;1;1'\n",
    "        #f'0;0.244444;0.5;1;1;1#0;0;0.535897;0.222222;1;1#0;0.7;1;0#0;0;{0.5/n};0;1;1'\n",
    "        build_gradient(pal)\n",
    "        _average_dic[f'rvol{i}'].setPalette('VR-palette', minVal=0.05, absoluteMode=True)\n",
    "        pal2 = a.createPalette('slice-palette')\n",
    "        pal2.header()['palette_gradients'] = '0;0.459574;0.497872;0.910638;1;1#0;0;0.52766;0.417021;1;1#0;0.7;1;0#0;0;0.0297872;0.00851064;0.72766;0.178723;0.957447;0.808511;1;1'\n",
    "        #f'0;0.244444;0.5;1;1;1#0;0;0.535897;0.222222;1;1#0;0.7;1;0#0;0;{0.3/n};0;{0.7/n};1;1;1'\n",
    "        build_gradient(pal2)\n",
    "        _average_dic[f'a_sum_vol{i}'].setPalette('slice-palette')\n",
    "        # rvol.palette().fill()\n",
    "        _average_dic[f'wvr{i}'] = a.createWindow('3D', block=_block)\n",
    "        _average_dic[f'wvr{i}'].addObjects(_average_dic[f'rvol{i}'])"
   ]
  },
  {
   "cell_type": "markdown",
   "metadata": {},
   "source": [
    "### Visualization"
   ]
  },
  {
   "cell_type": "code",
   "execution_count": 32,
   "metadata": {},
   "outputs": [
    {
     "name": "stdout",
     "output_type": "stream",
     "text": [
      "<soma.aims.Volume_DOUBLE object at 0x7d4c20784430> (34, 64, 53, 1)\n",
      "<soma.aims.Volume_DOUBLE object at 0x7d4c069a2710> (34, 64, 53, 1)\n",
      "<soma.aims.Volume_DOUBLE object at 0x7d4c069da4d0> (34, 64, 53, 1)\n"
     ]
    }
   ],
   "source": [
    "# block = a.createWindowsBlock(10)\n",
    "visualize_averages_along_parameter(df, \"predicted\", database)"
   ]
  },
  {
   "cell_type": "code",
   "execution_count": 18,
   "metadata": {},
   "outputs": [
    {
     "data": {
      "text/plain": [
       "anatomist.direct.api.Anatomist.AWindowsBlock"
      ]
     },
     "execution_count": 18,
     "metadata": {},
     "output_type": "execute_result"
    }
   ],
   "source": [
    "type(_block)"
   ]
  },
  {
   "cell_type": "code",
   "execution_count": 19,
   "metadata": {},
   "outputs": [
    {
     "data": {
      "text/plain": [
       "{'a_sum_vol0': <anatomist.cpp.anatomist.SliceableObject object at 0x7d4c207844c0>,\n",
       " 'rvol0': <anatomist.cpp.anatomist.MObject object at 0x7d4c20784700>,\n",
       " 'wvr0': <anatomist.cpp.weak_shared_ptr_AWindow object at 0x7d4c0f3b9000>,\n",
       " 'a_sum_vol4': <anatomist.cpp.anatomist.SliceableObject object at 0x7d4c539afd00>,\n",
       " 'rvol4': <anatomist.cpp.anatomist.MObject object at 0x7d4c0f386290>,\n",
       " 'wvr4': <anatomist.cpp.weak_shared_ptr_AWindow object at 0x7d4c0f3860e0>,\n",
       " 'a_sum_vol8': <anatomist.cpp.anatomist.SliceableObject object at 0x7d4c0f386560>,\n",
       " 'rvol8': <anatomist.cpp.anatomist.MObject object at 0x7d4c0f3d4c10>,\n",
       " 'wvr8': <anatomist.cpp.weak_shared_ptr_AWindow object at 0x7d4c0f3d4940>}"
      ]
     },
     "execution_count": 19,
     "metadata": {},
     "output_type": "execute_result"
    },
    {
     "name": "stdout",
     "output_type": "stream",
     "text": [
      "control RefTransControl not found\n"
     ]
    },
    {
     "name": "stderr",
     "output_type": "stream",
     "text": [
      "QLayout: Attempting to add QLayout \"\" to QWidget \"\", which already has a layout\n"
     ]
    }
   ],
   "source": [
    "_average_dic"
   ]
  },
  {
   "cell_type": "code",
   "execution_count": null,
   "metadata": {},
   "outputs": [],
   "source": []
  },
  {
   "cell_type": "code",
   "execution_count": null,
   "metadata": {},
   "outputs": [],
   "source": []
  }
 ],
 "metadata": {
  "kernelspec": {
   "display_name": "venv",
   "language": "python",
   "name": "python3"
  },
  "language_info": {
   "codemirror_mode": {
    "name": "ipython",
    "version": 3
   },
   "file_extension": ".py",
   "mimetype": "text/x-python",
   "name": "python",
   "nbconvert_exporter": "python",
   "pygments_lexer": "ipython3",
   "version": "3.10.12"
  }
 },
 "nbformat": 4,
 "nbformat_minor": 2
}
