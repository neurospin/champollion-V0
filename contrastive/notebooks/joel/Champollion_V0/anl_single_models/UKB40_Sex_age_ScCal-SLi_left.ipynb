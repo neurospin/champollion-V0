{
 "cells": [
  {
   "cell_type": "code",
   "execution_count": 32,
   "metadata": {},
   "outputs": [],
   "source": [
    "import pandas as pd\n",
    "import umap\n",
    "import glob\n",
    "import numpy as np\n",
    "import matplotlib.pyplot as plt\n",
    "\n",
    "\n",
    "import matplotlib.cm as cm\n",
    "\n",
    "from sklearn.neighbors import NearestNeighbors\n",
    "\n",
    "from matplotlib import cm\n",
    "\n",
    "from scipy.ndimage import uniform_filter1d\n",
    "from scipy.spatial.distance import pdist, squareform\n",
    "\n",
    "import seaborn as sns\n",
    "\n",
    "from umap import UMAP\n",
    "\n",
    "import statsmodels.api as sm\n",
    "\n",
    "from sklearn.decomposition import PCA\n",
    "\n"
   ]
  },
  {
   "cell_type": "code",
   "execution_count": 33,
   "metadata": {},
   "outputs": [
    {
     "name": "stdout",
     "output_type": "stream",
     "text": [
      "/neurospin/dico/data/deep_folding/current/models/Champollion_V0_trained_on_UKB40/ScCal-SLi_left/16-53-30_109_0/ukb40_random_epoch80_embeddings/full_embeddings.csv\n"
     ]
    }
   ],
   "source": [
    "path = \"/neurospin/dico/data/deep_folding/current/models/Champollion_V0_trained_on_UKB40/ScCal-SLi_left\"\n",
    "participants_file = \"/neurospin/dico/data/deep_folding/current/datasets/UkBioBank/participants.csv\"\n",
    "participants_hcp_file = \"/neurospin/dico/data/deep_folding/current/datasets/hcp/Handedness/handedness_labels.csv\"\n",
    "lab = \"Sex\"\n",
    "lab2 = \"Age\"\n",
    "model_path = glob.glob(f\"{path}/*\")[0]\n",
    "ukb_emb_file = f\"{model_path}/ukb40_random_epoch80_embeddings/full_embeddings.csv\"\n",
    "hcp_emb_file = f\"{model_path}/hcp_random_epoch80_embeddings/full_embeddings.csv\"\n",
    "print(ukb_emb_file)"
   ]
  },
  {
   "cell_type": "code",
   "execution_count": 34,
   "metadata": {},
   "outputs": [
    {
     "data": {
      "text/html": [
       "<div>\n",
       "<style scoped>\n",
       "    .dataframe tbody tr th:only-of-type {\n",
       "        vertical-align: middle;\n",
       "    }\n",
       "\n",
       "    .dataframe tbody tr th {\n",
       "        vertical-align: top;\n",
       "    }\n",
       "\n",
       "    .dataframe thead th {\n",
       "        text-align: right;\n",
       "    }\n",
       "</style>\n",
       "<table border=\"1\" class=\"dataframe\">\n",
       "  <thead>\n",
       "    <tr style=\"text-align: right;\">\n",
       "      <th></th>\n",
       "      <th>dim1</th>\n",
       "      <th>dim2</th>\n",
       "      <th>dim3</th>\n",
       "      <th>dim4</th>\n",
       "      <th>dim5</th>\n",
       "      <th>dim6</th>\n",
       "      <th>dim7</th>\n",
       "      <th>dim8</th>\n",
       "      <th>dim9</th>\n",
       "      <th>dim10</th>\n",
       "      <th>...</th>\n",
       "      <th>dim247</th>\n",
       "      <th>dim248</th>\n",
       "      <th>dim249</th>\n",
       "      <th>dim250</th>\n",
       "      <th>dim251</th>\n",
       "      <th>dim252</th>\n",
       "      <th>dim253</th>\n",
       "      <th>dim254</th>\n",
       "      <th>dim255</th>\n",
       "      <th>dim256</th>\n",
       "    </tr>\n",
       "    <tr>\n",
       "      <th>ID</th>\n",
       "      <th></th>\n",
       "      <th></th>\n",
       "      <th></th>\n",
       "      <th></th>\n",
       "      <th></th>\n",
       "      <th></th>\n",
       "      <th></th>\n",
       "      <th></th>\n",
       "      <th></th>\n",
       "      <th></th>\n",
       "      <th></th>\n",
       "      <th></th>\n",
       "      <th></th>\n",
       "      <th></th>\n",
       "      <th></th>\n",
       "      <th></th>\n",
       "      <th></th>\n",
       "      <th></th>\n",
       "      <th></th>\n",
       "      <th></th>\n",
       "      <th></th>\n",
       "    </tr>\n",
       "  </thead>\n",
       "  <tbody>\n",
       "    <tr>\n",
       "      <th>100206</th>\n",
       "      <td>-15.000575</td>\n",
       "      <td>-62.166460</td>\n",
       "      <td>29.736368</td>\n",
       "      <td>22.607834</td>\n",
       "      <td>45.507545</td>\n",
       "      <td>-1.476648</td>\n",
       "      <td>19.782427</td>\n",
       "      <td>7.761033</td>\n",
       "      <td>3.540561</td>\n",
       "      <td>214.127090</td>\n",
       "      <td>...</td>\n",
       "      <td>-39.073765</td>\n",
       "      <td>-8.690161</td>\n",
       "      <td>-3.760539</td>\n",
       "      <td>8.571792</td>\n",
       "      <td>-34.734910</td>\n",
       "      <td>17.411710</td>\n",
       "      <td>-0.837889</td>\n",
       "      <td>-32.227980</td>\n",
       "      <td>-13.982692</td>\n",
       "      <td>43.255882</td>\n",
       "    </tr>\n",
       "    <tr>\n",
       "      <th>100307</th>\n",
       "      <td>38.133950</td>\n",
       "      <td>29.692846</td>\n",
       "      <td>-13.202426</td>\n",
       "      <td>-12.050974</td>\n",
       "      <td>0.558025</td>\n",
       "      <td>-41.251476</td>\n",
       "      <td>18.329800</td>\n",
       "      <td>9.063029</td>\n",
       "      <td>22.821547</td>\n",
       "      <td>111.756966</td>\n",
       "      <td>...</td>\n",
       "      <td>16.572655</td>\n",
       "      <td>-10.195665</td>\n",
       "      <td>19.266390</td>\n",
       "      <td>5.615905</td>\n",
       "      <td>38.128790</td>\n",
       "      <td>-56.179585</td>\n",
       "      <td>13.486760</td>\n",
       "      <td>-33.678432</td>\n",
       "      <td>-12.751982</td>\n",
       "      <td>-11.391708</td>\n",
       "    </tr>\n",
       "    <tr>\n",
       "      <th>100408</th>\n",
       "      <td>29.929325</td>\n",
       "      <td>26.549000</td>\n",
       "      <td>-28.364110</td>\n",
       "      <td>3.045201</td>\n",
       "      <td>-29.273104</td>\n",
       "      <td>-10.845860</td>\n",
       "      <td>-10.414412</td>\n",
       "      <td>11.615139</td>\n",
       "      <td>82.261550</td>\n",
       "      <td>154.554570</td>\n",
       "      <td>...</td>\n",
       "      <td>12.212369</td>\n",
       "      <td>-14.894538</td>\n",
       "      <td>-21.422940</td>\n",
       "      <td>-1.532774</td>\n",
       "      <td>17.232023</td>\n",
       "      <td>-46.148304</td>\n",
       "      <td>26.022419</td>\n",
       "      <td>-14.353374</td>\n",
       "      <td>-1.159860</td>\n",
       "      <td>27.315170</td>\n",
       "    </tr>\n",
       "    <tr>\n",
       "      <th>100610</th>\n",
       "      <td>-8.635528</td>\n",
       "      <td>-74.502120</td>\n",
       "      <td>10.416054</td>\n",
       "      <td>16.441833</td>\n",
       "      <td>19.273912</td>\n",
       "      <td>-17.767685</td>\n",
       "      <td>20.952680</td>\n",
       "      <td>-5.822484</td>\n",
       "      <td>-16.184093</td>\n",
       "      <td>148.711870</td>\n",
       "      <td>...</td>\n",
       "      <td>-8.884309</td>\n",
       "      <td>-0.382375</td>\n",
       "      <td>-13.292786</td>\n",
       "      <td>41.595722</td>\n",
       "      <td>-13.063231</td>\n",
       "      <td>-6.817676</td>\n",
       "      <td>-16.095999</td>\n",
       "      <td>-2.987558</td>\n",
       "      <td>-15.837902</td>\n",
       "      <td>37.806290</td>\n",
       "    </tr>\n",
       "    <tr>\n",
       "      <th>101006</th>\n",
       "      <td>12.698967</td>\n",
       "      <td>-2.318839</td>\n",
       "      <td>-20.302055</td>\n",
       "      <td>7.697435</td>\n",
       "      <td>9.166243</td>\n",
       "      <td>-22.116407</td>\n",
       "      <td>-11.920293</td>\n",
       "      <td>6.752745</td>\n",
       "      <td>-13.767253</td>\n",
       "      <td>20.556220</td>\n",
       "      <td>...</td>\n",
       "      <td>-12.765646</td>\n",
       "      <td>43.760574</td>\n",
       "      <td>6.289841</td>\n",
       "      <td>-51.952415</td>\n",
       "      <td>-18.389297</td>\n",
       "      <td>-32.564533</td>\n",
       "      <td>4.120710</td>\n",
       "      <td>-36.116795</td>\n",
       "      <td>17.579845</td>\n",
       "      <td>3.715676</td>\n",
       "    </tr>\n",
       "  </tbody>\n",
       "</table>\n",
       "<p>5 rows × 256 columns</p>\n",
       "</div>"
      ],
      "text/plain": [
       "             dim1       dim2       dim3       dim4       dim5       dim6  \\\n",
       "ID                                                                         \n",
       "100206 -15.000575 -62.166460  29.736368  22.607834  45.507545  -1.476648   \n",
       "100307  38.133950  29.692846 -13.202426 -12.050974   0.558025 -41.251476   \n",
       "100408  29.929325  26.549000 -28.364110   3.045201 -29.273104 -10.845860   \n",
       "100610  -8.635528 -74.502120  10.416054  16.441833  19.273912 -17.767685   \n",
       "101006  12.698967  -2.318839 -20.302055   7.697435   9.166243 -22.116407   \n",
       "\n",
       "             dim7       dim8       dim9       dim10  ...     dim247  \\\n",
       "ID                                                   ...              \n",
       "100206  19.782427   7.761033   3.540561  214.127090  ... -39.073765   \n",
       "100307  18.329800   9.063029  22.821547  111.756966  ...  16.572655   \n",
       "100408 -10.414412  11.615139  82.261550  154.554570  ...  12.212369   \n",
       "100610  20.952680  -5.822484 -16.184093  148.711870  ...  -8.884309   \n",
       "101006 -11.920293   6.752745 -13.767253   20.556220  ... -12.765646   \n",
       "\n",
       "           dim248     dim249     dim250     dim251     dim252     dim253  \\\n",
       "ID                                                                         \n",
       "100206  -8.690161  -3.760539   8.571792 -34.734910  17.411710  -0.837889   \n",
       "100307 -10.195665  19.266390   5.615905  38.128790 -56.179585  13.486760   \n",
       "100408 -14.894538 -21.422940  -1.532774  17.232023 -46.148304  26.022419   \n",
       "100610  -0.382375 -13.292786  41.595722 -13.063231  -6.817676 -16.095999   \n",
       "101006  43.760574   6.289841 -51.952415 -18.389297 -32.564533   4.120710   \n",
       "\n",
       "           dim254     dim255     dim256  \n",
       "ID                                       \n",
       "100206 -32.227980 -13.982692  43.255882  \n",
       "100307 -33.678432 -12.751982 -11.391708  \n",
       "100408 -14.353374  -1.159860  27.315170  \n",
       "100610  -2.987558 -15.837902  37.806290  \n",
       "101006 -36.116795  17.579845   3.715676  \n",
       "\n",
       "[5 rows x 256 columns]"
      ]
     },
     "execution_count": 34,
     "metadata": {},
     "output_type": "execute_result"
    }
   ],
   "source": [
    "hcp_emb = pd.read_csv(hcp_emb_file, index_col=0)\n",
    "hcp_emb.head()"
   ]
  },
  {
   "cell_type": "code",
   "execution_count": 35,
   "metadata": {},
   "outputs": [
    {
     "data": {
      "text/html": [
       "<div>\n",
       "<style scoped>\n",
       "    .dataframe tbody tr th:only-of-type {\n",
       "        vertical-align: middle;\n",
       "    }\n",
       "\n",
       "    .dataframe tbody tr th {\n",
       "        vertical-align: top;\n",
       "    }\n",
       "\n",
       "    .dataframe thead th {\n",
       "        text-align: right;\n",
       "    }\n",
       "</style>\n",
       "<table border=\"1\" class=\"dataframe\">\n",
       "  <thead>\n",
       "    <tr style=\"text-align: right;\">\n",
       "      <th></th>\n",
       "      <th>Sex</th>\n",
       "      <th>Age</th>\n",
       "    </tr>\n",
       "    <tr>\n",
       "      <th>Subject</th>\n",
       "      <th></th>\n",
       "      <th></th>\n",
       "    </tr>\n",
       "  </thead>\n",
       "  <tbody>\n",
       "    <tr>\n",
       "      <th>100004</th>\n",
       "      <td>1</td>\n",
       "      <td>24</td>\n",
       "    </tr>\n",
       "    <tr>\n",
       "      <th>100206</th>\n",
       "      <td>1</td>\n",
       "      <td>27</td>\n",
       "    </tr>\n",
       "    <tr>\n",
       "      <th>100307</th>\n",
       "      <td>0</td>\n",
       "      <td>27</td>\n",
       "    </tr>\n",
       "    <tr>\n",
       "      <th>100408</th>\n",
       "      <td>1</td>\n",
       "      <td>33</td>\n",
       "    </tr>\n",
       "    <tr>\n",
       "      <th>100610</th>\n",
       "      <td>1</td>\n",
       "      <td>27</td>\n",
       "    </tr>\n",
       "  </tbody>\n",
       "</table>\n",
       "</div>"
      ],
      "text/plain": [
       "         Sex  Age\n",
       "Subject          \n",
       "100004     1   24\n",
       "100206     1   27\n",
       "100307     0   27\n",
       "100408     1   33\n",
       "100610     1   27"
      ]
     },
     "execution_count": 35,
     "metadata": {},
     "output_type": "execute_result"
    }
   ],
   "source": [
    "participants_hcp = pd.read_csv(participants_hcp_file, index_col=0)\n",
    "participants_hcp = participants_hcp[[\"Gender\", \"Age\"]].dropna()\n",
    "participants_hcp[\"Sex\"] = (participants_hcp[\"Gender\"]==\"M\").astype(int)\n",
    "participants_hcp = participants_hcp[[lab, lab2]]\n",
    "participants_hcp.head()"
   ]
  },
  {
   "cell_type": "code",
   "execution_count": 55,
   "metadata": {},
   "outputs": [],
   "source": [
    "merged_hcp = participants_hcp[[lab, lab2]].merge(hcp_emb, left_index=True, right_index=True)\n",
    "embeddings_hcp = merged_hcp.iloc[:,2:]\n",
    "label_hcp = merged.iloc[:,0:2]"
   ]
  },
  {
   "cell_type": "code",
   "execution_count": 37,
   "metadata": {},
   "outputs": [
    {
     "data": {
      "text/html": [
       "<div>\n",
       "<style scoped>\n",
       "    .dataframe tbody tr th:only-of-type {\n",
       "        vertical-align: middle;\n",
       "    }\n",
       "\n",
       "    .dataframe tbody tr th {\n",
       "        vertical-align: top;\n",
       "    }\n",
       "\n",
       "    .dataframe thead th {\n",
       "        text-align: right;\n",
       "    }\n",
       "</style>\n",
       "<table border=\"1\" class=\"dataframe\">\n",
       "  <thead>\n",
       "    <tr style=\"text-align: right;\">\n",
       "      <th></th>\n",
       "      <th>dim1</th>\n",
       "      <th>dim2</th>\n",
       "      <th>dim3</th>\n",
       "      <th>dim4</th>\n",
       "      <th>dim5</th>\n",
       "      <th>dim6</th>\n",
       "      <th>dim7</th>\n",
       "      <th>dim8</th>\n",
       "      <th>dim9</th>\n",
       "      <th>dim10</th>\n",
       "      <th>...</th>\n",
       "      <th>dim247</th>\n",
       "      <th>dim248</th>\n",
       "      <th>dim249</th>\n",
       "      <th>dim250</th>\n",
       "      <th>dim251</th>\n",
       "      <th>dim252</th>\n",
       "      <th>dim253</th>\n",
       "      <th>dim254</th>\n",
       "      <th>dim255</th>\n",
       "      <th>dim256</th>\n",
       "    </tr>\n",
       "    <tr>\n",
       "      <th>ID</th>\n",
       "      <th></th>\n",
       "      <th></th>\n",
       "      <th></th>\n",
       "      <th></th>\n",
       "      <th></th>\n",
       "      <th></th>\n",
       "      <th></th>\n",
       "      <th></th>\n",
       "      <th></th>\n",
       "      <th></th>\n",
       "      <th></th>\n",
       "      <th></th>\n",
       "      <th></th>\n",
       "      <th></th>\n",
       "      <th></th>\n",
       "      <th></th>\n",
       "      <th></th>\n",
       "      <th></th>\n",
       "      <th></th>\n",
       "      <th></th>\n",
       "      <th></th>\n",
       "    </tr>\n",
       "  </thead>\n",
       "  <tbody>\n",
       "    <tr>\n",
       "      <th>sub-1000021</th>\n",
       "      <td>-15.367093</td>\n",
       "      <td>-54.475590</td>\n",
       "      <td>6.782015</td>\n",
       "      <td>8.191804</td>\n",
       "      <td>26.691270</td>\n",
       "      <td>20.711380</td>\n",
       "      <td>23.623600</td>\n",
       "      <td>22.734543</td>\n",
       "      <td>-10.817402</td>\n",
       "      <td>147.898440</td>\n",
       "      <td>...</td>\n",
       "      <td>-4.980383</td>\n",
       "      <td>-1.717465</td>\n",
       "      <td>-14.336508</td>\n",
       "      <td>14.927216</td>\n",
       "      <td>-43.889057</td>\n",
       "      <td>-12.516823</td>\n",
       "      <td>-23.511475</td>\n",
       "      <td>7.852328</td>\n",
       "      <td>-6.545698</td>\n",
       "      <td>30.451690</td>\n",
       "    </tr>\n",
       "    <tr>\n",
       "      <th>sub-1000325</th>\n",
       "      <td>-24.313442</td>\n",
       "      <td>36.994694</td>\n",
       "      <td>1.987335</td>\n",
       "      <td>-5.121556</td>\n",
       "      <td>21.408028</td>\n",
       "      <td>9.575725</td>\n",
       "      <td>23.456377</td>\n",
       "      <td>24.389938</td>\n",
       "      <td>57.825794</td>\n",
       "      <td>55.823856</td>\n",
       "      <td>...</td>\n",
       "      <td>-11.931169</td>\n",
       "      <td>3.731789</td>\n",
       "      <td>-70.001250</td>\n",
       "      <td>5.637785</td>\n",
       "      <td>-12.156837</td>\n",
       "      <td>-9.736513</td>\n",
       "      <td>30.309338</td>\n",
       "      <td>-3.817301</td>\n",
       "      <td>27.589767</td>\n",
       "      <td>-7.904273</td>\n",
       "    </tr>\n",
       "    <tr>\n",
       "      <th>sub-1000458</th>\n",
       "      <td>36.008390</td>\n",
       "      <td>9.418751</td>\n",
       "      <td>4.854328</td>\n",
       "      <td>-1.132555</td>\n",
       "      <td>-26.784834</td>\n",
       "      <td>-25.493822</td>\n",
       "      <td>-29.259779</td>\n",
       "      <td>-17.924227</td>\n",
       "      <td>-25.715591</td>\n",
       "      <td>150.148060</td>\n",
       "      <td>...</td>\n",
       "      <td>8.325365</td>\n",
       "      <td>23.520815</td>\n",
       "      <td>31.705175</td>\n",
       "      <td>-40.990170</td>\n",
       "      <td>29.894045</td>\n",
       "      <td>-69.058530</td>\n",
       "      <td>-2.516210</td>\n",
       "      <td>-33.535908</td>\n",
       "      <td>-14.245390</td>\n",
       "      <td>-22.925007</td>\n",
       "    </tr>\n",
       "    <tr>\n",
       "      <th>sub-1000575</th>\n",
       "      <td>11.088460</td>\n",
       "      <td>17.987923</td>\n",
       "      <td>12.251865</td>\n",
       "      <td>-9.571051</td>\n",
       "      <td>-16.522860</td>\n",
       "      <td>-36.609615</td>\n",
       "      <td>-23.403433</td>\n",
       "      <td>-15.293057</td>\n",
       "      <td>14.112775</td>\n",
       "      <td>134.250870</td>\n",
       "      <td>...</td>\n",
       "      <td>-15.211358</td>\n",
       "      <td>30.226225</td>\n",
       "      <td>-21.379866</td>\n",
       "      <td>-41.898144</td>\n",
       "      <td>1.429016</td>\n",
       "      <td>-32.840954</td>\n",
       "      <td>13.850154</td>\n",
       "      <td>-35.073093</td>\n",
       "      <td>-21.459652</td>\n",
       "      <td>-39.967760</td>\n",
       "    </tr>\n",
       "    <tr>\n",
       "      <th>sub-1000606</th>\n",
       "      <td>32.891000</td>\n",
       "      <td>4.847817</td>\n",
       "      <td>-0.473272</td>\n",
       "      <td>-2.893715</td>\n",
       "      <td>-23.048790</td>\n",
       "      <td>-58.843483</td>\n",
       "      <td>-13.493261</td>\n",
       "      <td>-23.672676</td>\n",
       "      <td>31.982065</td>\n",
       "      <td>146.448070</td>\n",
       "      <td>...</td>\n",
       "      <td>-0.952231</td>\n",
       "      <td>7.069845</td>\n",
       "      <td>-7.781208</td>\n",
       "      <td>-1.642891</td>\n",
       "      <td>37.383590</td>\n",
       "      <td>-56.758500</td>\n",
       "      <td>22.714890</td>\n",
       "      <td>-23.311699</td>\n",
       "      <td>-26.262796</td>\n",
       "      <td>-16.279040</td>\n",
       "    </tr>\n",
       "  </tbody>\n",
       "</table>\n",
       "<p>5 rows × 256 columns</p>\n",
       "</div>"
      ],
      "text/plain": [
       "                  dim1       dim2       dim3      dim4       dim5       dim6  \\\n",
       "ID                                                                             \n",
       "sub-1000021 -15.367093 -54.475590   6.782015  8.191804  26.691270  20.711380   \n",
       "sub-1000325 -24.313442  36.994694   1.987335 -5.121556  21.408028   9.575725   \n",
       "sub-1000458  36.008390   9.418751   4.854328 -1.132555 -26.784834 -25.493822   \n",
       "sub-1000575  11.088460  17.987923  12.251865 -9.571051 -16.522860 -36.609615   \n",
       "sub-1000606  32.891000   4.847817  -0.473272 -2.893715 -23.048790 -58.843483   \n",
       "\n",
       "                  dim7       dim8       dim9       dim10  ...     dim247  \\\n",
       "ID                                                        ...              \n",
       "sub-1000021  23.623600  22.734543 -10.817402  147.898440  ...  -4.980383   \n",
       "sub-1000325  23.456377  24.389938  57.825794   55.823856  ... -11.931169   \n",
       "sub-1000458 -29.259779 -17.924227 -25.715591  150.148060  ...   8.325365   \n",
       "sub-1000575 -23.403433 -15.293057  14.112775  134.250870  ... -15.211358   \n",
       "sub-1000606 -13.493261 -23.672676  31.982065  146.448070  ...  -0.952231   \n",
       "\n",
       "                dim248     dim249     dim250     dim251     dim252     dim253  \\\n",
       "ID                                                                              \n",
       "sub-1000021  -1.717465 -14.336508  14.927216 -43.889057 -12.516823 -23.511475   \n",
       "sub-1000325   3.731789 -70.001250   5.637785 -12.156837  -9.736513  30.309338   \n",
       "sub-1000458  23.520815  31.705175 -40.990170  29.894045 -69.058530  -2.516210   \n",
       "sub-1000575  30.226225 -21.379866 -41.898144   1.429016 -32.840954  13.850154   \n",
       "sub-1000606   7.069845  -7.781208  -1.642891  37.383590 -56.758500  22.714890   \n",
       "\n",
       "                dim254     dim255     dim256  \n",
       "ID                                            \n",
       "sub-1000021   7.852328  -6.545698  30.451690  \n",
       "sub-1000325  -3.817301  27.589767  -7.904273  \n",
       "sub-1000458 -33.535908 -14.245390 -22.925007  \n",
       "sub-1000575 -35.073093 -21.459652 -39.967760  \n",
       "sub-1000606 -23.311699 -26.262796 -16.279040  \n",
       "\n",
       "[5 rows x 256 columns]"
      ]
     },
     "execution_count": 37,
     "metadata": {},
     "output_type": "execute_result"
    }
   ],
   "source": [
    "ukb_emb = pd.read_csv(ukb_emb_file, index_col=0)\n",
    "ukb_emb.head()"
   ]
  },
  {
   "cell_type": "code",
   "execution_count": 38,
   "metadata": {},
   "outputs": [
    {
     "data": {
      "text/html": [
       "<div>\n",
       "<style scoped>\n",
       "    .dataframe tbody tr th:only-of-type {\n",
       "        vertical-align: middle;\n",
       "    }\n",
       "\n",
       "    .dataframe tbody tr th {\n",
       "        vertical-align: top;\n",
       "    }\n",
       "\n",
       "    .dataframe thead th {\n",
       "        text-align: right;\n",
       "    }\n",
       "</style>\n",
       "<table border=\"1\" class=\"dataframe\">\n",
       "  <thead>\n",
       "    <tr style=\"text-align: right;\">\n",
       "      <th></th>\n",
       "      <th>Sex</th>\n",
       "      <th>Age</th>\n",
       "    </tr>\n",
       "    <tr>\n",
       "      <th>participant_id</th>\n",
       "      <th></th>\n",
       "      <th></th>\n",
       "    </tr>\n",
       "  </thead>\n",
       "  <tbody>\n",
       "    <tr>\n",
       "      <th>sub-3411469</th>\n",
       "      <td>1</td>\n",
       "      <td>65.0</td>\n",
       "    </tr>\n",
       "    <tr>\n",
       "      <th>sub-2290292</th>\n",
       "      <td>0</td>\n",
       "      <td>69.0</td>\n",
       "    </tr>\n",
       "    <tr>\n",
       "      <th>sub-3842391</th>\n",
       "      <td>0</td>\n",
       "      <td>70.0</td>\n",
       "    </tr>\n",
       "    <tr>\n",
       "      <th>sub-2758537</th>\n",
       "      <td>1</td>\n",
       "      <td>49.0</td>\n",
       "    </tr>\n",
       "    <tr>\n",
       "      <th>sub-4334619</th>\n",
       "      <td>1</td>\n",
       "      <td>70.0</td>\n",
       "    </tr>\n",
       "  </tbody>\n",
       "</table>\n",
       "</div>"
      ],
      "text/plain": [
       "                Sex   Age\n",
       "participant_id           \n",
       "sub-3411469       1  65.0\n",
       "sub-2290292       0  69.0\n",
       "sub-3842391       0  70.0\n",
       "sub-2758537       1  49.0\n",
       "sub-4334619       1  70.0"
      ]
     },
     "execution_count": 38,
     "metadata": {},
     "output_type": "execute_result"
    }
   ],
   "source": [
    "participants = pd.read_csv(participants_file, index_col=0)\n",
    "participants = participants[[lab, lab2]].dropna()\n",
    "participants.head()"
   ]
  },
  {
   "cell_type": "code",
   "execution_count": 39,
   "metadata": {},
   "outputs": [
    {
     "data": {
      "text/plain": [
       "array([[<AxesSubplot:title={'center':'Sex'}>,\n",
       "        <AxesSubplot:title={'center':'Age'}>]], dtype=object)"
      ]
     },
     "execution_count": 39,
     "metadata": {},
     "output_type": "execute_result"
    },
    {
     "data": {
      "image/png": "[encoded data removed]",
      "text/plain": [
       "<Figure size 432x288 with 2 Axes>"
      ]
     },
     "metadata": {
      "needs_background": "light"
     },
     "output_type": "display_data"
    }
   ],
   "source": [
    "participants.hist()"
   ]
  },
  {
   "cell_type": "code",
   "execution_count": 40,
   "metadata": {},
   "outputs": [],
   "source": [
    "merged = participants[[lab, lab2]].merge(ukb_emb, left_index=True, right_index=True)\n",
    "# UKB latent space analysis"
   ]
  },
  {
   "cell_type": "code",
   "execution_count": 41,
   "metadata": {},
   "outputs": [
    {
     "name": "stdout",
     "output_type": "stream",
     "text": [
      "             Sex   Age\n",
      "sub-3411469    1  65.0\n",
      "sub-2290292    0  69.0\n",
      "sub-3842391    0  70.0\n",
      "sub-2758537    1  49.0\n",
      "sub-4334619    1  70.0\n",
      "             Sex   Age\n",
      "sub-3411469  1.0  66.0\n",
      "sub-2290292  0.0  64.0\n",
      "sub-3842391  1.0  75.0\n",
      "sub-2758537  0.0  71.0\n",
      "sub-4334619  1.0  64.0\n"
     ]
    }
   ],
   "source": [
    "embeddings = merged.iloc[:,2:]\n",
    "label = merged.iloc[:,0:2]\n",
    "label_random = label.copy()\n",
    "label_random[:] = label_random.sample(frac=1).values\n",
    "# print(embeddings.head())\n",
    "print(label.head())\n",
    "print(label_random.head())"
   ]
  },
  {
   "cell_type": "code",
   "execution_count": 42,
   "metadata": {},
   "outputs": [
    {
     "data": {
      "text/plain": [
       "(37715, 2000)"
      ]
     },
     "execution_count": 42,
     "metadata": {},
     "output_type": "execute_result"
    }
   ],
   "source": [
    "# Construct nearest_neighbor matrix\n",
    "nbrs = NearestNeighbors(n_neighbors=2000, algorithm='brute').fit(embeddings)\n",
    "distances, indices = nbrs.kneighbors(embeddings)\n",
    "indices.shape"
   ]
  },
  {
   "cell_type": "code",
   "execution_count": 59,
   "metadata": {},
   "outputs": [
    {
     "data": {
      "text/plain": [
       "array([[22752,  3480, 12131, ..., 27120, 12281,  6238],\n",
       "       [23676,  1600,  3761, ..., 33980, 31369,  5601],\n",
       "       [12496,  9272, 23158, ...,  9273, 15049, 16922],\n",
       "       ...,\n",
       "       [ 5671,  4875, 25058, ..., 34796,  3177, 10851],\n",
       "       [37645,  7541,  9604, ...,  1288, 24644,  5580],\n",
       "       [ 9908, 13258, 24597, ...,  5018, 17445, 34026]])"
      ]
     },
     "execution_count": 59,
     "metadata": {},
     "output_type": "execute_result"
    }
   ],
   "source": [
    "nbrs.kneighbors(embeddings_hcp)[1]"
   ]
  },
  {
   "cell_type": "code",
   "execution_count": 43,
   "metadata": {},
   "outputs": [],
   "source": [
    "def construct_average_nearest_neighbors(indices=indices, label):\n",
    "    # Takes list of incides whose label is 1\n",
    "    label_red = label.reset_index().iloc[:,[1]]\n",
    "    label_1 = label_red[label_red.iloc[:,0]==1].index.to_list()\n",
    "    \n",
    "    # In the indices matrix, put value of label corresponding to index\n",
    "    neighbors = indices[:,1:]\n",
    "    labels1 = np.in1d(neighbors, label_1)\n",
    "    labels1 = labels1.reshape(neighbors.shape).astype(int)\n",
    "    \n",
    "    # Makes moving average along nearest neighbor\n",
    "    labels1_cum = np.cumsum(labels1, axis=1)\n",
    "    means_npy = np.zeros(labels1_cum.shape)\n",
    "    for idx in range(len(labels1)):\n",
    "        means_npy[idx,:] = labels1_cum[idx,:]/(np.arange(1, labels1_cum.shape[1]+1, 1).reshape(1,-1))\n",
    "        \n",
    "    return labels1, means_npy"
   ]
  },
  {
   "cell_type": "code",
   "execution_count": 44,
   "metadata": {},
   "outputs": [],
   "source": [
    "def construct_average_nearest_neighbors_continuous(indices=indices, label):\n",
    "    label_red = label.reset_index().iloc[:,[1]].values\n",
    "\n",
    "    # In the indices matrix, put value of label corresponding to index\n",
    "    neighbors = indices[:,1:]\n",
    "    labels1 = np.zeros(neighbors.shape)\n",
    "    for idx in range(len(neighbors)):\n",
    "        for j in range(neighbors.shape[1]):\n",
    "            labels1[idx, j] = label_red[neighbors[idx, j]]\n",
    "    \n",
    "    # Makes moving average along nearest neighbor\n",
    "    labels1_cum = np.cumsum(labels1, axis=1)\n",
    "    \n",
    "    means_npy = np.zeros(labels1_cum.shape)\n",
    "    for idx in range(len(labels1)):\n",
    "        means_npy[idx,:] = labels1_cum[idx,:]/(np.arange(1, labels1_cum.shape[1]+1, 1).reshape(1,-1))\n",
    "        \n",
    "    return labels1, means_npy"
   ]
  },
  {
   "cell_type": "code",
   "execution_count": 45,
   "metadata": {},
   "outputs": [],
   "source": [
    "def construct_average_distance_nearest_neighbors():\n",
    "\n",
    "    # Makes moving average along nearest neighbor\n",
    "    distances_cum = np.cumsum(distances[:,1:], axis=1)\n",
    "    means_distance = np.zeros(distances_cum.shape)\n",
    "    for idx in range(len(distances)):\n",
    "        means_distance[idx,:] = distances_cum[idx,:]/(np.arange(1, distances_cum.shape[1]+1, 1).reshape(1,-1))\n",
    "        \n",
    "    return means_distance"
   ]
  },
  {
   "cell_type": "code",
   "execution_count": 46,
   "metadata": {},
   "outputs": [],
   "source": [
    "values_npy, means_npy = construct_average_nearest_neighbors(label.iloc[:,[0]])"
   ]
  },
  {
   "cell_type": "code",
   "execution_count": 47,
   "metadata": {},
   "outputs": [
    {
     "name": "stderr",
     "output_type": "stream",
     "text": [
      "/tmp/ipykernel_84889/1841607536.py:9: DeprecationWarning: Conversion of an array with ndim > 0 to a scalar is deprecated, and will error in future. Ensure you extract a single element from your array before performing this operation. (Deprecated NumPy 1.25.)\n",
      "  labels1[idx, j] = label_red[neighbors[idx, j]]\n"
     ]
    }
   ],
   "source": [
    "values2_npy, means2_npy = construct_average_nearest_neighbors_continuous(label.iloc[:,[1]])"
   ]
  },
  {
   "cell_type": "code",
   "execution_count": 48,
   "metadata": {},
   "outputs": [],
   "source": [
    "val_random_npy, random_npy = construct_average_nearest_neighbors(label_random.iloc[:,[0]])"
   ]
  },
  {
   "cell_type": "code",
   "execution_count": 49,
   "metadata": {},
   "outputs": [
    {
     "name": "stderr",
     "output_type": "stream",
     "text": [
      "/tmp/ipykernel_84889/1841607536.py:9: DeprecationWarning: Conversion of an array with ndim > 0 to a scalar is deprecated, and will error in future. Ensure you extract a single element from your array before performing this operation. (Deprecated NumPy 1.25.)\n",
      "  labels1[idx, j] = label_red[neighbors[idx, j]]\n"
     ]
    }
   ],
   "source": [
    "val2_random_npy, random2_npy = construct_average_nearest_neighbors_continuous(label_random.iloc[:,[1]])"
   ]
  },
  {
   "cell_type": "code",
   "execution_count": 50,
   "metadata": {},
   "outputs": [
    {
     "data": {
      "image/png": "[encoded data removed]",
      "text/plain": [
       "<Figure size 432x288 with 1 Axes>"
      ]
     },
     "metadata": {
      "needs_background": "light"
     },
     "output_type": "display_data"
    }
   ],
   "source": [
    "for idx in range(1,35000,500):\n",
    "    plt.plot(means_npy[idx, 20:], color='b')\n",
    "for idx in range(1,35000,500):\n",
    "    plt.plot(random_npy[idx, 20:], color='black')\n",
    "plt.axhline(y=np.mean(label[lab].values), color='r', linestyle='-')\n",
    "plt.axhline(y=0, color='black', linestyle='-')\n",
    "plt.axhline(y=1, color='black', linestyle='-')\n",
    "plt.show()"
   ]
  },
  {
   "cell_type": "code",
   "execution_count": 51,
   "metadata": {},
   "outputs": [
    {
     "data": {
      "image/png": "[encoded data removed]",
      "text/plain": [
       "<Figure size 432x288 with 1 Axes>"
      ]
     },
     "metadata": {
      "needs_background": "light"
     },
     "output_type": "display_data"
    }
   ],
   "source": [
    "for idx in range(1,35000,50):\n",
    "    plt.plot(means2_npy[idx, 20:], color='b')\n",
    "for idx in range(1,35000,50):\n",
    "    plt.plot(random2_npy[idx, 20:], color='black')\n",
    "plt.axhline(y=np.mean(label[lab2].values), color='r', linestyle='-')\n",
    "plt.show()"
   ]
  },
  {
   "cell_type": "code",
   "execution_count": 52,
   "metadata": {},
   "outputs": [
    {
     "data": {
      "image/png": "[encoded data removed]",
      "text/plain": [
       "<Figure size 432x288 with 1 Axes>"
      ]
     },
     "metadata": {
      "needs_background": "light"
     },
     "output_type": "display_data"
    }
   ],
   "source": [
    "nb_neighbors=1000\n",
    "plt.hist(means_npy[:, nb_neighbors], bins=20)\n",
    "plt.hist(random_npy[:, nb_neighbors], bins=20, alpha=0.7)\n",
    "plt.show()"
   ]
  },
  {
   "cell_type": "code",
   "execution_count": 53,
   "metadata": {},
   "outputs": [
    {
     "data": {
      "image/png": "[encoded data removed]",
      "text/plain": [
       "<Figure size 432x288 with 1 Axes>"
      ]
     },
     "metadata": {
      "needs_background": "light"
     },
     "output_type": "display_data"
    }
   ],
   "source": [
    "nb_neighbors=1000\n",
    "plt.hist(means2_npy[:, nb_neighbors], bins=20)\n",
    "plt.hist(random2_npy[:, nb_neighbors], bins=20, alpha=0.7)\n",
    "plt.show()"
   ]
  },
  {
   "cell_type": "code",
   "execution_count": 54,
   "metadata": {},
   "outputs": [
    {
     "data": {
      "text/plain": [
       "<matplotlib.collections.PathCollection at 0x79633ffde140>"
      ]
     },
     "execution_count": 54,
     "metadata": {},
     "output_type": "execute_result"
    },
    {
     "data": {
      "image/png": "[encoded data removed]",
      "text/plain": [
       "<Figure size 432x288 with 1 Axes>"
      ]
     },
     "metadata": {
      "needs_background": "light"
     },
     "output_type": "display_data"
    }
   ],
   "source": [
    "nb_neighbors=1000\n",
    "plt.scatter(means_npy[:, nb_neighbors], means2_npy[:, nb_neighbors], s=1)\n",
    "plt.scatter(random_npy[:, nb_neighbors], random2_npy[:, nb_neighbors], s=1, c='orange')"
   ]
  },
  {
   "cell_type": "code",
   "execution_count": null,
   "metadata": {},
   "outputs": [],
   "source": []
  },
  {
   "cell_type": "code",
   "execution_count": null,
   "metadata": {},
   "outputs": [],
   "source": []
  }
 ],
 "metadata": {
  "kernelspec": {
   "display_name": "venv",
   "language": "python",
   "name": "python3"
  },
  "language_info": {
   "codemirror_mode": {
    "name": "ipython",
    "version": 3
   },
   "file_extension": ".py",
   "mimetype": "text/x-python",
   "name": "python",
   "nbconvert_exporter": "python",
   "pygments_lexer": "ipython3",
   "version": "3.10.12"
  }
 },
 "nbformat": 4,
 "nbformat_minor": 2
}
