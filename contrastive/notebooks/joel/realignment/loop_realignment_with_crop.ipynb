{
 "cells": [
  {
   "cell_type": "code",
   "execution_count": null,
   "metadata": {},
   "outputs": [],
   "source": [
    "import json\n",
    "import numpy as np\n",
    "import os\n",
    "import glob\n",
    "from soma import aims\n",
    "\n",
    "from sulci.registration.spam import spam_register\n",
    "\n",
    "import anatomist.api as ana\n",
    "from soma.qt_gui.qtThread import QtThreadCall\n",
    "from soma.qt_gui.qt_backend import Qt\n",
    "\n",
    "from soma.aimsalgo import MorphoGreyLevel_S16\n",
    "\n",
    "# Global static variables\n",
    "_AIMS_BINARY_ONE = 32767\n",
    "_dilation = 1\n",
    "_threshold = 2\n",
    "\n",
    "# launching anatomist\n",
    "a = ana.Anatomist()"
   ]
  },
  {
   "cell_type": "code",
   "execution_count": null,
   "metadata": {},
   "outputs": [],
   "source": [
    "def dilate(mask, radius=_dilation):\n",
    "    \"\"\"Makes a dilation radius _dilation, in mm\n",
    "    \"\"\"\n",
    "    arr = mask.np\n",
    "    # Binarization of mask\n",
    "    arr[arr < 1] = 0\n",
    "    arr[arr >= 1] = _AIMS_BINARY_ONE\n",
    "    # Dilates initial volume of 10 mm\n",
    "    morpho = MorphoGreyLevel_S16()\n",
    "    dilate = morpho.doDilation(mask, radius)\n",
    "    arr_dilate = dilate.np\n",
    "    arr_dilate[arr_dilate >= 1] = 1\n",
    "    return dilate"
   ]
  },
  {
   "cell_type": "code",
   "execution_count": null,
   "metadata": {},
   "outputs": [],
   "source": [
    "spam_file = '/neurospin/dico/data/deep_folding/current/mask/2mm/regions/L/Sc.Cal.-S.Li._left.nii.gz'\n",
    "skel_path = '/neurospin/dico/data/deep_folding/current/datasets/pclean/binarized_skeletons/L'\n",
    "skel_files = glob.glob(f'{skel_path}/*.nii.gz')\n",
    "skel_files"
   ]
  },
  {
   "cell_type": "code",
   "execution_count": null,
   "metadata": {},
   "outputs": [],
   "source": [
    "mask_result = aims.read(spam_file)\n",
    "# Makes binarization and dilation on spam\n",
    "mask_result[mask_result.np <= _threshold] = 0\n",
    "mask_result.np[:] = dilate(mask_result).np"
   ]
  },
  {
   "cell_type": "code",
   "execution_count": null,
   "metadata": {},
   "outputs": [],
   "source": [
    "def realign(skel_f):\n",
    "    \"\"\"Realigns skeleton mask to spam\n",
    "    \n",
    "    skel_f is a file name of skeleton file\"\"\"\n",
    "    \n",
    "    # Reads spam and skeleton files\n",
    "\n",
    "    skel_data = aims.read(skel_f)\n",
    "    skel_data.np[:] = (skel_data.np > 0).astype(np.int16)\n",
    "\n",
    "    # Masks skeleton data with dilated spam\n",
    "    skel_data.np[mask_result.np <= 0] = 0\n",
    "    aims.write(skel_data, \"/tmp/skel_before.nii.gz\")\n",
    "    \n",
    "    # Reads initial spam volume\n",
    "    spam_vol = aims.read(spam_file, dtype=\"Volume_FLOAT\")\n",
    "    spam_vol.np[:] = spam_vol.np\n",
    "    \n",
    "    # Makes realignment\n",
    "    out_tr = spam_register(spam_vol,\n",
    "                        skel_data,\n",
    "                        do_mask=False,\n",
    "                        R_angle_var=np.pi / 128,\n",
    "                        t_var=5.,\n",
    "                        verbose=False,\n",
    "                        in_log=False,\n",
    "                        calibrate_distrib=15)\n",
    "    # out_tr.setTranslation((10, -5, 0))\n",
    "    aims.write(out_tr, '/tmp/transform.trm')\n",
    "    print(out_tr.np)\n",
    "    \n",
    "    # Applies the realignment\n",
    "    os.system(f\"AimsApplyTransform -i /tmp/skel_before.nii.gz -o /tmp/skel_realigned.nii.gz -I /tmp/transform.trm\")\n",
    "    \n",
    "    # loads realigned file:\n",
    "    after = aims.read(\"/tmp/skel_realigned.nii.gz\")\n",
    "    \n",
    "    return after"
   ]
  },
  {
   "cell_type": "code",
   "execution_count": null,
   "metadata": {},
   "outputs": [],
   "source": [
    "mask_result"
   ]
  },
  {
   "cell_type": "code",
   "execution_count": null,
   "metadata": {},
   "outputs": [],
   "source": [
    "after_all = aims.Volume(mask_result.getSize(), 'S16')\n",
    "after_all.copyHeaderFrom(mask_result.header())\n",
    "list_after = []\n",
    "for skel_f in skel_files:\n",
    "    after = aims.Volume(mask_result.getSize(), 'S16')\n",
    "    after.copyHeaderFrom(mask_result.header())\n",
    "    after += realign(skel_f)\n",
    "    after_all += after\n",
    "    list_after.append(after)"
   ]
  },
  {
   "cell_type": "code",
   "execution_count": null,
   "metadata": {},
   "outputs": [],
   "source": [
    "np.unique(after_all.np)"
   ]
  },
  {
   "cell_type": "code",
   "execution_count": null,
   "metadata": {},
   "outputs": [],
   "source": [
    "# Visualization\n",
    "spam = a.loadObject(spam_file)\n",
    "spam.setPalette(\"Blues\")\n",
    "spam_after = a.toAObject(after_all)\n",
    "spam_after.setPalette(\"Reds\")\n",
    "w = a.createWindow('Sagittal')\n",
    "w.addObjects(spam)\n",
    "w.addObjects(spam_after)"
   ]
  },
  {
   "cell_type": "code",
   "execution_count": null,
   "metadata": {},
   "outputs": [],
   "source": [
    "# spam = a.loadObject(spam_file)\n",
    "# spam.setPalette(\"Blues\")\n",
    "# list_after_a = [a.toAObject(after) for after in list_after]\n",
    "# for after in list_after_a:\n",
    "#     after.setPalette(\"RED-lfusion\")\n",
    "# w = a.createWindow('Sagittal')\n",
    "# w.addObjects(list_after_a)\n",
    "# w.addObjects(spam)"
   ]
  },
  {
   "cell_type": "code",
   "execution_count": null,
   "metadata": {},
   "outputs": [],
   "source": []
  }
 ],
 "metadata": {
  "kernelspec": {
   "display_name": "Python 3 (ipykernel)",
   "language": "python",
   "name": "python3"
  },
  "language_info": {
   "codemirror_mode": {
    "name": "ipython",
    "version": 3
   },
   "file_extension": ".py",
   "mimetype": "text/x-python",
   "name": "python",
   "nbconvert_exporter": "python",
   "pygments_lexer": "ipython3",
   "version": "3.10.12"
  }
 },
 "nbformat": 4,
 "nbformat_minor": 2
}
