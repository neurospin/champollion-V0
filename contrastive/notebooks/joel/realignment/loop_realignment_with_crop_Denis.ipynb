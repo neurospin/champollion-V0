{
 "cells": [
  {
   "cell_type": "code",
   "execution_count": 292,
   "metadata": {},
   "outputs": [],
   "source": [
    "import json\n",
    "import numpy as np\n",
    "import os\n",
    "import subprocess\n",
    "import glob\n",
    "from soma import aims\n",
    "\n",
    "from sulci.registration.spam import spam_register\n",
    "\n",
    "import anatomist.api as ana\n",
    "from soma.qt_gui.qtThread import QtThreadCall\n",
    "from soma.qt_gui.qt_backend import Qt\n",
    "\n",
    "from soma.aimsalgo import MorphoGreyLevel_S16\n",
    "\n",
    "# Global static variables\n",
    "_AIMS_BINARY_ONE = 32767\n",
    "_dilation = 0\n",
    "_threshold = 3\n",
    "_dilation_final = 0\n",
    "_threshold_final = 3\n",
    "\n",
    "# launching anatomist\n",
    "a = ana.Anatomist()"
   ]
  },
  {
   "cell_type": "code",
   "execution_count": 293,
   "metadata": {},
   "outputs": [],
   "source": [
    "def dilate(mask, radius=_dilation):\n",
    "    \"\"\"Makes a dilation radius _dilation, in mm\n",
    "    \"\"\"\n",
    "    arr = mask.np\n",
    "    # Binarization of mask\n",
    "    arr[arr < 1] = 0\n",
    "    if radius > 0:\n",
    "        arr[arr >= 1] = _AIMS_BINARY_ONE\n",
    "        # Dilates initial volume of 10 mm\n",
    "        morpho = MorphoGreyLevel_S16()\n",
    "        dilate = morpho.doDilation(mask, radius)\n",
    "        arr_dilate = dilate.np\n",
    "        arr_dilate[arr_dilate >= 1] = 1\n",
    "        return dilate\n",
    "    else:\n",
    "        arr[arr >= 1] = 1\n",
    "        return mask"
   ]
  },
  {
   "cell_type": "code",
   "execution_count": 294,
   "metadata": {},
   "outputs": [
    {
     "data": {
      "text/plain": [
       "['/neurospin/dico/data/deep_folding/current/datasets/pclean/binarized_skeletons/L/Lbinarized_skeleton_hades.nii.gz',\n",
       " '/neurospin/dico/data/deep_folding/current/datasets/pclean/binarized_skeletons/L/Lbinarized_skeleton_sujet04.nii.gz',\n",
       " '/neurospin/dico/data/deep_folding/current/datasets/pclean/binarized_skeletons/L/Lbinarized_skeleton_icbm200T.nii.gz',\n",
       " '/neurospin/dico/data/deep_folding/current/datasets/pclean/binarized_skeletons/L/Lbinarized_skeleton_shiva.nii.gz',\n",
       " '/neurospin/dico/data/deep_folding/current/datasets/pclean/binarized_skeletons/L/Lbinarized_skeleton_hyperion.nii.gz']"
      ]
     },
     "execution_count": 294,
     "metadata": {},
     "output_type": "execute_result"
    }
   ],
   "source": [
    "spam_file = '/neurospin/dico/data/deep_folding/current/mask/2mm/regions/L/Sc.Cal.-S.Li._left.nii.gz'\n",
    "skel_path = '/neurospin/dico/data/deep_folding/current/datasets/pclean/binarized_skeletons/L'\n",
    "skel_files = glob.glob(f'{skel_path}/*.nii.gz')\n",
    "skel_files[:5]"
   ]
  },
  {
   "cell_type": "code",
   "execution_count": 295,
   "metadata": {},
   "outputs": [],
   "source": [
    "# Reads initial spam volume\n",
    "spam_vol = aims.read(spam_file, dtype=\"Volume_FLOAT\")"
   ]
  },
  {
   "cell_type": "code",
   "execution_count": 296,
   "metadata": {},
   "outputs": [
    {
     "name": "stdout",
     "output_type": "stream",
     "text": [
      "[ 0.  1.  2.  3.  4.  5.  6.  7.  8.  9. 10. 11. 12. 13. 14. 15. 16. 17.\n",
      " 18. 19. 20. 21. 22. 23. 24. 25. 26. 27. 28. 29. 30. 31. 32. 33. 34.]\n"
     ]
    }
   ],
   "source": [
    "print(np.unique(spam_vol.np))"
   ]
  },
  {
   "cell_type": "code",
   "execution_count": 297,
   "metadata": {},
   "outputs": [],
   "source": [
    "def do_masking_dilation(spam_vol, skel_vol, dilation, threshold, do_binarization):\n",
    "   \n",
    "    spam_vol = aims.Volume_FLOAT(spam_vol)\n",
    "    skel_vol = aims.Volume_S16(skel_vol)\n",
    "    \n",
    "    # Do binarization for registration\n",
    "    if do_binarization:\n",
    "        skel_vol.np[:] = (skel_vol.np > 0).astype(np.int16)\n",
    "\n",
    "    # Makes binarization and dilation on spam\n",
    "    mask_result = aims.Volume(spam_vol.getSize(), 'S16')\n",
    "    mask_result.copyHeaderFrom(spam_vol.header())\n",
    "    mask_result.np[:] = spam_vol.np\n",
    "    print(\"before threshold\", np.unique(mask_result.np, return_counts=True)) \n",
    "    mask_result.np[mask_result.np <= threshold] = 0.\n",
    "    mask_result.np[:] = dilate(mask_result, dilation).np\n",
    "    print(\"after threshold\", np.unique(mask_result.np, return_counts=True))\n",
    "    \n",
    "    # Do the actual masking\n",
    "    skel_vol.np[mask_result.np <= 0] = 0\n",
    "    \n",
    "    return skel_vol"
   ]
  },
  {
   "cell_type": "code",
   "execution_count": 298,
   "metadata": {},
   "outputs": [],
   "source": [
    "def realign(spam_vol: aims.Volume_FLOAT, skel_vol: aims.Volume_S16):\n",
    "    \"\"\"Realigns skeleton mask to spam\n",
    "    \n",
    "    skel_f is a file name of skeleton file\"\"\"\n",
    "    \n",
    "    spam_vol = aims.Volume_FLOAT(spam_vol)\n",
    "    skel_vol = aims.Volume_S16(skel_vol)\n",
    "    \n",
    "    # Masks with first dilation and threshold\n",
    "    skel_vol_before = do_masking_dilation(spam_vol, skel_vol, _dilation, _threshold, True)\n",
    "    aims.write(skel_vol_before, \"/tmp/skel_before.nii.gz\")\n",
    "    print(np.unique(spam_vol.np))\n",
    "    \n",
    "    # Makes realignment\n",
    "    out_tr = spam_register(spam_vol/np.max(spam_vol.np),\n",
    "                        skel_vol_before,\n",
    "                        do_mask=False,\n",
    "                        R_angle_var=np.pi / 8,\n",
    "                        t_var=10.,\n",
    "                        verbose=False,\n",
    "                        in_log=False,\n",
    "                        calibrate_distrib=30)\n",
    "    aims.write(out_tr, '/tmp/transform.trm')\n",
    "    print(out_tr.np)\n",
    "    \n",
    "    # Masks with final dilation and threshold\n",
    "    skel_vol = do_masking_dilation(spam_vol, skel_vol, _dilation_final, _threshold_final, False)\n",
    "    aims.write(skel_vol, \"/tmp/skel_final_before.nii.gz\")\n",
    "    \n",
    "    # Applies the realignment\n",
    "    subprocess.check_call(f\"AimsApplyTransform -i /tmp/skel_final_before.nii.gz -o /tmp/skel_final_realigned.nii.gz -m /tmp/transform.trm\", shell=True)\n",
    "    \n",
    "    # loads realigned file:\n",
    "    before = aims.read(\"/tmp/skel_final_before.nii.gz\")\n",
    "    after = aims.read(\"/tmp/skel_final_realigned.nii.gz\")\n",
    "    \n",
    "    return before, after"
   ]
  },
  {
   "cell_type": "code",
   "execution_count": 299,
   "metadata": {},
   "outputs": [
    {
     "name": "stdout",
     "output_type": "stream",
     "text": [
      "before threshold (array([ 0,  1,  2,  3,  4,  5,  6,  7,  8,  9, 10, 11, 12, 13, 14, 15, 16,\n",
      "       17, 18, 19, 20, 21, 22, 23, 24, 25, 26, 27, 28, 29, 30, 31, 32, 33,\n",
      "       34], dtype=int16), array([1046227,    1234,     641,     410,     296,     238,     209,\n",
      "           184,     165,     120,     129,     104,      96,      85,\n",
      "            75,      69,      53,      52,      49,      27,      25,\n",
      "            22,      22,      11,      17,      15,      10,       9,\n",
      "             8,       7,       6,       3,       2,       2,       2]))\n",
      "after threshold (array([0, 1], dtype=int16), array([1048512,    2112]))\n",
      "[ 0.  1.  2.  3.  4.  5.  6.  7.  8.  9. 10. 11. 12. 13. 14. 15. 16. 17.\n",
      " 18. 19. 20. 21. 22. 23. 24. 25. 26. 27. 28. 29. 30. 31. 32. 33. 34.]\n",
      "[[ 1.0000000e+00 -1.1917869e-11 -2.2937838e-08  0.0000000e+00]\n",
      " [ 1.1918176e-11  1.0000000e+00  1.5240136e-08  0.0000000e+00]\n",
      " [ 2.2937838e-08 -1.5240136e-08  1.0000000e+00  0.0000000e+00]\n",
      " [ 0.0000000e+00  0.0000000e+00  0.0000000e+00  1.0000000e+00]]\n",
      "before threshold (array([ 0,  1,  2,  3,  4,  5,  6,  7,  8,  9, 10, 11, 12, 13, 14, 15, 16,\n",
      "       17, 18, 19, 20, 21, 22, 23, 24, 25, 26, 27, 28, 29, 30, 31, 32, 33,\n",
      "       34], dtype=int16), array([1046227,    1234,     641,     410,     296,     238,     209,\n",
      "           184,     165,     120,     129,     104,      96,      85,\n",
      "            75,      69,      53,      52,      49,      27,      25,\n",
      "            22,      22,      11,      17,      15,      10,       9,\n",
      "             8,       7,       6,       3,       2,       2,       2]))\n",
      "after threshold (array([0, 1], dtype=int16), array([1048512,    2112]))\n"
     ]
    },
    {
     "name": "stderr",
     "output_type": "stream",
     "text": [
      "/usr/lib/python3/dist-packages/scipy/__init__.py:146: UserWarning: A NumPy version >=1.17.3 and <1.25.0 is required for this version of SciPy (detected version 1.26.4\n",
      "  warnings.warn(f\"A NumPy version >={np_minversion} and <{np_maxversion}\"\n"
     ]
    },
    {
     "name": "stdout",
     "output_type": "stream",
     "text": [
      "loading direct transformations\n",
      "Output dimensions: 96, 114, 96\n",
      "Output voxel size: 2, 2, 2 mm\n",
      "Resampling carto_volume of S16...   0   1   2   3   4   5   6   7   8   9  10  11  12  13  14  15  16  17  18  19  20  21  22  23  24  25  26  27  28  29  30  31  32  33  34  35  36  37  38  39  40  41  42  43  44  45  46  47  48  49  50  51  52  53  54  55  56  57  58  59  60  61  62  63  64  65  66  67  68  69  70  71  72  73  74  75  76  77  78  79  80  81  82  83  84  85  86  87  88  89  90  91  92  93  94  95  96  97  98  99 100 %\n"
     ]
    }
   ],
   "source": [
    "before_all = aims.Volume(spam_vol.getSize(), 'S16')\n",
    "before_all.copyHeaderFrom(spam_vol.header())\n",
    "after_all = aims.Volume(spam_vol.getSize(), 'S16')\n",
    "after_all.copyHeaderFrom(spam_vol.header())\n",
    "list_after = []\n",
    "for skel_f in skel_files[:1]:\n",
    "    skel_vol = aims.read(skel_f)\n",
    "    b, r = realign(spam_vol, skel_vol)\n",
    "    before = aims.Volume(spam_vol.getSize(), 'S16')\n",
    "    before.copyHeaderFrom(spam_vol.header())\n",
    "    before += b\n",
    "    after = aims.Volume(spam_vol.getSize(), 'S16')\n",
    "    after.copyHeaderFrom(spam_vol.header())\n",
    "    after += r\n",
    "    \n",
    "    before_all += before\n",
    "    after_all += after\n",
    "    list_after.append(after)"
   ]
  },
  {
   "cell_type": "code",
   "execution_count": 300,
   "metadata": {},
   "outputs": [
    {
     "data": {
      "text/plain": [
       "array([0, 1], dtype=int16)"
      ]
     },
     "execution_count": 300,
     "metadata": {},
     "output_type": "execute_result"
    }
   ],
   "source": [
    "np.unique(before_all.np)"
   ]
  },
  {
   "cell_type": "code",
   "execution_count": 301,
   "metadata": {},
   "outputs": [
    {
     "data": {
      "text/plain": [
       "array([0, 1], dtype=int16)"
      ]
     },
     "execution_count": 301,
     "metadata": {},
     "output_type": "execute_result"
    }
   ],
   "source": [
    "np.unique(after_all.np)"
   ]
  },
  {
   "cell_type": "code",
   "execution_count": 302,
   "metadata": {},
   "outputs": [],
   "source": [
    "diff_all = after_all - before_all"
   ]
  },
  {
   "cell_type": "code",
   "execution_count": 303,
   "metadata": {},
   "outputs": [
    {
     "data": {
      "text/plain": [
       "<soma.aims.Volume_S16 at 0x7d3644508c10>"
      ]
     },
     "execution_count": 303,
     "metadata": {},
     "output_type": "execute_result"
    }
   ],
   "source": [
    "diff_all"
   ]
  },
  {
   "cell_type": "code",
   "execution_count": 304,
   "metadata": {},
   "outputs": [
    {
     "name": "stderr",
     "output_type": "stream",
     "text": [
      "observable 0x614142469120(N9anatomist7AVolumeIsEE) could not be removed from observer 0x614144b03dd8 (N9anatomist8Fusion2DE)\n",
      "observable 0x61414239e220(N9anatomist7AVolumeIsEE) could not be removed from observer 0x6141416dfcb8 (N9anatomist8Fusion2DE)\n"
     ]
    }
   ],
   "source": [
    "# Visualization\n",
    "spam = a.loadObject(spam_file)\n",
    "before_a = a.toAObject(before_all)\n",
    "diff_a = a.toAObject(diff_all)\n",
    "before_a.setPalette(\"Blues\")\n",
    "diff_a.setPalette(\"bwr\")\n",
    "# spam_before = a.toAObject(before_all)\n",
    "# spam_before.setPalette(\"Blues\")\n",
    "# spam_after = a.toAObject(after_all)\n",
    "# spam_after.setPalette(\"Reds\")\n",
    "w = a.createWindow('Sagittal')\n",
    "w.addObjects(spam)\n",
    "w.addObjects(before_a)\n",
    "w.addObjects(diff_a)\n",
    "# w.addObjects(spam_before)\n",
    "# w.addObjects(spam_after)"
   ]
  },
  {
   "cell_type": "code",
   "execution_count": 305,
   "metadata": {},
   "outputs": [
    {
     "name": "stdout",
     "output_type": "stream",
     "text": [
      "Position : 124, 153.975, 106.278, 0\n"
     ]
    }
   ],
   "source": [
    "# spam = a.loadObject(spam_file)\n",
    "# spam.setPalette(\"Blues\")\n",
    "# list_after_a = [a.toAObject(after) for after in list_after]\n",
    "# for after in list_after_a:\n",
    "#     after.setPalette(\"RED-lfusion\")\n",
    "# w = a.createWindow('Sagittal')\n",
    "# w.addObjects(list_after_a)\n",
    "# w.addObjects(spam)"
   ]
  },
  {
   "cell_type": "code",
   "execution_count": null,
   "metadata": {},
   "outputs": [],
   "source": []
  }
 ],
 "metadata": {
  "kernelspec": {
   "display_name": "Python 3 (ipykernel)",
   "language": "python",
   "name": "python3"
  },
  "language_info": {
   "codemirror_mode": {
    "name": "ipython",
    "version": 3
   },
   "file_extension": ".py",
   "mimetype": "text/x-python",
   "name": "python",
   "nbconvert_exporter": "python",
   "pygments_lexer": "ipython3",
   "version": "3.10.12"
  }
 },
 "nbformat": 4,
 "nbformat_minor": 2
}
