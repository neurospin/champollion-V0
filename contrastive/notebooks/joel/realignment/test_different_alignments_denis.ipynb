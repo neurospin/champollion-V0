{
 "cells": [
  {
   "cell_type": "code",
   "execution_count": 193,
   "metadata": {},
   "outputs": [],
   "source": [
    "\n",
    "import numpy as np\n",
    "\n",
    "from scipy.ndimage import gaussian_filter\n",
    "import subprocess\n",
    "from soma import aims\n",
    "\n",
    "from sulci.registration.spam import spam_register\n",
    "from soma.aimsalgo import MorphoGreyLevel_S16\n",
    "\n",
    "import sulci.registration.spam\n",
    "from sulci.models import distribution_aims\n",
    "from sulci.registration.spam import (\n",
    "    SpamRegistration, dilate_spam_mask, move_image_slightly, spam_register)\n",
    "from soma import aims, aimsalgo\n",
    "\n",
    "# Global static variables\n",
    "_AIMS_BINARY_ONE = 32767\n",
    "_dilation = 1\n",
    "_threshold = 0\n",
    "_nb_spam_subjects = 61\n",
    "\n",
    "# Anatomist\n",
    "\n",
    "import anatomist.api as ana\n",
    "from soma.qt_gui.qtThread import QtThreadCall\n",
    "from soma.qt_gui.qt_backend import Qt\n",
    "# launching anatomist\n",
    "a = ana.Anatomist()"
   ]
  },
  {
   "cell_type": "markdown",
   "metadata": {},
   "source": []
  },
  {
   "cell_type": "markdown",
   "metadata": {},
   "source": [
    "# Define functions"
   ]
  },
  {
   "cell_type": "code",
   "execution_count": 194,
   "metadata": {},
   "outputs": [],
   "source": [
    "def dilate(mask, radius=_dilation):\n",
    "    \"\"\"Makes a dilation radius _dilation, in mm\n",
    "    \"\"\"\n",
    "    arr = mask.np\n",
    "    # Binarization of mask\n",
    "    arr[arr < 1] = 0\n",
    "    arr[arr >= 1] = _AIMS_BINARY_ONE\n",
    "    # Dilates initial volume of 10 mm\n",
    "    morpho = MorphoGreyLevel_S16()\n",
    "    dilate = morpho.doDilation(mask, radius)\n",
    "    arr_dilate = dilate.np\n",
    "    arr_dilate[arr_dilate >= 1] = 1\n",
    "    return dilate"
   ]
  },
  {
   "cell_type": "code",
   "execution_count": 195,
   "metadata": {},
   "outputs": [],
   "source": [
    "def realign_mi_register(spam_vol: aims.Volume_FLOAT, skel_vol: aims.Volume_S16):\n",
    "    \"\"\"Realigns skeleton mask to spam\n",
    "    \n",
    "    skel_vol is the test aims volume\"\"\"\n",
    "    \n",
    "    spam_vol = aims.Volume_FLOAT(spam_vol)\n",
    "    spam_vol.np[:] = spam_vol.np*100\n",
    "    skel_vol2 = aims.Volume_S16(skel_vol)\n",
    "    skel_vol = aims.Volume(skel_vol2.getSize(), 'FLOAT')\n",
    "    skel_vol.copyHeaderFrom(skel_vol2.header())\n",
    "    skel_vol.np[:] = skel_vol2.np\n",
    "    \n",
    "    # Reads skeleton file\n",
    "    skel_vol.np[:] = (skel_vol.np > 0).astype(np.float32)\n",
    "    \n",
    "    # # Makes binarization and dilation on spam\n",
    "    # mask_result = aims.Volume(spam_vol.getSize(), 'S16')\n",
    "    # mask_result.copyHeaderFrom(spam_vol.header())\n",
    "    # mask_result.np[:] = spam_vol.np\n",
    "    # mask_result[mask_result.np <= _threshold] = 0\n",
    "    # mask_result.np[:] = dilate(mask_result).np\n",
    "\n",
    "    # # Masks skeleton data with dilated spam\n",
    "    # skel_vol.np[mask_result.np <= 0] = 0\n",
    "    # skel_vol_masked = aims.Volume_FLOAT(skel_vol)\n",
    "    aims.write(skel_vol, \"/tmp/skel_before.nii.gz\")\n",
    "    skel_vol.np[:] = 100*gaussian_filter(skel_vol.np, sigma=2)\n",
    "    print(np.unique(skel_vol.np))\n",
    "    aims.write(skel_vol, \"/tmp/skel_before_filtered.nii.gz\")\n",
    "    \n",
    "    # Writes nifti files\n",
    "    aims.write(spam_vol, \"/tmp/spam.nii.gz\")\n",
    "    \n",
    "    # Makes realignment\n",
    "    subprocess.check_call(\"AimsMIRegister -r /tmp/spam.nii.gz  -t /tmp/skel_before_filtered.nii.gz --dir /tmp/transform.trm\", shell=True)\n",
    "    # print(out_tr.np)\n",
    "    \n",
    "    # Applies the realignment\n",
    "    subprocess.check_call(\"AimsApplyTransform -i /tmp/skel_before.nii.gz -o /tmp/skel_realigned.nii.gz -m /tmp/transform.trm\", shell=True)\n",
    "    \n",
    "    # loads realigned file:\n",
    "    after_vol = aims.read(\"/tmp/skel_realigned.nii.gz\")\n",
    "    \n",
    "    return after_vol #, skel_vol_masked"
   ]
  },
  {
   "cell_type": "code",
   "execution_count": 196,
   "metadata": {},
   "outputs": [],
   "source": [
    "def realign_spam_register(spam_vol: aims.Volume_FLOAT, skel_vol: aims.Volume_S16):\n",
    "    \"\"\"Realigns skeleton mask to spam\n",
    "    \n",
    "    skel_f is a file name of skeleton file\"\"\"\n",
    "        \n",
    "    spam_vol = aims.Volume_FLOAT(spam_vol)\n",
    "    skel_vol = aims.Volume_S16(skel_vol)\n",
    "    \n",
    "    # # Reads spam and skeleton files\n",
    "    # skel_vol.np[:] = (skel_vol.np > 0).astype(np.int16)\n",
    "\n",
    "    # # Makes binarization and dilation on spam\n",
    "    # mask_result = aims.Volume(spam_vol.getSize(), 'S16')\n",
    "    # mask_result.copyHeaderFrom(spam_vol.header())\n",
    "    # mask_result.np[:] = spam_vol.np\n",
    "    # mask_result[mask_result.np <= _threshold] = 0\n",
    "    # mask_result.np[:] = dilate(mask_result).np\n",
    "\n",
    "    # Masks skeleton data with dilated spam\n",
    "    # skel_vol.np[mask_result.np <= 0] = 0\n",
    "    aims.write(skel_vol, \"/tmp/skel_before.nii.gz\")\n",
    "    \n",
    "    # # Reads initial spam volume\n",
    "    # spam_vol.np[:] = spam_vol.np/_nb_spam_subjects\n",
    "    \n",
    "    # Makes realignment\n",
    "    out_tr = spam_register(spam_vol,\n",
    "                        skel_vol,\n",
    "                        do_mask=False,\n",
    "                        eps=1e-5,\n",
    "                        R_angle_var=np.pi / 8,\n",
    "                        t_var=10.,\n",
    "                        verbose=False,\n",
    "                        in_log=False,\n",
    "                        calibrate_distrib=30)\n",
    "    print(out_tr)\n",
    "    aims.write(out_tr, '/tmp/transform.trm')\n",
    "    \n",
    "    # Applies the realignment\n",
    "    subprocess.check_call(f\"AimsApplyTransform -i /tmp/skel_before.nii.gz -o /tmp/skel_realigned.nii.gz -m /tmp/transform.trm\", shell=True)\n",
    "    \n",
    "    # loads realigned file:\n",
    "    after = aims.read(\"/tmp/skel_realigned.nii.gz\")\n",
    "    \n",
    "    return after"
   ]
  },
  {
   "cell_type": "markdown",
   "metadata": {},
   "source": [
    "# Toy model"
   ]
  },
  {
   "cell_type": "code",
   "execution_count": 197,
   "metadata": {},
   "outputs": [
    {
     "name": "stdout",
     "output_type": "stream",
     "text": [
      "  0   1   2   3   4   5   6   7   8   9  10  11  12  13  14  15  16  17  18  19  20  21  22  23  24  25  26  27  28  29  30  31  32  33  34  35  36  37  38  39  40  41  42  43  44  45  46  47  48  49  50  51  52  53  54  55  56  57  58  59  60  61  62  63  64  65  66  67  68  69  70  71  72  73  74  75  76  77  78  79  80  81  82  83  84  85  86  87  88  89  90  91  92  93  94  95  96  97  98  99 100 %"
     ]
    }
   ],
   "source": [
    "hdr = dict(aims.StandardReferentials.icbm2009cTemplateHeader())\n",
    "dims = (np.ceil(np.array(hdr['volume_dimension']) / 2)).astype(int)\n",
    "vs = np.array(hdr['voxel_size']) * 2\n",
    "hdr['voxel_size'] = vs\n",
    "\n",
    "skel_vol = aims.Volume(list(dims), dtype='S16')\n",
    "skel_vol.copyHeaderFrom(hdr)\n",
    "skel_vol.fill(0)\n",
    "skel_vol[60, 10:100, 50] = 1\n",
    "skel_vol[30, 30:70, 50] = 1 \n",
    "\n",
    "spam_vol = aims.Volume(list(dims), dtype='FLOAT')\n",
    "spam_vol.copyHeaderFrom(hdr)\n",
    "spam_vol.fill(0)\n",
    "spam_vol[:] = skel_vol[:]\n",
    "\n",
    "g = aimsalgo.Gaussian3DSmoothing_FLOAT(10., 10., 10.)\n",
    "spam_vol = g.doit(spam_vol)\n",
    "spam_vol[spam_vol.np < 0] = 0.\n",
    "\n",
    "spam_vol.np[:] = spam_vol.np\n",
    "spam_vol.np[:] = spam_vol.np / spam_vol.max()\n",
    "aims.write(spam_vol, '/tmp/spam_art.nii.gz')\n",
    "mc = aims.MassCenters_FLOAT(spam_vol)\n",
    "mc.doit()\n",
    "gravity_center = np.expand_dims(np.array(mc.infos()['0'][0][0]), axis=1)\n",
    "\n",
    "skel_vol[30, 30:70, 50] = 0\n",
    "skel_vol[25, 25:65, 50] = 1 \n",
    "skel_vol[60, 10:100, 50] = 0\n",
    "skel_vol[55, 5:95, 50] = 1\n",
    "\n",
    "\n",
    "moved_skel, tr = move_image_slightly(skel_vol, (0, 0, 1), np.pi / 20 * 1.5,\n",
    "                                     np.array((-1.2, 2.3, -3.5)) * 2,\n",
    "                                     gravity_center)"
   ]
  },
  {
   "cell_type": "code",
   "execution_count": 198,
   "metadata": {},
   "outputs": [
    {
     "data": {
      "text/plain": [
       "array([0, 1], dtype=int16)"
      ]
     },
     "execution_count": 198,
     "metadata": {},
     "output_type": "execute_result"
    }
   ],
   "source": [
    "np.unique(moved_skel.np)"
   ]
  },
  {
   "cell_type": "code",
   "execution_count": 199,
   "metadata": {},
   "outputs": [
    {
     "data": {
      "text/plain": [
       "1.0"
      ]
     },
     "execution_count": 199,
     "metadata": {},
     "output_type": "execute_result"
    }
   ],
   "source": [
    "np.max(spam_vol.np)"
   ]
  },
  {
   "cell_type": "code",
   "execution_count": 200,
   "metadata": {},
   "outputs": [
    {
     "data": {
      "text/plain": [
       "{ 'referentials' : [ 'Talairach-MNI template-SPM' ], 'transformations' : [ [ -1, 0, 0, 96, 0, -1, 0, 96, 0, 0, -1, 114, 0, 0, 0, 1 ] ], 'voxel_size' : [ 2, 2, 2, 2 ], 'volume_dimension' : [ 97, 115, 97, 1 ], 'sizeX' : 97, 'sizeY' : 115, 'sizeZ' : 97, 'sizeT' : 1, 'referential' : '84b1989b-eb68-8665-0049-8feaf3c22679' }"
      ]
     },
     "execution_count": 200,
     "metadata": {},
     "output_type": "execute_result"
    }
   ],
   "source": [
    "moved_skel.header()"
   ]
  },
  {
   "cell_type": "code",
   "execution_count": 201,
   "metadata": {},
   "outputs": [
    {
     "data": {
      "text/plain": [
       "array([[101.53093719],\n",
       "       [105.94753265],\n",
       "       [ 99.98976898]])"
      ]
     },
     "execution_count": 201,
     "metadata": {},
     "output_type": "execute_result"
    }
   ],
   "source": [
    "gravity_center"
   ]
  },
  {
   "cell_type": "code",
   "execution_count": 202,
   "metadata": {},
   "outputs": [
    {
     "name": "stdout",
     "output_type": "stream",
     "text": [
      "(array([0.0000000e+00, 2.0693223e-17, 2.0755027e-17, ..., 9.9996245e-01,\n",
      "       9.9999940e-01, 1.0000000e+00], dtype=float32), array([544664,      1,      1, ...,      1,      1,      1]))\n",
      "(array([0, 1], dtype=int16), array([1081905,     130]))\n"
     ]
    }
   ],
   "source": [
    "print(np.unique(spam_vol, return_counts=True))\n",
    "print(np.unique(moved_skel, return_counts=True))"
   ]
  },
  {
   "cell_type": "code",
   "execution_count": 203,
   "metadata": {},
   "outputs": [
    {
     "data": {
      "text/plain": [
       "'/casa/host/build/python/sulci/registration/spam.py'"
      ]
     },
     "execution_count": 203,
     "metadata": {},
     "output_type": "execute_result"
    }
   ],
   "source": [
    "sulci.registration.spam.__file__"
   ]
  },
  {
   "cell_type": "code",
   "execution_count": 204,
   "metadata": {},
   "outputs": [
    {
     "name": "stdout",
     "output_type": "stream",
     "text": [
      "[[ 9.7266006e-01  2.3223346e-01  4.5086654e-09 -9.6037903e+00]\n",
      " [-2.3223346e-01  9.7266006e-01  3.8295621e-08  2.9355675e+01]\n",
      " [ 4.5081259e-09 -3.8295685e-08  1.0000000e+00  8.1126099e+00]\n",
      " [ 0.0000000e+00  0.0000000e+00  0.0000000e+00  1.0000000e+00]]\n"
     ]
    },
    {
     "name": "stderr",
     "output_type": "stream",
     "text": [
      "/usr/lib/python3/dist-packages/scipy/__init__.py:146: UserWarning: A NumPy version >=1.17.3 and <1.25.0 is required for this version of SciPy (detected version 1.26.4\n",
      "  warnings.warn(f\"A NumPy version >={np_minversion} and <{np_maxversion}\"\n"
     ]
    },
    {
     "name": "stdout",
     "output_type": "stream",
     "text": [
      "loading direct transformations\n",
      "Output dimensions: 97, 115, 97\n",
      "Output voxel size: 2, 2, 2 mm\n",
      "Resampling carto_volume of S16...   0   1   2   3   4   5   6   7   8   9  10  11  12  13  14  15  16  17  18  19  20  21  22  23  24  25  26  27  28  29  30  31  32  33  34  35  36  37  38  39  40  41  42  43  44  45  46  47  48  49  50  51  52  53  54  55  56  57  58  59  60  61  62  63  64  65  66  67  68  69  70  71  72  73  74  75  76  77  78  79  80  81  82  83  84  85  86  87  88  89  90  91  92  93  94  95  96  97  98  99 100 %\n"
     ]
    },
    {
     "data": {
      "text/plain": [
       "array([0, 1], dtype=int16)"
      ]
     },
     "execution_count": 204,
     "metadata": {},
     "output_type": "execute_result"
    }
   ],
   "source": [
    "after_vol_spam = realign_spam_register(spam_vol, moved_skel)\n",
    "np.unique(after_vol_spam.np)"
   ]
  },
  {
   "cell_type": "code",
   "execution_count": 205,
   "metadata": {},
   "outputs": [],
   "source": [
    "# after_vol_mi = realign_mi_register(spam_vol, moved_skel)\n",
    "# np.unique(after_vol_mi.np)"
   ]
  },
  {
   "cell_type": "code",
   "execution_count": 206,
   "metadata": {},
   "outputs": [
    {
     "name": "stderr",
     "output_type": "stream",
     "text": [
      "observable 0x646fca255080(N9anatomist7AVolumeIsEE) could not be removed from observer 0x646fc99e56b8 (N9anatomist8Fusion2DE)\n",
      "observable 0x646fc905d680(N9anatomist7AVolumeIsEE) could not be removed from observer 0x646fca141b68 (N9anatomist8Fusion2DE)\n"
     ]
    }
   ],
   "source": [
    "skel_a = a.toAObject(moved_skel)\n",
    "spam_a = a.toAObject(spam_vol)\n",
    "after_spam_a = a.toAObject(after_vol_spam)\n",
    "# after_mi_a = a.toAObject(after_vol_mi)\n",
    "skel_a.setPalette(\"BLUE-lfusion\")\n",
    "after_spam_a.setPalette(\"RED-lfusion\")\n",
    "# after_mi_a.setPalette(\"VIOLET-lfusion\")\n",
    "w = a.createWindow('Coronal')\n",
    "w.addObjects(spam_a)\n",
    "w.addObjects(skel_a)\n",
    "w.addObjects(after_spam_a)\n",
    "# w.addObjects(after_mi_a)"
   ]
  },
  {
   "cell_type": "code",
   "execution_count": null,
   "metadata": {},
   "outputs": [],
   "source": []
  },
  {
   "cell_type": "code",
   "execution_count": null,
   "metadata": {},
   "outputs": [],
   "source": []
  }
 ],
 "metadata": {
  "kernelspec": {
   "display_name": "venv",
   "language": "python",
   "name": "python3"
  },
  "language_info": {
   "codemirror_mode": {
    "name": "ipython",
    "version": 3
   },
   "file_extension": ".py",
   "mimetype": "text/x-python",
   "name": "python",
   "nbconvert_exporter": "python",
   "pygments_lexer": "ipython3",
   "version": "3.10.12"
  }
 },
 "nbformat": 4,
 "nbformat_minor": 2
}
