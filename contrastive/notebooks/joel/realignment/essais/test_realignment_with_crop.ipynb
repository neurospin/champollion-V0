{
 "cells": [
  {
   "cell_type": "code",
   "execution_count": 21,
   "metadata": {},
   "outputs": [],
   "source": [
    "import json\n",
    "import numpy as np\n",
    "import os\n",
    "from soma import aims\n",
    "\n",
    "from sulci.registration.spam import spam_register\n",
    "\n",
    "import anatomist.api as ana\n",
    "from soma.qt_gui.qtThread import QtThreadCall\n",
    "from soma.qt_gui.qt_backend import Qt\n",
    "\n",
    "from soma.aimsalgo import MorphoGreyLevel_S16\n",
    "\n",
    "# Global static variables\n",
    "_AIMS_BINARY_ONE = 32767\n",
    "_dilation = 0\n",
    "_threshold = 3\n",
    "\n",
    "# launching anatomist\n",
    "a = ana.Anatomist()"
   ]
  },
  {
   "cell_type": "code",
   "execution_count": 22,
   "metadata": {},
   "outputs": [],
   "source": [
    "def dilate(mask, radius=_dilation):\n",
    "    \"\"\"Makes a dilation radius _dilation, in mm\n",
    "    \"\"\"\n",
    "    arr = mask.np\n",
    "    # Binarization of mask\n",
    "    arr[arr < 1] = 0\n",
    "    if radius > 0:\n",
    "        arr[arr >= 1] = _AIMS_BINARY_ONE\n",
    "        # Dilates initial volume of 10 mm\n",
    "        morpho = MorphoGreyLevel_S16()\n",
    "        dilate = morpho.doDilation(mask, radius)\n",
    "        arr_dilate = dilate.np\n",
    "        arr_dilate[arr_dilate >= 1] = 1\n",
    "        return dilate\n",
    "    else:\n",
    "        arr[arr >= 1] = 1\n",
    "        return mask"
   ]
  },
  {
   "cell_type": "code",
   "execution_count": 23,
   "metadata": {},
   "outputs": [],
   "source": [
    "spam_file = '/neurospin/dico/data/deep_folding/current/mask/2mm/regions/L/Sc.Cal.-S.Li._left.nii.gz'\n",
    "skel_f = '/neurospin/dico/data/deep_folding/current/datasets/pclean/binarized_skeletons/L/Lbinarized_skeleton_ammon.nii.gz' \n",
    "\n",
    "# Reads spam and skeleton files\n",
    "mask_result = aims.read(spam_file)\n",
    "skel_data = aims.read(skel_f)\n",
    "skel_data.np[:] = (skel_data.np > 0).astype(np.int16)\n",
    "\n",
    "# Makes binarization and dilation on spam\n",
    "mask_result[mask_result.np <= _threshold] = 0\n",
    "mask_result.np[:] = dilate(mask_result).np"
   ]
  },
  {
   "cell_type": "code",
   "execution_count": 24,
   "metadata": {},
   "outputs": [
    {
     "data": {
      "text/plain": [
       "(96, 114, 96, 1)"
      ]
     },
     "execution_count": 24,
     "metadata": {},
     "output_type": "execute_result"
    }
   ],
   "source": [
    "mask_result.shape"
   ]
  },
  {
   "cell_type": "code",
   "execution_count": 25,
   "metadata": {},
   "outputs": [],
   "source": [
    "# Masks skeleton data with dilated spam\n",
    "# Translates\n",
    "skel_data.np[mask_result.np <= 0] = 0\n",
    "# skel_data_not_translated = aims.Volume(skel_data)\n",
    "skel_data.np[:] = np.roll(skel_data.np, 5, axis=0)\n",
    "aims.write(skel_data, \"/tmp/skel_before.nii.gz\")"
   ]
  },
  {
   "cell_type": "code",
   "execution_count": 26,
   "metadata": {},
   "outputs": [],
   "source": [
    "# Reads initial spam volume and transforms it to proba\n",
    "spam_vol = aims.read(spam_file, dtype=\"Volume_FLOAT\")\n",
    "spam_vol.np[:] = spam_vol.np/61"
   ]
  },
  {
   "cell_type": "code",
   "execution_count": 27,
   "metadata": {},
   "outputs": [
    {
     "data": {
      "text/plain": [
       "array([0.        , 0.01639344, 0.03278688, 0.04918033, 0.06557377,\n",
       "       0.08196721, 0.09836066, 0.1147541 , 0.13114753, 0.14754099,\n",
       "       0.16393442, 0.18032786, 0.19672132, 0.21311475, 0.22950819,\n",
       "       0.24590164, 0.26229507, 0.27868852, 0.29508197, 0.3114754 ,\n",
       "       0.32786885, 0.3442623 , 0.36065573, 0.37704918, 0.39344263,\n",
       "       0.40983605, 0.4262295 , 0.44262296, 0.45901638, 0.47540984,\n",
       "       0.4918033 , 0.5081967 , 0.52459013, 0.5409836 , 0.55737704],\n",
       "      dtype=float32)"
      ]
     },
     "execution_count": 27,
     "metadata": {},
     "output_type": "execute_result"
    }
   ],
   "source": [
    "np.unique(spam_vol.np)"
   ]
  },
  {
   "cell_type": "code",
   "execution_count": 28,
   "metadata": {},
   "outputs": [
    {
     "data": {
      "text/plain": [
       "(array([0, 1], dtype=int16), array([1050325,     299]))"
      ]
     },
     "execution_count": 28,
     "metadata": {},
     "output_type": "execute_result"
    }
   ],
   "source": [
    "np.unique(skel_data, return_counts=True)"
   ]
  },
  {
   "cell_type": "code",
   "execution_count": 29,
   "metadata": {},
   "outputs": [],
   "source": [
    "# Makes realignment\n",
    "out_tr = spam_register(spam_vol,\n",
    "                       skel_data,\n",
    "                       do_mask=False,\n",
    "                       R_angle_var=np.pi / 8,\n",
    "                       t_var=5.,\n",
    "                       verbose=False,\n",
    "                       in_log=False,\n",
    "                       calibrate_distrib=30)\n",
    "# out_tr.setTranslation((5, 0, 0))\n",
    "aims.write(out_tr, '/tmp/transform.trm')"
   ]
  },
  {
   "cell_type": "code",
   "execution_count": 30,
   "metadata": {},
   "outputs": [
    {
     "data": {
      "text/plain": [
       "array([[ 9.47544873e-01,  2.98102915e-01, -1.15296863e-01,\n",
       "        -4.04252396e+01],\n",
       "       [-2.98106134e-01,  9.54370081e-01,  1.76202394e-02,\n",
       "         3.87702484e+01],\n",
       "       [ 1.15288526e-01,  1.76747367e-02,  9.93174791e-01,\n",
       "        -1.52747498e+01],\n",
       "       [ 0.00000000e+00,  0.00000000e+00,  0.00000000e+00,\n",
       "         1.00000000e+00]], dtype=float32)"
      ]
     },
     "execution_count": 30,
     "metadata": {},
     "output_type": "execute_result"
    }
   ],
   "source": [
    "# Prints transformation matrix\n",
    "out_tr.np"
   ]
  },
  {
   "cell_type": "code",
   "execution_count": 31,
   "metadata": {},
   "outputs": [
    {
     "name": "stderr",
     "output_type": "stream",
     "text": [
      "/usr/lib/python3/dist-packages/scipy/__init__.py:146: UserWarning: A NumPy version >=1.17.3 and <1.25.0 is required for this version of SciPy (detected version 1.26.4\n",
      "  warnings.warn(f\"A NumPy version >={np_minversion} and <{np_maxversion}\"\n"
     ]
    },
    {
     "name": "stdout",
     "output_type": "stream",
     "text": [
      "loading direct transformations\n",
      "Output dimensions: 96, 114, 96\n",
      "Output voxel size: 2, 2, 2 mm\n",
      "Resampling carto_volume of S16...   0   1   2   3   4   5   6   7   8   9  10  11  12  13  14  15  16  17  18  19  20  21  22  23  24  25  26  27  28  29  30  31  32  33  34  35  36  37  38  39  40  41  42  43  44  45  46  47  48  49  50  51  52  53  54  55  56  57  58  59  60  61  62  63  64  65  66  67  68  69  70  71  72  73  74  75  76  77  78  79  80  81  82  83  84  85  86  87  88  89  90  91  92  93  94  95  96  97  98  99 100 %\n"
     ]
    },
    {
     "data": {
      "text/plain": [
       "0"
      ]
     },
     "execution_count": 31,
     "metadata": {},
     "output_type": "execute_result"
    }
   ],
   "source": [
    "# Applies the realignment\n",
    "os.system(f\"AimsApplyTransform -i /tmp/skel_before.nii.gz -o /tmp/skel_realigned.nii.gz -m /tmp/transform.trm\")"
   ]
  },
  {
   "cell_type": "code",
   "execution_count": 32,
   "metadata": {},
   "outputs": [
    {
     "name": "stdout",
     "output_type": "stream",
     "text": [
      "(array([0, 1], dtype=int16), array([1050325,     299]))\n",
      "(array([0, 1], dtype=int16), array([1050396,     228]))\n",
      "(96, 114, 96, 1)\n",
      "(96, 114, 96, 1)\n"
     ]
    }
   ],
   "source": [
    "before = aims.read(\"/tmp/skel_before.nii.gz\")\n",
    "after = aims.read(\"/tmp/skel_realigned.nii.gz\")\n",
    "print(np.unique(before.np, return_counts=True))\n",
    "print(np.unique(after.np, return_counts=True))\n",
    "print(before.shape)\n",
    "print(after.shape)"
   ]
  },
  {
   "cell_type": "code",
   "execution_count": 33,
   "metadata": {},
   "outputs": [
    {
     "data": {
      "text/plain": [
       "array([2., 2., 2., 1.], dtype=float32)"
      ]
     },
     "execution_count": 33,
     "metadata": {},
     "output_type": "execute_result"
    }
   ],
   "source": [
    "after.header()['voxel_size'].np"
   ]
  },
  {
   "cell_type": "code",
   "execution_count": 34,
   "metadata": {},
   "outputs": [
    {
     "data": {
      "text/plain": [
       "False"
      ]
     },
     "execution_count": 34,
     "metadata": {},
     "output_type": "execute_result"
    }
   ],
   "source": [
    "np.array_equal(before, after)"
   ]
  },
  {
   "cell_type": "code",
   "execution_count": 35,
   "metadata": {},
   "outputs": [
    {
     "name": "stderr",
     "output_type": "stream",
     "text": [
      "observable 0x603ce2578fd0(N9anatomist7AVolumeIsEE) could not be removed from observer 0x603ce426efd8 (N9anatomist8Fusion2DE)\n",
      "observable 0x603ce40f8da0(N9anatomist7AVolumeIsEE) could not be removed from observer 0x603ce3f00968 (N9anatomist8Fusion2DE)\n"
     ]
    }
   ],
   "source": [
    "# Visualization\n",
    "spam = a.loadObject(spam_file)\n",
    "skel = a.loadObject(\"/tmp/skel_before.nii.gz\")\n",
    "realigned = a.loadObject(\"/tmp/skel_realigned.nii.gz\")\n",
    "skel.setPalette(\"BLUE-lfusion\")\n",
    "realigned.setPalette(\"RED-lfusion\")\n",
    "w = a.createWindow('Sagittal')\n",
    "w.addObjects(spam)\n",
    "w.addObjects(skel)\n",
    "w.addObjects(realigned)"
   ]
  },
  {
   "cell_type": "code",
   "execution_count": 36,
   "metadata": {},
   "outputs": [
    {
     "data": {
      "text/plain": [
       "{'volume_dimension': <soma.aims.vector_S32 at 0x717944fe56c0>,\n",
       " 'sizeX': 96,\n",
       " 'sizeY': 114,\n",
       " 'sizeZ': 96,\n",
       " 'sizeT': 1,\n",
       " 'referential': '84b1989b-eb68-8665-0049-8feaf3c22679',\n",
       " 'disk_data_type': 'S16',\n",
       " 'bits_allocated': 16,\n",
       " 'data_type': 'S16',\n",
       " 'scale_factor_applied': False,\n",
       " 'possible_data_types': <soma.aims.vector_STRING at 0x717944fe5c60>,\n",
       " 'cal_min': 0.0,\n",
       " 'cal_max': 0.0,\n",
       " 'freq_dim': 0,\n",
       " 'phase_dim': 0,\n",
       " 'slice_dim': 0,\n",
       " 'slice_code': 0,\n",
       " 'slice_start': 0,\n",
       " 'slice_end': 0,\n",
       " 'slice_duration': 0.0,\n",
       " 'storage_to_memory': <soma.aims.vector_FLOAT at 0x717944fe5ab0>,\n",
       " 'voxel_size': <soma.aims.vector_FLOAT at 0x717944fe5900>,\n",
       " 'tr': 1.0,\n",
       " 'referentials': <soma.aims.vector_STRING at 0x717944fe5870>,\n",
       " 'transformations': <soma.aims.vector_vector_FLOAT at 0x717944fe5750>,\n",
       " 'toffset': 0.0,\n",
       " 'xyz_units': 0,\n",
       " 'time_units': 0,\n",
       " 'descrip': '',\n",
       " 'aux_file': '',\n",
       " 'nifti_type': 1,\n",
       " 'object_type': 'Volume',\n",
       " 'file_type': 'NIFTI-1'}"
      ]
     },
     "execution_count": 36,
     "metadata": {},
     "output_type": "execute_result"
    }
   ],
   "source": [
    "dict(mask_result.header())"
   ]
  },
  {
   "cell_type": "code",
   "execution_count": 37,
   "metadata": {},
   "outputs": [
    {
     "name": "stdout",
     "output_type": "stream",
     "text": [
      "[\"Talairach-MNI template-SPM\"]\n",
      "[\"Talairach-MNI template-SPM\", \"2053787e-9cee-11ef-976a-a4bb6db7a741\"]\n",
      "[\"Talairach-MNI template-SPM\"]\n"
     ]
    },
    {
     "name": "stdout",
     "output_type": "stream",
     "text": [
      "Position : 108, 28.0605, 11.638, 0\n",
      "Position : 106, 151.775, 164.745, 0\n",
      "Position : 106, 146.627, 116.422, 0\n"
     ]
    }
   ],
   "source": [
    "print(before.header()['referentials'])\n",
    "print(after.header()['referentials'])\n",
    "print(mask_result.header()['referentials'])"
   ]
  },
  {
   "cell_type": "code",
   "execution_count": null,
   "metadata": {},
   "outputs": [],
   "source": []
  }
 ],
 "metadata": {
  "kernelspec": {
   "display_name": "Python 3 (ipykernel)",
   "language": "python",
   "name": "python3"
  },
  "language_info": {
   "codemirror_mode": {
    "name": "ipython",
    "version": 3
   },
   "file_extension": ".py",
   "mimetype": "text/x-python",
   "name": "python",
   "nbconvert_exporter": "python",
   "pygments_lexer": "ipython3",
   "version": "3.10.12"
  }
 },
 "nbformat": 4,
 "nbformat_minor": 2
}
