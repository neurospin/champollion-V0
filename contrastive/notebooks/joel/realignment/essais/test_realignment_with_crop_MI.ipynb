{
 "cells": [
  {
   "cell_type": "code",
   "execution_count": 1,
   "metadata": {},
   "outputs": [
    {
     "name": "stderr",
     "output_type": "stream",
     "text": [
      "/usr/lib/python3/dist-packages/scipy/__init__.py:146: UserWarning: A NumPy version >=1.17.3 and <1.25.0 is required for this version of SciPy (detected version 1.26.4\n",
      "  warnings.warn(f\"A NumPy version >={np_minversion} and <{np_maxversion}\"\n"
     ]
    },
    {
     "name": "stdout",
     "output_type": "stream",
     "text": [
      "create qapp\n",
      "global modules: /casa/host/build/share/anatomist-5.2/python_plugins\n",
      "home   modules: /casa/home/.anatomist/python_plugins\n",
      "done\n",
      "Starting Anatomist.....\n",
      "config file : /casa/home/.anatomist/config/settings.cfg\n",
      "PyAnatomist Module present\n",
      "PythonLauncher::runModules()\n",
      "loading module meshsplit\n",
      "loading module palettecontrols\n",
      "loading module volumepalettes\n",
      "loading module save_resampled\n",
      "loading module profilewindow\n"
     ]
    },
    {
     "name": "stderr",
     "output_type": "stream",
     "text": [
      "existing QApplication: 0\n",
      "QStandardPaths: XDG_RUNTIME_DIR not set, defaulting to '/tmp/runtime-jc225751'\n"
     ]
    },
    {
     "name": "stdout",
     "output_type": "stream",
     "text": [
      "loading module statsplotwindow\n",
      "loading module anacontrolmenu\n",
      "loading module infowindow\n",
      "loading module foldsplit\n",
      "loading module simple_controls\n",
      "loading module histogram\n",
      "loading module valuesplotwindow\n",
      "loading module ana_image_math\n",
      "loading module modelGraphs\n",
      "loading module paletteViewer\n",
      "loading module bsa_proba\n",
      "loading module gradientpalette\n",
      "loading module selection\n",
      "loading module gltf_io\n",
      "all python modules loaded\n",
      "Anatomist started.\n"
     ]
    }
   ],
   "source": [
    "\n",
    "import numpy as np\n",
    "from scipy.ndimage import gaussian_filter\n",
    "import os\n",
    "from soma import aims\n",
    "\n",
    "from sulci.registration.spam import spam_register\n",
    "\n",
    "import anatomist.api as ana\n",
    "from soma.qt_gui.qtThread import QtThreadCall\n",
    "from soma.qt_gui.qt_backend import Qt\n",
    "\n",
    "from soma.aimsalgo import MorphoGreyLevel_S16\n",
    "\n",
    "# Global static variables\n",
    "_AIMS_BINARY_ONE = 32767\n",
    "_dilation = 1\n",
    "_threshold = 0\n",
    "\n",
    "# launching anatomist\n",
    "a = ana.Anatomist()"
   ]
  },
  {
   "cell_type": "code",
   "execution_count": 2,
   "metadata": {},
   "outputs": [],
   "source": [
    "def dilate(mask, radius=_dilation):\n",
    "    \"\"\"Makes a dilation radius _dlation, in mm\n",
    "    \"\"\"\n",
    "    arr = mask.np\n",
    "    # Binarization of mask\n",
    "    arr[arr < 1] = 0\n",
    "    arr[arr >= 1] = _AIMS_BINARY_ONE\n",
    "    # Dilates initial volume of 10 mm\n",
    "    morpho = MorphoGreyLevel_S16()\n",
    "    dilate = morpho.doDilation(mask, radius)\n",
    "    arr_dilate = dilate.np\n",
    "    arr_dilate[arr_dilate >= 1] = 1\n",
    "    return dilate"
   ]
  },
  {
   "cell_type": "code",
   "execution_count": 3,
   "metadata": {},
   "outputs": [
    {
     "name": "stdout",
     "output_type": "stream",
     "text": [
      "DILATION\n"
     ]
    }
   ],
   "source": [
    "spam_file = '/neurospin/dico/data/deep_folding/current/mask/2mm/regions/L/Sc.Cal.-S.Li._left.nii.gz'\n",
    "skel_f = '/neurospin/dico/data/deep_folding/current/datasets/pclean/binarized_skeletons/L/Lbinarized_skeleton_ammon.nii.gz' \n",
    "\n",
    "# Reads spam and skeleton files\n",
    "mask_result = aims.read(spam_file)\n",
    "skel_data = aims.read(skel_f, dtype=\"Volume_FLOAT\")\n",
    "skel_data.np[:] = (skel_data.np > 0).astype(np.float32)\n",
    "\n",
    "# Makes binarization and dilation on spam\n",
    "mask_result[mask_result.np <= _threshold] = 0\n",
    "mask_result.np[:] = dilate(mask_result).np"
   ]
  },
  {
   "cell_type": "code",
   "execution_count": 4,
   "metadata": {},
   "outputs": [],
   "source": [
    "# Masks skeleton data with dilated spam\n",
    "skel_data.np[mask_result.np <= 0] = 0\n",
    "skel_data.np[:] = np.roll(skel_data.np, 5, axis=0)\n",
    "skel_data.np[:] = 100*gaussian_filter(skel_data.np, sigma=2)\n",
    "aims.write(skel_data, \"/tmp/skel_before.nii.gz\")"
   ]
  },
  {
   "cell_type": "code",
   "execution_count": 5,
   "metadata": {},
   "outputs": [],
   "source": [
    "# Reads initial spam volume and transforms it to proba\n",
    "spam_vol = aims.read(spam_file, dtype=\"Volume_FLOAT\")\n",
    "spam_vol.np[:] = spam_vol.np\n",
    "\n",
    "aims.write(spam_vol, \"/tmp/spam.nii.gz\")"
   ]
  },
  {
   "cell_type": "code",
   "execution_count": 6,
   "metadata": {},
   "outputs": [
    {
     "data": {
      "text/plain": [
       "array([ 0.,  1.,  2.,  3.,  4.,  5.,  6.,  7.,  8.,  9., 10., 11., 12.,\n",
       "       13., 14., 15., 16., 17., 18., 19., 20., 21., 22., 23., 24., 25.,\n",
       "       26., 27., 28., 29., 30., 31., 32., 33., 34.], dtype=float32)"
      ]
     },
     "execution_count": 6,
     "metadata": {},
     "output_type": "execute_result"
    }
   ],
   "source": [
    "np.unique(spam_vol.np)"
   ]
  },
  {
   "cell_type": "code",
   "execution_count": 7,
   "metadata": {},
   "outputs": [
    {
     "data": {
      "text/plain": [
       "(array([0.0000000e+00, 2.9963709e-11, 1.9538791e-10, ..., 2.1985331e+01,\n",
       "        2.2006870e+01, 2.2116522e+01], dtype=float32),\n",
       " array([1003817,     172,     116, ...,       1,       1,       1]))"
      ]
     },
     "execution_count": 7,
     "metadata": {},
     "output_type": "execute_result"
    }
   ],
   "source": [
    "np.unique(skel_data, return_counts=True)"
   ]
  },
  {
   "cell_type": "code",
   "execution_count": 8,
   "metadata": {},
   "outputs": [
    {
     "name": "stderr",
     "output_type": "stream",
     "text": [
      "/usr/lib/python3/dist-packages/scipy/__init__.py:146: UserWarning: A NumPy version >=1.17.3 and <1.25.0 is required for this version of SciPy (detected version 1.26.4\n",
      "  warnings.warn(f\"A NumPy version >={np_minversion} and <{np_maxversion}\"\n"
     ]
    },
    {
     "name": "stdout",
     "output_type": "stream",
     "text": [
      "objective function   : mutual information\n",
      "optimizer            : powell\n",
      "Reading channel -1 of reference image\n",
      "Reference Image       : /tmp/spam.nii.gz\n",
      "         Pyramid range: 0 - 0\n",
      "Test      Image       : /tmp/skel_before.nii.gz\n",
      "         Pyramid range: 0 - 0\n",
      "Number of Level       : 64\n",
      "Parzen Mask Size      : 5\n",
      "Error (Stop Criterion): 0.01\n",
      "Ref Threshold  ratio  : 0.05\n",
      "Test Threshold ratio  : 0.1\n",
      "initial parameter     : (0, 0, 0, 0, 0, 0)\n",
      "parameter variations  : (0, 0, 0, 0, 0, 0)\n",
      "Processing Plevel 0(0, 0, 0, 0, 0, 0)(1, 1, 0.596832, 1, 0.596832, 0.502595)\n",
      "19817091 ticks\n",
      "Niveau : 0 Popt (1.45539, -0.400064, -0.000292318, -0.0489621, -0.00345183, 0.000861318)\n",
      "Volume 0Popt (1.45539, -0.400064, -0.000292318, -0.0489621, -0.00345183, 0.000861318)\n",
      " -Tx 1.45539 -Ty -0.400064 -Tz -0.0489621 -Rx -0.00345183 -Ry 0.000861318 -Rz -0.000292318\n",
      "Direct FileName /tmp/transform.trm\n",
      "Inverse FileName /tmp/spam.nii_TO_skel_before.nii.trm\n"
     ]
    },
    {
     "data": {
      "text/plain": [
       "0"
      ]
     },
     "execution_count": 8,
     "metadata": {},
     "output_type": "execute_result"
    }
   ],
   "source": [
    "# Makes realignmet\n",
    "os.system(f\"AimsMIRegister -r /tmp/spam.nii.gz  -t /tmp/skel_before.nii.gz --dir /tmp/transform.trm\")"
   ]
  },
  {
   "cell_type": "code",
   "execution_count": 9,
   "metadata": {},
   "outputs": [
    {
     "name": "stderr",
     "output_type": "stream",
     "text": [
      "/usr/lib/python3/dist-packages/scipy/__init__.py:146: UserWarning: A NumPy version >=1.17.3 and <1.25.0 is required for this version of SciPy (detected version 1.26.4\n",
      "  warnings.warn(f\"A NumPy version >={np_minversion} and <{np_maxversion}\"\n"
     ]
    },
    {
     "name": "stdout",
     "output_type": "stream",
     "text": [
      "loading direct transformations\n",
      "loading inverse transformations\n",
      "Output dimensions: 96, 114, 96\n",
      "Output voxel size: 2, 2, 2 mm\n",
      "Resampling carto_volume of FLOAT...   0   1   2   3   4   5   6   7   8   9  10  11  12  13  14  15  16  17  18  19  20  21  22  23  24  25  26  27  28  29  30  31  32  33  34  35  36  37  38  39  40  41  42  43  44  45  46  47  48  49  50  51  52  53  54  55  56  57  58  59  60  61  62  63  64  65  66  67  68  69  70  71  72  73  74  75  76  77  78  79  80  81  82  83  84  85  86  87  88  89  90  91  92  93  94  95  96  97  98  99 100 %\n"
     ]
    },
    {
     "data": {
      "text/plain": [
       "0"
      ]
     },
     "execution_count": 9,
     "metadata": {},
     "output_type": "execute_result"
    }
   ],
   "source": [
    "# Applies the realignment\n",
    "os.system(f\"AimsApplyTransform -i /tmp/skel_before.nii.gz -o /tmp/skel_realigned.nii.gz -m /tmp/transform.trm -I /tmp/spam.nii_TO_skel_before.nii.trm\")"
   ]
  },
  {
   "cell_type": "code",
   "execution_count": 10,
   "metadata": {},
   "outputs": [
    {
     "name": "stdout",
     "output_type": "stream",
     "text": [
      "Multitexturing present\n",
      "function glActiveTexture found.\n",
      "function glClientActiveTexture found.\n",
      "function glBlendEquation found.\n",
      "function glTexImage3D found.\n",
      "function glMultiTexCoord3f found.\n",
      "function glBindFramebuffer found.\n",
      "function glBindRenderbuffer found.\n",
      "function glFramebufferTexture2D found.\n",
      "function glGenFramebuffers found.\n",
      "function glGenRenderbuffers found.\n",
      "function glFramebufferRenderbuffer found.\n",
      "function glRenderbufferStorage found.\n",
      "function glCheckFramebufferStatus found.\n",
      "function glDeleteRenderbuffers found.\n",
      "function glDeleteFramebuffers found.\n",
      "Number of texture units: 4\n",
      "function glUniform1f found.\n",
      "function glUniform1i found.\n",
      "function glUniform4fv found.\n",
      "function glGetUniformLocation found.\n",
      "function glMultTransposeMatrixf found.\n",
      "function glAttachShader found.\n",
      "function glDetachShader found.\n",
      "function glCompileShader found.\n",
      "function glCreateProgram found.\n",
      "function glCreateShader found.\n",
      "function glDeleteProgram found.\n",
      "function glDeleteShader found.\n",
      "function glGetProgramiv found.\n",
      "function glGetShaderiv found.\n",
      "function glLinkProgram found.\n",
      "function glShaderSource found.\n",
      "function glUseProgram found.\n",
      "GL_ARB_shadow present\n",
      "GL_SGIX_shadow present\n",
      "GL_SGIX_depth_texture extension present\n",
      "GL_ARB_depth_texture extension present\n",
      "GL_ARB_texture_cube_map extension present\n",
      "GL_EXT_texture_cube_map extension present\n",
      "Number of texture units: 4\n"
     ]
    },
    {
     "name": "stderr",
     "output_type": "stream",
     "text": [
      "observable 0x614c48226030(N9anatomist7AVolumeIfEE) could not be removed from observer 0x614c47fd8fd8 (N9anatomist8Fusion2DE)\n"
     ]
    }
   ],
   "source": [
    "spam = a.loadObject(spam_file)\n",
    "skel = a.loadObject(\"/tmp/skel_before.nii.gz\")\n",
    "realigned = a.loadObject(\"/tmp/skel_realigned.nii.gz\")\n",
    "w = a.createWindow('Sagittal')\n",
    "skel.setPalette(\"Blues\")\n",
    "realigned.setPalette(\"Reds\")\n",
    "w.addObjects(spam)\n",
    "w.addObjects(skel)\n",
    "w.addObjects(realigned)"
   ]
  },
  {
   "cell_type": "code",
   "execution_count": null,
   "metadata": {},
   "outputs": [],
   "source": []
  }
 ],
 "metadata": {
  "kernelspec": {
   "display_name": "venv",
   "language": "python",
   "name": "python3"
  },
  "language_info": {
   "codemirror_mode": {
    "name": "ipython",
    "version": 3
   },
   "file_extension": ".py",
   "mimetype": "text/x-python",
   "name": "python",
   "nbconvert_exporter": "python",
   "pygments_lexer": "ipython3",
   "version": "3.10.12"
  }
 },
 "nbformat": 4,
 "nbformat_minor": 2
}
