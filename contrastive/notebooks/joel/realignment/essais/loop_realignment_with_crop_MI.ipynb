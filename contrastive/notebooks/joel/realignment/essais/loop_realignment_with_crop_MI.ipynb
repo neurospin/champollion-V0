{
 "cells": [
  {
   "cell_type": "code",
   "execution_count": 2,
   "metadata": {},
   "outputs": [
    {
     "name": "stderr",
     "output_type": "stream",
     "text": [
      "/usr/lib/python3/dist-packages/scipy/__init__.py:146: UserWarning: A NumPy version >=1.17.3 and <1.25.0 is required for this version of SciPy (detected version 1.26.4\n",
      "  warnings.warn(f\"A NumPy version >={np_minversion} and <{np_maxversion}\"\n",
      "existing QApplication: 0\n",
      "QStandardPaths: XDG_RUNTIME_DIR not set, defaulting to '/tmp/runtime-jc225751'\n"
     ]
    },
    {
     "name": "stdout",
     "output_type": "stream",
     "text": [
      "create qapp\n",
      "done\n",
      "Starting Anatomist.....\n",
      "config file : /casa/home/.anatomist/config/settings.cfg\n",
      "PyAnatomist Module present\n",
      "PythonLauncher::runModules()\n",
      "global modules: /casa/host/build/share/anatomist-5.2/python_plugins\n",
      "home   modules: /casa/home/.anatomist/python_plugins\n",
      "loading module meshsplit\n",
      "loading module palettecontrols\n",
      "loading module volumepalettes\n",
      "loading module save_resampled\n",
      "loading module profilewindow\n",
      "loading module statsplotwindow\n",
      "loading module anacontrolmenu\n",
      "loading module infowindow\n",
      "loading module foldsplit\n",
      "loading module simple_controls\n",
      "loading module histogram\n",
      "loading module valuesplotwindow\n",
      "loading module ana_image_math\n",
      "loading module modelGraphs\n",
      "loading module paletteViewer\n",
      "loading module bsa_proba\n",
      "loading module gradientpalette\n",
      "loading module selection\n",
      "loading module gltf_io\n",
      "all python modules loaded\n",
      "Anatomist started.\n"
     ]
    }
   ],
   "source": [
    "import json\n",
    "import numpy as np\n",
    "import os\n",
    "\n",
    "import subprocess\n",
    "import glob\n",
    "from soma import aims\n",
    "\n",
    "from sulci.registration.spam import spam_register\n",
    "\n",
    "import anatomist.api as ana\n",
    "from soma.qt_gui.qtThread import QtThreadCall\n",
    "from soma.qt_gui.qt_backend import Qt\n",
    "\n",
    "from soma.aimsalgo import MorphoGreyLevel_S16\n",
    "\n",
    "# Global static variables\n",
    "_AIMS_BINARY_ONE = 32767\n",
    "_dilation = 1\n",
    "_threshold = 0\n",
    "\n",
    "# launching anatomist\n",
    "a = ana.Anatomist()"
   ]
  },
  {
   "cell_type": "code",
   "execution_count": 3,
   "metadata": {},
   "outputs": [],
   "source": [
    "def dilate(mask, radius=_dilation):\n",
    "    \"\"\"Makes a dilation radius _dilation, in mm\n",
    "    \"\"\"\n",
    "    arr = mask.np\n",
    "    # Binarization of mask\n",
    "    arr[arr < 1] = 0\n",
    "    arr[arr >= 1] = _AIMS_BINARY_ONE\n",
    "    # Dilates initial volume of 10 mm\n",
    "    morpho = MorphoGreyLevel_S16()\n",
    "    dilate = morpho.doDilation(mask, radius)\n",
    "    arr_dilate = dilate.np\n",
    "    arr_dilate[arr_dilate >= 1] = 1\n",
    "    return dilate"
   ]
  },
  {
   "cell_type": "code",
   "execution_count": 4,
   "metadata": {},
   "outputs": [
    {
     "data": {
      "text/plain": [
       "['/neurospin/dico/data/deep_folding/current/datasets/pclean/binarized_skeletons/L/Lbinarized_skeleton_hades.nii.gz',\n",
       " '/neurospin/dico/data/deep_folding/current/datasets/pclean/binarized_skeletons/L/Lbinarized_skeleton_sujet04.nii.gz',\n",
       " '/neurospin/dico/data/deep_folding/current/datasets/pclean/binarized_skeletons/L/Lbinarized_skeleton_icbm200T.nii.gz',\n",
       " '/neurospin/dico/data/deep_folding/current/datasets/pclean/binarized_skeletons/L/Lbinarized_skeleton_shiva.nii.gz',\n",
       " '/neurospin/dico/data/deep_folding/current/datasets/pclean/binarized_skeletons/L/Lbinarized_skeleton_hyperion.nii.gz',\n",
       " '/neurospin/dico/data/deep_folding/current/datasets/pclean/binarized_skeletons/L/Lbinarized_skeleton_icbm300T.nii.gz',\n",
       " '/neurospin/dico/data/deep_folding/current/datasets/pclean/binarized_skeletons/L/Lbinarized_skeleton_icbm100T.nii.gz',\n",
       " '/neurospin/dico/data/deep_folding/current/datasets/pclean/binarized_skeletons/L/Lbinarized_skeleton_s12590.nii.gz',\n",
       " '/neurospin/dico/data/deep_folding/current/datasets/pclean/binarized_skeletons/L/Lbinarized_skeleton_s12562.nii.gz',\n",
       " '/neurospin/dico/data/deep_folding/current/datasets/pclean/binarized_skeletons/L/Lbinarized_skeleton_vayu.nii.gz',\n",
       " '/neurospin/dico/data/deep_folding/current/datasets/pclean/binarized_skeletons/L/Lbinarized_skeleton_s12636.nii.gz',\n",
       " '/neurospin/dico/data/deep_folding/current/datasets/pclean/binarized_skeletons/L/Lbinarized_skeleton_s12401.nii.gz',\n",
       " '/neurospin/dico/data/deep_folding/current/datasets/pclean/binarized_skeletons/L/Lbinarized_skeleton_s12158.nii.gz',\n",
       " '/neurospin/dico/data/deep_folding/current/datasets/pclean/binarized_skeletons/L/Lbinarized_skeleton_s12300.nii.gz',\n",
       " '/neurospin/dico/data/deep_folding/current/datasets/pclean/binarized_skeletons/L/Lbinarized_skeleton_jason.nii.gz',\n",
       " '/neurospin/dico/data/deep_folding/current/datasets/pclean/binarized_skeletons/L/Lbinarized_skeleton_sujet03.nii.gz',\n",
       " '/neurospin/dico/data/deep_folding/current/datasets/pclean/binarized_skeletons/L/Lbinarized_skeleton_icbm310T.nii.gz',\n",
       " '/neurospin/dico/data/deep_folding/current/datasets/pclean/binarized_skeletons/L/Lbinarized_skeleton_zeus.nii.gz',\n",
       " '/neurospin/dico/data/deep_folding/current/datasets/pclean/binarized_skeletons/L/Lbinarized_skeleton_s12539.nii.gz',\n",
       " '/neurospin/dico/data/deep_folding/current/datasets/pclean/binarized_skeletons/L/Lbinarized_skeleton_caca.nii.gz',\n",
       " '/neurospin/dico/data/deep_folding/current/datasets/pclean/binarized_skeletons/L/Lbinarized_skeleton_sujet01.nii.gz',\n",
       " '/neurospin/dico/data/deep_folding/current/datasets/pclean/binarized_skeletons/L/Lbinarized_skeleton_sujet10.nii.gz',\n",
       " '/neurospin/dico/data/deep_folding/current/datasets/pclean/binarized_skeletons/L/Lbinarized_skeleton_athena.nii.gz',\n",
       " '/neurospin/dico/data/deep_folding/current/datasets/pclean/binarized_skeletons/L/Lbinarized_skeleton_beflo.nii.gz',\n",
       " '/neurospin/dico/data/deep_folding/current/datasets/pclean/binarized_skeletons/L/Lbinarized_skeleton_demeter.nii.gz',\n",
       " '/neurospin/dico/data/deep_folding/current/datasets/pclean/binarized_skeletons/L/Lbinarized_skeleton_jah2.nii.gz',\n",
       " '/neurospin/dico/data/deep_folding/current/datasets/pclean/binarized_skeletons/L/Lbinarized_skeleton_jupiter.nii.gz',\n",
       " '/neurospin/dico/data/deep_folding/current/datasets/pclean/binarized_skeletons/L/Lbinarized_skeleton_s12258.nii.gz',\n",
       " '/neurospin/dico/data/deep_folding/current/datasets/pclean/binarized_skeletons/L/Lbinarized_skeleton_s12431.nii.gz',\n",
       " '/neurospin/dico/data/deep_folding/current/datasets/pclean/binarized_skeletons/L/Lbinarized_skeleton_atlas.nii.gz',\n",
       " '/neurospin/dico/data/deep_folding/current/datasets/pclean/binarized_skeletons/L/Lbinarized_skeleton_sujet12.nii.gz',\n",
       " '/neurospin/dico/data/deep_folding/current/datasets/pclean/binarized_skeletons/L/Lbinarized_skeleton_ra.nii.gz',\n",
       " '/neurospin/dico/data/deep_folding/current/datasets/pclean/binarized_skeletons/L/Lbinarized_skeleton_cronos.nii.gz',\n",
       " '/neurospin/dico/data/deep_folding/current/datasets/pclean/binarized_skeletons/L/Lbinarized_skeleton_s12826.nii.gz',\n",
       " '/neurospin/dico/data/deep_folding/current/datasets/pclean/binarized_skeletons/L/Lbinarized_skeleton_s12508.nii.gz',\n",
       " '/neurospin/dico/data/deep_folding/current/datasets/pclean/binarized_skeletons/L/Lbinarized_skeleton_icbm201T.nii.gz',\n",
       " '/neurospin/dico/data/deep_folding/current/datasets/pclean/binarized_skeletons/L/Lbinarized_skeleton_vishnu.nii.gz',\n",
       " '/neurospin/dico/data/deep_folding/current/datasets/pclean/binarized_skeletons/L/Lbinarized_skeleton_neptune.nii.gz',\n",
       " '/neurospin/dico/data/deep_folding/current/datasets/pclean/binarized_skeletons/L/Lbinarized_skeleton_icbm320T.nii.gz',\n",
       " '/neurospin/dico/data/deep_folding/current/datasets/pclean/binarized_skeletons/L/Lbinarized_skeleton_s12635.nii.gz',\n",
       " '/neurospin/dico/data/deep_folding/current/datasets/pclean/binarized_skeletons/L/Lbinarized_skeleton_s12919.nii.gz',\n",
       " '/neurospin/dico/data/deep_folding/current/datasets/pclean/binarized_skeletons/L/Lbinarized_skeleton_moon.nii.gz',\n",
       " '/neurospin/dico/data/deep_folding/current/datasets/pclean/binarized_skeletons/L/Lbinarized_skeleton_s12277.nii.gz',\n",
       " '/neurospin/dico/data/deep_folding/current/datasets/pclean/binarized_skeletons/L/Lbinarized_skeleton_isis.nii.gz',\n",
       " '/neurospin/dico/data/deep_folding/current/datasets/pclean/binarized_skeletons/L/Lbinarized_skeleton_eros.nii.gz',\n",
       " '/neurospin/dico/data/deep_folding/current/datasets/pclean/binarized_skeletons/L/Lbinarized_skeleton_sujet06.nii.gz',\n",
       " '/neurospin/dico/data/deep_folding/current/datasets/pclean/binarized_skeletons/L/Lbinarized_skeleton_osiris.nii.gz',\n",
       " '/neurospin/dico/data/deep_folding/current/datasets/pclean/binarized_skeletons/L/Lbinarized_skeleton_sujet09.nii.gz',\n",
       " '/neurospin/dico/data/deep_folding/current/datasets/pclean/binarized_skeletons/L/Lbinarized_skeleton_s12532.nii.gz',\n",
       " '/neurospin/dico/data/deep_folding/current/datasets/pclean/binarized_skeletons/L/Lbinarized_skeleton_icbm125T.nii.gz',\n",
       " '/neurospin/dico/data/deep_folding/current/datasets/pclean/binarized_skeletons/L/Lbinarized_skeleton_s12913.nii.gz',\n",
       " '/neurospin/dico/data/deep_folding/current/datasets/pclean/binarized_skeletons/L/Lbinarized_skeleton_anubis.nii.gz',\n",
       " '/neurospin/dico/data/deep_folding/current/datasets/pclean/binarized_skeletons/L/Lbinarized_skeleton_sujet02.nii.gz',\n",
       " '/neurospin/dico/data/deep_folding/current/datasets/pclean/binarized_skeletons/L/Lbinarized_skeleton_ammon.nii.gz',\n",
       " '/neurospin/dico/data/deep_folding/current/datasets/pclean/binarized_skeletons/L/Lbinarized_skeleton_poseidon.nii.gz',\n",
       " '/neurospin/dico/data/deep_folding/current/datasets/pclean/binarized_skeletons/L/Lbinarized_skeleton_sujet07.nii.gz',\n",
       " '/neurospin/dico/data/deep_folding/current/datasets/pclean/binarized_skeletons/L/Lbinarized_skeleton_sujet11.nii.gz',\n",
       " '/neurospin/dico/data/deep_folding/current/datasets/pclean/binarized_skeletons/L/Lbinarized_skeleton_s12898.nii.gz',\n",
       " '/neurospin/dico/data/deep_folding/current/datasets/pclean/binarized_skeletons/L/Lbinarized_skeleton_s12920.nii.gz',\n",
       " '/neurospin/dico/data/deep_folding/current/datasets/pclean/binarized_skeletons/L/Lbinarized_skeleton_horus.nii.gz',\n",
       " '/neurospin/dico/data/deep_folding/current/datasets/pclean/binarized_skeletons/L/Lbinarized_skeleton_sujet05.nii.gz',\n",
       " '/neurospin/dico/data/deep_folding/current/datasets/pclean/binarized_skeletons/L/Lbinarized_skeleton_sujet08.nii.gz']"
      ]
     },
     "execution_count": 4,
     "metadata": {},
     "output_type": "execute_result"
    }
   ],
   "source": [
    "spam_file = '/neurospin/dico/data/deep_folding/current/mask/2mm/regions/L/Sc.Cal.-S.Li._left.nii.gz'\n",
    "skel_path = '/neurospin/dico/data/deep_folding/current/datasets/pclean/binarized_skeletons/L'\n",
    "skel_files = glob.glob(f'{skel_path}/*.nii.gz')\n",
    "skel_files"
   ]
  },
  {
   "cell_type": "code",
   "execution_count": 5,
   "metadata": {},
   "outputs": [
    {
     "name": "stdout",
     "output_type": "stream",
     "text": [
      "DILATION\n"
     ]
    }
   ],
   "source": [
    "mask_result = aims.read(spam_file)\n",
    "# Makes binarization and dilation on spam\n",
    "mask_result[mask_result.np <= _threshold] = 0\n",
    "mask_result.np[:] = dilate(mask_result).np\n",
    "\n",
    "# Reads initial spam volume\n",
    "spam_vol = aims.read(spam_file, dtype=\"Volume_FLOAT\")\n",
    "spam_vol.np[:] = spam_vol.np\n",
    "spam_vol.np[:] = spam_vol.np/61\n",
    "\n",
    "# aims.write(spam_vol, \"/tmp/spam.nii.gz\")"
   ]
  },
  {
   "cell_type": "code",
   "execution_count": 6,
   "metadata": {},
   "outputs": [
    {
     "data": {
      "text/plain": [
       "array([0, 1], dtype=int16)"
      ]
     },
     "execution_count": 6,
     "metadata": {},
     "output_type": "execute_result"
    }
   ],
   "source": [
    "np.unique(mask_result.np)"
   ]
  },
  {
   "cell_type": "code",
   "execution_count": 7,
   "metadata": {},
   "outputs": [
    {
     "data": {
      "text/plain": [
       "<soma.aims.Volume_FLOAT at 0x7e6e297a89d0>"
      ]
     },
     "execution_count": 7,
     "metadata": {},
     "output_type": "execute_result"
    }
   ],
   "source": [
    "spam_vol"
   ]
  },
  {
   "cell_type": "code",
   "execution_count": 6,
   "metadata": {},
   "outputs": [],
   "source": [
    "\n",
    "def realign(skel_f):\n",
    "    \"\"\"Realigns skeleton mask to spam\n",
    "    \n",
    "    skel_f is a file name of skeleton file\"\"\"\n",
    "    \n",
    "    # Reads spam and skeleton files\n",
    "\n",
    "    skel_data = aims.read(skel_f)\n",
    "    skel_data.np[:] = (skel_data.np > 0).astype(np.int16)\n",
    "\n",
    "    # Masks skeleton data with dilated spam\n",
    "    skel_data.np[mask_result.np <= 0] = 0\n",
    "    print(np.unique(skel_data.np))\n",
    "    aims.write(skel_data, \"/tmp/skel_before.nii.gz\")\n",
    "    \n",
    "    # Makes realignment\n",
    "    os.system(\"ls\")\n",
    "    os.system(\"AimsMIRegister -r /tmp/spam.nii.gz  -t /tmp/skel_before.nii.gz --dir /tmp/transform.trm\")\n",
    "    # print(out_tr.np)\n",
    "    \n",
    "    # Applies the realignment\n",
    "    os.system(\"AimsApplyTransform -i /tmp/skel_before.nii.gz -o /tmp/skel_realigned.nii.gz -m /tmp/transform.trm\")\n",
    "    \n",
    "    # loads realigned file:\n",
    "    after = aims.read(\"/tmp/skel_realigned.nii.gz\")\n",
    "    \n",
    "    return after"
   ]
  },
  {
   "cell_type": "code",
   "execution_count": 7,
   "metadata": {},
   "outputs": [],
   "source": [
    "# os.system(f\"AimsMIRegister -r /tmp/spam.nii.gz  -t /tmp/skel_before.nii.gz --dir /tmp/transform.trm\")"
   ]
  },
  {
   "cell_type": "code",
   "execution_count": 8,
   "metadata": {},
   "outputs": [
    {
     "data": {
      "text/plain": [
       "array([0.        , 0.01639344, 0.03278688, 0.04918033, 0.06557377,\n",
       "       0.08196721, 0.09836066, 0.1147541 , 0.13114753, 0.14754099,\n",
       "       0.16393442, 0.18032786, 0.19672132, 0.21311475, 0.22950819,\n",
       "       0.24590164, 0.26229507, 0.27868852, 0.29508197, 0.3114754 ,\n",
       "       0.32786885, 0.3442623 , 0.36065573, 0.37704918, 0.39344263,\n",
       "       0.40983605, 0.4262295 , 0.44262296, 0.45901638, 0.47540984,\n",
       "       0.4918033 , 0.5081967 , 0.52459013, 0.5409836 , 0.55737704],\n",
       "      dtype=float32)"
      ]
     },
     "execution_count": 8,
     "metadata": {},
     "output_type": "execute_result"
    }
   ],
   "source": [
    "np.unique(spam_vol.np)"
   ]
  },
  {
   "cell_type": "code",
   "execution_count": 9,
   "metadata": {},
   "outputs": [
    {
     "data": {
      "text/plain": [
       "array([0, 1], dtype=int16)"
      ]
     },
     "execution_count": 9,
     "metadata": {},
     "output_type": "execute_result"
    }
   ],
   "source": [
    "np.unique(mask_result.np)"
   ]
  },
  {
   "cell_type": "markdown",
   "metadata": {},
   "source": []
  },
  {
   "cell_type": "code",
   "execution_count": 10,
   "metadata": {},
   "outputs": [
    {
     "name": "stdout",
     "output_type": "stream",
     "text": [
      "[0 1]\n",
      "loop_realignment_with_crop.ipynb\n",
      "loop_realignment_with_crop_MI.ipynb\n",
      "skel_before.nii.gz\n",
      "skel_before.nii.gz.minf\n",
      "test_denis_realignment.ipynb\n",
      "test_different_alignments.ipynb\n",
      "test_realignment_with_crop.ipynb\n",
      "test_realignment_with_crop.py\n",
      "test_realignment_with_crop_MI.ipynb\n"
     ]
    },
    {
     "name": "stderr",
     "output_type": "stream",
     "text": [
      "/usr/lib/python3/dist-packages/scipy/__init__.py:146: UserWarning: A NumPy version >=1.17.3 and <1.25.0 is required for this version of SciPy (detected version 1.26.4\n",
      "  warnings.warn(f\"A NumPy version >={np_minversion} and <{np_maxversion}\"\n"
     ]
    },
    {
     "name": "stdout",
     "output_type": "stream",
     "text": [
      "objective function   : mutual information\n",
      "optimizer            : powell\n",
      "Reading channel -1 of reference image\n",
      "Reference Image       : /tmp/spam.nii.gz\n",
      "         Pyramid range: 0 - 0\n",
      "Test      Image       : /tmp/skel_before.nii.gz\n",
      "         Pyramid range: 0 - 0\n",
      "Number of Level       : 64\n",
      "Parzen Mask Size      : 5\n",
      "Error (Stop Criterion): 0.01\n",
      "Ref Threshold  ratio  : 0.05\n",
      "Test Threshold ratio  : 0.1\n",
      "initial parameter     : (0, 0, 0, 0, 0, 0)\n",
      "parameter variations  : (0, 0, 0, 0, 0, 0)\n",
      "Processing Plevel 0(0, 0, 0, 0, 0, 0)(1, 1, 0.596832, 1, 0.596832, 0.502595)\n",
      "40001090 ticks\n",
      "Niveau : 0 Popt (0.354706, 1.40921, -0.000793157, -0.0111871, 2.22417e-05, -2.01505e-05)\n",
      "Volume 0Popt (0.354706, 1.40921, -0.000793157, -0.0111871, 2.22417e-05, -2.01505e-05)\n",
      " -Tx 0.354706 -Ty 1.40921 -Tz -0.0111871 -Rx 2.22417e-05 -Ry -2.01505e-05 -Rz -0.000793157\n",
      "Direct FileName /tmp/transform.trm\n",
      "Inverse FileName /tmp/spam.nii_TO_skel_before.nii.trm\n"
     ]
    },
    {
     "name": "stderr",
     "output_type": "stream",
     "text": [
      "/usr/lib/python3/dist-packages/scipy/__init__.py:146: UserWarning: A NumPy version >=1.17.3 and <1.25.0 is required for this version of SciPy (detected version 1.26.4\n",
      "  warnings.warn(f\"A NumPy version >={np_minversion} and <{np_maxversion}\"\n"
     ]
    },
    {
     "name": "stdout",
     "output_type": "stream",
     "text": [
      "loading direct transformations\n",
      "Output dimensions: 96, 114, 96\n",
      "Output voxel size: 2, 2, 2 mm\n",
      "Resampling carto_volume of S16...   0   1   2   3   4   5   6   7   8   9  10  11  12  13  14  15  16  17  18  19  20  21  22  23  24  25  26  27  28  29  30  31  32  33  34  35  36  37  38  39  40  41  42  43  44  45  46  47  48  49  50  51  52  53  54  55  56  57  58  59  60  61  62  63  64  65  66  67  68  69  70  71  72  73  74  75  76  77  78  79  80  81  82  83  84  85  86  87  88  89  90  91  92  93  94  95  96  97  98  99 100 %\n",
      "[0 1]\n",
      "loop_realignment_with_crop.ipynb\n",
      "loop_realignment_with_crop_MI.ipynb\n",
      "skel_before.nii.gz\n",
      "skel_before.nii.gz.minf\n",
      "test_denis_realignment.ipynb\n",
      "test_different_alignments.ipynb\n",
      "test_realignment_with_crop.ipynb\n",
      "test_realignment_with_crop.py\n",
      "test_realignment_with_crop_MI.ipynb\n"
     ]
    },
    {
     "name": "stderr",
     "output_type": "stream",
     "text": [
      "/usr/lib/python3/dist-packages/scipy/__init__.py:146: UserWarning: A NumPy version >=1.17.3 and <1.25.0 is required for this version of SciPy (detected version 1.26.4\n",
      "  warnings.warn(f\"A NumPy version >={np_minversion} and <{np_maxversion}\"\n"
     ]
    },
    {
     "name": "stdout",
     "output_type": "stream",
     "text": [
      "objective function   : mutual information\n",
      "optimizer            : powell\n",
      "Reading channel -1 of reference image\n",
      "Reference Image       : /tmp/spam.nii.gz\n",
      "         Pyramid range: 0 - 0\n",
      "Test      Image       : /tmp/skel_before.nii.gz\n",
      "         Pyramid range: 0 - 0\n",
      "Number of Level       : 64\n",
      "Parzen Mask Size      : 5\n",
      "Error (Stop Criterion): 0.01\n",
      "Ref Threshold  ratio  : 0.05\n",
      "Test Threshold ratio  : 0.1\n",
      "initial parameter     : (0, 0, 0, 0, 0, 0)\n",
      "parameter variations  : (0, 0, 0, 0, 0, 0)\n",
      "Processing Plevel 0(0, 0, 0, 0, 0, 0)(1, 1, 0.596832, 1, 0.596832, 0.502595)\n"
     ]
    }
   ],
   "source": [
    "after_all = aims.Volume(mask_result.getSize(), 'S16')\n",
    "after_all.copyHeaderFrom(mask_result.header())\n",
    "list_after = []\n",
    "for skel_f in skel_files[:10]:\n",
    "    after = aims.Volume(mask_result.getSize(), 'S16')\n",
    "    after.copyHeaderFrom(mask_result.header())\n",
    "    after += realign(skel_f)\n",
    "    after_all += after\n",
    "    list_after.append(after)"
   ]
  },
  {
   "cell_type": "code",
   "execution_count": null,
   "metadata": {},
   "outputs": [
    {
     "data": {
      "text/plain": [
       "array([0, 1, 2, 3, 4, 5, 6], dtype=int16)"
      ]
     },
     "execution_count": 29,
     "metadata": {},
     "output_type": "execute_result"
    }
   ],
   "source": [
    "np.unique(after_all.np)"
   ]
  },
  {
   "cell_type": "code",
   "execution_count": null,
   "metadata": {},
   "outputs": [
    {
     "name": "stderr",
     "output_type": "stream",
     "text": [
      "observable 0x5dbf32cebe90(N9anatomist7AVolumeIsEE) could not be removed from observer 0x5dbf37d3e518 (N9anatomist8Fusion2DE)\n"
     ]
    },
    {
     "name": "stdout",
     "output_type": "stream",
     "text": [
      "Position : 126, 146.496, 107.777, 0\n",
      "Position : 98, 182.755, 111.576, 0\n"
     ]
    }
   ],
   "source": [
    "# Visualization\n",
    "spam = a.loadObject(spam_file)\n",
    "spam.setPalette(\"Blues\")\n",
    "spam_after = a.toAObject(after_all)\n",
    "spam_after.setPalette(\"Reds\")\n",
    "w = a.createWindow('Sagittal')\n",
    "w.addObjects(spam)\n",
    "w.addObjects(spam_after)"
   ]
  },
  {
   "cell_type": "code",
   "execution_count": null,
   "metadata": {},
   "outputs": [
    {
     "name": "stdout",
     "output_type": "stream",
     "text": [
      "Multitexturing present\n",
      "function glActiveTexture found.\n",
      "function glClientActiveTexture found.\n",
      "function glBlendEquation found.\n",
      "function glTexImage3D found.\n",
      "function glMultiTexCoord3f found.\n",
      "function glBindFramebuffer found.\n",
      "function glBindRenderbuffer found.\n",
      "function glFramebufferTexture2D found.\n",
      "function glGenFramebuffers found.\n",
      "function glGenRenderbuffers found.\n",
      "function glFramebufferRenderbuffer found.\n",
      "function glRenderbufferStorage found.\n",
      "function glCheckFramebufferStatus found.\n",
      "function glDeleteRenderbuffers found.\n",
      "function glDeleteFramebuffers found.\n",
      "Number of texture units: 4\n",
      "function glUniform1f found.\n",
      "function glUniform1i found.\n",
      "function glUniform4fv found.\n",
      "function glGetUniformLocation found.\n",
      "function glMultTransposeMatrixf found.\n",
      "function glAttachShader found.\n",
      "function glDetachShader found.\n",
      "function glCompileShader found.\n",
      "function glCreateProgram found.\n",
      "function glCreateShader found.\n",
      "function glDeleteProgram found.\n",
      "function glDeleteShader found.\n",
      "function glGetProgramiv found.\n",
      "function glGetShaderiv found.\n",
      "function glLinkProgram found.\n",
      "function glShaderSource found.\n",
      "function glUseProgram found.\n",
      "GL_ARB_shadow present\n",
      "GL_SGIX_shadow present\n",
      "GL_SGIX_depth_texture extension present\n",
      "GL_ARB_depth_texture extension present\n",
      "GL_ARB_texture_cube_map extension present\n",
      "GL_EXT_texture_cube_map extension present\n",
      "Number of texture units: 4\n"
     ]
    },
    {
     "name": "stderr",
     "output_type": "stream",
     "text": [
      "observable 0x5dbf32cebe90(N9anatomist7AVolumeIsEE) could not be removed from observer 0x5dbf37d3e518 (N9anatomist8Fusion2DE)\n",
      "observable 0x5dbf32cebe90(N9anatomist7AVolumeIsEE) could not be removed from observer 0x5dbf37d3e518 (N9anatomist8Fusion2DE)\n",
      "observable 0x5dbf32cebe90(N9anatomist7AVolumeIsEE) could not be removed from observer 0x5dbf37d3e518 (N9anatomist8Fusion2DE)\n",
      "observable 0x5dbf32cebe90(N9anatomist7AVolumeIsEE) could not be removed from observer 0x5dbf37d3e518 (N9anatomist8Fusion2DE)\n",
      "observable 0x5dbf32cebe90(N9anatomist7AVolumeIsEE) could not be removed from observer 0x5dbf37d3e518 (N9anatomist8Fusion2DE)\n",
      "observable 0x5dbf32cebe90(N9anatomist7AVolumeIsEE) could not be removed from observer 0x5dbf37d3e518 (N9anatomist8Fusion2DE)\n",
      "observable 0x5dbf32cebe90(N9anatomist7AVolumeIsEE) could not be removed from observer 0x5dbf37d3e518 (N9anatomist8Fusion2DE)\n",
      "observable 0x5dbf32cebe90(N9anatomist7AVolumeIsEE) could not be removed from observer 0x5dbf37d3e518 (N9anatomist8Fusion2DE)\n",
      "observable 0x5dbf32cebe90(N9anatomist7AVolumeIsEE) could not be removed from observer 0x5dbf37d3e518 (N9anatomist8Fusion2DE)\n"
     ]
    },
    {
     "name": "stdout",
     "output_type": "stream",
     "text": [
      "Position : 96, 222.333, 178.333, 0\n",
      "Position : 124, 143.219, 107.471, 0\n",
      "Position : 124, 142.259, 106.832, 0\n"
     ]
    }
   ],
   "source": [
    "# spam = a.loadObject(spam_file)\n",
    "# spam.setPalette(\"Blues\")\n",
    "# list_after_a = [a.toAObject(after) for after in list_after]\n",
    "# for after in list_after_a:\n",
    "#     after.setPalette(\"RED-lfusion\")\n",
    "# w = a.createWindow('Sagittal')\n",
    "# w.addObjects(list_after_a)\n",
    "# w.addObjects(spam)"
   ]
  },
  {
   "cell_type": "code",
   "execution_count": null,
   "metadata": {},
   "outputs": [],
   "source": []
  }
 ],
 "metadata": {
  "kernelspec": {
   "display_name": "Python 3 (ipykernel)",
   "language": "python",
   "name": "python3"
  },
  "language_info": {
   "codemirror_mode": {
    "name": "ipython",
    "version": 3
   },
   "file_extension": ".py",
   "mimetype": "text/x-python",
   "name": "python",
   "nbconvert_exporter": "python",
   "pygments_lexer": "ipython3",
   "version": "3.10.12"
  }
 },
 "nbformat": 4,
 "nbformat_minor": 2
}
