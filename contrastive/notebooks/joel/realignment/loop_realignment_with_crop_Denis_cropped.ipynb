{
 "cells": [
  {
   "cell_type": "code",
   "execution_count": 35,
   "metadata": {},
   "outputs": [],
   "source": [
    "import json\n",
    "import numpy as np\n",
    "import os\n",
    "import subprocess\n",
    "import glob\n",
    "from soma import aims\n",
    "import scipy\n",
    "from scipy import ndimage\n",
    "import seaborn as sns\n",
    "import pandas as pd\n",
    "\n",
    "from sulci.registration.spam import spam_register\n",
    "\n",
    "import anatomist.api as ana\n",
    "from soma.qt_gui.qtThread import QtThreadCall\n",
    "from soma.qt_gui.qt_backend import Qt\n",
    "\n",
    "from soma.aimsalgo import MorphoGreyLevel_S16\n",
    "\n",
    "# Global static variables\n",
    "_AIMS_BINARY_ONE = 32767\n",
    "_dilation = 0\n",
    "_threshold = 3\n",
    "_dilation_final = 0\n",
    "_threshold_final = 3\n",
    "\n",
    "import matplotlib\n",
    "from matplotlib import pyplot as plt\n",
    "\n",
    "# launching anatomist\n",
    "%matplotlib qt5\n",
    "a = ana.Anatomist()\n",
    "\n",
    "\n"
   ]
  },
  {
   "cell_type": "code",
   "execution_count": 2,
   "metadata": {},
   "outputs": [],
   "source": [
    "x = [0,1,2]"
   ]
  },
  {
   "cell_type": "code",
   "execution_count": 3,
   "metadata": {},
   "outputs": [
    {
     "data": {
      "image/png": "[encoded data removed]",
      "text/plain": [
       "<Figure size 432x288 with 1 Axes>"
      ]
     },
     "metadata": {
      "needs_background": "light"
     },
     "output_type": "display_data"
    }
   ],
   "source": [
    "%matplotlib inline\n",
    "plt.scatter(x, x)\n",
    "plt.show()\n"
   ]
  },
  {
   "cell_type": "code",
   "execution_count": 4,
   "metadata": {},
   "outputs": [
    {
     "data": {
      "text/plain": [
       "<matplotlib.collections.PathCollection at 0x75421b318a00>"
      ]
     },
     "execution_count": 4,
     "metadata": {},
     "output_type": "execute_result"
    },
    {
     "data": {
      "image/png": "[encoded data removed]",
      "text/plain": [
       "<Figure size 432x288 with 1 Axes>"
      ]
     },
     "metadata": {
      "needs_background": "light"
     },
     "output_type": "display_data"
    }
   ],
   "source": [
    "plt.scatter(x, x)"
   ]
  },
  {
   "cell_type": "code",
   "execution_count": 5,
   "metadata": {},
   "outputs": [],
   "source": [
    "# plt.ioff()"
   ]
  },
  {
   "cell_type": "code",
   "execution_count": 6,
   "metadata": {},
   "outputs": [],
   "source": [
    "%matplotlib qt5"
   ]
  },
  {
   "cell_type": "code",
   "execution_count": 7,
   "metadata": {},
   "outputs": [
    {
     "name": "stdout",
     "output_type": "stream",
     "text": [
      "Multitexturing present\n",
      "function glActiveTexture found.\n",
      "function glClientActiveTexture found.\n",
      "function glBlendEquation found.\n",
      "function glTexImage3D found.\n",
      "function glMultiTexCoord3f found.\n",
      "function glBindFramebuffer found.\n",
      "function glBindRenderbuffer found.\n",
      "function glFramebufferTexture2D found.\n",
      "function glGenFramebuffers found.\n",
      "function glGenRenderbuffers found.\n",
      "function glFramebufferRenderbuffer found.\n",
      "function glRenderbufferStorage found.\n",
      "function glCheckFramebufferStatus found.\n",
      "function glDeleteRenderbuffers found.\n",
      "function glDeleteFramebuffers found.\n",
      "Number of texture units: 4\n",
      "function glUniform1f found.\n",
      "function glUniform1i found.\n",
      "function glUniform4fv found.\n",
      "function glGetUniformLocation found.\n",
      "function glMultTransposeMatrixf found.\n",
      "function glAttachShader found.\n",
      "function glDetachShader found.\n",
      "function glCompileShader found.\n",
      "function glCreateProgram found.\n",
      "function glCreateShader found.\n",
      "function glDeleteProgram found.\n",
      "function glDeleteShader found.\n",
      "function glGetProgramiv found.\n",
      "function glGetShaderiv found.\n",
      "function glLinkProgram found.\n",
      "function glShaderSource found.\n",
      "function glUseProgram found.\n",
      "GL_ARB_shadow present\n",
      "GL_SGIX_shadow present\n",
      "GL_SGIX_depth_texture extension present\n",
      "GL_ARB_depth_texture extension present\n",
      "GL_ARB_texture_cube_map extension present\n",
      "GL_EXT_texture_cube_map extension present\n",
      "Number of texture units: 4\n"
     ]
    }
   ],
   "source": [
    "w = a.createWindow('Sagittal')"
   ]
  },
  {
   "cell_type": "code",
   "execution_count": 8,
   "metadata": {},
   "outputs": [],
   "source": [
    "def dilate(mask, radius=_dilation):\n",
    "    \"\"\"Makes a dilation radius _dilation, in mm\n",
    "    \"\"\"\n",
    "    arr = mask.np\n",
    "    # Binarization of mask\n",
    "    arr[arr < 1] = 0\n",
    "    if radius > 0:\n",
    "        arr[arr >= 1] = _AIMS_BINARY_ONE\n",
    "        # Dilates initial volume of 10 mm\n",
    "        morpho = MorphoGreyLevel_S16()\n",
    "        dilate = morpho.doDilation(mask, radius)\n",
    "        arr_dilate = dilate.np\n",
    "        arr_dilate[arr_dilate >= 1] = 1\n",
    "        return dilate\n",
    "    else:\n",
    "        arr[arr >= 1] = 1\n",
    "        return mask"
   ]
  },
  {
   "cell_type": "code",
   "execution_count": 9,
   "metadata": {},
   "outputs": [
    {
     "data": {
      "text/plain": [
       "['/neurospin/dico/data/deep_folding/current/datasets/pclean/skeletons/2mm/L/Lresampled_skeleton_cronos.nii.gz',\n",
       " '/neurospin/dico/data/deep_folding/current/datasets/pclean/skeletons/2mm/L/Lresampled_skeleton_sujet05.nii.gz',\n",
       " '/neurospin/dico/data/deep_folding/current/datasets/pclean/skeletons/2mm/L/Lresampled_skeleton_s12401.nii.gz',\n",
       " '/neurospin/dico/data/deep_folding/current/datasets/pclean/skeletons/2mm/L/Lresampled_skeleton_sujet11.nii.gz',\n",
       " '/neurospin/dico/data/deep_folding/current/datasets/pclean/skeletons/2mm/L/Lresampled_skeleton_jason.nii.gz']"
      ]
     },
     "execution_count": 9,
     "metadata": {},
     "output_type": "execute_result"
    }
   ],
   "source": [
    "spam_file = '/neurospin/dico/data/deep_folding/current/mask/2mm/regions/L/Sc.Cal.-S.Li._left.nii.gz'\n",
    "skel_path = '/neurospin/dico/data/deep_folding/current/datasets/pclean/skeletons/2mm/L'\n",
    "skel_files = glob.glob(f'{skel_path}/*.nii.gz')\n",
    "skel_files[:5]"
   ]
  },
  {
   "cell_type": "code",
   "execution_count": 10,
   "metadata": {},
   "outputs": [],
   "source": [
    "# Reads initial spam volume\n",
    "spam_vol = aims.read(spam_file, dtype=\"Volume_FLOAT\")"
   ]
  },
  {
   "cell_type": "code",
   "execution_count": 11,
   "metadata": {},
   "outputs": [
    {
     "name": "stdout",
     "output_type": "stream",
     "text": [
      "[ 0.  1.  2.  3.  4.  5.  6.  7.  8.  9. 10. 11. 12. 13. 14. 15. 16. 17.\n",
      " 18. 19. 20. 21. 22. 23. 24. 25. 26. 27. 28. 29. 30. 31. 32. 33. 34.]\n"
     ]
    }
   ],
   "source": [
    "print(np.unique(spam_vol.np))"
   ]
  },
  {
   "cell_type": "code",
   "execution_count": 12,
   "metadata": {},
   "outputs": [],
   "source": [
    "def compute_bbox_mask(arr):\n",
    "\n",
    "    # Gets location of bounding box as slices\n",
    "    objects_in_image = ndimage.find_objects(arr)\n",
    "    print(f\"ndimage.find_objects(arr) = {objects_in_image}\")\n",
    "    if not objects_in_image:\n",
    "        raise ValueError(\"There are only 0s in array!!!\")\n",
    "\n",
    "    loc = objects_in_image[0]\n",
    "    bbmin = []\n",
    "    bbmax = []\n",
    "\n",
    "    for slicing in loc:\n",
    "        bbmin.append(slicing.start)\n",
    "        bbmax.append(slicing.stop)\n",
    "\n",
    "    return np.array(bbmin), np.array(bbmax)"
   ]
  },
  {
   "cell_type": "code",
   "execution_count": 13,
   "metadata": {},
   "outputs": [],
   "source": [
    "def do_masking_dilation(spam_vol, skel_vol, dilation, threshold, do_binarization):\n",
    "   \n",
    "    spam_vol = aims.Volume_FLOAT(spam_vol)\n",
    "    skel_vol = aims.Volume_S16(skel_vol)\n",
    "    \n",
    "    # Do binarization for registration\n",
    "    if do_binarization:\n",
    "        skel_vol.np[:] = (skel_vol.np > 0).astype(np.int16)\n",
    "\n",
    "    # Makes binarization and dilation on spam\n",
    "    mask_result = aims.Volume(spam_vol.getSize(), 'S16')\n",
    "    mask_result.copyHeaderFrom(spam_vol.header())\n",
    "    mask_result.np[:] = spam_vol.np\n",
    "    \n",
    "    # # Filter mask with Gaussian filter\n",
    "    # arr_filter = scipy.ndimage.gaussian_filter(\n",
    "    #     mask_result.np.astype(float),\n",
    "    #     sigma=0.5,\n",
    "    #     order=0,\n",
    "    #     output=None,\n",
    "    #     mode='reflect',\n",
    "    #     truncate=4.0)\n",
    "    # mask_result.np[:] = (arr_filter > 0.001).astype(int)\n",
    "    \n",
    "    # Threshold mask\n",
    "    print(\"before threshold\", np.unique(mask_result.np, return_counts=True)) \n",
    "    mask_result.np[mask_result.np <= threshold] = 0.\n",
    "    \n",
    "    # Dilates mask\n",
    "    mask_result.np[:] = dilate(mask_result, dilation).np\n",
    "    print(\"after threshold and dilation\", np.unique(mask_result.np, return_counts=True))\n",
    "    \n",
    "    # Do the actual masking\n",
    "    skel_vol.np[mask_result.np <= 0] = 0\n",
    "    \n",
    "    return skel_vol, mask_result"
   ]
  },
  {
   "cell_type": "code",
   "execution_count": 14,
   "metadata": {},
   "outputs": [],
   "source": [
    "def realign(spam_vol: aims.Volume_FLOAT, skel_vol: aims.Volume_S16):\n",
    "    \"\"\"Realigns skeleton mask to spam\n",
    "    \n",
    "    skel_f is a file name of skeleton file\"\"\"\n",
    "    \n",
    "    spam_vol = aims.Volume_FLOAT(spam_vol)\n",
    "    skel_vol = aims.Volume_S16(skel_vol)\n",
    "    \n",
    "    # Masks with first dilation and threshold\n",
    "    skel_vol_before, _ = do_masking_dilation(spam_vol, skel_vol, _dilation, _threshold, True)\n",
    "    aims.write(skel_vol_before, \"/tmp/skel_before.nii.gz\")\n",
    "    print(np.unique(spam_vol.np))\n",
    "    \n",
    "    # Makes realignment\n",
    "    out_tr = spam_register(spam_vol/np.max(spam_vol.np),\n",
    "                        skel_vol_before,\n",
    "                        do_mask=False,\n",
    "                        R_angle_var=np.pi / 8,\n",
    "                        t_var=10.,\n",
    "                        verbose=False,\n",
    "                        in_log=False,\n",
    "                        calibrate_distrib=30)\n",
    "    aims.write(out_tr, '/tmp/transform.trm')\n",
    "    print(out_tr.np)\n",
    "    \n",
    "    # Masks with final dilation and threshold\n",
    "    skel_vol, spam_vol = do_masking_dilation(spam_vol, skel_vol, _dilation_final, _threshold_final, True)\n",
    "    aims.write(skel_vol, \"/tmp/skel_final_before.nii.gz\")\n",
    "    aims.write(spam_vol, \"/tmp/spam_final_before.nii.gz\")\n",
    "    \n",
    "    # Applies the realignment\n",
    "    subprocess.check_call(f\"AimsApplyTransform -i /tmp/skel_final_before.nii.gz -o /tmp/skel_final_realigned.nii.gz -m /tmp/transform.trm -t 0\", shell=True)\n",
    "    subprocess.check_call(f\"AimsApplyTransform -i /tmp/spam_final_before.nii.gz -o /tmp/spam_final_realigned.nii.gz -m /tmp/transform.trm\", shell=True)\n",
    "    \n",
    "    # loads realigned file:\n",
    "    before = aims.read(\"/tmp/skel_final_before.nii.gz\")\n",
    "    after = aims.read(\"/tmp/skel_final_realigned.nii.gz\")\n",
    "    spam_after = aims.read(\"/tmp/spam_final_realigned.nii.gz\")\n",
    "    \n",
    "    return before, after, spam_after"
   ]
  },
  {
   "cell_type": "code",
   "execution_count": 15,
   "metadata": {},
   "outputs": [
    {
     "name": "stdout",
     "output_type": "stream",
     "text": [
      "before threshold (array([ 0,  1,  2,  3,  4,  5,  6,  7,  8,  9, 10, 11, 12, 13, 14, 15, 16,\n",
      "       17, 18, 19, 20, 21, 22, 23, 24, 25, 26, 27, 28, 29, 30, 31, 32, 33,\n",
      "       34], dtype=int16), array([1044188,    1621,     878,     566,     428,     366,     300,\n",
      "           287,     257,     218,     183,     201,     169,     156,\n",
      "           149,     123,      95,      91,      89,      52,      45,\n",
      "            30,      32,      15,      18,      14,      13,       9,\n",
      "             9,       6,       6,       4,       2,       2,       2]))\n",
      "after threshold and dilation (array([0, 1], dtype=int16), array([1047253,    3371]))\n",
      "[ 0.  1.  2.  3.  4.  5.  6.  7.  8.  9. 10. 11. 12. 13. 14. 15. 16. 17.\n",
      " 18. 19. 20. 21. 22. 23. 24. 25. 26. 27. 28. 29. 30. 31. 32. 33. 34.]\n",
      "[[ 1.0000000e+00 -1.0863185e-07 -2.4360156e-07  4.5776367e-05]\n",
      " [ 9.1103786e-08  9.9748814e-01 -7.0833713e-02  7.9454041e+00]\n",
      " [ 2.5068448e-07  7.0833713e-02  9.9748814e-01 -1.1313751e+01]\n",
      " [ 0.0000000e+00  0.0000000e+00  0.0000000e+00  1.0000000e+00]]\n",
      "before threshold (array([ 0,  1,  2,  3,  4,  5,  6,  7,  8,  9, 10, 11, 12, 13, 14, 15, 16,\n",
      "       17, 18, 19, 20, 21, 22, 23, 24, 25, 26, 27, 28, 29, 30, 31, 32, 33,\n",
      "       34], dtype=int16), array([1044188,    1621,     878,     566,     428,     366,     300,\n",
      "           287,     257,     218,     183,     201,     169,     156,\n",
      "           149,     123,      95,      91,      89,      52,      45,\n",
      "            30,      32,      15,      18,      14,      13,       9,\n",
      "             9,       6,       6,       4,       2,       2,       2]))\n",
      "after threshold and dilation (array([0, 1], dtype=int16), array([1047253,    3371]))\n"
     ]
    },
    {
     "name": "stderr",
     "output_type": "stream",
     "text": [
      "/usr/lib/python3/dist-packages/scipy/__init__.py:146: UserWarning: A NumPy version >=1.17.3 and <1.25.0 is required for this version of SciPy (detected version 1.26.4\n",
      "  warnings.warn(f\"A NumPy version >={np_minversion} and <{np_maxversion}\"\n"
     ]
    },
    {
     "name": "stdout",
     "output_type": "stream",
     "text": [
      "loading direct transformations\n",
      "Output dimensions: 96, 114, 96\n",
      "Output voxel size: 2, 2, 2 mm\n",
      "Resampling carto_volume of S16...   0   1   2   3   4   5   6   7   8   9  10  11  12  13  14  15  16  17  18  19  20  21  22  23  24  25  26  27  28  29  30  31  32  33  34  35  36  37  38  39  40  41  42  43  44  45  46  47  48  49  50  51  52  53  54  55  56  57  58  59  60  61  62  63  64  65  66  67  68  69  70  71  72  73  74  75  76  77  78  79  80  81  82  83  84  85  86  87  88  89  90  91  92  93  94  95  96  97  98  99 100 %\n"
     ]
    },
    {
     "name": "stderr",
     "output_type": "stream",
     "text": [
      "/usr/lib/python3/dist-packages/scipy/__init__.py:146: UserWarning: A NumPy version >=1.17.3 and <1.25.0 is required for this version of SciPy (detected version 1.26.4\n",
      "  warnings.warn(f\"A NumPy version >={np_minversion} and <{np_maxversion}\"\n"
     ]
    },
    {
     "name": "stdout",
     "output_type": "stream",
     "text": [
      "loading direct transformations\n",
      "Output dimensions: 96, 114, 96\n",
      "Output voxel size: 2, 2, 2 mm\n",
      "Resampling carto_volume of S16...   0   1   2   3   4   5   6   7   8   9  10  11  12  13  14  15  16  17  18  19  20  21  22  23  24  25  26  27  28  29  30  31  32  33  34  35  36  37  38  39  40  41  42  43  44  45  46  47  48  49  50  51  52  53  54  55  56  57  58  59  60  61  62  63  64  65  66  67  68  69  70  71  72  73  74  75  76  77  78  79  80  81  82  83  84  85  86  87  88  89  90  91  92  93  94  95  96  97  98  99 100 %\n",
      "ndimage.find_objects(arr) = [(slice(46, 64, None), slice(68, 101, None), slice(48, 69, None), slice(0, 1, None))]\n",
      "before threshold (array([ 0,  1,  2,  3,  4,  5,  6,  7,  8,  9, 10, 11, 12, 13, 14, 15, 16,\n",
      "       17, 18, 19, 20, 21, 22, 23, 24, 25, 26, 27, 28, 29, 30, 31, 32, 33,\n",
      "       34], dtype=int16), array([1044188,    1621,     878,     566,     428,     366,     300,\n",
      "           287,     257,     218,     183,     201,     169,     156,\n",
      "           149,     123,      95,      91,      89,      52,      45,\n",
      "            30,      32,      15,      18,      14,      13,       9,\n",
      "             9,       6,       6,       4,       2,       2,       2]))\n",
      "after threshold and dilation (array([0, 1], dtype=int16), array([1047253,    3371]))\n",
      "[ 0.  1.  2.  3.  4.  5.  6.  7.  8.  9. 10. 11. 12. 13. 14. 15. 16. 17.\n",
      " 18. 19. 20. 21. 22. 23. 24. 25. 26. 27. 28. 29. 30. 31. 32. 33. 34.]\n",
      "[[ 9.9041516e-01  1.3809772e-01  2.6060874e-03 -2.1886505e+01]\n",
      " [-1.3801146e-01  9.8868823e-01  5.8723200e-02  1.0116653e+01]\n",
      " [ 5.5329320e-03 -5.8520015e-02  9.9827093e-01  9.3541412e+00]\n",
      " [ 0.0000000e+00  0.0000000e+00  0.0000000e+00  1.0000000e+00]]\n",
      "before threshold (array([ 0,  1,  2,  3,  4,  5,  6,  7,  8,  9, 10, 11, 12, 13, 14, 15, 16,\n",
      "       17, 18, 19, 20, 21, 22, 23, 24, 25, 26, 27, 28, 29, 30, 31, 32, 33,\n",
      "       34], dtype=int16), array([1044188,    1621,     878,     566,     428,     366,     300,\n",
      "           287,     257,     218,     183,     201,     169,     156,\n",
      "           149,     123,      95,      91,      89,      52,      45,\n",
      "            30,      32,      15,      18,      14,      13,       9,\n",
      "             9,       6,       6,       4,       2,       2,       2]))\n",
      "after threshold and dilation (array([0, 1], dtype=int16), array([1047253,    3371]))\n"
     ]
    },
    {
     "name": "stderr",
     "output_type": "stream",
     "text": [
      "/usr/lib/python3/dist-packages/scipy/__init__.py:146: UserWarning: A NumPy version >=1.17.3 and <1.25.0 is required for this version of SciPy (detected version 1.26.4\n",
      "  warnings.warn(f\"A NumPy version >={np_minversion} and <{np_maxversion}\"\n"
     ]
    },
    {
     "name": "stdout",
     "output_type": "stream",
     "text": [
      "loading direct transformations\n",
      "Output dimensions: 96, 114, 96\n",
      "Output voxel size: 2, 2, 2 mm\n",
      "Resampling carto_volume of S16...   0   1   2   3   4   5   6   7   8   9  10  11  12  13  14  15  16  17  18  19  20  21  22  23  24  25  26  27  28  29  30  31  32  33  34  35  36  37  38  39  40  41  42  43  44  45  46  47  48  49  50  51  52  53  54  55  56  57  58  59  60  61  62  63  64  65  66  67  68  69  70  71  72  73  74  75  76  77  78  79  80  81  82  83  84  85  86  87  88  89  90  91  92  93  94  95  96  97  98  99 100 %\n"
     ]
    },
    {
     "name": "stderr",
     "output_type": "stream",
     "text": [
      "/usr/lib/python3/dist-packages/scipy/__init__.py:146: UserWarning: A NumPy version >=1.17.3 and <1.25.0 is required for this version of SciPy (detected version 1.26.4\n",
      "  warnings.warn(f\"A NumPy version >={np_minversion} and <{np_maxversion}\"\n"
     ]
    },
    {
     "name": "stdout",
     "output_type": "stream",
     "text": [
      "loading direct transformations\n",
      "Output dimensions: 96, 114, 96\n",
      "Output voxel size: 2, 2, 2 mm\n",
      "Resampling carto_volume of S16...   0   1   2   3   4   5   6   7   8   9  10  11  12  13  14  15  16  17  18  19  20  21  22  23  24  25  26  27  28  29  30  31  32  33  34  35  36  37  38  39  40  41  42  43  44  45  46  47  48  49  50  51  52  53  54  55  56  57  58  59  60  61  62  63  64  65  66  67  68  69  70  71  72  73  74  75  76  77  78  79  80  81  82  83  84  85  86  87  88  89  90  91  92  93  94  95  96  97  98  99 100 %\n",
      "ndimage.find_objects(arr) = [(slice(48, 63, None), slice(68, 101, None), slice(47, 67, None), slice(0, 1, None))]\n",
      "before threshold (array([ 0,  1,  2,  3,  4,  5,  6,  7,  8,  9, 10, 11, 12, 13, 14, 15, 16,\n",
      "       17, 18, 19, 20, 21, 22, 23, 24, 25, 26, 27, 28, 29, 30, 31, 32, 33,\n",
      "       34], dtype=int16), array([1044188,    1621,     878,     566,     428,     366,     300,\n",
      "           287,     257,     218,     183,     201,     169,     156,\n",
      "           149,     123,      95,      91,      89,      52,      45,\n",
      "            30,      32,      15,      18,      14,      13,       9,\n",
      "             9,       6,       6,       4,       2,       2,       2]))\n",
      "after threshold and dilation (array([0, 1], dtype=int16), array([1047253,    3371]))\n",
      "[ 0.  1.  2.  3.  4.  5.  6.  7.  8.  9. 10. 11. 12. 13. 14. 15. 16. 17.\n",
      " 18. 19. 20. 21. 22. 23. 24. 25. 26. 27. 28. 29. 30. 31. 32. 33. 34.]\n",
      "[[ 1.0000000e+00 -2.1683611e-07 -1.7048757e-08  3.8146973e-05]\n",
      " [ 2.1683611e-07  1.0000000e+00 -2.1947392e-07  0.0000000e+00]\n",
      " [ 1.7048803e-08  2.1947392e-07  1.0000000e+00 -3.8146973e-05]\n",
      " [ 0.0000000e+00  0.0000000e+00  0.0000000e+00  1.0000000e+00]]\n",
      "before threshold (array([ 0,  1,  2,  3,  4,  5,  6,  7,  8,  9, 10, 11, 12, 13, 14, 15, 16,\n",
      "       17, 18, 19, 20, 21, 22, 23, 24, 25, 26, 27, 28, 29, 30, 31, 32, 33,\n",
      "       34], dtype=int16), array([1044188,    1621,     878,     566,     428,     366,     300,\n",
      "           287,     257,     218,     183,     201,     169,     156,\n",
      "           149,     123,      95,      91,      89,      52,      45,\n",
      "            30,      32,      15,      18,      14,      13,       9,\n",
      "             9,       6,       6,       4,       2,       2,       2]))\n",
      "after threshold and dilation (array([0, 1], dtype=int16), array([1047253,    3371]))\n"
     ]
    },
    {
     "name": "stderr",
     "output_type": "stream",
     "text": [
      "/usr/lib/python3/dist-packages/scipy/__init__.py:146: UserWarning: A NumPy version >=1.17.3 and <1.25.0 is required for this version of SciPy (detected version 1.26.4\n",
      "  warnings.warn(f\"A NumPy version >={np_minversion} and <{np_maxversion}\"\n"
     ]
    },
    {
     "name": "stdout",
     "output_type": "stream",
     "text": [
      "loading direct transformations\n",
      "Output dimensions: 96, 114, 96\n",
      "Output voxel size: 2, 2, 2 mm\n",
      "Resampling carto_volume of S16...   0   1   2   3   4   5   6   7   8   9  10  11  12  13  14  15  16  17  18  19  20  21  22  23  24  25  26  27  28  29  30  31  32  33  34  35  36  37  38  39  40  41  42  43  44  45  46  47  48  49  50  51  52  53  54  55  56  57  58  59  60  61  62  63  64  65  66  67  68  69  70  71  72  73  74  75  76  77  78  79  80  81  82  83  84  85  86  87  88  89  90  91  92  93  94  95  96  97  98  99 100 %\n"
     ]
    },
    {
     "name": "stderr",
     "output_type": "stream",
     "text": [
      "/usr/lib/python3/dist-packages/scipy/__init__.py:146: UserWarning: A NumPy version >=1.17.3 and <1.25.0 is required for this version of SciPy (detected version 1.26.4\n",
      "  warnings.warn(f\"A NumPy version >={np_minversion} and <{np_maxversion}\"\n"
     ]
    },
    {
     "name": "stdout",
     "output_type": "stream",
     "text": [
      "loading direct transformations\n",
      "Output dimensions: 96, 114, 96\n",
      "Output voxel size: 2, 2, 2 mm\n",
      "Resampling carto_volume of S16...   0   1   2   3   4   5   6   7   8   9  10  11  12  13  14  15  16  17  18  19  20  21  22  23  24  25  26  27  28  29  30  31  32  33  34  35  36  37  38  39  40  41  42  43  44  45  46  47  48  49  50  51  52  53  54  55  56  57  58  59  60  61  62  63  64  65  66  67  68  69  70  71  72  73  74  75  76  77  78  79  80  81  82  83  84  85  86  87  88  89  90  91  92  93  94  95  96  97  98  99 100 %\n",
      "ndimage.find_objects(arr) = [(slice(46, 64, None), slice(68, 101, None), slice(47, 68, None), slice(0, 1, None))]\n",
      "before threshold (array([ 0,  1,  2,  3,  4,  5,  6,  7,  8,  9, 10, 11, 12, 13, 14, 15, 16,\n",
      "       17, 18, 19, 20, 21, 22, 23, 24, 25, 26, 27, 28, 29, 30, 31, 32, 33,\n",
      "       34], dtype=int16), array([1044188,    1621,     878,     566,     428,     366,     300,\n",
      "           287,     257,     218,     183,     201,     169,     156,\n",
      "           149,     123,      95,      91,      89,      52,      45,\n",
      "            30,      32,      15,      18,      14,      13,       9,\n",
      "             9,       6,       6,       4,       2,       2,       2]))\n",
      "after threshold and dilation (array([0, 1], dtype=int16), array([1047253,    3371]))\n",
      "[ 0.  1.  2.  3.  4.  5.  6.  7.  8.  9. 10. 11. 12. 13. 14. 15. 16. 17.\n",
      " 18. 19. 20. 21. 22. 23. 24. 25. 26. 27. 28. 29. 30. 31. 32. 33. 34.]\n",
      "[[ 1.0000000e+00  3.0279423e-08  1.7134086e-11 -7.6293945e-06]\n",
      " [-3.0279423e-08  1.0000000e+00 -3.2531342e-11  0.0000000e+00]\n",
      " [-1.7134088e-11  3.2531339e-11  1.0000000e+00  0.0000000e+00]\n",
      " [ 0.0000000e+00  0.0000000e+00  0.0000000e+00  1.0000000e+00]]\n",
      "before threshold (array([ 0,  1,  2,  3,  4,  5,  6,  7,  8,  9, 10, 11, 12, 13, 14, 15, 16,\n",
      "       17, 18, 19, 20, 21, 22, 23, 24, 25, 26, 27, 28, 29, 30, 31, 32, 33,\n",
      "       34], dtype=int16), array([1044188,    1621,     878,     566,     428,     366,     300,\n",
      "           287,     257,     218,     183,     201,     169,     156,\n",
      "           149,     123,      95,      91,      89,      52,      45,\n",
      "            30,      32,      15,      18,      14,      13,       9,\n",
      "             9,       6,       6,       4,       2,       2,       2]))\n",
      "after threshold and dilation (array([0, 1], dtype=int16), array([1047253,    3371]))\n"
     ]
    },
    {
     "name": "stderr",
     "output_type": "stream",
     "text": [
      "/usr/lib/python3/dist-packages/scipy/__init__.py:146: UserWarning: A NumPy version >=1.17.3 and <1.25.0 is required for this version of SciPy (detected version 1.26.4\n",
      "  warnings.warn(f\"A NumPy version >={np_minversion} and <{np_maxversion}\"\n"
     ]
    },
    {
     "name": "stdout",
     "output_type": "stream",
     "text": [
      "loading direct transformations\n",
      "Output dimensions: 96, 114, 96\n",
      "Output voxel size: 2, 2, 2 mm\n",
      "Resampling carto_volume of S16...   0   1   2   3   4   5   6   7   8   9  10  11  12  13  14  15  16  17  18  19  20  21  22  23  24  25  26  27  28  29  30  31  32  33  34  35  36  37  38  39  40  41  42  43  44  45  46  47  48  49  50  51  52  53  54  55  56  57  58  59  60  61  62  63  64  65  66  67  68  69  70  71  72  73  74  75  76  77  78  79  80  81  82  83  84  85  86  87  88  89  90  91  92  93  94  95  96  97  98  99 100 %\n"
     ]
    },
    {
     "name": "stderr",
     "output_type": "stream",
     "text": [
      "/usr/lib/python3/dist-packages/scipy/__init__.py:146: UserWarning: A NumPy version >=1.17.3 and <1.25.0 is required for this version of SciPy (detected version 1.26.4\n",
      "  warnings.warn(f\"A NumPy version >={np_minversion} and <{np_maxversion}\"\n"
     ]
    },
    {
     "name": "stdout",
     "output_type": "stream",
     "text": [
      "loading direct transformations\n",
      "Output dimensions: 96, 114, 96\n",
      "Output voxel size: 2, 2, 2 mm\n",
      "Resampling carto_volume of S16...   0   1   2   3   4   5   6   7   8   9  10  11  12  13  14  15  16  17  18  19  20  21  22  23  24  25  26  27  28  29  30  31  32  33  34  35  36  37  38  39  40  41  42  43  44  45  46  47  48  49  50  51  52  53  54  55  56  57  58  59  60  61  62  63  64  65  66  67  68  69  70  71  72  73  74  75  76  77  78  79  80  81  82  83  84  85  86  87  88  89  90  91  92  93  94  95  96  97  98  99 100 %\n",
      "ndimage.find_objects(arr) = [(slice(46, 64, None), slice(68, 101, None), slice(47, 68, None), slice(0, 1, None))]\n",
      "before threshold (array([ 0,  1,  2,  3,  4,  5,  6,  7,  8,  9, 10, 11, 12, 13, 14, 15, 16,\n",
      "       17, 18, 19, 20, 21, 22, 23, 24, 25, 26, 27, 28, 29, 30, 31, 32, 33,\n",
      "       34], dtype=int16), array([1044188,    1621,     878,     566,     428,     366,     300,\n",
      "           287,     257,     218,     183,     201,     169,     156,\n",
      "           149,     123,      95,      91,      89,      52,      45,\n",
      "            30,      32,      15,      18,      14,      13,       9,\n",
      "             9,       6,       6,       4,       2,       2,       2]))\n",
      "after threshold and dilation (array([0, 1], dtype=int16), array([1047253,    3371]))\n",
      "[ 0.  1.  2.  3.  4.  5.  6.  7.  8.  9. 10. 11. 12. 13. 14. 15. 16. 17.\n",
      " 18. 19. 20. 21. 22. 23. 24. 25. 26. 27. 28. 29. 30. 31. 32. 33. 34.]\n",
      "[[ 1.0000000e+00 -1.8930788e-07 -4.3008423e-08  3.8146973e-05]\n",
      " [ 1.8930788e-07  1.0000000e+00  2.0937776e-08 -1.5258789e-05]\n",
      " [ 4.3008420e-08 -2.0937783e-08  1.0000000e+00  2.0000000e+00]\n",
      " [ 0.0000000e+00  0.0000000e+00  0.0000000e+00  1.0000000e+00]]\n",
      "before threshold (array([ 0,  1,  2,  3,  4,  5,  6,  7,  8,  9, 10, 11, 12, 13, 14, 15, 16,\n",
      "       17, 18, 19, 20, 21, 22, 23, 24, 25, 26, 27, 28, 29, 30, 31, 32, 33,\n",
      "       34], dtype=int16), array([1044188,    1621,     878,     566,     428,     366,     300,\n",
      "           287,     257,     218,     183,     201,     169,     156,\n",
      "           149,     123,      95,      91,      89,      52,      45,\n",
      "            30,      32,      15,      18,      14,      13,       9,\n",
      "             9,       6,       6,       4,       2,       2,       2]))\n",
      "after threshold and dilation (array([0, 1], dtype=int16), array([1047253,    3371]))\n"
     ]
    },
    {
     "name": "stderr",
     "output_type": "stream",
     "text": [
      "/usr/lib/python3/dist-packages/scipy/__init__.py:146: UserWarning: A NumPy version >=1.17.3 and <1.25.0 is required for this version of SciPy (detected version 1.26.4\n",
      "  warnings.warn(f\"A NumPy version >={np_minversion} and <{np_maxversion}\"\n"
     ]
    },
    {
     "name": "stdout",
     "output_type": "stream",
     "text": [
      "loading direct transformations\n",
      "Output dimensions: 96, 114, 96\n",
      "Output voxel size: 2, 2, 2 mm\n",
      "Resampling carto_volume of S16...   0   1   2   3   4   5   6   7   8   9  10  11  12  13  14  15  16  17  18  19  20  21  22  23  24  25  26  27  28  29  30  31  32  33  34  35  36  37  38  39  40  41  42  43  44  45  46  47  48  49  50  51  52  53  54  55  56  57  58  59  60  61  62  63  64  65  66  67  68  69  70  71  72  73  74  75  76  77  78  79  80  81  82  83  84  85  86  87  88  89  90  91  92  93  94  95  96  97  98  99 100 %\n"
     ]
    },
    {
     "name": "stderr",
     "output_type": "stream",
     "text": [
      "/usr/lib/python3/dist-packages/scipy/__init__.py:146: UserWarning: A NumPy version >=1.17.3 and <1.25.0 is required for this version of SciPy (detected version 1.26.4\n",
      "  warnings.warn(f\"A NumPy version >={np_minversion} and <{np_maxversion}\"\n"
     ]
    },
    {
     "name": "stdout",
     "output_type": "stream",
     "text": [
      "loading direct transformations\n",
      "Output dimensions: 96, 114, 96\n",
      "Output voxel size: 2, 2, 2 mm\n",
      "Resampling carto_volume of S16...   0   1   2   3   4   5   6   7   8   9  10  11  12  13  14  15  16  17  18  19  20  21  22  23  24  25  26  27  28  29  30  31  32  33  34  35  36  37  38  39  40  41  42  43  44  45  46  47  48  49  50  51  52  53  54  55  56  57  58  59  60  61  62  63  64  65  66  67  68  69  70  71  72  73  74  75  76  77  78  79  80  81  82  83  84  85  86  87  88  89  90  91  92  93  94  95  96  97  98  99 100 %\n",
      "ndimage.find_objects(arr) = [(slice(46, 64, None), slice(68, 101, None), slice(48, 69, None), slice(0, 1, None))]\n",
      "before threshold (array([ 0,  1,  2,  3,  4,  5,  6,  7,  8,  9, 10, 11, 12, 13, 14, 15, 16,\n",
      "       17, 18, 19, 20, 21, 22, 23, 24, 25, 26, 27, 28, 29, 30, 31, 32, 33,\n",
      "       34], dtype=int16), array([1044188,    1621,     878,     566,     428,     366,     300,\n",
      "           287,     257,     218,     183,     201,     169,     156,\n",
      "           149,     123,      95,      91,      89,      52,      45,\n",
      "            30,      32,      15,      18,      14,      13,       9,\n",
      "             9,       6,       6,       4,       2,       2,       2]))\n",
      "after threshold and dilation (array([0, 1], dtype=int16), array([1047253,    3371]))\n",
      "[ 0.  1.  2.  3.  4.  5.  6.  7.  8.  9. 10. 11. 12. 13. 14. 15. 16. 17.\n",
      " 18. 19. 20. 21. 22. 23. 24. 25. 26. 27. 28. 29. 30. 31. 32. 33. 34.]\n",
      "[[ 1.0000000e+00  2.2316057e-08 -6.5253301e-09  0.0000000e+00]\n",
      " [-2.2316057e-08  1.0000000e+00 -1.3759018e-11  0.0000000e+00]\n",
      " [ 6.5253301e-09  1.3759138e-11  1.0000000e+00  0.0000000e+00]\n",
      " [ 0.0000000e+00  0.0000000e+00  0.0000000e+00  1.0000000e+00]]\n",
      "before threshold (array([ 0,  1,  2,  3,  4,  5,  6,  7,  8,  9, 10, 11, 12, 13, 14, 15, 16,\n",
      "       17, 18, 19, 20, 21, 22, 23, 24, 25, 26, 27, 28, 29, 30, 31, 32, 33,\n",
      "       34], dtype=int16), array([1044188,    1621,     878,     566,     428,     366,     300,\n",
      "           287,     257,     218,     183,     201,     169,     156,\n",
      "           149,     123,      95,      91,      89,      52,      45,\n",
      "            30,      32,      15,      18,      14,      13,       9,\n",
      "             9,       6,       6,       4,       2,       2,       2]))\n",
      "after threshold and dilation (array([0, 1], dtype=int16), array([1047253,    3371]))\n"
     ]
    },
    {
     "name": "stderr",
     "output_type": "stream",
     "text": [
      "/usr/lib/python3/dist-packages/scipy/__init__.py:146: UserWarning: A NumPy version >=1.17.3 and <1.25.0 is required for this version of SciPy (detected version 1.26.4\n",
      "  warnings.warn(f\"A NumPy version >={np_minversion} and <{np_maxversion}\"\n"
     ]
    },
    {
     "name": "stdout",
     "output_type": "stream",
     "text": [
      "loading direct transformations\n",
      "Output dimensions: 96, 114, 96\n",
      "Output voxel size: 2, 2, 2 mm\n",
      "Resampling carto_volume of S16...   0   1   2   3   4   5   6   7   8   9  10  11  12  13  14  15  16  17  18  19  20  21  22  23  24  25  26  27  28  29  30  31  32  33  34  35  36  37  38  39  40  41  42  43  44  45  46  47  48  49  50  51  52  53  54  55  56  57  58  59  60  61  62  63  64  65  66  67  68  69  70  71  72  73  74  75  76  77  78  79  80  81  82  83  84  85  86  87  88  89  90  91  92  93  94  95  96  97  98  99 100 %\n"
     ]
    },
    {
     "name": "stderr",
     "output_type": "stream",
     "text": [
      "/usr/lib/python3/dist-packages/scipy/__init__.py:146: UserWarning: A NumPy version >=1.17.3 and <1.25.0 is required for this version of SciPy (detected version 1.26.4\n",
      "  warnings.warn(f\"A NumPy version >={np_minversion} and <{np_maxversion}\"\n"
     ]
    },
    {
     "name": "stdout",
     "output_type": "stream",
     "text": [
      "loading direct transformations\n",
      "Output dimensions: 96, 114, 96\n",
      "Output voxel size: 2, 2, 2 mm\n",
      "Resampling carto_volume of S16...   0   1   2   3   4   5   6   7   8   9  10  11  12  13  14  15  16  17  18  19  20  21  22  23  24  25  26  27  28  29  30  31  32  33  34  35  36  37  38  39  40  41  42  43  44  45  46  47  48  49  50  51  52  53  54  55  56  57  58  59  60  61  62  63  64  65  66  67  68  69  70  71  72  73  74  75  76  77  78  79  80  81  82  83  84  85  86  87  88  89  90  91  92  93  94  95  96  97  98  99 100 %\n",
      "ndimage.find_objects(arr) = [(slice(46, 64, None), slice(68, 101, None), slice(47, 68, None), slice(0, 1, None))]\n",
      "before threshold (array([ 0,  1,  2,  3,  4,  5,  6,  7,  8,  9, 10, 11, 12, 13, 14, 15, 16,\n",
      "       17, 18, 19, 20, 21, 22, 23, 24, 25, 26, 27, 28, 29, 30, 31, 32, 33,\n",
      "       34], dtype=int16), array([1044188,    1621,     878,     566,     428,     366,     300,\n",
      "           287,     257,     218,     183,     201,     169,     156,\n",
      "           149,     123,      95,      91,      89,      52,      45,\n",
      "            30,      32,      15,      18,      14,      13,       9,\n",
      "             9,       6,       6,       4,       2,       2,       2]))\n",
      "after threshold and dilation (array([0, 1], dtype=int16), array([1047253,    3371]))\n",
      "[ 0.  1.  2.  3.  4.  5.  6.  7.  8.  9. 10. 11. 12. 13. 14. 15. 16. 17.\n",
      " 18. 19. 20. 21. 22. 23. 24. 25. 26. 27. 28. 29. 30. 31. 32. 33. 34.]\n",
      "[[ 1.0000000e+00  2.8521595e-07 -8.9456711e-07  5.3405762e-05]\n",
      " [-1.6109901e-07  9.9073738e-01  1.3579205e-01 -1.2911926e+01]\n",
      " [ 9.2501108e-07 -1.3579205e-01  9.9073738e-01  2.3461357e+01]\n",
      " [ 0.0000000e+00  0.0000000e+00  0.0000000e+00  1.0000000e+00]]\n",
      "before threshold (array([ 0,  1,  2,  3,  4,  5,  6,  7,  8,  9, 10, 11, 12, 13, 14, 15, 16,\n",
      "       17, 18, 19, 20, 21, 22, 23, 24, 25, 26, 27, 28, 29, 30, 31, 32, 33,\n",
      "       34], dtype=int16), array([1044188,    1621,     878,     566,     428,     366,     300,\n",
      "           287,     257,     218,     183,     201,     169,     156,\n",
      "           149,     123,      95,      91,      89,      52,      45,\n",
      "            30,      32,      15,      18,      14,      13,       9,\n",
      "             9,       6,       6,       4,       2,       2,       2]))\n",
      "after threshold and dilation (array([0, 1], dtype=int16), array([1047253,    3371]))\n"
     ]
    },
    {
     "name": "stderr",
     "output_type": "stream",
     "text": [
      "/usr/lib/python3/dist-packages/scipy/__init__.py:146: UserWarning: A NumPy version >=1.17.3 and <1.25.0 is required for this version of SciPy (detected version 1.26.4\n",
      "  warnings.warn(f\"A NumPy version >={np_minversion} and <{np_maxversion}\"\n"
     ]
    },
    {
     "name": "stdout",
     "output_type": "stream",
     "text": [
      "loading direct transformations\n",
      "Output dimensions: 96, 114, 96\n",
      "Output voxel size: 2, 2, 2 mm\n",
      "Resampling carto_volume of S16...   0   1   2   3   4   5   6   7   8   9  10  11  12  13  14  15  16  17  18  19  20  21  22  23  24  25  26  27  28  29  30  31  32  33  34  35  36  37  38  39  40  41  42  43  44  45  46  47  48  49  50  51  52  53  54  55  56  57  58  59  60  61  62  63  64  65  66  67  68  69  70  71  72  73  74  75  76  77  78  79  80  81  82  83  84  85  86  87  88  89  90  91  92  93  94  95  96  97  98  99 100 %\n"
     ]
    },
    {
     "name": "stderr",
     "output_type": "stream",
     "text": [
      "/usr/lib/python3/dist-packages/scipy/__init__.py:146: UserWarning: A NumPy version >=1.17.3 and <1.25.0 is required for this version of SciPy (detected version 1.26.4\n",
      "  warnings.warn(f\"A NumPy version >={np_minversion} and <{np_maxversion}\"\n"
     ]
    },
    {
     "name": "stdout",
     "output_type": "stream",
     "text": [
      "loading direct transformations\n",
      "Output dimensions: 96, 114, 96\n",
      "Output voxel size: 2, 2, 2 mm\n",
      "Resampling carto_volume of S16...   0   1   2   3   4   5   6   7   8   9  10  11  12  13  14  15  16  17  18  19  20  21  22  23  24  25  26  27  28  29  30  31  32  33  34  35  36  37  38  39  40  41  42  43  44  45  46  47  48  49  50  51  52  53  54  55  56  57  58  59  60  61  62  63  64  65  66  67  68  69  70  71  72  73  74  75  76  77  78  79  80  81  82  83  84  85  86  87  88  89  90  91  92  93  94  95  96  97  98  99 100 %\n",
      "ndimage.find_objects(arr) = [(slice(47, 64, None), slice(69, 102, None), slice(46, 67, None), slice(0, 1, None))]\n",
      "before threshold (array([ 0,  1,  2,  3,  4,  5,  6,  7,  8,  9, 10, 11, 12, 13, 14, 15, 16,\n",
      "       17, 18, 19, 20, 21, 22, 23, 24, 25, 26, 27, 28, 29, 30, 31, 32, 33,\n",
      "       34], dtype=int16), array([1044188,    1621,     878,     566,     428,     366,     300,\n",
      "           287,     257,     218,     183,     201,     169,     156,\n",
      "           149,     123,      95,      91,      89,      52,      45,\n",
      "            30,      32,      15,      18,      14,      13,       9,\n",
      "             9,       6,       6,       4,       2,       2,       2]))\n",
      "after threshold and dilation (array([0, 1], dtype=int16), array([1047253,    3371]))\n",
      "[ 0.  1.  2.  3.  4.  5.  6.  7.  8.  9. 10. 11. 12. 13. 14. 15. 16. 17.\n",
      " 18. 19. 20. 21. 22. 23. 24. 25. 26. 27. 28. 29. 30. 31. 32. 33. 34.]\n",
      "[[ 1.0000000e+00  5.3081305e-08  2.3110174e-07 -3.0517578e-05]\n",
      " [-5.3081099e-08  1.0000000e+00 -8.9494216e-07  1.2207031e-04]\n",
      " [-2.3110178e-07  8.9494216e-07  1.0000000e+00 -1.1444092e-04]\n",
      " [ 0.0000000e+00  0.0000000e+00  0.0000000e+00  1.0000000e+00]]\n",
      "before threshold (array([ 0,  1,  2,  3,  4,  5,  6,  7,  8,  9, 10, 11, 12, 13, 14, 15, 16,\n",
      "       17, 18, 19, 20, 21, 22, 23, 24, 25, 26, 27, 28, 29, 30, 31, 32, 33,\n",
      "       34], dtype=int16), array([1044188,    1621,     878,     566,     428,     366,     300,\n",
      "           287,     257,     218,     183,     201,     169,     156,\n",
      "           149,     123,      95,      91,      89,      52,      45,\n",
      "            30,      32,      15,      18,      14,      13,       9,\n",
      "             9,       6,       6,       4,       2,       2,       2]))\n",
      "after threshold and dilation (array([0, 1], dtype=int16), array([1047253,    3371]))\n"
     ]
    },
    {
     "name": "stderr",
     "output_type": "stream",
     "text": [
      "/usr/lib/python3/dist-packages/scipy/__init__.py:146: UserWarning: A NumPy version >=1.17.3 and <1.25.0 is required for this version of SciPy (detected version 1.26.4\n",
      "  warnings.warn(f\"A NumPy version >={np_minversion} and <{np_maxversion}\"\n"
     ]
    },
    {
     "name": "stdout",
     "output_type": "stream",
     "text": [
      "loading direct transformations\n",
      "Output dimensions: 96, 114, 96\n",
      "Output voxel size: 2, 2, 2 mm\n",
      "Resampling carto_volume of S16...   0   1   2   3   4   5   6   7   8   9  10  11  12  13  14  15  16  17  18  19  20  21  22  23  24  25  26  27  28  29  30  31  32  33  34  35  36  37  38  39  40  41  42  43  44  45  46  47  48  49  50  51  52  53  54  55  56  57  58  59  60  61  62  63  64  65  66  67  68  69  70  71  72  73  74  75  76  77  78  79  80  81  82  83  84  85  86  87  88  89  90  91  92  93  94  95  96  97  98  99 100 %\n"
     ]
    },
    {
     "name": "stderr",
     "output_type": "stream",
     "text": [
      "/usr/lib/python3/dist-packages/scipy/__init__.py:146: UserWarning: A NumPy version >=1.17.3 and <1.25.0 is required for this version of SciPy (detected version 1.26.4\n",
      "  warnings.warn(f\"A NumPy version >={np_minversion} and <{np_maxversion}\"\n"
     ]
    },
    {
     "name": "stdout",
     "output_type": "stream",
     "text": [
      "loading direct transformations\n",
      "Output dimensions: 96, 114, 96\n",
      "Output voxel size: 2, 2, 2 mm\n",
      "Resampling carto_volume of S16...   0   1   2   3   4   5   6   7   8   9  10  11  12  13  14  15  16  17  18  19  20  21  22  23  24  25  26  27  28  29  30  31  32  33  34  35  36  37  38  39  40  41  42  43  44  45  46  47  48  49  50  51  52  53  54  55  56  57  58  59  60  61  62  63  64  65  66  67  68  69  70  71  72  73  74  75  76  77  78  79  80  81  82  83  84  85  86  87  88  89  90  91  92  93  94  95  96  97  98  99 100 %\n",
      "ndimage.find_objects(arr) = [(slice(46, 64, None), slice(68, 101, None), slice(47, 68, None), slice(0, 1, None))]\n",
      "before threshold (array([ 0,  1,  2,  3,  4,  5,  6,  7,  8,  9, 10, 11, 12, 13, 14, 15, 16,\n",
      "       17, 18, 19, 20, 21, 22, 23, 24, 25, 26, 27, 28, 29, 30, 31, 32, 33,\n",
      "       34], dtype=int16), array([1044188,    1621,     878,     566,     428,     366,     300,\n",
      "           287,     257,     218,     183,     201,     169,     156,\n",
      "           149,     123,      95,      91,      89,      52,      45,\n",
      "            30,      32,      15,      18,      14,      13,       9,\n",
      "             9,       6,       6,       4,       2,       2,       2]))\n",
      "after threshold and dilation (array([0, 1], dtype=int16), array([1047253,    3371]))\n",
      "[ 0.  1.  2.  3.  4.  5.  6.  7.  8.  9. 10. 11. 12. 13. 14. 15. 16. 17.\n",
      " 18. 19. 20. 21. 22. 23. 24. 25. 26. 27. 28. 29. 30. 31. 32. 33. 34.]\n",
      "[[ 1.0000000e+00  1.8670228e-08 -3.3804435e-11  0.0000000e+00]\n",
      " [-1.8670228e-08  1.0000000e+00 -1.7585869e-11  0.0000000e+00]\n",
      " [ 3.3804435e-11  1.7585870e-11  1.0000000e+00  0.0000000e+00]\n",
      " [ 0.0000000e+00  0.0000000e+00  0.0000000e+00  1.0000000e+00]]\n",
      "before threshold (array([ 0,  1,  2,  3,  4,  5,  6,  7,  8,  9, 10, 11, 12, 13, 14, 15, 16,\n",
      "       17, 18, 19, 20, 21, 22, 23, 24, 25, 26, 27, 28, 29, 30, 31, 32, 33,\n",
      "       34], dtype=int16), array([1044188,    1621,     878,     566,     428,     366,     300,\n",
      "           287,     257,     218,     183,     201,     169,     156,\n",
      "           149,     123,      95,      91,      89,      52,      45,\n",
      "            30,      32,      15,      18,      14,      13,       9,\n",
      "             9,       6,       6,       4,       2,       2,       2]))\n",
      "after threshold and dilation (array([0, 1], dtype=int16), array([1047253,    3371]))\n"
     ]
    },
    {
     "name": "stderr",
     "output_type": "stream",
     "text": [
      "/usr/lib/python3/dist-packages/scipy/__init__.py:146: UserWarning: A NumPy version >=1.17.3 and <1.25.0 is required for this version of SciPy (detected version 1.26.4\n",
      "  warnings.warn(f\"A NumPy version >={np_minversion} and <{np_maxversion}\"\n"
     ]
    },
    {
     "name": "stdout",
     "output_type": "stream",
     "text": [
      "loading direct transformations\n",
      "Output dimensions: 96, 114, 96\n",
      "Output voxel size: 2, 2, 2 mm\n",
      "Resampling carto_volume of S16...   0   1   2   3   4   5   6   7   8   9  10  11  12  13  14  15  16  17  18  19  20  21  22  23  24  25  26  27  28  29  30  31  32  33  34  35  36  37  38  39  40  41  42  43  44  45  46  47  48  49  50  51  52  53  54  55  56  57  58  59  60  61  62  63  64  65  66  67  68  69  70  71  72  73  74  75  76  77  78  79  80  81  82  83  84  85  86  87  88  89  90  91  92  93  94  95  96  97  98  99 100 %\n"
     ]
    },
    {
     "name": "stderr",
     "output_type": "stream",
     "text": [
      "/usr/lib/python3/dist-packages/scipy/__init__.py:146: UserWarning: A NumPy version >=1.17.3 and <1.25.0 is required for this version of SciPy (detected version 1.26.4\n",
      "  warnings.warn(f\"A NumPy version >={np_minversion} and <{np_maxversion}\"\n"
     ]
    },
    {
     "name": "stdout",
     "output_type": "stream",
     "text": [
      "loading direct transformations\n",
      "Output dimensions: 96, 114, 96\n",
      "Output voxel size: 2, 2, 2 mm\n",
      "Resampling carto_volume of S16...   0   1   2   3   4   5   6   7   8   9  10  11  12  13  14  15  16  17  18  19  20  21  22  23  24  25  26  27  28  29  30  31  32  33  34  35  36  37  38  39  40  41  42  43  44  45  46  47  48  49  50  51  52  53  54  55  56  57  58  59  60  61  62  63  64  65  66  67  68  69  70  71  72  73  74  75  76  77  78  79  80  81  82  83  84  85  86  87  88  89  90  91  92  93  94  95  96  97  98  99 100 %\n",
      "ndimage.find_objects(arr) = [(slice(46, 64, None), slice(68, 101, None), slice(47, 68, None), slice(0, 1, None))]\n",
      "before threshold (array([ 0,  1,  2,  3,  4,  5,  6,  7,  8,  9, 10, 11, 12, 13, 14, 15, 16,\n",
      "       17, 18, 19, 20, 21, 22, 23, 24, 25, 26, 27, 28, 29, 30, 31, 32, 33,\n",
      "       34], dtype=int16), array([1044188,    1621,     878,     566,     428,     366,     300,\n",
      "           287,     257,     218,     183,     201,     169,     156,\n",
      "           149,     123,      95,      91,      89,      52,      45,\n",
      "            30,      32,      15,      18,      14,      13,       9,\n",
      "             9,       6,       6,       4,       2,       2,       2]))\n",
      "after threshold and dilation (array([0, 1], dtype=int16), array([1047253,    3371]))\n",
      "[ 0.  1.  2.  3.  4.  5.  6.  7.  8.  9. 10. 11. 12. 13. 14. 15. 16. 17.\n",
      " 18. 19. 20. 21. 22. 23. 24. 25. 26. 27. 28. 29. 30. 31. 32. 33. 34.]\n",
      "[[ 1.0000000e+00 -1.5439812e-07  1.7559022e-07  0.0000000e+00]\n",
      " [ 1.5439819e-07  1.0000000e+00 -3.9705245e-07  3.0517578e-05]\n",
      " [-1.7559016e-07  3.9705247e-07  1.0000000e+00 -4.5776367e-05]\n",
      " [ 0.0000000e+00  0.0000000e+00  0.0000000e+00  1.0000000e+00]]\n",
      "before threshold (array([ 0,  1,  2,  3,  4,  5,  6,  7,  8,  9, 10, 11, 12, 13, 14, 15, 16,\n",
      "       17, 18, 19, 20, 21, 22, 23, 24, 25, 26, 27, 28, 29, 30, 31, 32, 33,\n",
      "       34], dtype=int16), array([1044188,    1621,     878,     566,     428,     366,     300,\n",
      "           287,     257,     218,     183,     201,     169,     156,\n",
      "           149,     123,      95,      91,      89,      52,      45,\n",
      "            30,      32,      15,      18,      14,      13,       9,\n",
      "             9,       6,       6,       4,       2,       2,       2]))\n",
      "after threshold and dilation (array([0, 1], dtype=int16), array([1047253,    3371]))\n"
     ]
    },
    {
     "name": "stderr",
     "output_type": "stream",
     "text": [
      "/usr/lib/python3/dist-packages/scipy/__init__.py:146: UserWarning: A NumPy version >=1.17.3 and <1.25.0 is required for this version of SciPy (detected version 1.26.4\n",
      "  warnings.warn(f\"A NumPy version >={np_minversion} and <{np_maxversion}\"\n"
     ]
    },
    {
     "name": "stdout",
     "output_type": "stream",
     "text": [
      "loading direct transformations\n",
      "Output dimensions: 96, 114, 96\n",
      "Output voxel size: 2, 2, 2 mm\n",
      "Resampling carto_volume of S16...   0   1   2   3   4   5   6   7   8   9  10  11  12  13  14  15  16  17  18  19  20  21  22  23  24  25  26  27  28  29  30  31  32  33  34  35  36  37  38  39  40  41  42  43  44  45  46  47  48  49  50  51  52  53  54  55  56  57  58  59  60  61  62  63  64  65  66  67  68  69  70  71  72  73  74  75  76  77  78  79  80  81  82  83  84  85  86  87  88  89  90  91  92  93  94  95  96  97  98  99 100 %\n"
     ]
    },
    {
     "name": "stderr",
     "output_type": "stream",
     "text": [
      "/usr/lib/python3/dist-packages/scipy/__init__.py:146: UserWarning: A NumPy version >=1.17.3 and <1.25.0 is required for this version of SciPy (detected version 1.26.4\n",
      "  warnings.warn(f\"A NumPy version >={np_minversion} and <{np_maxversion}\"\n"
     ]
    },
    {
     "name": "stdout",
     "output_type": "stream",
     "text": [
      "loading direct transformations\n",
      "Output dimensions: 96, 114, 96\n",
      "Output voxel size: 2, 2, 2 mm\n",
      "Resampling carto_volume of S16...   0   1   2   3   4   5   6   7   8   9  10  11  12  13  14  15  16  17  18  19  20  21  22  23  24  25  26  27  28  29  30  31  32  33  34  35  36  37  38  39  40  41  42  43  44  45  46  47  48  49  50  51  52  53  54  55  56  57  58  59  60  61  62  63  64  65  66  67  68  69  70  71  72  73  74  75  76  77  78  79  80  81  82  83  84  85  86  87  88  89  90  91  92  93  94  95  96  97  98  99 100 %\n",
      "ndimage.find_objects(arr) = [(slice(46, 64, None), slice(68, 101, None), slice(47, 68, None), slice(0, 1, None))]\n",
      "before threshold (array([ 0,  1,  2,  3,  4,  5,  6,  7,  8,  9, 10, 11, 12, 13, 14, 15, 16,\n",
      "       17, 18, 19, 20, 21, 22, 23, 24, 25, 26, 27, 28, 29, 30, 31, 32, 33,\n",
      "       34], dtype=int16), array([1044188,    1621,     878,     566,     428,     366,     300,\n",
      "           287,     257,     218,     183,     201,     169,     156,\n",
      "           149,     123,      95,      91,      89,      52,      45,\n",
      "            30,      32,      15,      18,      14,      13,       9,\n",
      "             9,       6,       6,       4,       2,       2,       2]))\n",
      "after threshold and dilation (array([0, 1], dtype=int16), array([1047253,    3371]))\n",
      "[ 0.  1.  2.  3.  4.  5.  6.  7.  8.  9. 10. 11. 12. 13. 14. 15. 16. 17.\n",
      " 18. 19. 20. 21. 22. 23. 24. 25. 26. 27. 28. 29. 30. 31. 32. 33. 34.]\n",
      "[[ 1.0000000e+00  2.0458943e-08  2.1660655e-08  0.0000000e+00]\n",
      " [-2.0458943e-08  1.0000000e+00  1.0335141e-09  0.0000000e+00]\n",
      " [-2.1660655e-08 -1.0335145e-09  1.0000000e+00  0.0000000e+00]\n",
      " [ 0.0000000e+00  0.0000000e+00  0.0000000e+00  1.0000000e+00]]\n",
      "before threshold (array([ 0,  1,  2,  3,  4,  5,  6,  7,  8,  9, 10, 11, 12, 13, 14, 15, 16,\n",
      "       17, 18, 19, 20, 21, 22, 23, 24, 25, 26, 27, 28, 29, 30, 31, 32, 33,\n",
      "       34], dtype=int16), array([1044188,    1621,     878,     566,     428,     366,     300,\n",
      "           287,     257,     218,     183,     201,     169,     156,\n",
      "           149,     123,      95,      91,      89,      52,      45,\n",
      "            30,      32,      15,      18,      14,      13,       9,\n",
      "             9,       6,       6,       4,       2,       2,       2]))\n",
      "after threshold and dilation (array([0, 1], dtype=int16), array([1047253,    3371]))\n"
     ]
    },
    {
     "name": "stderr",
     "output_type": "stream",
     "text": [
      "/usr/lib/python3/dist-packages/scipy/__init__.py:146: UserWarning: A NumPy version >=1.17.3 and <1.25.0 is required for this version of SciPy (detected version 1.26.4\n",
      "  warnings.warn(f\"A NumPy version >={np_minversion} and <{np_maxversion}\"\n"
     ]
    },
    {
     "name": "stdout",
     "output_type": "stream",
     "text": [
      "loading direct transformations\n",
      "Output dimensions: 96, 114, 96\n",
      "Output voxel size: 2, 2, 2 mm\n",
      "Resampling carto_volume of S16...   0   1   2   3   4   5   6   7   8   9  10  11  12  13  14  15  16  17  18  19  20  21  22  23  24  25  26  27  28  29  30  31  32  33  34  35  36  37  38  39  40  41  42  43  44  45  46  47  48  49  50  51  52  53  54  55  56  57  58  59  60  61  62  63  64  65  66  67  68  69  70  71  72  73  74  75  76  77  78  79  80  81  82  83  84  85  86  87  88  89  90  91  92  93  94  95  96  97  98  99 100 %\n"
     ]
    },
    {
     "name": "stderr",
     "output_type": "stream",
     "text": [
      "/usr/lib/python3/dist-packages/scipy/__init__.py:146: UserWarning: A NumPy version >=1.17.3 and <1.25.0 is required for this version of SciPy (detected version 1.26.4\n",
      "  warnings.warn(f\"A NumPy version >={np_minversion} and <{np_maxversion}\"\n"
     ]
    },
    {
     "name": "stdout",
     "output_type": "stream",
     "text": [
      "loading direct transformations\n",
      "Output dimensions: 96, 114, 96\n",
      "Output voxel size: 2, 2, 2 mm\n",
      "Resampling carto_volume of S16...   0   1   2   3   4   5   6   7   8   9  10  11  12  13  14  15  16  17  18  19  20  21  22  23  24  25  26  27  28  29  30  31  32  33  34  35  36  37  38  39  40  41  42  43  44  45  46  47  48  49  50  51  52  53  54  55  56  57  58  59  60  61  62  63  64  65  66  67  68  69  70  71  72  73  74  75  76  77  78  79  80  81  82  83  84  85  86  87  88  89  90  91  92  93  94  95  96  97  98  99 100 %\n",
      "ndimage.find_objects(arr) = [(slice(46, 64, None), slice(68, 101, None), slice(47, 68, None), slice(0, 1, None))]\n",
      "before threshold (array([ 0,  1,  2,  3,  4,  5,  6,  7,  8,  9, 10, 11, 12, 13, 14, 15, 16,\n",
      "       17, 18, 19, 20, 21, 22, 23, 24, 25, 26, 27, 28, 29, 30, 31, 32, 33,\n",
      "       34], dtype=int16), array([1044188,    1621,     878,     566,     428,     366,     300,\n",
      "           287,     257,     218,     183,     201,     169,     156,\n",
      "           149,     123,      95,      91,      89,      52,      45,\n",
      "            30,      32,      15,      18,      14,      13,       9,\n",
      "             9,       6,       6,       4,       2,       2,       2]))\n",
      "after threshold and dilation (array([0, 1], dtype=int16), array([1047253,    3371]))\n",
      "[ 0.  1.  2.  3.  4.  5.  6.  7.  8.  9. 10. 11. 12. 13. 14. 15. 16. 17.\n",
      " 18. 19. 20. 21. 22. 23. 24. 25. 26. 27. 28. 29. 30. 31. 32. 33. 34.]\n",
      "[[ 9.9529934e-01  9.6845537e-02 -3.3989025e-04 -1.5565514e+01]\n",
      " [-9.6794963e-02  9.9465334e-01 -3.5993274e-02  1.5339584e+01]\n",
      " [-3.1477148e-03  3.5856981e-02  9.9935198e-01 -5.3234787e+00]\n",
      " [ 0.0000000e+00  0.0000000e+00  0.0000000e+00  1.0000000e+00]]\n",
      "before threshold (array([ 0,  1,  2,  3,  4,  5,  6,  7,  8,  9, 10, 11, 12, 13, 14, 15, 16,\n",
      "       17, 18, 19, 20, 21, 22, 23, 24, 25, 26, 27, 28, 29, 30, 31, 32, 33,\n",
      "       34], dtype=int16), array([1044188,    1621,     878,     566,     428,     366,     300,\n",
      "           287,     257,     218,     183,     201,     169,     156,\n",
      "           149,     123,      95,      91,      89,      52,      45,\n",
      "            30,      32,      15,      18,      14,      13,       9,\n",
      "             9,       6,       6,       4,       2,       2,       2]))\n",
      "after threshold and dilation (array([0, 1], dtype=int16), array([1047253,    3371]))\n"
     ]
    },
    {
     "name": "stderr",
     "output_type": "stream",
     "text": [
      "/usr/lib/python3/dist-packages/scipy/__init__.py:146: UserWarning: A NumPy version >=1.17.3 and <1.25.0 is required for this version of SciPy (detected version 1.26.4\n",
      "  warnings.warn(f\"A NumPy version >={np_minversion} and <{np_maxversion}\"\n"
     ]
    },
    {
     "name": "stdout",
     "output_type": "stream",
     "text": [
      "loading direct transformations\n",
      "Output dimensions: 96, 114, 96\n",
      "Output voxel size: 2, 2, 2 mm\n",
      "Resampling carto_volume of S16...   0   1   2   3   4   5   6   7   8   9  10  11  12  13  14  15  16  17  18  19  20  21  22  23  24  25  26  27  28  29  30  31  32  33  34  35  36  37  38  39  40  41  42  43  44  45  46  47  48  49  50  51  52  53  54  55  56  57  58  59  60  61  62  63  64  65  66  67  68  69  70  71  72  73  74  75  76  77  78  79  80  81  82  83  84  85  86  87  88  89  90  91  92  93  94  95  96  97  98  99 100 %\n"
     ]
    },
    {
     "name": "stderr",
     "output_type": "stream",
     "text": [
      "/usr/lib/python3/dist-packages/scipy/__init__.py:146: UserWarning: A NumPy version >=1.17.3 and <1.25.0 is required for this version of SciPy (detected version 1.26.4\n",
      "  warnings.warn(f\"A NumPy version >={np_minversion} and <{np_maxversion}\"\n"
     ]
    },
    {
     "name": "stdout",
     "output_type": "stream",
     "text": [
      "loading direct transformations\n",
      "Output dimensions: 96, 114, 96\n",
      "Output voxel size: 2, 2, 2 mm\n",
      "Resampling carto_volume of S16...   0   1   2   3   4   5   6   7   8   9  10  11  12  13  14  15  16  17  18  19  20  21  22  23  24  25  26  27  28  29  30  31  32  33  34  35  36  37  38  39  40  41  42  43  44  45  46  47  48  49  50  51  52  53  54  55  56  57  58  59  60  61  62  63  64  65  66  67  68  69  70  71  72  73  74  75  76  77  78  79  80  81  82  83  84  85  86  87  88  89  90  91  92  93  94  95  96  97  98  99 100 %\n",
      "ndimage.find_objects(arr) = [(slice(48, 63, None), slice(68, 101, None), slice(48, 67, None), slice(0, 1, None))]\n",
      "before threshold (array([ 0,  1,  2,  3,  4,  5,  6,  7,  8,  9, 10, 11, 12, 13, 14, 15, 16,\n",
      "       17, 18, 19, 20, 21, 22, 23, 24, 25, 26, 27, 28, 29, 30, 31, 32, 33,\n",
      "       34], dtype=int16), array([1044188,    1621,     878,     566,     428,     366,     300,\n",
      "           287,     257,     218,     183,     201,     169,     156,\n",
      "           149,     123,      95,      91,      89,      52,      45,\n",
      "            30,      32,      15,      18,      14,      13,       9,\n",
      "             9,       6,       6,       4,       2,       2,       2]))\n",
      "after threshold and dilation (array([0, 1], dtype=int16), array([1047253,    3371]))\n",
      "[ 0.  1.  2.  3.  4.  5.  6.  7.  8.  9. 10. 11. 12. 13. 14. 15. 16. 17.\n",
      " 18. 19. 20. 21. 22. 23. 24. 25. 26. 27. 28. 29. 30. 31. 32. 33. 34.]\n",
      "[[ 1.0000000e+00  1.3493654e-08  2.1241620e-08  0.0000000e+00]\n",
      " [-1.3493654e-08  1.0000000e+00 -1.4150864e-11  0.0000000e+00]\n",
      " [-2.1241620e-08  1.4150562e-11  1.0000000e+00  0.0000000e+00]\n",
      " [ 0.0000000e+00  0.0000000e+00  0.0000000e+00  1.0000000e+00]]\n",
      "before threshold (array([ 0,  1,  2,  3,  4,  5,  6,  7,  8,  9, 10, 11, 12, 13, 14, 15, 16,\n",
      "       17, 18, 19, 20, 21, 22, 23, 24, 25, 26, 27, 28, 29, 30, 31, 32, 33,\n",
      "       34], dtype=int16), array([1044188,    1621,     878,     566,     428,     366,     300,\n",
      "           287,     257,     218,     183,     201,     169,     156,\n",
      "           149,     123,      95,      91,      89,      52,      45,\n",
      "            30,      32,      15,      18,      14,      13,       9,\n",
      "             9,       6,       6,       4,       2,       2,       2]))\n",
      "after threshold and dilation (array([0, 1], dtype=int16), array([1047253,    3371]))\n"
     ]
    },
    {
     "name": "stderr",
     "output_type": "stream",
     "text": [
      "/usr/lib/python3/dist-packages/scipy/__init__.py:146: UserWarning: A NumPy version >=1.17.3 and <1.25.0 is required for this version of SciPy (detected version 1.26.4\n",
      "  warnings.warn(f\"A NumPy version >={np_minversion} and <{np_maxversion}\"\n"
     ]
    },
    {
     "name": "stdout",
     "output_type": "stream",
     "text": [
      "loading direct transformations\n",
      "Output dimensions: 96, 114, 96\n",
      "Output voxel size: 2, 2, 2 mm\n",
      "Resampling carto_volume of S16...   0   1   2   3   4   5   6   7   8   9  10  11  12  13  14  15  16  17  18  19  20  21  22  23  24  25  26  27  28  29  30  31  32  33  34  35  36  37  38  39  40  41  42  43  44  45  46  47  48  49  50  51  52  53  54  55  56  57  58  59  60  61  62  63  64  65  66  67  68  69  70  71  72  73  74  75  76  77  78  79  80  81  82  83  84  85  86  87  88  89  90  91  92  93  94  95  96  97  98  99 100 %\n"
     ]
    },
    {
     "name": "stderr",
     "output_type": "stream",
     "text": [
      "/usr/lib/python3/dist-packages/scipy/__init__.py:146: UserWarning: A NumPy version >=1.17.3 and <1.25.0 is required for this version of SciPy (detected version 1.26.4\n",
      "  warnings.warn(f\"A NumPy version >={np_minversion} and <{np_maxversion}\"\n"
     ]
    },
    {
     "name": "stdout",
     "output_type": "stream",
     "text": [
      "loading direct transformations\n",
      "Output dimensions: 96, 114, 96\n",
      "Output voxel size: 2, 2, 2 mm\n",
      "Resampling carto_volume of S16...   0   1   2   3   4   5   6   7   8   9  10  11  12  13  14  15  16  17  18  19  20  21  22  23  24  25  26  27  28  29  30  31  32  33  34  35  36  37  38  39  40  41  42  43  44  45  46  47  48  49  50  51  52  53  54  55  56  57  58  59  60  61  62  63  64  65  66  67  68  69  70  71  72  73  74  75  76  77  78  79  80  81  82  83  84  85  86  87  88  89  90  91  92  93  94  95  96  97  98  99 100 %\n",
      "ndimage.find_objects(arr) = [(slice(46, 64, None), slice(68, 101, None), slice(47, 68, None), slice(0, 1, None))]\n",
      "before threshold (array([ 0,  1,  2,  3,  4,  5,  6,  7,  8,  9, 10, 11, 12, 13, 14, 15, 16,\n",
      "       17, 18, 19, 20, 21, 22, 23, 24, 25, 26, 27, 28, 29, 30, 31, 32, 33,\n",
      "       34], dtype=int16), array([1044188,    1621,     878,     566,     428,     366,     300,\n",
      "           287,     257,     218,     183,     201,     169,     156,\n",
      "           149,     123,      95,      91,      89,      52,      45,\n",
      "            30,      32,      15,      18,      14,      13,       9,\n",
      "             9,       6,       6,       4,       2,       2,       2]))\n",
      "after threshold and dilation (array([0, 1], dtype=int16), array([1047253,    3371]))\n",
      "[ 0.  1.  2.  3.  4.  5.  6.  7.  8.  9. 10. 11. 12. 13. 14. 15. 16. 17.\n",
      " 18. 19. 20. 21. 22. 23. 24. 25. 26. 27. 28. 29. 30. 31. 32. 33. 34.]\n",
      "[[ 1.0000000e+00 -6.0062348e-07 -9.1926804e-09  9.9182129e-05]\n",
      " [ 6.0062348e-07  1.0000000e+00  1.8027598e-09 -6.1035156e-05]\n",
      " [ 9.1926795e-09 -1.8027654e-09  1.0000000e+00  0.0000000e+00]\n",
      " [ 0.0000000e+00  0.0000000e+00  0.0000000e+00  1.0000000e+00]]\n",
      "before threshold (array([ 0,  1,  2,  3,  4,  5,  6,  7,  8,  9, 10, 11, 12, 13, 14, 15, 16,\n",
      "       17, 18, 19, 20, 21, 22, 23, 24, 25, 26, 27, 28, 29, 30, 31, 32, 33,\n",
      "       34], dtype=int16), array([1044188,    1621,     878,     566,     428,     366,     300,\n",
      "           287,     257,     218,     183,     201,     169,     156,\n",
      "           149,     123,      95,      91,      89,      52,      45,\n",
      "            30,      32,      15,      18,      14,      13,       9,\n",
      "             9,       6,       6,       4,       2,       2,       2]))\n",
      "after threshold and dilation (array([0, 1], dtype=int16), array([1047253,    3371]))\n"
     ]
    },
    {
     "name": "stderr",
     "output_type": "stream",
     "text": [
      "/usr/lib/python3/dist-packages/scipy/__init__.py:146: UserWarning: A NumPy version >=1.17.3 and <1.25.0 is required for this version of SciPy (detected version 1.26.4\n",
      "  warnings.warn(f\"A NumPy version >={np_minversion} and <{np_maxversion}\"\n"
     ]
    },
    {
     "name": "stdout",
     "output_type": "stream",
     "text": [
      "loading direct transformations\n",
      "Output dimensions: 96, 114, 96\n",
      "Output voxel size: 2, 2, 2 mm\n",
      "Resampling carto_volume of S16...   0   1   2   3   4   5   6   7   8   9  10  11  12  13  14  15  16  17  18  19  20  21  22  23  24  25  26  27  28  29  30  31  32  33  34  35  36  37  38  39  40  41  42  43  44  45  46  47  48  49  50  51  52  53  54  55  56  57  58  59  60  61  62  63  64  65  66  67  68  69  70  71  72  73  74  75  76  77  78  79  80  81  82  83  84  85  86  87  88  89  90  91  92  93  94  95  96  97  98  99 100 %\n"
     ]
    },
    {
     "name": "stderr",
     "output_type": "stream",
     "text": [
      "/usr/lib/python3/dist-packages/scipy/__init__.py:146: UserWarning: A NumPy version >=1.17.3 and <1.25.0 is required for this version of SciPy (detected version 1.26.4\n",
      "  warnings.warn(f\"A NumPy version >={np_minversion} and <{np_maxversion}\"\n"
     ]
    },
    {
     "name": "stdout",
     "output_type": "stream",
     "text": [
      "loading direct transformations\n",
      "Output dimensions: 96, 114, 96\n",
      "Output voxel size: 2, 2, 2 mm\n",
      "Resampling carto_volume of S16...   0   1   2   3   4   5   6   7   8   9  10  11  12  13  14  15  16  17  18  19  20  21  22  23  24  25  26  27  28  29  30  31  32  33  34  35  36  37  38  39  40  41  42  43  44  45  46  47  48  49  50  51  52  53  54  55  56  57  58  59  60  61  62  63  64  65  66  67  68  69  70  71  72  73  74  75  76  77  78  79  80  81  82  83  84  85  86  87  88  89  90  91  92  93  94  95  96  97  98  99 100 %\n",
      "ndimage.find_objects(arr) = [(slice(46, 64, None), slice(68, 101, None), slice(47, 68, None), slice(0, 1, None))]\n",
      "before threshold (array([ 0,  1,  2,  3,  4,  5,  6,  7,  8,  9, 10, 11, 12, 13, 14, 15, 16,\n",
      "       17, 18, 19, 20, 21, 22, 23, 24, 25, 26, 27, 28, 29, 30, 31, 32, 33,\n",
      "       34], dtype=int16), array([1044188,    1621,     878,     566,     428,     366,     300,\n",
      "           287,     257,     218,     183,     201,     169,     156,\n",
      "           149,     123,      95,      91,      89,      52,      45,\n",
      "            30,      32,      15,      18,      14,      13,       9,\n",
      "             9,       6,       6,       4,       2,       2,       2]))\n",
      "after threshold and dilation (array([0, 1], dtype=int16), array([1047253,    3371]))\n",
      "[ 0.  1.  2.  3.  4.  5.  6.  7.  8.  9. 10. 11. 12. 13. 14. 15. 16. 17.\n",
      " 18. 19. 20. 21. 22. 23. 24. 25. 26. 27. 28. 29. 30. 31. 32. 33. 34.]\n",
      "[[ 1.0000000e+00  2.7794101e-07 -1.9249613e-08 -4.5776367e-05]\n",
      " [-2.7848048e-07  9.9923831e-01 -3.9022304e-02  4.0332794e+00]\n",
      " [ 8.3890530e-09  3.9022304e-02  9.9923831e-01 -8.8637161e+00]\n",
      " [ 0.0000000e+00  0.0000000e+00  0.0000000e+00  1.0000000e+00]]\n",
      "before threshold (array([ 0,  1,  2,  3,  4,  5,  6,  7,  8,  9, 10, 11, 12, 13, 14, 15, 16,\n",
      "       17, 18, 19, 20, 21, 22, 23, 24, 25, 26, 27, 28, 29, 30, 31, 32, 33,\n",
      "       34], dtype=int16), array([1044188,    1621,     878,     566,     428,     366,     300,\n",
      "           287,     257,     218,     183,     201,     169,     156,\n",
      "           149,     123,      95,      91,      89,      52,      45,\n",
      "            30,      32,      15,      18,      14,      13,       9,\n",
      "             9,       6,       6,       4,       2,       2,       2]))\n",
      "after threshold and dilation (array([0, 1], dtype=int16), array([1047253,    3371]))\n"
     ]
    },
    {
     "name": "stderr",
     "output_type": "stream",
     "text": [
      "/usr/lib/python3/dist-packages/scipy/__init__.py:146: UserWarning: A NumPy version >=1.17.3 and <1.25.0 is required for this version of SciPy (detected version 1.26.4\n",
      "  warnings.warn(f\"A NumPy version >={np_minversion} and <{np_maxversion}\"\n"
     ]
    },
    {
     "name": "stdout",
     "output_type": "stream",
     "text": [
      "loading direct transformations\n",
      "Output dimensions: 96, 114, 96\n",
      "Output voxel size: 2, 2, 2 mm\n",
      "Resampling carto_volume of S16...   0   1   2   3   4   5   6   7   8   9  10  11  12  13  14  15  16  17  18  19  20  21  22  23  24  25  26  27  28  29  30  31  32  33  34  35  36  37  38  39  40  41  42  43  44  45  46  47  48  49  50  51  52  53  54  55  56  57  58  59  60  61  62  63  64  65  66  67  68  69  70  71  72  73  74  75  76  77  78  79  80  81  82  83  84  85  86  87  88  89  90  91  92  93  94  95  96  97  98  99 100 %\n"
     ]
    },
    {
     "name": "stderr",
     "output_type": "stream",
     "text": [
      "/usr/lib/python3/dist-packages/scipy/__init__.py:146: UserWarning: A NumPy version >=1.17.3 and <1.25.0 is required for this version of SciPy (detected version 1.26.4\n",
      "  warnings.warn(f\"A NumPy version >={np_minversion} and <{np_maxversion}\"\n"
     ]
    },
    {
     "name": "stdout",
     "output_type": "stream",
     "text": [
      "loading direct transformations\n",
      "Output dimensions: 96, 114, 96\n",
      "Output voxel size: 2, 2, 2 mm\n",
      "Resampling carto_volume of S16...   0   1   2   3   4   5   6   7   8   9  10  11  12  13  14  15  16  17  18  19  20  21  22  23  24  25  26  27  28  29  30  31  32  33  34  35  36  37  38  39  40  41  42  43  44  45  46  47  48  49  50  51  52  53  54  55  56  57  58  59  60  61  62  63  64  65  66  67  68  69  70  71  72  73  74  75  76  77  78  79  80  81  82  83  84  85  86  87  88  89  90  91  92  93  94  95  96  97  98  99 100 %\n",
      "ndimage.find_objects(arr) = [(slice(46, 63, None), slice(68, 101, None), slice(46, 67, None), slice(0, 1, None))]\n",
      "before threshold (array([ 0,  1,  2,  3,  4,  5,  6,  7,  8,  9, 10, 11, 12, 13, 14, 15, 16,\n",
      "       17, 18, 19, 20, 21, 22, 23, 24, 25, 26, 27, 28, 29, 30, 31, 32, 33,\n",
      "       34], dtype=int16), array([1044188,    1621,     878,     566,     428,     366,     300,\n",
      "           287,     257,     218,     183,     201,     169,     156,\n",
      "           149,     123,      95,      91,      89,      52,      45,\n",
      "            30,      32,      15,      18,      14,      13,       9,\n",
      "             9,       6,       6,       4,       2,       2,       2]))\n",
      "after threshold and dilation (array([0, 1], dtype=int16), array([1047253,    3371]))\n",
      "[ 0.  1.  2.  3.  4.  5.  6.  7.  8.  9. 10. 11. 12. 13. 14. 15. 16. 17.\n",
      " 18. 19. 20. 21. 22. 23. 24. 25. 26. 27. 28. 29. 30. 31. 32. 33. 34.]\n",
      "[[ 1.0000000e+00  7.4271758e-09  3.5532337e-11  0.0000000e+00]\n",
      " [-7.4271758e-09  1.0000000e+00  1.3164410e-07 -1.5258789e-05]\n",
      " [-3.5531366e-11 -1.3164410e-07  1.0000000e+00  2.2888184e-05]\n",
      " [ 0.0000000e+00  0.0000000e+00  0.0000000e+00  1.0000000e+00]]\n",
      "before threshold (array([ 0,  1,  2,  3,  4,  5,  6,  7,  8,  9, 10, 11, 12, 13, 14, 15, 16,\n",
      "       17, 18, 19, 20, 21, 22, 23, 24, 25, 26, 27, 28, 29, 30, 31, 32, 33,\n",
      "       34], dtype=int16), array([1044188,    1621,     878,     566,     428,     366,     300,\n",
      "           287,     257,     218,     183,     201,     169,     156,\n",
      "           149,     123,      95,      91,      89,      52,      45,\n",
      "            30,      32,      15,      18,      14,      13,       9,\n",
      "             9,       6,       6,       4,       2,       2,       2]))\n",
      "after threshold and dilation (array([0, 1], dtype=int16), array([1047253,    3371]))\n"
     ]
    },
    {
     "name": "stderr",
     "output_type": "stream",
     "text": [
      "/usr/lib/python3/dist-packages/scipy/__init__.py:146: UserWarning: A NumPy version >=1.17.3 and <1.25.0 is required for this version of SciPy (detected version 1.26.4\n",
      "  warnings.warn(f\"A NumPy version >={np_minversion} and <{np_maxversion}\"\n"
     ]
    },
    {
     "name": "stdout",
     "output_type": "stream",
     "text": [
      "loading direct transformations\n",
      "Output dimensions: 96, 114, 96\n",
      "Output voxel size: 2, 2, 2 mm\n",
      "Resampling carto_volume of S16...   0   1   2   3   4   5   6   7   8   9  10  11  12  13  14  15  16  17  18  19  20  21  22  23  24  25  26  27  28  29  30  31  32  33  34  35  36  37  38  39  40  41  42  43  44  45  46  47  48  49  50  51  52  53  54  55  56  57  58  59  60  61  62  63  64  65  66  67  68  69  70  71  72  73  74  75  76  77  78  79  80  81  82  83  84  85  86  87  88  89  90  91  92  93  94  95  96  97  98  99 100 %\n"
     ]
    },
    {
     "name": "stderr",
     "output_type": "stream",
     "text": [
      "/usr/lib/python3/dist-packages/scipy/__init__.py:146: UserWarning: A NumPy version >=1.17.3 and <1.25.0 is required for this version of SciPy (detected version 1.26.4\n",
      "  warnings.warn(f\"A NumPy version >={np_minversion} and <{np_maxversion}\"\n"
     ]
    },
    {
     "name": "stdout",
     "output_type": "stream",
     "text": [
      "loading direct transformations\n",
      "Output dimensions: 96, 114, 96\n",
      "Output voxel size: 2, 2, 2 mm\n",
      "Resampling carto_volume of S16...   0   1   2   3   4   5   6   7   8   9  10  11  12  13  14  15  16  17  18  19  20  21  22  23  24  25  26  27  28  29  30  31  32  33  34  35  36  37  38  39  40  41  42  43  44  45  46  47  48  49  50  51  52  53  54  55  56  57  58  59  60  61  62  63  64  65  66  67  68  69  70  71  72  73  74  75  76  77  78  79  80  81  82  83  84  85  86  87  88  89  90  91  92  93  94  95  96  97  98  99 100 %\n",
      "ndimage.find_objects(arr) = [(slice(46, 64, None), slice(68, 101, None), slice(47, 68, None), slice(0, 1, None))]\n",
      "before threshold (array([ 0,  1,  2,  3,  4,  5,  6,  7,  8,  9, 10, 11, 12, 13, 14, 15, 16,\n",
      "       17, 18, 19, 20, 21, 22, 23, 24, 25, 26, 27, 28, 29, 30, 31, 32, 33,\n",
      "       34], dtype=int16), array([1044188,    1621,     878,     566,     428,     366,     300,\n",
      "           287,     257,     218,     183,     201,     169,     156,\n",
      "           149,     123,      95,      91,      89,      52,      45,\n",
      "            30,      32,      15,      18,      14,      13,       9,\n",
      "             9,       6,       6,       4,       2,       2,       2]))\n",
      "after threshold and dilation (array([0, 1], dtype=int16), array([1047253,    3371]))\n",
      "[ 0.  1.  2.  3.  4.  5.  6.  7.  8.  9. 10. 11. 12. 13. 14. 15. 16. 17.\n",
      " 18. 19. 20. 21. 22. 23. 24. 25. 26. 27. 28. 29. 30. 31. 32. 33. 34.]\n",
      "[[ 1.0000000e+00  2.5894164e-07  3.4966408e-11 -4.5776367e-05]\n",
      " [-2.5894164e-07  1.0000000e+00 -2.4463617e-07  6.1035156e-05]\n",
      " [-3.5029698e-11  2.4463617e-07  1.0000000e+00 -3.8146973e-05]\n",
      " [ 0.0000000e+00  0.0000000e+00  0.0000000e+00  1.0000000e+00]]\n",
      "before threshold (array([ 0,  1,  2,  3,  4,  5,  6,  7,  8,  9, 10, 11, 12, 13, 14, 15, 16,\n",
      "       17, 18, 19, 20, 21, 22, 23, 24, 25, 26, 27, 28, 29, 30, 31, 32, 33,\n",
      "       34], dtype=int16), array([1044188,    1621,     878,     566,     428,     366,     300,\n",
      "           287,     257,     218,     183,     201,     169,     156,\n",
      "           149,     123,      95,      91,      89,      52,      45,\n",
      "            30,      32,      15,      18,      14,      13,       9,\n",
      "             9,       6,       6,       4,       2,       2,       2]))\n",
      "after threshold and dilation (array([0, 1], dtype=int16), array([1047253,    3371]))\n"
     ]
    },
    {
     "name": "stderr",
     "output_type": "stream",
     "text": [
      "/usr/lib/python3/dist-packages/scipy/__init__.py:146: UserWarning: A NumPy version >=1.17.3 and <1.25.0 is required for this version of SciPy (detected version 1.26.4\n",
      "  warnings.warn(f\"A NumPy version >={np_minversion} and <{np_maxversion}\"\n"
     ]
    },
    {
     "name": "stdout",
     "output_type": "stream",
     "text": [
      "loading direct transformations\n",
      "Output dimensions: 96, 114, 96\n",
      "Output voxel size: 2, 2, 2 mm\n",
      "Resampling carto_volume of S16...   0   1   2   3   4   5   6   7   8   9  10  11  12  13  14  15  16  17  18  19  20  21  22  23  24  25  26  27  28  29  30  31  32  33  34  35  36  37  38  39  40  41  42  43  44  45  46  47  48  49  50  51  52  53  54  55  56  57  58  59  60  61  62  63  64  65  66  67  68  69  70  71  72  73  74  75  76  77  78  79  80  81  82  83  84  85  86  87  88  89  90  91  92  93  94  95  96  97  98  99 100 %\n"
     ]
    },
    {
     "name": "stderr",
     "output_type": "stream",
     "text": [
      "/usr/lib/python3/dist-packages/scipy/__init__.py:146: UserWarning: A NumPy version >=1.17.3 and <1.25.0 is required for this version of SciPy (detected version 1.26.4\n",
      "  warnings.warn(f\"A NumPy version >={np_minversion} and <{np_maxversion}\"\n"
     ]
    },
    {
     "name": "stdout",
     "output_type": "stream",
     "text": [
      "loading direct transformations\n",
      "Output dimensions: 96, 114, 96\n",
      "Output voxel size: 2, 2, 2 mm\n",
      "Resampling carto_volume of S16...   0   1   2   3   4   5   6   7   8   9  10  11  12  13  14  15  16  17  18  19  20  21  22  23  24  25  26  27  28  29  30  31  32  33  34  35  36  37  38  39  40  41  42  43  44  45  46  47  48  49  50  51  52  53  54  55  56  57  58  59  60  61  62  63  64  65  66  67  68  69  70  71  72  73  74  75  76  77  78  79  80  81  82  83  84  85  86  87  88  89  90  91  92  93  94  95  96  97  98  99 100 %\n",
      "ndimage.find_objects(arr) = [(slice(46, 64, None), slice(68, 101, None), slice(47, 68, None), slice(0, 1, None))]\n",
      "before threshold (array([ 0,  1,  2,  3,  4,  5,  6,  7,  8,  9, 10, 11, 12, 13, 14, 15, 16,\n",
      "       17, 18, 19, 20, 21, 22, 23, 24, 25, 26, 27, 28, 29, 30, 31, 32, 33,\n",
      "       34], dtype=int16), array([1044188,    1621,     878,     566,     428,     366,     300,\n",
      "           287,     257,     218,     183,     201,     169,     156,\n",
      "           149,     123,      95,      91,      89,      52,      45,\n",
      "            30,      32,      15,      18,      14,      13,       9,\n",
      "             9,       6,       6,       4,       2,       2,       2]))\n",
      "after threshold and dilation (array([0, 1], dtype=int16), array([1047253,    3371]))\n",
      "[ 0.  1.  2.  3.  4.  5.  6.  7.  8.  9. 10. 11. 12. 13. 14. 15. 16. 17.\n",
      " 18. 19. 20. 21. 22. 23. 24. 25. 26. 27. 28. 29. 30. 31. 32. 33. 34.]\n",
      "[[ 1.00000000e+00 -2.58135515e-06 -1.01647696e-04  1.19552612e-02]\n",
      " [ 2.58135901e-06  1.00000000e+00  3.59321604e-08 -2.74658203e-04]\n",
      " [ 1.01647696e-04 -3.61945496e-08  1.00000000e+00  1.99785614e+00]\n",
      " [ 0.00000000e+00  0.00000000e+00  0.00000000e+00  1.00000000e+00]]\n",
      "before threshold (array([ 0,  1,  2,  3,  4,  5,  6,  7,  8,  9, 10, 11, 12, 13, 14, 15, 16,\n",
      "       17, 18, 19, 20, 21, 22, 23, 24, 25, 26, 27, 28, 29, 30, 31, 32, 33,\n",
      "       34], dtype=int16), array([1044188,    1621,     878,     566,     428,     366,     300,\n",
      "           287,     257,     218,     183,     201,     169,     156,\n",
      "           149,     123,      95,      91,      89,      52,      45,\n",
      "            30,      32,      15,      18,      14,      13,       9,\n",
      "             9,       6,       6,       4,       2,       2,       2]))\n",
      "after threshold and dilation (array([0, 1], dtype=int16), array([1047253,    3371]))\n"
     ]
    },
    {
     "name": "stderr",
     "output_type": "stream",
     "text": [
      "/usr/lib/python3/dist-packages/scipy/__init__.py:146: UserWarning: A NumPy version >=1.17.3 and <1.25.0 is required for this version of SciPy (detected version 1.26.4\n",
      "  warnings.warn(f\"A NumPy version >={np_minversion} and <{np_maxversion}\"\n"
     ]
    },
    {
     "name": "stdout",
     "output_type": "stream",
     "text": [
      "loading direct transformations\n",
      "Output dimensions: 96, 114, 96\n",
      "Output voxel size: 2, 2, 2 mm\n",
      "Resampling carto_volume of S16...   0   1   2   3   4   5   6   7   8   9  10  11  12  13  14  15  16  17  18  19  20  21  22  23  24  25  26  27  28  29  30  31  32  33  34  35  36  37  38  39  40  41  42  43  44  45  46  47  48  49  50  51  52  53  54  55  56  57  58  59  60  61  62  63  64  65  66  67  68  69  70  71  72  73  74  75  76  77  78  79  80  81  82  83  84  85  86  87  88  89  90  91  92  93  94  95  96  97  98  99 100 %\n"
     ]
    },
    {
     "name": "stderr",
     "output_type": "stream",
     "text": [
      "/usr/lib/python3/dist-packages/scipy/__init__.py:146: UserWarning: A NumPy version >=1.17.3 and <1.25.0 is required for this version of SciPy (detected version 1.26.4\n",
      "  warnings.warn(f\"A NumPy version >={np_minversion} and <{np_maxversion}\"\n"
     ]
    },
    {
     "name": "stdout",
     "output_type": "stream",
     "text": [
      "loading direct transformations\n",
      "Output dimensions: 96, 114, 96\n",
      "Output voxel size: 2, 2, 2 mm\n",
      "Resampling carto_volume of S16...   0   1   2   3   4   5   6   7   8   9  10  11  12  13  14  15  16  17  18  19  20  21  22  23  24  25  26  27  28  29  30  31  32  33  34  35  36  37  38  39  40  41  42  43  44  45  46  47  48  49  50  51  52  53  54  55  56  57  58  59  60  61  62  63  64  65  66  67  68  69  70  71  72  73  74  75  76  77  78  79  80  81  82  83  84  85  86  87  88  89  90  91  92  93  94  95  96  97  98  99 100 %\n",
      "ndimage.find_objects(arr) = [(slice(46, 64, None), slice(68, 101, None), slice(48, 69, None), slice(0, 1, None))]\n",
      "before threshold (array([ 0,  1,  2,  3,  4,  5,  6,  7,  8,  9, 10, 11, 12, 13, 14, 15, 16,\n",
      "       17, 18, 19, 20, 21, 22, 23, 24, 25, 26, 27, 28, 29, 30, 31, 32, 33,\n",
      "       34], dtype=int16), array([1044188,    1621,     878,     566,     428,     366,     300,\n",
      "           287,     257,     218,     183,     201,     169,     156,\n",
      "           149,     123,      95,      91,      89,      52,      45,\n",
      "            30,      32,      15,      18,      14,      13,       9,\n",
      "             9,       6,       6,       4,       2,       2,       2]))\n",
      "after threshold and dilation (array([0, 1], dtype=int16), array([1047253,    3371]))\n",
      "[ 0.  1.  2.  3.  4.  5.  6.  7.  8.  9. 10. 11. 12. 13. 14. 15. 16. 17.\n",
      " 18. 19. 20. 21. 22. 23. 24. 25. 26. 27. 28. 29. 30. 31. 32. 33. 34.]\n",
      "[[ 1.00000000e+00 -3.17271400e-07 -6.55875638e-08  6.10351562e-05]\n",
      " [ 3.22963302e-07  9.92245078e-01  1.24296814e-01 -1.19238892e+01]\n",
      " [ 2.56431143e-08 -1.24296814e-01  9.92245078e-01  2.14820404e+01]\n",
      " [ 0.00000000e+00  0.00000000e+00  0.00000000e+00  1.00000000e+00]]\n",
      "before threshold (array([ 0,  1,  2,  3,  4,  5,  6,  7,  8,  9, 10, 11, 12, 13, 14, 15, 16,\n",
      "       17, 18, 19, 20, 21, 22, 23, 24, 25, 26, 27, 28, 29, 30, 31, 32, 33,\n",
      "       34], dtype=int16), array([1044188,    1621,     878,     566,     428,     366,     300,\n",
      "           287,     257,     218,     183,     201,     169,     156,\n",
      "           149,     123,      95,      91,      89,      52,      45,\n",
      "            30,      32,      15,      18,      14,      13,       9,\n",
      "             9,       6,       6,       4,       2,       2,       2]))\n",
      "after threshold and dilation (array([0, 1], dtype=int16), array([1047253,    3371]))\n"
     ]
    },
    {
     "name": "stderr",
     "output_type": "stream",
     "text": [
      "/usr/lib/python3/dist-packages/scipy/__init__.py:146: UserWarning: A NumPy version >=1.17.3 and <1.25.0 is required for this version of SciPy (detected version 1.26.4\n",
      "  warnings.warn(f\"A NumPy version >={np_minversion} and <{np_maxversion}\"\n"
     ]
    },
    {
     "name": "stdout",
     "output_type": "stream",
     "text": [
      "loading direct transformations\n",
      "Output dimensions: 96, 114, 96\n",
      "Output voxel size: 2, 2, 2 mm\n",
      "Resampling carto_volume of S16...   0   1   2   3   4   5   6   7   8   9  10  11  12  13  14  15  16  17  18  19  20  21  22  23  24  25  26  27  28  29  30  31  32  33  34  35  36  37  38  39  40  41  42  43  44  45  46  47  48  49  50  51  52  53  54  55  56  57  58  59  60  61  62  63  64  65  66  67  68  69  70  71  72  73  74  75  76  77  78  79  80  81  82  83  84  85  86  87  88  89  90  91  92  93  94  95  96  97  98  99 100 %\n"
     ]
    },
    {
     "name": "stderr",
     "output_type": "stream",
     "text": [
      "/usr/lib/python3/dist-packages/scipy/__init__.py:146: UserWarning: A NumPy version >=1.17.3 and <1.25.0 is required for this version of SciPy (detected version 1.26.4\n",
      "  warnings.warn(f\"A NumPy version >={np_minversion} and <{np_maxversion}\"\n"
     ]
    },
    {
     "name": "stdout",
     "output_type": "stream",
     "text": [
      "loading direct transformations\n",
      "Output dimensions: 96, 114, 96\n",
      "Output voxel size: 2, 2, 2 mm\n",
      "Resampling carto_volume of S16...   0   1   2   3   4   5   6   7   8   9  10  11  12  13  14  15  16  17  18  19  20  21  22  23  24  25  26  27  28  29  30  31  32  33  34  35  36  37  38  39  40  41  42  43  44  45  46  47  48  49  50  51  52  53  54  55  56  57  58  59  60  61  62  63  64  65  66  67  68  69  70  71  72  73  74  75  76  77  78  79  80  81  82  83  84  85  86  87  88  89  90  91  92  93  94  95  96  97  98  99 100 %\n",
      "ndimage.find_objects(arr) = [(slice(46, 64, None), slice(69, 102, None), slice(46, 67, None), slice(0, 1, None))]\n",
      "before threshold (array([ 0,  1,  2,  3,  4,  5,  6,  7,  8,  9, 10, 11, 12, 13, 14, 15, 16,\n",
      "       17, 18, 19, 20, 21, 22, 23, 24, 25, 26, 27, 28, 29, 30, 31, 32, 33,\n",
      "       34], dtype=int16), array([1044188,    1621,     878,     566,     428,     366,     300,\n",
      "           287,     257,     218,     183,     201,     169,     156,\n",
      "           149,     123,      95,      91,      89,      52,      45,\n",
      "            30,      32,      15,      18,      14,      13,       9,\n",
      "             9,       6,       6,       4,       2,       2,       2]))\n",
      "after threshold and dilation (array([0, 1], dtype=int16), array([1047253,    3371]))\n",
      "[ 0.  1.  2.  3.  4.  5.  6.  7.  8.  9. 10. 11. 12. 13. 14. 15. 16. 17.\n",
      " 18. 19. 20. 21. 22. 23. 24. 25. 26. 27. 28. 29. 30. 31. 32. 33. 34.]\n",
      "[[ 1.0000000e+00 -6.1550895e-07  4.1205645e-08  1.0681152e-04]\n",
      " [ 6.1550895e-07  1.0000000e+00  1.8795562e-07 -7.6293945e-05]\n",
      " [-4.1205762e-08 -1.8795559e-07  1.0000000e+00  3.0517578e-05]\n",
      " [ 0.0000000e+00  0.0000000e+00  0.0000000e+00  1.0000000e+00]]\n",
      "before threshold (array([ 0,  1,  2,  3,  4,  5,  6,  7,  8,  9, 10, 11, 12, 13, 14, 15, 16,\n",
      "       17, 18, 19, 20, 21, 22, 23, 24, 25, 26, 27, 28, 29, 30, 31, 32, 33,\n",
      "       34], dtype=int16), array([1044188,    1621,     878,     566,     428,     366,     300,\n",
      "           287,     257,     218,     183,     201,     169,     156,\n",
      "           149,     123,      95,      91,      89,      52,      45,\n",
      "            30,      32,      15,      18,      14,      13,       9,\n",
      "             9,       6,       6,       4,       2,       2,       2]))\n",
      "after threshold and dilation (array([0, 1], dtype=int16), array([1047253,    3371]))\n"
     ]
    },
    {
     "name": "stderr",
     "output_type": "stream",
     "text": [
      "/usr/lib/python3/dist-packages/scipy/__init__.py:146: UserWarning: A NumPy version >=1.17.3 and <1.25.0 is required for this version of SciPy (detected version 1.26.4\n",
      "  warnings.warn(f\"A NumPy version >={np_minversion} and <{np_maxversion}\"\n"
     ]
    },
    {
     "name": "stdout",
     "output_type": "stream",
     "text": [
      "loading direct transformations\n",
      "Output dimensions: 96, 114, 96\n",
      "Output voxel size: 2, 2, 2 mm\n",
      "Resampling carto_volume of S16...   0   1   2   3   4   5   6   7   8   9  10  11  12  13  14  15  16  17  18  19  20  21  22  23  24  25  26  27  28  29  30  31  32  33  34  35  36  37  38  39  40  41  42  43  44  45  46  47  48  49  50  51  52  53  54  55  56  57  58  59  60  61  62  63  64  65  66  67  68  69  70  71  72  73  74  75  76  77  78  79  80  81  82  83  84  85  86  87  88  89  90  91  92  93  94  95  96  97  98  99 100 %\n"
     ]
    },
    {
     "name": "stderr",
     "output_type": "stream",
     "text": [
      "/usr/lib/python3/dist-packages/scipy/__init__.py:146: UserWarning: A NumPy version >=1.17.3 and <1.25.0 is required for this version of SciPy (detected version 1.26.4\n",
      "  warnings.warn(f\"A NumPy version >={np_minversion} and <{np_maxversion}\"\n"
     ]
    },
    {
     "name": "stdout",
     "output_type": "stream",
     "text": [
      "loading direct transformations\n",
      "Output dimensions: 96, 114, 96\n",
      "Output voxel size: 2, 2, 2 mm\n",
      "Resampling carto_volume of S16...   0   1   2   3   4   5   6   7   8   9  10  11  12  13  14  15  16  17  18  19  20  21  22  23  24  25  26  27  28  29  30  31  32  33  34  35  36  37  38  39  40  41  42  43  44  45  46  47  48  49  50  51  52  53  54  55  56  57  58  59  60  61  62  63  64  65  66  67  68  69  70  71  72  73  74  75  76  77  78  79  80  81  82  83  84  85  86  87  88  89  90  91  92  93  94  95  96  97  98  99 100 %\n",
      "ndimage.find_objects(arr) = [(slice(46, 64, None), slice(68, 101, None), slice(47, 68, None), slice(0, 1, None))]\n",
      "before threshold (array([ 0,  1,  2,  3,  4,  5,  6,  7,  8,  9, 10, 11, 12, 13, 14, 15, 16,\n",
      "       17, 18, 19, 20, 21, 22, 23, 24, 25, 26, 27, 28, 29, 30, 31, 32, 33,\n",
      "       34], dtype=int16), array([1044188,    1621,     878,     566,     428,     366,     300,\n",
      "           287,     257,     218,     183,     201,     169,     156,\n",
      "           149,     123,      95,      91,      89,      52,      45,\n",
      "            30,      32,      15,      18,      14,      13,       9,\n",
      "             9,       6,       6,       4,       2,       2,       2]))\n",
      "after threshold and dilation (array([0, 1], dtype=int16), array([1047253,    3371]))\n",
      "[ 0.  1.  2.  3.  4.  5.  6.  7.  8.  9. 10. 11. 12. 13. 14. 15. 16. 17.\n",
      " 18. 19. 20. 21. 22. 23. 24. 25. 26. 27. 28. 29. 30. 31. 32. 33. 34.]\n",
      "[[ 1.0000000e+00 -1.2464568e-11 -2.4417266e-08  0.0000000e+00]\n",
      " [ 1.2464792e-11  1.0000000e+00  9.5049506e-09  0.0000000e+00]\n",
      " [ 2.4417266e-08 -9.5049506e-09  1.0000000e+00  0.0000000e+00]\n",
      " [ 0.0000000e+00  0.0000000e+00  0.0000000e+00  1.0000000e+00]]\n",
      "before threshold (array([ 0,  1,  2,  3,  4,  5,  6,  7,  8,  9, 10, 11, 12, 13, 14, 15, 16,\n",
      "       17, 18, 19, 20, 21, 22, 23, 24, 25, 26, 27, 28, 29, 30, 31, 32, 33,\n",
      "       34], dtype=int16), array([1044188,    1621,     878,     566,     428,     366,     300,\n",
      "           287,     257,     218,     183,     201,     169,     156,\n",
      "           149,     123,      95,      91,      89,      52,      45,\n",
      "            30,      32,      15,      18,      14,      13,       9,\n",
      "             9,       6,       6,       4,       2,       2,       2]))\n",
      "after threshold and dilation (array([0, 1], dtype=int16), array([1047253,    3371]))\n"
     ]
    },
    {
     "name": "stderr",
     "output_type": "stream",
     "text": [
      "/usr/lib/python3/dist-packages/scipy/__init__.py:146: UserWarning: A NumPy version >=1.17.3 and <1.25.0 is required for this version of SciPy (detected version 1.26.4\n",
      "  warnings.warn(f\"A NumPy version >={np_minversion} and <{np_maxversion}\"\n"
     ]
    },
    {
     "name": "stdout",
     "output_type": "stream",
     "text": [
      "loading direct transformations\n",
      "Output dimensions: 96, 114, 96\n",
      "Output voxel size: 2, 2, 2 mm\n",
      "Resampling carto_volume of S16...   0   1   2   3   4   5   6   7   8   9  10  11  12  13  14  15  16  17  18  19  20  21  22  23  24  25  26  27  28  29  30  31  32  33  34  35  36  37  38  39  40  41  42  43  44  45  46  47  48  49  50  51  52  53  54  55  56  57  58  59  60  61  62  63  64  65  66  67  68  69  70  71  72  73  74  75  76  77  78  79  80  81  82  83  84  85  86  87  88  89  90  91  92  93  94  95  96  97  98  99 100 %\n"
     ]
    },
    {
     "name": "stderr",
     "output_type": "stream",
     "text": [
      "/usr/lib/python3/dist-packages/scipy/__init__.py:146: UserWarning: A NumPy version >=1.17.3 and <1.25.0 is required for this version of SciPy (detected version 1.26.4\n",
      "  warnings.warn(f\"A NumPy version >={np_minversion} and <{np_maxversion}\"\n"
     ]
    },
    {
     "name": "stdout",
     "output_type": "stream",
     "text": [
      "loading direct transformations\n",
      "Output dimensions: 96, 114, 96\n",
      "Output voxel size: 2, 2, 2 mm\n",
      "Resampling carto_volume of S16...   0   1   2   3   4   5   6   7   8   9  10  11  12  13  14  15  16  17  18  19  20  21  22  23  24  25  26  27  28  29  30  31  32  33  34  35  36  37  38  39  40  41  42  43  44  45  46  47  48  49  50  51  52  53  54  55  56  57  58  59  60  61  62  63  64  65  66  67  68  69  70  71  72  73  74  75  76  77  78  79  80  81  82  83  84  85  86  87  88  89  90  91  92  93  94  95  96  97  98  99 100 %\n",
      "ndimage.find_objects(arr) = [(slice(46, 64, None), slice(68, 101, None), slice(47, 68, None), slice(0, 1, None))]\n",
      "before threshold (array([ 0,  1,  2,  3,  4,  5,  6,  7,  8,  9, 10, 11, 12, 13, 14, 15, 16,\n",
      "       17, 18, 19, 20, 21, 22, 23, 24, 25, 26, 27, 28, 29, 30, 31, 32, 33,\n",
      "       34], dtype=int16), array([1044188,    1621,     878,     566,     428,     366,     300,\n",
      "           287,     257,     218,     183,     201,     169,     156,\n",
      "           149,     123,      95,      91,      89,      52,      45,\n",
      "            30,      32,      15,      18,      14,      13,       9,\n",
      "             9,       6,       6,       4,       2,       2,       2]))\n",
      "after threshold and dilation (array([0, 1], dtype=int16), array([1047253,    3371]))\n",
      "[ 0.  1.  2.  3.  4.  5.  6.  7.  8.  9. 10. 11. 12. 13. 14. 15. 16. 17.\n",
      " 18. 19. 20. 21. 22. 23. 24. 25. 26. 27. 28. 29. 30. 31. 32. 33. 34.]\n",
      "[[ 1.0000000e+00  1.7991217e-08  1.7086290e-07 -2.2888184e-05]\n",
      " [-1.7991193e-08  1.0000000e+00 -1.5259131e-07  1.5258789e-05]\n",
      " [-1.7086292e-07  1.5259131e-07  1.0000000e+00 -7.6293945e-06]\n",
      " [ 0.0000000e+00  0.0000000e+00  0.0000000e+00  1.0000000e+00]]\n",
      "before threshold (array([ 0,  1,  2,  3,  4,  5,  6,  7,  8,  9, 10, 11, 12, 13, 14, 15, 16,\n",
      "       17, 18, 19, 20, 21, 22, 23, 24, 25, 26, 27, 28, 29, 30, 31, 32, 33,\n",
      "       34], dtype=int16), array([1044188,    1621,     878,     566,     428,     366,     300,\n",
      "           287,     257,     218,     183,     201,     169,     156,\n",
      "           149,     123,      95,      91,      89,      52,      45,\n",
      "            30,      32,      15,      18,      14,      13,       9,\n",
      "             9,       6,       6,       4,       2,       2,       2]))\n",
      "after threshold and dilation (array([0, 1], dtype=int16), array([1047253,    3371]))\n"
     ]
    },
    {
     "name": "stderr",
     "output_type": "stream",
     "text": [
      "/usr/lib/python3/dist-packages/scipy/__init__.py:146: UserWarning: A NumPy version >=1.17.3 and <1.25.0 is required for this version of SciPy (detected version 1.26.4\n",
      "  warnings.warn(f\"A NumPy version >={np_minversion} and <{np_maxversion}\"\n"
     ]
    },
    {
     "name": "stdout",
     "output_type": "stream",
     "text": [
      "loading direct transformations\n",
      "Output dimensions: 96, 114, 96\n",
      "Output voxel size: 2, 2, 2 mm\n",
      "Resampling carto_volume of S16...   0   1   2   3   4   5   6   7   8   9  10  11  12  13  14  15  16  17  18  19  20  21  22  23  24  25  26  27  28  29  30  31  32  33  34  35  36  37  38  39  40  41  42  43  44  45  46  47  48  49  50  51  52  53  54  55  56  57  58  59  60  61  62  63  64  65  66  67  68  69  70  71  72  73  74  75  76  77  78  79  80  81  82  83  84  85  86  87  88  89  90  91  92  93  94  95  96  97  98  99 100 %\n"
     ]
    },
    {
     "name": "stderr",
     "output_type": "stream",
     "text": [
      "/usr/lib/python3/dist-packages/scipy/__init__.py:146: UserWarning: A NumPy version >=1.17.3 and <1.25.0 is required for this version of SciPy (detected version 1.26.4\n",
      "  warnings.warn(f\"A NumPy version >={np_minversion} and <{np_maxversion}\"\n"
     ]
    },
    {
     "name": "stdout",
     "output_type": "stream",
     "text": [
      "loading direct transformations\n",
      "Output dimensions: 96, 114, 96\n",
      "Output voxel size: 2, 2, 2 mm\n",
      "Resampling carto_volume of S16...   0   1   2   3   4   5   6   7   8   9  10  11  12  13  14  15  16  17  18  19  20  21  22  23  24  25  26  27  28  29  30  31  32  33  34  35  36  37  38  39  40  41  42  43  44  45  46  47  48  49  50  51  52  53  54  55  56  57  58  59  60  61  62  63  64  65  66  67  68  69  70  71  72  73  74  75  76  77  78  79  80  81  82  83  84  85  86  87  88  89  90  91  92  93  94  95  96  97  98  99 100 %\n",
      "ndimage.find_objects(arr) = [(slice(46, 64, None), slice(68, 101, None), slice(47, 68, None), slice(0, 1, None))]\n",
      "before threshold (array([ 0,  1,  2,  3,  4,  5,  6,  7,  8,  9, 10, 11, 12, 13, 14, 15, 16,\n",
      "       17, 18, 19, 20, 21, 22, 23, 24, 25, 26, 27, 28, 29, 30, 31, 32, 33,\n",
      "       34], dtype=int16), array([1044188,    1621,     878,     566,     428,     366,     300,\n",
      "           287,     257,     218,     183,     201,     169,     156,\n",
      "           149,     123,      95,      91,      89,      52,      45,\n",
      "            30,      32,      15,      18,      14,      13,       9,\n",
      "             9,       6,       6,       4,       2,       2,       2]))\n",
      "after threshold and dilation (array([0, 1], dtype=int16), array([1047253,    3371]))\n",
      "[ 0.  1.  2.  3.  4.  5.  6.  7.  8.  9. 10. 11. 12. 13. 14. 15. 16. 17.\n",
      " 18. 19. 20. 21. 22. 23. 24. 25. 26. 27. 28. 29. 30. 31. 32. 33. 34.]\n",
      "[[ 1.0000000e+00 -1.1168658e-11 -2.9284820e-08  0.0000000e+00]\n",
      " [ 1.1168955e-11  1.0000000e+00  1.1197839e-08  0.0000000e+00]\n",
      " [ 2.9284820e-08 -1.1197839e-08  1.0000000e+00  0.0000000e+00]\n",
      " [ 0.0000000e+00  0.0000000e+00  0.0000000e+00  1.0000000e+00]]\n",
      "before threshold (array([ 0,  1,  2,  3,  4,  5,  6,  7,  8,  9, 10, 11, 12, 13, 14, 15, 16,\n",
      "       17, 18, 19, 20, 21, 22, 23, 24, 25, 26, 27, 28, 29, 30, 31, 32, 33,\n",
      "       34], dtype=int16), array([1044188,    1621,     878,     566,     428,     366,     300,\n",
      "           287,     257,     218,     183,     201,     169,     156,\n",
      "           149,     123,      95,      91,      89,      52,      45,\n",
      "            30,      32,      15,      18,      14,      13,       9,\n",
      "             9,       6,       6,       4,       2,       2,       2]))\n",
      "after threshold and dilation (array([0, 1], dtype=int16), array([1047253,    3371]))\n"
     ]
    },
    {
     "name": "stderr",
     "output_type": "stream",
     "text": [
      "/usr/lib/python3/dist-packages/scipy/__init__.py:146: UserWarning: A NumPy version >=1.17.3 and <1.25.0 is required for this version of SciPy (detected version 1.26.4\n",
      "  warnings.warn(f\"A NumPy version >={np_minversion} and <{np_maxversion}\"\n"
     ]
    },
    {
     "name": "stdout",
     "output_type": "stream",
     "text": [
      "loading direct transformations\n",
      "Output dimensions: 96, 114, 96\n",
      "Output voxel size: 2, 2, 2 mm\n",
      "Resampling carto_volume of S16...   0   1   2   3   4   5   6   7   8   9  10  11  12  13  14  15  16  17  18  19  20  21  22  23  24  25  26  27  28  29  30  31  32  33  34  35  36  37  38  39  40  41  42  43  44  45  46  47  48  49  50  51  52  53  54  55  56  57  58  59  60  61  62  63  64  65  66  67  68  69  70  71  72  73  74  75  76  77  78  79  80  81  82  83  84  85  86  87  88  89  90  91  92  93  94  95  96  97  98  99 100 %\n"
     ]
    },
    {
     "name": "stderr",
     "output_type": "stream",
     "text": [
      "/usr/lib/python3/dist-packages/scipy/__init__.py:146: UserWarning: A NumPy version >=1.17.3 and <1.25.0 is required for this version of SciPy (detected version 1.26.4\n",
      "  warnings.warn(f\"A NumPy version >={np_minversion} and <{np_maxversion}\"\n"
     ]
    },
    {
     "name": "stdout",
     "output_type": "stream",
     "text": [
      "loading direct transformations\n",
      "Output dimensions: 96, 114, 96\n",
      "Output voxel size: 2, 2, 2 mm\n",
      "Resampling carto_volume of S16...   0   1   2   3   4   5   6   7   8   9  10  11  12  13  14  15  16  17  18  19  20  21  22  23  24  25  26  27  28  29  30  31  32  33  34  35  36  37  38  39  40  41  42  43  44  45  46  47  48  49  50  51  52  53  54  55  56  57  58  59  60  61  62  63  64  65  66  67  68  69  70  71  72  73  74  75  76  77  78  79  80  81  82  83  84  85  86  87  88  89  90  91  92  93  94  95  96  97  98  99 100 %\n",
      "ndimage.find_objects(arr) = [(slice(46, 64, None), slice(68, 101, None), slice(47, 68, None), slice(0, 1, None))]\n",
      "before threshold (array([ 0,  1,  2,  3,  4,  5,  6,  7,  8,  9, 10, 11, 12, 13, 14, 15, 16,\n",
      "       17, 18, 19, 20, 21, 22, 23, 24, 25, 26, 27, 28, 29, 30, 31, 32, 33,\n",
      "       34], dtype=int16), array([1044188,    1621,     878,     566,     428,     366,     300,\n",
      "           287,     257,     218,     183,     201,     169,     156,\n",
      "           149,     123,      95,      91,      89,      52,      45,\n",
      "            30,      32,      15,      18,      14,      13,       9,\n",
      "             9,       6,       6,       4,       2,       2,       2]))\n",
      "after threshold and dilation (array([0, 1], dtype=int16), array([1047253,    3371]))\n",
      "[ 0.  1.  2.  3.  4.  5.  6.  7.  8.  9. 10. 11. 12. 13. 14. 15. 16. 17.\n",
      " 18. 19. 20. 21. 22. 23. 24. 25. 26. 27. 28. 29. 30. 31. 32. 33. 34.]\n",
      "[[ 1.0000000e+00  2.5147194e-06 -3.4357711e-08 -3.8909912e-04]\n",
      " [-2.5147194e-06  1.0000000e+00  3.0061251e-08  2.7465820e-04]\n",
      " [ 3.4357790e-08 -3.0061166e-08  1.0000000e+00  0.0000000e+00]\n",
      " [ 0.0000000e+00  0.0000000e+00  0.0000000e+00  1.0000000e+00]]\n",
      "before threshold (array([ 0,  1,  2,  3,  4,  5,  6,  7,  8,  9, 10, 11, 12, 13, 14, 15, 16,\n",
      "       17, 18, 19, 20, 21, 22, 23, 24, 25, 26, 27, 28, 29, 30, 31, 32, 33,\n",
      "       34], dtype=int16), array([1044188,    1621,     878,     566,     428,     366,     300,\n",
      "           287,     257,     218,     183,     201,     169,     156,\n",
      "           149,     123,      95,      91,      89,      52,      45,\n",
      "            30,      32,      15,      18,      14,      13,       9,\n",
      "             9,       6,       6,       4,       2,       2,       2]))\n",
      "after threshold and dilation (array([0, 1], dtype=int16), array([1047253,    3371]))\n"
     ]
    },
    {
     "name": "stderr",
     "output_type": "stream",
     "text": [
      "/usr/lib/python3/dist-packages/scipy/__init__.py:146: UserWarning: A NumPy version >=1.17.3 and <1.25.0 is required for this version of SciPy (detected version 1.26.4\n",
      "  warnings.warn(f\"A NumPy version >={np_minversion} and <{np_maxversion}\"\n"
     ]
    },
    {
     "name": "stdout",
     "output_type": "stream",
     "text": [
      "loading direct transformations\n",
      "Output dimensions: 96, 114, 96\n",
      "Output voxel size: 2, 2, 2 mm\n",
      "Resampling carto_volume of S16...   0   1   2   3   4   5   6   7   8   9  10  11  12  13  14  15  16  17  18  19  20  21  22  23  24  25  26  27  28  29  30  31  32  33  34  35  36  37  38  39  40  41  42  43  44  45  46  47  48  49  50  51  52  53  54  55  56  57  58  59  60  61  62  63  64  65  66  67  68  69  70  71  72  73  74  75  76  77  78  79  80  81  82  83  84  85  86  87  88  89  90  91  92  93  94  95  96  97  98  99 100 %\n"
     ]
    },
    {
     "name": "stderr",
     "output_type": "stream",
     "text": [
      "/usr/lib/python3/dist-packages/scipy/__init__.py:146: UserWarning: A NumPy version >=1.17.3 and <1.25.0 is required for this version of SciPy (detected version 1.26.4\n",
      "  warnings.warn(f\"A NumPy version >={np_minversion} and <{np_maxversion}\"\n"
     ]
    },
    {
     "name": "stdout",
     "output_type": "stream",
     "text": [
      "loading direct transformations\n",
      "Output dimensions: 96, 114, 96\n",
      "Output voxel size: 2, 2, 2 mm\n",
      "Resampling carto_volume of S16...   0   1   2   3   4   5   6   7   8   9  10  11  12  13  14  15  16  17  18  19  20  21  22  23  24  25  26  27  28  29  30  31  32  33  34  35  36  37  38  39  40  41  42  43  44  45  46  47  48  49  50  51  52  53  54  55  56  57  58  59  60  61  62  63  64  65  66  67  68  69  70  71  72  73  74  75  76  77  78  79  80  81  82  83  84  85  86  87  88  89  90  91  92  93  94  95  96  97  98  99 100 %\n",
      "ndimage.find_objects(arr) = [(slice(46, 64, None), slice(68, 101, None), slice(47, 68, None), slice(0, 1, None))]\n",
      "before threshold (array([ 0,  1,  2,  3,  4,  5,  6,  7,  8,  9, 10, 11, 12, 13, 14, 15, 16,\n",
      "       17, 18, 19, 20, 21, 22, 23, 24, 25, 26, 27, 28, 29, 30, 31, 32, 33,\n",
      "       34], dtype=int16), array([1044188,    1621,     878,     566,     428,     366,     300,\n",
      "           287,     257,     218,     183,     201,     169,     156,\n",
      "           149,     123,      95,      91,      89,      52,      45,\n",
      "            30,      32,      15,      18,      14,      13,       9,\n",
      "             9,       6,       6,       4,       2,       2,       2]))\n",
      "after threshold and dilation (array([0, 1], dtype=int16), array([1047253,    3371]))\n",
      "[ 0.  1.  2.  3.  4.  5.  6.  7.  8.  9. 10. 11. 12. 13. 14. 15. 16. 17.\n",
      " 18. 19. 20. 21. 22. 23. 24. 25. 26. 27. 28. 29. 30. 31. 32. 33. 34.]\n",
      "[[ 1.0000000e+00 -1.2217350e-11  1.4206401e-11  0.0000000e+00]\n",
      " [ 1.2217350e-11  1.0000000e+00 -1.9258197e-11  0.0000000e+00]\n",
      " [-1.4206401e-11  1.9258197e-11  1.0000000e+00  0.0000000e+00]\n",
      " [ 0.0000000e+00  0.0000000e+00  0.0000000e+00  1.0000000e+00]]\n",
      "before threshold (array([ 0,  1,  2,  3,  4,  5,  6,  7,  8,  9, 10, 11, 12, 13, 14, 15, 16,\n",
      "       17, 18, 19, 20, 21, 22, 23, 24, 25, 26, 27, 28, 29, 30, 31, 32, 33,\n",
      "       34], dtype=int16), array([1044188,    1621,     878,     566,     428,     366,     300,\n",
      "           287,     257,     218,     183,     201,     169,     156,\n",
      "           149,     123,      95,      91,      89,      52,      45,\n",
      "            30,      32,      15,      18,      14,      13,       9,\n",
      "             9,       6,       6,       4,       2,       2,       2]))\n",
      "after threshold and dilation (array([0, 1], dtype=int16), array([1047253,    3371]))\n"
     ]
    },
    {
     "name": "stderr",
     "output_type": "stream",
     "text": [
      "/usr/lib/python3/dist-packages/scipy/__init__.py:146: UserWarning: A NumPy version >=1.17.3 and <1.25.0 is required for this version of SciPy (detected version 1.26.4\n",
      "  warnings.warn(f\"A NumPy version >={np_minversion} and <{np_maxversion}\"\n"
     ]
    },
    {
     "name": "stdout",
     "output_type": "stream",
     "text": [
      "loading direct transformations\n",
      "Output dimensions: 96, 114, 96\n",
      "Output voxel size: 2, 2, 2 mm\n",
      "Resampling carto_volume of S16...   0   1   2   3   4   5   6   7   8   9  10  11  12  13  14  15  16  17  18  19  20  21  22  23  24  25  26  27  28  29  30  31  32  33  34  35  36  37  38  39  40  41  42  43  44  45  46  47  48  49  50  51  52  53  54  55  56  57  58  59  60  61  62  63  64  65  66  67  68  69  70  71  72  73  74  75  76  77  78  79  80  81  82  83  84  85  86  87  88  89  90  91  92  93  94  95  96  97  98  99 100 %\n"
     ]
    },
    {
     "name": "stderr",
     "output_type": "stream",
     "text": [
      "/usr/lib/python3/dist-packages/scipy/__init__.py:146: UserWarning: A NumPy version >=1.17.3 and <1.25.0 is required for this version of SciPy (detected version 1.26.4\n",
      "  warnings.warn(f\"A NumPy version >={np_minversion} and <{np_maxversion}\"\n"
     ]
    },
    {
     "name": "stdout",
     "output_type": "stream",
     "text": [
      "loading direct transformations\n",
      "Output dimensions: 96, 114, 96\n",
      "Output voxel size: 2, 2, 2 mm\n",
      "Resampling carto_volume of S16...   0   1   2   3   4   5   6   7   8   9  10  11  12  13  14  15  16  17  18  19  20  21  22  23  24  25  26  27  28  29  30  31  32  33  34  35  36  37  38  39  40  41  42  43  44  45  46  47  48  49  50  51  52  53  54  55  56  57  58  59  60  61  62  63  64  65  66  67  68  69  70  71  72  73  74  75  76  77  78  79  80  81  82  83  84  85  86  87  88  89  90  91  92  93  94  95  96  97  98  99 100 %\n",
      "ndimage.find_objects(arr) = [(slice(46, 64, None), slice(68, 101, None), slice(47, 68, None), slice(0, 1, None))]\n",
      "before threshold (array([ 0,  1,  2,  3,  4,  5,  6,  7,  8,  9, 10, 11, 12, 13, 14, 15, 16,\n",
      "       17, 18, 19, 20, 21, 22, 23, 24, 25, 26, 27, 28, 29, 30, 31, 32, 33,\n",
      "       34], dtype=int16), array([1044188,    1621,     878,     566,     428,     366,     300,\n",
      "           287,     257,     218,     183,     201,     169,     156,\n",
      "           149,     123,      95,      91,      89,      52,      45,\n",
      "            30,      32,      15,      18,      14,      13,       9,\n",
      "             9,       6,       6,       4,       2,       2,       2]))\n",
      "after threshold and dilation (array([0, 1], dtype=int16), array([1047253,    3371]))\n",
      "[ 0.  1.  2.  3.  4.  5.  6.  7.  8.  9. 10. 11. 12. 13. 14. 15. 16. 17.\n",
      " 18. 19. 20. 21. 22. 23. 24. 25. 26. 27. 28. 29. 30. 31. 32. 33. 34.]\n",
      "[[ 1.0000000e+00 -1.9961427e-11  1.2946731e-11  0.0000000e+00]\n",
      " [ 1.9961427e-11  1.0000000e+00 -1.4158289e-11  0.0000000e+00]\n",
      " [-1.2946731e-11  1.4158289e-11  1.0000000e+00  0.0000000e+00]\n",
      " [ 0.0000000e+00  0.0000000e+00  0.0000000e+00  1.0000000e+00]]\n",
      "before threshold (array([ 0,  1,  2,  3,  4,  5,  6,  7,  8,  9, 10, 11, 12, 13, 14, 15, 16,\n",
      "       17, 18, 19, 20, 21, 22, 23, 24, 25, 26, 27, 28, 29, 30, 31, 32, 33,\n",
      "       34], dtype=int16), array([1044188,    1621,     878,     566,     428,     366,     300,\n",
      "           287,     257,     218,     183,     201,     169,     156,\n",
      "           149,     123,      95,      91,      89,      52,      45,\n",
      "            30,      32,      15,      18,      14,      13,       9,\n",
      "             9,       6,       6,       4,       2,       2,       2]))\n",
      "after threshold and dilation (array([0, 1], dtype=int16), array([1047253,    3371]))\n"
     ]
    },
    {
     "name": "stderr",
     "output_type": "stream",
     "text": [
      "/usr/lib/python3/dist-packages/scipy/__init__.py:146: UserWarning: A NumPy version >=1.17.3 and <1.25.0 is required for this version of SciPy (detected version 1.26.4\n",
      "  warnings.warn(f\"A NumPy version >={np_minversion} and <{np_maxversion}\"\n"
     ]
    },
    {
     "name": "stdout",
     "output_type": "stream",
     "text": [
      "loading direct transformations\n",
      "Output dimensions: 96, 114, 96\n",
      "Output voxel size: 2, 2, 2 mm\n",
      "Resampling carto_volume of S16...   0   1   2   3   4   5   6   7   8   9  10  11  12  13  14  15  16  17  18  19  20  21  22  23  24  25  26  27  28  29  30  31  32  33  34  35  36  37  38  39  40  41  42  43  44  45  46  47  48  49  50  51  52  53  54  55  56  57  58  59  60  61  62  63  64  65  66  67  68  69  70  71  72  73  74  75  76  77  78  79  80  81  82  83  84  85  86  87  88  89  90  91  92  93  94  95  96  97  98  99 100 %\n"
     ]
    },
    {
     "name": "stderr",
     "output_type": "stream",
     "text": [
      "/usr/lib/python3/dist-packages/scipy/__init__.py:146: UserWarning: A NumPy version >=1.17.3 and <1.25.0 is required for this version of SciPy (detected version 1.26.4\n",
      "  warnings.warn(f\"A NumPy version >={np_minversion} and <{np_maxversion}\"\n"
     ]
    },
    {
     "name": "stdout",
     "output_type": "stream",
     "text": [
      "loading direct transformations\n",
      "Output dimensions: 96, 114, 96\n",
      "Output voxel size: 2, 2, 2 mm\n",
      "Resampling carto_volume of S16...   0   1   2   3   4   5   6   7   8   9  10  11  12  13  14  15  16  17  18  19  20  21  22  23  24  25  26  27  28  29  30  31  32  33  34  35  36  37  38  39  40  41  42  43  44  45  46  47  48  49  50  51  52  53  54  55  56  57  58  59  60  61  62  63  64  65  66  67  68  69  70  71  72  73  74  75  76  77  78  79  80  81  82  83  84  85  86  87  88  89  90  91  92  93  94  95  96  97  98  99 100 %\n",
      "ndimage.find_objects(arr) = [(slice(46, 64, None), slice(68, 101, None), slice(47, 68, None), slice(0, 1, None))]\n",
      "before threshold (array([ 0,  1,  2,  3,  4,  5,  6,  7,  8,  9, 10, 11, 12, 13, 14, 15, 16,\n",
      "       17, 18, 19, 20, 21, 22, 23, 24, 25, 26, 27, 28, 29, 30, 31, 32, 33,\n",
      "       34], dtype=int16), array([1044188,    1621,     878,     566,     428,     366,     300,\n",
      "           287,     257,     218,     183,     201,     169,     156,\n",
      "           149,     123,      95,      91,      89,      52,      45,\n",
      "            30,      32,      15,      18,      14,      13,       9,\n",
      "             9,       6,       6,       4,       2,       2,       2]))\n",
      "after threshold and dilation (array([0, 1], dtype=int16), array([1047253,    3371]))\n",
      "[ 0.  1.  2.  3.  4.  5.  6.  7.  8.  9. 10. 11. 12. 13. 14. 15. 16. 17.\n",
      " 18. 19. 20. 21. 22. 23. 24. 25. 26. 27. 28. 29. 30. 31. 32. 33. 34.]\n",
      "[[ 1.0000000e+00  1.9903470e-07  8.3173073e-11 -3.0517578e-05]\n",
      " [-1.9903470e-07  1.0000000e+00  3.3015606e-08  1.5258789e-05]\n",
      " [-8.3166515e-11 -3.3015606e-08  1.0000000e+00  7.6293945e-06]\n",
      " [ 0.0000000e+00  0.0000000e+00  0.0000000e+00  1.0000000e+00]]\n",
      "before threshold (array([ 0,  1,  2,  3,  4,  5,  6,  7,  8,  9, 10, 11, 12, 13, 14, 15, 16,\n",
      "       17, 18, 19, 20, 21, 22, 23, 24, 25, 26, 27, 28, 29, 30, 31, 32, 33,\n",
      "       34], dtype=int16), array([1044188,    1621,     878,     566,     428,     366,     300,\n",
      "           287,     257,     218,     183,     201,     169,     156,\n",
      "           149,     123,      95,      91,      89,      52,      45,\n",
      "            30,      32,      15,      18,      14,      13,       9,\n",
      "             9,       6,       6,       4,       2,       2,       2]))\n",
      "after threshold and dilation (array([0, 1], dtype=int16), array([1047253,    3371]))\n"
     ]
    },
    {
     "name": "stderr",
     "output_type": "stream",
     "text": [
      "/usr/lib/python3/dist-packages/scipy/__init__.py:146: UserWarning: A NumPy version >=1.17.3 and <1.25.0 is required for this version of SciPy (detected version 1.26.4\n",
      "  warnings.warn(f\"A NumPy version >={np_minversion} and <{np_maxversion}\"\n"
     ]
    },
    {
     "name": "stdout",
     "output_type": "stream",
     "text": [
      "loading direct transformations\n",
      "Output dimensions: 96, 114, 96\n",
      "Output voxel size: 2, 2, 2 mm\n",
      "Resampling carto_volume of S16...   0   1   2   3   4   5   6   7   8   9  10  11  12  13  14  15  16  17  18  19  20  21  22  23  24  25  26  27  28  29  30  31  32  33  34  35  36  37  38  39  40  41  42  43  44  45  46  47  48  49  50  51  52  53  54  55  56  57  58  59  60  61  62  63  64  65  66  67  68  69  70  71  72  73  74  75  76  77  78  79  80  81  82  83  84  85  86  87  88  89  90  91  92  93  94  95  96  97  98  99 100 %\n"
     ]
    },
    {
     "name": "stderr",
     "output_type": "stream",
     "text": [
      "/usr/lib/python3/dist-packages/scipy/__init__.py:146: UserWarning: A NumPy version >=1.17.3 and <1.25.0 is required for this version of SciPy (detected version 1.26.4\n",
      "  warnings.warn(f\"A NumPy version >={np_minversion} and <{np_maxversion}\"\n"
     ]
    },
    {
     "name": "stdout",
     "output_type": "stream",
     "text": [
      "loading direct transformations\n",
      "Output dimensions: 96, 114, 96\n",
      "Output voxel size: 2, 2, 2 mm\n",
      "Resampling carto_volume of S16...   0   1   2   3   4   5   6   7   8   9  10  11  12  13  14  15  16  17  18  19  20  21  22  23  24  25  26  27  28  29  30  31  32  33  34  35  36  37  38  39  40  41  42  43  44  45  46  47  48  49  50  51  52  53  54  55  56  57  58  59  60  61  62  63  64  65  66  67  68  69  70  71  72  73  74  75  76  77  78  79  80  81  82  83  84  85  86  87  88  89  90  91  92  93  94  95  96  97  98  99 100 %\n",
      "ndimage.find_objects(arr) = [(slice(46, 64, None), slice(68, 101, None), slice(47, 68, None), slice(0, 1, None))]\n",
      "before threshold (array([ 0,  1,  2,  3,  4,  5,  6,  7,  8,  9, 10, 11, 12, 13, 14, 15, 16,\n",
      "       17, 18, 19, 20, 21, 22, 23, 24, 25, 26, 27, 28, 29, 30, 31, 32, 33,\n",
      "       34], dtype=int16), array([1044188,    1621,     878,     566,     428,     366,     300,\n",
      "           287,     257,     218,     183,     201,     169,     156,\n",
      "           149,     123,      95,      91,      89,      52,      45,\n",
      "            30,      32,      15,      18,      14,      13,       9,\n",
      "             9,       6,       6,       4,       2,       2,       2]))\n",
      "after threshold and dilation (array([0, 1], dtype=int16), array([1047253,    3371]))\n",
      "[ 0.  1.  2.  3.  4.  5.  6.  7.  8.  9. 10. 11. 12. 13. 14. 15. 16. 17.\n",
      " 18. 19. 20. 21. 22. 23. 24. 25. 26. 27. 28. 29. 30. 31. 32. 33. 34.]\n",
      "[[ 1.0000000e+00 -4.5250155e-07  1.3565264e-08  7.6293945e-05]\n",
      " [ 4.5250155e-07  1.0000000e+00 -1.4674777e-07 -3.0517578e-05]\n",
      " [-1.3565197e-08  1.4674777e-07  1.0000000e+00 -2.2888184e-05]\n",
      " [ 0.0000000e+00  0.0000000e+00  0.0000000e+00  1.0000000e+00]]\n",
      "before threshold (array([ 0,  1,  2,  3,  4,  5,  6,  7,  8,  9, 10, 11, 12, 13, 14, 15, 16,\n",
      "       17, 18, 19, 20, 21, 22, 23, 24, 25, 26, 27, 28, 29, 30, 31, 32, 33,\n",
      "       34], dtype=int16), array([1044188,    1621,     878,     566,     428,     366,     300,\n",
      "           287,     257,     218,     183,     201,     169,     156,\n",
      "           149,     123,      95,      91,      89,      52,      45,\n",
      "            30,      32,      15,      18,      14,      13,       9,\n",
      "             9,       6,       6,       4,       2,       2,       2]))\n",
      "after threshold and dilation (array([0, 1], dtype=int16), array([1047253,    3371]))\n"
     ]
    },
    {
     "name": "stderr",
     "output_type": "stream",
     "text": [
      "/usr/lib/python3/dist-packages/scipy/__init__.py:146: UserWarning: A NumPy version >=1.17.3 and <1.25.0 is required for this version of SciPy (detected version 1.26.4\n",
      "  warnings.warn(f\"A NumPy version >={np_minversion} and <{np_maxversion}\"\n"
     ]
    },
    {
     "name": "stdout",
     "output_type": "stream",
     "text": [
      "loading direct transformations\n",
      "Output dimensions: 96, 114, 96\n",
      "Output voxel size: 2, 2, 2 mm\n",
      "Resampling carto_volume of S16...   0   1   2   3   4   5   6   7   8   9  10  11  12  13  14  15  16  17  18  19  20  21  22  23  24  25  26  27  28  29  30  31  32  33  34  35  36  37  38  39  40  41  42  43  44  45  46  47  48  49  50  51  52  53  54  55  56  57  58  59  60  61  62  63  64  65  66  67  68  69  70  71  72  73  74  75  76  77  78  79  80  81  82  83  84  85  86  87  88  89  90  91  92  93  94  95  96  97  98  99 100 %\n"
     ]
    },
    {
     "name": "stderr",
     "output_type": "stream",
     "text": [
      "/usr/lib/python3/dist-packages/scipy/__init__.py:146: UserWarning: A NumPy version >=1.17.3 and <1.25.0 is required for this version of SciPy (detected version 1.26.4\n",
      "  warnings.warn(f\"A NumPy version >={np_minversion} and <{np_maxversion}\"\n"
     ]
    },
    {
     "name": "stdout",
     "output_type": "stream",
     "text": [
      "loading direct transformations\n",
      "Output dimensions: 96, 114, 96\n",
      "Output voxel size: 2, 2, 2 mm\n",
      "Resampling carto_volume of S16...   0   1   2   3   4   5   6   7   8   9  10  11  12  13  14  15  16  17  18  19  20  21  22  23  24  25  26  27  28  29  30  31  32  33  34  35  36  37  38  39  40  41  42  43  44  45  46  47  48  49  50  51  52  53  54  55  56  57  58  59  60  61  62  63  64  65  66  67  68  69  70  71  72  73  74  75  76  77  78  79  80  81  82  83  84  85  86  87  88  89  90  91  92  93  94  95  96  97  98  99 100 %\n",
      "ndimage.find_objects(arr) = [(slice(46, 64, None), slice(68, 101, None), slice(47, 68, None), slice(0, 1, None))]\n",
      "before threshold (array([ 0,  1,  2,  3,  4,  5,  6,  7,  8,  9, 10, 11, 12, 13, 14, 15, 16,\n",
      "       17, 18, 19, 20, 21, 22, 23, 24, 25, 26, 27, 28, 29, 30, 31, 32, 33,\n",
      "       34], dtype=int16), array([1044188,    1621,     878,     566,     428,     366,     300,\n",
      "           287,     257,     218,     183,     201,     169,     156,\n",
      "           149,     123,      95,      91,      89,      52,      45,\n",
      "            30,      32,      15,      18,      14,      13,       9,\n",
      "             9,       6,       6,       4,       2,       2,       2]))\n",
      "after threshold and dilation (array([0, 1], dtype=int16), array([1047253,    3371]))\n",
      "[ 0.  1.  2.  3.  4.  5.  6.  7.  8.  9. 10. 11. 12. 13. 14. 15. 16. 17.\n",
      " 18. 19. 20. 21. 22. 23. 24. 25. 26. 27. 28. 29. 30. 31. 32. 33. 34.]\n",
      "[[ 1.0000000e+00  1.8506563e-06  1.6508537e-06 -4.8065186e-04]\n",
      " [-1.8506772e-06  1.0000000e+00  1.2665945e-05 -1.4495850e-03]\n",
      " [-1.6508303e-06 -1.2665949e-05  1.0000000e+00  2.2811890e-03]\n",
      " [ 0.0000000e+00  0.0000000e+00  0.0000000e+00  1.0000000e+00]]\n",
      "before threshold (array([ 0,  1,  2,  3,  4,  5,  6,  7,  8,  9, 10, 11, 12, 13, 14, 15, 16,\n",
      "       17, 18, 19, 20, 21, 22, 23, 24, 25, 26, 27, 28, 29, 30, 31, 32, 33,\n",
      "       34], dtype=int16), array([1044188,    1621,     878,     566,     428,     366,     300,\n",
      "           287,     257,     218,     183,     201,     169,     156,\n",
      "           149,     123,      95,      91,      89,      52,      45,\n",
      "            30,      32,      15,      18,      14,      13,       9,\n",
      "             9,       6,       6,       4,       2,       2,       2]))\n",
      "after threshold and dilation (array([0, 1], dtype=int16), array([1047253,    3371]))\n"
     ]
    },
    {
     "name": "stderr",
     "output_type": "stream",
     "text": [
      "/usr/lib/python3/dist-packages/scipy/__init__.py:146: UserWarning: A NumPy version >=1.17.3 and <1.25.0 is required for this version of SciPy (detected version 1.26.4\n",
      "  warnings.warn(f\"A NumPy version >={np_minversion} and <{np_maxversion}\"\n"
     ]
    },
    {
     "name": "stdout",
     "output_type": "stream",
     "text": [
      "loading direct transformations\n",
      "Output dimensions: 96, 114, 96\n",
      "Output voxel size: 2, 2, 2 mm\n",
      "Resampling carto_volume of S16...   0   1   2   3   4   5   6   7   8   9  10  11  12  13  14  15  16  17  18  19  20  21  22  23  24  25  26  27  28  29  30  31  32  33  34  35  36  37  38  39  40  41  42  43  44  45  46  47  48  49  50  51  52  53  54  55  56  57  58  59  60  61  62  63  64  65  66  67  68  69  70  71  72  73  74  75  76  77  78  79  80  81  82  83  84  85  86  87  88  89  90  91  92  93  94  95  96  97  98  99 100 %\n"
     ]
    },
    {
     "name": "stderr",
     "output_type": "stream",
     "text": [
      "/usr/lib/python3/dist-packages/scipy/__init__.py:146: UserWarning: A NumPy version >=1.17.3 and <1.25.0 is required for this version of SciPy (detected version 1.26.4\n",
      "  warnings.warn(f\"A NumPy version >={np_minversion} and <{np_maxversion}\"\n"
     ]
    },
    {
     "name": "stdout",
     "output_type": "stream",
     "text": [
      "loading direct transformations\n",
      "Output dimensions: 96, 114, 96\n",
      "Output voxel size: 2, 2, 2 mm\n",
      "Resampling carto_volume of S16...   0   1   2   3   4   5   6   7   8   9  10  11  12  13  14  15  16  17  18  19  20  21  22  23  24  25  26  27  28  29  30  31  32  33  34  35  36  37  38  39  40  41  42  43  44  45  46  47  48  49  50  51  52  53  54  55  56  57  58  59  60  61  62  63  64  65  66  67  68  69  70  71  72  73  74  75  76  77  78  79  80  81  82  83  84  85  86  87  88  89  90  91  92  93  94  95  96  97  98  99 100 %\n",
      "ndimage.find_objects(arr) = [(slice(46, 64, None), slice(68, 101, None), slice(47, 68, None), slice(0, 1, None))]\n",
      "before threshold (array([ 0,  1,  2,  3,  4,  5,  6,  7,  8,  9, 10, 11, 12, 13, 14, 15, 16,\n",
      "       17, 18, 19, 20, 21, 22, 23, 24, 25, 26, 27, 28, 29, 30, 31, 32, 33,\n",
      "       34], dtype=int16), array([1044188,    1621,     878,     566,     428,     366,     300,\n",
      "           287,     257,     218,     183,     201,     169,     156,\n",
      "           149,     123,      95,      91,      89,      52,      45,\n",
      "            30,      32,      15,      18,      14,      13,       9,\n",
      "             9,       6,       6,       4,       2,       2,       2]))\n",
      "after threshold and dilation (array([0, 1], dtype=int16), array([1047253,    3371]))\n",
      "[ 0.  1.  2.  3.  4.  5.  6.  7.  8.  9. 10. 11. 12. 13. 14. 15. 16. 17.\n",
      " 18. 19. 20. 21. 22. 23. 24. 25. 26. 27. 28. 29. 30. 31. 32. 33. 34.]\n",
      "[[ 1.0000000e+00  2.2998258e-08  1.7771451e-11 -7.6293945e-06]\n",
      " [-2.2998258e-08  1.0000000e+00  2.2759105e-08  0.0000000e+00]\n",
      " [-1.7770898e-11 -2.2759105e-08  1.0000000e+00  7.6293945e-06]\n",
      " [ 0.0000000e+00  0.0000000e+00  0.0000000e+00  1.0000000e+00]]\n",
      "before threshold (array([ 0,  1,  2,  3,  4,  5,  6,  7,  8,  9, 10, 11, 12, 13, 14, 15, 16,\n",
      "       17, 18, 19, 20, 21, 22, 23, 24, 25, 26, 27, 28, 29, 30, 31, 32, 33,\n",
      "       34], dtype=int16), array([1044188,    1621,     878,     566,     428,     366,     300,\n",
      "           287,     257,     218,     183,     201,     169,     156,\n",
      "           149,     123,      95,      91,      89,      52,      45,\n",
      "            30,      32,      15,      18,      14,      13,       9,\n",
      "             9,       6,       6,       4,       2,       2,       2]))\n",
      "after threshold and dilation (array([0, 1], dtype=int16), array([1047253,    3371]))\n"
     ]
    },
    {
     "name": "stderr",
     "output_type": "stream",
     "text": [
      "/usr/lib/python3/dist-packages/scipy/__init__.py:146: UserWarning: A NumPy version >=1.17.3 and <1.25.0 is required for this version of SciPy (detected version 1.26.4\n",
      "  warnings.warn(f\"A NumPy version >={np_minversion} and <{np_maxversion}\"\n"
     ]
    },
    {
     "name": "stdout",
     "output_type": "stream",
     "text": [
      "loading direct transformations\n",
      "Output dimensions: 96, 114, 96\n",
      "Output voxel size: 2, 2, 2 mm\n",
      "Resampling carto_volume of S16...   0   1   2   3   4   5   6   7   8   9  10  11  12  13  14  15  16  17  18  19  20  21  22  23  24  25  26  27  28  29  30  31  32  33  34  35  36  37  38  39  40  41  42  43  44  45  46  47  48  49  50  51  52  53  54  55  56  57  58  59  60  61  62  63  64  65  66  67  68  69  70  71  72  73  74  75  76  77  78  79  80  81  82  83  84  85  86  87  88  89  90  91  92  93  94  95  96  97  98  99 100 %\n"
     ]
    },
    {
     "name": "stderr",
     "output_type": "stream",
     "text": [
      "/usr/lib/python3/dist-packages/scipy/__init__.py:146: UserWarning: A NumPy version >=1.17.3 and <1.25.0 is required for this version of SciPy (detected version 1.26.4\n",
      "  warnings.warn(f\"A NumPy version >={np_minversion} and <{np_maxversion}\"\n"
     ]
    },
    {
     "name": "stdout",
     "output_type": "stream",
     "text": [
      "loading direct transformations\n",
      "Output dimensions: 96, 114, 96\n",
      "Output voxel size: 2, 2, 2 mm\n",
      "Resampling carto_volume of S16...   0   1   2   3   4   5   6   7   8   9  10  11  12  13  14  15  16  17  18  19  20  21  22  23  24  25  26  27  28  29  30  31  32  33  34  35  36  37  38  39  40  41  42  43  44  45  46  47  48  49  50  51  52  53  54  55  56  57  58  59  60  61  62  63  64  65  66  67  68  69  70  71  72  73  74  75  76  77  78  79  80  81  82  83  84  85  86  87  88  89  90  91  92  93  94  95  96  97  98  99 100 %\n",
      "ndimage.find_objects(arr) = [(slice(46, 64, None), slice(68, 101, None), slice(47, 68, None), slice(0, 1, None))]\n",
      "before threshold (array([ 0,  1,  2,  3,  4,  5,  6,  7,  8,  9, 10, 11, 12, 13, 14, 15, 16,\n",
      "       17, 18, 19, 20, 21, 22, 23, 24, 25, 26, 27, 28, 29, 30, 31, 32, 33,\n",
      "       34], dtype=int16), array([1044188,    1621,     878,     566,     428,     366,     300,\n",
      "           287,     257,     218,     183,     201,     169,     156,\n",
      "           149,     123,      95,      91,      89,      52,      45,\n",
      "            30,      32,      15,      18,      14,      13,       9,\n",
      "             9,       6,       6,       4,       2,       2,       2]))\n",
      "after threshold and dilation (array([0, 1], dtype=int16), array([1047253,    3371]))\n",
      "[ 0.  1.  2.  3.  4.  5.  6.  7.  8.  9. 10. 11. 12. 13. 14. 15. 16. 17.\n",
      " 18. 19. 20. 21. 22. 23. 24. 25. 26. 27. 28. 29. 30. 31. 32. 33. 34.]\n",
      "[[ 1.00000000e+00 -1.03748884e-11  3.16384835e-11  0.00000000e+00]\n",
      " [ 1.03748884e-11  1.00000000e+00 -1.90791549e-11  0.00000000e+00]\n",
      " [-3.16384835e-11  1.90791549e-11  1.00000000e+00  0.00000000e+00]\n",
      " [ 0.00000000e+00  0.00000000e+00  0.00000000e+00  1.00000000e+00]]\n",
      "before threshold (array([ 0,  1,  2,  3,  4,  5,  6,  7,  8,  9, 10, 11, 12, 13, 14, 15, 16,\n",
      "       17, 18, 19, 20, 21, 22, 23, 24, 25, 26, 27, 28, 29, 30, 31, 32, 33,\n",
      "       34], dtype=int16), array([1044188,    1621,     878,     566,     428,     366,     300,\n",
      "           287,     257,     218,     183,     201,     169,     156,\n",
      "           149,     123,      95,      91,      89,      52,      45,\n",
      "            30,      32,      15,      18,      14,      13,       9,\n",
      "             9,       6,       6,       4,       2,       2,       2]))\n",
      "after threshold and dilation (array([0, 1], dtype=int16), array([1047253,    3371]))\n"
     ]
    },
    {
     "name": "stderr",
     "output_type": "stream",
     "text": [
      "/usr/lib/python3/dist-packages/scipy/__init__.py:146: UserWarning: A NumPy version >=1.17.3 and <1.25.0 is required for this version of SciPy (detected version 1.26.4\n",
      "  warnings.warn(f\"A NumPy version >={np_minversion} and <{np_maxversion}\"\n"
     ]
    },
    {
     "name": "stdout",
     "output_type": "stream",
     "text": [
      "loading direct transformations\n",
      "Output dimensions: 96, 114, 96\n",
      "Output voxel size: 2, 2, 2 mm\n",
      "Resampling carto_volume of S16...   0   1   2   3   4   5   6   7   8   9  10  11  12  13  14  15  16  17  18  19  20  21  22  23  24  25  26  27  28  29  30  31  32  33  34  35  36  37  38  39  40  41  42  43  44  45  46  47  48  49  50  51  52  53  54  55  56  57  58  59  60  61  62  63  64  65  66  67  68  69  70  71  72  73  74  75  76  77  78  79  80  81  82  83  84  85  86  87  88  89  90  91  92  93  94  95  96  97  98  99 100 %\n"
     ]
    },
    {
     "name": "stderr",
     "output_type": "stream",
     "text": [
      "/usr/lib/python3/dist-packages/scipy/__init__.py:146: UserWarning: A NumPy version >=1.17.3 and <1.25.0 is required for this version of SciPy (detected version 1.26.4\n",
      "  warnings.warn(f\"A NumPy version >={np_minversion} and <{np_maxversion}\"\n"
     ]
    },
    {
     "name": "stdout",
     "output_type": "stream",
     "text": [
      "loading direct transformations\n",
      "Output dimensions: 96, 114, 96\n",
      "Output voxel size: 2, 2, 2 mm\n",
      "Resampling carto_volume of S16...   0   1   2   3   4   5   6   7   8   9  10  11  12  13  14  15  16  17  18  19  20  21  22  23  24  25  26  27  28  29  30  31  32  33  34  35  36  37  38  39  40  41  42  43  44  45  46  47  48  49  50  51  52  53  54  55  56  57  58  59  60  61  62  63  64  65  66  67  68  69  70  71  72  73  74  75  76  77  78  79  80  81  82  83  84  85  86  87  88  89  90  91  92  93  94  95  96  97  98  99 100 %\n",
      "ndimage.find_objects(arr) = [(slice(46, 64, None), slice(68, 101, None), slice(47, 68, None), slice(0, 1, None))]\n",
      "before threshold (array([ 0,  1,  2,  3,  4,  5,  6,  7,  8,  9, 10, 11, 12, 13, 14, 15, 16,\n",
      "       17, 18, 19, 20, 21, 22, 23, 24, 25, 26, 27, 28, 29, 30, 31, 32, 33,\n",
      "       34], dtype=int16), array([1044188,    1621,     878,     566,     428,     366,     300,\n",
      "           287,     257,     218,     183,     201,     169,     156,\n",
      "           149,     123,      95,      91,      89,      52,      45,\n",
      "            30,      32,      15,      18,      14,      13,       9,\n",
      "             9,       6,       6,       4,       2,       2,       2]))\n",
      "after threshold and dilation (array([0, 1], dtype=int16), array([1047253,    3371]))\n",
      "[ 0.  1.  2.  3.  4.  5.  6.  7.  8.  9. 10. 11. 12. 13. 14. 15. 16. 17.\n",
      " 18. 19. 20. 21. 22. 23. 24. 25. 26. 27. 28. 29. 30. 31. 32. 33. 34.]\n",
      "[[ 1.0000000e+00 -1.5258596e-11 -2.0547590e-08  0.0000000e+00]\n",
      " [ 1.5258596e-11  1.0000000e+00 -1.1826560e-11  0.0000000e+00]\n",
      " [ 2.0547590e-08  1.1826560e-11  1.0000000e+00  0.0000000e+00]\n",
      " [ 0.0000000e+00  0.0000000e+00  0.0000000e+00  1.0000000e+00]]\n",
      "before threshold (array([ 0,  1,  2,  3,  4,  5,  6,  7,  8,  9, 10, 11, 12, 13, 14, 15, 16,\n",
      "       17, 18, 19, 20, 21, 22, 23, 24, 25, 26, 27, 28, 29, 30, 31, 32, 33,\n",
      "       34], dtype=int16), array([1044188,    1621,     878,     566,     428,     366,     300,\n",
      "           287,     257,     218,     183,     201,     169,     156,\n",
      "           149,     123,      95,      91,      89,      52,      45,\n",
      "            30,      32,      15,      18,      14,      13,       9,\n",
      "             9,       6,       6,       4,       2,       2,       2]))\n",
      "after threshold and dilation (array([0, 1], dtype=int16), array([1047253,    3371]))\n"
     ]
    },
    {
     "name": "stderr",
     "output_type": "stream",
     "text": [
      "/usr/lib/python3/dist-packages/scipy/__init__.py:146: UserWarning: A NumPy version >=1.17.3 and <1.25.0 is required for this version of SciPy (detected version 1.26.4\n",
      "  warnings.warn(f\"A NumPy version >={np_minversion} and <{np_maxversion}\"\n"
     ]
    },
    {
     "name": "stdout",
     "output_type": "stream",
     "text": [
      "loading direct transformations\n",
      "Output dimensions: 96, 114, 96\n",
      "Output voxel size: 2, 2, 2 mm\n",
      "Resampling carto_volume of S16...   0   1   2   3   4   5   6   7   8   9  10  11  12  13  14  15  16  17  18  19  20  21  22  23  24  25  26  27  28  29  30  31  32  33  34  35  36  37  38  39  40  41  42  43  44  45  46  47  48  49  50  51  52  53  54  55  56  57  58  59  60  61  62  63  64  65  66  67  68  69  70  71  72  73  74  75  76  77  78  79  80  81  82  83  84  85  86  87  88  89  90  91  92  93  94  95  96  97  98  99 100 %\n"
     ]
    },
    {
     "name": "stderr",
     "output_type": "stream",
     "text": [
      "/usr/lib/python3/dist-packages/scipy/__init__.py:146: UserWarning: A NumPy version >=1.17.3 and <1.25.0 is required for this version of SciPy (detected version 1.26.4\n",
      "  warnings.warn(f\"A NumPy version >={np_minversion} and <{np_maxversion}\"\n"
     ]
    },
    {
     "name": "stdout",
     "output_type": "stream",
     "text": [
      "loading direct transformations\n",
      "Output dimensions: 96, 114, 96\n",
      "Output voxel size: 2, 2, 2 mm\n",
      "Resampling carto_volume of S16...   0   1   2   3   4   5   6   7   8   9  10  11  12  13  14  15  16  17  18  19  20  21  22  23  24  25  26  27  28  29  30  31  32  33  34  35  36  37  38  39  40  41  42  43  44  45  46  47  48  49  50  51  52  53  54  55  56  57  58  59  60  61  62  63  64  65  66  67  68  69  70  71  72  73  74  75  76  77  78  79  80  81  82  83  84  85  86  87  88  89  90  91  92  93  94  95  96  97  98  99 100 %\n",
      "ndimage.find_objects(arr) = [(slice(46, 64, None), slice(68, 101, None), slice(47, 68, None), slice(0, 1, None))]\n",
      "before threshold (array([ 0,  1,  2,  3,  4,  5,  6,  7,  8,  9, 10, 11, 12, 13, 14, 15, 16,\n",
      "       17, 18, 19, 20, 21, 22, 23, 24, 25, 26, 27, 28, 29, 30, 31, 32, 33,\n",
      "       34], dtype=int16), array([1044188,    1621,     878,     566,     428,     366,     300,\n",
      "           287,     257,     218,     183,     201,     169,     156,\n",
      "           149,     123,      95,      91,      89,      52,      45,\n",
      "            30,      32,      15,      18,      14,      13,       9,\n",
      "             9,       6,       6,       4,       2,       2,       2]))\n",
      "after threshold and dilation (array([0, 1], dtype=int16), array([1047253,    3371]))\n",
      "[ 0.  1.  2.  3.  4.  5.  6.  7.  8.  9. 10. 11. 12. 13. 14. 15. 16. 17.\n",
      " 18. 19. 20. 21. 22. 23. 24. 25. 26. 27. 28. 29. 30. 31. 32. 33. 34.]\n",
      "[[ 1.0000000e+00 -1.4439123e-11 -2.9816722e-08  0.0000000e+00]\n",
      " [ 1.4439123e-11  1.0000000e+00 -1.9223019e-11  0.0000000e+00]\n",
      " [ 2.9816722e-08  1.9223019e-11  1.0000000e+00  0.0000000e+00]\n",
      " [ 0.0000000e+00  0.0000000e+00  0.0000000e+00  1.0000000e+00]]\n",
      "before threshold (array([ 0,  1,  2,  3,  4,  5,  6,  7,  8,  9, 10, 11, 12, 13, 14, 15, 16,\n",
      "       17, 18, 19, 20, 21, 22, 23, 24, 25, 26, 27, 28, 29, 30, 31, 32, 33,\n",
      "       34], dtype=int16), array([1044188,    1621,     878,     566,     428,     366,     300,\n",
      "           287,     257,     218,     183,     201,     169,     156,\n",
      "           149,     123,      95,      91,      89,      52,      45,\n",
      "            30,      32,      15,      18,      14,      13,       9,\n",
      "             9,       6,       6,       4,       2,       2,       2]))\n",
      "after threshold and dilation (array([0, 1], dtype=int16), array([1047253,    3371]))\n"
     ]
    },
    {
     "name": "stderr",
     "output_type": "stream",
     "text": [
      "/usr/lib/python3/dist-packages/scipy/__init__.py:146: UserWarning: A NumPy version >=1.17.3 and <1.25.0 is required for this version of SciPy (detected version 1.26.4\n",
      "  warnings.warn(f\"A NumPy version >={np_minversion} and <{np_maxversion}\"\n"
     ]
    },
    {
     "name": "stdout",
     "output_type": "stream",
     "text": [
      "loading direct transformations\n",
      "Output dimensions: 96, 114, 96\n",
      "Output voxel size: 2, 2, 2 mm\n",
      "Resampling carto_volume of S16...   0   1   2   3   4   5   6   7   8   9  10  11  12  13  14  15  16  17  18  19  20  21  22  23  24  25  26  27  28  29  30  31  32  33  34  35  36  37  38  39  40  41  42  43  44  45  46  47  48  49  50  51  52  53  54  55  56  57  58  59  60  61  62  63  64  65  66  67  68  69  70  71  72  73  74  75  76  77  78  79  80  81  82  83  84  85  86  87  88  89  90  91  92  93  94  95  96  97  98  99 100 %\n"
     ]
    },
    {
     "name": "stderr",
     "output_type": "stream",
     "text": [
      "/usr/lib/python3/dist-packages/scipy/__init__.py:146: UserWarning: A NumPy version >=1.17.3 and <1.25.0 is required for this version of SciPy (detected version 1.26.4\n",
      "  warnings.warn(f\"A NumPy version >={np_minversion} and <{np_maxversion}\"\n"
     ]
    },
    {
     "name": "stdout",
     "output_type": "stream",
     "text": [
      "loading direct transformations\n",
      "Output dimensions: 96, 114, 96\n",
      "Output voxel size: 2, 2, 2 mm\n",
      "Resampling carto_volume of S16...   0   1   2   3   4   5   6   7   8   9  10  11  12  13  14  15  16  17  18  19  20  21  22  23  24  25  26  27  28  29  30  31  32  33  34  35  36  37  38  39  40  41  42  43  44  45  46  47  48  49  50  51  52  53  54  55  56  57  58  59  60  61  62  63  64  65  66  67  68  69  70  71  72  73  74  75  76  77  78  79  80  81  82  83  84  85  86  87  88  89  90  91  92  93  94  95  96  97  98  99 100 %\n",
      "ndimage.find_objects(arr) = [(slice(46, 64, None), slice(68, 101, None), slice(47, 68, None), slice(0, 1, None))]\n",
      "before threshold (array([ 0,  1,  2,  3,  4,  5,  6,  7,  8,  9, 10, 11, 12, 13, 14, 15, 16,\n",
      "       17, 18, 19, 20, 21, 22, 23, 24, 25, 26, 27, 28, 29, 30, 31, 32, 33,\n",
      "       34], dtype=int16), array([1044188,    1621,     878,     566,     428,     366,     300,\n",
      "           287,     257,     218,     183,     201,     169,     156,\n",
      "           149,     123,      95,      91,      89,      52,      45,\n",
      "            30,      32,      15,      18,      14,      13,       9,\n",
      "             9,       6,       6,       4,       2,       2,       2]))\n",
      "after threshold and dilation (array([0, 1], dtype=int16), array([1047253,    3371]))\n",
      "[ 0.  1.  2.  3.  4.  5.  6.  7.  8.  9. 10. 11. 12. 13. 14. 15. 16. 17.\n",
      " 18. 19. 20. 21. 22. 23. 24. 25. 26. 27. 28. 29. 30. 31. 32. 33. 34.]\n",
      "[[ 1.0000000e+00  9.1633856e-09  4.8681084e-08 -7.6293945e-06]\n",
      " [-9.1633927e-09  1.0000000e+00  1.5053857e-07 -1.5258789e-05]\n",
      " [-4.8681081e-08 -1.5053857e-07  1.0000000e+00  3.0517578e-05]\n",
      " [ 0.0000000e+00  0.0000000e+00  0.0000000e+00  1.0000000e+00]]\n",
      "before threshold (array([ 0,  1,  2,  3,  4,  5,  6,  7,  8,  9, 10, 11, 12, 13, 14, 15, 16,\n",
      "       17, 18, 19, 20, 21, 22, 23, 24, 25, 26, 27, 28, 29, 30, 31, 32, 33,\n",
      "       34], dtype=int16), array([1044188,    1621,     878,     566,     428,     366,     300,\n",
      "           287,     257,     218,     183,     201,     169,     156,\n",
      "           149,     123,      95,      91,      89,      52,      45,\n",
      "            30,      32,      15,      18,      14,      13,       9,\n",
      "             9,       6,       6,       4,       2,       2,       2]))\n",
      "after threshold and dilation (array([0, 1], dtype=int16), array([1047253,    3371]))\n"
     ]
    },
    {
     "name": "stderr",
     "output_type": "stream",
     "text": [
      "/usr/lib/python3/dist-packages/scipy/__init__.py:146: UserWarning: A NumPy version >=1.17.3 and <1.25.0 is required for this version of SciPy (detected version 1.26.4\n",
      "  warnings.warn(f\"A NumPy version >={np_minversion} and <{np_maxversion}\"\n"
     ]
    },
    {
     "name": "stdout",
     "output_type": "stream",
     "text": [
      "loading direct transformations\n",
      "Output dimensions: 96, 114, 96\n",
      "Output voxel size: 2, 2, 2 mm\n",
      "Resampling carto_volume of S16...   0   1   2   3   4   5   6   7   8   9  10  11  12  13  14  15  16  17  18  19  20  21  22  23  24  25  26  27  28  29  30  31  32  33  34  35  36  37  38  39  40  41  42  43  44  45  46  47  48  49  50  51  52  53  54  55  56  57  58  59  60  61  62  63  64  65  66  67  68  69  70  71  72  73  74  75  76  77  78  79  80  81  82  83  84  85  86  87  88  89  90  91  92  93  94  95  96  97  98  99 100 %\n"
     ]
    },
    {
     "name": "stderr",
     "output_type": "stream",
     "text": [
      "/usr/lib/python3/dist-packages/scipy/__init__.py:146: UserWarning: A NumPy version >=1.17.3 and <1.25.0 is required for this version of SciPy (detected version 1.26.4\n",
      "  warnings.warn(f\"A NumPy version >={np_minversion} and <{np_maxversion}\"\n"
     ]
    },
    {
     "name": "stdout",
     "output_type": "stream",
     "text": [
      "loading direct transformations\n",
      "Output dimensions: 96, 114, 96\n",
      "Output voxel size: 2, 2, 2 mm\n",
      "Resampling carto_volume of S16...   0   1   2   3   4   5   6   7   8   9  10  11  12  13  14  15  16  17  18  19  20  21  22  23  24  25  26  27  28  29  30  31  32  33  34  35  36  37  38  39  40  41  42  43  44  45  46  47  48  49  50  51  52  53  54  55  56  57  58  59  60  61  62  63  64  65  66  67  68  69  70  71  72  73  74  75  76  77  78  79  80  81  82  83  84  85  86  87  88  89  90  91  92  93  94  95  96  97  98  99 100 %\n",
      "ndimage.find_objects(arr) = [(slice(46, 64, None), slice(68, 101, None), slice(47, 68, None), slice(0, 1, None))]\n",
      "before threshold (array([ 0,  1,  2,  3,  4,  5,  6,  7,  8,  9, 10, 11, 12, 13, 14, 15, 16,\n",
      "       17, 18, 19, 20, 21, 22, 23, 24, 25, 26, 27, 28, 29, 30, 31, 32, 33,\n",
      "       34], dtype=int16), array([1044188,    1621,     878,     566,     428,     366,     300,\n",
      "           287,     257,     218,     183,     201,     169,     156,\n",
      "           149,     123,      95,      91,      89,      52,      45,\n",
      "            30,      32,      15,      18,      14,      13,       9,\n",
      "             9,       6,       6,       4,       2,       2,       2]))\n",
      "after threshold and dilation (array([0, 1], dtype=int16), array([1047253,    3371]))\n",
      "[ 0.  1.  2.  3.  4.  5.  6.  7.  8.  9. 10. 11. 12. 13. 14. 15. 16. 17.\n",
      " 18. 19. 20. 21. 22. 23. 24. 25. 26. 27. 28. 29. 30. 31. 32. 33. 34.]\n",
      "[[ 1.0000000e+00 -1.6495310e-11  3.1638480e-11  0.0000000e+00]\n",
      " [ 1.6495310e-11  1.0000000e+00  1.6024259e-08  0.0000000e+00]\n",
      " [-3.1638483e-11 -1.6024259e-08  1.0000000e+00  0.0000000e+00]\n",
      " [ 0.0000000e+00  0.0000000e+00  0.0000000e+00  1.0000000e+00]]\n",
      "before threshold (array([ 0,  1,  2,  3,  4,  5,  6,  7,  8,  9, 10, 11, 12, 13, 14, 15, 16,\n",
      "       17, 18, 19, 20, 21, 22, 23, 24, 25, 26, 27, 28, 29, 30, 31, 32, 33,\n",
      "       34], dtype=int16), array([1044188,    1621,     878,     566,     428,     366,     300,\n",
      "           287,     257,     218,     183,     201,     169,     156,\n",
      "           149,     123,      95,      91,      89,      52,      45,\n",
      "            30,      32,      15,      18,      14,      13,       9,\n",
      "             9,       6,       6,       4,       2,       2,       2]))\n",
      "after threshold and dilation (array([0, 1], dtype=int16), array([1047253,    3371]))\n"
     ]
    },
    {
     "name": "stderr",
     "output_type": "stream",
     "text": [
      "/usr/lib/python3/dist-packages/scipy/__init__.py:146: UserWarning: A NumPy version >=1.17.3 and <1.25.0 is required for this version of SciPy (detected version 1.26.4\n",
      "  warnings.warn(f\"A NumPy version >={np_minversion} and <{np_maxversion}\"\n"
     ]
    },
    {
     "name": "stdout",
     "output_type": "stream",
     "text": [
      "loading direct transformations\n",
      "Output dimensions: 96, 114, 96\n",
      "Output voxel size: 2, 2, 2 mm\n",
      "Resampling carto_volume of S16...   0   1   2   3   4   5   6   7   8   9  10  11  12  13  14  15  16  17  18  19  20  21  22  23  24  25  26  27  28  29  30  31  32  33  34  35  36  37  38  39  40  41  42  43  44  45  46  47  48  49  50  51  52  53  54  55  56  57  58  59  60  61  62  63  64  65  66  67  68  69  70  71  72  73  74  75  76  77  78  79  80  81  82  83  84  85  86  87  88  89  90  91  92  93  94  95  96  97  98  99 100 %\n"
     ]
    },
    {
     "name": "stderr",
     "output_type": "stream",
     "text": [
      "/usr/lib/python3/dist-packages/scipy/__init__.py:146: UserWarning: A NumPy version >=1.17.3 and <1.25.0 is required for this version of SciPy (detected version 1.26.4\n",
      "  warnings.warn(f\"A NumPy version >={np_minversion} and <{np_maxversion}\"\n"
     ]
    },
    {
     "name": "stdout",
     "output_type": "stream",
     "text": [
      "loading direct transformations\n",
      "Output dimensions: 96, 114, 96\n",
      "Output voxel size: 2, 2, 2 mm\n",
      "Resampling carto_volume of S16...   0   1   2   3   4   5   6   7   8   9  10  11  12  13  14  15  16  17  18  19  20  21  22  23  24  25  26  27  28  29  30  31  32  33  34  35  36  37  38  39  40  41  42  43  44  45  46  47  48  49  50  51  52  53  54  55  56  57  58  59  60  61  62  63  64  65  66  67  68  69  70  71  72  73  74  75  76  77  78  79  80  81  82  83  84  85  86  87  88  89  90  91  92  93  94  95  96  97  98  99 100 %\n",
      "ndimage.find_objects(arr) = [(slice(46, 64, None), slice(68, 101, None), slice(47, 68, None), slice(0, 1, None))]\n",
      "before threshold (array([ 0,  1,  2,  3,  4,  5,  6,  7,  8,  9, 10, 11, 12, 13, 14, 15, 16,\n",
      "       17, 18, 19, 20, 21, 22, 23, 24, 25, 26, 27, 28, 29, 30, 31, 32, 33,\n",
      "       34], dtype=int16), array([1044188,    1621,     878,     566,     428,     366,     300,\n",
      "           287,     257,     218,     183,     201,     169,     156,\n",
      "           149,     123,      95,      91,      89,      52,      45,\n",
      "            30,      32,      15,      18,      14,      13,       9,\n",
      "             9,       6,       6,       4,       2,       2,       2]))\n",
      "after threshold and dilation (array([0, 1], dtype=int16), array([1047253,    3371]))\n",
      "[ 0.  1.  2.  3.  4.  5.  6.  7.  8.  9. 10. 11. 12. 13. 14. 15. 16. 17.\n",
      " 18. 19. 20. 21. 22. 23. 24. 25. 26. 27. 28. 29. 30. 31. 32. 33. 34.]\n",
      "[[ 1.00000000e+00  1.57425006e-07 -6.69335298e-09 -2.28881836e-05]\n",
      " [-1.56938114e-07  9.91315961e-01 -1.31501466e-01  1.58372498e+01]\n",
      " [-1.40663925e-08  1.31501466e-01  9.91315961e-01 -2.12986450e+01]\n",
      " [ 0.00000000e+00  0.00000000e+00  0.00000000e+00  1.00000000e+00]]\n",
      "before threshold (array([ 0,  1,  2,  3,  4,  5,  6,  7,  8,  9, 10, 11, 12, 13, 14, 15, 16,\n",
      "       17, 18, 19, 20, 21, 22, 23, 24, 25, 26, 27, 28, 29, 30, 31, 32, 33,\n",
      "       34], dtype=int16), array([1044188,    1621,     878,     566,     428,     366,     300,\n",
      "           287,     257,     218,     183,     201,     169,     156,\n",
      "           149,     123,      95,      91,      89,      52,      45,\n",
      "            30,      32,      15,      18,      14,      13,       9,\n",
      "             9,       6,       6,       4,       2,       2,       2]))\n",
      "after threshold and dilation (array([0, 1], dtype=int16), array([1047253,    3371]))\n"
     ]
    },
    {
     "name": "stderr",
     "output_type": "stream",
     "text": [
      "/usr/lib/python3/dist-packages/scipy/__init__.py:146: UserWarning: A NumPy version >=1.17.3 and <1.25.0 is required for this version of SciPy (detected version 1.26.4\n",
      "  warnings.warn(f\"A NumPy version >={np_minversion} and <{np_maxversion}\"\n"
     ]
    },
    {
     "name": "stdout",
     "output_type": "stream",
     "text": [
      "loading direct transformations\n",
      "Output dimensions: 96, 114, 96\n",
      "Output voxel size: 2, 2, 2 mm\n",
      "Resampling carto_volume of S16...   0   1   2   3   4   5   6   7   8   9  10  11  12  13  14  15  16  17  18  19  20  21  22  23  24  25  26  27  28  29  30  31  32  33  34  35  36  37  38  39  40  41  42  43  44  45  46  47  48  49  50  51  52  53  54  55  56  57  58  59  60  61  62  63  64  65  66  67  68  69  70  71  72  73  74  75  76  77  78  79  80  81  82  83  84  85  86  87  88  89  90  91  92  93  94  95  96  97  98  99 100 %\n"
     ]
    },
    {
     "name": "stderr",
     "output_type": "stream",
     "text": [
      "/usr/lib/python3/dist-packages/scipy/__init__.py:146: UserWarning: A NumPy version >=1.17.3 and <1.25.0 is required for this version of SciPy (detected version 1.26.4\n",
      "  warnings.warn(f\"A NumPy version >={np_minversion} and <{np_maxversion}\"\n"
     ]
    },
    {
     "name": "stdout",
     "output_type": "stream",
     "text": [
      "loading direct transformations\n",
      "Output dimensions: 96, 114, 96\n",
      "Output voxel size: 2, 2, 2 mm\n",
      "Resampling carto_volume of S16...   0   1   2   3   4   5   6   7   8   9  10  11  12  13  14  15  16  17  18  19  20  21  22  23  24  25  26  27  28  29  30  31  32  33  34  35  36  37  38  39  40  41  42  43  44  45  46  47  48  49  50  51  52  53  54  55  56  57  58  59  60  61  62  63  64  65  66  67  68  69  70  71  72  73  74  75  76  77  78  79  80  81  82  83  84  85  86  87  88  89  90  91  92  93  94  95  96  97  98  99 100 %\n",
      "ndimage.find_objects(arr) = [(slice(46, 64, None), slice(68, 101, None), slice(47, 68, None), slice(0, 1, None))]\n",
      "before threshold (array([ 0,  1,  2,  3,  4,  5,  6,  7,  8,  9, 10, 11, 12, 13, 14, 15, 16,\n",
      "       17, 18, 19, 20, 21, 22, 23, 24, 25, 26, 27, 28, 29, 30, 31, 32, 33,\n",
      "       34], dtype=int16), array([1044188,    1621,     878,     566,     428,     366,     300,\n",
      "           287,     257,     218,     183,     201,     169,     156,\n",
      "           149,     123,      95,      91,      89,      52,      45,\n",
      "            30,      32,      15,      18,      14,      13,       9,\n",
      "             9,       6,       6,       4,       2,       2,       2]))\n",
      "after threshold and dilation (array([0, 1], dtype=int16), array([1047253,    3371]))\n",
      "[ 0.  1.  2.  3.  4.  5.  6.  7.  8.  9. 10. 11. 12. 13. 14. 15. 16. 17.\n",
      " 18. 19. 20. 21. 22. 23. 24. 25. 26. 27. 28. 29. 30. 31. 32. 33. 34.]\n",
      "[[ 1.0000000e+00  2.7330248e-06 -9.3658521e-08 -3.7384033e-04]\n",
      " [-2.7330248e-06  1.0000000e+00 -1.7632222e-07  3.2043457e-04]\n",
      " [ 9.3658038e-08  1.7632247e-07  1.0000000e+00 -3.8146973e-05]\n",
      " [ 0.0000000e+00  0.0000000e+00  0.0000000e+00  1.0000000e+00]]\n",
      "before threshold (array([ 0,  1,  2,  3,  4,  5,  6,  7,  8,  9, 10, 11, 12, 13, 14, 15, 16,\n",
      "       17, 18, 19, 20, 21, 22, 23, 24, 25, 26, 27, 28, 29, 30, 31, 32, 33,\n",
      "       34], dtype=int16), array([1044188,    1621,     878,     566,     428,     366,     300,\n",
      "           287,     257,     218,     183,     201,     169,     156,\n",
      "           149,     123,      95,      91,      89,      52,      45,\n",
      "            30,      32,      15,      18,      14,      13,       9,\n",
      "             9,       6,       6,       4,       2,       2,       2]))\n",
      "after threshold and dilation (array([0, 1], dtype=int16), array([1047253,    3371]))\n"
     ]
    },
    {
     "name": "stderr",
     "output_type": "stream",
     "text": [
      "/usr/lib/python3/dist-packages/scipy/__init__.py:146: UserWarning: A NumPy version >=1.17.3 and <1.25.0 is required for this version of SciPy (detected version 1.26.4\n",
      "  warnings.warn(f\"A NumPy version >={np_minversion} and <{np_maxversion}\"\n"
     ]
    },
    {
     "name": "stdout",
     "output_type": "stream",
     "text": [
      "loading direct transformations\n",
      "Output dimensions: 96, 114, 96\n",
      "Output voxel size: 2, 2, 2 mm\n",
      "Resampling carto_volume of S16...   0   1   2   3   4   5   6   7   8   9  10  11  12  13  14  15  16  17  18  19  20  21  22  23  24  25  26  27  28  29  30  31  32  33  34  35  36  37  38  39  40  41  42  43  44  45  46  47  48  49  50  51  52  53  54  55  56  57  58  59  60  61  62  63  64  65  66  67  68  69  70  71  72  73  74  75  76  77  78  79  80  81  82  83  84  85  86  87  88  89  90  91  92  93  94  95  96  97  98  99 100 %\n"
     ]
    },
    {
     "name": "stderr",
     "output_type": "stream",
     "text": [
      "/usr/lib/python3/dist-packages/scipy/__init__.py:146: UserWarning: A NumPy version >=1.17.3 and <1.25.0 is required for this version of SciPy (detected version 1.26.4\n",
      "  warnings.warn(f\"A NumPy version >={np_minversion} and <{np_maxversion}\"\n"
     ]
    },
    {
     "name": "stdout",
     "output_type": "stream",
     "text": [
      "loading direct transformations\n",
      "Output dimensions: 96, 114, 96\n",
      "Output voxel size: 2, 2, 2 mm\n",
      "Resampling carto_volume of S16...   0   1   2   3   4   5   6   7   8   9  10  11  12  13  14  15  16  17  18  19  20  21  22  23  24  25  26  27  28  29  30  31  32  33  34  35  36  37  38  39  40  41  42  43  44  45  46  47  48  49  50  51  52  53  54  55  56  57  58  59  60  61  62  63  64  65  66  67  68  69  70  71  72  73  74  75  76  77  78  79  80  81  82  83  84  85  86  87  88  89  90  91  92  93  94  95  96  97  98  99 100 %\n",
      "ndimage.find_objects(arr) = [(slice(46, 64, None), slice(68, 101, None), slice(47, 68, None), slice(0, 1, None))]\n",
      "before threshold (array([ 0,  1,  2,  3,  4,  5,  6,  7,  8,  9, 10, 11, 12, 13, 14, 15, 16,\n",
      "       17, 18, 19, 20, 21, 22, 23, 24, 25, 26, 27, 28, 29, 30, 31, 32, 33,\n",
      "       34], dtype=int16), array([1044188,    1621,     878,     566,     428,     366,     300,\n",
      "           287,     257,     218,     183,     201,     169,     156,\n",
      "           149,     123,      95,      91,      89,      52,      45,\n",
      "            30,      32,      15,      18,      14,      13,       9,\n",
      "             9,       6,       6,       4,       2,       2,       2]))\n",
      "after threshold and dilation (array([0, 1], dtype=int16), array([1047253,    3371]))\n",
      "[ 0.  1.  2.  3.  4.  5.  6.  7.  8.  9. 10. 11. 12. 13. 14. 15. 16. 17.\n",
      " 18. 19. 20. 21. 22. 23. 24. 25. 26. 27. 28. 29. 30. 31. 32. 33. 34.]\n",
      "[[ 1.0000000e+00  8.7112975e-09 -1.6802042e-11  0.0000000e+00]\n",
      " [-8.7112975e-09  1.0000000e+00 -3.2420516e-08  0.0000000e+00]\n",
      " [ 1.6801765e-11  3.2420516e-08  1.0000000e+00 -7.6293945e-06]\n",
      " [ 0.0000000e+00  0.0000000e+00  0.0000000e+00  1.0000000e+00]]\n",
      "before threshold (array([ 0,  1,  2,  3,  4,  5,  6,  7,  8,  9, 10, 11, 12, 13, 14, 15, 16,\n",
      "       17, 18, 19, 20, 21, 22, 23, 24, 25, 26, 27, 28, 29, 30, 31, 32, 33,\n",
      "       34], dtype=int16), array([1044188,    1621,     878,     566,     428,     366,     300,\n",
      "           287,     257,     218,     183,     201,     169,     156,\n",
      "           149,     123,      95,      91,      89,      52,      45,\n",
      "            30,      32,      15,      18,      14,      13,       9,\n",
      "             9,       6,       6,       4,       2,       2,       2]))\n",
      "after threshold and dilation (array([0, 1], dtype=int16), array([1047253,    3371]))\n"
     ]
    },
    {
     "name": "stderr",
     "output_type": "stream",
     "text": [
      "/usr/lib/python3/dist-packages/scipy/__init__.py:146: UserWarning: A NumPy version >=1.17.3 and <1.25.0 is required for this version of SciPy (detected version 1.26.4\n",
      "  warnings.warn(f\"A NumPy version >={np_minversion} and <{np_maxversion}\"\n"
     ]
    },
    {
     "name": "stdout",
     "output_type": "stream",
     "text": [
      "loading direct transformations\n",
      "Output dimensions: 96, 114, 96\n",
      "Output voxel size: 2, 2, 2 mm\n",
      "Resampling carto_volume of S16...   0   1   2   3   4   5   6   7   8   9  10  11  12  13  14  15  16  17  18  19  20  21  22  23  24  25  26  27  28  29  30  31  32  33  34  35  36  37  38  39  40  41  42  43  44  45  46  47  48  49  50  51  52  53  54  55  56  57  58  59  60  61  62  63  64  65  66  67  68  69  70  71  72  73  74  75  76  77  78  79  80  81  82  83  84  85  86  87  88  89  90  91  92  93  94  95  96  97  98  99 100 %\n"
     ]
    },
    {
     "name": "stderr",
     "output_type": "stream",
     "text": [
      "/usr/lib/python3/dist-packages/scipy/__init__.py:146: UserWarning: A NumPy version >=1.17.3 and <1.25.0 is required for this version of SciPy (detected version 1.26.4\n",
      "  warnings.warn(f\"A NumPy version >={np_minversion} and <{np_maxversion}\"\n"
     ]
    },
    {
     "name": "stdout",
     "output_type": "stream",
     "text": [
      "loading direct transformations\n",
      "Output dimensions: 96, 114, 96\n",
      "Output voxel size: 2, 2, 2 mm\n",
      "Resampling carto_volume of S16...   0   1   2   3   4   5   6   7   8   9  10  11  12  13  14  15  16  17  18  19  20  21  22  23  24  25  26  27  28  29  30  31  32  33  34  35  36  37  38  39  40  41  42  43  44  45  46  47  48  49  50  51  52  53  54  55  56  57  58  59  60  61  62  63  64  65  66  67  68  69  70  71  72  73  74  75  76  77  78  79  80  81  82  83  84  85  86  87  88  89  90  91  92  93  94  95  96  97  98  99 100 %\n",
      "ndimage.find_objects(arr) = [(slice(46, 64, None), slice(68, 101, None), slice(47, 68, None), slice(0, 1, None))]\n",
      "before threshold (array([ 0,  1,  2,  3,  4,  5,  6,  7,  8,  9, 10, 11, 12, 13, 14, 15, 16,\n",
      "       17, 18, 19, 20, 21, 22, 23, 24, 25, 26, 27, 28, 29, 30, 31, 32, 33,\n",
      "       34], dtype=int16), array([1044188,    1621,     878,     566,     428,     366,     300,\n",
      "           287,     257,     218,     183,     201,     169,     156,\n",
      "           149,     123,      95,      91,      89,      52,      45,\n",
      "            30,      32,      15,      18,      14,      13,       9,\n",
      "             9,       6,       6,       4,       2,       2,       2]))\n",
      "after threshold and dilation (array([0, 1], dtype=int16), array([1047253,    3371]))\n",
      "[ 0.  1.  2.  3.  4.  5.  6.  7.  8.  9. 10. 11. 12. 13. 14. 15. 16. 17.\n",
      " 18. 19. 20. 21. 22. 23. 24. 25. 26. 27. 28. 29. 30. 31. 32. 33. 34.]\n",
      "[[ 1.0000000e+00  8.7328536e-09  1.5571884e-07 -1.5258789e-05]\n",
      " [-8.7328171e-09  1.0000000e+00 -2.3442421e-07  3.0517578e-05]\n",
      " [-1.5571884e-07  2.3442421e-07  1.0000000e+00 -2.2888184e-05]\n",
      " [ 0.0000000e+00  0.0000000e+00  0.0000000e+00  1.0000000e+00]]\n",
      "before threshold (array([ 0,  1,  2,  3,  4,  5,  6,  7,  8,  9, 10, 11, 12, 13, 14, 15, 16,\n",
      "       17, 18, 19, 20, 21, 22, 23, 24, 25, 26, 27, 28, 29, 30, 31, 32, 33,\n",
      "       34], dtype=int16), array([1044188,    1621,     878,     566,     428,     366,     300,\n",
      "           287,     257,     218,     183,     201,     169,     156,\n",
      "           149,     123,      95,      91,      89,      52,      45,\n",
      "            30,      32,      15,      18,      14,      13,       9,\n",
      "             9,       6,       6,       4,       2,       2,       2]))\n",
      "after threshold and dilation (array([0, 1], dtype=int16), array([1047253,    3371]))\n"
     ]
    },
    {
     "name": "stderr",
     "output_type": "stream",
     "text": [
      "/usr/lib/python3/dist-packages/scipy/__init__.py:146: UserWarning: A NumPy version >=1.17.3 and <1.25.0 is required for this version of SciPy (detected version 1.26.4\n",
      "  warnings.warn(f\"A NumPy version >={np_minversion} and <{np_maxversion}\"\n"
     ]
    },
    {
     "name": "stdout",
     "output_type": "stream",
     "text": [
      "loading direct transformations\n",
      "Output dimensions: 96, 114, 96\n",
      "Output voxel size: 2, 2, 2 mm\n",
      "Resampling carto_volume of S16...   0   1   2   3   4   5   6   7   8   9  10  11  12  13  14  15  16  17  18  19  20  21  22  23  24  25  26  27  28  29  30  31  32  33  34  35  36  37  38  39  40  41  42  43  44  45  46  47  48  49  50  51  52  53  54  55  56  57  58  59  60  61  62  63  64  65  66  67  68  69  70  71  72  73  74  75  76  77  78  79  80  81  82  83  84  85  86  87  88  89  90  91  92  93  94  95  96  97  98  99 100 %\n"
     ]
    },
    {
     "name": "stderr",
     "output_type": "stream",
     "text": [
      "/usr/lib/python3/dist-packages/scipy/__init__.py:146: UserWarning: A NumPy version >=1.17.3 and <1.25.0 is required for this version of SciPy (detected version 1.26.4\n",
      "  warnings.warn(f\"A NumPy version >={np_minversion} and <{np_maxversion}\"\n"
     ]
    },
    {
     "name": "stdout",
     "output_type": "stream",
     "text": [
      "loading direct transformations\n",
      "Output dimensions: 96, 114, 96\n",
      "Output voxel size: 2, 2, 2 mm\n",
      "Resampling carto_volume of S16...   0   1   2   3   4   5   6   7   8   9  10  11  12  13  14  15  16  17  18  19  20  21  22  23  24  25  26  27  28  29  30  31  32  33  34  35  36  37  38  39  40  41  42  43  44  45  46  47  48  49  50  51  52  53  54  55  56  57  58  59  60  61  62  63  64  65  66  67  68  69  70  71  72  73  74  75  76  77  78  79  80  81  82  83  84  85  86  87  88  89  90  91  92  93  94  95  96  97  98  99 100 %\n",
      "ndimage.find_objects(arr) = [(slice(46, 64, None), slice(68, 101, None), slice(47, 68, None), slice(0, 1, None))]\n",
      "before threshold (array([ 0,  1,  2,  3,  4,  5,  6,  7,  8,  9, 10, 11, 12, 13, 14, 15, 16,\n",
      "       17, 18, 19, 20, 21, 22, 23, 24, 25, 26, 27, 28, 29, 30, 31, 32, 33,\n",
      "       34], dtype=int16), array([1044188,    1621,     878,     566,     428,     366,     300,\n",
      "           287,     257,     218,     183,     201,     169,     156,\n",
      "           149,     123,      95,      91,      89,      52,      45,\n",
      "            30,      32,      15,      18,      14,      13,       9,\n",
      "             9,       6,       6,       4,       2,       2,       2]))\n",
      "after threshold and dilation (array([0, 1], dtype=int16), array([1047253,    3371]))\n",
      "[ 0.  1.  2.  3.  4.  5.  6.  7.  8.  9. 10. 11. 12. 13. 14. 15. 16. 17.\n",
      " 18. 19. 20. 21. 22. 23. 24. 25. 26. 27. 28. 29. 30. 31. 32. 33. 34.]\n",
      "[[ 1.0000000e+00 -1.7131025e-07 -4.5858222e-08  3.8146973e-05]\n",
      " [ 1.7131025e-07  1.0000000e+00 -1.6657644e-07  0.0000000e+00]\n",
      " [ 4.5858251e-08  1.6657643e-07  1.0000000e+00 -3.0517578e-05]\n",
      " [ 0.0000000e+00  0.0000000e+00  0.0000000e+00  1.0000000e+00]]\n",
      "before threshold (array([ 0,  1,  2,  3,  4,  5,  6,  7,  8,  9, 10, 11, 12, 13, 14, 15, 16,\n",
      "       17, 18, 19, 20, 21, 22, 23, 24, 25, 26, 27, 28, 29, 30, 31, 32, 33,\n",
      "       34], dtype=int16), array([1044188,    1621,     878,     566,     428,     366,     300,\n",
      "           287,     257,     218,     183,     201,     169,     156,\n",
      "           149,     123,      95,      91,      89,      52,      45,\n",
      "            30,      32,      15,      18,      14,      13,       9,\n",
      "             9,       6,       6,       4,       2,       2,       2]))\n",
      "after threshold and dilation (array([0, 1], dtype=int16), array([1047253,    3371]))\n"
     ]
    },
    {
     "name": "stderr",
     "output_type": "stream",
     "text": [
      "/usr/lib/python3/dist-packages/scipy/__init__.py:146: UserWarning: A NumPy version >=1.17.3 and <1.25.0 is required for this version of SciPy (detected version 1.26.4\n",
      "  warnings.warn(f\"A NumPy version >={np_minversion} and <{np_maxversion}\"\n"
     ]
    },
    {
     "name": "stdout",
     "output_type": "stream",
     "text": [
      "loading direct transformations\n",
      "Output dimensions: 96, 114, 96\n",
      "Output voxel size: 2, 2, 2 mm\n",
      "Resampling carto_volume of S16...   0   1   2   3   4   5   6   7   8   9  10  11  12  13  14  15  16  17  18  19  20  21  22  23  24  25  26  27  28  29  30  31  32  33  34  35  36  37  38  39  40  41  42  43  44  45  46  47  48  49  50  51  52  53  54  55  56  57  58  59  60  61  62  63  64  65  66  67  68  69  70  71  72  73  74  75  76  77  78  79  80  81  82  83  84  85  86  87  88  89  90  91  92  93  94  95  96  97  98  99 100 %\n"
     ]
    },
    {
     "name": "stderr",
     "output_type": "stream",
     "text": [
      "/usr/lib/python3/dist-packages/scipy/__init__.py:146: UserWarning: A NumPy version >=1.17.3 and <1.25.0 is required for this version of SciPy (detected version 1.26.4\n",
      "  warnings.warn(f\"A NumPy version >={np_minversion} and <{np_maxversion}\"\n"
     ]
    },
    {
     "name": "stdout",
     "output_type": "stream",
     "text": [
      "loading direct transformations\n",
      "Output dimensions: 96, 114, 96\n",
      "Output voxel size: 2, 2, 2 mm\n",
      "Resampling carto_volume of S16...   0   1   2   3   4   5   6   7   8   9  10  11  12  13  14  15  16  17  18  19  20  21  22  23  24  25  26  27  28  29  30  31  32  33  34  35  36  37  38  39  40  41  42  43  44  45  46  47  48  49  50  51  52  53  54  55  56  57  58  59  60  61  62  63  64  65  66  67  68  69  70  71  72  73  74  75  76  77  78  79  80  81  82  83  84  85  86  87  88  89  90  91  92  93  94  95  96  97  98  99 100 %\n",
      "ndimage.find_objects(arr) = [(slice(46, 64, None), slice(68, 101, None), slice(47, 68, None), slice(0, 1, None))]\n",
      "before threshold (array([ 0,  1,  2,  3,  4,  5,  6,  7,  8,  9, 10, 11, 12, 13, 14, 15, 16,\n",
      "       17, 18, 19, 20, 21, 22, 23, 24, 25, 26, 27, 28, 29, 30, 31, 32, 33,\n",
      "       34], dtype=int16), array([1044188,    1621,     878,     566,     428,     366,     300,\n",
      "           287,     257,     218,     183,     201,     169,     156,\n",
      "           149,     123,      95,      91,      89,      52,      45,\n",
      "            30,      32,      15,      18,      14,      13,       9,\n",
      "             9,       6,       6,       4,       2,       2,       2]))\n",
      "after threshold and dilation (array([0, 1], dtype=int16), array([1047253,    3371]))\n",
      "[ 0.  1.  2.  3.  4.  5.  6.  7.  8.  9. 10. 11. 12. 13. 14. 15. 16. 17.\n",
      " 18. 19. 20. 21. 22. 23. 24. 25. 26. 27. 28. 29. 30. 31. 32. 33. 34.]\n",
      "[[ 1.0000000e+00  9.9468558e-09  2.2995007e-08  0.0000000e+00]\n",
      " [-9.9468505e-09  1.0000000e+00 -2.1911980e-07  1.5258789e-05]\n",
      " [-2.2995009e-08  2.1911980e-07  1.0000000e+00 -3.0517578e-05]\n",
      " [ 0.0000000e+00  0.0000000e+00  0.0000000e+00  1.0000000e+00]]\n",
      "before threshold (array([ 0,  1,  2,  3,  4,  5,  6,  7,  8,  9, 10, 11, 12, 13, 14, 15, 16,\n",
      "       17, 18, 19, 20, 21, 22, 23, 24, 25, 26, 27, 28, 29, 30, 31, 32, 33,\n",
      "       34], dtype=int16), array([1044188,    1621,     878,     566,     428,     366,     300,\n",
      "           287,     257,     218,     183,     201,     169,     156,\n",
      "           149,     123,      95,      91,      89,      52,      45,\n",
      "            30,      32,      15,      18,      14,      13,       9,\n",
      "             9,       6,       6,       4,       2,       2,       2]))\n",
      "after threshold and dilation (array([0, 1], dtype=int16), array([1047253,    3371]))\n"
     ]
    },
    {
     "name": "stderr",
     "output_type": "stream",
     "text": [
      "/usr/lib/python3/dist-packages/scipy/__init__.py:146: UserWarning: A NumPy version >=1.17.3 and <1.25.0 is required for this version of SciPy (detected version 1.26.4\n",
      "  warnings.warn(f\"A NumPy version >={np_minversion} and <{np_maxversion}\"\n"
     ]
    },
    {
     "name": "stdout",
     "output_type": "stream",
     "text": [
      "loading direct transformations\n",
      "Output dimensions: 96, 114, 96\n",
      "Output voxel size: 2, 2, 2 mm\n",
      "Resampling carto_volume of S16...   0   1   2   3   4   5   6   7   8   9  10  11  12  13  14  15  16  17  18  19  20  21  22  23  24  25  26  27  28  29  30  31  32  33  34  35  36  37  38  39  40  41  42  43  44  45  46  47  48  49  50  51  52  53  54  55  56  57  58  59  60  61  62  63  64  65  66  67  68  69  70  71  72  73  74  75  76  77  78  79  80  81  82  83  84  85  86  87  88  89  90  91  92  93  94  95  96  97  98  99 100 %\n"
     ]
    },
    {
     "name": "stderr",
     "output_type": "stream",
     "text": [
      "/usr/lib/python3/dist-packages/scipy/__init__.py:146: UserWarning: A NumPy version >=1.17.3 and <1.25.0 is required for this version of SciPy (detected version 1.26.4\n",
      "  warnings.warn(f\"A NumPy version >={np_minversion} and <{np_maxversion}\"\n"
     ]
    },
    {
     "name": "stdout",
     "output_type": "stream",
     "text": [
      "loading direct transformations\n",
      "Output dimensions: 96, 114, 96\n",
      "Output voxel size: 2, 2, 2 mm\n",
      "Resampling carto_volume of S16...   0   1   2   3   4   5   6   7   8   9  10  11  12  13  14  15  16  17  18  19  20  21  22  23  24  25  26  27  28  29  30  31  32  33  34  35  36  37  38  39  40  41  42  43  44  45  46  47  48  49  50  51  52  53  54  55  56  57  58  59  60  61  62  63  64  65  66  67  68  69  70  71  72  73  74  75  76  77  78  79  80  81  82  83  84  85  86  87  88  89  90  91  92  93  94  95  96  97  98  99 100 %\n",
      "ndimage.find_objects(arr) = [(slice(46, 64, None), slice(68, 101, None), slice(47, 68, None), slice(0, 1, None))]\n",
      "before threshold (array([ 0,  1,  2,  3,  4,  5,  6,  7,  8,  9, 10, 11, 12, 13, 14, 15, 16,\n",
      "       17, 18, 19, 20, 21, 22, 23, 24, 25, 26, 27, 28, 29, 30, 31, 32, 33,\n",
      "       34], dtype=int16), array([1044188,    1621,     878,     566,     428,     366,     300,\n",
      "           287,     257,     218,     183,     201,     169,     156,\n",
      "           149,     123,      95,      91,      89,      52,      45,\n",
      "            30,      32,      15,      18,      14,      13,       9,\n",
      "             9,       6,       6,       4,       2,       2,       2]))\n",
      "after threshold and dilation (array([0, 1], dtype=int16), array([1047253,    3371]))\n",
      "[ 0.  1.  2.  3.  4.  5.  6.  7.  8.  9. 10. 11. 12. 13. 14. 15. 16. 17.\n",
      " 18. 19. 20. 21. 22. 23. 24. 25. 26. 27. 28. 29. 30. 31. 32. 33. 34.]\n",
      "[[ 1.0000000e+00  1.9655364e-08 -9.3541503e-09  0.0000000e+00]\n",
      " [-1.9655364e-08  1.0000000e+00  7.2616593e-09  0.0000000e+00]\n",
      " [ 9.3541503e-09 -7.2616593e-09  1.0000000e+00  0.0000000e+00]\n",
      " [ 0.0000000e+00  0.0000000e+00  0.0000000e+00  1.0000000e+00]]\n",
      "before threshold (array([ 0,  1,  2,  3,  4,  5,  6,  7,  8,  9, 10, 11, 12, 13, 14, 15, 16,\n",
      "       17, 18, 19, 20, 21, 22, 23, 24, 25, 26, 27, 28, 29, 30, 31, 32, 33,\n",
      "       34], dtype=int16), array([1044188,    1621,     878,     566,     428,     366,     300,\n",
      "           287,     257,     218,     183,     201,     169,     156,\n",
      "           149,     123,      95,      91,      89,      52,      45,\n",
      "            30,      32,      15,      18,      14,      13,       9,\n",
      "             9,       6,       6,       4,       2,       2,       2]))\n",
      "after threshold and dilation (array([0, 1], dtype=int16), array([1047253,    3371]))\n"
     ]
    },
    {
     "name": "stderr",
     "output_type": "stream",
     "text": [
      "/usr/lib/python3/dist-packages/scipy/__init__.py:146: UserWarning: A NumPy version >=1.17.3 and <1.25.0 is required for this version of SciPy (detected version 1.26.4\n",
      "  warnings.warn(f\"A NumPy version >={np_minversion} and <{np_maxversion}\"\n"
     ]
    },
    {
     "name": "stdout",
     "output_type": "stream",
     "text": [
      "loading direct transformations\n",
      "Output dimensions: 96, 114, 96\n",
      "Output voxel size: 2, 2, 2 mm\n",
      "Resampling carto_volume of S16...   0   1   2   3   4   5   6   7   8   9  10  11  12  13  14  15  16  17  18  19  20  21  22  23  24  25  26  27  28  29  30  31  32  33  34  35  36  37  38  39  40  41  42  43  44  45  46  47  48  49  50  51  52  53  54  55  56  57  58  59  60  61  62  63  64  65  66  67  68  69  70  71  72  73  74  75  76  77  78  79  80  81  82  83  84  85  86  87  88  89  90  91  92  93  94  95  96  97  98  99 100 %\n"
     ]
    },
    {
     "name": "stderr",
     "output_type": "stream",
     "text": [
      "/usr/lib/python3/dist-packages/scipy/__init__.py:146: UserWarning: A NumPy version >=1.17.3 and <1.25.0 is required for this version of SciPy (detected version 1.26.4\n",
      "  warnings.warn(f\"A NumPy version >={np_minversion} and <{np_maxversion}\"\n"
     ]
    },
    {
     "name": "stdout",
     "output_type": "stream",
     "text": [
      "loading direct transformations\n",
      "Output dimensions: 96, 114, 96\n",
      "Output voxel size: 2, 2, 2 mm\n",
      "Resampling carto_volume of S16...   0   1   2   3   4   5   6   7   8   9  10  11  12  13  14  15  16  17  18  19  20  21  22  23  24  25  26  27  28  29  30  31  32  33  34  35  36  37  38  39  40  41  42  43  44  45  46  47  48  49  50  51  52  53  54  55  56  57  58  59  60  61  62  63  64  65  66  67  68  69  70  71  72  73  74  75  76  77  78  79  80  81  82  83  84  85  86  87  88  89  90  91  92  93  94  95  96  97  98  99 100 %\n",
      "ndimage.find_objects(arr) = [(slice(46, 64, None), slice(68, 101, None), slice(47, 68, None), slice(0, 1, None))]\n",
      "before threshold (array([ 0,  1,  2,  3,  4,  5,  6,  7,  8,  9, 10, 11, 12, 13, 14, 15, 16,\n",
      "       17, 18, 19, 20, 21, 22, 23, 24, 25, 26, 27, 28, 29, 30, 31, 32, 33,\n",
      "       34], dtype=int16), array([1044188,    1621,     878,     566,     428,     366,     300,\n",
      "           287,     257,     218,     183,     201,     169,     156,\n",
      "           149,     123,      95,      91,      89,      52,      45,\n",
      "            30,      32,      15,      18,      14,      13,       9,\n",
      "             9,       6,       6,       4,       2,       2,       2]))\n",
      "after threshold and dilation (array([0, 1], dtype=int16), array([1047253,    3371]))\n",
      "[ 0.  1.  2.  3.  4.  5.  6.  7.  8.  9. 10. 11. 12. 13. 14. 15. 16. 17.\n",
      " 18. 19. 20. 21. 22. 23. 24. 25. 26. 27. 28. 29. 30. 31. 32. 33. 34.]\n",
      "[[ 1.0000000e+00  1.8791983e-08  2.9135728e-07 -3.0517578e-05]\n",
      " [ 3.2152885e-09  9.9715716e-01 -7.5350262e-02  1.0453339e+01]\n",
      " [-2.9194499e-07  7.5350262e-02  9.9715716e-01 -1.2944321e+01]\n",
      " [ 0.0000000e+00  0.0000000e+00  0.0000000e+00  1.0000000e+00]]\n",
      "before threshold (array([ 0,  1,  2,  3,  4,  5,  6,  7,  8,  9, 10, 11, 12, 13, 14, 15, 16,\n",
      "       17, 18, 19, 20, 21, 22, 23, 24, 25, 26, 27, 28, 29, 30, 31, 32, 33,\n",
      "       34], dtype=int16), array([1044188,    1621,     878,     566,     428,     366,     300,\n",
      "           287,     257,     218,     183,     201,     169,     156,\n",
      "           149,     123,      95,      91,      89,      52,      45,\n",
      "            30,      32,      15,      18,      14,      13,       9,\n",
      "             9,       6,       6,       4,       2,       2,       2]))\n",
      "after threshold and dilation (array([0, 1], dtype=int16), array([1047253,    3371]))\n"
     ]
    },
    {
     "name": "stderr",
     "output_type": "stream",
     "text": [
      "/usr/lib/python3/dist-packages/scipy/__init__.py:146: UserWarning: A NumPy version >=1.17.3 and <1.25.0 is required for this version of SciPy (detected version 1.26.4\n",
      "  warnings.warn(f\"A NumPy version >={np_minversion} and <{np_maxversion}\"\n"
     ]
    },
    {
     "name": "stdout",
     "output_type": "stream",
     "text": [
      "loading direct transformations\n",
      "Output dimensions: 96, 114, 96\n",
      "Output voxel size: 2, 2, 2 mm\n",
      "Resampling carto_volume of S16...   0   1   2   3   4   5   6   7   8   9  10  11  12  13  14  15  16  17  18  19  20  21  22  23  24  25  26  27  28  29  30  31  32  33  34  35  36  37  38  39  40  41  42  43  44  45  46  47  48  49  50  51  52  53  54  55  56  57  58  59  60  61  62  63  64  65  66  67  68  69  70  71  72  73  74  75  76  77  78  79  80  81  82  83  84  85  86  87  88  89  90  91  92  93  94  95  96  97  98  99 100 %\n"
     ]
    },
    {
     "name": "stderr",
     "output_type": "stream",
     "text": [
      "/usr/lib/python3/dist-packages/scipy/__init__.py:146: UserWarning: A NumPy version >=1.17.3 and <1.25.0 is required for this version of SciPy (detected version 1.26.4\n",
      "  warnings.warn(f\"A NumPy version >={np_minversion} and <{np_maxversion}\"\n"
     ]
    },
    {
     "name": "stdout",
     "output_type": "stream",
     "text": [
      "loading direct transformations\n",
      "Output dimensions: 96, 114, 96\n",
      "Output voxel size: 2, 2, 2 mm\n",
      "Resampling carto_volume of S16...   0   1   2   3   4   5   6   7   8   9  10  11  12  13  14  15  16  17  18  19  20  21  22  23  24  25  26  27  28  29  30  31  32  33  34  35  36  37  38  39  40  41  42  43  44  45  46  47  48  49  50  51  52  53  54  55  56  57  58  59  60  61  62  63  64  65  66  67  68  69  70  71  72  73  74  75  76  77  78  79  80  81  82  83  84  85  86  87  88  89  90  91  92  93  94  95  96  97  98  99 100 %\n",
      "ndimage.find_objects(arr) = [(slice(47, 64, None), slice(69, 102, None), slice(47, 68, None), slice(0, 1, None))]\n",
      "before threshold (array([ 0,  1,  2,  3,  4,  5,  6,  7,  8,  9, 10, 11, 12, 13, 14, 15, 16,\n",
      "       17, 18, 19, 20, 21, 22, 23, 24, 25, 26, 27, 28, 29, 30, 31, 32, 33,\n",
      "       34], dtype=int16), array([1044188,    1621,     878,     566,     428,     366,     300,\n",
      "           287,     257,     218,     183,     201,     169,     156,\n",
      "           149,     123,      95,      91,      89,      52,      45,\n",
      "            30,      32,      15,      18,      14,      13,       9,\n",
      "             9,       6,       6,       4,       2,       2,       2]))\n",
      "after threshold and dilation (array([0, 1], dtype=int16), array([1047253,    3371]))\n",
      "[ 0.  1.  2.  3.  4.  5.  6.  7.  8.  9. 10. 11. 12. 13. 14. 15. 16. 17.\n",
      " 18. 19. 20. 21. 22. 23. 24. 25. 26. 27. 28. 29. 30. 31. 32. 33. 34.]\n",
      "[[ 1.0000000e+00 -1.3296406e-11  3.7057132e-11  0.0000000e+00]\n",
      " [ 1.3296406e-11  1.0000000e+00  6.0129257e-10  0.0000000e+00]\n",
      " [-3.7057132e-11 -6.0129257e-10  1.0000000e+00  0.0000000e+00]\n",
      " [ 0.0000000e+00  0.0000000e+00  0.0000000e+00  1.0000000e+00]]\n",
      "before threshold (array([ 0,  1,  2,  3,  4,  5,  6,  7,  8,  9, 10, 11, 12, 13, 14, 15, 16,\n",
      "       17, 18, 19, 20, 21, 22, 23, 24, 25, 26, 27, 28, 29, 30, 31, 32, 33,\n",
      "       34], dtype=int16), array([1044188,    1621,     878,     566,     428,     366,     300,\n",
      "           287,     257,     218,     183,     201,     169,     156,\n",
      "           149,     123,      95,      91,      89,      52,      45,\n",
      "            30,      32,      15,      18,      14,      13,       9,\n",
      "             9,       6,       6,       4,       2,       2,       2]))\n",
      "after threshold and dilation (array([0, 1], dtype=int16), array([1047253,    3371]))\n"
     ]
    },
    {
     "name": "stderr",
     "output_type": "stream",
     "text": [
      "/usr/lib/python3/dist-packages/scipy/__init__.py:146: UserWarning: A NumPy version >=1.17.3 and <1.25.0 is required for this version of SciPy (detected version 1.26.4\n",
      "  warnings.warn(f\"A NumPy version >={np_minversion} and <{np_maxversion}\"\n"
     ]
    },
    {
     "name": "stdout",
     "output_type": "stream",
     "text": [
      "loading direct transformations\n",
      "Output dimensions: 96, 114, 96\n",
      "Output voxel size: 2, 2, 2 mm\n",
      "Resampling carto_volume of S16...   0   1   2   3   4   5   6   7   8   9  10  11  12  13  14  15  16  17  18  19  20  21  22  23  24  25  26  27  28  29  30  31  32  33  34  35  36  37  38  39  40  41  42  43  44  45  46  47  48  49  50  51  52  53  54  55  56  57  58  59  60  61  62  63  64  65  66  67  68  69  70  71  72  73  74  75  76  77  78  79  80  81  82  83  84  85  86  87  88  89  90  91  92  93  94  95  96  97  98  99 100 %\n"
     ]
    },
    {
     "name": "stderr",
     "output_type": "stream",
     "text": [
      "/usr/lib/python3/dist-packages/scipy/__init__.py:146: UserWarning: A NumPy version >=1.17.3 and <1.25.0 is required for this version of SciPy (detected version 1.26.4\n",
      "  warnings.warn(f\"A NumPy version >={np_minversion} and <{np_maxversion}\"\n"
     ]
    },
    {
     "name": "stdout",
     "output_type": "stream",
     "text": [
      "loading direct transformations\n",
      "Output dimensions: 96, 114, 96\n",
      "Output voxel size: 2, 2, 2 mm\n",
      "Resampling carto_volume of S16...   0   1   2   3   4   5   6   7   8   9  10  11  12  13  14  15  16  17  18  19  20  21  22  23  24  25  26  27  28  29  30  31  32  33  34  35  36  37  38  39  40  41  42  43  44  45  46  47  48  49  50  51  52  53  54  55  56  57  58  59  60  61  62  63  64  65  66  67  68  69  70  71  72  73  74  75  76  77  78  79  80  81  82  83  84  85  86  87  88  89  90  91  92  93  94  95  96  97  98  99 100 %\n",
      "ndimage.find_objects(arr) = [(slice(46, 64, None), slice(68, 101, None), slice(47, 68, None), slice(0, 1, None))]\n",
      "before threshold (array([ 0,  1,  2,  3,  4,  5,  6,  7,  8,  9, 10, 11, 12, 13, 14, 15, 16,\n",
      "       17, 18, 19, 20, 21, 22, 23, 24, 25, 26, 27, 28, 29, 30, 31, 32, 33,\n",
      "       34], dtype=int16), array([1044188,    1621,     878,     566,     428,     366,     300,\n",
      "           287,     257,     218,     183,     201,     169,     156,\n",
      "           149,     123,      95,      91,      89,      52,      45,\n",
      "            30,      32,      15,      18,      14,      13,       9,\n",
      "             9,       6,       6,       4,       2,       2,       2]))\n",
      "after threshold and dilation (array([0, 1], dtype=int16), array([1047253,    3371]))\n",
      "[ 0.  1.  2.  3.  4.  5.  6.  7.  8.  9. 10. 11. 12. 13. 14. 15. 16. 17.\n",
      " 18. 19. 20. 21. 22. 23. 24. 25. 26. 27. 28. 29. 30. 31. 32. 33. 34.]\n",
      "[[ 1.00000000e+00 -1.53638994e-11 -1.13476685e-11  0.00000000e+00]\n",
      " [ 1.53638994e-11  1.00000000e+00 -1.42759485e-11  0.00000000e+00]\n",
      " [ 1.13476685e-11  1.42759485e-11  1.00000000e+00  0.00000000e+00]\n",
      " [ 0.00000000e+00  0.00000000e+00  0.00000000e+00  1.00000000e+00]]\n",
      "before threshold (array([ 0,  1,  2,  3,  4,  5,  6,  7,  8,  9, 10, 11, 12, 13, 14, 15, 16,\n",
      "       17, 18, 19, 20, 21, 22, 23, 24, 25, 26, 27, 28, 29, 30, 31, 32, 33,\n",
      "       34], dtype=int16), array([1044188,    1621,     878,     566,     428,     366,     300,\n",
      "           287,     257,     218,     183,     201,     169,     156,\n",
      "           149,     123,      95,      91,      89,      52,      45,\n",
      "            30,      32,      15,      18,      14,      13,       9,\n",
      "             9,       6,       6,       4,       2,       2,       2]))\n",
      "after threshold and dilation (array([0, 1], dtype=int16), array([1047253,    3371]))\n"
     ]
    },
    {
     "name": "stderr",
     "output_type": "stream",
     "text": [
      "/usr/lib/python3/dist-packages/scipy/__init__.py:146: UserWarning: A NumPy version >=1.17.3 and <1.25.0 is required for this version of SciPy (detected version 1.26.4\n",
      "  warnings.warn(f\"A NumPy version >={np_minversion} and <{np_maxversion}\"\n"
     ]
    },
    {
     "name": "stdout",
     "output_type": "stream",
     "text": [
      "loading direct transformations\n",
      "Output dimensions: 96, 114, 96\n",
      "Output voxel size: 2, 2, 2 mm\n",
      "Resampling carto_volume of S16...   0   1   2   3   4   5   6   7   8   9  10  11  12  13  14  15  16  17  18  19  20  21  22  23  24  25  26  27  28  29  30  31  32  33  34  35  36  37  38  39  40  41  42  43  44  45  46  47  48  49  50  51  52  53  54  55  56  57  58  59  60  61  62  63  64  65  66  67  68  69  70  71  72  73  74  75  76  77  78  79  80  81  82  83  84  85  86  87  88  89  90  91  92  93  94  95  96  97  98  99 100 %\n"
     ]
    },
    {
     "name": "stderr",
     "output_type": "stream",
     "text": [
      "/usr/lib/python3/dist-packages/scipy/__init__.py:146: UserWarning: A NumPy version >=1.17.3 and <1.25.0 is required for this version of SciPy (detected version 1.26.4\n",
      "  warnings.warn(f\"A NumPy version >={np_minversion} and <{np_maxversion}\"\n"
     ]
    },
    {
     "name": "stdout",
     "output_type": "stream",
     "text": [
      "loading direct transformations\n",
      "Output dimensions: 96, 114, 96\n",
      "Output voxel size: 2, 2, 2 mm\n",
      "Resampling carto_volume of S16...   0   1   2   3   4   5   6   7   8   9  10  11  12  13  14  15  16  17  18  19  20  21  22  23  24  25  26  27  28  29  30  31  32  33  34  35  36  37  38  39  40  41  42  43  44  45  46  47  48  49  50  51  52  53  54  55  56  57  58  59  60  61  62  63  64  65  66  67  68  69  70  71  72  73  74  75  76  77  78  79  80  81  82  83  84  85  86  87  88  89  90  91  92  93  94  95  96  97  98  99 100 %\n",
      "ndimage.find_objects(arr) = [(slice(46, 64, None), slice(68, 101, None), slice(47, 68, None), slice(0, 1, None))]\n",
      "before threshold (array([ 0,  1,  2,  3,  4,  5,  6,  7,  8,  9, 10, 11, 12, 13, 14, 15, 16,\n",
      "       17, 18, 19, 20, 21, 22, 23, 24, 25, 26, 27, 28, 29, 30, 31, 32, 33,\n",
      "       34], dtype=int16), array([1044188,    1621,     878,     566,     428,     366,     300,\n",
      "           287,     257,     218,     183,     201,     169,     156,\n",
      "           149,     123,      95,      91,      89,      52,      45,\n",
      "            30,      32,      15,      18,      14,      13,       9,\n",
      "             9,       6,       6,       4,       2,       2,       2]))\n",
      "after threshold and dilation (array([0, 1], dtype=int16), array([1047253,    3371]))\n",
      "[ 0.  1.  2.  3.  4.  5.  6.  7.  8.  9. 10. 11. 12. 13. 14. 15. 16. 17.\n",
      " 18. 19. 20. 21. 22. 23. 24. 25. 26. 27. 28. 29. 30. 31. 32. 33. 34.]\n",
      "[[ 1.0000000e+00  7.6764053e-09 -2.2704175e-08  0.0000000e+00]\n",
      " [-7.6764044e-09  1.0000000e+00  2.4690923e-08  0.0000000e+00]\n",
      " [ 2.2704175e-08 -2.4690923e-08  1.0000000e+00  0.0000000e+00]\n",
      " [ 0.0000000e+00  0.0000000e+00  0.0000000e+00  1.0000000e+00]]\n",
      "before threshold (array([ 0,  1,  2,  3,  4,  5,  6,  7,  8,  9, 10, 11, 12, 13, 14, 15, 16,\n",
      "       17, 18, 19, 20, 21, 22, 23, 24, 25, 26, 27, 28, 29, 30, 31, 32, 33,\n",
      "       34], dtype=int16), array([1044188,    1621,     878,     566,     428,     366,     300,\n",
      "           287,     257,     218,     183,     201,     169,     156,\n",
      "           149,     123,      95,      91,      89,      52,      45,\n",
      "            30,      32,      15,      18,      14,      13,       9,\n",
      "             9,       6,       6,       4,       2,       2,       2]))\n",
      "after threshold and dilation (array([0, 1], dtype=int16), array([1047253,    3371]))\n"
     ]
    },
    {
     "name": "stderr",
     "output_type": "stream",
     "text": [
      "/usr/lib/python3/dist-packages/scipy/__init__.py:146: UserWarning: A NumPy version >=1.17.3 and <1.25.0 is required for this version of SciPy (detected version 1.26.4\n",
      "  warnings.warn(f\"A NumPy version >={np_minversion} and <{np_maxversion}\"\n"
     ]
    },
    {
     "name": "stdout",
     "output_type": "stream",
     "text": [
      "loading direct transformations\n",
      "Output dimensions: 96, 114, 96\n",
      "Output voxel size: 2, 2, 2 mm\n",
      "Resampling carto_volume of S16...   0   1   2   3   4   5   6   7   8   9  10  11  12  13  14  15  16  17  18  19  20  21  22  23  24  25  26  27  28  29  30  31  32  33  34  35  36  37  38  39  40  41  42  43  44  45  46  47  48  49  50  51  52  53  54  55  56  57  58  59  60  61  62  63  64  65  66  67  68  69  70  71  72  73  74  75  76  77  78  79  80  81  82  83  84  85  86  87  88  89  90  91  92  93  94  95  96  97  98  99 100 %\n"
     ]
    },
    {
     "name": "stderr",
     "output_type": "stream",
     "text": [
      "/usr/lib/python3/dist-packages/scipy/__init__.py:146: UserWarning: A NumPy version >=1.17.3 and <1.25.0 is required for this version of SciPy (detected version 1.26.4\n",
      "  warnings.warn(f\"A NumPy version >={np_minversion} and <{np_maxversion}\"\n"
     ]
    },
    {
     "name": "stdout",
     "output_type": "stream",
     "text": [
      "loading direct transformations\n",
      "Output dimensions: 96, 114, 96\n",
      "Output voxel size: 2, 2, 2 mm\n",
      "Resampling carto_volume of S16...   0   1   2   3   4   5   6   7   8   9  10  11  12  13  14  15  16  17  18  19  20  21  22  23  24  25  26  27  28  29  30  31  32  33  34  35  36  37  38  39  40  41  42  43  44  45  46  47  48  49  50  51  52  53  54  55  56  57  58  59  60  61  62  63  64  65  66  67  68  69  70  71  72  73  74  75  76  77  78  79  80  81  82  83  84  85  86  87  88  89  90  91  92  93  94  95  96  97  98  99 100 %\n",
      "ndimage.find_objects(arr) = [(slice(46, 64, None), slice(68, 101, None), slice(47, 68, None), slice(0, 1, None))]\n",
      "before threshold (array([ 0,  1,  2,  3,  4,  5,  6,  7,  8,  9, 10, 11, 12, 13, 14, 15, 16,\n",
      "       17, 18, 19, 20, 21, 22, 23, 24, 25, 26, 27, 28, 29, 30, 31, 32, 33,\n",
      "       34], dtype=int16), array([1044188,    1621,     878,     566,     428,     366,     300,\n",
      "           287,     257,     218,     183,     201,     169,     156,\n",
      "           149,     123,      95,      91,      89,      52,      45,\n",
      "            30,      32,      15,      18,      14,      13,       9,\n",
      "             9,       6,       6,       4,       2,       2,       2]))\n",
      "after threshold and dilation (array([0, 1], dtype=int16), array([1047253,    3371]))\n",
      "[ 0.  1.  2.  3.  4.  5.  6.  7.  8.  9. 10. 11. 12. 13. 14. 15. 16. 17.\n",
      " 18. 19. 20. 21. 22. 23. 24. 25. 26. 27. 28. 29. 30. 31. 32. 33. 34.]\n",
      "[[ 1.0000000e+00  2.8356038e-07 -2.8449957e-08 -4.5776367e-05]\n",
      " [-2.8356038e-07  1.0000000e+00 -8.7703169e-09  3.0517578e-05]\n",
      " [ 2.8449955e-08  8.7703249e-09  1.0000000e+00 -7.6293945e-06]\n",
      " [ 0.0000000e+00  0.0000000e+00  0.0000000e+00  1.0000000e+00]]\n",
      "before threshold (array([ 0,  1,  2,  3,  4,  5,  6,  7,  8,  9, 10, 11, 12, 13, 14, 15, 16,\n",
      "       17, 18, 19, 20, 21, 22, 23, 24, 25, 26, 27, 28, 29, 30, 31, 32, 33,\n",
      "       34], dtype=int16), array([1044188,    1621,     878,     566,     428,     366,     300,\n",
      "           287,     257,     218,     183,     201,     169,     156,\n",
      "           149,     123,      95,      91,      89,      52,      45,\n",
      "            30,      32,      15,      18,      14,      13,       9,\n",
      "             9,       6,       6,       4,       2,       2,       2]))\n",
      "after threshold and dilation (array([0, 1], dtype=int16), array([1047253,    3371]))\n"
     ]
    },
    {
     "name": "stderr",
     "output_type": "stream",
     "text": [
      "/usr/lib/python3/dist-packages/scipy/__init__.py:146: UserWarning: A NumPy version >=1.17.3 and <1.25.0 is required for this version of SciPy (detected version 1.26.4\n",
      "  warnings.warn(f\"A NumPy version >={np_minversion} and <{np_maxversion}\"\n"
     ]
    },
    {
     "name": "stdout",
     "output_type": "stream",
     "text": [
      "loading direct transformations\n",
      "Output dimensions: 96, 114, 96\n",
      "Output voxel size: 2, 2, 2 mm\n",
      "Resampling carto_volume of S16...   0   1   2   3   4   5   6   7   8   9  10  11  12  13  14  15  16  17  18  19  20  21  22  23  24  25  26  27  28  29  30  31  32  33  34  35  36  37  38  39  40  41  42  43  44  45  46  47  48  49  50  51  52  53  54  55  56  57  58  59  60  61  62  63  64  65  66  67  68  69  70  71  72  73  74  75  76  77  78  79  80  81  82  83  84  85  86  87  88  89  90  91  92  93  94  95  96  97  98  99 100 %\n"
     ]
    },
    {
     "name": "stderr",
     "output_type": "stream",
     "text": [
      "/usr/lib/python3/dist-packages/scipy/__init__.py:146: UserWarning: A NumPy version >=1.17.3 and <1.25.0 is required for this version of SciPy (detected version 1.26.4\n",
      "  warnings.warn(f\"A NumPy version >={np_minversion} and <{np_maxversion}\"\n"
     ]
    },
    {
     "name": "stdout",
     "output_type": "stream",
     "text": [
      "loading direct transformations\n",
      "Output dimensions: 96, 114, 96\n",
      "Output voxel size: 2, 2, 2 mm\n",
      "Resampling carto_volume of S16...   0   1   2   3   4   5   6   7   8   9  10  11  12  13  14  15  16  17  18  19  20  21  22  23  24  25  26  27  28  29  30  31  32  33  34  35  36  37  38  39  40  41  42  43  44  45  46  47  48  49  50  51  52  53  54  55  56  57  58  59  60  61  62  63  64  65  66  67  68  69  70  71  72  73  74  75  76  77  78  79  80  81  82  83  84  85  86  87  88  89  90  91  92  93  94  95  96  97  98  99 100 %\n",
      "ndimage.find_objects(arr) = [(slice(46, 64, None), slice(68, 101, None), slice(47, 68, None), slice(0, 1, None))]\n",
      "before threshold (array([ 0,  1,  2,  3,  4,  5,  6,  7,  8,  9, 10, 11, 12, 13, 14, 15, 16,\n",
      "       17, 18, 19, 20, 21, 22, 23, 24, 25, 26, 27, 28, 29, 30, 31, 32, 33,\n",
      "       34], dtype=int16), array([1044188,    1621,     878,     566,     428,     366,     300,\n",
      "           287,     257,     218,     183,     201,     169,     156,\n",
      "           149,     123,      95,      91,      89,      52,      45,\n",
      "            30,      32,      15,      18,      14,      13,       9,\n",
      "             9,       6,       6,       4,       2,       2,       2]))\n",
      "after threshold and dilation (array([0, 1], dtype=int16), array([1047253,    3371]))\n",
      "[ 0.  1.  2.  3.  4.  5.  6.  7.  8.  9. 10. 11. 12. 13. 14. 15. 16. 17.\n",
      " 18. 19. 20. 21. 22. 23. 24. 25. 26. 27. 28. 29. 30. 31. 32. 33. 34.]\n",
      "[[ 1.0000000e+00 -2.9415088e-07 -3.5719503e-07  8.3923340e-05]\n",
      " [ 2.9415088e-07  1.0000000e+00  1.0543095e-08 -3.0517578e-05]\n",
      " [ 3.5719501e-07 -1.0543200e-08  1.0000000e+00 -3.8146973e-05]\n",
      " [ 0.0000000e+00  0.0000000e+00  0.0000000e+00  1.0000000e+00]]\n",
      "before threshold (array([ 0,  1,  2,  3,  4,  5,  6,  7,  8,  9, 10, 11, 12, 13, 14, 15, 16,\n",
      "       17, 18, 19, 20, 21, 22, 23, 24, 25, 26, 27, 28, 29, 30, 31, 32, 33,\n",
      "       34], dtype=int16), array([1044188,    1621,     878,     566,     428,     366,     300,\n",
      "           287,     257,     218,     183,     201,     169,     156,\n",
      "           149,     123,      95,      91,      89,      52,      45,\n",
      "            30,      32,      15,      18,      14,      13,       9,\n",
      "             9,       6,       6,       4,       2,       2,       2]))\n",
      "after threshold and dilation (array([0, 1], dtype=int16), array([1047253,    3371]))\n"
     ]
    },
    {
     "name": "stderr",
     "output_type": "stream",
     "text": [
      "/usr/lib/python3/dist-packages/scipy/__init__.py:146: UserWarning: A NumPy version >=1.17.3 and <1.25.0 is required for this version of SciPy (detected version 1.26.4\n",
      "  warnings.warn(f\"A NumPy version >={np_minversion} and <{np_maxversion}\"\n"
     ]
    },
    {
     "name": "stdout",
     "output_type": "stream",
     "text": [
      "loading direct transformations\n",
      "Output dimensions: 96, 114, 96\n",
      "Output voxel size: 2, 2, 2 mm\n",
      "Resampling carto_volume of S16...   0   1   2   3   4   5   6   7   8   9  10  11  12  13  14  15  16  17  18  19  20  21  22  23  24  25  26  27  28  29  30  31  32  33  34  35  36  37  38  39  40  41  42  43  44  45  46  47  48  49  50  51  52  53  54  55  56  57  58  59  60  61  62  63  64  65  66  67  68  69  70  71  72  73  74  75  76  77  78  79  80  81  82  83  84  85  86  87  88  89  90  91  92  93  94  95  96  97  98  99 100 %\n"
     ]
    },
    {
     "name": "stderr",
     "output_type": "stream",
     "text": [
      "/usr/lib/python3/dist-packages/scipy/__init__.py:146: UserWarning: A NumPy version >=1.17.3 and <1.25.0 is required for this version of SciPy (detected version 1.26.4\n",
      "  warnings.warn(f\"A NumPy version >={np_minversion} and <{np_maxversion}\"\n"
     ]
    },
    {
     "name": "stdout",
     "output_type": "stream",
     "text": [
      "loading direct transformations\n",
      "Output dimensions: 96, 114, 96\n",
      "Output voxel size: 2, 2, 2 mm\n",
      "Resampling carto_volume of S16...   0   1   2   3   4   5   6   7   8   9  10  11  12  13  14  15  16  17  18  19  20  21  22  23  24  25  26  27  28  29  30  31  32  33  34  35  36  37  38  39  40  41  42  43  44  45  46  47  48  49  50  51  52  53  54  55  56  57  58  59  60  61  62  63  64  65  66  67  68  69  70  71  72  73  74  75  76  77  78  79  80  81  82  83  84  85  86  87  88  89  90  91  92  93  94  95  96  97  98  99 100 %\n",
      "ndimage.find_objects(arr) = [(slice(46, 64, None), slice(68, 101, None), slice(47, 68, None), slice(0, 1, None))]\n",
      "before threshold (array([ 0,  1,  2,  3,  4,  5,  6,  7,  8,  9, 10, 11, 12, 13, 14, 15, 16,\n",
      "       17, 18, 19, 20, 21, 22, 23, 24, 25, 26, 27, 28, 29, 30, 31, 32, 33,\n",
      "       34], dtype=int16), array([1044188,    1621,     878,     566,     428,     366,     300,\n",
      "           287,     257,     218,     183,     201,     169,     156,\n",
      "           149,     123,      95,      91,      89,      52,      45,\n",
      "            30,      32,      15,      18,      14,      13,       9,\n",
      "             9,       6,       6,       4,       2,       2,       2]))\n",
      "after threshold and dilation (array([0, 1], dtype=int16), array([1047253,    3371]))\n",
      "[ 0.  1.  2.  3.  4.  5.  6.  7.  8.  9. 10. 11. 12. 13. 14. 15. 16. 17.\n",
      " 18. 19. 20. 21. 22. 23. 24. 25. 26. 27. 28. 29. 30. 31. 32. 33. 34.]\n",
      "[[ 1.0000000e+00  6.3452693e-10 -2.4340720e-08  0.0000000e+00]\n",
      " [ 6.4531419e-10  9.9861860e-01  5.2544240e-02 -5.6832886e+00]\n",
      " [ 2.4340435e-08 -5.2544240e-02  9.9861860e-01  8.6723938e+00]\n",
      " [ 0.0000000e+00  0.0000000e+00  0.0000000e+00  1.0000000e+00]]\n",
      "before threshold (array([ 0,  1,  2,  3,  4,  5,  6,  7,  8,  9, 10, 11, 12, 13, 14, 15, 16,\n",
      "       17, 18, 19, 20, 21, 22, 23, 24, 25, 26, 27, 28, 29, 30, 31, 32, 33,\n",
      "       34], dtype=int16), array([1044188,    1621,     878,     566,     428,     366,     300,\n",
      "           287,     257,     218,     183,     201,     169,     156,\n",
      "           149,     123,      95,      91,      89,      52,      45,\n",
      "            30,      32,      15,      18,      14,      13,       9,\n",
      "             9,       6,       6,       4,       2,       2,       2]))\n",
      "after threshold and dilation (array([0, 1], dtype=int16), array([1047253,    3371]))\n"
     ]
    },
    {
     "name": "stderr",
     "output_type": "stream",
     "text": [
      "/usr/lib/python3/dist-packages/scipy/__init__.py:146: UserWarning: A NumPy version >=1.17.3 and <1.25.0 is required for this version of SciPy (detected version 1.26.4\n",
      "  warnings.warn(f\"A NumPy version >={np_minversion} and <{np_maxversion}\"\n"
     ]
    },
    {
     "name": "stdout",
     "output_type": "stream",
     "text": [
      "loading direct transformations\n",
      "Output dimensions: 96, 114, 96\n",
      "Output voxel size: 2, 2, 2 mm\n",
      "Resampling carto_volume of S16...   0   1   2   3   4   5   6   7   8   9  10  11  12  13  14  15  16  17  18  19  20  21  22  23  24  25  26  27  28  29  30  31  32  33  34  35  36  37  38  39  40  41  42  43  44  45  46  47  48  49  50  51  52  53  54  55  56  57  58  59  60  61  62  63  64  65  66  67  68  69  70  71  72  73  74  75  76  77  78  79  80  81  82  83  84  85  86  87  88  89  90  91  92  93  94  95  96  97  98  99 100 %\n"
     ]
    },
    {
     "name": "stderr",
     "output_type": "stream",
     "text": [
      "/usr/lib/python3/dist-packages/scipy/__init__.py:146: UserWarning: A NumPy version >=1.17.3 and <1.25.0 is required for this version of SciPy (detected version 1.26.4\n",
      "  warnings.warn(f\"A NumPy version >={np_minversion} and <{np_maxversion}\"\n"
     ]
    },
    {
     "name": "stdout",
     "output_type": "stream",
     "text": [
      "loading direct transformations\n",
      "Output dimensions: 96, 114, 96\n",
      "Output voxel size: 2, 2, 2 mm\n",
      "Resampling carto_volume of S16...   0   1   2   3   4   5   6   7   8   9  10  11  12  13  14  15  16  17  18  19  20  21  22  23  24  25  26  27  28  29  30  31  32  33  34  35  36  37  38  39  40  41  42  43  44  45  46  47  48  49  50  51  52  53  54  55  56  57  58  59  60  61  62  63  64  65  66  67  68  69  70  71  72  73  74  75  76  77  78  79  80  81  82  83  84  85  86  87  88  89  90  91  92  93  94  95  96  97  98  99 100 %\n",
      "ndimage.find_objects(arr) = [(slice(46, 64, None), slice(68, 101, None), slice(47, 67, None), slice(0, 1, None))]\n",
      "before threshold (array([ 0,  1,  2,  3,  4,  5,  6,  7,  8,  9, 10, 11, 12, 13, 14, 15, 16,\n",
      "       17, 18, 19, 20, 21, 22, 23, 24, 25, 26, 27, 28, 29, 30, 31, 32, 33,\n",
      "       34], dtype=int16), array([1044188,    1621,     878,     566,     428,     366,     300,\n",
      "           287,     257,     218,     183,     201,     169,     156,\n",
      "           149,     123,      95,      91,      89,      52,      45,\n",
      "            30,      32,      15,      18,      14,      13,       9,\n",
      "             9,       6,       6,       4,       2,       2,       2]))\n",
      "after threshold and dilation (array([0, 1], dtype=int16), array([1047253,    3371]))\n",
      "[ 0.  1.  2.  3.  4.  5.  6.  7.  8.  9. 10. 11. 12. 13. 14. 15. 16. 17.\n",
      " 18. 19. 20. 21. 22. 23. 24. 25. 26. 27. 28. 29. 30. 31. 32. 33. 34.]\n",
      "[[ 1.0000000e+00 -2.0925192e-07  3.4321855e-07  0.0000000e+00]\n",
      " [ 1.8787010e-07  9.9812818e-01  6.1156757e-02 -7.0905609e+00]\n",
      " [-3.5537326e-07 -6.1156757e-02  9.9812818e-01  1.0463448e+01]\n",
      " [ 0.0000000e+00  0.0000000e+00  0.0000000e+00  1.0000000e+00]]\n",
      "before threshold (array([ 0,  1,  2,  3,  4,  5,  6,  7,  8,  9, 10, 11, 12, 13, 14, 15, 16,\n",
      "       17, 18, 19, 20, 21, 22, 23, 24, 25, 26, 27, 28, 29, 30, 31, 32, 33,\n",
      "       34], dtype=int16), array([1044188,    1621,     878,     566,     428,     366,     300,\n",
      "           287,     257,     218,     183,     201,     169,     156,\n",
      "           149,     123,      95,      91,      89,      52,      45,\n",
      "            30,      32,      15,      18,      14,      13,       9,\n",
      "             9,       6,       6,       4,       2,       2,       2]))\n",
      "after threshold and dilation (array([0, 1], dtype=int16), array([1047253,    3371]))\n"
     ]
    },
    {
     "name": "stderr",
     "output_type": "stream",
     "text": [
      "/usr/lib/python3/dist-packages/scipy/__init__.py:146: UserWarning: A NumPy version >=1.17.3 and <1.25.0 is required for this version of SciPy (detected version 1.26.4\n",
      "  warnings.warn(f\"A NumPy version >={np_minversion} and <{np_maxversion}\"\n"
     ]
    },
    {
     "name": "stdout",
     "output_type": "stream",
     "text": [
      "loading direct transformations\n",
      "Output dimensions: 96, 114, 96\n",
      "Output voxel size: 2, 2, 2 mm\n",
      "Resampling carto_volume of S16...   0   1   2   3   4   5   6   7   8   9  10  11  12  13  14  15  16  17  18  19  20  21  22  23  24  25  26  27  28  29  30  31  32  33  34  35  36  37  38  39  40  41  42  43  44  45  46  47  48  49  50  51  52  53  54  55  56  57  58  59  60  61  62  63  64  65  66  67  68  69  70  71  72  73  74  75  76  77  78  79  80  81  82  83  84  85  86  87  88  89  90  91  92  93  94  95  96  97  98  99 100 %\n"
     ]
    },
    {
     "name": "stderr",
     "output_type": "stream",
     "text": [
      "/usr/lib/python3/dist-packages/scipy/__init__.py:146: UserWarning: A NumPy version >=1.17.3 and <1.25.0 is required for this version of SciPy (detected version 1.26.4\n",
      "  warnings.warn(f\"A NumPy version >={np_minversion} and <{np_maxversion}\"\n"
     ]
    },
    {
     "name": "stdout",
     "output_type": "stream",
     "text": [
      "loading direct transformations\n",
      "Output dimensions: 96, 114, 96\n",
      "Output voxel size: 2, 2, 2 mm\n",
      "Resampling carto_volume of S16...   0   1   2   3   4   5   6   7   8   9  10  11  12  13  14  15  16  17  18  19  20  21  22  23  24  25  26  27  28  29  30  31  32  33  34  35  36  37  38  39  40  41  42  43  44  45  46  47  48  49  50  51  52  53  54  55  56  57  58  59  60  61  62  63  64  65  66  67  68  69  70  71  72  73  74  75  76  77  78  79  80  81  82  83  84  85  86  87  88  89  90  91  92  93  94  95  96  97  98  99 100 %\n",
      "ndimage.find_objects(arr) = [(slice(46, 63, None), slice(68, 101, None), slice(47, 67, None), slice(0, 1, None))]\n",
      "before threshold (array([ 0,  1,  2,  3,  4,  5,  6,  7,  8,  9, 10, 11, 12, 13, 14, 15, 16,\n",
      "       17, 18, 19, 20, 21, 22, 23, 24, 25, 26, 27, 28, 29, 30, 31, 32, 33,\n",
      "       34], dtype=int16), array([1044188,    1621,     878,     566,     428,     366,     300,\n",
      "           287,     257,     218,     183,     201,     169,     156,\n",
      "           149,     123,      95,      91,      89,      52,      45,\n",
      "            30,      32,      15,      18,      14,      13,       9,\n",
      "             9,       6,       6,       4,       2,       2,       2]))\n",
      "after threshold and dilation (array([0, 1], dtype=int16), array([1047253,    3371]))\n",
      "[ 0.  1.  2.  3.  4.  5.  6.  7.  8.  9. 10. 11. 12. 13. 14. 15. 16. 17.\n",
      " 18. 19. 20. 21. 22. 23. 24. 25. 26. 27. 28. 29. 30. 31. 32. 33. 34.]\n",
      "[[ 1.0000000e+00  4.5001607e-07 -2.0903636e-07 -5.3405762e-05]\n",
      " [-4.5001610e-07  1.0000000e+00 -2.4816305e-07  7.6293945e-05]\n",
      " [ 2.0903624e-07  2.4816316e-07  1.0000000e+00 -6.1035156e-05]\n",
      " [ 0.0000000e+00  0.0000000e+00  0.0000000e+00  1.0000000e+00]]\n",
      "before threshold (array([ 0,  1,  2,  3,  4,  5,  6,  7,  8,  9, 10, 11, 12, 13, 14, 15, 16,\n",
      "       17, 18, 19, 20, 21, 22, 23, 24, 25, 26, 27, 28, 29, 30, 31, 32, 33,\n",
      "       34], dtype=int16), array([1044188,    1621,     878,     566,     428,     366,     300,\n",
      "           287,     257,     218,     183,     201,     169,     156,\n",
      "           149,     123,      95,      91,      89,      52,      45,\n",
      "            30,      32,      15,      18,      14,      13,       9,\n",
      "             9,       6,       6,       4,       2,       2,       2]))\n",
      "after threshold and dilation (array([0, 1], dtype=int16), array([1047253,    3371]))\n"
     ]
    },
    {
     "name": "stderr",
     "output_type": "stream",
     "text": [
      "/usr/lib/python3/dist-packages/scipy/__init__.py:146: UserWarning: A NumPy version >=1.17.3 and <1.25.0 is required for this version of SciPy (detected version 1.26.4\n",
      "  warnings.warn(f\"A NumPy version >={np_minversion} and <{np_maxversion}\"\n"
     ]
    },
    {
     "name": "stdout",
     "output_type": "stream",
     "text": [
      "loading direct transformations\n",
      "Output dimensions: 96, 114, 96\n",
      "Output voxel size: 2, 2, 2 mm\n",
      "Resampling carto_volume of S16...   0   1   2   3   4   5   6   7   8   9  10  11  12  13  14  15  16  17  18  19  20  21  22  23  24  25  26  27  28  29  30  31  32  33  34  35  36  37  38  39  40  41  42  43  44  45  46  47  48  49  50  51  52  53  54  55  56  57  58  59  60  61  62  63  64  65  66  67  68  69  70  71  72  73  74  75  76  77  78  79  80  81  82  83  84  85  86  87  88  89  90  91  92  93  94  95  96  97  98  99 100 %\n"
     ]
    },
    {
     "name": "stderr",
     "output_type": "stream",
     "text": [
      "/usr/lib/python3/dist-packages/scipy/__init__.py:146: UserWarning: A NumPy version >=1.17.3 and <1.25.0 is required for this version of SciPy (detected version 1.26.4\n",
      "  warnings.warn(f\"A NumPy version >={np_minversion} and <{np_maxversion}\"\n"
     ]
    },
    {
     "name": "stdout",
     "output_type": "stream",
     "text": [
      "loading direct transformations\n",
      "Output dimensions: 96, 114, 96\n",
      "Output voxel size: 2, 2, 2 mm\n",
      "Resampling carto_volume of S16...   0   1   2   3   4   5   6   7   8   9  10  11  12  13  14  15  16  17  18  19  20  21  22  23  24  25  26  27  28  29  30  31  32  33  34  35  36  37  38  39  40  41  42  43  44  45  46  47  48  49  50  51  52  53  54  55  56  57  58  59  60  61  62  63  64  65  66  67  68  69  70  71  72  73  74  75  76  77  78  79  80  81  82  83  84  85  86  87  88  89  90  91  92  93  94  95  96  97  98  99 100 %\n",
      "ndimage.find_objects(arr) = [(slice(46, 64, None), slice(68, 101, None), slice(47, 68, None), slice(0, 1, None))]\n",
      "before threshold (array([ 0,  1,  2,  3,  4,  5,  6,  7,  8,  9, 10, 11, 12, 13, 14, 15, 16,\n",
      "       17, 18, 19, 20, 21, 22, 23, 24, 25, 26, 27, 28, 29, 30, 31, 32, 33,\n",
      "       34], dtype=int16), array([1044188,    1621,     878,     566,     428,     366,     300,\n",
      "           287,     257,     218,     183,     201,     169,     156,\n",
      "           149,     123,      95,      91,      89,      52,      45,\n",
      "            30,      32,      15,      18,      14,      13,       9,\n",
      "             9,       6,       6,       4,       2,       2,       2]))\n",
      "after threshold and dilation (array([0, 1], dtype=int16), array([1047253,    3371]))\n",
      "[ 0.  1.  2.  3.  4.  5.  6.  7.  8.  9. 10. 11. 12. 13. 14. 15. 16. 17.\n",
      " 18. 19. 20. 21. 22. 23. 24. 25. 26. 27. 28. 29. 30. 31. 32. 33. 34.]\n",
      "[[ 1.0000000e+00 -1.9669807e-11  2.0307160e-11  0.0000000e+00]\n",
      " [ 1.9669807e-11  1.0000000e+00  2.1956932e-08  0.0000000e+00]\n",
      " [-2.0307162e-11 -2.1956932e-08  1.0000000e+00  0.0000000e+00]\n",
      " [ 0.0000000e+00  0.0000000e+00  0.0000000e+00  1.0000000e+00]]\n",
      "before threshold (array([ 0,  1,  2,  3,  4,  5,  6,  7,  8,  9, 10, 11, 12, 13, 14, 15, 16,\n",
      "       17, 18, 19, 20, 21, 22, 23, 24, 25, 26, 27, 28, 29, 30, 31, 32, 33,\n",
      "       34], dtype=int16), array([1044188,    1621,     878,     566,     428,     366,     300,\n",
      "           287,     257,     218,     183,     201,     169,     156,\n",
      "           149,     123,      95,      91,      89,      52,      45,\n",
      "            30,      32,      15,      18,      14,      13,       9,\n",
      "             9,       6,       6,       4,       2,       2,       2]))\n",
      "after threshold and dilation (array([0, 1], dtype=int16), array([1047253,    3371]))\n"
     ]
    },
    {
     "name": "stderr",
     "output_type": "stream",
     "text": [
      "/usr/lib/python3/dist-packages/scipy/__init__.py:146: UserWarning: A NumPy version >=1.17.3 and <1.25.0 is required for this version of SciPy (detected version 1.26.4\n",
      "  warnings.warn(f\"A NumPy version >={np_minversion} and <{np_maxversion}\"\n"
     ]
    },
    {
     "name": "stdout",
     "output_type": "stream",
     "text": [
      "loading direct transformations\n",
      "Output dimensions: 96, 114, 96\n",
      "Output voxel size: 2, 2, 2 mm\n",
      "Resampling carto_volume of S16...   0   1   2   3   4   5   6   7   8   9  10  11  12  13  14  15  16  17  18  19  20  21  22  23  24  25  26  27  28  29  30  31  32  33  34  35  36  37  38  39  40  41  42  43  44  45  46  47  48  49  50  51  52  53  54  55  56  57  58  59  60  61  62  63  64  65  66  67  68  69  70  71  72  73  74  75  76  77  78  79  80  81  82  83  84  85  86  87  88  89  90  91  92  93  94  95  96  97  98  99 100 %\n"
     ]
    },
    {
     "name": "stderr",
     "output_type": "stream",
     "text": [
      "/usr/lib/python3/dist-packages/scipy/__init__.py:146: UserWarning: A NumPy version >=1.17.3 and <1.25.0 is required for this version of SciPy (detected version 1.26.4\n",
      "  warnings.warn(f\"A NumPy version >={np_minversion} and <{np_maxversion}\"\n"
     ]
    },
    {
     "name": "stdout",
     "output_type": "stream",
     "text": [
      "loading direct transformations\n",
      "Output dimensions: 96, 114, 96\n",
      "Output voxel size: 2, 2, 2 mm\n",
      "Resampling carto_volume of S16...   0   1   2   3   4   5   6   7   8   9  10  11  12  13  14  15  16  17  18  19  20  21  22  23  24  25  26  27  28  29  30  31  32  33  34  35  36  37  38  39  40  41  42  43  44  45  46  47  48  49  50  51  52  53  54  55  56  57  58  59  60  61  62  63  64  65  66  67  68  69  70  71  72  73  74  75  76  77  78  79  80  81  82  83  84  85  86  87  88  89  90  91  92  93  94  95  96  97  98  99 100 %\n",
      "ndimage.find_objects(arr) = [(slice(46, 64, None), slice(68, 101, None), slice(47, 68, None), slice(0, 1, None))]\n",
      "before threshold (array([ 0,  1,  2,  3,  4,  5,  6,  7,  8,  9, 10, 11, 12, 13, 14, 15, 16,\n",
      "       17, 18, 19, 20, 21, 22, 23, 24, 25, 26, 27, 28, 29, 30, 31, 32, 33,\n",
      "       34], dtype=int16), array([1044188,    1621,     878,     566,     428,     366,     300,\n",
      "           287,     257,     218,     183,     201,     169,     156,\n",
      "           149,     123,      95,      91,      89,      52,      45,\n",
      "            30,      32,      15,      18,      14,      13,       9,\n",
      "             9,       6,       6,       4,       2,       2,       2]))\n",
      "after threshold and dilation (array([0, 1], dtype=int16), array([1047253,    3371]))\n",
      "[ 0.  1.  2.  3.  4.  5.  6.  7.  8.  9. 10. 11. 12. 13. 14. 15. 16. 17.\n",
      " 18. 19. 20. 21. 22. 23. 24. 25. 26. 27. 28. 29. 30. 31. 32. 33. 34.]\n",
      "[[ 1.0000000e+00  1.9572886e-08  1.4646598e-07 -1.5258789e-05]\n",
      " [-1.9572848e-08  1.0000000e+00 -2.5366498e-07  3.0517578e-05]\n",
      " [-1.4646598e-07  2.5366498e-07  1.0000000e+00 -3.0517578e-05]\n",
      " [ 0.0000000e+00  0.0000000e+00  0.0000000e+00  1.0000000e+00]]\n",
      "before threshold (array([ 0,  1,  2,  3,  4,  5,  6,  7,  8,  9, 10, 11, 12, 13, 14, 15, 16,\n",
      "       17, 18, 19, 20, 21, 22, 23, 24, 25, 26, 27, 28, 29, 30, 31, 32, 33,\n",
      "       34], dtype=int16), array([1044188,    1621,     878,     566,     428,     366,     300,\n",
      "           287,     257,     218,     183,     201,     169,     156,\n",
      "           149,     123,      95,      91,      89,      52,      45,\n",
      "            30,      32,      15,      18,      14,      13,       9,\n",
      "             9,       6,       6,       4,       2,       2,       2]))\n",
      "after threshold and dilation (array([0, 1], dtype=int16), array([1047253,    3371]))\n"
     ]
    },
    {
     "name": "stderr",
     "output_type": "stream",
     "text": [
      "/usr/lib/python3/dist-packages/scipy/__init__.py:146: UserWarning: A NumPy version >=1.17.3 and <1.25.0 is required for this version of SciPy (detected version 1.26.4\n",
      "  warnings.warn(f\"A NumPy version >={np_minversion} and <{np_maxversion}\"\n"
     ]
    },
    {
     "name": "stdout",
     "output_type": "stream",
     "text": [
      "loading direct transformations\n",
      "Output dimensions: 96, 114, 96\n",
      "Output voxel size: 2, 2, 2 mm\n",
      "Resampling carto_volume of S16...   0   1   2   3   4   5   6   7   8   9  10  11  12  13  14  15  16  17  18  19  20  21  22  23  24  25  26  27  28  29  30  31  32  33  34  35  36  37  38  39  40  41  42  43  44  45  46  47  48  49  50  51  52  53  54  55  56  57  58  59  60  61  62  63  64  65  66  67  68  69  70  71  72  73  74  75  76  77  78  79  80  81  82  83  84  85  86  87  88  89  90  91  92  93  94  95  96  97  98  99 100 %\n"
     ]
    },
    {
     "name": "stderr",
     "output_type": "stream",
     "text": [
      "/usr/lib/python3/dist-packages/scipy/__init__.py:146: UserWarning: A NumPy version >=1.17.3 and <1.25.0 is required for this version of SciPy (detected version 1.26.4\n",
      "  warnings.warn(f\"A NumPy version >={np_minversion} and <{np_maxversion}\"\n"
     ]
    },
    {
     "name": "stdout",
     "output_type": "stream",
     "text": [
      "loading direct transformations\n",
      "Output dimensions: 96, 114, 96\n",
      "Output voxel size: 2, 2, 2 mm\n",
      "Resampling carto_volume of S16...   0   1   2   3   4   5   6   7   8   9  10  11  12  13  14  15  16  17  18  19  20  21  22  23  24  25  26  27  28  29  30  31  32  33  34  35  36  37  38  39  40  41  42  43  44  45  46  47  48  49  50  51  52  53  54  55  56  57  58  59  60  61  62  63  64  65  66  67  68  69  70  71  72  73  74  75  76  77  78  79  80  81  82  83  84  85  86  87  88  89  90  91  92  93  94  95  96  97  98  99 100 %\n",
      "ndimage.find_objects(arr) = [(slice(46, 64, None), slice(68, 101, None), slice(47, 68, None), slice(0, 1, None))]\n",
      "before threshold (array([ 0,  1,  2,  3,  4,  5,  6,  7,  8,  9, 10, 11, 12, 13, 14, 15, 16,\n",
      "       17, 18, 19, 20, 21, 22, 23, 24, 25, 26, 27, 28, 29, 30, 31, 32, 33,\n",
      "       34], dtype=int16), array([1044188,    1621,     878,     566,     428,     366,     300,\n",
      "           287,     257,     218,     183,     201,     169,     156,\n",
      "           149,     123,      95,      91,      89,      52,      45,\n",
      "            30,      32,      15,      18,      14,      13,       9,\n",
      "             9,       6,       6,       4,       2,       2,       2]))\n",
      "after threshold and dilation (array([0, 1], dtype=int16), array([1047253,    3371]))\n",
      "[ 0.  1.  2.  3.  4.  5.  6.  7.  8.  9. 10. 11. 12. 13. 14. 15. 16. 17.\n",
      " 18. 19. 20. 21. 22. 23. 24. 25. 26. 27. 28. 29. 30. 31. 32. 33. 34.]\n",
      "[[ 1.0000000e+00 -2.6495368e-07  4.0404431e-09  4.5776367e-05]\n",
      " [ 2.6495368e-07  1.0000000e+00  4.3584247e-09 -3.0517578e-05]\n",
      " [-4.0404444e-09 -4.3584238e-09  1.0000000e+00  0.0000000e+00]\n",
      " [ 0.0000000e+00  0.0000000e+00  0.0000000e+00  1.0000000e+00]]\n",
      "before threshold (array([ 0,  1,  2,  3,  4,  5,  6,  7,  8,  9, 10, 11, 12, 13, 14, 15, 16,\n",
      "       17, 18, 19, 20, 21, 22, 23, 24, 25, 26, 27, 28, 29, 30, 31, 32, 33,\n",
      "       34], dtype=int16), array([1044188,    1621,     878,     566,     428,     366,     300,\n",
      "           287,     257,     218,     183,     201,     169,     156,\n",
      "           149,     123,      95,      91,      89,      52,      45,\n",
      "            30,      32,      15,      18,      14,      13,       9,\n",
      "             9,       6,       6,       4,       2,       2,       2]))\n",
      "after threshold and dilation (array([0, 1], dtype=int16), array([1047253,    3371]))\n"
     ]
    },
    {
     "name": "stderr",
     "output_type": "stream",
     "text": [
      "/usr/lib/python3/dist-packages/scipy/__init__.py:146: UserWarning: A NumPy version >=1.17.3 and <1.25.0 is required for this version of SciPy (detected version 1.26.4\n",
      "  warnings.warn(f\"A NumPy version >={np_minversion} and <{np_maxversion}\"\n"
     ]
    },
    {
     "name": "stdout",
     "output_type": "stream",
     "text": [
      "loading direct transformations\n",
      "Output dimensions: 96, 114, 96\n",
      "Output voxel size: 2, 2, 2 mm\n",
      "Resampling carto_volume of S16...   0   1   2   3   4   5   6   7   8   9  10  11  12  13  14  15  16  17  18  19  20  21  22  23  24  25  26  27  28  29  30  31  32  33  34  35  36  37  38  39  40  41  42  43  44  45  46  47  48  49  50  51  52  53  54  55  56  57  58  59  60  61  62  63  64  65  66  67  68  69  70  71  72  73  74  75  76  77  78  79  80  81  82  83  84  85  86  87  88  89  90  91  92  93  94  95  96  97  98  99 100 %\n"
     ]
    },
    {
     "name": "stderr",
     "output_type": "stream",
     "text": [
      "/usr/lib/python3/dist-packages/scipy/__init__.py:146: UserWarning: A NumPy version >=1.17.3 and <1.25.0 is required for this version of SciPy (detected version 1.26.4\n",
      "  warnings.warn(f\"A NumPy version >={np_minversion} and <{np_maxversion}\"\n"
     ]
    },
    {
     "name": "stdout",
     "output_type": "stream",
     "text": [
      "loading direct transformations\n",
      "Output dimensions: 96, 114, 96\n",
      "Output voxel size: 2, 2, 2 mm\n",
      "Resampling carto_volume of S16...   0   1   2   3   4   5   6   7   8   9  10  11  12  13  14  15  16  17  18  19  20  21  22  23  24  25  26  27  28  29  30  31  32  33  34  35  36  37  38  39  40  41  42  43  44  45  46  47  48  49  50  51  52  53  54  55  56  57  58  59  60  61  62  63  64  65  66  67  68  69  70  71  72  73  74  75  76  77  78  79  80  81  82  83  84  85  86  87  88  89  90  91  92  93  94  95  96  97  98  99 100 %\n",
      "ndimage.find_objects(arr) = [(slice(46, 64, None), slice(68, 101, None), slice(47, 68, None), slice(0, 1, None))]\n",
      "before threshold (array([ 0,  1,  2,  3,  4,  5,  6,  7,  8,  9, 10, 11, 12, 13, 14, 15, 16,\n",
      "       17, 18, 19, 20, 21, 22, 23, 24, 25, 26, 27, 28, 29, 30, 31, 32, 33,\n",
      "       34], dtype=int16), array([1044188,    1621,     878,     566,     428,     366,     300,\n",
      "           287,     257,     218,     183,     201,     169,     156,\n",
      "           149,     123,      95,      91,      89,      52,      45,\n",
      "            30,      32,      15,      18,      14,      13,       9,\n",
      "             9,       6,       6,       4,       2,       2,       2]))\n",
      "after threshold and dilation (array([0, 1], dtype=int16), array([1047253,    3371]))\n",
      "[ 0.  1.  2.  3.  4.  5.  6.  7.  8.  9. 10. 11. 12. 13. 14. 15. 16. 17.\n",
      " 18. 19. 20. 21. 22. 23. 24. 25. 26. 27. 28. 29. 30. 31. 32. 33. 34.]\n",
      "[[ 1.0000000e+00 -8.4323638e-06 -7.9270613e-08  1.6174316e-03]\n",
      " [ 8.4323638e-06  1.0000000e+00 -1.5533413e-07 -9.0026855e-04]\n",
      " [ 7.9271921e-08  1.5533347e-07  1.0000000e+00 -3.8146973e-05]\n",
      " [ 0.0000000e+00  0.0000000e+00  0.0000000e+00  1.0000000e+00]]\n",
      "before threshold (array([ 0,  1,  2,  3,  4,  5,  6,  7,  8,  9, 10, 11, 12, 13, 14, 15, 16,\n",
      "       17, 18, 19, 20, 21, 22, 23, 24, 25, 26, 27, 28, 29, 30, 31, 32, 33,\n",
      "       34], dtype=int16), array([1044188,    1621,     878,     566,     428,     366,     300,\n",
      "           287,     257,     218,     183,     201,     169,     156,\n",
      "           149,     123,      95,      91,      89,      52,      45,\n",
      "            30,      32,      15,      18,      14,      13,       9,\n",
      "             9,       6,       6,       4,       2,       2,       2]))\n",
      "after threshold and dilation (array([0, 1], dtype=int16), array([1047253,    3371]))\n"
     ]
    },
    {
     "name": "stderr",
     "output_type": "stream",
     "text": [
      "/usr/lib/python3/dist-packages/scipy/__init__.py:146: UserWarning: A NumPy version >=1.17.3 and <1.25.0 is required for this version of SciPy (detected version 1.26.4\n",
      "  warnings.warn(f\"A NumPy version >={np_minversion} and <{np_maxversion}\"\n"
     ]
    },
    {
     "name": "stdout",
     "output_type": "stream",
     "text": [
      "loading direct transformations\n",
      "Output dimensions: 96, 114, 96\n",
      "Output voxel size: 2, 2, 2 mm\n",
      "Resampling carto_volume of S16...   0   1   2   3   4   5   6   7   8   9  10  11  12  13  14  15  16  17  18  19  20  21  22  23  24  25  26  27  28  29  30  31  32  33  34  35  36  37  38  39  40  41  42  43  44  45  46  47  48  49  50  51  52  53  54  55  56  57  58  59  60  61  62  63  64  65  66  67  68  69  70  71  72  73  74  75  76  77  78  79  80  81  82  83  84  85  86  87  88  89  90  91  92  93  94  95  96  97  98  99 100 %\n"
     ]
    },
    {
     "name": "stderr",
     "output_type": "stream",
     "text": [
      "/usr/lib/python3/dist-packages/scipy/__init__.py:146: UserWarning: A NumPy version >=1.17.3 and <1.25.0 is required for this version of SciPy (detected version 1.26.4\n",
      "  warnings.warn(f\"A NumPy version >={np_minversion} and <{np_maxversion}\"\n"
     ]
    },
    {
     "name": "stdout",
     "output_type": "stream",
     "text": [
      "loading direct transformations\n",
      "Output dimensions: 96, 114, 96\n",
      "Output voxel size: 2, 2, 2 mm\n",
      "Resampling carto_volume of S16...   0   1   2   3   4   5   6   7   8   9  10  11  12  13  14  15  16  17  18  19  20  21  22  23  24  25  26  27  28  29  30  31  32  33  34  35  36  37  38  39  40  41  42  43  44  45  46  47  48  49  50  51  52  53  54  55  56  57  58  59  60  61  62  63  64  65  66  67  68  69  70  71  72  73  74  75  76  77  78  79  80  81  82  83  84  85  86  87  88  89  90  91  92  93  94  95  96  97  98  99 100 %\n",
      "ndimage.find_objects(arr) = [(slice(46, 64, None), slice(68, 101, None), slice(47, 68, None), slice(0, 1, None))]\n",
      "before threshold (array([ 0,  1,  2,  3,  4,  5,  6,  7,  8,  9, 10, 11, 12, 13, 14, 15, 16,\n",
      "       17, 18, 19, 20, 21, 22, 23, 24, 25, 26, 27, 28, 29, 30, 31, 32, 33,\n",
      "       34], dtype=int16), array([1044188,    1621,     878,     566,     428,     366,     300,\n",
      "           287,     257,     218,     183,     201,     169,     156,\n",
      "           149,     123,      95,      91,      89,      52,      45,\n",
      "            30,      32,      15,      18,      14,      13,       9,\n",
      "             9,       6,       6,       4,       2,       2,       2]))\n",
      "after threshold and dilation (array([0, 1], dtype=int16), array([1047253,    3371]))\n",
      "[ 0.  1.  2.  3.  4.  5.  6.  7.  8.  9. 10. 11. 12. 13. 14. 15. 16. 17.\n",
      " 18. 19. 20. 21. 22. 23. 24. 25. 26. 27. 28. 29. 30. 31. 32. 33. 34.]\n",
      "[[ 1.0000000e+00 -1.0718123e-07 -3.4658306e-08  2.2888184e-05]\n",
      " [ 1.0718123e-07  1.0000000e+00 -2.2849910e-08  1.9999847e+00]\n",
      " [ 3.4658310e-08  2.2849905e-08  1.0000000e+00 -7.6293945e-06]\n",
      " [ 0.0000000e+00  0.0000000e+00  0.0000000e+00  1.0000000e+00]]\n",
      "before threshold (array([ 0,  1,  2,  3,  4,  5,  6,  7,  8,  9, 10, 11, 12, 13, 14, 15, 16,\n",
      "       17, 18, 19, 20, 21, 22, 23, 24, 25, 26, 27, 28, 29, 30, 31, 32, 33,\n",
      "       34], dtype=int16), array([1044188,    1621,     878,     566,     428,     366,     300,\n",
      "           287,     257,     218,     183,     201,     169,     156,\n",
      "           149,     123,      95,      91,      89,      52,      45,\n",
      "            30,      32,      15,      18,      14,      13,       9,\n",
      "             9,       6,       6,       4,       2,       2,       2]))\n",
      "after threshold and dilation (array([0, 1], dtype=int16), array([1047253,    3371]))\n"
     ]
    },
    {
     "name": "stderr",
     "output_type": "stream",
     "text": [
      "/usr/lib/python3/dist-packages/scipy/__init__.py:146: UserWarning: A NumPy version >=1.17.3 and <1.25.0 is required for this version of SciPy (detected version 1.26.4\n",
      "  warnings.warn(f\"A NumPy version >={np_minversion} and <{np_maxversion}\"\n"
     ]
    },
    {
     "name": "stdout",
     "output_type": "stream",
     "text": [
      "loading direct transformations\n",
      "Output dimensions: 96, 114, 96\n",
      "Output voxel size: 2, 2, 2 mm\n",
      "Resampling carto_volume of S16...   0   1   2   3   4   5   6   7   8   9  10  11  12  13  14  15  16  17  18  19  20  21  22  23  24  25  26  27  28  29  30  31  32  33  34  35  36  37  38  39  40  41  42  43  44  45  46  47  48  49  50  51  52  53  54  55  56  57  58  59  60  61  62  63  64  65  66  67  68  69  70  71  72  73  74  75  76  77  78  79  80  81  82  83  84  85  86  87  88  89  90  91  92  93  94  95  96  97  98  99 100 %\n"
     ]
    },
    {
     "name": "stderr",
     "output_type": "stream",
     "text": [
      "/usr/lib/python3/dist-packages/scipy/__init__.py:146: UserWarning: A NumPy version >=1.17.3 and <1.25.0 is required for this version of SciPy (detected version 1.26.4\n",
      "  warnings.warn(f\"A NumPy version >={np_minversion} and <{np_maxversion}\"\n"
     ]
    },
    {
     "name": "stdout",
     "output_type": "stream",
     "text": [
      "loading direct transformations\n",
      "Output dimensions: 96, 114, 96\n",
      "Output voxel size: 2, 2, 2 mm\n",
      "Resampling carto_volume of S16...   0   1   2   3   4   5   6   7   8   9  10  11  12  13  14  15  16  17  18  19  20  21  22  23  24  25  26  27  28  29  30  31  32  33  34  35  36  37  38  39  40  41  42  43  44  45  46  47  48  49  50  51  52  53  54  55  56  57  58  59  60  61  62  63  64  65  66  67  68  69  70  71  72  73  74  75  76  77  78  79  80  81  82  83  84  85  86  87  88  89  90  91  92  93  94  95  96  97  98  99 100 %\n",
      "ndimage.find_objects(arr) = [(slice(46, 64, None), slice(69, 102, None), slice(47, 68, None), slice(0, 1, None))]\n",
      "before threshold (array([ 0,  1,  2,  3,  4,  5,  6,  7,  8,  9, 10, 11, 12, 13, 14, 15, 16,\n",
      "       17, 18, 19, 20, 21, 22, 23, 24, 25, 26, 27, 28, 29, 30, 31, 32, 33,\n",
      "       34], dtype=int16), array([1044188,    1621,     878,     566,     428,     366,     300,\n",
      "           287,     257,     218,     183,     201,     169,     156,\n",
      "           149,     123,      95,      91,      89,      52,      45,\n",
      "            30,      32,      15,      18,      14,      13,       9,\n",
      "             9,       6,       6,       4,       2,       2,       2]))\n",
      "after threshold and dilation (array([0, 1], dtype=int16), array([1047253,    3371]))\n",
      "[ 0.  1.  2.  3.  4.  5.  6.  7.  8.  9. 10. 11. 12. 13. 14. 15. 16. 17.\n",
      " 18. 19. 20. 21. 22. 23. 24. 25. 26. 27. 28. 29. 30. 31. 32. 33. 34.]\n",
      "[[ 1.0000000e+00  2.4978465e-07 -4.3471395e-09 -3.8146973e-05]\n",
      " [-2.4978465e-07  1.0000000e+00  3.5046328e-09  3.0517578e-05]\n",
      " [ 4.3471404e-09 -3.5046317e-09  1.0000000e+00  0.0000000e+00]\n",
      " [ 0.0000000e+00  0.0000000e+00  0.0000000e+00  1.0000000e+00]]\n",
      "before threshold (array([ 0,  1,  2,  3,  4,  5,  6,  7,  8,  9, 10, 11, 12, 13, 14, 15, 16,\n",
      "       17, 18, 19, 20, 21, 22, 23, 24, 25, 26, 27, 28, 29, 30, 31, 32, 33,\n",
      "       34], dtype=int16), array([1044188,    1621,     878,     566,     428,     366,     300,\n",
      "           287,     257,     218,     183,     201,     169,     156,\n",
      "           149,     123,      95,      91,      89,      52,      45,\n",
      "            30,      32,      15,      18,      14,      13,       9,\n",
      "             9,       6,       6,       4,       2,       2,       2]))\n",
      "after threshold and dilation (array([0, 1], dtype=int16), array([1047253,    3371]))\n"
     ]
    },
    {
     "name": "stderr",
     "output_type": "stream",
     "text": [
      "/usr/lib/python3/dist-packages/scipy/__init__.py:146: UserWarning: A NumPy version >=1.17.3 and <1.25.0 is required for this version of SciPy (detected version 1.26.4\n",
      "  warnings.warn(f\"A NumPy version >={np_minversion} and <{np_maxversion}\"\n"
     ]
    },
    {
     "name": "stdout",
     "output_type": "stream",
     "text": [
      "loading direct transformations\n",
      "Output dimensions: 96, 114, 96\n",
      "Output voxel size: 2, 2, 2 mm\n",
      "Resampling carto_volume of S16...   0   1   2   3   4   5   6   7   8   9  10  11  12  13  14  15  16  17  18  19  20  21  22  23  24  25  26  27  28  29  30  31  32  33  34  35  36  37  38  39  40  41  42  43  44  45  46  47  48  49  50  51  52  53  54  55  56  57  58  59  60  61  62  63  64  65  66  67  68  69  70  71  72  73  74  75  76  77  78  79  80  81  82  83  84  85  86  87  88  89  90  91  92  93  94  95  96  97  98  99 100 %\n"
     ]
    },
    {
     "name": "stderr",
     "output_type": "stream",
     "text": [
      "/usr/lib/python3/dist-packages/scipy/__init__.py:146: UserWarning: A NumPy version >=1.17.3 and <1.25.0 is required for this version of SciPy (detected version 1.26.4\n",
      "  warnings.warn(f\"A NumPy version >={np_minversion} and <{np_maxversion}\"\n"
     ]
    },
    {
     "name": "stdout",
     "output_type": "stream",
     "text": [
      "loading direct transformations\n",
      "Output dimensions: 96, 114, 96\n",
      "Output voxel size: 2, 2, 2 mm\n",
      "Resampling carto_volume of S16...   0   1   2   3   4   5   6   7   8   9  10  11  12  13  14  15  16  17  18  19  20  21  22  23  24  25  26  27  28  29  30  31  32  33  34  35  36  37  38  39  40  41  42  43  44  45  46  47  48  49  50  51  52  53  54  55  56  57  58  59  60  61  62  63  64  65  66  67  68  69  70  71  72  73  74  75  76  77  78  79  80  81  82  83  84  85  86  87  88  89  90  91  92  93  94  95  96  97  98  99 100 %\n",
      "ndimage.find_objects(arr) = [(slice(46, 64, None), slice(68, 101, None), slice(47, 68, None), slice(0, 1, None))]\n",
      "before threshold (array([ 0,  1,  2,  3,  4,  5,  6,  7,  8,  9, 10, 11, 12, 13, 14, 15, 16,\n",
      "       17, 18, 19, 20, 21, 22, 23, 24, 25, 26, 27, 28, 29, 30, 31, 32, 33,\n",
      "       34], dtype=int16), array([1044188,    1621,     878,     566,     428,     366,     300,\n",
      "           287,     257,     218,     183,     201,     169,     156,\n",
      "           149,     123,      95,      91,      89,      52,      45,\n",
      "            30,      32,      15,      18,      14,      13,       9,\n",
      "             9,       6,       6,       4,       2,       2,       2]))\n",
      "after threshold and dilation (array([0, 1], dtype=int16), array([1047253,    3371]))\n",
      "[ 0.  1.  2.  3.  4.  5.  6.  7.  8.  9. 10. 11. 12. 13. 14. 15. 16. 17.\n",
      " 18. 19. 20. 21. 22. 23. 24. 25. 26. 27. 28. 29. 30. 31. 32. 33. 34.]\n",
      "[[ 1.0000000e+00 -1.3467231e-11 -9.4396606e-09  0.0000000e+00]\n",
      " [ 1.3467231e-11  1.0000000e+00 -1.3259683e-11  0.0000000e+00]\n",
      " [ 9.4396606e-09  1.3259683e-11  1.0000000e+00  0.0000000e+00]\n",
      " [ 0.0000000e+00  0.0000000e+00  0.0000000e+00  1.0000000e+00]]\n",
      "before threshold (array([ 0,  1,  2,  3,  4,  5,  6,  7,  8,  9, 10, 11, 12, 13, 14, 15, 16,\n",
      "       17, 18, 19, 20, 21, 22, 23, 24, 25, 26, 27, 28, 29, 30, 31, 32, 33,\n",
      "       34], dtype=int16), array([1044188,    1621,     878,     566,     428,     366,     300,\n",
      "           287,     257,     218,     183,     201,     169,     156,\n",
      "           149,     123,      95,      91,      89,      52,      45,\n",
      "            30,      32,      15,      18,      14,      13,       9,\n",
      "             9,       6,       6,       4,       2,       2,       2]))\n",
      "after threshold and dilation (array([0, 1], dtype=int16), array([1047253,    3371]))\n"
     ]
    },
    {
     "name": "stderr",
     "output_type": "stream",
     "text": [
      "/usr/lib/python3/dist-packages/scipy/__init__.py:146: UserWarning: A NumPy version >=1.17.3 and <1.25.0 is required for this version of SciPy (detected version 1.26.4\n",
      "  warnings.warn(f\"A NumPy version >={np_minversion} and <{np_maxversion}\"\n"
     ]
    },
    {
     "name": "stdout",
     "output_type": "stream",
     "text": [
      "loading direct transformations\n",
      "Output dimensions: 96, 114, 96\n",
      "Output voxel size: 2, 2, 2 mm\n",
      "Resampling carto_volume of S16...   0   1   2   3   4   5   6   7   8   9  10  11  12  13  14  15  16  17  18  19  20  21  22  23  24  25  26  27  28  29  30  31  32  33  34  35  36  37  38  39  40  41  42  43  44  45  46  47  48  49  50  51  52  53  54  55  56  57  58  59  60  61  62  63  64  65  66  67  68  69  70  71  72  73  74  75  76  77  78  79  80  81  82  83  84  85  86  87  88  89  90  91  92  93  94  95  96  97  98  99 100 %\n"
     ]
    },
    {
     "name": "stderr",
     "output_type": "stream",
     "text": [
      "/usr/lib/python3/dist-packages/scipy/__init__.py:146: UserWarning: A NumPy version >=1.17.3 and <1.25.0 is required for this version of SciPy (detected version 1.26.4\n",
      "  warnings.warn(f\"A NumPy version >={np_minversion} and <{np_maxversion}\"\n"
     ]
    },
    {
     "name": "stdout",
     "output_type": "stream",
     "text": [
      "loading direct transformations\n",
      "Output dimensions: 96, 114, 96\n",
      "Output voxel size: 2, 2, 2 mm\n",
      "Resampling carto_volume of S16...   0   1   2   3   4   5   6   7   8   9  10  11  12  13  14  15  16  17  18  19  20  21  22  23  24  25  26  27  28  29  30  31  32  33  34  35  36  37  38  39  40  41  42  43  44  45  46  47  48  49  50  51  52  53  54  55  56  57  58  59  60  61  62  63  64  65  66  67  68  69  70  71  72  73  74  75  76  77  78  79  80  81  82  83  84  85  86  87  88  89  90  91  92  93  94  95  96  97  98  99 100 %\n",
      "ndimage.find_objects(arr) = [(slice(46, 64, None), slice(68, 101, None), slice(47, 68, None), slice(0, 1, None))]\n",
      "before threshold (array([ 0,  1,  2,  3,  4,  5,  6,  7,  8,  9, 10, 11, 12, 13, 14, 15, 16,\n",
      "       17, 18, 19, 20, 21, 22, 23, 24, 25, 26, 27, 28, 29, 30, 31, 32, 33,\n",
      "       34], dtype=int16), array([1044188,    1621,     878,     566,     428,     366,     300,\n",
      "           287,     257,     218,     183,     201,     169,     156,\n",
      "           149,     123,      95,      91,      89,      52,      45,\n",
      "            30,      32,      15,      18,      14,      13,       9,\n",
      "             9,       6,       6,       4,       2,       2,       2]))\n",
      "after threshold and dilation (array([0, 1], dtype=int16), array([1047253,    3371]))\n",
      "[ 0.  1.  2.  3.  4.  5.  6.  7.  8.  9. 10. 11. 12. 13. 14. 15. 16. 17.\n",
      " 18. 19. 20. 21. 22. 23. 24. 25. 26. 27. 28. 29. 30. 31. 32. 33. 34.]\n",
      "[[ 1.0000000e+00  1.9757844e-07 -4.4305879e-09 -3.0517578e-05]\n",
      " [-1.9758338e-07  9.9904531e-01 -4.3685798e-02  4.7094421e+00]\n",
      " [-4.2050137e-09  4.3685798e-02  9.9904531e-01 -7.0632706e+00]\n",
      " [ 0.0000000e+00  0.0000000e+00  0.0000000e+00  1.0000000e+00]]\n",
      "before threshold (array([ 0,  1,  2,  3,  4,  5,  6,  7,  8,  9, 10, 11, 12, 13, 14, 15, 16,\n",
      "       17, 18, 19, 20, 21, 22, 23, 24, 25, 26, 27, 28, 29, 30, 31, 32, 33,\n",
      "       34], dtype=int16), array([1044188,    1621,     878,     566,     428,     366,     300,\n",
      "           287,     257,     218,     183,     201,     169,     156,\n",
      "           149,     123,      95,      91,      89,      52,      45,\n",
      "            30,      32,      15,      18,      14,      13,       9,\n",
      "             9,       6,       6,       4,       2,       2,       2]))\n",
      "after threshold and dilation (array([0, 1], dtype=int16), array([1047253,    3371]))\n"
     ]
    },
    {
     "name": "stderr",
     "output_type": "stream",
     "text": [
      "/usr/lib/python3/dist-packages/scipy/__init__.py:146: UserWarning: A NumPy version >=1.17.3 and <1.25.0 is required for this version of SciPy (detected version 1.26.4\n",
      "  warnings.warn(f\"A NumPy version >={np_minversion} and <{np_maxversion}\"\n"
     ]
    },
    {
     "name": "stdout",
     "output_type": "stream",
     "text": [
      "loading direct transformations\n",
      "Output dimensions: 96, 114, 96\n",
      "Output voxel size: 2, 2, 2 mm\n",
      "Resampling carto_volume of S16...   0   1   2   3   4   5   6   7   8   9  10  11  12  13  14  15  16  17  18  19  20  21  22  23  24  25  26  27  28  29  30  31  32  33  34  35  36  37  38  39  40  41  42  43  44  45  46  47  48  49  50  51  52  53  54  55  56  57  58  59  60  61  62  63  64  65  66  67  68  69  70  71  72  73  74  75  76  77  78  79  80  81  82  83  84  85  86  87  88  89  90  91  92  93  94  95  96  97  98  99 100 %\n"
     ]
    },
    {
     "name": "stderr",
     "output_type": "stream",
     "text": [
      "/usr/lib/python3/dist-packages/scipy/__init__.py:146: UserWarning: A NumPy version >=1.17.3 and <1.25.0 is required for this version of SciPy (detected version 1.26.4\n",
      "  warnings.warn(f\"A NumPy version >={np_minversion} and <{np_maxversion}\"\n"
     ]
    },
    {
     "name": "stdout",
     "output_type": "stream",
     "text": [
      "loading direct transformations\n",
      "Output dimensions: 96, 114, 96\n",
      "Output voxel size: 2, 2, 2 mm\n",
      "Resampling carto_volume of S16...   0   1   2   3   4   5   6   7   8   9  10  11  12  13  14  15  16  17  18  19  20  21  22  23  24  25  26  27  28  29  30  31  32  33  34  35  36  37  38  39  40  41  42  43  44  45  46  47  48  49  50  51  52  53  54  55  56  57  58  59  60  61  62  63  64  65  66  67  68  69  70  71  72  73  74  75  76  77  78  79  80  81  82  83  84  85  86  87  88  89  90  91  92  93  94  95  96  97  98  99 100 %\n",
      "ndimage.find_objects(arr) = [(slice(46, 64, None), slice(68, 101, None), slice(47, 67, None), slice(0, 1, None))]\n",
      "before threshold (array([ 0,  1,  2,  3,  4,  5,  6,  7,  8,  9, 10, 11, 12, 13, 14, 15, 16,\n",
      "       17, 18, 19, 20, 21, 22, 23, 24, 25, 26, 27, 28, 29, 30, 31, 32, 33,\n",
      "       34], dtype=int16), array([1044188,    1621,     878,     566,     428,     366,     300,\n",
      "           287,     257,     218,     183,     201,     169,     156,\n",
      "           149,     123,      95,      91,      89,      52,      45,\n",
      "            30,      32,      15,      18,      14,      13,       9,\n",
      "             9,       6,       6,       4,       2,       2,       2]))\n",
      "after threshold and dilation (array([0, 1], dtype=int16), array([1047253,    3371]))\n",
      "[ 0.  1.  2.  3.  4.  5.  6.  7.  8.  9. 10. 11. 12. 13. 14. 15. 16. 17.\n",
      " 18. 19. 20. 21. 22. 23. 24. 25. 26. 27. 28. 29. 30. 31. 32. 33. 34.]\n",
      "[[ 1.0000000e+00 -1.5960858e-11 -1.1671305e-08  0.0000000e+00]\n",
      " [ 1.5961234e-11  1.0000000e+00  2.9762214e-08  0.0000000e+00]\n",
      " [ 1.1671305e-08 -2.9762214e-08  1.0000000e+00  0.0000000e+00]\n",
      " [ 0.0000000e+00  0.0000000e+00  0.0000000e+00  1.0000000e+00]]\n",
      "before threshold (array([ 0,  1,  2,  3,  4,  5,  6,  7,  8,  9, 10, 11, 12, 13, 14, 15, 16,\n",
      "       17, 18, 19, 20, 21, 22, 23, 24, 25, 26, 27, 28, 29, 30, 31, 32, 33,\n",
      "       34], dtype=int16), array([1044188,    1621,     878,     566,     428,     366,     300,\n",
      "           287,     257,     218,     183,     201,     169,     156,\n",
      "           149,     123,      95,      91,      89,      52,      45,\n",
      "            30,      32,      15,      18,      14,      13,       9,\n",
      "             9,       6,       6,       4,       2,       2,       2]))\n",
      "after threshold and dilation (array([0, 1], dtype=int16), array([1047253,    3371]))\n"
     ]
    },
    {
     "name": "stderr",
     "output_type": "stream",
     "text": [
      "/usr/lib/python3/dist-packages/scipy/__init__.py:146: UserWarning: A NumPy version >=1.17.3 and <1.25.0 is required for this version of SciPy (detected version 1.26.4\n",
      "  warnings.warn(f\"A NumPy version >={np_minversion} and <{np_maxversion}\"\n"
     ]
    },
    {
     "name": "stdout",
     "output_type": "stream",
     "text": [
      "loading direct transformations\n",
      "Output dimensions: 96, 114, 96\n",
      "Output voxel size: 2, 2, 2 mm\n",
      "Resampling carto_volume of S16...   0   1   2   3   4   5   6   7   8   9  10  11  12  13  14  15  16  17  18  19  20  21  22  23  24  25  26  27  28  29  30  31  32  33  34  35  36  37  38  39  40  41  42  43  44  45  46  47  48  49  50  51  52  53  54  55  56  57  58  59  60  61  62  63  64  65  66  67  68  69  70  71  72  73  74  75  76  77  78  79  80  81  82  83  84  85  86  87  88  89  90  91  92  93  94  95  96  97  98  99 100 %\n"
     ]
    },
    {
     "name": "stderr",
     "output_type": "stream",
     "text": [
      "/usr/lib/python3/dist-packages/scipy/__init__.py:146: UserWarning: A NumPy version >=1.17.3 and <1.25.0 is required for this version of SciPy (detected version 1.26.4\n",
      "  warnings.warn(f\"A NumPy version >={np_minversion} and <{np_maxversion}\"\n"
     ]
    },
    {
     "name": "stdout",
     "output_type": "stream",
     "text": [
      "loading direct transformations\n",
      "Output dimensions: 96, 114, 96\n",
      "Output voxel size: 2, 2, 2 mm\n",
      "Resampling carto_volume of S16...   0   1   2   3   4   5   6   7   8   9  10  11  12  13  14  15  16  17  18  19  20  21  22  23  24  25  26  27  28  29  30  31  32  33  34  35  36  37  38  39  40  41  42  43  44  45  46  47  48  49  50  51  52  53  54  55  56  57  58  59  60  61  62  63  64  65  66  67  68  69  70  71  72  73  74  75  76  77  78  79  80  81  82  83  84  85  86  87  88  89  90  91  92  93  94  95  96  97  98  99 100 %\n",
      "ndimage.find_objects(arr) = [(slice(46, 64, None), slice(68, 101, None), slice(47, 68, None), slice(0, 1, None))]\n",
      "before threshold (array([ 0,  1,  2,  3,  4,  5,  6,  7,  8,  9, 10, 11, 12, 13, 14, 15, 16,\n",
      "       17, 18, 19, 20, 21, 22, 23, 24, 25, 26, 27, 28, 29, 30, 31, 32, 33,\n",
      "       34], dtype=int16), array([1044188,    1621,     878,     566,     428,     366,     300,\n",
      "           287,     257,     218,     183,     201,     169,     156,\n",
      "           149,     123,      95,      91,      89,      52,      45,\n",
      "            30,      32,      15,      18,      14,      13,       9,\n",
      "             9,       6,       6,       4,       2,       2,       2]))\n",
      "after threshold and dilation (array([0, 1], dtype=int16), array([1047253,    3371]))\n",
      "[ 0.  1.  2.  3.  4.  5.  6.  7.  8.  9. 10. 11. 12. 13. 14. 15. 16. 17.\n",
      " 18. 19. 20. 21. 22. 23. 24. 25. 26. 27. 28. 29. 30. 31. 32. 33. 34.]\n",
      "[[ 1.00000000e+00  1.08587255e-08 -9.39403364e-08  7.62939453e-06]\n",
      " [-1.08587557e-08  1.00000000e+00 -3.24200244e-07  3.05175781e-05]\n",
      " [ 9.39403293e-08  3.24200244e-07  1.00000000e+00 -6.10351562e-05]\n",
      " [ 0.00000000e+00  0.00000000e+00  0.00000000e+00  1.00000000e+00]]\n",
      "before threshold (array([ 0,  1,  2,  3,  4,  5,  6,  7,  8,  9, 10, 11, 12, 13, 14, 15, 16,\n",
      "       17, 18, 19, 20, 21, 22, 23, 24, 25, 26, 27, 28, 29, 30, 31, 32, 33,\n",
      "       34], dtype=int16), array([1044188,    1621,     878,     566,     428,     366,     300,\n",
      "           287,     257,     218,     183,     201,     169,     156,\n",
      "           149,     123,      95,      91,      89,      52,      45,\n",
      "            30,      32,      15,      18,      14,      13,       9,\n",
      "             9,       6,       6,       4,       2,       2,       2]))\n",
      "after threshold and dilation (array([0, 1], dtype=int16), array([1047253,    3371]))\n"
     ]
    },
    {
     "name": "stderr",
     "output_type": "stream",
     "text": [
      "/usr/lib/python3/dist-packages/scipy/__init__.py:146: UserWarning: A NumPy version >=1.17.3 and <1.25.0 is required for this version of SciPy (detected version 1.26.4\n",
      "  warnings.warn(f\"A NumPy version >={np_minversion} and <{np_maxversion}\"\n"
     ]
    },
    {
     "name": "stdout",
     "output_type": "stream",
     "text": [
      "loading direct transformations\n",
      "Output dimensions: 96, 114, 96\n",
      "Output voxel size: 2, 2, 2 mm\n",
      "Resampling carto_volume of S16...   0   1   2   3   4   5   6   7   8   9  10  11  12  13  14  15  16  17  18  19  20  21  22  23  24  25  26  27  28  29  30  31  32  33  34  35  36  37  38  39  40  41  42  43  44  45  46  47  48  49  50  51  52  53  54  55  56  57  58  59  60  61  62  63  64  65  66  67  68  69  70  71  72  73  74  75  76  77  78  79  80  81  82  83  84  85  86  87  88  89  90  91  92  93  94  95  96  97  98  99 100 %\n"
     ]
    },
    {
     "name": "stderr",
     "output_type": "stream",
     "text": [
      "/usr/lib/python3/dist-packages/scipy/__init__.py:146: UserWarning: A NumPy version >=1.17.3 and <1.25.0 is required for this version of SciPy (detected version 1.26.4\n",
      "  warnings.warn(f\"A NumPy version >={np_minversion} and <{np_maxversion}\"\n"
     ]
    },
    {
     "name": "stdout",
     "output_type": "stream",
     "text": [
      "loading direct transformations\n",
      "Output dimensions: 96, 114, 96\n",
      "Output voxel size: 2, 2, 2 mm\n",
      "Resampling carto_volume of S16...   0   1   2   3   4   5   6   7   8   9  10  11  12  13  14  15  16  17  18  19  20  21  22  23  24  25  26  27  28  29  30  31  32  33  34  35  36  37  38  39  40  41  42  43  44  45  46  47  48  49  50  51  52  53  54  55  56  57  58  59  60  61  62  63  64  65  66  67  68  69  70  71  72  73  74  75  76  77  78  79  80  81  82  83  84  85  86  87  88  89  90  91  92  93  94  95  96  97  98  99 100 %\n",
      "ndimage.find_objects(arr) = [(slice(46, 64, None), slice(68, 101, None), slice(47, 68, None), slice(0, 1, None))]\n",
      "before threshold (array([ 0,  1,  2,  3,  4,  5,  6,  7,  8,  9, 10, 11, 12, 13, 14, 15, 16,\n",
      "       17, 18, 19, 20, 21, 22, 23, 24, 25, 26, 27, 28, 29, 30, 31, 32, 33,\n",
      "       34], dtype=int16), array([1044188,    1621,     878,     566,     428,     366,     300,\n",
      "           287,     257,     218,     183,     201,     169,     156,\n",
      "           149,     123,      95,      91,      89,      52,      45,\n",
      "            30,      32,      15,      18,      14,      13,       9,\n",
      "             9,       6,       6,       4,       2,       2,       2]))\n",
      "after threshold and dilation (array([0, 1], dtype=int16), array([1047253,    3371]))\n",
      "[ 0.  1.  2.  3.  4.  5.  6.  7.  8.  9. 10. 11. 12. 13. 14. 15. 16. 17.\n",
      " 18. 19. 20. 21. 22. 23. 24. 25. 26. 27. 28. 29. 30. 31. 32. 33. 34.]\n",
      "[[ 1.0000000e+00  9.5909281e-09 -3.3128854e-11  0.0000000e+00]\n",
      " [-9.5909281e-09  1.0000000e+00 -1.5251049e-11  0.0000000e+00]\n",
      " [ 3.3128854e-11  1.5251049e-11  1.0000000e+00  0.0000000e+00]\n",
      " [ 0.0000000e+00  0.0000000e+00  0.0000000e+00  1.0000000e+00]]\n",
      "before threshold (array([ 0,  1,  2,  3,  4,  5,  6,  7,  8,  9, 10, 11, 12, 13, 14, 15, 16,\n",
      "       17, 18, 19, 20, 21, 22, 23, 24, 25, 26, 27, 28, 29, 30, 31, 32, 33,\n",
      "       34], dtype=int16), array([1044188,    1621,     878,     566,     428,     366,     300,\n",
      "           287,     257,     218,     183,     201,     169,     156,\n",
      "           149,     123,      95,      91,      89,      52,      45,\n",
      "            30,      32,      15,      18,      14,      13,       9,\n",
      "             9,       6,       6,       4,       2,       2,       2]))\n",
      "after threshold and dilation (array([0, 1], dtype=int16), array([1047253,    3371]))\n"
     ]
    },
    {
     "name": "stderr",
     "output_type": "stream",
     "text": [
      "/usr/lib/python3/dist-packages/scipy/__init__.py:146: UserWarning: A NumPy version >=1.17.3 and <1.25.0 is required for this version of SciPy (detected version 1.26.4\n",
      "  warnings.warn(f\"A NumPy version >={np_minversion} and <{np_maxversion}\"\n"
     ]
    },
    {
     "name": "stdout",
     "output_type": "stream",
     "text": [
      "loading direct transformations\n",
      "Output dimensions: 96, 114, 96\n",
      "Output voxel size: 2, 2, 2 mm\n",
      "Resampling carto_volume of S16...   0   1   2   3   4   5   6   7   8   9  10  11  12  13  14  15  16  17  18  19  20  21  22  23  24  25  26  27  28  29  30  31  32  33  34  35  36  37  38  39  40  41  42  43  44  45  46  47  48  49  50  51  52  53  54  55  56  57  58  59  60  61  62  63  64  65  66  67  68  69  70  71  72  73  74  75  76  77  78  79  80  81  82  83  84  85  86  87  88  89  90  91  92  93  94  95  96  97  98  99 100 %\n"
     ]
    },
    {
     "name": "stderr",
     "output_type": "stream",
     "text": [
      "/usr/lib/python3/dist-packages/scipy/__init__.py:146: UserWarning: A NumPy version >=1.17.3 and <1.25.0 is required for this version of SciPy (detected version 1.26.4\n",
      "  warnings.warn(f\"A NumPy version >={np_minversion} and <{np_maxversion}\"\n"
     ]
    },
    {
     "name": "stdout",
     "output_type": "stream",
     "text": [
      "loading direct transformations\n",
      "Output dimensions: 96, 114, 96\n",
      "Output voxel size: 2, 2, 2 mm\n",
      "Resampling carto_volume of S16...   0   1   2   3   4   5   6   7   8   9  10  11  12  13  14  15  16  17  18  19  20  21  22  23  24  25  26  27  28  29  30  31  32  33  34  35  36  37  38  39  40  41  42  43  44  45  46  47  48  49  50  51  52  53  54  55  56  57  58  59  60  61  62  63  64  65  66  67  68  69  70  71  72  73  74  75  76  77  78  79  80  81  82  83  84  85  86  87  88  89  90  91  92  93  94  95  96  97  98  99 100 %\n",
      "ndimage.find_objects(arr) = [(slice(46, 64, None), slice(68, 101, None), slice(47, 68, None), slice(0, 1, None))]\n"
     ]
    }
   ],
   "source": [
    "before_all = aims.Volume(spam_vol.getSize(), 'S16')\n",
    "before_all.copyHeaderFrom(spam_vol.header())\n",
    "after_all = aims.Volume(spam_vol.getSize(), 'S16')\n",
    "after_all.copyHeaderFrom(spam_vol.header())\n",
    "list_after = []\n",
    "list_after_cropped = []\n",
    "for skel_f in skel_files:\n",
    "    skel_vol = aims.read(skel_f)\n",
    "    b, r, s = realign(spam_vol, skel_vol)\n",
    "    before = aims.Volume(spam_vol.getSize(), 'S16')\n",
    "    before.copyHeaderFrom(spam_vol.header())\n",
    "    before += b\n",
    "    after = aims.Volume(spam_vol.getSize(), 'S16')\n",
    "    after.copyHeaderFrom(spam_vol.header())\n",
    "    after += r\n",
    "    spam_after = aims.Volume(spam_vol.getSize(), 'S16')\n",
    "    spam_after.copyHeaderFrom(spam_vol.header())\n",
    "    spam_after += s  \n",
    "    \n",
    "    bbmin, bbmax = compute_bbox_mask(spam_after.np)\n",
    "    after_cropped = aims.VolumeView(after, bbmin, bbmax - bbmin)\n",
    "    \n",
    "    before_all += before\n",
    "    after_all += after\n",
    "    list_after.append(after)\n",
    "    list_after_cropped.append(after_cropped)"
   ]
  },
  {
   "cell_type": "code",
   "execution_count": 16,
   "metadata": {},
   "outputs": [
    {
     "name": "stdout",
     "output_type": "stream",
     "text": [
      "ndimage.find_objects(arr) = [(slice(46, 64, None), slice(68, 101, None), slice(47, 68, None), slice(0, 1, None))]\n"
     ]
    },
    {
     "data": {
      "text/plain": [
       "(18, 33, 21, 1)"
      ]
     },
     "execution_count": 16,
     "metadata": {},
     "output_type": "execute_result"
    }
   ],
   "source": [
    "spam_before = aims.read(\"/tmp/spam_final_before.nii.gz\")\n",
    "bbmin, bbmax = compute_bbox_mask(spam_before.np)\n",
    "before_cropped = aims.VolumeView(spam_before, bbmin, bbmax - bbmin)\n",
    "before_cropped.shape"
   ]
  },
  {
   "cell_type": "code",
   "execution_count": 17,
   "metadata": {},
   "outputs": [
    {
     "data": {
      "text/plain": [
       "array([ 0,  1,  2,  3,  4,  5,  6,  7,  8,  9, 10, 11, 12, 13, 14, 15, 16,\n",
       "       17, 18, 19, 20, 21, 22, 23, 24, 25, 26], dtype=int16)"
      ]
     },
     "execution_count": 17,
     "metadata": {},
     "output_type": "execute_result"
    }
   ],
   "source": [
    "np.unique(before_all.np)"
   ]
  },
  {
   "cell_type": "code",
   "execution_count": 18,
   "metadata": {},
   "outputs": [
    {
     "data": {
      "text/plain": [
       "array([ 0,  1,  2,  3,  4,  5,  6,  7,  8,  9, 10, 11, 12, 13, 14, 15, 16,\n",
       "       17, 18, 19, 20, 21, 22, 23, 24, 25, 26, 27], dtype=int16)"
      ]
     },
     "execution_count": 18,
     "metadata": {},
     "output_type": "execute_result"
    }
   ],
   "source": [
    "np.unique(after_all.np)"
   ]
  },
  {
   "cell_type": "code",
   "execution_count": 19,
   "metadata": {},
   "outputs": [],
   "source": [
    "diff_all = after_all - before_all"
   ]
  },
  {
   "cell_type": "code",
   "execution_count": 20,
   "metadata": {},
   "outputs": [
    {
     "data": {
      "text/plain": [
       "<soma.aims.Volume_S16 at 0x754209f47a30>"
      ]
     },
     "execution_count": 20,
     "metadata": {},
     "output_type": "execute_result"
    }
   ],
   "source": [
    "diff_all"
   ]
  },
  {
   "cell_type": "code",
   "execution_count": 21,
   "metadata": {},
   "outputs": [
    {
     "data": {
      "text/plain": [
       "<anatomist.direct.api.Anatomist at 0x7542be729e10>"
      ]
     },
     "execution_count": 21,
     "metadata": {},
     "output_type": "execute_result"
    }
   ],
   "source": [
    "a"
   ]
  },
  {
   "cell_type": "code",
   "execution_count": 31,
   "metadata": {},
   "outputs": [],
   "source": [
    "spam_vol = aims.read(spam_file)"
   ]
  },
  {
   "cell_type": "code",
   "execution_count": 22,
   "metadata": {},
   "outputs": [],
   "source": [
    "# Visualization\n",
    "spam = a.loadObject(spam_file)\n",
    "before_a = a.toAObject(before_all)\n",
    "diff_a = a.toAObject(diff_all)\n",
    "before_a.setPalette(\"Blues\")\n",
    "diff_a.setPalette(\"bwr\")\n",
    "# spam_before = a.toAObject(before_all)\n",
    "# spam_before.setPalette(\"Blues\")\n",
    "# spam_after = a.toAObject(after_all)Utilities to generate foldlabels from graph\n",
    "# spam_after.setPalette(\"Reds\")\n",
    "w = a.createWindow('Sagittal')\n",
    "w.addObjects(spam)\n",
    "# w.addObjects(before_a)\n",
    "w.addObjects(diff_a)\n",
    "# w.addObjects(spam_before)\n",
    "# w.addObjects(spam_after)\n",
    "\n",
    "crop_a = a.toAObject(after_cropped)\n",
    "w_crop = a.createWindow('Sagittal')\n",
    "w_crop.addObjects(crop_a)\n"
   ]
  },
  {
   "cell_type": "code",
   "execution_count": 23,
   "metadata": {},
   "outputs": [],
   "source": [
    "# spam = a.loadObject(spam_file)\n",
    "# spam.setPalette(\"Blues\")\n",
    "# list_after_a = [a.toAObject(after) for after in list_after]\n",
    "# for after in list_after_a:\n",
    "#     after.setPalette(\"RED-lfusion\")\n",
    "# w = a.createWindow('Sagittal')\n",
    "# w.addObjects(list_after_a)\n",
    "# w.addObjects(spam)"
   ]
  },
  {
   "cell_type": "code",
   "execution_count": 24,
   "metadata": {},
   "outputs": [
    {
     "name": "stdout",
     "output_type": "stream",
     "text": [
      "(18, 33, 21, 1)\n",
      "(15, 33, 20, 1)\n",
      "(18, 33, 21, 1)\n",
      "(18, 33, 21, 1)\n",
      "(18, 33, 21, 1)\n",
      "(18, 33, 21, 1)\n",
      "(17, 33, 21, 1)\n",
      "(18, 33, 21, 1)\n",
      "(18, 33, 21, 1)\n",
      "(18, 33, 21, 1)\n",
      "(18, 33, 21, 1)\n",
      "(15, 33, 19, 1)\n",
      "(18, 33, 21, 1)\n",
      "(18, 33, 21, 1)\n",
      "(17, 33, 21, 1)\n",
      "(18, 33, 21, 1)\n",
      "(18, 33, 21, 1)\n",
      "(18, 33, 21, 1)\n",
      "(18, 33, 21, 1)\n",
      "(18, 33, 21, 1)\n",
      "(18, 33, 21, 1)\n",
      "(18, 33, 21, 1)\n",
      "(18, 33, 21, 1)\n",
      "(18, 33, 21, 1)\n",
      "(18, 33, 21, 1)\n",
      "(18, 33, 21, 1)\n",
      "(18, 33, 21, 1)\n",
      "(18, 33, 21, 1)\n",
      "(18, 33, 21, 1)\n",
      "(18, 33, 21, 1)\n",
      "(18, 33, 21, 1)\n",
      "(18, 33, 21, 1)\n",
      "(18, 33, 21, 1)\n",
      "(18, 33, 21, 1)\n",
      "(18, 33, 21, 1)\n",
      "(18, 33, 21, 1)\n",
      "(18, 33, 21, 1)\n",
      "(18, 33, 21, 1)\n",
      "(18, 33, 21, 1)\n",
      "(18, 33, 21, 1)\n",
      "(18, 33, 21, 1)\n",
      "(18, 33, 21, 1)\n",
      "(17, 33, 21, 1)\n",
      "(18, 33, 21, 1)\n",
      "(18, 33, 21, 1)\n",
      "(18, 33, 21, 1)\n",
      "(18, 33, 21, 1)\n",
      "(18, 33, 21, 1)\n",
      "(18, 33, 20, 1)\n",
      "(17, 33, 20, 1)\n",
      "(18, 33, 21, 1)\n",
      "(18, 33, 21, 1)\n",
      "(18, 33, 21, 1)\n",
      "(18, 33, 21, 1)\n",
      "(18, 33, 21, 1)\n",
      "(18, 33, 21, 1)\n",
      "(18, 33, 21, 1)\n",
      "(18, 33, 21, 1)\n",
      "(18, 33, 20, 1)\n",
      "(18, 33, 21, 1)\n",
      "(18, 33, 21, 1)\n",
      "(18, 33, 21, 1)\n"
     ]
    }
   ],
   "source": [
    "for l in list_after_cropped:\n",
    "    print(l.shape)"
   ]
  },
  {
   "cell_type": "code",
   "execution_count": 26,
   "metadata": {},
   "outputs": [],
   "source": [
    "%matplotlib qt5"
   ]
  },
  {
   "cell_type": "code",
   "execution_count": 40,
   "metadata": {},
   "outputs": [
    {
     "data": {
      "text/plain": [
       "<seaborn.axisgrid.FacetGrid at 0x7541605d3e50>"
      ]
     },
     "execution_count": 40,
     "metadata": {},
     "output_type": "execute_result"
    },
    {
     "data": {
      "image/png": "[encoded data removed]",
      "text/plain": [
       "<Figure size 360x360 with 1 Axes>"
      ]
     },
     "metadata": {
      "needs_background": "light"
     },
     "output_type": "display_data"
    }
   ],
   "source": [
    "%matplotlib inline\n",
    "df_dict = {\"spam\": spam_vol.np[spam_vol.np>0].flatten(),\n",
    "           \"diff\": diff_all.np[spam_vol.np>0].flatten()}\n",
    "df = pd.DataFrame(df_dict)\n",
    "g = sns.lmplot(data=df, x=\"spam\", y=\"diff\")\n",
    "\n",
    "def annotate(data, **kws):\n",
    "    r, p = scipy.stats.pearsonr(data['spam'], data['diff'])\n",
    "    ax = plt.gca()\n",
    "    ax.text(.05, .9, 'r={:.2f}, p={:.2g}'.format(r, p),\n",
    "            transform=ax.transAxes)\n",
    "    \n",
    "g.map_dataframe(annotate)"
   ]
  },
  {
   "cell_type": "code",
   "execution_count": null,
   "metadata": {},
   "outputs": [],
   "source": []
  }
 ],
 "metadata": {
  "kernelspec": {
   "display_name": "Python 3 (ipykernel)",
   "language": "python",
   "name": "python3"
  },
  "language_info": {
   "codemirror_mode": {
    "name": "ipython",
    "version": 3
   },
   "file_extension": ".py",
   "mimetype": "text/x-python",
   "name": "python",
   "nbconvert_exporter": "python",
   "pygments_lexer": "ipython3",
   "version": "3.10.12"
  }
 },
 "nbformat": 4,
 "nbformat_minor": 2
}
