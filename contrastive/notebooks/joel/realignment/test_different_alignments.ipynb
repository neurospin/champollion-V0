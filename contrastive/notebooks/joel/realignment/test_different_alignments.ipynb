{
 "cells": [
  {
   "cell_type": "code",
   "execution_count": 302,
   "metadata": {},
   "outputs": [],
   "source": [
    "\n",
    "import numpy as np\n",
    "\n",
    "from scipy.ndimage import gaussian_filter\n",
    "import subprocess\n",
    "from soma import aims\n",
    "\n",
    "from sulci.registration.spam import spam_register\n",
    "from soma.aimsalgo import MorphoGreyLevel_S16\n",
    "\n",
    "# Global static variables\n",
    "_AIMS_BINARY_ONE = 32767\n",
    "_dilation = 1\n",
    "_threshold = 0\n",
    "_nb_spam_subjects = 61\n",
    "\n",
    "# Anatomist\n",
    "\n",
    "import anatomist.api as ana\n",
    "from soma.qt_gui.qtThread import QtThreadCall\n",
    "from soma.qt_gui.qt_backend import Qt\n",
    "# launching anatomist\n",
    "a = ana.Anatomist()"
   ]
  },
  {
   "cell_type": "markdown",
   "metadata": {},
   "source": []
  },
  {
   "cell_type": "markdown",
   "metadata": {},
   "source": [
    "# Define functions"
   ]
  },
  {
   "cell_type": "code",
   "execution_count": 303,
   "metadata": {},
   "outputs": [],
   "source": [
    "def dilate(mask, radius=_dilation):\n",
    "    \"\"\"Makes a dilation radius _dilation, in mm\n",
    "    \"\"\"\n",
    "    arr = mask.np\n",
    "    # Binarization of mask\n",
    "    arr[arr < 1] = 0\n",
    "    arr[arr >= 1] = _AIMS_BINARY_ONE\n",
    "    # Dilates initial volume of 10 mm\n",
    "    morpho = MorphoGreyLevel_S16()\n",
    "    dilate = morpho.doDilation(mask, radius)\n",
    "    arr_dilate = dilate.np\n",
    "    arr_dilate[arr_dilate >= 1] = 1\n",
    "    return dilate"
   ]
  },
  {
   "cell_type": "code",
   "execution_count": 304,
   "metadata": {},
   "outputs": [],
   "source": [
    "def realign_mi_register(spam_vol: aims.Volume_FLOAT, skel_vol: aims.Volume_S16):\n",
    "    \"\"\"Realigns skeleton mask to spam\n",
    "    \n",
    "    skel_data is the test aims volume\"\"\"\n",
    "    \n",
    "    spam_vol = aims.Volume_FLOAT(spam_vol)\n",
    "    skel_vol2 = aims.Volume_S16(skel_vol)\n",
    "    skel_vol = aims.Volume(skel_vol2.getSize(), 'FLOAT')\n",
    "    skel_vol.copyHeaderFrom(skel_vol2.header())\n",
    "    skel_vol.np[:] = skel_vol2.np\n",
    "    \n",
    "    # Reads skeleton file\n",
    "    skel_vol.np[:] = (skel_vol.np > 0).astype(np.float32)\n",
    "    \n",
    "    # Makes binarization and dilation on spam\n",
    "    mask_result = aims.Volume(spam_vol.getSize(), 'S16')\n",
    "    mask_result.copyHeaderFrom(spam_vol.header())\n",
    "    mask_result.np[:] = spam_vol.np\n",
    "    mask_result[mask_result.np <= _threshold] = 0\n",
    "    mask_result.np[:] = dilate(mask_result).np\n",
    "\n",
    "    # Masks skeleton data with dilated spam\n",
    "    skel_vol.np[mask_result.np <= 0] = 0\n",
    "    skel_vol_masked = aims.Volume_FLOAT(skel_vol)\n",
    "    aims.write(skel_vol, \"/tmp/skel_before.nii.gz\")\n",
    "    skel_vol.np[:] = 100*gaussian_filter(skel_vol.np, sigma=2)\n",
    "    print(np.unique(skel_vol.np))\n",
    "    aims.write(skel_vol, \"/tmp/skel_before_filtered.nii.gz\")\n",
    "    \n",
    "    # Writes nifti files\n",
    "    aims.write(spam_vol, \"/tmp/spam.nii.gz\")\n",
    "    \n",
    "    # Makes realignment\n",
    "    subprocess.check_call(\"AimsMIRegister -r /tmp/spam.nii.gz  -t /tmp/skel_before_filtered.nii.gz --dir /tmp/transform.trm\", shell=True)\n",
    "    # print(out_tr.np)\n",
    "    \n",
    "    # Applies the realignment\n",
    "    subprocess.check_call(\"AimsApplyTransform -i /tmp/skel_before.nii.gz -o /tmp/skel_realigned.nii.gz -m /tmp/transform.trm\", shell=True)\n",
    "    \n",
    "    # loads realigned file:\n",
    "    after_vol = aims.read(\"/tmp/skel_realigned.nii.gz\")\n",
    "    \n",
    "    return after_vol, skel_vol_masked"
   ]
  },
  {
   "cell_type": "code",
   "execution_count": 305,
   "metadata": {},
   "outputs": [],
   "source": [
    "def realign_spam_register(spam_vol: aims.Volume_FLOAT, skel_vol: aims.Volume_S16):\n",
    "    \"\"\"Realigns skeleton mask to spam\n",
    "    \n",
    "    skel_f is a file name of skeleton file\"\"\"\n",
    "        \n",
    "    spam_vol = aims.Volume_FLOAT(spam_vol)\n",
    "    skel_vol = aims.Volume_S16(skel_vol)\n",
    "    \n",
    "    # Reads spam and skeleton files\n",
    "    skel_vol.np[:] = (skel_vol.np > 0).astype(np.int16)\n",
    "\n",
    "    # # Makes binarization and dilation on spam\n",
    "    # mask_result = aims.Volume(spam_vol.getSize(), 'S16')\n",
    "    # mask_result.copyHeaderFrom(spam_vol.header())\n",
    "    # mask_result.np[:] = spam_vol.np\n",
    "    # mask_result[mask_result.np <= _threshold] = 0\n",
    "    # mask_result.np[:] = dilate(mask_result).np\n",
    "\n",
    "    # # Masks skeleton data with dilated spam\n",
    "    # skel_vol.np[mask_result.np <= 0] = 0\n",
    "    aims.write(skel_vol, \"/tmp/skel_before.nii.gz\")\n",
    "    \n",
    "    # Reads initial spam volume\n",
    "    spam_vol.np[:] = spam_vol.np/np.max(spam_vol.np[:])\n",
    "    \n",
    "    # Makes realignment\n",
    "    out_tr = spam_register(spam_vol,\n",
    "                        skel_vol,\n",
    "                        do_mask=False,\n",
    "                        eps=20.,\n",
    "                        R_angle_var=np.pi / 8,\n",
    "                        t_var=20.,\n",
    "                        verbose=False,\n",
    "                        in_log=False,\n",
    "                        calibrate_distrib=30)\n",
    "    aims.write(out_tr, '/tmp/transform.trm')\n",
    "    \n",
    "    # Applies the realignment\n",
    "    subprocess.check_call(f\"AimsApplyTransform -i /tmp/skel_before.nii.gz -o /tmp/skel_realigned.nii.gz -m /tmp/transform.trm\", shell=True)\n",
    "    \n",
    "    # loads realigned file:\n",
    "    after = aims.read(\"/tmp/skel_realigned.nii.gz\")\n",
    "    \n",
    "    return after"
   ]
  },
  {
   "cell_type": "markdown",
   "metadata": {},
   "source": [
    "# Toy model"
   ]
  },
  {
   "cell_type": "code",
   "execution_count": 306,
   "metadata": {},
   "outputs": [],
   "source": [
    "# Initialiser les volumes aims et matrices numpy\n",
    "spam_file = '/neurospin/dico/data/deep_folding/current/mask/2mm/regions/L/S.C.-sylv._left.nii.gz'\n",
    "spam_vol = aims.read(spam_file, dtype=\"Volume_FLOAT\")\n",
    "spam_vol.np[:] = 0\n",
    "\n",
    "skel_f = '/neurospin/dico/data/deep_folding/current/datasets/pclean/binarized_skeletons/L/Lbinarized_skeleton_ammon.nii.gz' \n",
    "skel_vol = aims.read(skel_f, dtype=\"Volume_S16\")\n",
    "skel_vol.np[:] = 0\n",
    "\n",
    "spam_arr = np.zeros(spam_vol.np.shape, dtype=np.float32)\n",
    "skel_arr = np.zeros(spam_vol.np.shape, dtype=np.int16)"
   ]
  },
  {
   "cell_type": "code",
   "execution_count": 307,
   "metadata": {},
   "outputs": [
    {
     "data": {
      "text/plain": [
       "{ 'volume_dimension' : [ 96, 114, 96, 1 ], 'sizeX' : 96, 'sizeY' : 114, 'sizeZ' : 96, 'sizeT' : 1, 'referential' : '84b1989b-eb68-8665-0049-8feaf3c22679', 'disk_data_type' : 'S16', 'bits_allocated' : 16, 'data_type' : 'S16', 'scale_factor_applied' : 0, 'possible_data_types' : [ 'S16', 'FLOAT', 'DOUBLE' ], 'cal_min' : 0, 'cal_max' : 0, 'freq_dim' : 0, 'phase_dim' : 0, 'slice_dim' : 0, 'slice_code' : 0, 'slice_start' : 0, 'slice_end' : 0, 'slice_duration' : 0, 'storage_to_memory' : [ -1, 0, 0, 95, 0, -1, 0, 113, 0, 0, -1, 95, 0, 0, 0, 1 ], 'voxel_size' : [ 2, 2, 2, 1 ], 'tr' : 1, 'referentials' : [ 'Talairach-MNI template-SPM' ], 'transformations' : [ [ -1, 0, 0, 96, 0, -1, 0, 96, 0, 0, -1, 114, 0, 0, 0, 1 ] ], 'toffset' : 0, 'xyz_units' : 0, 'time_units' : 0, 'descrip' : '', 'aux_file' : '', 'nifti_type' : 1, 'object_type' : 'Volume', 'file_type' : 'NIFTI-1' }"
      ]
     },
     "execution_count": 307,
     "metadata": {},
     "output_type": "execute_result"
    }
   ],
   "source": [
    "spam_vol.header()"
   ]
  },
  {
   "cell_type": "code",
   "execution_count": 308,
   "metadata": {},
   "outputs": [
    {
     "data": {
      "text/plain": [
       "{ 'volume_dimension' : [ 96, 114, 96, 1 ], 'sizeX' : 96, 'sizeY' : 114, 'sizeZ' : 96, 'sizeT' : 1, 'referential' : '84b1989b-eb68-8665-0049-8feaf3c22679', 'disk_data_type' : 'S16', 'bits_allocated' : 16, 'data_type' : 'S16', 'scale_factor_applied' : 0, 'possible_data_types' : [ 'S16', 'FLOAT', 'DOUBLE' ], 'cal_min' : 0, 'cal_max' : 0, 'freq_dim' : 0, 'phase_dim' : 0, 'slice_dim' : 0, 'slice_code' : 0, 'slice_start' : 0, 'slice_end' : 0, 'slice_duration' : 0, 'storage_to_memory' : [ -1, 0, 0, 95, 0, -1, 0, 113, 0, 0, -1, 95, 0, 0, 0, 1 ], 'voxel_size' : [ 2, 2, 2, 1 ], 'tr' : 1, 'referentials' : [ 'Talairach-MNI template-SPM' ], 'transformations' : [ [ -1, 0, 0, 96, 0, -1, 0, 96, 0, 0, -1, 114, 0, 0, 0, 1 ] ], 'toffset' : 0, 'xyz_units' : 0, 'time_units' : 0, 'descrip' : '', 'aux_file' : '', 'nifti_type' : 1, 'object_type' : 'Volume', 'file_type' : 'NIFTI-1' }"
      ]
     },
     "execution_count": 308,
     "metadata": {},
     "output_type": "execute_result"
    }
   ],
   "source": [
    "skel_vol.header()"
   ]
  },
  {
   "cell_type": "code",
   "execution_count": 309,
   "metadata": {},
   "outputs": [
    {
     "data": {
      "text/plain": [
       "(96, 114, 96, 1)"
      ]
     },
     "execution_count": 309,
     "metadata": {},
     "output_type": "execute_result"
    }
   ],
   "source": [
    "spam_arr.shape"
   ]
  },
  {
   "cell_type": "code",
   "execution_count": 310,
   "metadata": {},
   "outputs": [],
   "source": [
    "# spam_arr[30, 30:70, 50] = 1\n",
    "spam_arr[30:70, 50:55, 30, 0] = 100.\n",
    "# spam_arr[30:70, 50:55, 60, 0] = 100.\n",
    "spam_arr = gaussian_filter(spam_arr, sigma=1)\n",
    "spam_vol.np[:] = spam_arr\n",
    "# skel_arr[32, 35:75, 52] = 1\n",
    "skel_arr[35:75, 52:57, 32, 0] = 1\n",
    "# skel_arr[35:75, 52:57, 62, 0] = 1\n",
    "skel_vol.np[:] = skel_arr\n"
   ]
  },
  {
   "cell_type": "code",
   "execution_count": 311,
   "metadata": {},
   "outputs": [
    {
     "data": {
      "text/plain": [
       "soma.aims.Volume_FLOAT"
      ]
     },
     "execution_count": 311,
     "metadata": {},
     "output_type": "execute_result"
    }
   ],
   "source": [
    "type(spam_vol)"
   ]
  },
  {
   "cell_type": "code",
   "execution_count": 312,
   "metadata": {},
   "outputs": [
    {
     "data": {
      "text/plain": [
       "{ 'volume_dimension' : [ 96, 114, 96, 1 ], 'sizeX' : 96, 'sizeY' : 114, 'sizeZ' : 96, 'sizeT' : 1, 'referential' : '84b1989b-eb68-8665-0049-8feaf3c22679', 'disk_data_type' : 'S16', 'bits_allocated' : 16, 'data_type' : 'S16', 'scale_factor_applied' : 0, 'possible_data_types' : [ 'S16', 'FLOAT', 'DOUBLE' ], 'cal_min' : 0, 'cal_max' : 0, 'freq_dim' : 0, 'phase_dim' : 0, 'slice_dim' : 0, 'slice_code' : 0, 'slice_start' : 0, 'slice_end' : 0, 'slice_duration' : 0, 'storage_to_memory' : [ -1, 0, 0, 95, 0, -1, 0, 113, 0, 0, -1, 95, 0, 0, 0, 1 ], 'voxel_size' : [ 2, 2, 2, 1 ], 'tr' : 1, 'referentials' : [ 'Talairach-MNI template-SPM' ], 'transformations' : [ [ -1, 0, 0, 96, 0, -1, 0, 96, 0, 0, -1, 114, 0, 0, 0, 1 ] ], 'toffset' : 0, 'xyz_units' : 0, 'time_units' : 0, 'descrip' : '', 'aux_file' : '', 'nifti_type' : 1, 'object_type' : 'Volume', 'file_type' : 'NIFTI-1' }"
      ]
     },
     "execution_count": 312,
     "metadata": {},
     "output_type": "execute_result"
    }
   ],
   "source": [
    "spam_vol.header()\n"
   ]
  },
  {
   "cell_type": "code",
   "execution_count": 313,
   "metadata": {},
   "outputs": [
    {
     "data": {
      "text/plain": [
       "39.530056"
      ]
     },
     "execution_count": 313,
     "metadata": {},
     "output_type": "execute_result"
    }
   ],
   "source": [
    "np.max(spam_arr)"
   ]
  },
  {
   "cell_type": "code",
   "execution_count": 314,
   "metadata": {},
   "outputs": [
    {
     "name": "stdout",
     "output_type": "stream",
     "text": [
      "(array([0.00000000e+00, 2.39699149e-10, 7.93774557e-09, 8.17744539e-09,\n",
      "       9.67015410e-08, 1.04878993e-07, 2.70799802e-07, 2.78977240e-07,\n",
      "       4.33386248e-07, 5.38265226e-07, 5.38265283e-07, 7.14533144e-07,\n",
      "       1.25279837e-06, 1.68594488e-06, 1.68618465e-06, 1.77470872e-06,\n",
      "       1.78288633e-06, 1.79082394e-06, 1.79106360e-06, 3.29901695e-06,\n",
      "       3.47311516e-06, 3.57799399e-06, 3.57799422e-06, 9.23845801e-06,\n",
      "       1.47851679e-05, 1.78248956e-05, 1.78248974e-05, 1.83631601e-05,\n",
      "       1.83631637e-05, 2.43766208e-05, 4.14869864e-05, 4.23112033e-05,\n",
      "       4.27397827e-05, 4.58891991e-05, 5.58308275e-05, 5.58387655e-05,\n",
      "       5.75167724e-05, 5.75249505e-05, 5.87702816e-05, 5.90410855e-05,\n",
      "       5.93039440e-05, 5.93118821e-05, 6.05449895e-05, 6.08239679e-05,\n",
      "       6.10947682e-05, 6.11029463e-05, 1.12547452e-04, 1.18486889e-04,\n",
      "       1.18486896e-04, 1.89625658e-04, 2.17151683e-04, 2.17151712e-04,\n",
      "       2.35514861e-04, 3.12639866e-04, 5.04402677e-04, 5.05414966e-04,\n",
      "       5.48154698e-04, 6.08104398e-04, 6.08104456e-04, 6.80158730e-04,\n",
      "       6.80255413e-04, 7.15968607e-04, 7.19267642e-04, 7.22469937e-04,\n",
      "       7.22566620e-04, 7.37675524e-04, 7.37780356e-04, 7.76513538e-04,\n",
      "       7.80091621e-04, 7.83564697e-04, 7.83669588e-04, 8.31619487e-04,\n",
      "       9.73206304e-04, 9.73206421e-04, 1.20872131e-03, 1.41534721e-03,\n",
      "       1.44346582e-03, 1.44346594e-03, 1.51964149e-03, 1.60454598e-03,\n",
      "       1.60454609e-03, 1.90469390e-03, 1.90496468e-03, 2.00497475e-03,\n",
      "       2.01421324e-03, 2.02318095e-03, 2.02345173e-03, 2.26511271e-03,\n",
      "       2.81326729e-03, 3.04826000e-03, 3.04869330e-03, 3.20874853e-03,\n",
      "       3.22353397e-03, 3.23788566e-03, 3.23831895e-03, 3.73453950e-03,\n",
      "       3.78593523e-03, 3.78647354e-03, 3.98526201e-03, 4.00362536e-03,\n",
      "       4.02145041e-03, 4.02198825e-03, 5.02573093e-03, 5.02644526e-03,\n",
      "       5.29033178e-03, 5.31470915e-03, 5.33837080e-03, 5.33908559e-03,\n",
      "       6.46916497e-03, 6.46916544e-03, 6.54780678e-03, 7.40822777e-03,\n",
      "       7.40822870e-03, 7.79918069e-03, 8.81166570e-03, 8.81291926e-03,\n",
      "       9.27559379e-03, 9.31833405e-03, 9.35982075e-03, 9.36107431e-03,\n",
      "       1.06658498e-02, 1.06658507e-02, 1.18599264e-02, 1.24843437e-02,\n",
      "       1.25400852e-02, 1.25959162e-02, 1.25976019e-02, 1.32003129e-02,\n",
      "       1.32590821e-02, 1.32608563e-02, 1.72424596e-02, 1.81523897e-02,\n",
      "       1.85130239e-02, 2.32039224e-02, 2.32072212e-02, 2.44255923e-02,\n",
      "       2.44284570e-02, 2.44319290e-02, 2.45381389e-02, 2.46473886e-02,\n",
      "       2.46506874e-02, 2.57145967e-02, 2.58330870e-02, 2.59480998e-02,\n",
      "       2.59515718e-02, 3.32013741e-02, 3.32013778e-02, 4.00273502e-02,\n",
      "       5.47398105e-02, 5.47398180e-02, 7.72753432e-02, 8.29696134e-02,\n",
      "       9.31626186e-02, 9.50134769e-02, 1.03992768e-01, 1.04007550e-01,\n",
      "       1.09467909e-01, 1.09972313e-01, 1.10461935e-01, 1.10476717e-01,\n",
      "       1.25372961e-01, 1.25390783e-01, 1.27405494e-01, 1.31973758e-01,\n",
      "       1.32581860e-01, 1.33172140e-01, 1.33189961e-01, 1.36793777e-01,\n",
      "       1.71455085e-01, 1.71479464e-01, 1.80482075e-01, 1.81313694e-01,\n",
      "       1.82120934e-01, 1.82145312e-01, 2.16833577e-01, 2.21141383e-01,\n",
      "       2.91802317e-01, 2.91843802e-01, 2.97599524e-01, 2.97641844e-01,\n",
      "       3.07165474e-01, 3.08580846e-01, 3.09954703e-01, 3.09996188e-01,\n",
      "       3.13267916e-01, 3.14711422e-01, 3.16112578e-01, 3.16154867e-01,\n",
      "       3.92746836e-01, 4.13424671e-01, 4.15270597e-01, 4.17119443e-01,\n",
      "       4.17175293e-01, 4.25820857e-01, 4.37134326e-01, 4.39080477e-01,\n",
      "       4.39139247e-01, 4.87632960e-01, 7.02059865e-01, 9.91086960e-01,\n",
      "       1.13495302e+00, 1.33374858e+00, 1.33393812e+00, 1.40396941e+00,\n",
      "       1.41043878e+00, 1.41671824e+00, 1.41690779e+00, 1.52735531e+00,\n",
      "       1.52757251e+00, 1.60776949e+00, 1.61517775e+00, 1.62236893e+00,\n",
      "       1.62258601e+00, 1.63402617e+00, 2.18541932e+00, 2.19897962e+00,\n",
      "       2.19929218e+00, 2.31475425e+00, 2.32542038e+00, 2.33577347e+00,\n",
      "       2.33608603e+00, 2.64157367e+00, 3.55487990e+00, 3.55538535e+00,\n",
      "       3.60314727e+00, 3.74204159e+00, 3.75928426e+00, 3.77602148e+00,\n",
      "       3.77652669e+00, 4.78463554e+00, 5.03654337e+00, 5.05903149e+00,\n",
      "       5.08155537e+00, 5.08223534e+00, 5.08650684e+00, 5.32538605e+00,\n",
      "       5.34909534e+00, 5.34981155e+00, 6.84513140e+00, 6.84610462e+00,\n",
      "       7.20552301e+00, 7.23872471e+00, 7.27095270e+00, 7.27192593e+00,\n",
      "       8.38623142e+00, 1.12857141e+01, 1.12873182e+01, 1.18387117e+01,\n",
      "       1.18798990e+01, 1.19346390e+01, 1.19877748e+01, 1.19893789e+01,\n",
      "       1.59318657e+01, 1.59341316e+01, 1.67706680e+01, 1.68479424e+01,\n",
      "       1.69229546e+01, 1.69252186e+01, 1.95187359e+01, 2.14432507e+01,\n",
      "       2.25722218e+01, 2.26730061e+01, 2.27739506e+01, 2.27769985e+01,\n",
      "       2.38667240e+01, 2.39729824e+01, 2.39761906e+01, 2.62672062e+01,\n",
      "       2.62709408e+01, 2.76501560e+01, 2.77775631e+01, 2.79012337e+01,\n",
      "       2.79049683e+01, 3.53539429e+01, 3.72153015e+01, 3.73814659e+01,\n",
      "       3.75478973e+01, 3.75529213e+01, 3.93495750e+01, 3.95247650e+01,\n",
      "       3.95300560e+01], dtype=float32), array([1045008,       8,       8,      16,       8,      16,      16,\n",
      "             8,       8,       8,       8,       4,      16,       8,\n",
      "             8,       4,       8,       8,     128,      16,      16,\n",
      "             8,       8,       8,      16,       8,       8,       8,\n",
      "             8,       8,      16,      16,      16,       8,       8,\n",
      "             8,       8,       8,       4,       8,       8,     128,\n",
      "             4,       8,       8,     128,       8,       8,       8,\n",
      "            16,       8,       8,      16,       8,       8,      16,\n",
      "            16,       8,       8,       8,       8,       4,       8,\n",
      "             8,     128,       8,       8,       4,       8,       8,\n",
      "           128,       4,       8,       8,       8,      16,       8,\n",
      "             8,       8,       4,       4,       8,       8,       4,\n",
      "             8,       8,     128,      16,      16,       8,       8,\n",
      "             4,       8,       8,     128,       8,       8,       8,\n",
      "             4,       8,       8,     128,       4,       4,       2,\n",
      "             4,       4,      64,       8,       8,       8,       8,\n",
      "             8,      16,       8,       8,       4,       8,       8,\n",
      "           128,       4,       4,       8,       4,       8,       8,\n",
      "           128,       4,       4,      64,      16,      16,       8,\n",
      "             8,       8,       4,       8,       8,       8,       8,\n",
      "           128,       4,       8,       8,     128,       8,       8,\n",
      "             8,       4,       4,      16,       8,      16,      16,\n",
      "             8,       8,       4,       8,       8,     128,       8,\n",
      "             8,       8,       4,       8,       8,     128,       4,\n",
      "             4,       4,       2,       4,       4,      64,       8,\n",
      "            16,       8,       8,       8,       8,       4,       8,\n",
      "             8,     128,       4,       8,       8,     128,       8,\n",
      "             4,       8,       8,     128,      16,       4,       4,\n",
      "            64,       8,       8,      16,      16,       8,       8,\n",
      "             4,       8,       8,     128,       8,       8,       4,\n",
      "             8,       8,     128,       8,       8,       4,       4,\n",
      "             2,       4,       4,      64,       8,       8,       8,\n",
      "             4,       4,       8,       8,     128,       8,       4,\n",
      "             8,       8,     128,      16,       4,       4,      64,\n",
      "             8,       8,       4,       8,       8,     128,       8,\n",
      "             4,       4,       8,       2,       4,       4,      64,\n",
      "             8,       8,       4,       8,       8,     128,       4,\n",
      "             8,       4,       8,       8,     128,       4,       4,\n",
      "            64,       4,       4,       2,       4,       4,      64,\n",
      "             4,       2,       4,       4,      64,       2,       2,\n",
      "            32]))\n",
      "(array([0, 1], dtype=int16), array([1050424,     200]))\n"
     ]
    }
   ],
   "source": [
    "print(np.unique(spam_vol, return_counts=True))\n",
    "print(np.unique(skel_vol, return_counts=True))"
   ]
  },
  {
   "cell_type": "code",
   "execution_count": 315,
   "metadata": {},
   "outputs": [
    {
     "name": "stderr",
     "output_type": "stream",
     "text": [
      "/usr/lib/python3/dist-packages/scipy/__init__.py:146: UserWarning: A NumPy version >=1.17.3 and <1.25.0 is required for this version of SciPy (detected version 1.26.4\n",
      "  warnings.warn(f\"A NumPy version >={np_minversion} and <{np_maxversion}\"\n"
     ]
    },
    {
     "name": "stdout",
     "output_type": "stream",
     "text": [
      "loading direct transformations\n",
      "Output dimensions: 96, 114, 96\n",
      "Output voxel size: 2, 2, 2 mm\n",
      "Resampling carto_volume of S16...   0   1   2   3   4   5   6   7   8   9  10  11  12  13  14  15  16  17  18  19  20  21  22  23  24  25  26  27  28  29  30  31  32  33  34  35  36  37  38  39  40  41  42  43  44  45  46  47  48  49  50  51  52  53  54  55  56  57  58  59  60  61  62  63  64  65  66  67  68  69  70  71  72  73  74  75  76  77  78  79  80  81  82  83  84  85  86  87  88  89  90  91  92  93  94  95  96  97  98  99 100 %\n"
     ]
    },
    {
     "name": "stderr",
     "output_type": "stream",
     "text": [
      "somanifti warning: the data of the saved Nifti file will be loaded in a different in-memory order when opened by somanifti.\n"
     ]
    }
   ],
   "source": [
    "after_vol = realign_spam_register(spam_vol, skel_vol)\n",
    "# after_vol = realign_mi_register(spam_vol, skel_vol)"
   ]
  },
  {
   "cell_type": "code",
   "execution_count": 316,
   "metadata": {},
   "outputs": [
    {
     "data": {
      "text/plain": [
       "array([0, 1], dtype=int16)"
      ]
     },
     "execution_count": 316,
     "metadata": {},
     "output_type": "execute_result"
    }
   ],
   "source": [
    "np.unique(after_vol.np)"
   ]
  },
  {
   "cell_type": "code",
   "execution_count": 317,
   "metadata": {},
   "outputs": [
    {
     "name": "stderr",
     "output_type": "stream",
     "text": [
      "observable 0x57a332a99990(N9anatomist7AVolumeIsEE) could not be removed from observer 0x57a32e7138b8 (N9anatomist8Fusion2DE)\n",
      "observable 0x57a330b106c0(N9anatomist7AVolumeIsEE) could not be removed from observer 0x57a32c041c98 (N9anatomist8Fusion2DE)\n"
     ]
    }
   ],
   "source": [
    "skel_a = a.toAObject(skel_vol)\n",
    "spam_a = a.toAObject(spam_vol)\n",
    "after_a = a.toAObject(after_vol)\n",
    "skel_a.setPalette(\"BLUE-lfusion\")\n",
    "after_a.setPalette(\"Reds\")\n",
    "w = a.createWindow('Coronal')\n",
    "w.addObjects(spam_a)\n",
    "w.addObjects(skel_a)\n",
    "w.addObjects(after_a)"
   ]
  },
  {
   "cell_type": "markdown",
   "metadata": {},
   "source": [
    "# Use of functions using S.C.-sylv._left"
   ]
  },
  {
   "cell_type": "code",
   "execution_count": 318,
   "metadata": {},
   "outputs": [],
   "source": [
    "# spam_file = '/neurospin/dico/data/deep_folding/current/mask/2mm/regions/L/S.C.-sylv._left.nii.gz'\n",
    "# skel_f = '/neurospin/dico/data/deep_folding/current/datasets/pclean/binarized_skeletons/L/Lbinarized_skeleton_ammon.nii.gz' \n",
    "\n",
    "# # Reads spam and skeleton files\n",
    "# spam_vol = aims.read(spam_file, dtype=\"Volume_FLOAT\")\n",
    "# skel_vol = aims.read(skel_f)"
   ]
  },
  {
   "cell_type": "code",
   "execution_count": 319,
   "metadata": {},
   "outputs": [],
   "source": [
    "# after_vol, skel_vol_masked = realign_mi_register(spam_vol, skel_vol)"
   ]
  },
  {
   "cell_type": "code",
   "execution_count": 320,
   "metadata": {},
   "outputs": [],
   "source": [
    "# skel_a = a.toAObject(skel_vol_masked)\n",
    "# spam_a = a.toAObject(spam_vol)\n",
    "# after_a = a.toAObject(after_vol)\n",
    "# skel_a.setPalette(\"BLUE-lfusion\")\n",
    "# after_a.setPalette(\"Reds\")\n",
    "# w = a.createWindow('Coronal')\n",
    "# w.addObjects(spam_a)\n",
    "# w.addObjects(skel_a)\n",
    "# w.addObjects(after_a)"
   ]
  },
  {
   "cell_type": "code",
   "execution_count": null,
   "metadata": {},
   "outputs": [],
   "source": []
  },
  {
   "cell_type": "code",
   "execution_count": null,
   "metadata": {},
   "outputs": [],
   "source": []
  }
 ],
 "metadata": {
  "kernelspec": {
   "display_name": "venv",
   "language": "python",
   "name": "python3"
  },
  "language_info": {
   "codemirror_mode": {
    "name": "ipython",
    "version": 3
   },
   "file_extension": ".py",
   "mimetype": "text/x-python",
   "name": "python",
   "nbconvert_exporter": "python",
   "pygments_lexer": "ipython3",
   "version": "3.10.12"
  }
 },
 "nbformat": 4,
 "nbformat_minor": 2
}
