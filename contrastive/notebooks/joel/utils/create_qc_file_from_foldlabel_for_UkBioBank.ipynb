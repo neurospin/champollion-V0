{
 "cells": [
  {
   "cell_type": "code",
   "execution_count": 11,
   "metadata": {},
   "outputs": [],
   "source": [
    "import glob\n",
    "import os\n",
    "import pandas as pd\n",
    "\n",
    "from soma import aims"
   ]
  },
  {
   "cell_type": "code",
   "execution_count": 12,
   "metadata": {},
   "outputs": [],
   "source": [
    "path = \"/neurospin/dico/data/deep_folding/current/datasets/UkBioBank40/foldlabels/2mm/R\"\n",
    "prefix = \"Rresampled_foldlabel_\"\n",
    "qc_file_in = \"/neurospin/dico/data/deep_folding/current/datasets/UkBioBank40/qc.tsv\"\n",
    "qc_file_out = \"/neurospin/dico/data/deep_folding/current/datasets/UkBioBank40/qc_post.tsv\""
   ]
  },
  {
   "cell_type": "code",
   "execution_count": 13,
   "metadata": {},
   "outputs": [
    {
     "data": {
      "text/html": [
       "<div>\n",
       "<style scoped>\n",
       "    .dataframe tbody tr th:only-of-type {\n",
       "        vertical-align: middle;\n",
       "    }\n",
       "\n",
       "    .dataframe tbody tr th {\n",
       "        vertical-align: top;\n",
       "    }\n",
       "\n",
       "    .dataframe thead th {\n",
       "        text-align: right;\n",
       "    }\n",
       "</style>\n",
       "<table border=\"1\" class=\"dataframe\">\n",
       "  <thead>\n",
       "    <tr style=\"text-align: right;\">\n",
       "      <th></th>\n",
       "      <th>qc</th>\n",
       "      <th>comments</th>\n",
       "    </tr>\n",
       "    <tr>\n",
       "      <th>participant_id</th>\n",
       "      <th></th>\n",
       "      <th></th>\n",
       "    </tr>\n",
       "  </thead>\n",
       "  <tbody>\n",
       "    <tr>\n",
       "      <th>bvdb</th>\n",
       "      <td>0</td>\n",
       "      <td>Right graph does not exist</td>\n",
       "    </tr>\n",
       "    <tr>\n",
       "      <th>sub-1000021</th>\n",
       "      <td>1</td>\n",
       "      <td>NaN</td>\n",
       "    </tr>\n",
       "    <tr>\n",
       "      <th>sub-1000325</th>\n",
       "      <td>1</td>\n",
       "      <td>NaN</td>\n",
       "    </tr>\n",
       "    <tr>\n",
       "      <th>sub-1000458</th>\n",
       "      <td>1</td>\n",
       "      <td>NaN</td>\n",
       "    </tr>\n",
       "    <tr>\n",
       "      <th>sub-1000575</th>\n",
       "      <td>1</td>\n",
       "      <td>NaN</td>\n",
       "    </tr>\n",
       "  </tbody>\n",
       "</table>\n",
       "</div>"
      ],
      "text/plain": [
       "                qc                    comments\n",
       "participant_id                                \n",
       "bvdb             0  Right graph does not exist\n",
       "sub-1000021      1                         NaN\n",
       "sub-1000325      1                         NaN\n",
       "sub-1000458      1                         NaN\n",
       "sub-1000575      1                         NaN"
      ]
     },
     "execution_count": 13,
     "metadata": {},
     "output_type": "execute_result"
    }
   ],
   "source": [
    "qc = pd.read_csv(qc_file_in, index_col=0, sep='\\t')\n",
    "qc.head()"
   ]
  },
  {
   "cell_type": "code",
   "execution_count": 14,
   "metadata": {},
   "outputs": [],
   "source": [
    "list_files = glob.glob(f\"{path}/*.nii.gz\")"
   ]
  },
  {
   "cell_type": "code",
   "execution_count": 15,
   "metadata": {},
   "outputs": [
    {
     "name": "stdout",
     "output_type": "stream",
     "text": [
      "sub-2318649\n"
     ]
    }
   ],
   "source": [
    "for f in list_files[:1]:\n",
    "    print(os.path.basename(f).split(prefix)[-1].split('.nii.gz')[0])"
   ]
  },
  {
   "cell_type": "code",
   "execution_count": 16,
   "metadata": {},
   "outputs": [
    {
     "name": "stdout",
     "output_type": "stream",
     "text": [
      "...............\n",
      "sub-4095309 : Invalid right foldlabel resampled file format\n",
      ".......\n",
      "sub-4092750 : Invalid right foldlabel resampled file format\n",
      "............\n",
      "sub-4092684 : Invalid right foldlabel resampled file format\n",
      ".............................\n",
      "sub-4096241 : Invalid right foldlabel resampled file format\n",
      ".......\n",
      "sub-4094202 : Invalid right foldlabel resampled file format\n",
      ".......\n",
      "sub-4091863 : Invalid right foldlabel resampled file format\n",
      "...........\n",
      "sub-4093573 : Invalid right foldlabel resampled file format\n",
      "..........\n",
      "sub-4093341 : Invalid right foldlabel resampled file format\n",
      "...............................\n",
      "sub-4093801 : Invalid right foldlabel resampled file format\n",
      "..\n",
      "sub-4094712 : Invalid right foldlabel resampled file format\n",
      ".......\n",
      "sub-4092868 : Invalid right foldlabel resampled file format\n",
      "...\n",
      "sub-4093402 : Invalid right foldlabel resampled file format\n",
      "................................\n",
      "sub-4096311 : Invalid right foldlabel resampled file format\n",
      "......\n",
      "sub-4093312 : Invalid right foldlabel resampled file format\n",
      "...................................................\n",
      "sub-4094345 : Invalid right foldlabel resampled file format\n",
      ".....................\n",
      "sub-4092812 : Invalid right foldlabel resampled file format\n",
      ".............................\n",
      "sub-4093306 : Invalid right foldlabel resampled file format\n",
      ".......\n",
      "sub-4094397 : Invalid right foldlabel resampled file format\n",
      "...................\n",
      "sub-4093781 : Invalid right foldlabel resampled file format\n",
      ".................\n",
      "sub-4095122 : Invalid right foldlabel resampled file format\n",
      "........................................\n",
      "sub-4092043 : Invalid right foldlabel resampled file format\n",
      "..\n",
      "sub-4093289 : Invalid right foldlabel resampled file format\n",
      ".....................\n",
      "sub-4095987 : Invalid right foldlabel resampled file format\n",
      "...........\n",
      "sub-4094682 : Invalid right foldlabel resampled file format\n",
      ".........\n",
      "sub-4094073 : Invalid right foldlabel resampled file format\n",
      ".......\n",
      "sub-4093933 : Invalid right foldlabel resampled file format\n",
      "......."
     ]
    }
   ],
   "source": [
    "finder = aims.Finder()\n",
    "count = 0\n",
    "for f in list_files:\n",
    "    sub = os.path.basename(f).split(prefix)[-1].split('.nii.gz')[0]\n",
    "    if sub not in qc.index:\n",
    "        raise ValueError(f\"{sub} not in qc index\")\n",
    "    isFound = finder.check(f)\n",
    "    if not isFound:\n",
    "        qc.loc[sub, \"qc\"] = 0\n",
    "        qc.loc[sub, \"comments\"] = \"Invalid right foldlabel resampled file format\"\n",
    "        print(f\"\\n{sub} : Invalid right foldlabel resampled file format\")\n",
    "\n",
    "    if count >= 100:\n",
    "        print('.', end='')\n",
    "        count = 0\n",
    "    else:\n",
    "        count = count + 1\n"
   ]
  },
  {
   "cell_type": "code",
   "execution_count": 17,
   "metadata": {},
   "outputs": [
    {
     "data": {
      "text/plain": [
       "42433"
      ]
     },
     "execution_count": 17,
     "metadata": {},
     "output_type": "execute_result"
    }
   ],
   "source": [
    "qc[\"qc\"].sum()"
   ]
  },
  {
   "cell_type": "code",
   "execution_count": 18,
   "metadata": {},
   "outputs": [
    {
     "data": {
      "text/plain": [
       "42767"
      ]
     },
     "execution_count": 18,
     "metadata": {},
     "output_type": "execute_result"
    }
   ],
   "source": [
    "len(qc)"
   ]
  },
  {
   "cell_type": "code",
   "execution_count": 19,
   "metadata": {},
   "outputs": [],
   "source": [
    "qc.to_csv(qc_file_out, sep='\\t')"
   ]
  },
  {
   "cell_type": "code",
   "execution_count": 20,
   "metadata": {},
   "outputs": [
    {
     "data": {
      "text/html": [
       "<div>\n",
       "<style scoped>\n",
       "    .dataframe tbody tr th:only-of-type {\n",
       "        vertical-align: middle;\n",
       "    }\n",
       "\n",
       "    .dataframe tbody tr th {\n",
       "        vertical-align: top;\n",
       "    }\n",
       "\n",
       "    .dataframe thead th {\n",
       "        text-align: right;\n",
       "    }\n",
       "</style>\n",
       "<table border=\"1\" class=\"dataframe\">\n",
       "  <thead>\n",
       "    <tr style=\"text-align: right;\">\n",
       "      <th></th>\n",
       "      <th>qc</th>\n",
       "      <th>comments</th>\n",
       "    </tr>\n",
       "    <tr>\n",
       "      <th>participant_id</th>\n",
       "      <th></th>\n",
       "      <th></th>\n",
       "    </tr>\n",
       "  </thead>\n",
       "  <tbody>\n",
       "    <tr>\n",
       "      <th>bvdb</th>\n",
       "      <td>0</td>\n",
       "      <td>Right graph does not exist</td>\n",
       "    </tr>\n",
       "    <tr>\n",
       "      <th>sub-1000021</th>\n",
       "      <td>1</td>\n",
       "      <td>NaN</td>\n",
       "    </tr>\n",
       "    <tr>\n",
       "      <th>sub-1000325</th>\n",
       "      <td>1</td>\n",
       "      <td>NaN</td>\n",
       "    </tr>\n",
       "    <tr>\n",
       "      <th>sub-1000458</th>\n",
       "      <td>1</td>\n",
       "      <td>NaN</td>\n",
       "    </tr>\n",
       "    <tr>\n",
       "      <th>sub-1000575</th>\n",
       "      <td>1</td>\n",
       "      <td>NaN</td>\n",
       "    </tr>\n",
       "    <tr>\n",
       "      <th>...</th>\n",
       "      <td>...</td>\n",
       "      <td>...</td>\n",
       "    </tr>\n",
       "    <tr>\n",
       "      <th>sub-6023847</th>\n",
       "      <td>1</td>\n",
       "      <td>NaN</td>\n",
       "    </tr>\n",
       "    <tr>\n",
       "      <th>sub-6024038</th>\n",
       "      <td>1</td>\n",
       "      <td>NaN</td>\n",
       "    </tr>\n",
       "    <tr>\n",
       "      <th>sub-6024150</th>\n",
       "      <td>1</td>\n",
       "      <td>NaN</td>\n",
       "    </tr>\n",
       "    <tr>\n",
       "      <th>sub-6024379</th>\n",
       "      <td>1</td>\n",
       "      <td>NaN</td>\n",
       "    </tr>\n",
       "    <tr>\n",
       "      <th>sub-6024754</th>\n",
       "      <td>1</td>\n",
       "      <td>NaN</td>\n",
       "    </tr>\n",
       "  </tbody>\n",
       "</table>\n",
       "<p>42767 rows × 2 columns</p>\n",
       "</div>"
      ],
      "text/plain": [
       "                qc                    comments\n",
       "participant_id                                \n",
       "bvdb             0  Right graph does not exist\n",
       "sub-1000021      1                         NaN\n",
       "sub-1000325      1                         NaN\n",
       "sub-1000458      1                         NaN\n",
       "sub-1000575      1                         NaN\n",
       "...             ..                         ...\n",
       "sub-6023847      1                         NaN\n",
       "sub-6024038      1                         NaN\n",
       "sub-6024150      1                         NaN\n",
       "sub-6024379      1                         NaN\n",
       "sub-6024754      1                         NaN\n",
       "\n",
       "[42767 rows x 2 columns]"
      ]
     },
     "execution_count": 20,
     "metadata": {},
     "output_type": "execute_result"
    }
   ],
   "source": [
    "qc"
   ]
  },
  {
   "cell_type": "code",
   "execution_count": 22,
   "metadata": {},
   "outputs": [
    {
     "data": {
      "text/plain": [
       "array(['Right graph does not exist', nan, 'At least one void crop',\n",
       "       'Invalid left foldlabel resampled file format', 'missing R graph',\n",
       "       'Too many simple surfaces in foldlabel',\n",
       "       'too many voxels (more than 1.2 x 90th quantile)',\n",
       "       'problem in foldlabel generation',\n",
       "       'Problem in foldlabel generation', 'Zero voxels in R foldlabel',\n",
       "       'Invalid right foldlabel resampled file format',\n",
       "       'Artifact inducing wrong MNI phasing'], dtype=object)"
      ]
     },
     "execution_count": 22,
     "metadata": {},
     "output_type": "execute_result"
    }
   ],
   "source": [
    "qc.comments.unique()"
   ]
  },
  {
   "cell_type": "code",
   "execution_count": null,
   "metadata": {},
   "outputs": [],
   "source": []
  }
 ],
 "metadata": {
  "kernelspec": {
   "display_name": "venv_natif",
   "language": "python",
   "name": "python3"
  },
  "language_info": {
   "codemirror_mode": {
    "name": "ipython",
    "version": 3
   },
   "file_extension": ".py",
   "mimetype": "text/x-python",
   "name": "python",
   "nbconvert_exporter": "python",
   "pygments_lexer": "ipython3",
   "version": "3.10.12"
  }
 },
 "nbformat": 4,
 "nbformat_minor": 2
}
