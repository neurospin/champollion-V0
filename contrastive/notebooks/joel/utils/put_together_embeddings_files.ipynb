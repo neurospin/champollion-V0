{
 "cells": [
  {
   "cell_type": "markdown",
   "metadata": {},
   "source": [
    "Le but est de rassembler les fichiers full_embeddings dnas les répertoires/sous-répertoires et de les rassmebler dans le répertoire de sortie."
   ]
  },
  {
   "cell_type": "code",
   "execution_count": 6,
   "metadata": {},
   "outputs": [],
   "source": [
    "import os\n",
    "import shutil\n",
    "import logging\n",
    "import tarfile\n",
    "import pandas as pd"
   ]
  },
  {
   "cell_type": "code",
   "execution_count": 7,
   "metadata": {},
   "outputs": [],
   "source": [
    "path_champollion = \"/neurospin/dico/data/deep_folding/current/models/Champollion_V0\"\n",
    "embeddings_subpath = \"ukb40_random_embeddings/full_embeddings.csv\"\n",
    "output_path = \"/neurospin/dico/data/deep_folding/current/models/Champollion_V0/embeddings/ukb40_embeddings\""
   ]
  },
  {
   "cell_type": "code",
   "execution_count": 8,
   "metadata": {},
   "outputs": [],
   "source": [
    "def is_it_a_file(sub_dir):\n",
    "    if os.path.isdir(sub_dir):\n",
    "        return False\n",
    "    else:\n",
    "        logging.debug(f\"{sub_dir} is a file. Continue.\")\n",
    "        return True\n",
    "    \n",
    "\n",
    "def is_folder_a_model(sub_dir):\n",
    "    if os.path.exists(sub_dir+'/.hydra/config.yaml'):\n",
    "        return True\n",
    "    else:\n",
    "        logging.debug(f\"\\n{sub_dir} not associated to a model. Continue\")\n",
    "        return False\n",
    "\n",
    "def get_model_paths(dir_path, result = None):\n",
    "    \"\"\"Recursively gets all models included in dir_path\"\"\"\n",
    "    if result is None:  # create a new result if no intermediate was given\n",
    "        result = [] \n",
    "    for name in os.listdir(dir_path):\n",
    "        sub_dir = dir_path + '/' + name\n",
    "        # checks if directory\n",
    "        if is_it_a_file(sub_dir):\n",
    "            pass\n",
    "        elif not is_folder_a_model(sub_dir):\n",
    "            result.extend(get_model_paths(sub_dir))\n",
    "        else:\n",
    "            result.append(sub_dir)\n",
    "    return result"
   ]
  },
  {
   "cell_type": "code",
   "execution_count": 9,
   "metadata": {},
   "outputs": [],
   "source": [
    "model_paths = get_model_paths(path_champollion)"
   ]
  },
  {
   "cell_type": "code",
   "execution_count": 12,
   "metadata": {},
   "outputs": [],
   "source": [
    "if not os.path.exists(output_path):\n",
    "    os.mkdir(output_path)"
   ]
  },
  {
   "cell_type": "code",
   "execution_count": 13,
   "metadata": {},
   "outputs": [],
   "source": [
    "for model_path in model_paths:\n",
    "    file_input_name = f\"{model_path}/{embeddings_subpath}\"\n",
    "    region = model_path.split('Champollion_V0/')[1].split('/')[0]\n",
    "    model = model_path.split(region+'/')[1].replace(\"/\", \"--\").replace(\"_\", \"--\")\n",
    "    file_output_name = f\"{output_path}/{region}_{model}_embeddings.csv\"\n",
    "    shutil.copyfile(file_input_name, file_output_name)"
   ]
  },
  {
   "cell_type": "code",
   "execution_count": 15,
   "metadata": {},
   "outputs": [],
   "source": [
    "f = tarfile.open(\"/neurospin/dico/data/deep_folding/current/models/Champollion_V0/embeddings/ukb40_embeddings.tar\", 'r')\n",
    "f.extractall(\"/neurospin/dico/data/deep_folding/current/models/Champollion_V0/embeddings/tmp\")"
   ]
  },
  {
   "cell_type": "code",
   "execution_count": null,
   "metadata": {},
   "outputs": [
    {
     "data": {
      "text/plain": [
       "<tarfile.TarFile at 0x7111dc1cd0c0>"
      ]
     },
     "execution_count": 21,
     "metadata": {},
     "output_type": "execute_result"
    }
   ],
   "source": [
    "f"
   ]
  },
  {
   "cell_type": "code",
   "execution_count": null,
   "metadata": {},
   "outputs": [],
   "source": []
  }
 ],
 "metadata": {
  "kernelspec": {
   "display_name": "venv_natif",
   "language": "python",
   "name": "python3"
  },
  "language_info": {
   "codemirror_mode": {
    "name": "ipython",
    "version": 3
   },
   "file_extension": ".py",
   "mimetype": "text/x-python",
   "name": "python",
   "nbconvert_exporter": "python",
   "pygments_lexer": "ipython3",
   "version": "3.10.12"
  }
 },
 "nbformat": 4,
 "nbformat_minor": 2
}
