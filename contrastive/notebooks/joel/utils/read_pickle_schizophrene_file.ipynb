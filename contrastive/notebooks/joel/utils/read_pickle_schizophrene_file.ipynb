{
 "cells": [
  {
   "cell_type": "code",
   "execution_count": 1,
   "metadata": {},
   "outputs": [],
   "source": [
    "import pandas as pd"
   ]
  },
  {
   "cell_type": "code",
   "execution_count": 2,
   "metadata": {},
   "outputs": [],
   "source": [
    "path = \"/neurospin/psy_sbox/analyses/201906_schizconnect-vip-prague-bsnip-biodb-icaar-start_assemble-all/data\"\n",
    "subpath_schiz = \"train_val_test_test-intra_bip_stratified.pkl\"\n",
    "schiz_file = f\"{path}/{subpath_schiz}\""
   ]
  },
  {
   "cell_type": "code",
   "execution_count": 3,
   "metadata": {},
   "outputs": [
    {
     "data": {
      "text/plain": [
       "{'train':     participant_id  session  study\n",
       " 0     972062114583      1.0  BIOBD\n",
       " 1     507444321409      1.0  BIOBD\n",
       " 2     683853218873      1.0  BIOBD\n",
       " 3     813311935665      1.0  BIOBD\n",
       " 4     227708197968      1.0  BIOBD\n",
       " ..             ...      ...    ...\n",
       " 827          HC013      1.0  CANDI\n",
       " 828          HC002      1.0  CANDI\n",
       " 829          HC001      1.0  CANDI\n",
       " 830          HC027      1.0  CANDI\n",
       " 831          HC010      1.0  CANDI\n",
       " \n",
       " [832 rows x 3 columns],\n",
       " 'validation':     participant_id  session  study\n",
       " 0     495004796124      1.0  BIOBD\n",
       " 1     556485353871      1.0  BIOBD\n",
       " 2     715302051346      1.0  BIOBD\n",
       " 3     110751979791      1.0  BIOBD\n",
       " 4     562076160135      1.0  BIOBD\n",
       " ..             ...      ...    ...\n",
       " 98           10570      1.0    CNP\n",
       " 99           10377      1.0    CNP\n",
       " 100          10290      1.0    CNP\n",
       " 101          10525      1.0    CNP\n",
       " 102          HC011      1.0  CANDI\n",
       " \n",
       " [103 rows x 3 columns],\n",
       " 'test_intra':     participant_id  session  study\n",
       " 0     510905297072      1.0  BIOBD\n",
       " 1     264680277578      1.0  BIOBD\n",
       " 2     935452301877      1.0  BIOBD\n",
       " 3     590553460422      1.0  BIOBD\n",
       " 4     520722852416      1.0  BIOBD\n",
       " ..             ...      ...    ...\n",
       " 102          HC017      1.0  CANDI\n",
       " 103          HC008      1.0  CANDI\n",
       " 104          HC016      1.0  CANDI\n",
       " 105          HC015      1.0  CANDI\n",
       " 106          HC023      1.0  CANDI\n",
       " \n",
       " [107 rows x 3 columns],\n",
       " 'test':     participant_id  session  study\n",
       " 0     345759614961      1.0  BIOBD\n",
       " 1     350471680471      1.0  BIOBD\n",
       " 2     975557055860      1.0  BIOBD\n",
       " 3     726037078085      1.0  BIOBD\n",
       " 4     233144107334      1.0  BIOBD\n",
       " ..             ...      ...    ...\n",
       " 126   109900783414      1.0  BIOBD\n",
       " 127   848873044557      1.0  BIOBD\n",
       " 128   802936931863      1.0  BIOBD\n",
       " 129   433698787035      1.0  BIOBD\n",
       " 130   738066844975      1.0  BIOBD\n",
       " \n",
       " [131 rows x 3 columns]}"
      ]
     },
     "execution_count": 3,
     "metadata": {},
     "output_type": "execute_result"
    }
   ],
   "source": [
    "schiz = pd.read_pickle(schiz_file)\n",
    "schiz"
   ]
  },
  {
   "cell_type": "code",
   "execution_count": 4,
   "metadata": {},
   "outputs": [
    {
     "data": {
      "text/plain": [
       "array(['BIOBD'], dtype=object)"
      ]
     },
     "execution_count": 4,
     "metadata": {},
     "output_type": "execute_result"
    }
   ],
   "source": [
    "schiz['test'].study.unique()"
   ]
  },
  {
   "cell_type": "code",
   "execution_count": 5,
   "metadata": {},
   "outputs": [
    {
     "data": {
      "text/plain": [
       "array(['BIOBD', 'BSNIP', 'CNP', 'CANDI'], dtype=object)"
      ]
     },
     "execution_count": 5,
     "metadata": {},
     "output_type": "execute_result"
    }
   ],
   "source": [
    "schiz['train'].study.unique()"
   ]
  },
  {
   "cell_type": "code",
   "execution_count": 7,
   "metadata": {},
   "outputs": [
    {
     "data": {
      "text/plain": [
       "dict_keys(['train', 'validation', 'test_intra', 'test'])"
      ]
     },
     "execution_count": 7,
     "metadata": {},
     "output_type": "execute_result"
    }
   ],
   "source": [
    "schiz.keys()"
   ]
  },
  {
   "cell_type": "code",
   "execution_count": 9,
   "metadata": {},
   "outputs": [
    {
     "name": "stdout",
     "output_type": "stream",
     "text": [
      "424\n",
      "54\n",
      "53\n",
      "131\n"
     ]
    }
   ],
   "source": [
    "for key in schiz:\n",
    "    s = schiz[key]\n",
    "    print(len(s[s.study==\"BIOBD\"]))"
   ]
  },
  {
   "cell_type": "code",
   "execution_count": 10,
   "metadata": {},
   "outputs": [
    {
     "data": {
      "text/plain": [
       "662"
      ]
     },
     "execution_count": 10,
     "metadata": {},
     "output_type": "execute_result"
    }
   ],
   "source": [
    "424+54+53+131"
   ]
  },
  {
   "cell_type": "code",
   "execution_count": null,
   "metadata": {},
   "outputs": [],
   "source": []
  }
 ],
 "metadata": {
  "kernelspec": {
   "display_name": "venv_natif",
   "language": "python",
   "name": "python3"
  },
  "language_info": {
   "codemirror_mode": {
    "name": "ipython",
    "version": 3
   },
   "file_extension": ".py",
   "mimetype": "text/x-python",
   "name": "python",
   "nbconvert_exporter": "python",
   "pygments_lexer": "ipython3",
   "version": "3.10.12"
  }
 },
 "nbformat": 4,
 "nbformat_minor": 2
}
