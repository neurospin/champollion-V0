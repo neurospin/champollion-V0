{
 "cells": [
  {
   "cell_type": "code",
   "execution_count": 1,
   "metadata": {},
   "outputs": [],
   "source": [
    "import glob\n",
    "import os\n",
    "import pandas as pd\n",
    "import numpy as np"
   ]
  },
  {
   "cell_type": "code",
   "execution_count": 2,
   "metadata": {},
   "outputs": [],
   "source": [
    "path = \"/neurospin/dico/data/human/cadasil/derivatives/morphologist-2023/subject\"\n",
    "subpath = \"t1mri/default_acquisition/default_analysis/folds/3.1\"\n",
    "qc_file = \"/neurospin/dico/data/deep_folding/current/datasets/cadasil/qc.tsv\""
   ]
  },
  {
   "cell_type": "code",
   "execution_count": 18,
   "metadata": {},
   "outputs": [],
   "source": [
    "list_folders = glob.glob(f\"{path}/*[!.minf]\")\n",
    "list_folders = [x for x in list_folders]\n",
    "list_subjects = [os.path.basename(f) for f in list_folders]"
   ]
  },
  {
   "cell_type": "code",
   "execution_count": 19,
   "metadata": {},
   "outputs": [
    {
     "data": {
      "text/plain": [
       "['rv_BIOMRI_CADA_001_024_ZT_S3_3DT1_mprage_1iso_ipat2',\n",
       " 'rv_BIOMRI_CADA_001_045_CF_S3_3DT1_mprage_1iso_ipat2',\n",
       " 'rv_BIOMRI_CADA_001_076_BS_1_S3_3DT1_mprage_1iso_ipat2',\n",
       " 'rv_BIOMRI_CADA_001_050_PB_S3_3DT1_mprage_1iso_ipat2',\n",
       " 'rv_BIOMRI_CADA_001_035_AM_S3_3DT1_mprage_1iso_ipat2',\n",
       " 'rv_BIOMRI_CADA_001_047_DB_S3_3DT1_mprage_1iso_ipat2',\n",
       " 'rv_BIOMRI_CADA_001_011_BK_S3_3DT1_mprage_1iso_ipat2',\n",
       " 'rv_BIOMRI_CADA_001_020_FJ_2_S3_3DT1_mprage_1iso_ipat2',\n",
       " 'rv_BIOMRI_CADA_001_036_JJ_2_S3_3DT1_mprage_1iso_ipat2',\n",
       " 'rv_BIOMRI_CADA_001_067_BM_S3_3DT1_mprage_1iso_ipat2',\n",
       " 'rv_BIOMRI_CADA_001_017_LE_S3_3DT1_mprage_1iso_ipat2',\n",
       " 'rv_BIOMRI_CADA_001_074_RL_2_S3_3DT1_mprage_1iso_ipat2',\n",
       " 'rv_BIOMRI_CADA_001_046_GM_S3_3DT1_mprage_1iso_ipat2',\n",
       " 'rv_BIOMRI_CADA_001_010_RG_S3_3DT1_mprage_1iso_ipat2',\n",
       " 'rv_BIOMRI_CADA_001_025_GF_S3_3DT1_mprage_1iso_ipat2',\n",
       " 'rv_BIOMRI_CADA_001_062_IX_S3_3DT1_mprage_1iso_ipat2',\n",
       " 'rv_BIOMRI_CADA_001_024_ZT_2_S3_3DT1_mprage_1iso_ipat2',\n",
       " 'rv_BIOMRI_CADA_001_060_NA_S3_3DT1_mprage_1iso_ipat2',\n",
       " 'rv_BIOMRI_CADA_001_042_VC_S3_3DT1_mprage_1iso_ipat2',\n",
       " 'rv_BIOMRI_CADA_001_012_TE_2_S5_3DT1_mprage_1iso_ipat2',\n",
       " 'rv_BIOMRI_CADA_001_014_LV_S3_3DT1_mprage_1iso_ipat2',\n",
       " 'rv_BIOMRI_CADA_001_049_EO_S3_3DT1_mprage_1iso_ipat2',\n",
       " 'rv_BIOMRI_CADA_001_070_PC_S3_3DT1_mprage_1iso_ipat2',\n",
       " 'rv_BIOMRI_CADA_001_056_VN_2_S3_3DT1_mprage_1iso_ipat2',\n",
       " 'rv_BIOMRI_CADA_001_051_EC_2_S3_3DT1_mprage_1iso_ipat2',\n",
       " 'rv_BIOMRI_CADA_001_068_PL_S3_3DT1_mprage_1iso_ipat2',\n",
       " 'rv_BIOMRI_CADA_001_071_BV_S3_3DT1_mprage_1iso_ipat2',\n",
       " 'rv_BIOMRI_CADA_001_054_GT_S3_3DT1_mprage_1iso_ipat2',\n",
       " 'rv_BIOMRI_CADA_001_074_RL_1_S3_3DT1_mprage_1iso_ipat2',\n",
       " 'rv_BIOMRI_CADA_001_019_JM_S3_3DT1_mprage_1iso_ipat2',\n",
       " 'rv_BIOMRI_CADA_001_048_DE_S3_3DT1_mprage_1iso_ipat2',\n",
       " 'rv_BIOMRI_CADA_001_072_LJ_S3_3DT1_mprage_1iso_ipat2',\n",
       " 'rv_BIOMRI_CADA_001_051_EC_S3_3DT1_mprage_1iso_ipat2',\n",
       " 'rv_BIOMRI_CADA_001_075_JA_1_S3_3DT1_mprage_1iso_ipat2',\n",
       " 'rv_BIOMRI_CADA_001_017_LE_2_S3_3DT1_mprage_1iso_ipat2',\n",
       " 'rv_BIOMRI_CADA_001_059_RJ_S3_3DT1_mprage_1iso_ipat2',\n",
       " 'rv_BIOMRI_CADA_001_020_FJ_S3_3DT1_mprage_1iso_ipat2',\n",
       " 'rv_BIOMRI_CADA_001_076_BS_2_S3_3DT1_mprage_1iso_ipat2',\n",
       " 'rv_BIOMRI_CADA_001_012_TE_S3_3DT1_mprage_1iso_ipat2',\n",
       " 'rv_BIOMRI_CADA_001_064_SR_S3_3DT1_mprage_1iso_ipat2',\n",
       " 'rv_BIOMRI_CADA_001_056_VN_S3_3DT1_mprage_1iso_ipat2',\n",
       " 'rv_BIOMRI_CADA_001_073_VA_S3_3DT1_mprage_1iso_ipat2',\n",
       " 'rv_BIOMRI_CADA_001_036_JJ_S3_3DT1_mprage_1iso_ipat2',\n",
       " 'rv_BIOMRI_CADA_001_075_JA_2_S3_3DT1_mprage_1iso_ipat2']"
      ]
     },
     "execution_count": 19,
     "metadata": {},
     "output_type": "execute_result"
    }
   ],
   "source": [
    "list_subjects"
   ]
  },
  {
   "cell_type": "code",
   "execution_count": 20,
   "metadata": {},
   "outputs": [
    {
     "data": {
      "text/plain": [
       "['rv_BIOMRI_CADA_001_024_ZT_S3_3DT1_mprage_1iso_ipat2',\n",
       " 'rv_BIOMRI_CADA_001_045_CF_S3_3DT1_mprage_1iso_ipat2',\n",
       " 'rv_BIOMRI_CADA_001_076_BS_1_S3_3DT1_mprage_1iso_ipat2',\n",
       " 'rv_BIOMRI_CADA_001_050_PB_S3_3DT1_mprage_1iso_ipat2',\n",
       " 'rv_BIOMRI_CADA_001_035_AM_S3_3DT1_mprage_1iso_ipat2',\n",
       " 'rv_BIOMRI_CADA_001_047_DB_S3_3DT1_mprage_1iso_ipat2',\n",
       " 'rv_BIOMRI_CADA_001_011_BK_S3_3DT1_mprage_1iso_ipat2',\n",
       " 'rv_BIOMRI_CADA_001_020_FJ_2_S3_3DT1_mprage_1iso_ipat2',\n",
       " 'rv_BIOMRI_CADA_001_036_JJ_2_S3_3DT1_mprage_1iso_ipat2',\n",
       " 'rv_BIOMRI_CADA_001_067_BM_S3_3DT1_mprage_1iso_ipat2',\n",
       " 'rv_BIOMRI_CADA_001_017_LE_S3_3DT1_mprage_1iso_ipat2',\n",
       " 'rv_BIOMRI_CADA_001_074_RL_2_S3_3DT1_mprage_1iso_ipat2',\n",
       " 'rv_BIOMRI_CADA_001_046_GM_S3_3DT1_mprage_1iso_ipat2',\n",
       " 'rv_BIOMRI_CADA_001_010_RG_S3_3DT1_mprage_1iso_ipat2',\n",
       " 'rv_BIOMRI_CADA_001_025_GF_S3_3DT1_mprage_1iso_ipat2',\n",
       " 'rv_BIOMRI_CADA_001_062_IX_S3_3DT1_mprage_1iso_ipat2',\n",
       " 'rv_BIOMRI_CADA_001_024_ZT_2_S3_3DT1_mprage_1iso_ipat2',\n",
       " 'rv_BIOMRI_CADA_001_060_NA_S3_3DT1_mprage_1iso_ipat2',\n",
       " 'rv_BIOMRI_CADA_001_042_VC_S3_3DT1_mprage_1iso_ipat2',\n",
       " 'rv_BIOMRI_CADA_001_012_TE_2_S5_3DT1_mprage_1iso_ipat2',\n",
       " 'rv_BIOMRI_CADA_001_014_LV_S3_3DT1_mprage_1iso_ipat2',\n",
       " 'rv_BIOMRI_CADA_001_049_EO_S3_3DT1_mprage_1iso_ipat2',\n",
       " 'rv_BIOMRI_CADA_001_070_PC_S3_3DT1_mprage_1iso_ipat2',\n",
       " 'rv_BIOMRI_CADA_001_056_VN_2_S3_3DT1_mprage_1iso_ipat2',\n",
       " 'rv_BIOMRI_CADA_001_051_EC_2_S3_3DT1_mprage_1iso_ipat2',\n",
       " 'rv_BIOMRI_CADA_001_068_PL_S3_3DT1_mprage_1iso_ipat2',\n",
       " 'rv_BIOMRI_CADA_001_071_BV_S3_3DT1_mprage_1iso_ipat2',\n",
       " 'rv_BIOMRI_CADA_001_054_GT_S3_3DT1_mprage_1iso_ipat2',\n",
       " 'rv_BIOMRI_CADA_001_074_RL_1_S3_3DT1_mprage_1iso_ipat2',\n",
       " 'rv_BIOMRI_CADA_001_019_JM_S3_3DT1_mprage_1iso_ipat2',\n",
       " 'rv_BIOMRI_CADA_001_048_DE_S3_3DT1_mprage_1iso_ipat2',\n",
       " 'rv_BIOMRI_CADA_001_072_LJ_S3_3DT1_mprage_1iso_ipat2',\n",
       " 'rv_BIOMRI_CADA_001_051_EC_S3_3DT1_mprage_1iso_ipat2',\n",
       " 'rv_BIOMRI_CADA_001_075_JA_1_S3_3DT1_mprage_1iso_ipat2',\n",
       " 'rv_BIOMRI_CADA_001_017_LE_2_S3_3DT1_mprage_1iso_ipat2',\n",
       " 'rv_BIOMRI_CADA_001_059_RJ_S3_3DT1_mprage_1iso_ipat2',\n",
       " 'rv_BIOMRI_CADA_001_020_FJ_S3_3DT1_mprage_1iso_ipat2',\n",
       " 'rv_BIOMRI_CADA_001_076_BS_2_S3_3DT1_mprage_1iso_ipat2',\n",
       " 'rv_BIOMRI_CADA_001_012_TE_S3_3DT1_mprage_1iso_ipat2',\n",
       " 'rv_BIOMRI_CADA_001_064_SR_S3_3DT1_mprage_1iso_ipat2',\n",
       " 'rv_BIOMRI_CADA_001_056_VN_S3_3DT1_mprage_1iso_ipat2',\n",
       " 'rv_BIOMRI_CADA_001_073_VA_S3_3DT1_mprage_1iso_ipat2',\n",
       " 'rv_BIOMRI_CADA_001_036_JJ_S3_3DT1_mprage_1iso_ipat2',\n",
       " 'rv_BIOMRI_CADA_001_075_JA_2_S3_3DT1_mprage_1iso_ipat2']"
      ]
     },
     "execution_count": 20,
     "metadata": {},
     "output_type": "execute_result"
    }
   ],
   "source": [
    "[x for x in list_subjects if not'sub' in x]"
   ]
  },
  {
   "cell_type": "code",
   "execution_count": 21,
   "metadata": {},
   "outputs": [],
   "source": [
    "qc = pd.DataFrame(list_subjects, columns=[\"participant_id\"]).set_index(\"participant_id\")"
   ]
  },
  {
   "cell_type": "code",
   "execution_count": 22,
   "metadata": {},
   "outputs": [],
   "source": [
    "qc[\"qc\"] = 1\n",
    "qc[\"comments\"] =  \"\""
   ]
  },
  {
   "cell_type": "code",
   "execution_count": 23,
   "metadata": {},
   "outputs": [
    {
     "data": {
      "text/html": [
       "<div>\n",
       "<style scoped>\n",
       "    .dataframe tbody tr th:only-of-type {\n",
       "        vertical-align: middle;\n",
       "    }\n",
       "\n",
       "    .dataframe tbody tr th {\n",
       "        vertical-align: top;\n",
       "    }\n",
       "\n",
       "    .dataframe thead th {\n",
       "        text-align: right;\n",
       "    }\n",
       "</style>\n",
       "<table border=\"1\" class=\"dataframe\">\n",
       "  <thead>\n",
       "    <tr style=\"text-align: right;\">\n",
       "      <th></th>\n",
       "      <th>qc</th>\n",
       "      <th>comments</th>\n",
       "    </tr>\n",
       "    <tr>\n",
       "      <th>participant_id</th>\n",
       "      <th></th>\n",
       "      <th></th>\n",
       "    </tr>\n",
       "  </thead>\n",
       "  <tbody>\n",
       "    <tr>\n",
       "      <th>rv_BIOMRI_CADA_001_024_ZT_S3_3DT1_mprage_1iso_ipat2</th>\n",
       "      <td>1</td>\n",
       "      <td></td>\n",
       "    </tr>\n",
       "    <tr>\n",
       "      <th>rv_BIOMRI_CADA_001_045_CF_S3_3DT1_mprage_1iso_ipat2</th>\n",
       "      <td>1</td>\n",
       "      <td></td>\n",
       "    </tr>\n",
       "    <tr>\n",
       "      <th>rv_BIOMRI_CADA_001_076_BS_1_S3_3DT1_mprage_1iso_ipat2</th>\n",
       "      <td>1</td>\n",
       "      <td></td>\n",
       "    </tr>\n",
       "    <tr>\n",
       "      <th>rv_BIOMRI_CADA_001_050_PB_S3_3DT1_mprage_1iso_ipat2</th>\n",
       "      <td>1</td>\n",
       "      <td></td>\n",
       "    </tr>\n",
       "    <tr>\n",
       "      <th>rv_BIOMRI_CADA_001_035_AM_S3_3DT1_mprage_1iso_ipat2</th>\n",
       "      <td>1</td>\n",
       "      <td></td>\n",
       "    </tr>\n",
       "  </tbody>\n",
       "</table>\n",
       "</div>"
      ],
      "text/plain": [
       "                                                    qc comments\n",
       "participant_id                                                 \n",
       "rv_BIOMRI_CADA_001_024_ZT_S3_3DT1_mprage_1iso_i...   1         \n",
       "rv_BIOMRI_CADA_001_045_CF_S3_3DT1_mprage_1iso_i...   1         \n",
       "rv_BIOMRI_CADA_001_076_BS_1_S3_3DT1_mprage_1iso...   1         \n",
       "rv_BIOMRI_CADA_001_050_PB_S3_3DT1_mprage_1iso_i...   1         \n",
       "rv_BIOMRI_CADA_001_035_AM_S3_3DT1_mprage_1iso_i...   1         "
      ]
     },
     "execution_count": 23,
     "metadata": {},
     "output_type": "execute_result"
    }
   ],
   "source": [
    "qc.head()"
   ]
  },
  {
   "cell_type": "code",
   "execution_count": 24,
   "metadata": {},
   "outputs": [
    {
     "name": "stdout",
     "output_type": "stream",
     "text": [
      "..................................\n",
      "Lrv_BIOMRI_CADA_001_017_LE_2_S3_3DT1_mprage_1iso_ipat2.arg does not exist\n",
      "\n",
      "Rrv_BIOMRI_CADA_001_017_LE_2_S3_3DT1_mprage_1iso_ipat2.arg does not exist\n",
      "........."
     ]
    }
   ],
   "source": [
    "qc[\"qc\"] = 1\n",
    "qc[\"comments\"] =  \"\"\n",
    "\n",
    "for f, s in zip(list_folders, list_subjects):\n",
    "    path_to_graph = f\"{f}/{subpath}\"\n",
    "\n",
    "    # Checks of left graph exists\n",
    "    graph_file = f\"{path_to_graph}/L{s}.arg\"\n",
    "    if not os.path.isfile(graph_file):\n",
    "        print(f\"\\nL{s}.arg does not exist\")\n",
    "        qc.loc[s, \"qc\"] = 0\n",
    "        qc.loc[s, \"comments\"] = \"Left graph does not exist\"\n",
    "\n",
    "    \n",
    "    graph_file = f\"{path_to_graph}/R{s}.arg\"\n",
    "    if not os.path.isfile(graph_file):\n",
    "        print(f\"\\nR{s}.arg does not exist\")\n",
    "        qc.loc[s, \"qc\"] = 0\n",
    "        qc.loc[s, \"comments\"] = \"Right graph does not exist\"\n",
    "\n",
    "    if qc.loc[s, \"qc\"] == 1:\n",
    "        print('.', end='')\n"
   ]
  },
  {
   "cell_type": "code",
   "execution_count": 25,
   "metadata": {},
   "outputs": [
    {
     "data": {
      "text/plain": [
       "'/neurospin/dico/data/human/cadasil/derivatives/morphologist-2023/subject/rv_BIOMRI_CADA_001_075_JA_2_S3_3DT1_mprage_1iso_ipat2/t1mri/default_acquisition/default_analysis/folds/3.1/Rrv_BIOMRI_CADA_001_075_JA_2_S3_3DT1_mprage_1iso_ipat2.arg'"
      ]
     },
     "execution_count": 25,
     "metadata": {},
     "output_type": "execute_result"
    }
   ],
   "source": [
    "graph_file"
   ]
  },
  {
   "cell_type": "code",
   "execution_count": 26,
   "metadata": {},
   "outputs": [
    {
     "data": {
      "text/plain": [
       "43"
      ]
     },
     "execution_count": 26,
     "metadata": {},
     "output_type": "execute_result"
    }
   ],
   "source": [
    "qc[\"qc\"].sum()"
   ]
  },
  {
   "cell_type": "code",
   "execution_count": 27,
   "metadata": {},
   "outputs": [
    {
     "data": {
      "text/plain": [
       "44"
      ]
     },
     "execution_count": 27,
     "metadata": {},
     "output_type": "execute_result"
    }
   ],
   "source": [
    "len(qc)"
   ]
  },
  {
   "cell_type": "code",
   "execution_count": 28,
   "metadata": {},
   "outputs": [
    {
     "data": {
      "text/plain": [
       "array(['Right graph does not exist'], dtype=object)"
      ]
     },
     "execution_count": 28,
     "metadata": {},
     "output_type": "execute_result"
    }
   ],
   "source": [
    "qc[qc.qc==0].comments.unique()"
   ]
  },
  {
   "cell_type": "code",
   "execution_count": 29,
   "metadata": {},
   "outputs": [],
   "source": [
    "qc = qc[[\"qc\", \"comments\"]]"
   ]
  },
  {
   "cell_type": "code",
   "execution_count": 30,
   "metadata": {},
   "outputs": [
    {
     "data": {
      "text/html": [
       "<div>\n",
       "<style scoped>\n",
       "    .dataframe tbody tr th:only-of-type {\n",
       "        vertical-align: middle;\n",
       "    }\n",
       "\n",
       "    .dataframe tbody tr th {\n",
       "        vertical-align: top;\n",
       "    }\n",
       "\n",
       "    .dataframe thead th {\n",
       "        text-align: right;\n",
       "    }\n",
       "</style>\n",
       "<table border=\"1\" class=\"dataframe\">\n",
       "  <thead>\n",
       "    <tr style=\"text-align: right;\">\n",
       "      <th></th>\n",
       "      <th>qc</th>\n",
       "      <th>comments</th>\n",
       "    </tr>\n",
       "    <tr>\n",
       "      <th>participant_id</th>\n",
       "      <th></th>\n",
       "      <th></th>\n",
       "    </tr>\n",
       "  </thead>\n",
       "  <tbody>\n",
       "    <tr>\n",
       "      <th>rv_BIOMRI_CADA_001_024_ZT_S3_3DT1_mprage_1iso_ipat2</th>\n",
       "      <td>1</td>\n",
       "      <td></td>\n",
       "    </tr>\n",
       "    <tr>\n",
       "      <th>rv_BIOMRI_CADA_001_045_CF_S3_3DT1_mprage_1iso_ipat2</th>\n",
       "      <td>1</td>\n",
       "      <td></td>\n",
       "    </tr>\n",
       "    <tr>\n",
       "      <th>rv_BIOMRI_CADA_001_076_BS_1_S3_3DT1_mprage_1iso_ipat2</th>\n",
       "      <td>1</td>\n",
       "      <td></td>\n",
       "    </tr>\n",
       "    <tr>\n",
       "      <th>rv_BIOMRI_CADA_001_050_PB_S3_3DT1_mprage_1iso_ipat2</th>\n",
       "      <td>1</td>\n",
       "      <td></td>\n",
       "    </tr>\n",
       "    <tr>\n",
       "      <th>rv_BIOMRI_CADA_001_035_AM_S3_3DT1_mprage_1iso_ipat2</th>\n",
       "      <td>1</td>\n",
       "      <td></td>\n",
       "    </tr>\n",
       "  </tbody>\n",
       "</table>\n",
       "</div>"
      ],
      "text/plain": [
       "                                                    qc comments\n",
       "participant_id                                                 \n",
       "rv_BIOMRI_CADA_001_024_ZT_S3_3DT1_mprage_1iso_i...   1         \n",
       "rv_BIOMRI_CADA_001_045_CF_S3_3DT1_mprage_1iso_i...   1         \n",
       "rv_BIOMRI_CADA_001_076_BS_1_S3_3DT1_mprage_1iso...   1         \n",
       "rv_BIOMRI_CADA_001_050_PB_S3_3DT1_mprage_1iso_i...   1         \n",
       "rv_BIOMRI_CADA_001_035_AM_S3_3DT1_mprage_1iso_i...   1         "
      ]
     },
     "execution_count": 30,
     "metadata": {},
     "output_type": "execute_result"
    }
   ],
   "source": [
    "qc.head()"
   ]
  },
  {
   "cell_type": "code",
   "execution_count": 31,
   "metadata": {},
   "outputs": [],
   "source": [
    "qc.to_csv(qc_file, sep='\\t')"
   ]
  },
  {
   "cell_type": "code",
   "execution_count": 32,
   "metadata": {},
   "outputs": [
    {
     "data": {
      "text/plain": [
       "43"
      ]
     },
     "execution_count": 32,
     "metadata": {},
     "output_type": "execute_result"
    }
   ],
   "source": [
    "len(qc[qc.qc==1])"
   ]
  },
  {
   "cell_type": "code",
   "execution_count": null,
   "metadata": {},
   "outputs": [],
   "source": []
  }
 ],
 "metadata": {
  "kernelspec": {
   "display_name": "venv_natif",
   "language": "python",
   "name": "python3"
  },
  "language_info": {
   "codemirror_mode": {
    "name": "ipython",
    "version": 3
   },
   "file_extension": ".py",
   "mimetype": "text/x-python",
   "name": "python",
   "nbconvert_exporter": "python",
   "pygments_lexer": "ipython3",
   "version": "3.10.12"
  }
 },
 "nbformat": 4,
 "nbformat_minor": 2
}
