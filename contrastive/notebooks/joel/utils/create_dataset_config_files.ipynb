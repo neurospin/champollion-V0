{
 "cells": [
  {
   "cell_type": "markdown",
   "metadata": {},
   "source": [
    "This notebook create dataset config files from reference"
   ]
  },
  {
   "cell_type": "code",
   "execution_count": 11,
   "metadata": {},
   "outputs": [],
   "source": [
    "import pandas as pd\n",
    "import os\n",
    "import glob\n",
    "import json"
   ]
  },
  {
   "cell_type": "code",
   "execution_count": 12,
   "metadata": {},
   "outputs": [
    {
     "data": {
      "text/plain": [
       "'/neurospin/dico/jchavas/Runs/70_self-supervised_two-regions/Program/2023_jlaval_STSbabies/contrastive/notebooks/joel/utils'"
      ]
     },
     "execution_count": 12,
     "metadata": {},
     "output_type": "execute_result"
    }
   ],
   "source": [
    "os.getcwd()"
   ]
  },
  {
   "cell_type": "code",
   "execution_count": 13,
   "metadata": {},
   "outputs": [],
   "source": [
    "dataset = \"UKB40\"\n",
    "dataset_folder = \"UkBioBank40\""
   ]
  },
  {
   "cell_type": "code",
   "execution_count": 14,
   "metadata": {},
   "outputs": [],
   "source": [
    "path = f\"{os.getcwd()}/../../../configs/dataset/with_reskel_distbottom/2mm/{dataset}\"\n",
    "ref_file = f\"{path}/reference.yaml\"\n",
    "crop_path = f\"/neurospin/dico/data/deep_folding/current/datasets/{dataset_folder}/crops/2mm\"\n",
    "crop_dirs = glob.glob(f\"{crop_path}/*\")\n",
    "crop_drops = [\"deMatos.\", \"deMatos_polar.\"]"
   ]
  },
  {
   "cell_type": "code",
   "execution_count": 15,
   "metadata": {},
   "outputs": [
    {
     "data": {
      "text/plain": [
       "['/neurospin/dico/data/deep_folding/current/datasets/UkBioBank40/crops/2mm/F.Coll.-S.Rh.',\n",
       " '/neurospin/dico/data/deep_folding/current/datasets/UkBioBank40/crops/2mm/S.F.median-S.F.pol.tr.-S.F.sup.',\n",
       " '/neurospin/dico/data/deep_folding/current/datasets/UkBioBank40/crops/2mm/S.F.inf.-BROCA-S.Pe.C.inf.',\n",
       " '/neurospin/dico/data/deep_folding/current/datasets/UkBioBank40/crops/2mm/deMatos_polar.',\n",
       " '/neurospin/dico/data/deep_folding/current/datasets/UkBioBank40/crops/2mm/S.Po.C.',\n",
       " '/neurospin/dico/data/deep_folding/current/datasets/UkBioBank40/crops/2mm/fronto-parietal_medial_face.',\n",
       " '/neurospin/dico/data/deep_folding/current/datasets/UkBioBank40/crops/2mm/F.I.P.',\n",
       " '/neurospin/dico/data/deep_folding/current/datasets/UkBioBank40/crops/2mm/S.T.s.-S.GSM.',\n",
       " '/neurospin/dico/data/deep_folding/current/datasets/UkBioBank40/crops/2mm/CINGULATE.',\n",
       " '/neurospin/dico/data/deep_folding/current/datasets/UkBioBank40/crops/2mm/F.C.L.p.-S.GSM.',\n",
       " '/neurospin/dico/data/deep_folding/current/datasets/UkBioBank40/crops/2mm/S.C.-S.Po.C.',\n",
       " '/neurospin/dico/data/deep_folding/current/datasets/UkBioBank40/crops/2mm/S.F.inter.-S.F.sup.',\n",
       " '/neurospin/dico/data/deep_folding/current/datasets/UkBioBank40/crops/2mm/F.C.M.post.-S.p.C.',\n",
       " '/neurospin/dico/data/deep_folding/current/datasets/UkBioBank40/crops/2mm/S.s.P.-S.Pa.int.',\n",
       " '/neurospin/dico/data/deep_folding/current/datasets/UkBioBank40/crops/2mm/S.Or.-S.Olf.',\n",
       " '/neurospin/dico/data/deep_folding/current/datasets/UkBioBank40/crops/2mm/F.P.O.-S.Cu.-Sc.Cal.',\n",
       " '/neurospin/dico/data/deep_folding/current/datasets/UkBioBank40/crops/2mm/S.F.marginal-S.F.inf.ant.',\n",
       " '/neurospin/dico/data/deep_folding/current/datasets/UkBioBank40/crops/2mm/S.F.int.-F.C.M.ant.',\n",
       " '/neurospin/dico/data/deep_folding/current/datasets/UkBioBank40/crops/2mm/S.T.i.-S.T.s.-S.T.pol.',\n",
       " '/neurospin/dico/data/deep_folding/current/datasets/UkBioBank40/crops/2mm/S.F.int.-S.R.',\n",
       " '/neurospin/dico/data/deep_folding/current/datasets/UkBioBank40/crops/2mm/Lobule_parietal_sup.',\n",
       " '/neurospin/dico/data/deep_folding/current/datasets/UkBioBank40/crops/2mm/S.T.i.-S.O.T.lat.',\n",
       " '/neurospin/dico/data/deep_folding/current/datasets/UkBioBank40/crops/2mm/S.Pe.C.',\n",
       " '/neurospin/dico/data/deep_folding/current/datasets/UkBioBank40/crops/2mm/S.T.s.br.',\n",
       " '/neurospin/dico/data/deep_folding/current/datasets/UkBioBank40/crops/2mm/Sc.Cal.-S.Li.',\n",
       " '/neurospin/dico/data/deep_folding/current/datasets/UkBioBank40/crops/2mm/S.T.s.',\n",
       " '/neurospin/dico/data/deep_folding/current/datasets/UkBioBank40/crops/2mm/F.C.L.p.-subsc.-F.C.L.a.-INSULA.',\n",
       " '/neurospin/dico/data/deep_folding/current/datasets/UkBioBank40/crops/2mm/S.C.-sylv.',\n",
       " '/neurospin/dico/data/deep_folding/current/datasets/UkBioBank40/crops/2mm/S.C.-S.Pe.C.',\n",
       " '/neurospin/dico/data/deep_folding/current/datasets/UkBioBank40/crops/2mm/deMatos.',\n",
       " '/neurospin/dico/data/deep_folding/current/datasets/UkBioBank40/crops/2mm/OCCIPITAL',\n",
       " '/neurospin/dico/data/deep_folding/current/datasets/UkBioBank40/crops/2mm/S.Or.']"
      ]
     },
     "execution_count": 15,
     "metadata": {},
     "output_type": "execute_result"
    }
   ],
   "source": [
    "crop_dirs"
   ]
  },
  {
   "cell_type": "code",
   "execution_count": 16,
   "metadata": {},
   "outputs": [],
   "source": [
    "crop_dirs = [f for f in crop_dirs if not os.path.basename(f) in crop_drops]"
   ]
  },
  {
   "cell_type": "code",
   "execution_count": 17,
   "metadata": {},
   "outputs": [
    {
     "name": "stdout",
     "output_type": "stream",
     "text": [
      "/neurospin/dico/jchavas/Runs/70_self-supervised_two-regions/Program/2023_jlaval_STSbabies/contrastive/notebooks/joel/utils/../../../configs/dataset/with_reskel_distbottom/2mm/UKB40/reference.yaml\n",
      "/neurospin/dico/data/deep_folding/current/datasets/UkBioBank40/crops/2mm/F.Coll.-S.Rh.\n",
      "/neurospin/dico/data/deep_folding/current/datasets/UkBioBank40/crops/2mm/S.F.median-S.F.pol.tr.-S.F.sup.\n",
      "/neurospin/dico/data/deep_folding/current/datasets/UkBioBank40/crops/2mm/S.F.inf.-BROCA-S.Pe.C.inf.\n",
      "/neurospin/dico/data/deep_folding/current/datasets/UkBioBank40/crops/2mm/S.Po.C.\n",
      "/neurospin/dico/data/deep_folding/current/datasets/UkBioBank40/crops/2mm/fronto-parietal_medial_face.\n",
      "/neurospin/dico/data/deep_folding/current/datasets/UkBioBank40/crops/2mm/F.I.P.\n",
      "/neurospin/dico/data/deep_folding/current/datasets/UkBioBank40/crops/2mm/S.T.s.-S.GSM.\n",
      "/neurospin/dico/data/deep_folding/current/datasets/UkBioBank40/crops/2mm/CINGULATE.\n",
      "/neurospin/dico/data/deep_folding/current/datasets/UkBioBank40/crops/2mm/F.C.L.p.-S.GSM.\n",
      "/neurospin/dico/data/deep_folding/current/datasets/UkBioBank40/crops/2mm/S.C.-S.Po.C.\n",
      "/neurospin/dico/data/deep_folding/current/datasets/UkBioBank40/crops/2mm/S.F.inter.-S.F.sup.\n",
      "/neurospin/dico/data/deep_folding/current/datasets/UkBioBank40/crops/2mm/F.C.M.post.-S.p.C.\n",
      "/neurospin/dico/data/deep_folding/current/datasets/UkBioBank40/crops/2mm/S.s.P.-S.Pa.int.\n",
      "/neurospin/dico/data/deep_folding/current/datasets/UkBioBank40/crops/2mm/S.Or.-S.Olf.\n",
      "/neurospin/dico/data/deep_folding/current/datasets/UkBioBank40/crops/2mm/F.P.O.-S.Cu.-Sc.Cal.\n",
      "/neurospin/dico/data/deep_folding/current/datasets/UkBioBank40/crops/2mm/S.F.marginal-S.F.inf.ant.\n",
      "/neurospin/dico/data/deep_folding/current/datasets/UkBioBank40/crops/2mm/S.F.int.-F.C.M.ant.\n",
      "/neurospin/dico/data/deep_folding/current/datasets/UkBioBank40/crops/2mm/S.T.i.-S.T.s.-S.T.pol.\n",
      "/neurospin/dico/data/deep_folding/current/datasets/UkBioBank40/crops/2mm/S.F.int.-S.R.\n",
      "/neurospin/dico/data/deep_folding/current/datasets/UkBioBank40/crops/2mm/Lobule_parietal_sup.\n",
      "/neurospin/dico/data/deep_folding/current/datasets/UkBioBank40/crops/2mm/S.T.i.-S.O.T.lat.\n",
      "/neurospin/dico/data/deep_folding/current/datasets/UkBioBank40/crops/2mm/S.Pe.C.\n",
      "/neurospin/dico/data/deep_folding/current/datasets/UkBioBank40/crops/2mm/S.T.s.br.\n",
      "/neurospin/dico/data/deep_folding/current/datasets/UkBioBank40/crops/2mm/Sc.Cal.-S.Li.\n",
      "/neurospin/dico/data/deep_folding/current/datasets/UkBioBank40/crops/2mm/S.T.s.\n",
      "/neurospin/dico/data/deep_folding/current/datasets/UkBioBank40/crops/2mm/F.C.L.p.-subsc.-F.C.L.a.-INSULA.\n",
      "/neurospin/dico/data/deep_folding/current/datasets/UkBioBank40/crops/2mm/S.C.-sylv.\n",
      "/neurospin/dico/data/deep_folding/current/datasets/UkBioBank40/crops/2mm/S.C.-S.Pe.C.\n",
      "/neurospin/dico/data/deep_folding/current/datasets/UkBioBank40/crops/2mm/OCCIPITAL\n",
      "/neurospin/dico/data/deep_folding/current/datasets/UkBioBank40/crops/2mm/S.Or.\n"
     ]
    }
   ],
   "source": [
    "print(ref_file)\n",
    "print('\\n'.join(crop_dirs))"
   ]
  },
  {
   "cell_type": "code",
   "execution_count": 18,
   "metadata": {},
   "outputs": [
    {
     "name": "stdout",
     "output_type": "stream",
     "text": [
      "# @package dataset.REPLACE_DATASET\n",
      "dataset_name: REPLACE_DATASET\n",
      "pickle_normal: ${dataset_folder}/UkBioBank40/crops/2mm/REPLACE_CROP_NAME/mask/REPLACE_SIDEskeleton.pkl\n",
      "numpy_all: ${dataset_folder}/UkBioBank40/crops/2mm/REPLACE_CROP_NAME/mask/REPLACE_SIDEskeleton.npy\n",
      "subjects_all: ${dataset_folder}/UkBioBank40/crops/2mm/REPLACE_CROP_NAME/mask/REPLACE_SIDEskeleton_subject.csv\n",
      "crop_dir: ${dataset_folder}/UkBioBank40/crops/2mm/REPLACE_CROP_NAME/mask/REPLACE_SIDEcrops\n",
      "foldlabel_dir: ${dataset_folder}/UkBioBank40/crops/2mm/REPLACE_CROP_NAME/mask/REPLACE_SIDElabels\n",
      "foldlabel_all: ${dataset_folder}/UkBioBank40/crops/2mm/REPLACE_CROP_NAME/mask/REPLACE_SIDElabel.npy\n",
      "subjects_foldlabel_all: ${dataset_folder}/UkBioBank40/crops/2mm/REPLACE_CROP_NAME/mask/REPLACE_SIDElabel_subject.csv\n",
      "distbottom_dir: ${dataset_folder}/UkBioBank40/crops/2mm/REPLACE_CROP_NAME/mask/REPLACE_SIDEdistbottom\n",
      "distbottom_all: ${dataset_folder}/UkBioBank40/crops/2mm/REPLACE_CROP_NAME/mask/REPLACE_SIDEdistbottom.npy\n",
      "subjects_distbottom_all: ${dataset_folder}/UkBioBank40/crops/2mm/REPLACE_CROP_NAME/mask/REPLACE_SIDEdistbottom_subject.csv\n",
      "crop_file_suffix: _cropped_skeleton.nii.gz\n",
      "pickle_benchmark: \n",
      "train_val_csv_file: ${dataset_folder}/UkBioBank40/42433_subjects.csv\n",
      "subject_labels_file: ${dataset_folder}/UkBioBank/participants.csv\n",
      "subject_column_name: 'participant_id'\n",
      "input_size: (1, REPLACE_SIZEX, REPLACE_SIZEY, REPLACE_SIZEZ)\n"
     ]
    }
   ],
   "source": [
    "# Read in the reference file\n",
    "with open(ref_file, 'r') as file:\n",
    "  ref = file.read()\n",
    "\n",
    "print(ref)"
   ]
  },
  {
   "cell_type": "code",
   "execution_count": 19,
   "metadata": {},
   "outputs": [],
   "source": [
    "\n",
    "def replace_reference_yaml(crop_dir, side, ref):\n",
    "  \"\"\"For each crop name, it builds the yaml from the reference yaml\"\"\"\n",
    "  crop_name = os.path.basename(crop_dir)\n",
    "  dataset_name = crop_name.replace('.', '')\n",
    "  mask_file = f\"{crop_dir}/mask/{side}mask_cropped.nii.gz.minf\"\n",
    "  print(mask_file)\n",
    "  with open(mask_file, 'r') as file:\n",
    "    mask = file.read()\n",
    "  mask = mask.replace(\"attributes = \", \"\")\n",
    "  mask = mask.replace(\"\\'\", \"\\\"\")\n",
    "  # print(mask)\n",
    "  mask_json = json.loads(mask)\n",
    "  # print(mask_json)\n",
    "  side = side\n",
    "  side_long = \"left\" if side=='L' else \"right\"\n",
    "  dataset_name = f\"{dataset_name}_{side_long}\"\n",
    "  filedata = ref.replace('REPLACE_CROP_NAME', crop_name)\n",
    "  filedata = filedata.replace('REPLACE_DATASET', dataset_name)\n",
    "  filedata = filedata.replace('REPLACE_SIDE', side)\n",
    "  filedata = filedata.replace('REPLACE_SIZEX', str(mask_json['sizeX']))\n",
    "  filedata = filedata.replace('REPLACE_SIZEY', str(mask_json['sizeY']))\n",
    "  filedata = filedata.replace('REPLACE_SIZEZ', str(mask_json['sizeZ']))\n",
    "\n",
    "  result_file = f\"{path}/{dataset_name}.yaml\"\n",
    "\n",
    "  return filedata, result_file"
   ]
  },
  {
   "cell_type": "code",
   "execution_count": 28,
   "metadata": {},
   "outputs": [
    {
     "name": "stdout",
     "output_type": "stream",
     "text": [
      "/neurospin/dico/data/deep_folding/current/datasets/UkBioBank40/crops/2mm/F.Coll.-S.Rh./mask/Lmask_cropped.nii.gz.minf\n",
      "/neurospin/dico/jchavas/Runs/70_self-supervised_two-regions/Program/2023_jlaval_STSbabies/contrastive/notebooks/joel/utils/../../../configs/dataset/with_reskel_distbottom/2mm/UKB40/FColl-SRh_left.yaml\n",
      "/neurospin/dico/data/deep_folding/current/datasets/UkBioBank40/crops/2mm/F.Coll.-S.Rh./mask/Rmask_cropped.nii.gz.minf\n",
      "/neurospin/dico/jchavas/Runs/70_self-supervised_two-regions/Program/2023_jlaval_STSbabies/contrastive/notebooks/joel/utils/../../../configs/dataset/with_reskel_distbottom/2mm/UKB40/FColl-SRh_right.yaml\n",
      "/neurospin/dico/data/deep_folding/current/datasets/UkBioBank40/crops/2mm/S.F.median-S.F.pol.tr.-S.F.sup./mask/Lmask_cropped.nii.gz.minf\n",
      "/neurospin/dico/jchavas/Runs/70_self-supervised_two-regions/Program/2023_jlaval_STSbabies/contrastive/notebooks/joel/utils/../../../configs/dataset/with_reskel_distbottom/2mm/UKB40/SFmedian-SFpoltr-SFsup_left.yaml\n",
      "/neurospin/dico/data/deep_folding/current/datasets/UkBioBank40/crops/2mm/S.F.median-S.F.pol.tr.-S.F.sup./mask/Rmask_cropped.nii.gz.minf\n",
      "/neurospin/dico/jchavas/Runs/70_self-supervised_two-regions/Program/2023_jlaval_STSbabies/contrastive/notebooks/joel/utils/../../../configs/dataset/with_reskel_distbottom/2mm/UKB40/SFmedian-SFpoltr-SFsup_right.yaml\n",
      "/neurospin/dico/data/deep_folding/current/datasets/UkBioBank40/crops/2mm/S.F.inf.-BROCA-S.Pe.C.inf./mask/Lmask_cropped.nii.gz.minf\n",
      "/neurospin/dico/jchavas/Runs/70_self-supervised_two-regions/Program/2023_jlaval_STSbabies/contrastive/notebooks/joel/utils/../../../configs/dataset/with_reskel_distbottom/2mm/UKB40/SFinf-BROCA-SPeCinf_left.yaml\n",
      "/neurospin/dico/data/deep_folding/current/datasets/UkBioBank40/crops/2mm/S.F.inf.-BROCA-S.Pe.C.inf./mask/Rmask_cropped.nii.gz.minf\n",
      "/neurospin/dico/jchavas/Runs/70_self-supervised_two-regions/Program/2023_jlaval_STSbabies/contrastive/notebooks/joel/utils/../../../configs/dataset/with_reskel_distbottom/2mm/UKB40/SFinf-BROCA-SPeCinf_right.yaml\n",
      "/neurospin/dico/data/deep_folding/current/datasets/UkBioBank40/crops/2mm/S.Po.C./mask/Lmask_cropped.nii.gz.minf\n",
      "/neurospin/dico/jchavas/Runs/70_self-supervised_two-regions/Program/2023_jlaval_STSbabies/contrastive/notebooks/joel/utils/../../../configs/dataset/with_reskel_distbottom/2mm/UKB40/SPoC_left.yaml\n",
      "/neurospin/dico/data/deep_folding/current/datasets/UkBioBank40/crops/2mm/S.Po.C./mask/Rmask_cropped.nii.gz.minf\n",
      "/neurospin/dico/jchavas/Runs/70_self-supervised_two-regions/Program/2023_jlaval_STSbabies/contrastive/notebooks/joel/utils/../../../configs/dataset/with_reskel_distbottom/2mm/UKB40/SPoC_right.yaml\n",
      "/neurospin/dico/data/deep_folding/current/datasets/UkBioBank40/crops/2mm/fronto-parietal_medial_face./mask/Lmask_cropped.nii.gz.minf\n",
      "/neurospin/dico/jchavas/Runs/70_self-supervised_two-regions/Program/2023_jlaval_STSbabies/contrastive/notebooks/joel/utils/../../../configs/dataset/with_reskel_distbottom/2mm/UKB40/fronto-parietal_medial_face_left.yaml\n",
      "/neurospin/dico/data/deep_folding/current/datasets/UkBioBank40/crops/2mm/fronto-parietal_medial_face./mask/Rmask_cropped.nii.gz.minf\n",
      "/neurospin/dico/jchavas/Runs/70_self-supervised_two-regions/Program/2023_jlaval_STSbabies/contrastive/notebooks/joel/utils/../../../configs/dataset/with_reskel_distbottom/2mm/UKB40/fronto-parietal_medial_face_right.yaml\n",
      "/neurospin/dico/data/deep_folding/current/datasets/UkBioBank40/crops/2mm/F.I.P./mask/Lmask_cropped.nii.gz.minf\n",
      "/neurospin/dico/jchavas/Runs/70_self-supervised_two-regions/Program/2023_jlaval_STSbabies/contrastive/notebooks/joel/utils/../../../configs/dataset/with_reskel_distbottom/2mm/UKB40/FIP_left.yaml\n",
      "/neurospin/dico/data/deep_folding/current/datasets/UkBioBank40/crops/2mm/F.I.P./mask/Rmask_cropped.nii.gz.minf\n",
      "/neurospin/dico/jchavas/Runs/70_self-supervised_two-regions/Program/2023_jlaval_STSbabies/contrastive/notebooks/joel/utils/../../../configs/dataset/with_reskel_distbottom/2mm/UKB40/FIP_right.yaml\n",
      "/neurospin/dico/data/deep_folding/current/datasets/UkBioBank40/crops/2mm/S.T.s.-S.GSM./mask/Lmask_cropped.nii.gz.minf\n",
      "/neurospin/dico/jchavas/Runs/70_self-supervised_two-regions/Program/2023_jlaval_STSbabies/contrastive/notebooks/joel/utils/../../../configs/dataset/with_reskel_distbottom/2mm/UKB40/STs-SGSM_left.yaml\n",
      "/neurospin/dico/data/deep_folding/current/datasets/UkBioBank40/crops/2mm/S.T.s.-S.GSM./mask/Rmask_cropped.nii.gz.minf\n",
      "/neurospin/dico/jchavas/Runs/70_self-supervised_two-regions/Program/2023_jlaval_STSbabies/contrastive/notebooks/joel/utils/../../../configs/dataset/with_reskel_distbottom/2mm/UKB40/STs-SGSM_right.yaml\n",
      "/neurospin/dico/data/deep_folding/current/datasets/UkBioBank40/crops/2mm/CINGULATE./mask/Lmask_cropped.nii.gz.minf\n",
      "/neurospin/dico/jchavas/Runs/70_self-supervised_two-regions/Program/2023_jlaval_STSbabies/contrastive/notebooks/joel/utils/../../../configs/dataset/with_reskel_distbottom/2mm/UKB40/CINGULATE_left.yaml\n",
      "/neurospin/dico/data/deep_folding/current/datasets/UkBioBank40/crops/2mm/CINGULATE./mask/Rmask_cropped.nii.gz.minf\n",
      "/neurospin/dico/jchavas/Runs/70_self-supervised_two-regions/Program/2023_jlaval_STSbabies/contrastive/notebooks/joel/utils/../../../configs/dataset/with_reskel_distbottom/2mm/UKB40/CINGULATE_right.yaml\n",
      "/neurospin/dico/data/deep_folding/current/datasets/UkBioBank40/crops/2mm/F.C.L.p.-S.GSM./mask/Lmask_cropped.nii.gz.minf\n",
      "/neurospin/dico/jchavas/Runs/70_self-supervised_two-regions/Program/2023_jlaval_STSbabies/contrastive/notebooks/joel/utils/../../../configs/dataset/with_reskel_distbottom/2mm/UKB40/FCLp-SGSM_left.yaml\n",
      "/neurospin/dico/data/deep_folding/current/datasets/UkBioBank40/crops/2mm/F.C.L.p.-S.GSM./mask/Rmask_cropped.nii.gz.minf\n",
      "/neurospin/dico/jchavas/Runs/70_self-supervised_two-regions/Program/2023_jlaval_STSbabies/contrastive/notebooks/joel/utils/../../../configs/dataset/with_reskel_distbottom/2mm/UKB40/FCLp-SGSM_right.yaml\n",
      "/neurospin/dico/data/deep_folding/current/datasets/UkBioBank40/crops/2mm/S.C.-S.Po.C./mask/Lmask_cropped.nii.gz.minf\n",
      "/neurospin/dico/jchavas/Runs/70_self-supervised_two-regions/Program/2023_jlaval_STSbabies/contrastive/notebooks/joel/utils/../../../configs/dataset/with_reskel_distbottom/2mm/UKB40/SC-SPoC_left.yaml\n",
      "/neurospin/dico/data/deep_folding/current/datasets/UkBioBank40/crops/2mm/S.C.-S.Po.C./mask/Rmask_cropped.nii.gz.minf\n",
      "/neurospin/dico/jchavas/Runs/70_self-supervised_two-regions/Program/2023_jlaval_STSbabies/contrastive/notebooks/joel/utils/../../../configs/dataset/with_reskel_distbottom/2mm/UKB40/SC-SPoC_right.yaml\n",
      "/neurospin/dico/data/deep_folding/current/datasets/UkBioBank40/crops/2mm/S.F.inter.-S.F.sup./mask/Lmask_cropped.nii.gz.minf\n",
      "/neurospin/dico/jchavas/Runs/70_self-supervised_two-regions/Program/2023_jlaval_STSbabies/contrastive/notebooks/joel/utils/../../../configs/dataset/with_reskel_distbottom/2mm/UKB40/SFinter-SFsup_left.yaml\n",
      "/neurospin/dico/data/deep_folding/current/datasets/UkBioBank40/crops/2mm/S.F.inter.-S.F.sup./mask/Rmask_cropped.nii.gz.minf\n",
      "/neurospin/dico/jchavas/Runs/70_self-supervised_two-regions/Program/2023_jlaval_STSbabies/contrastive/notebooks/joel/utils/../../../configs/dataset/with_reskel_distbottom/2mm/UKB40/SFinter-SFsup_right.yaml\n",
      "/neurospin/dico/data/deep_folding/current/datasets/UkBioBank40/crops/2mm/F.C.M.post.-S.p.C./mask/Lmask_cropped.nii.gz.minf\n",
      "/neurospin/dico/jchavas/Runs/70_self-supervised_two-regions/Program/2023_jlaval_STSbabies/contrastive/notebooks/joel/utils/../../../configs/dataset/with_reskel_distbottom/2mm/UKB40/FCMpost-SpC_left.yaml\n",
      "/neurospin/dico/data/deep_folding/current/datasets/UkBioBank40/crops/2mm/F.C.M.post.-S.p.C./mask/Rmask_cropped.nii.gz.minf\n",
      "/neurospin/dico/jchavas/Runs/70_self-supervised_two-regions/Program/2023_jlaval_STSbabies/contrastive/notebooks/joel/utils/../../../configs/dataset/with_reskel_distbottom/2mm/UKB40/FCMpost-SpC_right.yaml\n",
      "/neurospin/dico/data/deep_folding/current/datasets/UkBioBank40/crops/2mm/S.s.P.-S.Pa.int./mask/Lmask_cropped.nii.gz.minf\n",
      "/neurospin/dico/jchavas/Runs/70_self-supervised_two-regions/Program/2023_jlaval_STSbabies/contrastive/notebooks/joel/utils/../../../configs/dataset/with_reskel_distbottom/2mm/UKB40/SsP-SPaint_left.yaml\n",
      "/neurospin/dico/data/deep_folding/current/datasets/UkBioBank40/crops/2mm/S.s.P.-S.Pa.int./mask/Rmask_cropped.nii.gz.minf\n",
      "/neurospin/dico/jchavas/Runs/70_self-supervised_two-regions/Program/2023_jlaval_STSbabies/contrastive/notebooks/joel/utils/../../../configs/dataset/with_reskel_distbottom/2mm/UKB40/SsP-SPaint_right.yaml\n",
      "/neurospin/dico/data/deep_folding/current/datasets/UkBioBank40/crops/2mm/S.Or.-S.Olf./mask/Lmask_cropped.nii.gz.minf\n",
      "/neurospin/dico/jchavas/Runs/70_self-supervised_two-regions/Program/2023_jlaval_STSbabies/contrastive/notebooks/joel/utils/../../../configs/dataset/with_reskel_distbottom/2mm/UKB40/SOr-SOlf_left.yaml\n",
      "/neurospin/dico/data/deep_folding/current/datasets/UkBioBank40/crops/2mm/S.Or.-S.Olf./mask/Rmask_cropped.nii.gz.minf\n",
      "/neurospin/dico/jchavas/Runs/70_self-supervised_two-regions/Program/2023_jlaval_STSbabies/contrastive/notebooks/joel/utils/../../../configs/dataset/with_reskel_distbottom/2mm/UKB40/SOr-SOlf_right.yaml\n",
      "/neurospin/dico/data/deep_folding/current/datasets/UkBioBank40/crops/2mm/F.P.O.-S.Cu.-Sc.Cal./mask/Lmask_cropped.nii.gz.minf\n",
      "/neurospin/dico/jchavas/Runs/70_self-supervised_two-regions/Program/2023_jlaval_STSbabies/contrastive/notebooks/joel/utils/../../../configs/dataset/with_reskel_distbottom/2mm/UKB40/FPO-SCu-ScCal_left.yaml\n",
      "/neurospin/dico/data/deep_folding/current/datasets/UkBioBank40/crops/2mm/F.P.O.-S.Cu.-Sc.Cal./mask/Rmask_cropped.nii.gz.minf\n",
      "/neurospin/dico/jchavas/Runs/70_self-supervised_two-regions/Program/2023_jlaval_STSbabies/contrastive/notebooks/joel/utils/../../../configs/dataset/with_reskel_distbottom/2mm/UKB40/FPO-SCu-ScCal_right.yaml\n",
      "/neurospin/dico/data/deep_folding/current/datasets/UkBioBank40/crops/2mm/S.F.marginal-S.F.inf.ant./mask/Lmask_cropped.nii.gz.minf\n",
      "/neurospin/dico/jchavas/Runs/70_self-supervised_two-regions/Program/2023_jlaval_STSbabies/contrastive/notebooks/joel/utils/../../../configs/dataset/with_reskel_distbottom/2mm/UKB40/SFmarginal-SFinfant_left.yaml\n",
      "/neurospin/dico/data/deep_folding/current/datasets/UkBioBank40/crops/2mm/S.F.marginal-S.F.inf.ant./mask/Rmask_cropped.nii.gz.minf\n",
      "/neurospin/dico/jchavas/Runs/70_self-supervised_two-regions/Program/2023_jlaval_STSbabies/contrastive/notebooks/joel/utils/../../../configs/dataset/with_reskel_distbottom/2mm/UKB40/SFmarginal-SFinfant_right.yaml\n",
      "/neurospin/dico/data/deep_folding/current/datasets/UkBioBank40/crops/2mm/S.F.int.-F.C.M.ant./mask/Lmask_cropped.nii.gz.minf\n",
      "/neurospin/dico/jchavas/Runs/70_self-supervised_two-regions/Program/2023_jlaval_STSbabies/contrastive/notebooks/joel/utils/../../../configs/dataset/with_reskel_distbottom/2mm/UKB40/SFint-FCMant_left.yaml\n",
      "/neurospin/dico/data/deep_folding/current/datasets/UkBioBank40/crops/2mm/S.F.int.-F.C.M.ant./mask/Rmask_cropped.nii.gz.minf\n",
      "/neurospin/dico/jchavas/Runs/70_self-supervised_two-regions/Program/2023_jlaval_STSbabies/contrastive/notebooks/joel/utils/../../../configs/dataset/with_reskel_distbottom/2mm/UKB40/SFint-FCMant_right.yaml\n",
      "/neurospin/dico/data/deep_folding/current/datasets/UkBioBank40/crops/2mm/S.T.i.-S.T.s.-S.T.pol./mask/Lmask_cropped.nii.gz.minf\n",
      "/neurospin/dico/jchavas/Runs/70_self-supervised_two-regions/Program/2023_jlaval_STSbabies/contrastive/notebooks/joel/utils/../../../configs/dataset/with_reskel_distbottom/2mm/UKB40/STi-STs-STpol_left.yaml\n",
      "/neurospin/dico/data/deep_folding/current/datasets/UkBioBank40/crops/2mm/S.T.i.-S.T.s.-S.T.pol./mask/Rmask_cropped.nii.gz.minf\n",
      "/neurospin/dico/jchavas/Runs/70_self-supervised_two-regions/Program/2023_jlaval_STSbabies/contrastive/notebooks/joel/utils/../../../configs/dataset/with_reskel_distbottom/2mm/UKB40/STi-STs-STpol_right.yaml\n",
      "/neurospin/dico/data/deep_folding/current/datasets/UkBioBank40/crops/2mm/S.F.int.-S.R./mask/Lmask_cropped.nii.gz.minf\n",
      "/neurospin/dico/jchavas/Runs/70_self-supervised_two-regions/Program/2023_jlaval_STSbabies/contrastive/notebooks/joel/utils/../../../configs/dataset/with_reskel_distbottom/2mm/UKB40/SFint-SR_left.yaml\n",
      "/neurospin/dico/data/deep_folding/current/datasets/UkBioBank40/crops/2mm/S.F.int.-S.R./mask/Rmask_cropped.nii.gz.minf\n",
      "/neurospin/dico/jchavas/Runs/70_self-supervised_two-regions/Program/2023_jlaval_STSbabies/contrastive/notebooks/joel/utils/../../../configs/dataset/with_reskel_distbottom/2mm/UKB40/SFint-SR_right.yaml\n",
      "/neurospin/dico/data/deep_folding/current/datasets/UkBioBank40/crops/2mm/Lobule_parietal_sup./mask/Lmask_cropped.nii.gz.minf\n",
      "/neurospin/dico/jchavas/Runs/70_self-supervised_two-regions/Program/2023_jlaval_STSbabies/contrastive/notebooks/joel/utils/../../../configs/dataset/with_reskel_distbottom/2mm/UKB40/Lobule_parietal_sup_left.yaml\n",
      "/neurospin/dico/data/deep_folding/current/datasets/UkBioBank40/crops/2mm/Lobule_parietal_sup./mask/Rmask_cropped.nii.gz.minf\n",
      "/neurospin/dico/jchavas/Runs/70_self-supervised_two-regions/Program/2023_jlaval_STSbabies/contrastive/notebooks/joel/utils/../../../configs/dataset/with_reskel_distbottom/2mm/UKB40/Lobule_parietal_sup_right.yaml\n",
      "/neurospin/dico/data/deep_folding/current/datasets/UkBioBank40/crops/2mm/S.T.i.-S.O.T.lat./mask/Lmask_cropped.nii.gz.minf\n",
      "/neurospin/dico/jchavas/Runs/70_self-supervised_two-regions/Program/2023_jlaval_STSbabies/contrastive/notebooks/joel/utils/../../../configs/dataset/with_reskel_distbottom/2mm/UKB40/STi-SOTlat_left.yaml\n",
      "/neurospin/dico/data/deep_folding/current/datasets/UkBioBank40/crops/2mm/S.T.i.-S.O.T.lat./mask/Rmask_cropped.nii.gz.minf\n",
      "/neurospin/dico/jchavas/Runs/70_self-supervised_two-regions/Program/2023_jlaval_STSbabies/contrastive/notebooks/joel/utils/../../../configs/dataset/with_reskel_distbottom/2mm/UKB40/STi-SOTlat_right.yaml\n",
      "/neurospin/dico/data/deep_folding/current/datasets/UkBioBank40/crops/2mm/S.Pe.C./mask/Lmask_cropped.nii.gz.minf\n",
      "/neurospin/dico/jchavas/Runs/70_self-supervised_two-regions/Program/2023_jlaval_STSbabies/contrastive/notebooks/joel/utils/../../../configs/dataset/with_reskel_distbottom/2mm/UKB40/SPeC_left.yaml\n",
      "/neurospin/dico/data/deep_folding/current/datasets/UkBioBank40/crops/2mm/S.Pe.C./mask/Rmask_cropped.nii.gz.minf\n",
      "/neurospin/dico/jchavas/Runs/70_self-supervised_two-regions/Program/2023_jlaval_STSbabies/contrastive/notebooks/joel/utils/../../../configs/dataset/with_reskel_distbottom/2mm/UKB40/SPeC_right.yaml\n",
      "/neurospin/dico/data/deep_folding/current/datasets/UkBioBank40/crops/2mm/S.T.s.br./mask/Lmask_cropped.nii.gz.minf\n",
      "/neurospin/dico/jchavas/Runs/70_self-supervised_two-regions/Program/2023_jlaval_STSbabies/contrastive/notebooks/joel/utils/../../../configs/dataset/with_reskel_distbottom/2mm/UKB40/STsbr_left.yaml\n",
      "/neurospin/dico/data/deep_folding/current/datasets/UkBioBank40/crops/2mm/S.T.s.br./mask/Rmask_cropped.nii.gz.minf\n",
      "/neurospin/dico/jchavas/Runs/70_self-supervised_two-regions/Program/2023_jlaval_STSbabies/contrastive/notebooks/joel/utils/../../../configs/dataset/with_reskel_distbottom/2mm/UKB40/STsbr_right.yaml\n",
      "/neurospin/dico/data/deep_folding/current/datasets/UkBioBank40/crops/2mm/Sc.Cal.-S.Li./mask/Lmask_cropped.nii.gz.minf\n",
      "/neurospin/dico/jchavas/Runs/70_self-supervised_two-regions/Program/2023_jlaval_STSbabies/contrastive/notebooks/joel/utils/../../../configs/dataset/with_reskel_distbottom/2mm/UKB40/ScCal-SLi_left.yaml\n",
      "/neurospin/dico/data/deep_folding/current/datasets/UkBioBank40/crops/2mm/Sc.Cal.-S.Li./mask/Rmask_cropped.nii.gz.minf\n",
      "/neurospin/dico/jchavas/Runs/70_self-supervised_two-regions/Program/2023_jlaval_STSbabies/contrastive/notebooks/joel/utils/../../../configs/dataset/with_reskel_distbottom/2mm/UKB40/ScCal-SLi_right.yaml\n",
      "/neurospin/dico/data/deep_folding/current/datasets/UkBioBank40/crops/2mm/S.T.s./mask/Lmask_cropped.nii.gz.minf\n",
      "/neurospin/dico/jchavas/Runs/70_self-supervised_two-regions/Program/2023_jlaval_STSbabies/contrastive/notebooks/joel/utils/../../../configs/dataset/with_reskel_distbottom/2mm/UKB40/STs_left.yaml\n",
      "/neurospin/dico/data/deep_folding/current/datasets/UkBioBank40/crops/2mm/S.T.s./mask/Rmask_cropped.nii.gz.minf\n",
      "/neurospin/dico/jchavas/Runs/70_self-supervised_two-regions/Program/2023_jlaval_STSbabies/contrastive/notebooks/joel/utils/../../../configs/dataset/with_reskel_distbottom/2mm/UKB40/STs_right.yaml\n",
      "/neurospin/dico/data/deep_folding/current/datasets/UkBioBank40/crops/2mm/F.C.L.p.-subsc.-F.C.L.a.-INSULA./mask/Lmask_cropped.nii.gz.minf\n",
      "/neurospin/dico/jchavas/Runs/70_self-supervised_two-regions/Program/2023_jlaval_STSbabies/contrastive/notebooks/joel/utils/../../../configs/dataset/with_reskel_distbottom/2mm/UKB40/FCLp-subsc-FCLa-INSULA_left.yaml\n",
      "/neurospin/dico/data/deep_folding/current/datasets/UkBioBank40/crops/2mm/F.C.L.p.-subsc.-F.C.L.a.-INSULA./mask/Rmask_cropped.nii.gz.minf\n",
      "/neurospin/dico/jchavas/Runs/70_self-supervised_two-regions/Program/2023_jlaval_STSbabies/contrastive/notebooks/joel/utils/../../../configs/dataset/with_reskel_distbottom/2mm/UKB40/FCLp-subsc-FCLa-INSULA_right.yaml\n",
      "/neurospin/dico/data/deep_folding/current/datasets/UkBioBank40/crops/2mm/S.C.-sylv./mask/Lmask_cropped.nii.gz.minf\n",
      "/neurospin/dico/jchavas/Runs/70_self-supervised_two-regions/Program/2023_jlaval_STSbabies/contrastive/notebooks/joel/utils/../../../configs/dataset/with_reskel_distbottom/2mm/UKB40/SC-sylv_left.yaml\n",
      "/neurospin/dico/data/deep_folding/current/datasets/UkBioBank40/crops/2mm/S.C.-sylv./mask/Rmask_cropped.nii.gz.minf\n",
      "/neurospin/dico/jchavas/Runs/70_self-supervised_two-regions/Program/2023_jlaval_STSbabies/contrastive/notebooks/joel/utils/../../../configs/dataset/with_reskel_distbottom/2mm/UKB40/SC-sylv_right.yaml\n",
      "/neurospin/dico/data/deep_folding/current/datasets/UkBioBank40/crops/2mm/S.C.-S.Pe.C./mask/Lmask_cropped.nii.gz.minf\n",
      "/neurospin/dico/jchavas/Runs/70_self-supervised_two-regions/Program/2023_jlaval_STSbabies/contrastive/notebooks/joel/utils/../../../configs/dataset/with_reskel_distbottom/2mm/UKB40/SC-SPeC_left.yaml\n",
      "/neurospin/dico/data/deep_folding/current/datasets/UkBioBank40/crops/2mm/S.C.-S.Pe.C./mask/Rmask_cropped.nii.gz.minf\n",
      "/neurospin/dico/jchavas/Runs/70_self-supervised_two-regions/Program/2023_jlaval_STSbabies/contrastive/notebooks/joel/utils/../../../configs/dataset/with_reskel_distbottom/2mm/UKB40/SC-SPeC_right.yaml\n",
      "/neurospin/dico/data/deep_folding/current/datasets/UkBioBank40/crops/2mm/OCCIPITAL/mask/Lmask_cropped.nii.gz.minf\n",
      "/neurospin/dico/jchavas/Runs/70_self-supervised_two-regions/Program/2023_jlaval_STSbabies/contrastive/notebooks/joel/utils/../../../configs/dataset/with_reskel_distbottom/2mm/UKB40/OCCIPITAL_left.yaml\n",
      "/neurospin/dico/data/deep_folding/current/datasets/UkBioBank40/crops/2mm/OCCIPITAL/mask/Rmask_cropped.nii.gz.minf\n",
      "/neurospin/dico/jchavas/Runs/70_self-supervised_two-regions/Program/2023_jlaval_STSbabies/contrastive/notebooks/joel/utils/../../../configs/dataset/with_reskel_distbottom/2mm/UKB40/OCCIPITAL_right.yaml\n",
      "/neurospin/dico/data/deep_folding/current/datasets/UkBioBank40/crops/2mm/S.Or./mask/Lmask_cropped.nii.gz.minf\n",
      "/neurospin/dico/jchavas/Runs/70_self-supervised_two-regions/Program/2023_jlaval_STSbabies/contrastive/notebooks/joel/utils/../../../configs/dataset/with_reskel_distbottom/2mm/UKB40/SOr_left.yaml\n",
      "/neurospin/dico/data/deep_folding/current/datasets/UkBioBank40/crops/2mm/S.Or./mask/Rmask_cropped.nii.gz.minf\n",
      "/neurospin/dico/jchavas/Runs/70_self-supervised_two-regions/Program/2023_jlaval_STSbabies/contrastive/notebooks/joel/utils/../../../configs/dataset/with_reskel_distbottom/2mm/UKB40/SOr_right.yaml\n"
     ]
    }
   ],
   "source": [
    "# Replace the target string\n",
    "for crop_dir in crop_dirs:\n",
    "    for side in ['L', 'R']:\n",
    "        filedata, result_file = replace_reference_yaml(crop_dir, side, ref)\n",
    "        print(result_file)\n",
    "        with open(result_file, 'w') as file:\n",
    "          file.write(filedata)\n",
    "        "
   ]
  },
  {
   "cell_type": "code",
   "execution_count": 21,
   "metadata": {},
   "outputs": [],
   "source": [
    "# # Write the file out again\n",
    "# with open('file.txt', 'w') as file:\n",
    "#   file.write(filedata)"
   ]
  },
  {
   "cell_type": "markdown",
   "metadata": {},
   "source": [
    "# Command line of train.py"
   ]
  },
  {
   "cell_type": "code",
   "execution_count": 29,
   "metadata": {},
   "outputs": [],
   "source": [
    "path_champollion = \"/neurospin/dico/data/deep_folding/current/models/Champollion_V0\"\n",
    "path_configs = path"
   ]
  },
  {
   "cell_type": "code",
   "execution_count": 30,
   "metadata": {},
   "outputs": [
    {
     "name": "stdout",
     "output_type": "stream",
     "text": [
      "SC-sylv_left\n",
      "SFinter-SFsup_left\n",
      "STi-STs-STpol_right\n",
      "FColl-SRh_right\n",
      "STs-SGSM_left\n",
      "SC-sylv_right\n",
      "Lobule_parietal_sup_left\n",
      "SFint-SR_left\n",
      "SPoC_left\n",
      "SFinf-BROCA-SPeCinf_right\n",
      "SsP-SPaint_left\n",
      "SOr-SOlf_left\n",
      "SFinf-BROCA-SPeCinf_left\n",
      "SFmedian-SFpoltr-SFsup_right\n",
      "FColl-SRh_left\n",
      "STi-STs-STpol_left\n",
      "SFint-FCMant_left\n",
      "FCLp-subsc-FCLa-INSULA_right\n",
      "OCCIPITAL_right\n",
      "cluster\n",
      "summary\n",
      "SC-SPeC_right\n",
      "SOr-SOlf_right\n",
      "CINGULATE_left\n",
      "SFint-SR_right\n",
      "CINGULATE_right\n",
      "FCLp-SGSM_right\n",
      "fronto-parietal_medial_face_left\n",
      "ScCal-SLi_left\n",
      "FPO-SCu-ScCal_right\n",
      "FPO-SCu-ScCal_left\n",
      "OCCIPITAL_left\n",
      "SC-SPeC_left\n",
      "STs_right\n",
      "FIP_left\n",
      "STsbr_right\n",
      "SC-SPoC_right\n",
      "fronto-parietal_medial_face_right\n",
      "SPeC_left\n",
      "STs-SGSM_right\n",
      "SPoC_right\n",
      "STi-SOTlat_right\n",
      "FCLp-SGSM_left\n",
      "FCMpost-SpC_left\n",
      "SFint-FCMant_right\n",
      "SFmedian-SFpoltr-SFsup_left\n",
      "SPeC_right\n",
      "SFmarginal-SFinfant_left\n",
      "FIP_right\n",
      "FCLp-subsc-FCLa-INSULA_left\n",
      "STsbr_left\n",
      "SsP-SPaint_right\n",
      "embeddings\n",
      "ScCal-SLi_right\n",
      "Lobule_parietal_sup_right\n",
      "ORBITAL_left\n",
      "SFmarginal-SFinfant_right\n",
      "STi-SOTlat_left\n",
      "SFinter-SFsup_right\n",
      "STs_left\n",
      "FCMpost-SpC_right\n",
      "ORBITAL_right\n",
      "SC-SPoC_left\n"
     ]
    }
   ],
   "source": [
    "trained_regions = glob.glob(f\"{path_champollion}/*\")\n",
    "trained_regions = [f for f in trained_regions if not \"README.md\" in f]\n",
    "trained_regions = [os.path.basename(f) for f in trained_regions]\n",
    "print('\\n'.join(trained_regions))"
   ]
  },
  {
   "cell_type": "code",
   "execution_count": 31,
   "metadata": {},
   "outputs": [
    {
     "name": "stdout",
     "output_type": "stream",
     "text": [
      "SFint-FCMant_left\n",
      "SOr-SOlf_left\n",
      "CINGULATE_right\n",
      "SFint-FCMant_right\n",
      "SFinter-SFsup_left\n",
      "SFmedian-SFpoltr-SFsup_left\n",
      "SPoC_left\n",
      "SOr-SOlf_right\n",
      "SsP-SPaint_right\n",
      "STi-SOTlat_left\n",
      "ScCal-SLi_left\n",
      "STsbr_left\n",
      "SFint-SR_right\n",
      "SsP-SPaint_left\n",
      "STs_right\n",
      "STs_left\n",
      "SC-sylv_right\n",
      "fronto-parietal_medial_face_left\n",
      "FCLp-SGSM_right\n",
      "SOr_right\n",
      "FIP_right\n",
      "SC-SPeC_left\n",
      "FCLp-subsc-FCLa-INSULA_right\n",
      "Lobule_parietal_sup_left\n",
      "SOr_left\n",
      "FCMpost-SpC_right\n",
      "SFinf-BROCA-SPeCinf_left\n",
      "STsbr_right\n",
      "SC-SPoC_left\n",
      "FColl-SRh_left\n",
      "SC-sylv_left\n",
      "SFinter-SFsup_right\n",
      "STi-SOTlat_right\n",
      "FColl-SRh_right\n",
      "STi-STs-STpol_right\n",
      "Lobule_parietal_sup_right\n",
      "SC-SPoC_right\n",
      "FCLp-SGSM_left\n",
      "SC-SPeC_right\n",
      "FIP_left\n",
      "STi-STs-STpol_left\n",
      "STs-SGSM_left\n",
      "SFmarginal-SFinfant_left\n",
      "SPoC_right\n",
      "SPeC_right\n",
      "SFmarginal-SFinfant_right\n",
      "SFinf-BROCA-SPeCinf_right\n",
      "fronto-parietal_medial_face_right\n",
      "SPeC_left\n",
      "ScCal-SLi_right\n",
      "CINGULATE_left\n",
      "OCCIPITAL_left\n",
      "FCLp-subsc-FCLa-INSULA_left\n",
      "SFmedian-SFpoltr-SFsup_right\n",
      "STs-SGSM_right\n",
      "FPO-SCu-ScCal_right\n",
      "SFint-SR_left\n",
      "OCCIPITAL_right\n",
      "FPO-SCu-ScCal_left\n",
      "FCMpost-SpC_left\n"
     ]
    }
   ],
   "source": [
    "available_configs = glob.glob(f\"{path_configs}/*\")\n",
    "available_configs = [f for f in available_configs if not \"reference.yaml\" in f]\n",
    "available_configs = [os.path.basename(f).replace(\".yaml\", \"\") for f in available_configs]\n",
    "print('\\n'.join(available_configs))"
   ]
  },
  {
   "cell_type": "code",
   "execution_count": 32,
   "metadata": {},
   "outputs": [
    {
     "name": "stdout",
     "output_type": "stream",
     "text": [
      "2\n"
     ]
    }
   ],
   "source": [
    "to_train = set(available_configs) - set(trained_regions)\n",
    "print(len(to_train))\n",
    "to_train = [f\"with_reskel_distbottom/2mm/{dataset}/{i}\" for i in to_train]"
   ]
  },
  {
   "cell_type": "code",
   "execution_count": 33,
   "metadata": {},
   "outputs": [
    {
     "data": {
      "text/plain": [
       "'with_reskel_distbottom/2mm/UKB40/SOr_left,with_reskel_distbottom/2mm/UKB40/SOr_right'"
      ]
     },
     "execution_count": 33,
     "metadata": {},
     "output_type": "execute_result"
    }
   ],
   "source": [
    "','.join(to_train)"
   ]
  },
  {
   "cell_type": "code",
   "execution_count": 27,
   "metadata": {},
   "outputs": [
    {
     "data": {
      "text/plain": [
       "0"
      ]
     },
     "execution_count": 27,
     "metadata": {},
     "output_type": "execute_result"
    }
   ],
   "source": [
    "len(to_train)"
   ]
  },
  {
   "cell_type": "code",
   "execution_count": null,
   "metadata": {},
   "outputs": [],
   "source": []
  }
 ],
 "metadata": {
  "kernelspec": {
   "display_name": "venv",
   "language": "python",
   "name": "python3"
  },
  "language_info": {
   "codemirror_mode": {
    "name": "ipython",
    "version": 3
   },
   "file_extension": ".py",
   "mimetype": "text/x-python",
   "name": "python",
   "nbconvert_exporter": "python",
   "pygments_lexer": "ipython3",
   "version": "3.10.12"
  }
 },
 "nbformat": 4,
 "nbformat_minor": 2
}
